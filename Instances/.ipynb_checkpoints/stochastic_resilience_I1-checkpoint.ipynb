{
 "cells": [
  {
   "cell_type": "code",
   "execution_count": 116,
   "id": "promotional-copper",
   "metadata": {},
   "outputs": [],
   "source": [
    "import numpy as np\n",
    "import random\n",
    "from random import randint\n",
    "from gurobipy import *\n",
    "import pandas as pd\n",
    "from random import seed\n",
    "import sys\n",
    "sys.path.append('C:/Users/Devika Kabe/Documents/Model_brainstorming/Grid_Weights/')\n",
    "from two_weights import *\n",
    "import matplotlib.pyplot as plt\n",
    "import seaborn as sns\n",
    "import networkx as nx\n",
    "import matplotlib.patches as mpatches"
   ]
  },
  {
   "cell_type": "code",
   "execution_count": 117,
   "id": "paperback-atmosphere",
   "metadata": {},
   "outputs": [],
   "source": [
    "Manufacturing_plants = 2\n",
    "Distribution = 3\n",
    "Market = 1\n",
    "Products = 2\n",
    "Outsourced = 2\n",
    "epsilon = 600\n",
    "levels = 2"
   ]
  },
  {
   "cell_type": "code",
   "execution_count": 118,
   "id": "affected-employer",
   "metadata": {},
   "outputs": [],
   "source": [
    "# Scenario parameters\n",
    "a_si = list(itertools.product([1, 0], repeat = Manufacturing_plants))\n",
    "a_si = a_si[:-1] \n",
    "b_sj = list(itertools.product([1, 0], repeat = Distribution))\n",
    "b_sj = b_sj[:-1]"
   ]
  },
  {
   "cell_type": "code",
   "execution_count": 119,
   "id": "disciplinary-component",
   "metadata": {},
   "outputs": [],
   "source": [
    "Scenarios = [[x,y] for x in a_si for y in b_sj]"
   ]
  },
  {
   "cell_type": "code",
   "execution_count": 120,
   "id": "opened-exposure",
   "metadata": {},
   "outputs": [
    {
     "data": {
      "text/plain": [
       "[[(1, 1), (1, 1, 1)],\n",
       " [(1, 1), (1, 1, 0)],\n",
       " [(1, 1), (1, 0, 1)],\n",
       " [(1, 1), (1, 0, 0)],\n",
       " [(1, 1), (0, 1, 1)],\n",
       " [(1, 1), (0, 1, 0)],\n",
       " [(1, 1), (0, 0, 1)],\n",
       " [(1, 0), (1, 1, 1)],\n",
       " [(1, 0), (1, 1, 0)],\n",
       " [(1, 0), (1, 0, 1)],\n",
       " [(1, 0), (1, 0, 0)],\n",
       " [(1, 0), (0, 1, 1)],\n",
       " [(1, 0), (0, 1, 0)],\n",
       " [(1, 0), (0, 0, 1)],\n",
       " [(0, 1), (1, 1, 1)],\n",
       " [(0, 1), (1, 1, 0)],\n",
       " [(0, 1), (1, 0, 1)],\n",
       " [(0, 1), (1, 0, 0)],\n",
       " [(0, 1), (0, 1, 1)],\n",
       " [(0, 1), (0, 1, 0)],\n",
       " [(0, 1), (0, 0, 1)]]"
      ]
     },
     "execution_count": 120,
     "metadata": {},
     "output_type": "execute_result"
    }
   ],
   "source": [
    "Scenarios"
   ]
  },
  {
   "cell_type": "code",
   "execution_count": 121,
   "id": "decent-triple",
   "metadata": {},
   "outputs": [],
   "source": [
    "num_Scenarios = len(Scenarios)\n",
    "p_scen = 1/num_Scenarios"
   ]
  },
  {
   "cell_type": "code",
   "execution_count": 122,
   "id": "express-madness",
   "metadata": {},
   "outputs": [],
   "source": [
    "# Read input files\n",
    "path = \"C:/Users/Devika Kabe/Documents/Model_brainstorming/Input_Data/Instance_1/\"\n",
    "\n",
    "# Cost of Opening \n",
    "f_i = np.loadtxt(path + 'OpenMP_1.txt')\n",
    "f_j = np.loadtxt(path + 'OpenDC_1.txt')\n",
    "\n",
    "# Unit cost of Manufacturing\n",
    "Manufacturing_costs = np.loadtxt(path + 'Manufacturing_1.txt').reshape((Manufacturing_plants,Products))\n",
    "\n",
    "# Transportation Costs\n",
    "Transportation_i_j = np.loadtxt(path + 'TransMPDC_1.txt').reshape((Products, Manufacturing_plants, Distribution))\n",
    "Transportation_j_k = np.loadtxt(path + 'TransDCMZ_1.txt').reshape((Products, Distribution, Market))\n",
    "\n",
    "# Plant Capacities\n",
    "Capacities_i = np.loadtxt(path + 'CapacitiesMP_1.txt')\n",
    "Capacities_j = np.loadtxt(path + 'CapacitiesDC_1.txt')\n",
    "Capacities_l = np.loadtxt(path + 'CapacitiesOutsource_1.txt').reshape((Products, Outsourced))\n",
    "\n",
    "# Cost of purchasing from supplier\n",
    "Supplier_cost = np.loadtxt(path + 'SupplierCost_1.txt').reshape((levels, Products, Outsourced))\n",
    "\n",
    "# Cost of shipping from supplier\n",
    "T_O_DC = np.loadtxt(path + 'TransSupplierDC_1.txt').reshape((Products, Outsourced, Distribution))\n",
    "T_O_MZ = np.loadtxt(path + 'TransSupplierMZ_1.txt').reshape((Products, Outsourced, Market))\n",
    "\n",
    "# volume of product\n",
    "volume = np.loadtxt(path + 'Volume_1.txt').reshape((Products))\n",
    "\n",
    "# Unit cost of lost sales\n",
    "lost_sales = np.loadtxt(path + 'LostSales_1.txt').reshape((Market, Products))\n",
    "\n",
    "# demand\n",
    "demand = np.loadtxt(path + 'Demand_1.txt').reshape(num_Scenarios, Products, Market)\n",
    "s_Demand = sum(demand)"
   ]
  },
  {
   "cell_type": "code",
   "execution_count": 123,
   "id": "floating-growth",
   "metadata": {},
   "outputs": [
    {
     "data": {
      "text/plain": [
       "4045.5008722581724"
      ]
     },
     "execution_count": 123,
     "metadata": {},
     "output_type": "execute_result"
    }
   ],
   "source": [
    "(demand[0][0][0]*volume[0])"
   ]
  },
  {
   "cell_type": "code",
   "execution_count": 124,
   "id": "piano-confidence",
   "metadata": {},
   "outputs": [
    {
     "data": {
      "text/plain": [
       "array([[[2612.],\n",
       "        [2346.]],\n",
       "\n",
       "       [[2556.],\n",
       "        [2424.]],\n",
       "\n",
       "       [[2619.],\n",
       "        [2288.]],\n",
       "\n",
       "       [[2554.],\n",
       "        [2323.]],\n",
       "\n",
       "       [[2480.],\n",
       "        [2346.]],\n",
       "\n",
       "       [[2497.],\n",
       "        [2391.]],\n",
       "\n",
       "       [[2541.],\n",
       "        [2334.]],\n",
       "\n",
       "       [[2518.],\n",
       "        [2343.]],\n",
       "\n",
       "       [[2593.],\n",
       "        [2320.]],\n",
       "\n",
       "       [[2509.],\n",
       "        [2293.]],\n",
       "\n",
       "       [[2306.],\n",
       "        [2357.]],\n",
       "\n",
       "       [[2548.],\n",
       "        [2298.]],\n",
       "\n",
       "       [[2647.],\n",
       "        [2267.]],\n",
       "\n",
       "       [[2490.],\n",
       "        [2321.]],\n",
       "\n",
       "       [[2595.],\n",
       "        [2391.]],\n",
       "\n",
       "       [[2498.],\n",
       "        [2345.]],\n",
       "\n",
       "       [[2424.],\n",
       "        [2245.]],\n",
       "\n",
       "       [[2462.],\n",
       "        [2336.]],\n",
       "\n",
       "       [[2574.],\n",
       "        [2380.]],\n",
       "\n",
       "       [[2460.],\n",
       "        [2316.]],\n",
       "\n",
       "       [[2413.],\n",
       "        [2269.]]])"
      ]
     },
     "execution_count": 124,
     "metadata": {},
     "output_type": "execute_result"
    }
   ],
   "source": [
    "demand"
   ]
  },
  {
   "cell_type": "code",
   "execution_count": 125,
   "id": "quick-short",
   "metadata": {},
   "outputs": [
    {
     "data": {
      "text/plain": [
       "array([[672., 547.],\n",
       "       [617., 692.]])"
      ]
     },
     "execution_count": 125,
     "metadata": {},
     "output_type": "execute_result"
    }
   ],
   "source": [
    "Capacities_l"
   ]
  },
  {
   "cell_type": "code",
   "execution_count": 126,
   "id": "aging-national",
   "metadata": {},
   "outputs": [],
   "source": [
    "# Initialize model variables\n",
    "x_i = {} # opening manufacturing plant\n",
    "x_j = {} # opening DC\n",
    "U_km = {} # quantity lost sales\n",
    "V1_lm = {} # quantity products purchased from outsourcing before epsilon\n",
    "V2_lm = {} # quantity of products purchased from outsourcing after epsilon\n",
    "Q_im = {} # quantity produced\n",
    "Y_ijm = {} # shipping i -> j\n",
    "Z_jkm = {} # shipping j -> k\n",
    "T_ljm = {} # shipping l -> j\n",
    "T_lkm = {} # shipping l -> k\n",
    "\n",
    "# Dictionaries for analysis \n",
    "Cost_dict = {}\n",
    "Summary_dict = {}\n",
    "#recovered_demand = np.zeros((num_Scenarios, Products,Market))"
   ]
  },
  {
   "cell_type": "markdown",
   "id": "received-conservative",
   "metadata": {},
   "source": [
    "## Deterministic Model"
   ]
  },
  {
   "cell_type": "code",
   "execution_count": 127,
   "id": "characteristic-priority",
   "metadata": {},
   "outputs": [],
   "source": [
    "grbModel_det = Model('deterministic') # to obtain obj val of each scenario"
   ]
  },
  {
   "cell_type": "code",
   "execution_count": 128,
   "id": "built-conversion",
   "metadata": {},
   "outputs": [],
   "source": [
    "def SetGurobiModel(scen):\n",
    "    \n",
    "    for i in range(Manufacturing_plants):\n",
    "        x_i[i] = grbModel_det.addVar(vtype = GRB.BINARY)\n",
    "    \n",
    "    for j in range(Distribution):\n",
    "        x_j[j] = grbModel_det.addVar(vtype = GRB.BINARY)\n",
    "    \n",
    "    for k in range(Market):\n",
    "        for m in range(Products):\n",
    "            U_km[k,m] = grbModel_det.addVar(vtype = GRB.CONTINUOUS)\n",
    "        \n",
    "    for m in range(Products):\n",
    "        for l in range(Outsourced):\n",
    "            V1_lm[m,l] = grbModel_det.addVar(vtype = GRB.CONTINUOUS)\n",
    "            \n",
    "    for m in range(Products):\n",
    "        for l in range(Outsourced):\n",
    "            V2_lm[m,l] = grbModel_det.addVar(vtype = GRB.CONTINUOUS)    \n",
    "    \n",
    "    for m in range(Products):\n",
    "        for i in range(Manufacturing_plants):\n",
    "            Q_im[m,i] = grbModel_det.addVar(vtype = GRB.CONTINUOUS)\n",
    "            \n",
    "    for m in range(Products):\n",
    "        for i in range(Manufacturing_plants):\n",
    "            for j in range(Distribution):\n",
    "                Y_ijm[m,i,j] = grbModel_det.addVar(vtype = GRB.CONTINUOUS)                \n",
    "    \n",
    "    for m in range(Products):\n",
    "        for j in range(Distribution):\n",
    "            for k in range(Market): \n",
    "                Z_jkm[m,j,k] = grbModel_det.addVar(vtype = GRB.CONTINUOUS)                \n",
    "    \n",
    "    for m in range(Products):\n",
    "        for l in range(Outsourced):\n",
    "            for j in range(Distribution):\n",
    "                T_ljm[m,l,j] = grbModel_det.addVar(vtype = GRB.CONTINUOUS)      \n",
    "    \n",
    "    for m in range(Products):\n",
    "        for l in range(Outsourced):\n",
    "            for k in range(Market):\n",
    "                T_lkm[m,l,k] = grbModel_det.addVar(vtype = GRB.CONTINUOUS)             \n",
    "                 \n",
    "    SetGrb_Obj()\n",
    "    ModelCons(scen)\n"
   ]
  },
  {
   "cell_type": "code",
   "execution_count": 129,
   "id": "australian-mongolia",
   "metadata": {},
   "outputs": [],
   "source": [
    "def SolveModel(scen):\n",
    "    \n",
    "    grbModel_det.params.OutputFlag = 0\n",
    "    grbModel_det.optimize()\n",
    "    \n",
    "    # get variable values \n",
    "    v_val_x_i = grbModel_det.getAttr('x', x_i)\n",
    "    v_val_x_j = grbModel_det.getAttr('x', x_j)\n",
    "    v_val_U_km = grbModel_det.getAttr('x', U_km)\n",
    "    v_val_V1_lm = grbModel_det.getAttr('x', V1_lm)\n",
    "    v_val_V2_lm = grbModel_det.getAttr('x', V2_lm)\n",
    "    v_val_Q_im = grbModel_det.getAttr('x', Q_im)\n",
    "    v_val_Y_ijm = grbModel_det.getAttr('x', Y_ijm)\n",
    "    v_val_Z_jkm = grbModel_det.getAttr('x', Z_jkm)\n",
    "    v_val_T_ljm = grbModel_det.getAttr('x', T_ljm)\n",
    "    v_val_T_lkm = grbModel_det.getAttr('x', T_lkm)\n",
    "    \n",
    "    obj = grbModel_det.getObjective()\n",
    "        \n",
    "    return\n"
   ]
  },
  {
   "cell_type": "code",
   "execution_count": 130,
   "id": "reported-warning",
   "metadata": {},
   "outputs": [],
   "source": [
    "# Objective\n",
    "\n",
    "def SetGrb_Obj():\n",
    "\n",
    "    grb_expr = LinExpr()\n",
    "\n",
    "    # Cost of opening\n",
    "    OC_1 = 0\n",
    "    OC_2 = 0\n",
    "    for i in range(Manufacturing_plants):\n",
    "        OC_1 += f_i[i]*x_i[i]\n",
    "    for j in range(Distribution):\n",
    "        OC_2 += f_j[j]*x_j[j]    \n",
    "        \n",
    "    # Shipment \n",
    "    ship_1 = 0\n",
    "    ship_2 = 0\n",
    "    ship_3 = 0\n",
    "    ship_4 = 0\n",
    "    \n",
    "    for i in range(Manufacturing_plants):\n",
    "        for j in range(Distribution):\n",
    "            for m in range(Products):\n",
    "                ship_1 += Transportation_i_j[m][i][j]*Y_ijm[m,i,j]\n",
    "\n",
    "    for j in range(Distribution):\n",
    "        for k in range(Market):\n",
    "            for m in range(Products):\n",
    "                ship_2 += Transportation_j_k[m][j][k]*Z_jkm[m,j,k]\n",
    "\n",
    "    for l in range(Outsourced):\n",
    "        for j in range(Distribution):\n",
    "            for m in range(Products):\n",
    "                ship_3 += T_O_DC[m][l][j]*T_ljm[m,l,j]\n",
    "\n",
    "    for l in range(Outsourced):\n",
    "        for k in range(Market):\n",
    "            for m in range(Products):\n",
    "                ship_4 += T_O_MZ[m][l][k]*T_lkm[m,l,k]\n",
    "                    \n",
    "    total_shipment = ship_1 + ship_2 + ship_3 + ship_4\n",
    "\n",
    "    # Production\n",
    "    pr_cost = 0\n",
    "    for i in range(Manufacturing_plants):\n",
    "        for m in range(Products):\n",
    "            pr_cost += Manufacturing_costs[i][m]*Q_im[m,i]                \n",
    "\n",
    "    # Buying from outsource cost\n",
    "    b_cost = 0\n",
    "    for l in range(Outsourced):\n",
    "        for m in range(Products):\n",
    "            b_cost += Supplier_cost[0][m][l]*V1_lm[m,l] + Supplier_cost[1][m][l]*V2_lm[m,l]\n",
    "\n",
    "    #Lost Sales\n",
    "    l_cost = 0\n",
    "    for k in range(Market):\n",
    "        for m in range(Products):\n",
    "            l_cost += lost_sales[k][m]*U_km[k,m]                \n",
    "\n",
    "    grb_expr += OC_1 + OC_2 + total_shipment + pr_cost + b_cost + l_cost\n",
    "    \n",
    "    grbModel_det.setObjective(grb_expr, GRB.MINIMIZE)\n",
    "    \n",
    "    return "
   ]
  },
  {
   "cell_type": "code",
   "execution_count": 131,
   "id": "printable-cassette",
   "metadata": {},
   "outputs": [],
   "source": [
    "# Model Constraints\n",
    "\n",
    "def ModelCons(scen):\n",
    "    \n",
    "    # Network Flow\n",
    "\n",
    "    grbModel_det.addConstrs(Q_im[m,i] >= quicksum(Y_ijm[m,i,j] for j in range(Distribution)) \n",
    "                         for i in range(Manufacturing_plants) for m in range(Products))\n",
    "\n",
    "    grbModel_det.addConstrs((quicksum(Y_ijm[m,i,j] for i in range(Manufacturing_plants)) +\n",
    "                         quicksum(T_ljm[m,l,j] for l in range(Outsourced))) >= quicksum(Z_jkm[m,j,k] for k in range(Market))                        \n",
    "                        for j in range(Distribution) for m in range(Products))\n",
    "\n",
    "    grbModel_det.addConstrs((quicksum(Z_jkm[m,j,k] for j in range(Distribution)) +\n",
    "                         quicksum(T_lkm[m,l,k] for l in range(Outsourced)) + U_km[k,m]) >= demand[s][m][k]\n",
    "                         for k in range(Market) for m in range(Products))  \n",
    "        \n",
    "                    \n",
    "    # Purchasing Constraints (everything purchased from outsourced facilities must be shipped)\n",
    "    grbModel_det.addConstrs(V1_lm[m,l] + V2_lm[m,l] >= quicksum(T_ljm[m,l,j] for j in range(Distribution)) + \n",
    "                        quicksum(T_lkm[m,l,k] for k in range(Market))  \n",
    "                        for m in range(Products) for l in range(Outsourced))\n",
    "    \n",
    "    \n",
    "    # Capacity Constraints\n",
    "    grbModel_det.addConstrs(quicksum(volume[m]*Q_im[m,i] for m in range(Products)) <= Scenarios[scen][0][i]*Capacities_i[i]*x_i[i] \n",
    "                         for i in range(Manufacturing_plants))\n",
    "    \n",
    "    grbModel_det.addConstrs(quicksum(volume[m]*Y_ijm[m,i,j] for i in range(Manufacturing_plants) for m in range(Products)) +\n",
    "                        quicksum(volume[m]*T_ljm[m,l,j] for l in range(Outsourced) for m in range(Products)) <= \n",
    "                        Scenarios[scen][1][j]*Capacities_j[j]*x_j[j]  \n",
    "                        for j in range(Distribution))\n",
    "    \n",
    "    grbModel_det.addConstrs(V1_lm[m,l] + V2_lm[m,l]<= Capacities_l[m][l] \n",
    "                        for l in range(Outsourced) for m in range(Products))\n",
    "    \n",
    "    \n",
    "    # Indicator variable constraints for step function \n",
    "    grbModel_det.addConstrs(V1_lm[m,l] <= epsilon \n",
    "                               for m in range(Products) for l in range(Outsourced))\n",
    "    \n",
    "    return"
   ]
  },
  {
   "cell_type": "code",
   "execution_count": 132,
   "id": "oriented-tribe",
   "metadata": {},
   "outputs": [],
   "source": [
    "def run_Model(scen):    \n",
    "        \n",
    "    SetGurobiModel(scen)\n",
    "    SolveModel(scen)"
   ]
  },
  {
   "cell_type": "code",
   "execution_count": 133,
   "id": "according-heating",
   "metadata": {},
   "outputs": [],
   "source": [
    "scen_objs = []"
   ]
  },
  {
   "cell_type": "code",
   "execution_count": 134,
   "id": "dying-mechanics",
   "metadata": {},
   "outputs": [],
   "source": [
    "for s in range(num_Scenarios):\n",
    "    x_i = {} # opening manufacturing plant\n",
    "    x_j = {} # opening DC\n",
    "    U_km = {} # quantity lost sales\n",
    "    V1_lm = {} # quantity products purchased from outsourcing\n",
    "    V2_lm = {} \n",
    "    Q_im = {} # quantity produced\n",
    "    Y_ijm = {} # shipping i -> j\n",
    "    Z_jkm = {} # shipping j -> k\n",
    "    T_ljm = {} # shipping l -> j\n",
    "    T_lkm = {} # shipping l -> k\n",
    "    run_Model(s)\n",
    "    scen_objs += [np.round(grbModel_det.objval,2)]"
   ]
  },
  {
   "cell_type": "code",
   "execution_count": 135,
   "id": "sporting-background",
   "metadata": {},
   "outputs": [],
   "source": [
    "penalty_weights = [scen_objs[0]/scen_objs[i] for i in range(num_Scenarios)]"
   ]
  },
  {
   "cell_type": "code",
   "execution_count": 136,
   "id": "stopped-process",
   "metadata": {},
   "outputs": [],
   "source": [
    "penalty_weights = [500]*num_Scenarios"
   ]
  },
  {
   "cell_type": "code",
   "execution_count": 137,
   "id": "private-glucose",
   "metadata": {},
   "outputs": [
    {
     "data": {
      "text/plain": [
       "array([ 7500., 12500.])"
      ]
     },
     "execution_count": 137,
     "metadata": {},
     "output_type": "execute_result"
    }
   ],
   "source": [
    "f_i"
   ]
  },
  {
   "cell_type": "markdown",
   "id": "excellent-excess",
   "metadata": {},
   "source": [
    "## Stochastic Model"
   ]
  },
  {
   "cell_type": "code",
   "execution_count": 138,
   "id": "surgical-context",
   "metadata": {},
   "outputs": [],
   "source": [
    "# Initialize model variables\n",
    "x_i = {} # opening manufacturing plant\n",
    "x_j = {} # opening DC\n",
    "U_km = {} # quantity lost sales\n",
    "V1_lm = {} # quantity products purchased from outsourcing below epsilon threshold\n",
    "V2_lm = {} # quantity products purchased from outsourcing in excess of epsilon threshold \n",
    "Q_im = {} # quantity produced\n",
    "Y_ijm = {} # shipping i -> j\n",
    "Z_jkm = {} # shipping j -> k\n",
    "T_ljm = {} # shipping l -> j\n",
    "T_lkm = {} # shipping l -> k\n",
    "delta_s = {} # penalty for p-robust\n",
    "w_s = {} # penalty for not meeting demand above specified rate\n",
    "\n",
    "# Dictionaries for analysis \n",
    "Cost_dict = {}\n",
    "Summary_dict = {}\n",
    "\n",
    "# Dictionary to weigh different objectives \n",
    "objWeights = {} \n",
    "\n",
    "# Dictionary to save values of each objectives\n",
    "dic_grbOut = {}"
   ]
  },
  {
   "cell_type": "code",
   "execution_count": 139,
   "id": "knowing-dispute",
   "metadata": {},
   "outputs": [],
   "source": [
    "grbModel = Model('stochastic')"
   ]
  },
  {
   "cell_type": "code",
   "execution_count": 140,
   "id": "announced-filling",
   "metadata": {},
   "outputs": [],
   "source": [
    "def SetGurobiModel(p, rl):\n",
    "    \n",
    "    for i in range(Manufacturing_plants):\n",
    "        x_i[i] = grbModel.addVar(vtype = GRB.BINARY)\n",
    "    \n",
    "    for j in range(Distribution):\n",
    "        x_j[j] = grbModel.addVar(vtype = GRB.BINARY)\n",
    "    \n",
    "    for s in range(num_Scenarios):\n",
    "        for k in range(Market):\n",
    "            for m in range(Products):\n",
    "                U_km[s,k,m] = grbModel.addVar(vtype = GRB.CONTINUOUS)\n",
    "        \n",
    "    for s in range(num_Scenarios):\n",
    "        for m in range(Products):\n",
    "            for l in range(Outsourced):\n",
    "                V1_lm[s,m,l] = grbModel.addVar(vtype = GRB.CONTINUOUS)\n",
    "                \n",
    "    for s in range(num_Scenarios):\n",
    "        for m in range(Products):\n",
    "            for l in range(Outsourced):\n",
    "                V2_lm[s,m,l] = grbModel.addVar(vtype = GRB.CONTINUOUS)\n",
    "    \n",
    "    for s in range(num_Scenarios):\n",
    "        for m in range(Products):\n",
    "            for i in range(Manufacturing_plants):\n",
    "                Q_im[s,m,i] = grbModel.addVar(vtype = GRB.CONTINUOUS)\n",
    "            \n",
    "    for s in range(num_Scenarios):  \n",
    "        for m in range(Products):\n",
    "            for i in range(Manufacturing_plants):\n",
    "                for j in range(Distribution):\n",
    "                    Y_ijm[s,m,i,j] = grbModel.addVar(vtype = GRB.CONTINUOUS)                \n",
    "    \n",
    "    for s in range(num_Scenarios):\n",
    "        for m in range(Products):\n",
    "            for j in range(Distribution):\n",
    "                for k in range(Market): \n",
    "                    Z_jkm[s,m,j,k] = grbModel.addVar(vtype = GRB.CONTINUOUS)                \n",
    "    \n",
    "    for s in range(num_Scenarios):\n",
    "        for m in range(Products):\n",
    "            for l in range(Outsourced):\n",
    "                for j in range(Distribution):\n",
    "                    T_ljm[s,m,l,j] = grbModel.addVar(vtype = GRB.CONTINUOUS)      \n",
    "    \n",
    "    for s in range(num_Scenarios):\n",
    "        for m in range(Products):\n",
    "            for l in range(Outsourced):\n",
    "                for k in range(Market):\n",
    "                    T_lkm[s,m,l,k] = grbModel.addVar(vtype = GRB.CONTINUOUS)               \n",
    "                  \n",
    "    for s in range(num_Scenarios):\n",
    "        delta_s[s] = grbModel.addVar(vtype = GRB.CONTINUOUS)\n",
    "        \n",
    "    for s in range(num_Scenarios):\n",
    "        for k in range(Market):\n",
    "            for m in range(Products):\n",
    "                w_s[s,k,m] = grbModel.addVar(vtype = GRB.CONTINUOUS)\n",
    "                \n",
    "    SetGrb_Obj()\n",
    "    ModelCons(p, rl)"
   ]
  },
  {
   "cell_type": "code",
   "execution_count": 141,
   "id": "comprehensive-aggregate",
   "metadata": {},
   "outputs": [],
   "source": [
    "def SolveModel():\n",
    "    \n",
    "    grbModel.params.OutputFlag = 0\n",
    "    grbModel.optimize()\n",
    "    \n",
    "    # get variable values \n",
    "    v_val_x_i = grbModel.getAttr('x', x_i)\n",
    "    v_val_x_j = grbModel.getAttr('x', x_j)\n",
    "    v_val_U_km = grbModel.getAttr('x', U_km)\n",
    "    v_val_V1_lm = grbModel.getAttr('x', V1_lm)\n",
    "    v_val_V2_lm = grbModel.getAttr('x', V2_lm)\n",
    "    v_val_Q_im = grbModel.getAttr('x', Q_im)\n",
    "    v_val_Y_ijm = grbModel.getAttr('x', Y_ijm)\n",
    "    v_val_Z_jkm = grbModel.getAttr('x', Z_jkm)\n",
    "    v_val_T_ljm = grbModel.getAttr('x', T_ljm)\n",
    "    v_val_T_lkm = grbModel.getAttr('x', T_lkm)\n",
    "    v_val_delta_s = grbModel.getAttr('x', delta_s)\n",
    "    v_val_w = grbModel.getAttr('x', w_s)\n",
    "    \n",
    "    obj = grbModel.getObjective()\n",
    "    print(\"obj val: \", obj.getValue())   \n",
    "    \n",
    "    Summary_dict['ObjVal'] = grbModel.objval\n",
    "    Summary_dict[\"OpenMPs\"] = np.sum(v_val_x_i.values())\n",
    "    Summary_dict[\"OpenDCs\"] = np.sum(v_val_x_j.values())\n",
    "    Cost_dict[\"Opening\"] =  get_opening_costs(v_val_x_i, v_val_x_j)\n",
    "    Cost_dict[\"pr_Penalties\"] = np.round(p_scen*get_pr_penalty_costs(v_val_delta_s), 2)\n",
    "    Cost_dict[\"f2\"] = np.round(p_scen*get_rl_rate(v_val_w))\n",
    "    \n",
    "    for s in range(num_Scenarios):        \n",
    "        Summary_dict[\"Purchasing_\" + str(s)] = sum([v_val_V1_lm[(s,m,l)] +  v_val_V2_lm[(s,m,l)] for m in range(Products) for l in range(Outsourced)])    \n",
    "        Summary_dict[\"Production_\" + str(s)] = sum([v_val_Q_im[(s,m,i)] for m in range(Products) for i in range(Manufacturing_plants)])\n",
    "        Summary_dict[\"LostSales_\" + str(s)] = sum([v_val_U_km[(s,k,m)] for m in range(Products) for k in range(Market)])\n",
    "        Summary_dict[\"OutsourceToDC_\" + str(s)] = sum([v_val_T_ljm[(s,m,l,j)] for m in range(Products) for l in range(Outsourced) for j in range(Distribution)])\n",
    "        Summary_dict[\"OutsourceToMarket_\" + str(s)] = sum([v_val_T_lkm[(s,m,l,k)] for m in range(Products) for l in range(Outsourced) for k in range(Market)])        \n",
    "        \n",
    "    for s in range(num_Scenarios):\n",
    "        Cost_dict[\"InHouseShipping_\" + str(s)] = get_shipping_costs(s,v_val_Y_ijm, v_val_Z_jkm, v_val_T_ljm, v_val_T_lkm)[0]\n",
    "        Cost_dict[\"OutsourceShipping_\" + str(s)] = get_shipping_costs(s,v_val_Y_ijm, v_val_Z_jkm, v_val_T_ljm, v_val_T_lkm)[1]\n",
    "        Cost_dict[\"Production_\" + str(s)] = get_production_cost(s,v_val_Q_im)\n",
    "        Cost_dict[\"Purchasing_\" + str(s)] = get_purchase_costs(s,v_val_V1_lm, v_val_V2_lm)\n",
    "        Cost_dict[\"LostSales_\" + str(s)] = get_lost_cost(s,v_val_U_km)\n",
    "    \n",
    "    Purchasing_cost = np.sum([Cost_dict['Purchasing_' + str(s)] for s in range(num_Scenarios)])\n",
    "    Production_cost = np.sum([Cost_dict['Production_' + str(s)] for s in range(num_Scenarios)])\n",
    "    LostSales_cost = np.sum([Cost_dict['LostSales_' + str(s)] for s in range(num_Scenarios)])\n",
    "    InHouseShipping = np.sum([Cost_dict['InHouseShipping_' + str(s)] for s in range(num_Scenarios)])\n",
    "    OutsourceShipping = np.sum([Cost_dict['OutsourceShipping_' + str(s)] for s in range(num_Scenarios)])\n",
    "    \n",
    "    Cost_dict[\"f1\"] = np.round(Cost_dict[\"Opening\"] + p_scen*(Purchasing_cost + Production_cost + LostSales_cost + InHouseShipping + OutsourceShipping), 2)\n",
    "\n",
    "    return"
   ]
  },
  {
   "cell_type": "code",
   "execution_count": 142,
   "id": "original-miniature",
   "metadata": {},
   "outputs": [],
   "source": [
    "# Objective\n",
    "\n",
    "def SetGrb_Obj():\n",
    "\n",
    "    grb_expr = LinExpr()\n",
    "\n",
    "    # Cost of opening\n",
    "    OC_1 = 0\n",
    "    OC_2 = 0\n",
    "    for i in range(Manufacturing_plants):\n",
    "        OC_1 += f_i[i]*x_i[i]\n",
    "    for j in range(Distribution):\n",
    "        OC_2 += f_j[j]*x_j[j]       \n",
    "    \n",
    "    total_shipment = 0    \n",
    "    total_pr_cost = 0\n",
    "    total_b_cost = 0\n",
    "    total_l_cost = 0\n",
    "    \n",
    "    # Shipment \n",
    "\n",
    "    for s in range(num_Scenarios):\n",
    "        ship_1 = 0\n",
    "        ship_2 = 0\n",
    "        ship_3 = 0\n",
    "        ship_4 = 0\n",
    "        for i in range(Manufacturing_plants):\n",
    "            for j in range(Distribution):\n",
    "                for m in range(Products):\n",
    "                    ship_1 += Transportation_i_j[m][i][j]*Y_ijm[s,m,i,j]\n",
    "\n",
    "        for j in range(Distribution):\n",
    "            for k in range(Market):\n",
    "                for m in range(Products):\n",
    "                    ship_2 += Transportation_j_k[m][j][k]*Z_jkm[s,m,j,k]\n",
    "\n",
    "        for l in range(Outsourced):\n",
    "            for j in range(Distribution):\n",
    "                for m in range(Products):\n",
    "                    ship_3 += T_O_DC[m][l][j]*T_ljm[s,m,l,j]\n",
    "\n",
    "        for l in range(Outsourced):\n",
    "            for k in range(Market):\n",
    "                for m in range(Products):\n",
    "                    ship_4 += T_O_MZ[m][l][k]*T_lkm[s,m,l,k]\n",
    "                    \n",
    "        total_shipment += ship_1 + ship_2 + ship_3 + ship_4\n",
    "\n",
    "        # Production\n",
    "        pr_cost = 0\n",
    "        for i in range(Manufacturing_plants):\n",
    "            for m in range(Products):\n",
    "                pr_cost += Manufacturing_costs[i][m]*Q_im[s,m,i]\n",
    "                \n",
    "        total_pr_cost += pr_cost\n",
    "\n",
    "        # Buying from outsource cost\n",
    "        b_cost = 0\n",
    "        for l in range(Outsourced):\n",
    "            for m in range(Products):\n",
    "                b_cost += Supplier_cost[0][m][l]*V1_lm[s,m,l] + Supplier_cost[1][m][l]*V2_lm[s,m,l]\n",
    "                \n",
    "        total_b_cost += b_cost\n",
    "\n",
    "        #Lost Sales\n",
    "        l_cost = 0\n",
    "        for k in range(Market):\n",
    "            for m in range(Products):\n",
    "                l_cost += lost_sales[k][m]*U_km[s,k,m]\n",
    "                \n",
    "        total_l_cost += l_cost   \n",
    "\n",
    "    # Penalties\n",
    "    p_robust_penalties = 0\n",
    "    for s in range(num_Scenarios):\n",
    "        p_robust_penalties += penalty_weights[s]*delta_s[s]    \n",
    "        \n",
    "    \n",
    "    # Percentage of demand met\n",
    "    rl_penalty = 0\n",
    "    for s in range(num_Scenarios):\n",
    "        for k in range(Market):\n",
    "            for m in range(Products):\n",
    "                rl_penalty += lost_sales[k][m]*w_s[s,k,m]*demand[s][m][k]       \n",
    "    \n",
    "    grb_expr += objWeights['f1']*(OC_1 + OC_2 + p_scen*(total_shipment + total_pr_cost + total_b_cost + total_l_cost)) + \\\n",
    "  p_scen*p_robust_penalties + objWeights['f2']*p_scen*rl_penalty\n",
    "\n",
    "    \n",
    "    grbModel.setObjective(grb_expr, GRB.MINIMIZE)\n",
    "    \n",
    "    return \n"
   ]
  },
  {
   "cell_type": "code",
   "execution_count": 143,
   "id": "flexible-uruguay",
   "metadata": {},
   "outputs": [],
   "source": [
    "# Model Constraints\n",
    "\n",
    "def ModelCons(p, rl):\n",
    "    \n",
    "    # Network Flow\n",
    "\n",
    "    grbModel.addConstrs(Q_im[s,m,i] >= quicksum(Y_ijm[s,m,i,j] for j in range(Distribution)) \n",
    "                         for s in range(num_Scenarios) for i in range(Manufacturing_plants) for m in range(Products))\n",
    "\n",
    "    grbModel.addConstrs((quicksum(Y_ijm[s,m,i,j] for i in range(Manufacturing_plants)) +\n",
    "                         quicksum(T_ljm[s,m,l,j] for l in range(Outsourced))) >= quicksum(Z_jkm[s,m,j,k] for k in range(Market))                        \n",
    "                        for s in range(num_Scenarios) for j in range(Distribution) for m in range(Products))\n",
    "    \n",
    "    grbModel.addConstrs(quicksum(Z_jkm[s,m,j,k] for j in range(Distribution)) + \n",
    "                        quicksum(T_lkm[s,m,l,k] for l in range(Outsourced)) + \n",
    "                        U_km[s,k,m] >= demand[s][m][k] for s in range(num_Scenarios) for m in range(Products)\n",
    "                        for k in range(Market))\n",
    "          \n",
    "                    \n",
    "    # Purchasing Constraints (everything purchased from outsourced facilities must be shipped)\n",
    "    grbModel.addConstrs(V1_lm[s,m,l] + V2_lm[s,m,l] >= quicksum(T_ljm[s,m,l,j] for j in range(Distribution)) + \n",
    "                        quicksum(T_lkm[s,m,l,k] for k in range(Market)) for s in range(num_Scenarios) \n",
    "                        for m in range(Products) for l in range(Outsourced))    \n",
    "        \n",
    "    # Capacity Constraints\n",
    "    grbModel.addConstrs(quicksum(volume[m]*Q_im[s,m,i] for m in range(Products)) <= Scenarios[s][0][i]*Capacities_i[i]*x_i[i] \n",
    "                        for s in range(num_Scenarios) for i in range(Manufacturing_plants))\n",
    "    \n",
    "    grbModel.addConstrs(quicksum(volume[m]*Y_ijm[s,m,i,j] for i in range(Manufacturing_plants) for m in range(Products)) +\n",
    "                        quicksum(volume[m]*T_ljm[s,m,l,j] for l in range(Outsourced) for m in range(Products)) <= \n",
    "                        Scenarios[s][1][j]*Capacities_j[j]*x_j[j] for s in range(num_Scenarios) for s in range(num_Scenarios)\n",
    "                        for j in range(Distribution))\n",
    "    \n",
    "    grbModel.addConstrs((V1_lm[s,m,l] + V2_lm[s,m,l] <= (Capacities_l[m][l])) for s in range(num_Scenarios)\n",
    "                        for l in range(Outsourced) for m in range(Products))\n",
    "    \n",
    "    \n",
    "    # Indicator variable constraints for step function (25 is arbitrary)\n",
    "    grbModel.addConstrs(V1_lm[s,m,l] <= epsilon for s in range(num_Scenarios) for m in range(Products) for l in range(Outsourced))   \n",
    "    \n",
    "    \n",
    "    #Demand Metric (w = % of rl being missed)\n",
    "    grbModel.addConstrs(w_s[s,k,m] >= rl - (1 - U_km[s,k,m]/demand[s][m][k]) for s in range(num_Scenarios) for k in range(Market) for m in range(Products))  \n",
    "\n",
    "    \n",
    "    #P-robust metric    \n",
    "    grbModel.addConstrs(quicksum(f_i[i]*x_i[i] for i in range(Manufacturing_plants))\n",
    "                        + quicksum(f_j[j]*x_j[j] for j in range(Distribution))\n",
    "                        + quicksum(Transportation_i_j[m][i][j]*Y_ijm[s,m,i,j] for i in range(Manufacturing_plants) \n",
    "                                  for j in range(Distribution) for m in range(Products))\n",
    "                        + quicksum(Transportation_j_k[m][j][k]*Z_jkm[s,m,j,k] for j in range(Distribution)\n",
    "                                   for k in range(Market) for m in range(Products))\n",
    "                        + quicksum(T_O_DC[m][l][j]*T_ljm[s,m,l,j] for l in range(Outsourced) for j in range(Distribution)\n",
    "                                   for m in range(Products))\n",
    "                        + quicksum(T_O_MZ[m][l][k]*T_lkm[s,m,l,k] for l in range(Outsourced) for k in range(Market)\n",
    "                                   for m in range(Products))\n",
    "                        + quicksum(Manufacturing_costs[i][m]*Q_im[s,m,i] for i in range(Manufacturing_plants) \n",
    "                                   for m in range(Products))\n",
    "                        + quicksum(Supplier_cost[0][m][l]*V1_lm[s,m,l] + Supplier_cost[1][m][l]*V2_lm[s,m,l]\n",
    "                                   for l in range(Outsourced) for m in range(Products))\n",
    "                        + quicksum(lost_sales[k][m]*U_km[s,k,m] for k in range(Market) for m in range(Products)) - delta_s[s]\n",
    "                        \n",
    "                        <= (1 + p)*scen_objs[s] for s in range(num_Scenarios))                                 \n",
    "                                                                    \n",
    "    \n",
    "    return   \n"
   ]
  },
  {
   "cell_type": "code",
   "execution_count": 144,
   "id": "continuing-waters",
   "metadata": {},
   "outputs": [],
   "source": [
    "def get_opening_costs(x1, x2):\n",
    "    \n",
    "    # Cost of opening\n",
    "    OC_1 = 0\n",
    "    OC_2 = 0\n",
    "    for i in range(Manufacturing_plants):\n",
    "        OC_1 += f_i[i]*x1[i]\n",
    "    for j in range(Distribution):\n",
    "        OC_2 += f_j[j]*x2[j]\n",
    "\n",
    "    Opening = np.round(OC_1 + OC_2)\n",
    "    \n",
    "    return(Opening)\n",
    "   \n",
    "def get_shipping_costs(scen, Y, Z, T1, T2):\n",
    "    ship_1 = 0\n",
    "    ship_2 = 0\n",
    "    ship_3 = 0\n",
    "    ship_4 = 0\n",
    "\n",
    "    # Shipment\n",
    "    for i in range(Manufacturing_plants):\n",
    "        for j in range(Distribution):\n",
    "            for m in range(Products):\n",
    "                ship_1 += Transportation_i_j[m][i][j]*Y[scen, m,i,j]\n",
    "\n",
    "    for j in range(Distribution):\n",
    "        for k in range(Market):\n",
    "            for m in range(Products):\n",
    "                ship_2 += Transportation_j_k[m][j][k]*Z[scen,m,j,k]\n",
    "\n",
    "    for l in range(Outsourced):\n",
    "        for j in range(Distribution):\n",
    "            for m in range(Products):\n",
    "                ship_3 += T_O_DC[m][l][j]*T1[scen,m,l,j]\n",
    "\n",
    "    for l in range(Outsourced):\n",
    "        for k in range(Market):\n",
    "            for m in range(Products):\n",
    "                ship_4 += T_O_MZ[m][l][k]*T2[scen,m,l,k]\n",
    "    \n",
    "    in_house_shipping = np.round(ship_1 + ship_2)\n",
    "\n",
    "    outsourced_shipping = np.round(ship_3 + ship_4)\n",
    "    \n",
    "    return(in_house_shipping, outsourced_shipping)\n",
    "\n",
    "def get_production_cost(scen, Q):\n",
    "\n",
    "    # Production\n",
    "    pr_cost = 0\n",
    "    for i in range(Manufacturing_plants):\n",
    "        for m in range(Products):\n",
    "            pr_cost += Manufacturing_costs[i][m]*Q[scen,m,i]\n",
    "            \n",
    "    return(np.round(pr_cost))\n",
    "\n",
    "def get_purchase_costs(scen, V1, V2):    \n",
    "\n",
    "    # Buying from outsource cost\n",
    "    b_cost = 0\n",
    "    for l in range(Outsourced):\n",
    "        for m in range(Products):\n",
    "            b_cost += Supplier_cost[0][m][l]*V1[scen,m,l] + Supplier_cost[1][m][l]*V2[scen,m,l]     \n",
    "\n",
    "    return(np.round(b_cost))\n",
    "\n",
    "def get_lost_cost(scen,U):\n",
    "    \n",
    "    #Lost Sales\n",
    "    l_cost = 0\n",
    "    for k in range(Market):\n",
    "        for m in range(Products):\n",
    "            l_cost += lost_sales[k][m]*U[scen,k,m]\n",
    "            \n",
    "    return(np.round(l_cost))\n",
    "\n",
    "def get_pr_penalty_costs(delta):\n",
    "    penalties = 0\n",
    "    for s in range(num_Scenarios):\n",
    "        penalties += penalty_weights[s]*delta[s]\n",
    "    return(penalties)\n",
    "\n",
    "def get_rl_rate(w):\n",
    "    rl_penalty = 0\n",
    "    for s in range(num_Scenarios):\n",
    "        for k in range(Market):\n",
    "            for m in range(Products):\n",
    "                rl_penalty += lost_sales[k][m]*w[s,k,m]*demand[s][m][k]    \n",
    "    \n",
    "    return(rl_penalty)"
   ]
  },
  {
   "cell_type": "code",
   "execution_count": 145,
   "id": "european-supplier",
   "metadata": {},
   "outputs": [],
   "source": [
    "def run_Model(p, rl, objDict):\n",
    "    for key, value in objDict.items():\n",
    "        objWeights[key] = value\n",
    "        \n",
    "    SetGurobiModel(p, rl)\n",
    "    SolveModel()"
   ]
  },
  {
   "cell_type": "code",
   "execution_count": 146,
   "id": "seventh-alliance",
   "metadata": {},
   "outputs": [
    {
     "name": "stdout",
     "output_type": "stream",
     "text": [
      "obj val:  53150.747203024286\n",
      "1.7849657535552979\n"
     ]
    }
   ],
   "source": [
    "import time\n",
    "start_time = time.time()\n",
    "run_Model(2, 0.9, {'f1': 0.8, 'f2': 0.2})\n",
    "end_time = time.time()\n",
    "print(end_time - start_time)"
   ]
  },
  {
   "cell_type": "code",
   "execution_count": 147,
   "id": "equivalent-jersey",
   "metadata": {},
   "outputs": [
    {
     "data": {
      "text/plain": [
       "True"
      ]
     },
     "execution_count": 147,
     "metadata": {},
     "output_type": "execute_result"
    }
   ],
   "source": [
    "num_correct = 0\n",
    "for s in range(num_Scenarios):\n",
    "    if np.round((Summary_dict['Purchasing_'+str(s)] + Summary_dict['Production_' + str(s) ] + Summary_dict['LostSales_' + str(s)])) == np.sum(demand[s]):\n",
    "        num_correct += 1\n",
    "    else:\n",
    "        print (np.round(Summary_dict['Purchasing_'+str(s)] + Summary_dict['Production_' + str(s) ] + Summary_dict['LostSales_' + str(s)]))\n",
    "        print(np.sum(demand[s]))\n",
    "        (print(s))\n",
    "    \n",
    "num_correct == num_Scenarios"
   ]
  },
  {
   "cell_type": "code",
   "execution_count": 148,
   "id": "purple-capability",
   "metadata": {},
   "outputs": [
    {
     "data": {
      "text/plain": [
       "21"
      ]
     },
     "execution_count": 148,
     "metadata": {},
     "output_type": "execute_result"
    }
   ],
   "source": [
    "num_correct"
   ]
  },
  {
   "cell_type": "code",
   "execution_count": 149,
   "id": "structural-crazy",
   "metadata": {},
   "outputs": [],
   "source": [
    "Purchasing = [Summary_dict['Purchasing_' + str(s)] for s in range(num_Scenarios)]\n",
    "Production = [Summary_dict['Production_' + str(s)] for s in range(num_Scenarios)]\n",
    "LostSales = [Summary_dict['LostSales_' + str(s)] for s in range(num_Scenarios)]\n",
    "OutsourceToDC = [Summary_dict['OutsourceToDC_' + str(s)] for s in range(num_Scenarios)]\n",
    "OutsourceToMarket = [Summary_dict['OutsourceToMarket_' + str(s)] for s in range(num_Scenarios)]"
   ]
  },
  {
   "cell_type": "code",
   "execution_count": 150,
   "id": "above-gossip",
   "metadata": {},
   "outputs": [],
   "source": [
    "Unit_df = pd.DataFrame(list(zip(Purchasing, Production, LostSales, OutsourceToDC, OutsourceToMarket)), \n",
    "             columns = [\"Purchasing\", \"Production\", \"LostSales\", \"OutsourceToDC\", \"OutsourceToMarket\"])"
   ]
  },
  {
   "cell_type": "code",
   "execution_count": 151,
   "id": "funded-optics",
   "metadata": {},
   "outputs": [
    {
     "data": {
      "text/html": [
       "<div>\n",
       "<style scoped>\n",
       "    .dataframe tbody tr th:only-of-type {\n",
       "        vertical-align: middle;\n",
       "    }\n",
       "\n",
       "    .dataframe tbody tr th {\n",
       "        vertical-align: top;\n",
       "    }\n",
       "\n",
       "    .dataframe thead th {\n",
       "        text-align: right;\n",
       "    }\n",
       "</style>\n",
       "<table border=\"1\" class=\"dataframe\">\n",
       "  <thead>\n",
       "    <tr style=\"text-align: right;\">\n",
       "      <th></th>\n",
       "      <th>Purchasing</th>\n",
       "      <th>Production</th>\n",
       "      <th>LostSales</th>\n",
       "      <th>OutsourceToDC</th>\n",
       "      <th>OutsourceToMarket</th>\n",
       "    </tr>\n",
       "  </thead>\n",
       "  <tbody>\n",
       "    <tr>\n",
       "      <th>0</th>\n",
       "      <td>0.0</td>\n",
       "      <td>4958.0</td>\n",
       "      <td>0.0</td>\n",
       "      <td>0.0</td>\n",
       "      <td>0.0</td>\n",
       "    </tr>\n",
       "    <tr>\n",
       "      <th>1</th>\n",
       "      <td>0.0</td>\n",
       "      <td>4980.0</td>\n",
       "      <td>0.0</td>\n",
       "      <td>0.0</td>\n",
       "      <td>0.0</td>\n",
       "    </tr>\n",
       "    <tr>\n",
       "      <th>2</th>\n",
       "      <td>1280.0</td>\n",
       "      <td>3136.0</td>\n",
       "      <td>491.0</td>\n",
       "      <td>0.0</td>\n",
       "      <td>1280.0</td>\n",
       "    </tr>\n",
       "    <tr>\n",
       "      <th>3</th>\n",
       "      <td>1257.0</td>\n",
       "      <td>3133.0</td>\n",
       "      <td>488.0</td>\n",
       "      <td>0.0</td>\n",
       "      <td>1257.0</td>\n",
       "    </tr>\n",
       "    <tr>\n",
       "      <th>4</th>\n",
       "      <td>0.0</td>\n",
       "      <td>4826.0</td>\n",
       "      <td>0.0</td>\n",
       "      <td>0.0</td>\n",
       "      <td>0.0</td>\n",
       "    </tr>\n",
       "    <tr>\n",
       "      <th>5</th>\n",
       "      <td>0.0</td>\n",
       "      <td>4888.0</td>\n",
       "      <td>0.0</td>\n",
       "      <td>0.0</td>\n",
       "      <td>0.0</td>\n",
       "    </tr>\n",
       "    <tr>\n",
       "      <th>6</th>\n",
       "      <td>2364.0</td>\n",
       "      <td>0.0</td>\n",
       "      <td>2511.0</td>\n",
       "      <td>0.0</td>\n",
       "      <td>2364.0</td>\n",
       "    </tr>\n",
       "    <tr>\n",
       "      <th>7</th>\n",
       "      <td>1244.0</td>\n",
       "      <td>3131.0</td>\n",
       "      <td>486.0</td>\n",
       "      <td>1244.0</td>\n",
       "      <td>0.0</td>\n",
       "    </tr>\n",
       "    <tr>\n",
       "      <th>8</th>\n",
       "      <td>1289.0</td>\n",
       "      <td>3133.0</td>\n",
       "      <td>491.0</td>\n",
       "      <td>1289.0</td>\n",
       "      <td>0.0</td>\n",
       "    </tr>\n",
       "    <tr>\n",
       "      <th>9</th>\n",
       "      <td>1188.0</td>\n",
       "      <td>3134.0</td>\n",
       "      <td>480.0</td>\n",
       "      <td>0.0</td>\n",
       "      <td>1188.0</td>\n",
       "    </tr>\n",
       "    <tr>\n",
       "      <th>10</th>\n",
       "      <td>1080.0</td>\n",
       "      <td>3116.0</td>\n",
       "      <td>466.0</td>\n",
       "      <td>0.0</td>\n",
       "      <td>1080.0</td>\n",
       "    </tr>\n",
       "    <tr>\n",
       "      <th>11</th>\n",
       "      <td>1226.0</td>\n",
       "      <td>3135.0</td>\n",
       "      <td>485.0</td>\n",
       "      <td>1226.0</td>\n",
       "      <td>0.0</td>\n",
       "    </tr>\n",
       "    <tr>\n",
       "      <th>12</th>\n",
       "      <td>1285.0</td>\n",
       "      <td>3138.0</td>\n",
       "      <td>491.0</td>\n",
       "      <td>1285.0</td>\n",
       "      <td>0.0</td>\n",
       "    </tr>\n",
       "    <tr>\n",
       "      <th>13</th>\n",
       "      <td>2364.0</td>\n",
       "      <td>0.0</td>\n",
       "      <td>2447.0</td>\n",
       "      <td>0.0</td>\n",
       "      <td>2364.0</td>\n",
       "    </tr>\n",
       "    <tr>\n",
       "      <th>14</th>\n",
       "      <td>0.0</td>\n",
       "      <td>4986.0</td>\n",
       "      <td>0.0</td>\n",
       "      <td>0.0</td>\n",
       "      <td>0.0</td>\n",
       "    </tr>\n",
       "    <tr>\n",
       "      <th>15</th>\n",
       "      <td>0.0</td>\n",
       "      <td>4843.0</td>\n",
       "      <td>0.0</td>\n",
       "      <td>0.0</td>\n",
       "      <td>0.0</td>\n",
       "    </tr>\n",
       "    <tr>\n",
       "      <th>16</th>\n",
       "      <td>1075.0</td>\n",
       "      <td>3127.0</td>\n",
       "      <td>467.0</td>\n",
       "      <td>0.0</td>\n",
       "      <td>1075.0</td>\n",
       "    </tr>\n",
       "    <tr>\n",
       "      <th>17</th>\n",
       "      <td>1188.0</td>\n",
       "      <td>3130.0</td>\n",
       "      <td>480.0</td>\n",
       "      <td>0.0</td>\n",
       "      <td>1188.0</td>\n",
       "    </tr>\n",
       "    <tr>\n",
       "      <th>18</th>\n",
       "      <td>0.0</td>\n",
       "      <td>4954.0</td>\n",
       "      <td>0.0</td>\n",
       "      <td>0.0</td>\n",
       "      <td>0.0</td>\n",
       "    </tr>\n",
       "    <tr>\n",
       "      <th>19</th>\n",
       "      <td>0.0</td>\n",
       "      <td>4776.0</td>\n",
       "      <td>0.0</td>\n",
       "      <td>0.0</td>\n",
       "      <td>0.0</td>\n",
       "    </tr>\n",
       "    <tr>\n",
       "      <th>20</th>\n",
       "      <td>2364.0</td>\n",
       "      <td>0.0</td>\n",
       "      <td>2318.0</td>\n",
       "      <td>0.0</td>\n",
       "      <td>2364.0</td>\n",
       "    </tr>\n",
       "  </tbody>\n",
       "</table>\n",
       "</div>"
      ],
      "text/plain": [
       "    Purchasing  Production  LostSales  OutsourceToDC  OutsourceToMarket\n",
       "0          0.0      4958.0        0.0            0.0                0.0\n",
       "1          0.0      4980.0        0.0            0.0                0.0\n",
       "2       1280.0      3136.0      491.0            0.0             1280.0\n",
       "3       1257.0      3133.0      488.0            0.0             1257.0\n",
       "4          0.0      4826.0        0.0            0.0                0.0\n",
       "5          0.0      4888.0        0.0            0.0                0.0\n",
       "6       2364.0         0.0     2511.0            0.0             2364.0\n",
       "7       1244.0      3131.0      486.0         1244.0                0.0\n",
       "8       1289.0      3133.0      491.0         1289.0                0.0\n",
       "9       1188.0      3134.0      480.0            0.0             1188.0\n",
       "10      1080.0      3116.0      466.0            0.0             1080.0\n",
       "11      1226.0      3135.0      485.0         1226.0                0.0\n",
       "12      1285.0      3138.0      491.0         1285.0                0.0\n",
       "13      2364.0         0.0     2447.0            0.0             2364.0\n",
       "14         0.0      4986.0        0.0            0.0                0.0\n",
       "15         0.0      4843.0        0.0            0.0                0.0\n",
       "16      1075.0      3127.0      467.0            0.0             1075.0\n",
       "17      1188.0      3130.0      480.0            0.0             1188.0\n",
       "18         0.0      4954.0        0.0            0.0                0.0\n",
       "19         0.0      4776.0        0.0            0.0                0.0\n",
       "20      2364.0         0.0     2318.0            0.0             2364.0"
      ]
     },
     "execution_count": 151,
     "metadata": {},
     "output_type": "execute_result"
    }
   ],
   "source": [
    "np.round(Unit_df)"
   ]
  },
  {
   "cell_type": "code",
   "execution_count": 152,
   "id": "musical-concept",
   "metadata": {},
   "outputs": [],
   "source": [
    "Scen_demand = 1 - np.array(list(Unit_df['LostSales']))/(np.array(list(Unit_df['Purchasing'])) + np.array(list(Unit_df['Production'])) + (np.array(list(Unit_df['LostSales']))))"
   ]
  },
  {
   "cell_type": "code",
   "execution_count": 153,
   "id": "false-superintendent",
   "metadata": {},
   "outputs": [],
   "source": [
    "Purchasing_cost = [Cost_dict['Purchasing_' + str(s)] for s in range(num_Scenarios)]\n",
    "Production_cost = [Cost_dict['Production_' + str(s)] for s in range(num_Scenarios)]\n",
    "LostSales_cost = [Cost_dict['LostSales_' + str(s)] for s in range(num_Scenarios)]\n",
    "InHouseShipping = [Cost_dict['InHouseShipping_' + str(s)] for s in range(num_Scenarios)]\n",
    "OutsourceShipping = [Cost_dict['OutsourceShipping_' + str(s)] for s in range(num_Scenarios)]"
   ]
  },
  {
   "cell_type": "code",
   "execution_count": 154,
   "id": "empty-holly",
   "metadata": {},
   "outputs": [],
   "source": [
    "Cost_df = pd.DataFrame(list(zip(Purchasing_cost, Production_cost, LostSales_cost, InHouseShipping, OutsourceShipping)), \n",
    "             columns = [\"Purchasing\", \"Production\", \"LostSales\", \"InHouseShipping\", \"OutsourceShipping\"])"
   ]
  },
  {
   "cell_type": "code",
   "execution_count": 155,
   "id": "professional-algebra",
   "metadata": {},
   "outputs": [
    {
     "data": {
      "text/html": [
       "<div>\n",
       "<style scoped>\n",
       "    .dataframe tbody tr th:only-of-type {\n",
       "        vertical-align: middle;\n",
       "    }\n",
       "\n",
       "    .dataframe tbody tr th {\n",
       "        vertical-align: top;\n",
       "    }\n",
       "\n",
       "    .dataframe thead th {\n",
       "        text-align: right;\n",
       "    }\n",
       "</style>\n",
       "<table border=\"1\" class=\"dataframe\">\n",
       "  <thead>\n",
       "    <tr style=\"text-align: right;\">\n",
       "      <th></th>\n",
       "      <th>Purchasing</th>\n",
       "      <th>Production</th>\n",
       "      <th>LostSales</th>\n",
       "      <th>InHouseShipping</th>\n",
       "      <th>OutsourceShipping</th>\n",
       "    </tr>\n",
       "  </thead>\n",
       "  <tbody>\n",
       "    <tr>\n",
       "      <th>0</th>\n",
       "      <td>0.0</td>\n",
       "      <td>2819.0</td>\n",
       "      <td>0.0</td>\n",
       "      <td>5127.0</td>\n",
       "      <td>0.0</td>\n",
       "    </tr>\n",
       "    <tr>\n",
       "      <th>1</th>\n",
       "      <td>0.0</td>\n",
       "      <td>2832.0</td>\n",
       "      <td>0.0</td>\n",
       "      <td>5139.0</td>\n",
       "      <td>0.0</td>\n",
       "    </tr>\n",
       "    <tr>\n",
       "      <th>2</th>\n",
       "      <td>14269.0</td>\n",
       "      <td>1718.0</td>\n",
       "      <td>6277.0</td>\n",
       "      <td>3297.0</td>\n",
       "      <td>3293.0</td>\n",
       "    </tr>\n",
       "    <tr>\n",
       "      <th>3</th>\n",
       "      <td>14006.0</td>\n",
       "      <td>1716.0</td>\n",
       "      <td>6246.0</td>\n",
       "      <td>3288.0</td>\n",
       "      <td>3233.0</td>\n",
       "    </tr>\n",
       "    <tr>\n",
       "      <th>4</th>\n",
       "      <td>0.0</td>\n",
       "      <td>2773.0</td>\n",
       "      <td>0.0</td>\n",
       "      <td>5676.0</td>\n",
       "      <td>0.0</td>\n",
       "    </tr>\n",
       "    <tr>\n",
       "      <th>5</th>\n",
       "      <td>0.0</td>\n",
       "      <td>2808.0</td>\n",
       "      <td>0.0</td>\n",
       "      <td>5750.0</td>\n",
       "      <td>0.0</td>\n",
       "    </tr>\n",
       "    <tr>\n",
       "      <th>6</th>\n",
       "      <td>26514.0</td>\n",
       "      <td>0.0</td>\n",
       "      <td>32040.0</td>\n",
       "      <td>0.0</td>\n",
       "      <td>6147.0</td>\n",
       "    </tr>\n",
       "    <tr>\n",
       "      <th>7</th>\n",
       "      <td>13868.0</td>\n",
       "      <td>1869.0</td>\n",
       "      <td>6230.0</td>\n",
       "      <td>3878.0</td>\n",
       "      <td>2279.0</td>\n",
       "    </tr>\n",
       "    <tr>\n",
       "      <th>8</th>\n",
       "      <td>14363.0</td>\n",
       "      <td>1867.0</td>\n",
       "      <td>6289.0</td>\n",
       "      <td>4193.0</td>\n",
       "      <td>2075.0</td>\n",
       "    </tr>\n",
       "    <tr>\n",
       "      <th>9</th>\n",
       "      <td>13239.0</td>\n",
       "      <td>1866.0</td>\n",
       "      <td>6151.0</td>\n",
       "      <td>3339.0</td>\n",
       "      <td>3056.0</td>\n",
       "    </tr>\n",
       "    <tr>\n",
       "      <th>10</th>\n",
       "      <td>12035.0</td>\n",
       "      <td>1884.0</td>\n",
       "      <td>5993.0</td>\n",
       "      <td>3301.0</td>\n",
       "      <td>2777.0</td>\n",
       "    </tr>\n",
       "    <tr>\n",
       "      <th>11</th>\n",
       "      <td>13670.0</td>\n",
       "      <td>1865.0</td>\n",
       "      <td>6205.0</td>\n",
       "      <td>4912.0</td>\n",
       "      <td>2255.0</td>\n",
       "    </tr>\n",
       "    <tr>\n",
       "      <th>12</th>\n",
       "      <td>14316.0</td>\n",
       "      <td>1862.0</td>\n",
       "      <td>6282.0</td>\n",
       "      <td>4961.0</td>\n",
       "      <td>2355.0</td>\n",
       "    </tr>\n",
       "    <tr>\n",
       "      <th>13</th>\n",
       "      <td>26514.0</td>\n",
       "      <td>0.0</td>\n",
       "      <td>31246.0</td>\n",
       "      <td>0.0</td>\n",
       "      <td>6147.0</td>\n",
       "    </tr>\n",
       "    <tr>\n",
       "      <th>14</th>\n",
       "      <td>0.0</td>\n",
       "      <td>2867.0</td>\n",
       "      <td>0.0</td>\n",
       "      <td>5149.0</td>\n",
       "      <td>0.0</td>\n",
       "    </tr>\n",
       "    <tr>\n",
       "      <th>15</th>\n",
       "      <td>0.0</td>\n",
       "      <td>2783.0</td>\n",
       "      <td>0.0</td>\n",
       "      <td>4993.0</td>\n",
       "      <td>0.0</td>\n",
       "    </tr>\n",
       "    <tr>\n",
       "      <th>16</th>\n",
       "      <td>11980.0</td>\n",
       "      <td>1830.0</td>\n",
       "      <td>5983.0</td>\n",
       "      <td>3263.0</td>\n",
       "      <td>2764.0</td>\n",
       "    </tr>\n",
       "    <tr>\n",
       "      <th>17</th>\n",
       "      <td>13244.0</td>\n",
       "      <td>1834.0</td>\n",
       "      <td>6153.0</td>\n",
       "      <td>3272.0</td>\n",
       "      <td>3058.0</td>\n",
       "    </tr>\n",
       "    <tr>\n",
       "      <th>18</th>\n",
       "      <td>0.0</td>\n",
       "      <td>2848.0</td>\n",
       "      <td>0.0</td>\n",
       "      <td>5824.0</td>\n",
       "      <td>0.0</td>\n",
       "    </tr>\n",
       "    <tr>\n",
       "      <th>19</th>\n",
       "      <td>0.0</td>\n",
       "      <td>2745.0</td>\n",
       "      <td>0.0</td>\n",
       "      <td>5616.0</td>\n",
       "      <td>0.0</td>\n",
       "    </tr>\n",
       "    <tr>\n",
       "      <th>20</th>\n",
       "      <td>26514.0</td>\n",
       "      <td>0.0</td>\n",
       "      <td>29609.0</td>\n",
       "      <td>0.0</td>\n",
       "      <td>6147.0</td>\n",
       "    </tr>\n",
       "  </tbody>\n",
       "</table>\n",
       "</div>"
      ],
      "text/plain": [
       "    Purchasing  Production  LostSales  InHouseShipping  OutsourceShipping\n",
       "0          0.0      2819.0        0.0           5127.0                0.0\n",
       "1          0.0      2832.0        0.0           5139.0                0.0\n",
       "2      14269.0      1718.0     6277.0           3297.0             3293.0\n",
       "3      14006.0      1716.0     6246.0           3288.0             3233.0\n",
       "4          0.0      2773.0        0.0           5676.0                0.0\n",
       "5          0.0      2808.0        0.0           5750.0                0.0\n",
       "6      26514.0         0.0    32040.0              0.0             6147.0\n",
       "7      13868.0      1869.0     6230.0           3878.0             2279.0\n",
       "8      14363.0      1867.0     6289.0           4193.0             2075.0\n",
       "9      13239.0      1866.0     6151.0           3339.0             3056.0\n",
       "10     12035.0      1884.0     5993.0           3301.0             2777.0\n",
       "11     13670.0      1865.0     6205.0           4912.0             2255.0\n",
       "12     14316.0      1862.0     6282.0           4961.0             2355.0\n",
       "13     26514.0         0.0    31246.0              0.0             6147.0\n",
       "14         0.0      2867.0        0.0           5149.0                0.0\n",
       "15         0.0      2783.0        0.0           4993.0                0.0\n",
       "16     11980.0      1830.0     5983.0           3263.0             2764.0\n",
       "17     13244.0      1834.0     6153.0           3272.0             3058.0\n",
       "18         0.0      2848.0        0.0           5824.0                0.0\n",
       "19         0.0      2745.0        0.0           5616.0                0.0\n",
       "20     26514.0         0.0    29609.0              0.0             6147.0"
      ]
     },
     "execution_count": 155,
     "metadata": {},
     "output_type": "execute_result"
    }
   ],
   "source": [
    "Cost_df"
   ]
  },
  {
   "cell_type": "code",
   "execution_count": 156,
   "id": "pointed-output",
   "metadata": {},
   "outputs": [
    {
     "data": {
      "text/plain": [
       "2.0"
      ]
     },
     "execution_count": 156,
     "metadata": {},
     "output_type": "execute_result"
    }
   ],
   "source": [
    "Summary_dict[\"OpenMPs\"]"
   ]
  },
  {
   "cell_type": "code",
   "execution_count": 157,
   "id": "hybrid-chorus",
   "metadata": {},
   "outputs": [
    {
     "data": {
      "text/plain": [
       "2.0"
      ]
     },
     "execution_count": 157,
     "metadata": {},
     "output_type": "execute_result"
    }
   ],
   "source": [
    "Summary_dict[\"OpenDCs\"]"
   ]
  },
  {
   "cell_type": "code",
   "execution_count": 158,
   "id": "animated-daughter",
   "metadata": {},
   "outputs": [
    {
     "data": {
      "text/plain": [
       "array([[672., 547.],\n",
       "       [617., 692.]])"
      ]
     },
     "execution_count": 158,
     "metadata": {},
     "output_type": "execute_result"
    }
   ],
   "source": [
    "Capacities_l"
   ]
  },
  {
   "cell_type": "code",
   "execution_count": 159,
   "id": "opening-casting",
   "metadata": {},
   "outputs": [],
   "source": [
    "scen_costs = [Cost_dict['Opening'] + Purchasing_cost[s] + Production_cost[s] + InHouseShipping[s] + OutsourceShipping[s] + LostSales_cost[s] for s in range(num_Scenarios)]"
   ]
  },
  {
   "cell_type": "code",
   "execution_count": 160,
   "id": "desirable-advertising",
   "metadata": {},
   "outputs": [
    {
     "data": {
      "text/plain": [
       "array([0.42363146, 0.42269376, 0.77534352, 0.59410167, 0.44845429,\n",
       "       0.44700542, 1.70418186, 0.59190169, 0.58511645, 0.60987758,\n",
       "       0.63270214, 0.41922369, 0.41421192, 0.95249499, 0.42361331,\n",
       "       0.42707153, 0.71636395, 0.45191651, 0.44546025, 0.4496216 ,\n",
       "       1.66540455])"
      ]
     },
     "execution_count": 160,
     "metadata": {},
     "output_type": "execute_result"
    }
   ],
   "source": [
    "(np.array(scen_costs) - np.array(scen_objs))/np.array(scen_objs)"
   ]
  },
  {
   "cell_type": "code",
   "execution_count": 161,
   "id": "unlimited-cigarette",
   "metadata": {},
   "outputs": [
    {
     "data": {
      "text/plain": [
       "65551.71"
      ]
     },
     "execution_count": 161,
     "metadata": {},
     "output_type": "execute_result"
    }
   ],
   "source": [
    "Cost_dict['f1']"
   ]
  },
  {
   "cell_type": "code",
   "execution_count": 162,
   "id": "marked-installation",
   "metadata": {},
   "outputs": [
    {
     "data": {
      "text/plain": [
       "3547.0"
      ]
     },
     "execution_count": 162,
     "metadata": {},
     "output_type": "execute_result"
    }
   ],
   "source": [
    "Cost_dict['f2']"
   ]
  },
  {
   "cell_type": "code",
   "execution_count": 452,
   "id": "accessory-cursor",
   "metadata": {},
   "outputs": [
    {
     "data": {
      "text/plain": [
       "0.0"
      ]
     },
     "execution_count": 452,
     "metadata": {},
     "output_type": "execute_result"
    }
   ],
   "source": [
    "Cost_dict['pr_Penalties']"
   ]
  },
  {
   "cell_type": "code",
   "execution_count": 107,
   "id": "rapid-project",
   "metadata": {},
   "outputs": [
    {
     "data": {
      "text/plain": [
       "{0: <gurobi.Var C0 (value 1.0)>, 1: <gurobi.Var C1 (value 1.0)>}"
      ]
     },
     "execution_count": 107,
     "metadata": {},
     "output_type": "execute_result"
    }
   ],
   "source": [
    "x_i"
   ]
  },
  {
   "cell_type": "markdown",
   "id": "exotic-tunisia",
   "metadata": {},
   "source": [
    "## Heat Maps"
   ]
  },
  {
   "cell_type": "code",
   "execution_count": 388,
   "id": "still-nightlife",
   "metadata": {},
   "outputs": [],
   "source": [
    "rl_vals = [0.95, 0.8, 0.6]"
   ]
  },
  {
   "cell_type": "code",
   "execution_count": 389,
   "id": "hollow-darkness",
   "metadata": {},
   "outputs": [
    {
     "name": "stdout",
     "output_type": "stream",
     "text": [
      "obj val:  4949378.06302814\n"
     ]
    },
    {
     "name": "stderr",
     "output_type": "stream",
     "text": [
      "C:\\Users\\Devika Kabe\\Anaconda3\\lib\\site-packages\\ipykernel_launcher.py:12: MatplotlibDeprecationWarning: Adding an axes using the same arguments as a previous axes currently reuses the earlier instance.  In a future version, a new instance will always be created and returned.  Meanwhile, this warning can be suppressed, and the future behavior ensured, by passing a unique label to each axes instance.\n",
      "  if sys.path[0] == '':\n"
     ]
    },
    {
     "data": {
      "image/png": "[encoded data removed]",
      "text/plain": [
       "<Figure size 432x288 with 2 Axes>"
      ]
     },
     "metadata": {
      "needs_background": "light"
     },
     "output_type": "display_data"
    },
    {
     "name": "stdout",
     "output_type": "stream",
     "text": [
      "obj val:  4948120.383489975\n"
     ]
    },
    {
     "data": {
      "image/png": "[encoded data removed]",
      "text/plain": [
       "<Figure size 432x288 with 2 Axes>"
      ]
     },
     "metadata": {
      "needs_background": "light"
     },
     "output_type": "display_data"
    },
    {
     "name": "stdout",
     "output_type": "stream",
     "text": [
      "obj val:  4946659.556822992\n"
     ]
    },
    {
     "data": {
      "image/png": "[encoded data removed]",
      "text/plain": [
       "<Figure size 432x288 with 2 Axes>"
      ]
     },
     "metadata": {
      "needs_background": "light"
     },
     "output_type": "display_data"
    }
   ],
   "source": [
    "for i in range(len(rl_vals)):\n",
    "    run_Model(0.4, rl_vals[i], {'f1': 0.7, 'f2': 0.3})\n",
    "    U = grbModel.getAttr('x',U_km)\n",
    "    U_km_mat = np.zeros((num_Scenarios, Products, Market))\n",
    "    for s in range(num_Scenarios):\n",
    "        for k in range(Market):\n",
    "            for m in range(Products):\n",
    "                U_km_mat[s][m][k] = U[s,k,m]\n",
    "    s_lostSales = sum(U_km_mat)\n",
    "    demand_met = 1 - s_lostSales/s_Demand\n",
    "    sns.heatmap(demand_met, cmap = \"Reds\", vmin = 0.4, vmax = 1.0, linewidths = 1, linecolor= 'black')\n",
    "    plt.axes().set_title(\"Average Demand Met Per Product Per Market\", fontsize = 14)\n",
    "    plt.xlabel('Market Zone', fontsize = 12)\n",
    "    plt.ylabel('Product', fontsize = 12)\n",
    "    plt.show()"
   ]
  },
  {
   "cell_type": "code",
   "execution_count": 390,
   "id": "clean-oriental",
   "metadata": {},
   "outputs": [
    {
     "name": "stdout",
     "output_type": "stream",
     "text": [
      "obj val:  4949378.06302814\n"
     ]
    },
    {
     "name": "stderr",
     "output_type": "stream",
     "text": [
      "C:\\Users\\Devika Kabe\\Anaconda3\\lib\\site-packages\\ipykernel_launcher.py:11: MatplotlibDeprecationWarning: Adding an axes using the same arguments as a previous axes currently reuses the earlier instance.  In a future version, a new instance will always be created and returned.  Meanwhile, this warning can be suppressed, and the future behavior ensured, by passing a unique label to each axes instance.\n",
      "  # This is added back by InteractiveShellApp.init_path()\n"
     ]
    },
    {
     "data": {
      "image/png": "[encoded data removed]",
      "text/plain": [
       "<Figure size 576x360 with 2 Axes>"
      ]
     },
     "metadata": {
      "needs_background": "light"
     },
     "output_type": "display_data"
    },
    {
     "name": "stdout",
     "output_type": "stream",
     "text": [
      "obj val:  4948120.383489975\n"
     ]
    },
    {
     "data": {
      "image/png": "[encoded data removed]",
      "text/plain": [
       "<Figure size 576x360 with 2 Axes>"
      ]
     },
     "metadata": {
      "needs_background": "light"
     },
     "output_type": "display_data"
    },
    {
     "name": "stdout",
     "output_type": "stream",
     "text": [
      "obj val:  4946659.556822992\n"
     ]
    },
    {
     "data": {
      "image/png": "[encoded data removed]",
      "text/plain": [
       "<Figure size 576x360 with 2 Axes>"
      ]
     },
     "metadata": {
      "needs_background": "light"
     },
     "output_type": "display_data"
    }
   ],
   "source": [
    "for i in range(len(rl_vals)):\n",
    "    run_Model(0.4, rl_vals[i], {'f1': 0.7, 'f2': 0.3})\n",
    "    U = grbModel.getAttr('x',U_km)\n",
    "    ls_per_market = np.zeros((num_Scenarios, Market))\n",
    "    for s in range(num_Scenarios):\n",
    "        for k in range(Market):\n",
    "            ls_per_market[s][k] = sum([U[s,k,m] for m in range(Products)])/sum(demand[s])[k]\n",
    "    demand_met = 1 - ls_per_market\n",
    "    plt.figure(figsize = (8,5))\n",
    "    sns.heatmap(demand_met.T, cmap = \"Reds\", vmin = 0.5, vmax = 1, linewidths = 1, linecolor= 'black')\n",
    "    plt.axes().set_title(\"Scenario Market Demand Met\", fontsize = 14)\n",
    "    plt.xlabel('Scenarios', fontsize = 12)\n",
    "    plt.show()"
   ]
  },
  {
   "cell_type": "markdown",
   "id": "worldwide-concord",
   "metadata": {},
   "source": [
    "## Connections between Nodes "
   ]
  },
  {
   "cell_type": "code",
   "execution_count": 491,
   "id": "complex-reduction",
   "metadata": {},
   "outputs": [
    {
     "name": "stdout",
     "output_type": "stream",
     "text": [
      "obj val:  53847.64896974557\n"
     ]
    }
   ],
   "source": [
    "run_Model(2, 0.9, {'f1': 0.8, 'f2': 0.2})"
   ]
  },
  {
   "cell_type": "code",
   "execution_count": 492,
   "id": "martial-stanley",
   "metadata": {},
   "outputs": [],
   "source": [
    "# Manufacturing Plant -> DC -> Market Zone"
   ]
  },
  {
   "cell_type": "code",
   "execution_count": 493,
   "id": "desirable-birthday",
   "metadata": {},
   "outputs": [],
   "source": [
    "MP = [\"I_\" + str(i) for i in range(Manufacturing_plants)]\n",
    "DC = [\"J_\" + str(j) for j in range(Distribution)]\n",
    "MZ = [\"K_\" + str(k) for k in range(Market)]\n",
    "Position_dic = {}\n",
    "Node_colors = []\n",
    "Edge_colors = []\n",
    "Node_size = []\n",
    "Weight = []\n",
    "Weight_ij = []\n",
    "Weight_jk = []\n",
    "Max_p = max(Manufacturing_plants, Distribution, Market)"
   ]
  },
  {
   "cell_type": "code",
   "execution_count": 494,
   "id": "fluid-longitude",
   "metadata": {},
   "outputs": [],
   "source": [
    "Y = grbModel.getAttr('x', Y_ijm)\n",
    "Z = grbModel.getAttr('x', Z_jkm)"
   ]
  },
  {
   "cell_type": "code",
   "execution_count": 495,
   "id": "iraqi-uzbekistan",
   "metadata": {},
   "outputs": [],
   "source": [
    "Y_mat = np.array(list(Y.values())).reshape(num_Scenarios, Products, Manufacturing_plants, Distribution)\n",
    "Z_mat = np.array(list(Z.values())).reshape(num_Scenarios, Products, Distribution, Market)"
   ]
  },
  {
   "cell_type": "code",
   "execution_count": 496,
   "id": "beginning-wagon",
   "metadata": {},
   "outputs": [],
   "source": [
    "Yij = sum(sum(Y_mat))/num_Scenarios"
   ]
  },
  {
   "cell_type": "code",
   "execution_count": 497,
   "id": "hearing-lithuania",
   "metadata": {},
   "outputs": [],
   "source": [
    "Zjk = sum(sum(Z_mat))/num_Scenarios"
   ]
  },
  {
   "cell_type": "code",
   "execution_count": 498,
   "id": "young-empire",
   "metadata": {},
   "outputs": [
    {
     "name": "stderr",
     "output_type": "stream",
     "text": [
      "C:\\Users\\Devika Kabe\\Anaconda3\\lib\\site-packages\\ipykernel_launcher.py:68: MatplotlibDeprecationWarning: Adding an axes using the same arguments as a previous axes currently reuses the earlier instance.  In a future version, a new instance will always be created and returned.  Meanwhile, this warning can be suppressed, and the future behavior ensured, by passing a unique label to each axes instance.\n"
     ]
    },
    {
     "data": {
      "image/png": "[encoded data removed]",
      "text/plain": [
       "<Figure size 1440x1080 with 1 Axes>"
      ]
     },
     "metadata": {},
     "output_type": "display_data"
    }
   ],
   "source": [
    "IJ_edges = []\n",
    "for i in range(Manufacturing_plants):\n",
    "    for j in range(Distribution):\n",
    "        #if Yij[i][j] > 0:\n",
    "        IJ_edges.append((\"I_\" + str(i), \"J_\" + str(j)))    \n",
    "Weight_ij.extend(Yij.sum(axis=1))\n",
    "    \n",
    "JK_edges = []\n",
    "for j in range(Distribution):\n",
    "    for k in range(Market):\n",
    "        #if Zjk[j][k] > 0:\n",
    "        JK_edges.append((\"J_\" + str(j), \"K_\" + str(k)))\n",
    "Weight_jk.extend(Zjk.sum(axis=1))\n",
    "    \n",
    "Weight.extend([3*Yij[i][j]/max(Weight_ij) for i in range(Manufacturing_plants) for j in range(Distribution)])\n",
    "Weight.extend([4*Zjk[j][k]/max(Weight_jk) for j in range(Distribution) for k in range(Market)])\n",
    "            \n",
    "Labels = []\n",
    "Graph = nx.Graph()\n",
    "\n",
    "Position_values = []\n",
    "y_pos = np.linspace(0, Max_p, Manufacturing_plants)\n",
    "for i in range(Manufacturing_plants):\n",
    "    position = (0, y_pos[i])\n",
    "    Graph.add_node(MP[i])\n",
    "    Node_colors.append('navy')\n",
    "    Labels.append(\"i\" + str(i))\n",
    "    Position_values.append(np.asarray(position))\n",
    "Position_dic = dict(zip(MP, Position_values))\n",
    "\n",
    "Position_values = []\n",
    "y_pos = np.linspace(0, Max_p, Distribution)\n",
    "for j in range(Distribution):\n",
    "    position = (1, y_pos[j])\n",
    "    Graph.add_node(DC[j])\n",
    "    Node_colors.append('red')\n",
    "    Labels.append(\"j\" + str(j))\n",
    "    Position_values.append(np.asarray(position))\n",
    "Position_dic.update(dict(zip(DC, Position_values)))\n",
    "\n",
    "Position_values = []\n",
    "y_pos = np.linspace(0, Max_p, Market)\n",
    "for k in range(Market):\n",
    "    position = (2, y_pos[k])\n",
    "    Graph.add_node(MZ[k])\n",
    "    Node_colors.append('purple')\n",
    "    Labels.append(\"k\" + str(k))\n",
    "    Position_values.append(np.asarray(position))\n",
    "Position_dic.update(dict(zip(MZ, Position_values)))\n",
    "\n",
    "# Add Edges\n",
    "\n",
    "Graph.add_edges_from(IJ_edges)\n",
    "Graph.add_edges_from(JK_edges)\n",
    "Edge_colors.extend(['black' for i in IJ_edges])\n",
    "Edge_colors.extend(['darkseagreen' for i in JK_edges])\n",
    "\n",
    "nodePos = nx.shell_layout(Graph)\n",
    "nx.draw_networkx(Graph, with_labels = False, node_color = Node_colors, edge_color = Edge_colors, pos = Position_dic, width = Weight)\n",
    "\n",
    "limits=plt.axis('off')\n",
    "plt.gcf().set_size_inches(20, 15)\n",
    "\n",
    "lengend_mp = mpatches.Patch(color = 'navy', label = 'Manufacturing Plants')\n",
    "lengend_dc = mpatches.Patch(color = 'red', label = 'Distribution Centres')\n",
    "lengend_mz = mpatches.Patch(color = 'purple', label = 'Market Zones')\n",
    "\n",
    "ax = plt.subplot(111)\n",
    "ax.legend(loc = 'lower center', handles=[lengend_mp, lengend_dc, lengend_mz], ncol = 3, borderpad=1)\n",
    "\n",
    "plt.show()"
   ]
  },
  {
   "cell_type": "code",
   "execution_count": 499,
   "id": "careful-surface",
   "metadata": {},
   "outputs": [
    {
     "data": {
      "text/plain": [
       "[1104.0677142039629, 2216.5274606431867]"
      ]
     },
     "execution_count": 499,
     "metadata": {},
     "output_type": "execute_result"
    }
   ],
   "source": [
    "Weight_ij"
   ]
  },
  {
   "cell_type": "code",
   "execution_count": 500,
   "id": "unexpected-forge",
   "metadata": {},
   "outputs": [
    {
     "data": {
      "text/plain": [
       "array([[ 810.38254375,  293.68517045,    0.        ],\n",
       "       [ 928.58999829, 1287.93746235,    0.        ]])"
      ]
     },
     "execution_count": 500,
     "metadata": {},
     "output_type": "execute_result"
    }
   ],
   "source": [
    "Yij"
   ]
  },
  {
   "cell_type": "code",
   "execution_count": 501,
   "id": "driven-house",
   "metadata": {},
   "outputs": [],
   "source": [
    "# Outsource -> DC"
   ]
  },
  {
   "cell_type": "code",
   "execution_count": 502,
   "id": "median-beverage",
   "metadata": {},
   "outputs": [],
   "source": [
    "T1 = grbModel.getAttr('x', T_ljm)"
   ]
  },
  {
   "cell_type": "code",
   "execution_count": 503,
   "id": "selective-filename",
   "metadata": {},
   "outputs": [],
   "source": [
    "T1_mat = np.array(list(T1.values())).reshape(num_Scenarios, Products, Outsourced, Distribution)"
   ]
  },
  {
   "cell_type": "code",
   "execution_count": 504,
   "id": "amended-mambo",
   "metadata": {},
   "outputs": [],
   "source": [
    "Tlj = sum(sum(T1_mat))/num_Scenarios"
   ]
  },
  {
   "cell_type": "code",
   "execution_count": 505,
   "id": "collect-watershed",
   "metadata": {},
   "outputs": [],
   "source": [
    "O = [\"L_\" + str(l) for l in range(Outsourced)]"
   ]
  },
  {
   "cell_type": "code",
   "execution_count": 506,
   "id": "solar-biotechnology",
   "metadata": {},
   "outputs": [],
   "source": [
    "Position_dic = {}\n",
    "Node_colors = []\n",
    "Edge_colors = []\n",
    "Weight = []\n",
    "Weight_lj = []\n",
    "Max_p = max(Outsourced, Distribution)"
   ]
  },
  {
   "cell_type": "code",
   "execution_count": 507,
   "id": "bronze-broadcast",
   "metadata": {},
   "outputs": [
    {
     "name": "stderr",
     "output_type": "stream",
     "text": [
      "C:\\Users\\Devika Kabe\\Anaconda3\\lib\\site-packages\\ipykernel_launcher.py:8: RuntimeWarning: invalid value encountered in double_scalars\n",
      "  \n",
      "C:\\Users\\Devika Kabe\\Anaconda3\\lib\\site-packages\\ipykernel_launcher.py:47: MatplotlibDeprecationWarning: Adding an axes using the same arguments as a previous axes currently reuses the earlier instance.  In a future version, a new instance will always be created and returned.  Meanwhile, this warning can be suppressed, and the future behavior ensured, by passing a unique label to each axes instance.\n"
     ]
    },
    {
     "data": {
      "image/png": "[encoded data removed]",
      "text/plain": [
       "<Figure size 1440x1080 with 1 Axes>"
      ]
     },
     "metadata": {},
     "output_type": "display_data"
    }
   ],
   "source": [
    "LJ_edges = []\n",
    "for l in range(Outsourced):\n",
    "    for j in range(Distribution):\n",
    "        #if Tlj[l][j] > 0:\n",
    "        LJ_edges.append((\"L_\" + str(l), \"J_\" + str(j)))    \n",
    "Weight_lj.extend(Tlj.sum(axis = 1))\n",
    "\n",
    "Weight.extend([3*Tlj[l][j]/max(Weight_lj) for l in range(Outsourced) for j in range(Distribution)])\n",
    "            \n",
    "Labels = []\n",
    "Graph = nx.Graph()\n",
    "\n",
    "Position_values = []\n",
    "y_pos = np.linspace(0, Max_p, Outsourced)\n",
    "for l in range(Outsourced):\n",
    "    position = (0, y_pos[l])\n",
    "    Graph.add_node(O[l])\n",
    "    Node_colors.append('teal')\n",
    "    Labels.append(\"l\" + str(l))\n",
    "    Position_values.append(np.asarray(position))\n",
    "Position_dic = dict(zip(O, Position_values))\n",
    "\n",
    "Position_values = []\n",
    "y_pos = np.linspace(0, Max_p, Distribution)\n",
    "for j in range(Distribution):\n",
    "    position = (1, y_pos[j])\n",
    "    Graph.add_node(DC[j])\n",
    "    Node_colors.append('red')\n",
    "    Labels.append(\"j\" + str(j))\n",
    "    Position_values.append(np.asarray(position))\n",
    "Position_dic.update(dict(zip(DC, Position_values)))\n",
    "\n",
    "\n",
    "# Add edges\n",
    "Graph.add_edges_from(LJ_edges)\n",
    "Edge_colors.extend(['tan' for l in LJ_edges])\n",
    "\n",
    "nodePos = nx.shell_layout(Graph)\n",
    "nx.draw_networkx(Graph, with_labels = False, node_color = Node_colors, edge_color = Edge_colors, pos = Position_dic, width = Weight)\n",
    "\n",
    "limits=plt.axis('off')\n",
    "plt.gcf().set_size_inches(20, 15)\n",
    "\n",
    "lengend_o = mpatches.Patch(color = 'teal', label = 'Outsourced Facilities')\n",
    "lengend_dc = mpatches.Patch(color = 'red', label = 'Distribution Centres')\n",
    "\n",
    "ax = plt.subplot(111)\n",
    "ax.legend(loc = 'lower center', handles=[lengend_o, lengend_dc], ncol = 2, borderpad=1)\n",
    "\n",
    "plt.show()\n"
   ]
  },
  {
   "cell_type": "code",
   "execution_count": 508,
   "id": "rocky-jamaica",
   "metadata": {},
   "outputs": [],
   "source": [
    "# Outsource -> Market Zone"
   ]
  },
  {
   "cell_type": "code",
   "execution_count": 509,
   "id": "virgin-trigger",
   "metadata": {},
   "outputs": [],
   "source": [
    "T2 = grbModel.getAttr('x', T_lkm)"
   ]
  },
  {
   "cell_type": "code",
   "execution_count": 510,
   "id": "complex-values",
   "metadata": {},
   "outputs": [],
   "source": [
    "T2_mat = np.array(list(T2.values())).reshape(num_Scenarios, Products, Outsourced, Market)"
   ]
  },
  {
   "cell_type": "code",
   "execution_count": 511,
   "id": "turkish-conducting",
   "metadata": {},
   "outputs": [],
   "source": [
    "Tlk = sum(sum(T2_mat))/num_Scenarios"
   ]
  },
  {
   "cell_type": "code",
   "execution_count": 512,
   "id": "loving-pitch",
   "metadata": {},
   "outputs": [],
   "source": [
    "Position_dic = {}\n",
    "Node_colors = []\n",
    "Edge_colors = []\n",
    "Weight = []\n",
    "Weight_lk = []\n",
    "Max_p = max(Outsourced, Market)"
   ]
  },
  {
   "cell_type": "code",
   "execution_count": 513,
   "id": "refined-cycling",
   "metadata": {},
   "outputs": [
    {
     "name": "stderr",
     "output_type": "stream",
     "text": [
      "C:\\Users\\Devika Kabe\\Anaconda3\\lib\\site-packages\\ipykernel_launcher.py:47: MatplotlibDeprecationWarning: Adding an axes using the same arguments as a previous axes currently reuses the earlier instance.  In a future version, a new instance will always be created and returned.  Meanwhile, this warning can be suppressed, and the future behavior ensured, by passing a unique label to each axes instance.\n"
     ]
    },
    {
     "data": {
      "image/png": "[encoded data removed]",
      "text/plain": [
       "<Figure size 1440x1080 with 1 Axes>"
      ]
     },
     "metadata": {},
     "output_type": "display_data"
    }
   ],
   "source": [
    "LK_edges = []\n",
    "for l in range(Outsourced):\n",
    "    for k in range(Market):\n",
    "        #if Tlk[l][k] > 0:\n",
    "        LK_edges.append((\"L_\" + str(l), \"K_\" + str(k)))    \n",
    "Weight_lk.extend(Tlk.sum(axis = 1))\n",
    "\n",
    "Weight.extend([4*Tlk[l][k]/max(Weight_lk) for l in range(Outsourced) for k in range(Market)])\n",
    "            \n",
    "Labels = []\n",
    "Graph = nx.Graph()\n",
    "\n",
    "Position_values = []\n",
    "y_pos = np.linspace(0, Max_p, Outsourced)\n",
    "for l in range(Outsourced):\n",
    "    position = (0, y_pos[l])\n",
    "    Graph.add_node(O[l])\n",
    "    Node_colors.append('teal')\n",
    "    Labels.append(\"l\" + str(l))\n",
    "    Position_values.append(np.asarray(position))\n",
    "Position_dic = dict(zip(O, Position_values))\n",
    "\n",
    "Position_values = []\n",
    "y_pos = np.linspace(0, Max_p, Market)\n",
    "for k in range(Market):\n",
    "    position = (1, y_pos[k])\n",
    "    Graph.add_node(MZ[k])\n",
    "    Node_colors.append('purple')\n",
    "    Labels.append(\"k\" + str(k))\n",
    "    Position_values.append(np.asarray(position))\n",
    "Position_dic.update(dict(zip(MZ, Position_values)))\n",
    "\n",
    "\n",
    "# Add edges\n",
    "Graph.add_edges_from(LK_edges)\n",
    "Edge_colors.extend(['tan' for l in LK_edges])\n",
    "\n",
    "nodePos = nx.shell_layout(Graph)\n",
    "nx.draw_networkx(Graph, with_labels = False, node_color = Node_colors, edge_color = Edge_colors, pos = Position_dic, width = Weight)\n",
    "\n",
    "limits=plt.axis('off')\n",
    "plt.gcf().set_size_inches(20, 15)\n",
    "\n",
    "lengend_o = mpatches.Patch(color = 'teal', label = 'Outsourced Facilities')\n",
    "lengend_dc = mpatches.Patch(color = 'purple', label = 'Market Zones')\n",
    "\n",
    "ax = plt.subplot(111)\n",
    "ax.legend(loc = 'lower center', handles=[lengend_o, lengend_dc], ncol = 2, borderpad=1)\n",
    "\n",
    "plt.show()"
   ]
  },
  {
   "cell_type": "markdown",
   "id": "neural-hybrid",
   "metadata": {},
   "source": [
    "## Comparing different weights for objective values "
   ]
  },
  {
   "cell_type": "code",
   "execution_count": 163,
   "id": "coral-rider",
   "metadata": {},
   "outputs": [],
   "source": [
    "dictionaries = []\n",
    "for weights in weights_20:\n",
    "    dictionary = {'f1': weights[0], 'f2': weights[1]}\n",
    "    dictionaries.append(dictionary)"
   ]
  },
  {
   "cell_type": "code",
   "execution_count": 164,
   "id": "foster-satellite",
   "metadata": {},
   "outputs": [
    {
     "data": {
      "text/plain": [
       "[{'f1': 0.0, 'f2': 1.0},\n",
       " {'f1': 0.05, 'f2': 0.95},\n",
       " {'f1': 0.1, 'f2': 0.9},\n",
       " {'f1': 0.15, 'f2': 0.85},\n",
       " {'f1': 0.2, 'f2': 0.8},\n",
       " {'f1': 0.25, 'f2': 0.75},\n",
       " {'f1': 0.3, 'f2': 0.7},\n",
       " {'f1': 0.35, 'f2': 0.65},\n",
       " {'f1': 0.4, 'f2': 0.6},\n",
       " {'f1': 0.45, 'f2': 0.55},\n",
       " {'f1': 0.5, 'f2': 0.5},\n",
       " {'f1': 0.55, 'f2': 0.45},\n",
       " {'f1': 0.6, 'f2': 0.4},\n",
       " {'f1': 0.65, 'f2': 0.35},\n",
       " {'f1': 0.7, 'f2': 0.3},\n",
       " {'f1': 0.75, 'f2': 0.25},\n",
       " {'f1': 0.8, 'f2': 0.2},\n",
       " {'f1': 0.85, 'f2': 0.15},\n",
       " {'f1': 0.9, 'f2': 0.1},\n",
       " {'f1': 0.95, 'f2': 0.05},\n",
       " {'f1': 1.0, 'f2': 0.0}]"
      ]
     },
     "execution_count": 164,
     "metadata": {},
     "output_type": "execute_result"
    }
   ],
   "source": [
    "dictionaries"
   ]
  },
  {
   "cell_type": "code",
   "execution_count": 165,
   "id": "dietary-liberia",
   "metadata": {},
   "outputs": [
    {
     "name": "stdout",
     "output_type": "stream",
     "text": [
      "obj val:  0.0\n",
      "obj val:  3708.944005601705\n",
      "obj val:  7417.88801120341\n",
      "obj val:  11126.832016805132\n",
      "obj val:  14835.77602240682\n",
      "obj val:  18544.720028008556\n",
      "obj val:  21961.8671926295\n",
      "obj val:  25081.571606516307\n",
      "obj val:  28201.2760204032\n",
      "obj val:  31320.980434290035\n",
      "obj val:  34440.684848176854\n",
      "obj val:  37560.38926206382\n",
      "obj val:  40680.093675950695\n",
      "obj val:  43799.79808983751\n",
      "obj val:  46919.502503724325\n",
      "obj val:  50039.20691761128\n",
      "obj val:  53150.74720302427\n",
      "obj val:  56250.99959826835\n",
      "obj val:  59280.0190301061\n",
      "obj val:  61144.245852106826\n",
      "obj val:  62134.38914246487\n"
     ]
    }
   ],
   "source": [
    "## Configuration 1 \n",
    "p = 2\n",
    "rl = 0.9\n",
    "objective_vals = []\n",
    "for Dict in dictionaries:\n",
    "    run_Model(p, rl, Dict)\n",
    "    objective_vals.append([Dict['f1'], Dict['f2'], Cost_dict['f1'], Cost_dict['f2'], Summary_dict[\"OpenMPs\"], Summary_dict[\"OpenDCs\"]])"
   ]
  },
  {
   "cell_type": "code",
   "execution_count": 166,
   "id": "agreed-optics",
   "metadata": {},
   "outputs": [
    {
     "data": {
      "text/html": [
       "<div>\n",
       "<style scoped>\n",
       "    .dataframe tbody tr th:only-of-type {\n",
       "        vertical-align: middle;\n",
       "    }\n",
       "\n",
       "    .dataframe tbody tr th {\n",
       "        vertical-align: top;\n",
       "    }\n",
       "\n",
       "    .dataframe thead th {\n",
       "        text-align: right;\n",
       "    }\n",
       "</style>\n",
       "<table border=\"1\" class=\"dataframe\">\n",
       "  <thead>\n",
       "    <tr style=\"text-align: right;\">\n",
       "      <th></th>\n",
       "      <th>f1 weight</th>\n",
       "      <th>f2 weight</th>\n",
       "      <th>f1</th>\n",
       "      <th>f2</th>\n",
       "      <th>Plants</th>\n",
       "      <th>DCs</th>\n",
       "    </tr>\n",
       "  </thead>\n",
       "  <tbody>\n",
       "    <tr>\n",
       "      <th>0</th>\n",
       "      <td>0.00</td>\n",
       "      <td>1.00</td>\n",
       "      <td>79239.38</td>\n",
       "      <td>0.0</td>\n",
       "      <td>2.0</td>\n",
       "      <td>3.0</td>\n",
       "    </tr>\n",
       "    <tr>\n",
       "      <th>1</th>\n",
       "      <td>0.05</td>\n",
       "      <td>0.95</td>\n",
       "      <td>74178.86</td>\n",
       "      <td>0.0</td>\n",
       "      <td>2.0</td>\n",
       "      <td>3.0</td>\n",
       "    </tr>\n",
       "    <tr>\n",
       "      <th>2</th>\n",
       "      <td>0.10</td>\n",
       "      <td>0.90</td>\n",
       "      <td>74178.86</td>\n",
       "      <td>0.0</td>\n",
       "      <td>2.0</td>\n",
       "      <td>3.0</td>\n",
       "    </tr>\n",
       "    <tr>\n",
       "      <th>3</th>\n",
       "      <td>0.15</td>\n",
       "      <td>0.85</td>\n",
       "      <td>74178.86</td>\n",
       "      <td>0.0</td>\n",
       "      <td>2.0</td>\n",
       "      <td>3.0</td>\n",
       "    </tr>\n",
       "    <tr>\n",
       "      <th>4</th>\n",
       "      <td>0.20</td>\n",
       "      <td>0.80</td>\n",
       "      <td>74178.86</td>\n",
       "      <td>0.0</td>\n",
       "      <td>2.0</td>\n",
       "      <td>3.0</td>\n",
       "    </tr>\n",
       "    <tr>\n",
       "      <th>5</th>\n",
       "      <td>0.25</td>\n",
       "      <td>0.75</td>\n",
       "      <td>74178.86</td>\n",
       "      <td>0.0</td>\n",
       "      <td>2.0</td>\n",
       "      <td>3.0</td>\n",
       "    </tr>\n",
       "    <tr>\n",
       "      <th>6</th>\n",
       "      <td>0.30</td>\n",
       "      <td>0.70</td>\n",
       "      <td>65637.76</td>\n",
       "      <td>3244.0</td>\n",
       "      <td>2.0</td>\n",
       "      <td>2.0</td>\n",
       "    </tr>\n",
       "    <tr>\n",
       "      <th>7</th>\n",
       "      <td>0.35</td>\n",
       "      <td>0.65</td>\n",
       "      <td>65637.76</td>\n",
       "      <td>3244.0</td>\n",
       "      <td>2.0</td>\n",
       "      <td>2.0</td>\n",
       "    </tr>\n",
       "    <tr>\n",
       "      <th>8</th>\n",
       "      <td>0.40</td>\n",
       "      <td>0.60</td>\n",
       "      <td>65637.71</td>\n",
       "      <td>3244.0</td>\n",
       "      <td>2.0</td>\n",
       "      <td>2.0</td>\n",
       "    </tr>\n",
       "    <tr>\n",
       "      <th>9</th>\n",
       "      <td>0.45</td>\n",
       "      <td>0.55</td>\n",
       "      <td>65637.76</td>\n",
       "      <td>3244.0</td>\n",
       "      <td>2.0</td>\n",
       "      <td>2.0</td>\n",
       "    </tr>\n",
       "    <tr>\n",
       "      <th>10</th>\n",
       "      <td>0.50</td>\n",
       "      <td>0.50</td>\n",
       "      <td>65637.76</td>\n",
       "      <td>3244.0</td>\n",
       "      <td>2.0</td>\n",
       "      <td>2.0</td>\n",
       "    </tr>\n",
       "    <tr>\n",
       "      <th>11</th>\n",
       "      <td>0.55</td>\n",
       "      <td>0.45</td>\n",
       "      <td>65637.76</td>\n",
       "      <td>3244.0</td>\n",
       "      <td>2.0</td>\n",
       "      <td>2.0</td>\n",
       "    </tr>\n",
       "    <tr>\n",
       "      <th>12</th>\n",
       "      <td>0.60</td>\n",
       "      <td>0.40</td>\n",
       "      <td>65637.71</td>\n",
       "      <td>3244.0</td>\n",
       "      <td>2.0</td>\n",
       "      <td>2.0</td>\n",
       "    </tr>\n",
       "    <tr>\n",
       "      <th>13</th>\n",
       "      <td>0.65</td>\n",
       "      <td>0.35</td>\n",
       "      <td>65637.71</td>\n",
       "      <td>3244.0</td>\n",
       "      <td>2.0</td>\n",
       "      <td>2.0</td>\n",
       "    </tr>\n",
       "    <tr>\n",
       "      <th>14</th>\n",
       "      <td>0.70</td>\n",
       "      <td>0.30</td>\n",
       "      <td>65637.76</td>\n",
       "      <td>3244.0</td>\n",
       "      <td>2.0</td>\n",
       "      <td>2.0</td>\n",
       "    </tr>\n",
       "    <tr>\n",
       "      <th>15</th>\n",
       "      <td>0.75</td>\n",
       "      <td>0.25</td>\n",
       "      <td>65637.76</td>\n",
       "      <td>3244.0</td>\n",
       "      <td>2.0</td>\n",
       "      <td>2.0</td>\n",
       "    </tr>\n",
       "    <tr>\n",
       "      <th>16</th>\n",
       "      <td>0.80</td>\n",
       "      <td>0.20</td>\n",
       "      <td>65551.71</td>\n",
       "      <td>3547.0</td>\n",
       "      <td>2.0</td>\n",
       "      <td>2.0</td>\n",
       "    </tr>\n",
       "    <tr>\n",
       "      <th>17</th>\n",
       "      <td>0.85</td>\n",
       "      <td>0.15</td>\n",
       "      <td>65551.67</td>\n",
       "      <td>3547.0</td>\n",
       "      <td>2.0</td>\n",
       "      <td>2.0</td>\n",
       "    </tr>\n",
       "    <tr>\n",
       "      <th>18</th>\n",
       "      <td>0.90</td>\n",
       "      <td>0.10</td>\n",
       "      <td>65224.71</td>\n",
       "      <td>5779.0</td>\n",
       "      <td>2.0</td>\n",
       "      <td>2.0</td>\n",
       "    </tr>\n",
       "    <tr>\n",
       "      <th>19</th>\n",
       "      <td>0.95</td>\n",
       "      <td>0.05</td>\n",
       "      <td>62278.43</td>\n",
       "      <td>39599.0</td>\n",
       "      <td>0.0</td>\n",
       "      <td>0.0</td>\n",
       "    </tr>\n",
       "    <tr>\n",
       "      <th>20</th>\n",
       "      <td>1.00</td>\n",
       "      <td>0.00</td>\n",
       "      <td>62134.24</td>\n",
       "      <td>62134.0</td>\n",
       "      <td>0.0</td>\n",
       "      <td>0.0</td>\n",
       "    </tr>\n",
       "  </tbody>\n",
       "</table>\n",
       "</div>"
      ],
      "text/plain": [
       "    f1 weight  f2 weight        f1       f2  Plants  DCs\n",
       "0        0.00       1.00  79239.38      0.0     2.0  3.0\n",
       "1        0.05       0.95  74178.86      0.0     2.0  3.0\n",
       "2        0.10       0.90  74178.86      0.0     2.0  3.0\n",
       "3        0.15       0.85  74178.86      0.0     2.0  3.0\n",
       "4        0.20       0.80  74178.86      0.0     2.0  3.0\n",
       "5        0.25       0.75  74178.86      0.0     2.0  3.0\n",
       "6        0.30       0.70  65637.76   3244.0     2.0  2.0\n",
       "7        0.35       0.65  65637.76   3244.0     2.0  2.0\n",
       "8        0.40       0.60  65637.71   3244.0     2.0  2.0\n",
       "9        0.45       0.55  65637.76   3244.0     2.0  2.0\n",
       "10       0.50       0.50  65637.76   3244.0     2.0  2.0\n",
       "11       0.55       0.45  65637.76   3244.0     2.0  2.0\n",
       "12       0.60       0.40  65637.71   3244.0     2.0  2.0\n",
       "13       0.65       0.35  65637.71   3244.0     2.0  2.0\n",
       "14       0.70       0.30  65637.76   3244.0     2.0  2.0\n",
       "15       0.75       0.25  65637.76   3244.0     2.0  2.0\n",
       "16       0.80       0.20  65551.71   3547.0     2.0  2.0\n",
       "17       0.85       0.15  65551.67   3547.0     2.0  2.0\n",
       "18       0.90       0.10  65224.71   5779.0     2.0  2.0\n",
       "19       0.95       0.05  62278.43  39599.0     0.0  0.0\n",
       "20       1.00       0.00  62134.24  62134.0     0.0  0.0"
      ]
     },
     "execution_count": 166,
     "metadata": {},
     "output_type": "execute_result"
    }
   ],
   "source": [
    "df_1 = pd.DataFrame((objective_vals), columns = [\"f1 weight\", \"f2 weight\", \"f1\", \"f2\", \"Plants\", \"DCs\"])\n",
    "df_1"
   ]
  },
  {
   "cell_type": "code",
   "execution_count": 167,
   "id": "wicked-rouge",
   "metadata": {},
   "outputs": [],
   "source": [
    "f2_1 = list(df_1['f2'])\n",
    "f1_1 = list(df_1['f1'])"
   ]
  },
  {
   "cell_type": "code",
   "execution_count": 170,
   "id": "appropriate-geography",
   "metadata": {},
   "outputs": [
    {
     "data": {
      "image/png": "[encoded data removed]",
      "text/plain": [
       "<Figure size 432x288 with 1 Axes>"
      ]
     },
     "metadata": {
      "needs_background": "light"
     },
     "output_type": "display_data"
    }
   ],
   "source": [
    "plt.scatter(f2_1, f1_1)\n",
    "plt.xlabel('f2 (Demand Penalties)')\n",
    "plt.ylabel('f1 (Cost)')\n",
    "plt.xlim(0, 65000)\n",
    "\n",
    "plt.show()"
   ]
  },
  {
   "cell_type": "code",
   "execution_count": 112,
   "id": "historical-surveillance",
   "metadata": {},
   "outputs": [
    {
     "name": "stdout",
     "output_type": "stream",
     "text": [
      "obj val:  0.0\n",
      "obj val:  3686.9828794520636\n",
      "obj val:  7373.965758904127\n",
      "obj val:  11060.948638356207\n",
      "obj val:  14747.931517808254\n",
      "obj val:  18310.68114110809\n",
      "obj val:  21444.897369329756\n",
      "obj val:  24579.11359755133\n",
      "obj val:  27713.32982577297\n",
      "obj val:  30847.54605399457\n",
      "obj val:  33981.76228221618\n",
      "obj val:  37115.97851043787\n",
      "obj val:  40250.194738659506\n",
      "obj val:  43384.41096688109\n",
      "obj val:  46518.62719510267\n",
      "obj val:  49652.843423324375\n",
      "obj val:  52786.37428270099\n",
      "obj val:  55918.57446108419\n",
      "obj val:  59049.586592673986\n",
      "obj val:  62172.22870496549\n",
      "obj val:  65105.20914677143\n"
     ]
    }
   ],
   "source": [
    "## Configuration 2 \n",
    "p = 2\n",
    "rl = 0.8\n",
    "objective_vals = []\n",
    "for Dict in dictionaries:\n",
    "    run_Model(p, rl, Dict)\n",
    "    objective_vals.append([Dict['f1'], Dict['f2'], Cost_dict['f1'], Cost_dict['f2'], Summary_dict[\"OpenMPs\"], Summary_dict[\"OpenDCs\"]])"
   ]
  },
  {
   "cell_type": "code",
   "execution_count": 113,
   "id": "administrative-result",
   "metadata": {},
   "outputs": [
    {
     "data": {
      "text/html": [
       "<div>\n",
       "<style scoped>\n",
       "    .dataframe tbody tr th:only-of-type {\n",
       "        vertical-align: middle;\n",
       "    }\n",
       "\n",
       "    .dataframe tbody tr th {\n",
       "        vertical-align: top;\n",
       "    }\n",
       "\n",
       "    .dataframe thead th {\n",
       "        text-align: right;\n",
       "    }\n",
       "</style>\n",
       "<table border=\"1\" class=\"dataframe\">\n",
       "  <thead>\n",
       "    <tr style=\"text-align: right;\">\n",
       "      <th></th>\n",
       "      <th>f1 weight</th>\n",
       "      <th>f2 weight</th>\n",
       "      <th>f1</th>\n",
       "      <th>f2</th>\n",
       "      <th>Plants</th>\n",
       "      <th>DCs</th>\n",
       "    </tr>\n",
       "  </thead>\n",
       "  <tbody>\n",
       "    <tr>\n",
       "      <th>0</th>\n",
       "      <td>0.00</td>\n",
       "      <td>1.00</td>\n",
       "      <td>81470.38</td>\n",
       "      <td>0.0</td>\n",
       "      <td>2.0</td>\n",
       "      <td>3.0</td>\n",
       "    </tr>\n",
       "    <tr>\n",
       "      <th>1</th>\n",
       "      <td>0.05</td>\n",
       "      <td>0.95</td>\n",
       "      <td>73739.62</td>\n",
       "      <td>0.0</td>\n",
       "      <td>2.0</td>\n",
       "      <td>3.0</td>\n",
       "    </tr>\n",
       "    <tr>\n",
       "      <th>2</th>\n",
       "      <td>0.10</td>\n",
       "      <td>0.90</td>\n",
       "      <td>73739.62</td>\n",
       "      <td>0.0</td>\n",
       "      <td>2.0</td>\n",
       "      <td>3.0</td>\n",
       "    </tr>\n",
       "    <tr>\n",
       "      <th>3</th>\n",
       "      <td>0.15</td>\n",
       "      <td>0.85</td>\n",
       "      <td>73739.62</td>\n",
       "      <td>0.0</td>\n",
       "      <td>2.0</td>\n",
       "      <td>3.0</td>\n",
       "    </tr>\n",
       "    <tr>\n",
       "      <th>4</th>\n",
       "      <td>0.20</td>\n",
       "      <td>0.80</td>\n",
       "      <td>73739.62</td>\n",
       "      <td>0.0</td>\n",
       "      <td>2.0</td>\n",
       "      <td>3.0</td>\n",
       "    </tr>\n",
       "    <tr>\n",
       "      <th>5</th>\n",
       "      <td>0.25</td>\n",
       "      <td>0.75</td>\n",
       "      <td>65324.00</td>\n",
       "      <td>2640.0</td>\n",
       "      <td>2.0</td>\n",
       "      <td>2.0</td>\n",
       "    </tr>\n",
       "    <tr>\n",
       "      <th>6</th>\n",
       "      <td>0.30</td>\n",
       "      <td>0.70</td>\n",
       "      <td>65324.00</td>\n",
       "      <td>2640.0</td>\n",
       "      <td>2.0</td>\n",
       "      <td>2.0</td>\n",
       "    </tr>\n",
       "    <tr>\n",
       "      <th>7</th>\n",
       "      <td>0.35</td>\n",
       "      <td>0.65</td>\n",
       "      <td>65324.00</td>\n",
       "      <td>2640.0</td>\n",
       "      <td>2.0</td>\n",
       "      <td>2.0</td>\n",
       "    </tr>\n",
       "    <tr>\n",
       "      <th>8</th>\n",
       "      <td>0.40</td>\n",
       "      <td>0.60</td>\n",
       "      <td>65323.95</td>\n",
       "      <td>2640.0</td>\n",
       "      <td>2.0</td>\n",
       "      <td>2.0</td>\n",
       "    </tr>\n",
       "    <tr>\n",
       "      <th>9</th>\n",
       "      <td>0.45</td>\n",
       "      <td>0.55</td>\n",
       "      <td>65323.95</td>\n",
       "      <td>2640.0</td>\n",
       "      <td>2.0</td>\n",
       "      <td>2.0</td>\n",
       "    </tr>\n",
       "    <tr>\n",
       "      <th>10</th>\n",
       "      <td>0.50</td>\n",
       "      <td>0.50</td>\n",
       "      <td>65324.00</td>\n",
       "      <td>2640.0</td>\n",
       "      <td>2.0</td>\n",
       "      <td>2.0</td>\n",
       "    </tr>\n",
       "    <tr>\n",
       "      <th>11</th>\n",
       "      <td>0.55</td>\n",
       "      <td>0.45</td>\n",
       "      <td>65323.95</td>\n",
       "      <td>2640.0</td>\n",
       "      <td>2.0</td>\n",
       "      <td>2.0</td>\n",
       "    </tr>\n",
       "    <tr>\n",
       "      <th>12</th>\n",
       "      <td>0.60</td>\n",
       "      <td>0.40</td>\n",
       "      <td>65323.95</td>\n",
       "      <td>2640.0</td>\n",
       "      <td>2.0</td>\n",
       "      <td>2.0</td>\n",
       "    </tr>\n",
       "    <tr>\n",
       "      <th>13</th>\n",
       "      <td>0.65</td>\n",
       "      <td>0.35</td>\n",
       "      <td>65323.95</td>\n",
       "      <td>2640.0</td>\n",
       "      <td>2.0</td>\n",
       "      <td>2.0</td>\n",
       "    </tr>\n",
       "    <tr>\n",
       "      <th>14</th>\n",
       "      <td>0.70</td>\n",
       "      <td>0.30</td>\n",
       "      <td>65324.00</td>\n",
       "      <td>2640.0</td>\n",
       "      <td>2.0</td>\n",
       "      <td>2.0</td>\n",
       "    </tr>\n",
       "    <tr>\n",
       "      <th>15</th>\n",
       "      <td>0.75</td>\n",
       "      <td>0.25</td>\n",
       "      <td>65323.95</td>\n",
       "      <td>2640.0</td>\n",
       "      <td>2.0</td>\n",
       "      <td>2.0</td>\n",
       "    </tr>\n",
       "    <tr>\n",
       "      <th>16</th>\n",
       "      <td>0.80</td>\n",
       "      <td>0.20</td>\n",
       "      <td>65315.29</td>\n",
       "      <td>2671.0</td>\n",
       "      <td>2.0</td>\n",
       "      <td>2.0</td>\n",
       "    </tr>\n",
       "    <tr>\n",
       "      <th>17</th>\n",
       "      <td>0.85</td>\n",
       "      <td>0.15</td>\n",
       "      <td>65315.24</td>\n",
       "      <td>2671.0</td>\n",
       "      <td>2.0</td>\n",
       "      <td>2.0</td>\n",
       "    </tr>\n",
       "    <tr>\n",
       "      <th>18</th>\n",
       "      <td>0.90</td>\n",
       "      <td>0.10</td>\n",
       "      <td>65295.00</td>\n",
       "      <td>2842.0</td>\n",
       "      <td>2.0</td>\n",
       "      <td>2.0</td>\n",
       "    </tr>\n",
       "    <tr>\n",
       "      <th>19</th>\n",
       "      <td>0.95</td>\n",
       "      <td>0.05</td>\n",
       "      <td>65295.00</td>\n",
       "      <td>2842.0</td>\n",
       "      <td>2.0</td>\n",
       "      <td>2.0</td>\n",
       "    </tr>\n",
       "    <tr>\n",
       "      <th>20</th>\n",
       "      <td>1.00</td>\n",
       "      <td>0.00</td>\n",
       "      <td>65105.10</td>\n",
       "      <td>23885.0</td>\n",
       "      <td>2.0</td>\n",
       "      <td>2.0</td>\n",
       "    </tr>\n",
       "  </tbody>\n",
       "</table>\n",
       "</div>"
      ],
      "text/plain": [
       "    f1 weight  f2 weight        f1       f2  Plants  DCs\n",
       "0        0.00       1.00  81470.38      0.0     2.0  3.0\n",
       "1        0.05       0.95  73739.62      0.0     2.0  3.0\n",
       "2        0.10       0.90  73739.62      0.0     2.0  3.0\n",
       "3        0.15       0.85  73739.62      0.0     2.0  3.0\n",
       "4        0.20       0.80  73739.62      0.0     2.0  3.0\n",
       "5        0.25       0.75  65324.00   2640.0     2.0  2.0\n",
       "6        0.30       0.70  65324.00   2640.0     2.0  2.0\n",
       "7        0.35       0.65  65324.00   2640.0     2.0  2.0\n",
       "8        0.40       0.60  65323.95   2640.0     2.0  2.0\n",
       "9        0.45       0.55  65323.95   2640.0     2.0  2.0\n",
       "10       0.50       0.50  65324.00   2640.0     2.0  2.0\n",
       "11       0.55       0.45  65323.95   2640.0     2.0  2.0\n",
       "12       0.60       0.40  65323.95   2640.0     2.0  2.0\n",
       "13       0.65       0.35  65323.95   2640.0     2.0  2.0\n",
       "14       0.70       0.30  65324.00   2640.0     2.0  2.0\n",
       "15       0.75       0.25  65323.95   2640.0     2.0  2.0\n",
       "16       0.80       0.20  65315.29   2671.0     2.0  2.0\n",
       "17       0.85       0.15  65315.24   2671.0     2.0  2.0\n",
       "18       0.90       0.10  65295.00   2842.0     2.0  2.0\n",
       "19       0.95       0.05  65295.00   2842.0     2.0  2.0\n",
       "20       1.00       0.00  65105.10  23885.0     2.0  2.0"
      ]
     },
     "execution_count": 113,
     "metadata": {},
     "output_type": "execute_result"
    }
   ],
   "source": [
    "df_2 = pd.DataFrame((objective_vals), columns = [\"f1 weight\", \"f2 weight\", \"f1\", \"f2\", \"Plants\", \"DCs\"])\n",
    "df_2"
   ]
  },
  {
   "cell_type": "code",
   "execution_count": 114,
   "id": "unavailable-engagement",
   "metadata": {},
   "outputs": [],
   "source": [
    "f2_2 = list(df_2['f2'])\n",
    "f1_2 = list(df_2['f1'])"
   ]
  },
  {
   "cell_type": "code",
   "execution_count": 115,
   "id": "conscious-watson",
   "metadata": {},
   "outputs": [
    {
     "data": {
      "image/png": "[encoded data removed]",
      "text/plain": [
       "<Figure size 432x288 with 1 Axes>"
      ]
     },
     "metadata": {
      "needs_background": "light"
     },
     "output_type": "display_data"
    }
   ],
   "source": [
    "plt.scatter(f2_2[1:],f1_2[1:])\n",
    "plt.xlabel('f2 (Demand Penalties)')\n",
    "plt.ylabel('f1 (Cost)')\n",
    "plt.show()"
   ]
  },
  {
   "cell_type": "code",
   "execution_count": 239,
   "id": "going-directory",
   "metadata": {},
   "outputs": [
    {
     "name": "stdout",
     "output_type": "stream",
     "text": [
      "obj val:  0.0\n",
      "obj val:  2922.759677830677\n",
      "obj val:  5845.519355661354\n",
      "obj val:  8591.848617813606\n",
      "obj val:  10811.05529994195\n",
      "obj val:  13030.261982070304\n",
      "obj val:  15249.468664198645\n",
      "obj val:  17468.675346327014\n",
      "obj val:  19687.88202845533\n",
      "obj val:  21907.088710583714\n",
      "obj val:  24126.295392712036\n",
      "obj val:  26345.502074840384\n",
      "obj val:  28564.708756968717\n",
      "obj val:  30783.915439097065\n",
      "obj val:  32999.13686104276\n",
      "obj val:  34930.05888172939\n",
      "obj val:  36860.980902416144\n",
      "obj val:  38791.902923102796\n",
      "obj val:  40722.82494378972\n",
      "obj val:  42546.97080221386\n",
      "obj val:  43870.46116127693\n"
     ]
    }
   ],
   "source": [
    "## Configuration 3\n",
    "p = 2\n",
    "rl = 0.6\n",
    "objective_vals = []\n",
    "for Dict in dictionaries:\n",
    "    run_Model(p, rl, Dict)\n",
    "    objective_vals.append([Dict['f1'], Dict['f2'], Cost_dict['f1'], Cost_dict['f2'], Summary_dict[\"OpenMPs\"], Summary_dict[\"OpenDCs\"]])"
   ]
  },
  {
   "cell_type": "code",
   "execution_count": 240,
   "id": "important-mexico",
   "metadata": {},
   "outputs": [
    {
     "data": {
      "text/html": [
       "<div>\n",
       "<style scoped>\n",
       "    .dataframe tbody tr th:only-of-type {\n",
       "        vertical-align: middle;\n",
       "    }\n",
       "\n",
       "    .dataframe tbody tr th {\n",
       "        vertical-align: top;\n",
       "    }\n",
       "\n",
       "    .dataframe thead th {\n",
       "        text-align: right;\n",
       "    }\n",
       "</style>\n",
       "<table border=\"1\" class=\"dataframe\">\n",
       "  <thead>\n",
       "    <tr style=\"text-align: right;\">\n",
       "      <th></th>\n",
       "      <th>f1 weight</th>\n",
       "      <th>f2 weight</th>\n",
       "      <th>f1</th>\n",
       "      <th>f2</th>\n",
       "      <th>Plants</th>\n",
       "      <th>DCs</th>\n",
       "    </tr>\n",
       "  </thead>\n",
       "  <tbody>\n",
       "    <tr>\n",
       "      <th>0</th>\n",
       "      <td>0.00</td>\n",
       "      <td>1.00</td>\n",
       "      <td>62494.71</td>\n",
       "      <td>0.0</td>\n",
       "      <td>2.0</td>\n",
       "      <td>3.0</td>\n",
       "    </tr>\n",
       "    <tr>\n",
       "      <th>1</th>\n",
       "      <td>0.05</td>\n",
       "      <td>0.95</td>\n",
       "      <td>58455.38</td>\n",
       "      <td>0.0</td>\n",
       "      <td>2.0</td>\n",
       "      <td>3.0</td>\n",
       "    </tr>\n",
       "    <tr>\n",
       "      <th>2</th>\n",
       "      <td>0.10</td>\n",
       "      <td>0.90</td>\n",
       "      <td>58455.38</td>\n",
       "      <td>0.0</td>\n",
       "      <td>2.0</td>\n",
       "      <td>3.0</td>\n",
       "    </tr>\n",
       "    <tr>\n",
       "      <th>3</th>\n",
       "      <td>0.15</td>\n",
       "      <td>0.85</td>\n",
       "      <td>46318.62</td>\n",
       "      <td>1934.0</td>\n",
       "      <td>2.0</td>\n",
       "      <td>2.0</td>\n",
       "    </tr>\n",
       "    <tr>\n",
       "      <th>4</th>\n",
       "      <td>0.20</td>\n",
       "      <td>0.80</td>\n",
       "      <td>46318.62</td>\n",
       "      <td>1934.0</td>\n",
       "      <td>2.0</td>\n",
       "      <td>2.0</td>\n",
       "    </tr>\n",
       "    <tr>\n",
       "      <th>5</th>\n",
       "      <td>0.25</td>\n",
       "      <td>0.75</td>\n",
       "      <td>46318.62</td>\n",
       "      <td>1934.0</td>\n",
       "      <td>2.0</td>\n",
       "      <td>2.0</td>\n",
       "    </tr>\n",
       "    <tr>\n",
       "      <th>6</th>\n",
       "      <td>0.30</td>\n",
       "      <td>0.70</td>\n",
       "      <td>46318.62</td>\n",
       "      <td>1934.0</td>\n",
       "      <td>2.0</td>\n",
       "      <td>2.0</td>\n",
       "    </tr>\n",
       "    <tr>\n",
       "      <th>7</th>\n",
       "      <td>0.35</td>\n",
       "      <td>0.65</td>\n",
       "      <td>46318.62</td>\n",
       "      <td>1934.0</td>\n",
       "      <td>2.0</td>\n",
       "      <td>2.0</td>\n",
       "    </tr>\n",
       "    <tr>\n",
       "      <th>8</th>\n",
       "      <td>0.40</td>\n",
       "      <td>0.60</td>\n",
       "      <td>46318.62</td>\n",
       "      <td>1934.0</td>\n",
       "      <td>2.0</td>\n",
       "      <td>2.0</td>\n",
       "    </tr>\n",
       "    <tr>\n",
       "      <th>9</th>\n",
       "      <td>0.45</td>\n",
       "      <td>0.55</td>\n",
       "      <td>46318.62</td>\n",
       "      <td>1934.0</td>\n",
       "      <td>2.0</td>\n",
       "      <td>2.0</td>\n",
       "    </tr>\n",
       "    <tr>\n",
       "      <th>10</th>\n",
       "      <td>0.50</td>\n",
       "      <td>0.50</td>\n",
       "      <td>46318.62</td>\n",
       "      <td>1934.0</td>\n",
       "      <td>2.0</td>\n",
       "      <td>2.0</td>\n",
       "    </tr>\n",
       "    <tr>\n",
       "      <th>11</th>\n",
       "      <td>0.55</td>\n",
       "      <td>0.45</td>\n",
       "      <td>46318.62</td>\n",
       "      <td>1934.0</td>\n",
       "      <td>2.0</td>\n",
       "      <td>2.0</td>\n",
       "    </tr>\n",
       "    <tr>\n",
       "      <th>12</th>\n",
       "      <td>0.60</td>\n",
       "      <td>0.40</td>\n",
       "      <td>46318.62</td>\n",
       "      <td>1934.0</td>\n",
       "      <td>2.0</td>\n",
       "      <td>2.0</td>\n",
       "    </tr>\n",
       "    <tr>\n",
       "      <th>13</th>\n",
       "      <td>0.65</td>\n",
       "      <td>0.35</td>\n",
       "      <td>46318.62</td>\n",
       "      <td>1934.0</td>\n",
       "      <td>2.0</td>\n",
       "      <td>2.0</td>\n",
       "    </tr>\n",
       "    <tr>\n",
       "      <th>14</th>\n",
       "      <td>0.70</td>\n",
       "      <td>0.30</td>\n",
       "      <td>44584.86</td>\n",
       "      <td>5966.0</td>\n",
       "      <td>1.0</td>\n",
       "      <td>2.0</td>\n",
       "    </tr>\n",
       "    <tr>\n",
       "      <th>15</th>\n",
       "      <td>0.75</td>\n",
       "      <td>0.25</td>\n",
       "      <td>44584.86</td>\n",
       "      <td>5966.0</td>\n",
       "      <td>1.0</td>\n",
       "      <td>2.0</td>\n",
       "    </tr>\n",
       "    <tr>\n",
       "      <th>16</th>\n",
       "      <td>0.80</td>\n",
       "      <td>0.20</td>\n",
       "      <td>44584.86</td>\n",
       "      <td>5966.0</td>\n",
       "      <td>1.0</td>\n",
       "      <td>2.0</td>\n",
       "    </tr>\n",
       "    <tr>\n",
       "      <th>17</th>\n",
       "      <td>0.85</td>\n",
       "      <td>0.15</td>\n",
       "      <td>44584.86</td>\n",
       "      <td>5966.0</td>\n",
       "      <td>1.0</td>\n",
       "      <td>2.0</td>\n",
       "    </tr>\n",
       "    <tr>\n",
       "      <th>18</th>\n",
       "      <td>0.90</td>\n",
       "      <td>0.10</td>\n",
       "      <td>44584.86</td>\n",
       "      <td>5966.0</td>\n",
       "      <td>1.0</td>\n",
       "      <td>2.0</td>\n",
       "    </tr>\n",
       "    <tr>\n",
       "      <th>19</th>\n",
       "      <td>0.95</td>\n",
       "      <td>0.05</td>\n",
       "      <td>44140.10</td>\n",
       "      <td>12285.0</td>\n",
       "      <td>1.0</td>\n",
       "      <td>1.0</td>\n",
       "    </tr>\n",
       "    <tr>\n",
       "      <th>20</th>\n",
       "      <td>1.00</td>\n",
       "      <td>0.00</td>\n",
       "      <td>43870.86</td>\n",
       "      <td>45301.0</td>\n",
       "      <td>0.0</td>\n",
       "      <td>0.0</td>\n",
       "    </tr>\n",
       "  </tbody>\n",
       "</table>\n",
       "</div>"
      ],
      "text/plain": [
       "    f1 weight  f2 weight        f1       f2  Plants  DCs\n",
       "0        0.00       1.00  62494.71      0.0     2.0  3.0\n",
       "1        0.05       0.95  58455.38      0.0     2.0  3.0\n",
       "2        0.10       0.90  58455.38      0.0     2.0  3.0\n",
       "3        0.15       0.85  46318.62   1934.0     2.0  2.0\n",
       "4        0.20       0.80  46318.62   1934.0     2.0  2.0\n",
       "5        0.25       0.75  46318.62   1934.0     2.0  2.0\n",
       "6        0.30       0.70  46318.62   1934.0     2.0  2.0\n",
       "7        0.35       0.65  46318.62   1934.0     2.0  2.0\n",
       "8        0.40       0.60  46318.62   1934.0     2.0  2.0\n",
       "9        0.45       0.55  46318.62   1934.0     2.0  2.0\n",
       "10       0.50       0.50  46318.62   1934.0     2.0  2.0\n",
       "11       0.55       0.45  46318.62   1934.0     2.0  2.0\n",
       "12       0.60       0.40  46318.62   1934.0     2.0  2.0\n",
       "13       0.65       0.35  46318.62   1934.0     2.0  2.0\n",
       "14       0.70       0.30  44584.86   5966.0     1.0  2.0\n",
       "15       0.75       0.25  44584.86   5966.0     1.0  2.0\n",
       "16       0.80       0.20  44584.86   5966.0     1.0  2.0\n",
       "17       0.85       0.15  44584.86   5966.0     1.0  2.0\n",
       "18       0.90       0.10  44584.86   5966.0     1.0  2.0\n",
       "19       0.95       0.05  44140.10  12285.0     1.0  1.0\n",
       "20       1.00       0.00  43870.86  45301.0     0.0  0.0"
      ]
     },
     "execution_count": 240,
     "metadata": {},
     "output_type": "execute_result"
    }
   ],
   "source": [
    "df_3 = pd.DataFrame((objective_vals), columns = [\"f1 weight\", \"f2 weight\", \"f1\", \"f2\", \"Plants\", \"DCs\"])\n",
    "df_3"
   ]
  },
  {
   "cell_type": "code",
   "execution_count": 241,
   "id": "strong-freedom",
   "metadata": {},
   "outputs": [],
   "source": [
    "f2_3 = list(df_3['f2'])\n",
    "f1_3 = list(df_3['f1'])"
   ]
  },
  {
   "cell_type": "code",
   "execution_count": 242,
   "id": "classical-transparency",
   "metadata": {},
   "outputs": [
    {
     "data": {
      "image/png": "[encoded data removed]",
      "text/plain": [
       "<Figure size 432x288 with 1 Axes>"
      ]
     },
     "metadata": {
      "needs_background": "light"
     },
     "output_type": "display_data"
    }
   ],
   "source": [
    "plt.scatter(f2_3[1:], f1_3[1:])\n",
    "plt.xlabel('f2 (Demand Penalties)')\n",
    "plt.ylabel('f1 (Cost)')\n",
    "plt.show()"
   ]
  },
  {
   "cell_type": "code",
   "execution_count": 244,
   "id": "amazing-encounter",
   "metadata": {},
   "outputs": [
    {
     "data": {
      "image/png": "[encoded data removed]",
      "text/plain": [
       "<Figure size 432x288 with 1 Axes>"
      ]
     },
     "metadata": {
      "needs_background": "light"
     },
     "output_type": "display_data"
    }
   ],
   "source": [
    "fig = plt.figure()\n",
    "ax1 = fig.add_subplot(111)\n",
    "\n",
    "ax1.scatter(f2_1, f1_1, s=10, c='b', marker=\"o\", label='p = 2, gamma = 0.99')\n",
    "ax1.scatter(f2_2, f1_2, s=10, c='r', marker=\"o\", label='p = 2, gamma = 0.8')\n",
    "ax1.scatter(f2_3, f1_3, s=10, c='g', marker=\"o\", label='p = 2, gamma = 0.6')\n",
    "\n",
    "plt.legend(loc='upper right')\n",
    "plt.xlabel('f2 (Demand Penalties)')\n",
    "plt.ylabel('f1 (Cost)')\n",
    "plt.show()"
   ]
  },
  {
   "cell_type": "code",
   "execution_count": null,
   "id": "raising-suspension",
   "metadata": {},
   "outputs": [],
   "source": []
  },
  {
   "cell_type": "code",
   "execution_count": null,
   "id": "further-union",
   "metadata": {},
   "outputs": [],
   "source": []
  },
  {
   "cell_type": "code",
   "execution_count": null,
   "id": "developing-providence",
   "metadata": {},
   "outputs": [],
   "source": []
  }
 ],
 "metadata": {
  "kernelspec": {
   "display_name": "Python 3",
   "language": "python",
   "name": "python3"
  },
  "language_info": {
   "codemirror_mode": {
    "name": "ipython",
    "version": 3
   },
   "file_extension": ".py",
   "mimetype": "text/x-python",
   "name": "python",
   "nbconvert_exporter": "python",
   "pygments_lexer": "ipython3",
   "version": "3.7.3"
  }
 },
 "nbformat": 4,
 "nbformat_minor": 5
}
