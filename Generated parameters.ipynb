{
 "cells": [
  {
   "cell_type": "code",
   "execution_count": 366,
   "id": "promotional-copper",
   "metadata": {},
   "outputs": [],
   "source": [
    "import numpy as np\n",
    "import random\n",
    "from random import randint\n",
    "from gurobipy import *"
   ]
  },
  {
   "cell_type": "code",
   "execution_count": 367,
   "id": "interested-candy",
   "metadata": {},
   "outputs": [],
   "source": [
    "Manufacturing_plants = 2\n",
    "Distribution = 3\n",
    "Market = 4\n",
    "Products = 2\n",
    "Outsourced = 2"
   ]
  },
  {
   "cell_type": "code",
   "execution_count": 368,
   "id": "sticky-batman",
   "metadata": {},
   "outputs": [],
   "source": [
    "# Product Demand\n",
    "demand = np.random.randint(0,20,(Products,Market))"
   ]
  },
  {
   "cell_type": "code",
   "execution_count": 369,
   "id": "widespread-marine",
   "metadata": {},
   "outputs": [],
   "source": [
    "# Cost of opening\n",
    "f_i = [20, 25]\n",
    "f_j = [15, 5, 10]"
   ]
  },
  {
   "cell_type": "code",
   "execution_count": 370,
   "id": "occupied-shield",
   "metadata": {},
   "outputs": [],
   "source": [
    "# Unit cost of manufacturing product \n",
    "Manufacturing_costs = np.random.uniform(0,5, (Manufacturing_plants,Products))"
   ]
  },
  {
   "cell_type": "code",
   "execution_count": 371,
   "id": "toxic-showcase",
   "metadata": {},
   "outputs": [],
   "source": [
    "# Unit cost of transporting m from plant to DC\n",
    "Transportation_i_j = np.random.uniform(0,5, (Products, Manufacturing_plants, Distribution))"
   ]
  },
  {
   "cell_type": "code",
   "execution_count": 372,
   "id": "atmospheric-trigger",
   "metadata": {},
   "outputs": [],
   "source": [
    "# Unit cost of transporting m from DC to Market Zone\n",
    "Transportation_j_k = np.random.uniform(0,5, (Products, Distribution, Market))"
   ]
  },
  {
   "cell_type": "code",
   "execution_count": 373,
   "id": "turkish-belgium",
   "metadata": {},
   "outputs": [],
   "source": [
    "# Plant Capacities\n",
    "Capacities_i = np.random.randint(30,50,(Manufacturing_plants))\n",
    "Capacities_j = np.random.randint(30,50,(Distribution))\n",
    "Capacities_l = Supplier_cost = np.zeros((Products,Outsourced))\n",
    "np.fill_diagonal(Capacities_l, random.randint(15,20))"
   ]
  },
  {
   "cell_type": "code",
   "execution_count": 374,
   "id": "hollow-information",
   "metadata": {},
   "outputs": [],
   "source": [
    "# Cost of purchasing product m from supplier l (assume only 1 product type from each outsourcer)\n",
    "Supplier_cost = np.zeros((Products, Outsourced))\n",
    "np.fill_diagonal(Supplier_cost, random.randint(5,10))"
   ]
  },
  {
   "cell_type": "code",
   "execution_count": 375,
   "id": "determined-masters",
   "metadata": {},
   "outputs": [],
   "source": [
    "# Cost of transporting product m from supplier to j\n",
    "T_O_DC = np.zeros((Products, Outsourced, Distribution))\n",
    "T_O_DC[0][0] = np.random.uniform(5,10,(Distribution))\n",
    "T_O_DC[1][1] = np.random.uniform(5,10,(Distribution))"
   ]
  },
  {
   "cell_type": "code",
   "execution_count": 376,
   "id": "active-technology",
   "metadata": {},
   "outputs": [],
   "source": [
    "# Cost of shipping product m from supplier to k\n",
    "T_O_MZ = np.zeros((Products, Outsourced, Market))\n",
    "T_O_MZ[0][0] = np.random.uniform(5,10,(Market))\n",
    "T_O_MZ[1][1] = np.random.uniform(5,10,(Market))"
   ]
  },
  {
   "cell_type": "code",
   "execution_count": 377,
   "id": "informed-vanilla",
   "metadata": {},
   "outputs": [],
   "source": [
    "# Product volume \n",
    "volume = np.random.randint(2,5,(Products))"
   ]
  },
  {
   "cell_type": "code",
   "execution_count": 378,
   "id": "racial-franchise",
   "metadata": {},
   "outputs": [],
   "source": [
    "# unit cost of lost sales \n",
    "lost_sales = np.random.randint(150,200,(Market,Products))"
   ]
  },
  {
   "cell_type": "code",
   "execution_count": 379,
   "id": "adverse-flavor",
   "metadata": {},
   "outputs": [],
   "source": [
    "## Model"
   ]
  },
  {
   "cell_type": "code",
   "execution_count": 380,
   "id": "lyric-invitation",
   "metadata": {},
   "outputs": [],
   "source": [
    "grbModel = Model('synthetic')"
   ]
  },
  {
   "cell_type": "code",
   "execution_count": 381,
   "id": "continent-naples",
   "metadata": {},
   "outputs": [],
   "source": [
    "a_i = np.ones(Manufacturing_plants)\n",
    "b_j = np.ones(Distribution)"
   ]
  },
  {
   "cell_type": "code",
   "execution_count": 382,
   "id": "genuine-underground",
   "metadata": {},
   "outputs": [],
   "source": [
    "# Model Variables\n",
    "\n",
    "x_i = grbModel.addVars(range(Manufacturing_plants), vtype = GRB.BINARY, obj = f_i) # opening manufacturing plant\n",
    "x_j = grbModel.addVars(range(Distribution), vtype = GRB.BINARY, obj = f_j) # opening DC\n",
    "U_km = grbModel.addVars(range(Market), range(Products), vtype = GRB.INTEGER, obj = lost_sales) # quantity lost sales\n",
    "V_lm = grbModel.addVars(range(Products), range(Outsourced), vtype = GRB.INTEGER) # quantity products purchased from outsourcing\n",
    "Q_im = grbModel.addVars(range(Products), range(Manufacturing_plants), vtype = GRB.INTEGER) # quantity produced\n",
    "Y_ijm = grbModel.addVars(range(Products), range(Manufacturing_plants), range(Distribution), vtype = GRB.INTEGER) # shipping i -> j\n",
    "Z_jkm = grbModel.addVars(range(Products), range(Distribution), range(Market), vtype = GRB.INTEGER) # shipping j -> k\n",
    "T_ljm = grbModel.addVars(range(Products), range(Outsourced), range(Distribution), vtype = GRB.INTEGER) # shipping l -> j\n",
    "T_lkm = grbModel.addVars(range(Products), range(Outsourced), range(Market), vtype = GRB.INTEGER) # shipping l -> k\n"
   ]
  },
  {
   "cell_type": "code",
   "execution_count": 383,
   "id": "dynamic-lunch",
   "metadata": {},
   "outputs": [
    {
     "data": {
      "text/plain": [
       "{(0, 0): <gurobi.Constr *Awaiting Model Update*>,\n",
       " (0, 1): <gurobi.Constr *Awaiting Model Update*>,\n",
       " (1, 0): <gurobi.Constr *Awaiting Model Update*>,\n",
       " (1, 1): <gurobi.Constr *Awaiting Model Update*>,\n",
       " (2, 0): <gurobi.Constr *Awaiting Model Update*>,\n",
       " (2, 1): <gurobi.Constr *Awaiting Model Update*>,\n",
       " (3, 0): <gurobi.Constr *Awaiting Model Update*>,\n",
       " (3, 1): <gurobi.Constr *Awaiting Model Update*>}"
      ]
     },
     "execution_count": 383,
     "metadata": {},
     "output_type": "execute_result"
    }
   ],
   "source": [
    "# Model Constraints\n",
    "# Network Flow\n",
    "grbModel.addConstrs(quicksum(Y_ijm[m,i,j] for j in range(Distribution)) == Q_im[m,i] \n",
    "             for i in range(Manufacturing_plants) for m in range(Products))\n",
    "\n",
    "grbModel.addConstrs(quicksum(Z_jkm[m,j,k] for k in range(Market)) == \n",
    "                      (quicksum(Y_ijm[m,i,j] for i in range(Manufacturing_plants)) + \n",
    "                       quicksum(T_ljm[m,l,j] for l in range(Outsourced))) for j in range(Distribution) \n",
    "                      for m in range(Products))\n",
    "\n",
    "grbModel.addConstrs((quicksum(Z_jkm[m,j,k] for j in range(Distribution)) + quicksum(T_lkm[m,l,k] for l in range(Outsourced))) ==\n",
    "                      (demand[m][k] - U_km[k,m]) \n",
    "                    for k in range(Market) for m in range(Products))\n"
   ]
  },
  {
   "cell_type": "code",
   "execution_count": 384,
   "id": "cardiovascular-realtor",
   "metadata": {},
   "outputs": [
    {
     "data": {
      "text/plain": [
       "{(0, 0): <gurobi.Constr *Awaiting Model Update*>,\n",
       " (0, 1): <gurobi.Constr *Awaiting Model Update*>,\n",
       " (1, 0): <gurobi.Constr *Awaiting Model Update*>,\n",
       " (1, 1): <gurobi.Constr *Awaiting Model Update*>}"
      ]
     },
     "execution_count": 384,
     "metadata": {},
     "output_type": "execute_result"
    }
   ],
   "source": [
    "# Purchasing Constraints (everything purchased from outsourced facilities must be shipped)\n",
    "grbModel.addConstrs(V_lm[m,l] == quicksum(T_ljm[m,l,j] for j in range(Distribution)) + quicksum(T_lkm[m,l,k] for k in range(Market))\n",
    "            for m in range(Products) for l in range(Outsourced))"
   ]
  },
  {
   "cell_type": "code",
   "execution_count": 385,
   "id": "turkish-morocco",
   "metadata": {},
   "outputs": [
    {
     "data": {
      "text/plain": [
       "{0: <gurobi.Constr *Awaiting Model Update*>,\n",
       " 1: <gurobi.Constr *Awaiting Model Update*>,\n",
       " 2: <gurobi.Constr *Awaiting Model Update*>}"
      ]
     },
     "execution_count": 385,
     "metadata": {},
     "output_type": "execute_result"
    }
   ],
   "source": [
    "# Capacity Constraints\n",
    "grbModel.addConstrs(quicksum(volume[m]*Q_im[m,i] for m in range(Products)) <= a_i[i]*Capacities_i[i]*x_i[i] for i in range(Manufacturing_plants))\n",
    "grbModel.addConstrs(quicksum(volume[m]*Y_ijm[m,i,j] for i in range(Manufacturing_plants) for m in range(Products)) +\n",
    "            quicksum(volume[m]*T_ljm[m,l,j] for l in range(Outsourced) for m in range(Products)) <= b_j[j]*Capacities_j[j]*x_j[j] \n",
    "            for j in range(Distribution))"
   ]
  },
  {
   "cell_type": "code",
   "execution_count": 390,
   "id": "novel-accountability",
   "metadata": {},
   "outputs": [],
   "source": [
    "# Objective\n",
    "grb_expr = LinExpr()\n",
    "\n",
    "# Cost of opening\n",
    "OC_1 = 0\n",
    "OC_2 = 0\n",
    "for i in range(Manufacturing_plants):\n",
    "    OC_1 += f_i[i]*x_i[i]\n",
    "for j in range(Distribution):\n",
    "    OC_2 += f_j[j]*x_j[j]\n",
    "    \n",
    "grb_expr += OC_1 + OC_2\n",
    "ship_1 = 0\n",
    "ship_2 = 0\n",
    "ship_3 = 0\n",
    "ship_4 = 0\n",
    "\n",
    "# Shipment\n",
    "for i in range(Manufacturing_plants):\n",
    "    for j in range(Distribution):\n",
    "        for m in range(Products):\n",
    "            ship_1 += Transportation_i_j[m][i][j]*Y_ijm[m,i,j]\n",
    "            \n",
    "for j in range(Distribution):\n",
    "    for k in range(Market):\n",
    "        for m in range(Products):\n",
    "            ship_2 += Transportation_j_k[m][j][k]*Z_jkm[m,j,k]\n",
    "\n",
    "for l in range(Outsourced):\n",
    "    for j in range(Distribution):\n",
    "        for m in range(Products):\n",
    "            ship_3 += T_O_DC[m][l][j]*T_ljm[m,l,j]\n",
    "\n",
    "for l in range(Outsourced):\n",
    "    for k in range(Market):\n",
    "        for m in range(Products):\n",
    "            ship_4 += T_O_MZ[m][l][k]*T_lkm[m,l,k]\n",
    "\n",
    "grb_expr += ship_1 + ship_2 + ship_3 + ship_4\n",
    "\n",
    "# Production\n",
    "pr_cost = 0\n",
    "for i in range(Manufacturing_plants):\n",
    "    for m in range(Products):\n",
    "        pr_cost += Manufacturing_costs[i][m]*Q_im[m,i]\n",
    "\n",
    "grb_expr += pr_cost\n",
    "# Buying from outsource cost\n",
    "b_cost = 0\n",
    "for l in range(Outsourced):\n",
    "    for m in range(Products):\n",
    "        b_cost += Supplier_cost[m][l]*V_lm[m,l]\n",
    "grb_expr += b_cost\n",
    "\n",
    "# Lost Sales\n",
    "l_cost = 0\n",
    "for k in range(Market):\n",
    "    for m in range(Products):\n",
    "        l_cost += lost_sales[k][m]*U_km[k,m]\n",
    "\n",
    "grb_expr += l_cost\n",
    "        "
   ]
  },
  {
   "cell_type": "code",
   "execution_count": 391,
   "id": "numerous-forest",
   "metadata": {},
   "outputs": [],
   "source": [
    "grbModel.setObjective(grb_expr, GRB.MINIMIZE)"
   ]
  },
  {
   "cell_type": "code",
   "execution_count": 392,
   "id": "significant-logging",
   "metadata": {},
   "outputs": [
    {
     "name": "stdout",
     "output_type": "stream",
     "text": [
      "Gurobi Optimizer version 9.0.0 build v9.0.0rc2 (win64)\n",
      "Optimize a model with 27 rows, 85 columns and 177 nonzeros\n",
      "Model fingerprint: 0x56e08555\n",
      "Variable types: 0 continuous, 85 integer (5 binary)\n",
      "Coefficient statistics:\n",
      "  Matrix range     [1e+00, 4e+01]\n",
      "  Objective range  [3e-02, 2e+02]\n",
      "  Bounds range     [1e+00, 1e+00]\n",
      "  RHS range        [2e+00, 1e+01]\n",
      "\n",
      "Loaded MIP start from previous solve with objective 0\n",
      "\n",
      "\n",
      "Explored 0 nodes (0 simplex iterations) in 0.01 seconds\n",
      "Thread count was 1 (of 4 available processors)\n",
      "\n",
      "Solution count 1: 0 \n",
      "\n",
      "Optimal solution found (tolerance 1.00e-04)\n",
      "Best objective 0.000000000000e+00, best bound 0.000000000000e+00, gap 0.0000%\n"
     ]
    }
   ],
   "source": [
    "grbModel.optimize()"
   ]
  },
  {
   "cell_type": "code",
   "execution_count": 337,
   "id": "literary-question",
   "metadata": {},
   "outputs": [
    {
     "ename": "NameError",
     "evalue": "name 'U_klm' is not defined",
     "output_type": "error",
     "traceback": [
      "\u001b[1;31m---------------------------------------------------------------------------\u001b[0m",
      "\u001b[1;31mNameError\u001b[0m                                 Traceback (most recent call last)",
      "\u001b[1;32m<ipython-input-337-e3c82172e03c>\u001b[0m in \u001b[0;36m<module>\u001b[1;34m\u001b[0m\n\u001b[1;32m----> 1\u001b[1;33m \u001b[0mU_klm\u001b[0m\u001b[1;33m\u001b[0m\u001b[1;33m\u001b[0m\u001b[0m\n\u001b[0m",
      "\u001b[1;31mNameError\u001b[0m: name 'U_klm' is not defined"
     ]
    }
   ],
   "source": [
    "U_klm"
   ]
  },
  {
   "cell_type": "code",
   "execution_count": null,
   "id": "micro-irish",
   "metadata": {},
   "outputs": [],
   "source": []
  }
 ],
 "metadata": {
  "kernelspec": {
   "display_name": "Python 3",
   "language": "python",
   "name": "python3"
  },
  "language_info": {
   "codemirror_mode": {
    "name": "ipython",
    "version": 3
   },
   "file_extension": ".py",
   "mimetype": "text/x-python",
   "name": "python",
   "nbconvert_exporter": "python",
   "pygments_lexer": "ipython3",
   "version": "3.7.3"
  }
 },
 "nbformat": 4,
 "nbformat_minor": 5
}
