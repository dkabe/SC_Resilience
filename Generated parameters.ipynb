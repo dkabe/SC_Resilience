{
 "cells": [
  {
   "cell_type": "code",
   "execution_count": 1,
   "id": "promotional-copper",
   "metadata": {},
   "outputs": [],
   "source": [
    "import numpy as np\n",
    "import random\n",
    "from random import randint\n",
    "from gurobipy import *"
   ]
  },
  {
   "cell_type": "code",
   "execution_count": 2,
   "id": "paperback-atmosphere",
   "metadata": {},
   "outputs": [],
   "source": [
    "Manufacturing_plants = 2\n",
    "Distribution = 3\n",
    "Market = 4\n",
    "Products = 2\n",
    "Outsourced = 2"
   ]
  },
  {
   "cell_type": "code",
   "execution_count": 3,
   "id": "dirty-thing",
   "metadata": {},
   "outputs": [],
   "source": [
    "# Product Demand\n",
    "demand = np.random.randint(0,20,(Products,Market))"
   ]
  },
  {
   "cell_type": "code",
   "execution_count": 4,
   "id": "olympic-waterproof",
   "metadata": {},
   "outputs": [],
   "source": [
    "# Cost of opening\n",
    "f_i = [20, 25]\n",
    "f_j = [15, 5, 10]"
   ]
  },
  {
   "cell_type": "code",
   "execution_count": 5,
   "id": "intermediate-official",
   "metadata": {},
   "outputs": [],
   "source": [
    "# Unit cost of manufacturing product \n",
    "Manufacturing_costs = np.random.uniform(0,5, (Manufacturing_plants,Products))"
   ]
  },
  {
   "cell_type": "code",
   "execution_count": 6,
   "id": "composed-newfoundland",
   "metadata": {},
   "outputs": [],
   "source": [
    "# Unit cost of transporting m from plant to DC\n",
    "Transportation_i_j = np.random.uniform(0,5, (Products, Manufacturing_plants, Distribution))"
   ]
  },
  {
   "cell_type": "code",
   "execution_count": 7,
   "id": "mathematical-block",
   "metadata": {},
   "outputs": [],
   "source": [
    "# Unit cost of transporting m from DC to Market Zone\n",
    "Transportation_j_k = np.random.uniform(0,5, (Products, Distribution, Market))"
   ]
  },
  {
   "cell_type": "code",
   "execution_count": 8,
   "id": "separate-sullivan",
   "metadata": {},
   "outputs": [],
   "source": [
    "# Plant Capacities\n",
    "Capacities_i = np.random.randint(30,50,(Manufacturing_plants))\n",
    "Capacities_j = np.random.randint(30,50,(Distribution))\n",
    "Capacities_l = np.zeros((Products,Outsourced))\n",
    "np.fill_diagonal(Capacities_l, random.randint(15,20))"
   ]
  },
  {
   "cell_type": "code",
   "execution_count": 9,
   "id": "federal-discharge",
   "metadata": {},
   "outputs": [],
   "source": [
    "# Cost of purchasing product m from supplier l (assume only 1 product type from each outsourcer)\n",
    "Supplier_cost = np.zeros((Products, Outsourced))\n",
    "np.fill_diagonal(Supplier_cost, random.uniform(10,15))"
   ]
  },
  {
   "cell_type": "code",
   "execution_count": 10,
   "id": "governing-mustang",
   "metadata": {},
   "outputs": [],
   "source": [
    "# Cost of transporting product m from supplier to j\n",
    "T_O_DC = np.zeros((Products, Outsourced, Distribution))\n",
    "T_O_DC[0][0] = np.random.uniform(5,10,(Distribution))\n",
    "T_O_DC[1][1] = np.random.uniform(5,10,(Distribution))"
   ]
  },
  {
   "cell_type": "code",
   "execution_count": 11,
   "id": "flexible-anthony",
   "metadata": {},
   "outputs": [],
   "source": [
    "# Cost of shipping product m from supplier to k\n",
    "T_O_MZ = np.zeros((Products, Outsourced, Market))\n",
    "T_O_MZ[0][0] = np.random.uniform(5,10,(Market))\n",
    "T_O_MZ[1][1] = np.random.uniform(5,10,(Market))"
   ]
  },
  {
   "cell_type": "code",
   "execution_count": 12,
   "id": "olympic-animal",
   "metadata": {},
   "outputs": [],
   "source": [
    "# Product volume \n",
    "volume = np.random.randint(2,5,(Products))"
   ]
  },
  {
   "cell_type": "code",
   "execution_count": 13,
   "id": "alike-marriage",
   "metadata": {},
   "outputs": [],
   "source": [
    "# unit cost of lost sales \n",
    "lost_sales = np.random.randint(75,100,(Market,Products))"
   ]
  },
  {
   "cell_type": "code",
   "execution_count": 14,
   "id": "impossible-opera",
   "metadata": {},
   "outputs": [],
   "source": [
    "## Model"
   ]
  },
  {
   "cell_type": "code",
   "execution_count": 15,
   "id": "knowing-dispute",
   "metadata": {},
   "outputs": [
    {
     "name": "stdout",
     "output_type": "stream",
     "text": [
      "Using license file C:\\Users\\Devika Kabe\\gurobi.lic\n",
      "Academic license - for non-commercial use only\n"
     ]
    }
   ],
   "source": [
    "grbModel = Model('synthetic')"
   ]
  },
  {
   "cell_type": "code",
   "execution_count": 16,
   "id": "super-chess",
   "metadata": {},
   "outputs": [],
   "source": [
    "a_i = np.ones(Manufacturing_plants)\n",
    "b_j = np.ones(Distribution)"
   ]
  },
  {
   "cell_type": "code",
   "execution_count": 17,
   "id": "dominant-state",
   "metadata": {},
   "outputs": [],
   "source": [
    "# Model Variables\n",
    "\n",
    "x_i = grbModel.addVars(range(Manufacturing_plants), vtype = GRB.BINARY) # opening manufacturing plant\n",
    "x_j = grbModel.addVars(range(Distribution), vtype = GRB.BINARY) # opening DC\n",
    "U_km = grbModel.addVars(range(Market), range(Products), vtype = GRB.INTEGER) # quantity lost sales\n",
    "V_lm = grbModel.addVars(range(Products), range(Outsourced), vtype = GRB.INTEGER) # quantity products purchased from outsourcing\n",
    "Q_im = grbModel.addVars(range(Products), range(Manufacturing_plants), vtype = GRB.INTEGER) # quantity produced\n",
    "Y_ijm = grbModel.addVars(range(Products), range(Manufacturing_plants), range(Distribution), vtype = GRB.INTEGER) # shipping i -> j\n",
    "Z_jkm = grbModel.addVars(range(Products), range(Distribution), range(Market), vtype = GRB.INTEGER) # shipping j -> k\n",
    "T_ljm = grbModel.addVars(range(Products), range(Outsourced), range(Distribution), vtype = GRB.INTEGER) # shipping l -> j\n",
    "T_lkm = grbModel.addVars(range(Products), range(Outsourced), range(Market), vtype = GRB.INTEGER) # shipping l -> k\n"
   ]
  },
  {
   "cell_type": "code",
   "execution_count": 18,
   "id": "flexible-uruguay",
   "metadata": {},
   "outputs": [
    {
     "data": {
      "text/plain": [
       "{(0, 0): <gurobi.Constr *Awaiting Model Update*>,\n",
       " (0, 1): <gurobi.Constr *Awaiting Model Update*>,\n",
       " (1, 0): <gurobi.Constr *Awaiting Model Update*>,\n",
       " (1, 1): <gurobi.Constr *Awaiting Model Update*>,\n",
       " (2, 0): <gurobi.Constr *Awaiting Model Update*>,\n",
       " (2, 1): <gurobi.Constr *Awaiting Model Update*>,\n",
       " (3, 0): <gurobi.Constr *Awaiting Model Update*>,\n",
       " (3, 1): <gurobi.Constr *Awaiting Model Update*>}"
      ]
     },
     "execution_count": 18,
     "metadata": {},
     "output_type": "execute_result"
    }
   ],
   "source": [
    "# Model Constraints\n",
    "# Network Flow\n",
    "#grbModel.addConstr(quicksum(x_i[i] for i in range(Manufacturing_plants)) >= 1)\n",
    "#grbModel.addConstr(quicksum(x_j[j] for i in range(Distribution)) >= 1)\n",
    "\n",
    "grbModel.addConstrs(quicksum(Y_ijm[m,i,j] for j in range(Distribution)) == Q_im[m,i] \n",
    "             for i in range(Manufacturing_plants) for m in range(Products))\n",
    "\n",
    "grbModel.addConstrs(quicksum(Z_jkm[m,j,k] for k in range(Market)) == \n",
    "                      (quicksum(Y_ijm[m,i,j] for i in range(Manufacturing_plants)) + \n",
    "                       quicksum(T_ljm[m,l,j] for l in range(Outsourced))) for j in range(Distribution) \n",
    "                      for m in range(Products))\n",
    "\n",
    "grbModel.addConstrs((quicksum(Z_jkm[m,j,k] for j in range(Distribution)) + quicksum(T_lkm[m,l,k] for l in range(Outsourced))) ==\n",
    "                      (demand[m][k] - U_km[k,m]) \n",
    "                    for k in range(Market) for m in range(Products))\n"
   ]
  },
  {
   "cell_type": "code",
   "execution_count": 19,
   "id": "mineral-skating",
   "metadata": {},
   "outputs": [],
   "source": [
    "for m in range(Products):\n",
    "    for l in range(Outsourced):\n",
    "        if l != m:\n",
    "            grbModel.addConstr(V_lm[m,l] == 0)"
   ]
  },
  {
   "cell_type": "code",
   "execution_count": 20,
   "id": "prostate-insulation",
   "metadata": {},
   "outputs": [],
   "source": [
    "for m in range(Products):\n",
    "    for l in range(Outsourced):\n",
    "        for j in range(Distribution):\n",
    "            if l != m:\n",
    "                grbModel.addConstr(T_ljm[m,l,j] == 0)"
   ]
  },
  {
   "cell_type": "code",
   "execution_count": 21,
   "id": "turned-shoulder",
   "metadata": {},
   "outputs": [],
   "source": [
    "for m in range(Products):\n",
    "    for l in range(Outsourced):\n",
    "        for k in range(Market):\n",
    "            if l != m:\n",
    "                grbModel.addConstr(T_lkm[m,l,k] == 0)"
   ]
  },
  {
   "cell_type": "code",
   "execution_count": 22,
   "id": "twenty-share",
   "metadata": {},
   "outputs": [
    {
     "data": {
      "text/plain": [
       "{(0, 0): <gurobi.Constr *Awaiting Model Update*>,\n",
       " (0, 1): <gurobi.Constr *Awaiting Model Update*>,\n",
       " (1, 0): <gurobi.Constr *Awaiting Model Update*>,\n",
       " (1, 1): <gurobi.Constr *Awaiting Model Update*>}"
      ]
     },
     "execution_count": 22,
     "metadata": {},
     "output_type": "execute_result"
    }
   ],
   "source": [
    "# Purchasing Constraints (everything purchased from outsourced facilities must be shipped)\n",
    "grbModel.addConstrs(V_lm[m,l] == quicksum(T_ljm[m,l,j] for j in range(Distribution)) + quicksum(T_lkm[m,l,k] for k in range(Market))\n",
    "            for m in range(Products) for l in range(Outsourced))"
   ]
  },
  {
   "cell_type": "code",
   "execution_count": 23,
   "id": "specified-province",
   "metadata": {},
   "outputs": [
    {
     "data": {
      "text/plain": [
       "{0: <gurobi.Constr *Awaiting Model Update*>,\n",
       " 1: <gurobi.Constr *Awaiting Model Update*>}"
      ]
     },
     "execution_count": 23,
     "metadata": {},
     "output_type": "execute_result"
    }
   ],
   "source": [
    "# Capacity Constraints\n",
    "grbModel.addConstrs(quicksum(volume[m]*Q_im[m,i] for m in range(Products)) <= a_i[i]*Capacities_i[i]*x_i[i] for i in range(Manufacturing_plants))\n",
    "grbModel.addConstrs(quicksum(volume[m]*Y_ijm[m,i,j] for i in range(Manufacturing_plants) for m in range(Products)) +\n",
    "            quicksum(volume[m]*T_ljm[m,l,j] for l in range(Outsourced) for m in range(Products)) <= b_j[j]*Capacities_j[j]*x_j[j] \n",
    "            for j in range(Distribution))\n",
    "grbModel.addConstrs(quicksum(V_lm[m,l] for m in range(Products)) <= np.sum(Capacities_l[l]) for l in range(Outsourced))"
   ]
  },
  {
   "cell_type": "code",
   "execution_count": 24,
   "id": "alpha-grain",
   "metadata": {},
   "outputs": [],
   "source": [
    "# Objective\n",
    "grb_expr = LinExpr()\n",
    "\n",
    "# Cost of opening\n",
    "OC_1 = 0\n",
    "OC_2 = 0\n",
    "for i in range(Manufacturing_plants):\n",
    "    OC_1 += f_i[i]*x_i[i]\n",
    "for j in range(Distribution):\n",
    "    OC_2 += f_j[j]*x_j[j]\n",
    "    \n",
    "#grb_expr += OC_1 + OC_2\n",
    "ship_1 = 0\n",
    "ship_2 = 0\n",
    "ship_3 = 0\n",
    "ship_4 = 0\n",
    "\n",
    "# Shipment\n",
    "for i in range(Manufacturing_plants):\n",
    "    for j in range(Distribution):\n",
    "        for m in range(Products):\n",
    "            ship_1 += Transportation_i_j[m][i][j]*Y_ijm[m,i,j]\n",
    "            \n",
    "for j in range(Distribution):\n",
    "    for k in range(Market):\n",
    "        for m in range(Products):\n",
    "            ship_2 += Transportation_j_k[m][j][k]*Z_jkm[m,j,k]\n",
    "\n",
    "for l in range(Outsourced):\n",
    "    for j in range(Distribution):\n",
    "        for m in range(Products):\n",
    "            ship_3 += T_O_DC[m][l][j]*T_ljm[m,l,j]\n",
    "\n",
    "for l in range(Outsourced):\n",
    "    for k in range(Market):\n",
    "        for m in range(Products):\n",
    "            ship_4 += T_O_MZ[m][l][k]*T_lkm[m,l,k]\n",
    "\n",
    "#grb_expr += ship_1 + ship_2 + ship_3 + ship_4\n",
    "\n",
    "# Production\n",
    "pr_cost = 0\n",
    "for i in range(Manufacturing_plants):\n",
    "    for m in range(Products):\n",
    "        pr_cost += Manufacturing_costs[i][m]*Q_im[m,i]\n",
    "\n",
    "#grb_expr += pr_cost\n",
    "# Buying from outsource cost\n",
    "b_cost = 0\n",
    "for l in range(Outsourced):\n",
    "    for m in range(Products):\n",
    "        b_cost += Supplier_cost[m][l]*V_lm[m,l]\n",
    "#grb_expr += b_cost\n",
    "\n",
    "# Lost Sales\n",
    "l_cost = 0\n",
    "for k in range(Market):\n",
    "    for m in range(Products):\n",
    "        l_cost += lost_sales[k][m]*U_km[k,m]\n",
    "\n",
    "grb_expr += OC_1 + OC_2 + ship_1 + ship_2 + ship_3 + ship_4 + pr_cost + b_cost + l_cost\n",
    "        "
   ]
  },
  {
   "cell_type": "code",
   "execution_count": 25,
   "id": "legitimate-secret",
   "metadata": {},
   "outputs": [],
   "source": [
    "grbModel.setObjective(grb_expr, GRB.MINIMIZE)"
   ]
  },
  {
   "cell_type": "code",
   "execution_count": 26,
   "id": "signed-specific",
   "metadata": {},
   "outputs": [
    {
     "name": "stdout",
     "output_type": "stream",
     "text": [
      "Gurobi Optimizer version 9.0.0 build v9.0.0rc2 (win64)\n",
      "Optimize a model with 45 rows, 85 columns and 197 nonzeros\n",
      "Model fingerprint: 0x974f6840\n",
      "Variable types: 0 continuous, 85 integer (5 binary)\n",
      "Coefficient statistics:\n",
      "  Matrix range     [1e+00, 4e+01]\n",
      "  Objective range  [6e-03, 1e+02]\n",
      "  Bounds range     [1e+00, 1e+00]\n",
      "  RHS range        [3e+00, 2e+01]\n",
      "Found heuristic solution: objective 9037.0000000\n",
      "Presolve removed 21 rows and 27 columns\n",
      "Presolve time: 0.00s\n",
      "Presolved: 24 rows, 58 columns, 129 nonzeros\n",
      "Variable types: 0 continuous, 58 integer (5 binary)\n",
      "\n",
      "Root relaxation: objective 3.271935e+03, 41 iterations, 0.00 seconds\n",
      "\n",
      "    Nodes    |    Current Node    |     Objective Bounds      |     Work\n",
      " Expl Unexpl |  Obj  Depth IntInf | Incumbent    BestBd   Gap | It/Node Time\n",
      "\n",
      "     0     0 3271.93468    0    6 9037.00000 3271.93468  63.8%     -    0s\n",
      "H    0     0                    3305.2779985 3271.93468  1.01%     -    0s\n",
      "     0     0 3285.08780    0    1 3305.27800 3285.08780  0.61%     -    0s\n",
      "H    0     0                    3286.7544714 3285.08780  0.05%     -    0s\n",
      "\n",
      "Cutting planes:\n",
      "  Gomory: 1\n",
      "  Implied bound: 3\n",
      "  MIR: 3\n",
      "  Flow cover: 2\n",
      "  Zero half: 1\n",
      "  Relax-and-lift: 2\n",
      "\n",
      "Explored 1 nodes (47 simplex iterations) in 0.05 seconds\n",
      "Thread count was 4 (of 4 available processors)\n",
      "\n",
      "Solution count 3: 3286.75 3305.28 9037 \n",
      "\n",
      "Optimal solution found (tolerance 1.00e-04)\n",
      "Best objective 3.286754471399e+03, best bound 3.286754471399e+03, gap 0.0000%\n"
     ]
    }
   ],
   "source": [
    "grbModel.optimize()"
   ]
  },
  {
   "cell_type": "code",
   "execution_count": 27,
   "id": "blocked-investor",
   "metadata": {},
   "outputs": [],
   "source": [
    "v_val_x_i = grbModel.getAttr('x', x_i)\n",
    "v_val_x_j = grbModel.getAttr('x', x_j)\n",
    "v_val_U_km = grbModel.getAttr('x', U_km)\n",
    "v_val_V_lm = grbModel.getAttr('x', V_lm)\n",
    "v_val_Q_im = grbModel.getAttr('x', Q_im)\n",
    "v_val_Y_ijm = grbModel.getAttr('x', Y_ijm)\n",
    "v_val_Z_jkm = grbModel.getAttr('x', Z_jkm)\n",
    "v_val_T_ljm = grbModel.getAttr('x', T_ljm)\n",
    "v_val_T_lkm = grbModel.getAttr('x', T_lkm)"
   ]
  },
  {
   "cell_type": "code",
   "execution_count": 28,
   "id": "italian-dress",
   "metadata": {},
   "outputs": [
    {
     "name": "stdout",
     "output_type": "stream",
     "text": [
      "obj val:  3286.754471399328\n",
      "Open Manufacturing Plants:  2.0\n",
      "Open Distribution Centres:  3.0\n",
      "Total purchased from Outsourcing:  40.0\n",
      "Total produced in house:  37.0\n",
      "Total lost sales:  26.0\n",
      "Total shipped from outsourced facility to DCs:  0.0\n",
      "Total shipped directly to market zone:  40.0\n"
     ]
    }
   ],
   "source": [
    "obj = grbModel.getObjective()\n",
    "print(\"obj val: \", obj.getValue())\n",
    "print(\"Open Manufacturing Plants: \", np.sum(v_val_x_i.values()))\n",
    "print(\"Open Distribution Centres: \", np.sum(v_val_x_j.values()))\n",
    "print(\"Total purchased from Outsourcing: \", np.sum(v_val_V_lm.values()))\n",
    "print(\"Total produced in house: \", np.sum(v_val_Q_im.values()))\n",
    "print(\"Total lost sales: \", np.sum(v_val_U_km.values()))\n",
    "print(\"Total shipped from outsourced facility to DCs: \", np.sum(v_val_T_ljm.values()))\n",
    "print(\"Total shipped directly to market zone: \", np.sum(v_val_T_lkm.values()))"
   ]
  },
  {
   "cell_type": "code",
   "execution_count": 38,
   "id": "rational-birmingham",
   "metadata": {},
   "outputs": [
    {
     "data": {
      "text/plain": [
       "<gurobi.LinExpr: 20.0 C0 + 25.0 C1 + 15.0 C2 + 5.0 C3 + 10.0 C4 + 3.4185278555192022 C21 + 1.7851155801816143 C27 + 4.539256650776101 C22 + 0.00638617332535063 C28 + 1.5999512371974167 C23 + 1.5018591163268735 C29 + 0.601744574829306 C24 + 3.6002327976127644 C30 + 2.3694089065041526 C25 + 4.473630906639036 C31 + 4.98299871203023 C26 + 3.619290766399147 C32 + 4.585934537208878 C33 + 4.490980424943651 C45 + 2.7691293146801357 C34 + 2.6752705814178563 C46 + 3.692331742757627 C35 + 3.7786984908878676 C47 + 1.9292579912147356 C36 + 3.9155811264342373 C48 + 4.01820420955375 C37 + 0.4309855158271969 C49 + 4.304313008473909 C38 + 4.130447266459018 C50 + 4.662783613308868 C39 + 2.114389901057357 C51 + 1.9721653416290474 C40 + 1.4569173913928495 C52 + 3.032164074428485 C41 + 3.789946014847061 C53 + 4.258158632539249 C42 + 0.366355246115061 C54 + 0.7469991301297502 C43 + 3.7319569242666772 C55 + 4.215405466005334 C44 + 1.365506655502649 C56 + 6.617754832186695 C57 + 0.0 C63 + 9.915252225631715 C58 + 0.0 C64 + 7.0912079072518175 C59 + 0.0 C65 + 0.0 C60 + 7.211838621838588 C66 + 0.0 C61 + 9.68244049250358 C67 + 0.0 C62 + 9.41902528884941 C68 + 7.747663008497688 C69 + 0.0 C77 + 8.401479969977698 C70 + 0.0 C78 + 7.413027679929947 C71 + 0.0 C79 + 7.435858291761374 C72 + 0.0 C80 + 0.0 C73 + 8.386799930615929 C81 + 0.0 C74 + 8.82544227575342 C82 + 0.0 C75 + 9.2659772073286 C83 + 0.0 C76 + 8.762736332280081 C84 + 1.0200744827775376 C17 + 1.693695697413578 C19 + 4.323913575001485 C18 + 4.997034623351597 C20 + 11.956696901656544 C13 + 0.0 C15 + 0.0 C14 + 11.956696901656544 C16 + 79.0 C5 + 99.0 C6 + 76.0 C7 + 83.0 C8 + 85.0 C9 + 80.0 C10 + 96.0 C11 + 95.0 C12>"
      ]
     },
     "execution_count": 38,
     "metadata": {},
     "output_type": "execute_result"
    }
   ],
   "source": [
    "grb_expr"
   ]
  },
  {
   "cell_type": "code",
   "execution_count": 39,
   "id": "measured-eight",
   "metadata": {},
   "outputs": [
    {
     "data": {
      "text/plain": [
       "{(0, 0): 0.0,\n",
       " (0, 1): 0.0,\n",
       " (1, 0): 4.0,\n",
       " (1, 1): 12.0,\n",
       " (2, 0): 0.0,\n",
       " (2, 1): 3.0,\n",
       " (3, 0): 0.0,\n",
       " (3, 1): 7.0}"
      ]
     },
     "execution_count": 39,
     "metadata": {},
     "output_type": "execute_result"
    }
   ],
   "source": [
    "v_val_U_km"
   ]
  },
  {
   "cell_type": "code",
   "execution_count": null,
   "id": "republican-basin",
   "metadata": {},
   "outputs": [],
   "source": []
  }
 ],
 "metadata": {
  "kernelspec": {
   "display_name": "Python 3",
   "language": "python",
   "name": "python3"
  },
  "language_info": {
   "codemirror_mode": {
    "name": "ipython",
    "version": 3
   },
   "file_extension": ".py",
   "mimetype": "text/x-python",
   "name": "python",
   "nbconvert_exporter": "python",
   "pygments_lexer": "ipython3",
   "version": "3.7.3"
  }
 },
 "nbformat": 4,
 "nbformat_minor": 5
}
