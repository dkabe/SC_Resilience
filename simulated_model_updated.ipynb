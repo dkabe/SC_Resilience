{
 "cells": [
  {
   "cell_type": "code",
   "execution_count": 1,
   "id": "promotional-copper",
   "metadata": {},
   "outputs": [],
   "source": [
    "import numpy as np\n",
    "import random\n",
    "from random import randint\n",
    "from gurobipy import *\n",
    "import pandas as pd\n",
    "from random import seed"
   ]
  },
  {
   "cell_type": "code",
   "execution_count": 2,
   "id": "paperback-atmosphere",
   "metadata": {},
   "outputs": [],
   "source": [
    "Manufacturing_plants = 2\n",
    "Distribution = 3\n",
    "Market = 4\n",
    "Products = 2\n",
    "Outsourced = 2"
   ]
  },
  {
   "cell_type": "code",
   "execution_count": 3,
   "id": "dirty-thing",
   "metadata": {},
   "outputs": [],
   "source": [
    "# Product Demand\n",
    "demand = np.random.randint(0,50,(Products,Market))"
   ]
  },
  {
   "cell_type": "code",
   "execution_count": 4,
   "id": "olympic-waterproof",
   "metadata": {},
   "outputs": [],
   "source": [
    "# Cost of opening\n",
    "f_i = [20, 25]\n",
    "f_j = [15, 5, 10]"
   ]
  },
  {
   "cell_type": "code",
   "execution_count": 5,
   "id": "intermediate-official",
   "metadata": {},
   "outputs": [],
   "source": [
    "# Unit cost of manufacturing product \n",
    "Manufacturing_costs = np.random.uniform(0,2, (Manufacturing_plants,Products))"
   ]
  },
  {
   "cell_type": "code",
   "execution_count": 6,
   "id": "composed-newfoundland",
   "metadata": {},
   "outputs": [],
   "source": [
    "# Unit cost of transporting m from plant to DC\n",
    "Transportation_i_j = np.random.uniform(0,5, (Products, Manufacturing_plants, Distribution))"
   ]
  },
  {
   "cell_type": "code",
   "execution_count": 7,
   "id": "mathematical-block",
   "metadata": {},
   "outputs": [],
   "source": [
    "# Unit cost of transporting m from DC to Market Zone\n",
    "Transportation_j_k = np.random.uniform(0,5, (Products, Distribution, Market))"
   ]
  },
  {
   "cell_type": "code",
   "execution_count": 8,
   "id": "separate-sullivan",
   "metadata": {},
   "outputs": [],
   "source": [
    "# Plant Capacities\n",
    "Capacities_i = np.random.randint(300,500,(Manufacturing_plants)) # in volume !!! (metres cubed)\n",
    "Capacities_j = np.random.randint(300,500,(Distribution)) # in volume !!! (metres cubed)\n",
    "Capacities_l = np.zeros((Products,Outsourced)) # in terms of products \n",
    "np.fill_diagonal(Capacities_l, random.randint(15,20))"
   ]
  },
  {
   "cell_type": "code",
   "execution_count": 9,
   "id": "federal-discharge",
   "metadata": {},
   "outputs": [],
   "source": [
    "# Cost of purchasing product m from supplier l (assume only 1 product type from each outsourcer)\n",
    "Supplier_cost = np.zeros((Products, Outsourced))\n",
    "np.fill_diagonal(Supplier_cost, random.uniform(10,15))"
   ]
  },
  {
   "cell_type": "code",
   "execution_count": 10,
   "id": "governing-mustang",
   "metadata": {},
   "outputs": [],
   "source": [
    "# Cost of transporting product m from outsourced facility l to j\n",
    "T_O_DC = np.zeros((Products, Outsourced, Distribution))\n",
    "T_O_DC[0][0] = np.random.uniform(10,15,(Distribution))\n",
    "T_O_DC[1][1] = np.random.uniform(10,15,(Distribution))"
   ]
  },
  {
   "cell_type": "code",
   "execution_count": 11,
   "id": "flexible-anthony",
   "metadata": {},
   "outputs": [],
   "source": [
    "# Cost of shipping product m from outsourced facility l to k\n",
    "T_O_MZ = np.zeros((Products, Outsourced, Market))\n",
    "T_O_MZ[0][0] = np.random.uniform(15,20,(Market))\n",
    "T_O_MZ[1][1] = np.random.uniform(15,20,(Market))"
   ]
  },
  {
   "cell_type": "code",
   "execution_count": 12,
   "id": "olympic-animal",
   "metadata": {},
   "outputs": [],
   "source": [
    "# Product volume \n",
    "volume = np.random.randint(2,5,(Products))"
   ]
  },
  {
   "cell_type": "code",
   "execution_count": 13,
   "id": "alike-marriage",
   "metadata": {},
   "outputs": [],
   "source": [
    "# unit cost of lost sales \n",
    "lost_sales = np.random.randint(50,100,(Market,Products))"
   ]
  },
  {
   "cell_type": "code",
   "execution_count": 14,
   "id": "aging-national",
   "metadata": {},
   "outputs": [],
   "source": [
    "# Initialize model variables\n",
    "x_i = {} # opening manufacturing plant\n",
    "x_j = {} # opening DC\n",
    "U_km = {} # quantity lost sales\n",
    "V_lm = {} # quantity products purchased from outsourcing\n",
    "Q_im = {} # quantity produced\n",
    "Y_ijm = {} # shipping i -> j\n",
    "Z_jkm = {} # shipping j -> k\n",
    "T_ljm = {} # shipping l -> j\n",
    "T_lkm = {} # shipping l -> k\n",
    "\n",
    "# Dictionaries for analysis \n",
    "Cost_dict = {}\n",
    "Summary_dict = {} "
   ]
  },
  {
   "cell_type": "code",
   "execution_count": 15,
   "id": "strong-field",
   "metadata": {},
   "outputs": [],
   "source": [
    "# Scenario parameters\n",
    "a_i = np.ones(Manufacturing_plants)\n",
    "b_j = np.ones(Distribution)"
   ]
  },
  {
   "cell_type": "code",
   "execution_count": 16,
   "id": "impossible-opera",
   "metadata": {},
   "outputs": [],
   "source": [
    "## Model"
   ]
  },
  {
   "cell_type": "code",
   "execution_count": 17,
   "id": "knowing-dispute",
   "metadata": {},
   "outputs": [
    {
     "name": "stdout",
     "output_type": "stream",
     "text": [
      "Using license file C:\\Users\\Devika Kabe\\gurobi.lic\n",
      "Academic license - for non-commercial use only\n"
     ]
    }
   ],
   "source": [
    "grbModel = Model('synthetic')"
   ]
  },
  {
   "cell_type": "code",
   "execution_count": 18,
   "id": "announced-filling",
   "metadata": {},
   "outputs": [],
   "source": [
    "def SetGurobiModel():\n",
    "    \n",
    "    for i in range(Manufacturing_plants):\n",
    "        x_i[i] = grbModel.addVar(vtype = GRB.BINARY)\n",
    "    \n",
    "    for j in range(Distribution):\n",
    "        x_j[j] = grbModel.addVar(vtype = GRB.BINARY)\n",
    "    \n",
    "    for k in range(Market):\n",
    "        for m in range(Products):\n",
    "            U_km[k,m] = grbModel.addVar(vtype = GRB.INTEGER)\n",
    "    \n",
    "    for m in range(Products):\n",
    "        for l in range(Outsourced):\n",
    "            V_lm[m,l] = grbModel.addVar(vtype = GRB.INTEGER)\n",
    "            \n",
    "    for m in range(Products):\n",
    "        for i in range(Manufacturing_plants):\n",
    "            Q_im[m,i] = grbModel.addVar(vtype = GRB.INTEGER)\n",
    "    \n",
    "    for m in range(Products):\n",
    "        for i in range(Manufacturing_plants):\n",
    "            for j in range(Distribution):\n",
    "                Y_ijm[m,i,j] = grbModel.addVar(vtype = GRB.INTEGER)\n",
    "                \n",
    "    for m in range(Products):\n",
    "        for j in range(Distribution):\n",
    "            for k in range(Market): \n",
    "                Z_jkm[m,j,k] = grbModel.addVar(vtype = GRB.INTEGER)                \n",
    "    \n",
    "    for m in range(Products):\n",
    "        for l in range(Outsourced):\n",
    "            for j in range(Distribution):\n",
    "                T_ljm[m,l,j] = grbModel.addVar(vtype = GRB.INTEGER)      \n",
    "                \n",
    "    for m in range(Products):\n",
    "        for l in range(Outsourced):\n",
    "            for k in range(Market):\n",
    "                T_lkm[m,l,k] = grbModel.addVar(vtype = GRB.INTEGER)\n",
    "                \n",
    "    SetGrb_Obj()\n",
    "    ModelCons()"
   ]
  },
  {
   "cell_type": "code",
   "execution_count": 19,
   "id": "comprehensive-aggregate",
   "metadata": {},
   "outputs": [],
   "source": [
    "def SolveModel():\n",
    "    \n",
    "    grbModel.params.OutputFlag = 0\n",
    "    grbModel.optimize()\n",
    "    \n",
    "    # get variable values \n",
    "    v_val_x_i = grbModel.getAttr('x', x_i)\n",
    "    v_val_x_j = grbModel.getAttr('x', x_j)\n",
    "    v_val_U_km = grbModel.getAttr('x', U_km)\n",
    "    v_val_V_lm = grbModel.getAttr('x', V_lm)\n",
    "    v_val_Q_im = grbModel.getAttr('x', Q_im)\n",
    "    v_val_Y_ijm = grbModel.getAttr('x', Y_ijm)\n",
    "    v_val_Z_jkm = grbModel.getAttr('x', Z_jkm)\n",
    "    v_val_T_ljm = grbModel.getAttr('x', T_ljm)\n",
    "    v_val_T_lkm = grbModel.getAttr('x', T_lkm)\n",
    "    \n",
    "    obj = grbModel.getObjective()\n",
    "    print(\"obj val: \", obj.getValue())   \n",
    "    \n",
    "    Summary_dict[\"OpenMPs\"] = np.sum(v_val_x_i.values())\n",
    "    Summary_dict[\"OpenDCs\"] = np.sum(v_val_x_j.values())\n",
    "    Summary_dict[\"Purchasing\"] = np.sum(v_val_V_lm.values())\n",
    "    Summary_dict[\"Production\"] = np.sum(v_val_Q_im.values())\n",
    "    Summary_dict[\"LostSales\"] = np.sum(v_val_U_km.values())\n",
    "    Summary_dict[\"OutsourceToDC\"] =  np.sum(v_val_T_ljm.values())\n",
    "    Summary_dict[\"OutsourceToMarket\"] = np.sum(v_val_T_lkm.values())\n",
    "    \n",
    "    Cost_dict[\"Opening\"] =  get_opening_costs(v_val_x_i, v_val_x_j)\n",
    "    Cost_dict[\"InHouseShipping\"] = get_shipping_costs(v_val_Y_ijm, v_val_Z_jkm, v_val_T_ljm, v_val_T_lkm)[0]\n",
    "    Cost_dict[\"OutsourceShipping\"] = get_shipping_costs(v_val_Y_ijm, v_val_Z_jkm, v_val_T_ljm, v_val_T_lkm)[1]\n",
    "    Cost_dict[\"Production\"] = get_production_cost(v_val_Q_im)\n",
    "    Cost_dict[\"Purchasing\"] = get_purchase_costs(v_val_V_lm)\n",
    "    Cost_dict[\"LostSales\"] = get_lost_cost(v_val_U_km)    \n",
    "    \n",
    "    return"
   ]
  },
  {
   "cell_type": "code",
   "execution_count": 20,
   "id": "super-chess",
   "metadata": {},
   "outputs": [],
   "source": [
    "a_i = np.ones(Manufacturing_plants)\n",
    "b_j = np.ones(Distribution)"
   ]
  },
  {
   "cell_type": "code",
   "execution_count": 21,
   "id": "original-miniature",
   "metadata": {},
   "outputs": [],
   "source": [
    "# Objective\n",
    "\n",
    "def SetGrb_Obj():\n",
    "\n",
    "    grb_expr = LinExpr()\n",
    "\n",
    "    # Cost of opening\n",
    "    OC_1 = 0\n",
    "    OC_2 = 0\n",
    "    for i in range(Manufacturing_plants):\n",
    "        OC_1 += f_i[i]*x_i[i]\n",
    "    for j in range(Distribution):\n",
    "        OC_2 += f_j[j]*x_j[j]\n",
    "\n",
    "    ship_1 = 0\n",
    "    ship_2 = 0\n",
    "    ship_3 = 0\n",
    "    ship_4 = 0\n",
    "\n",
    "    # Shipment\n",
    "    for i in range(Manufacturing_plants):\n",
    "        for j in range(Distribution):\n",
    "            for m in range(Products):\n",
    "                ship_1 += Transportation_i_j[m][i][j]*Y_ijm[m,i,j]\n",
    "\n",
    "    for j in range(Distribution):\n",
    "        for k in range(Market):\n",
    "            for m in range(Products):\n",
    "                ship_2 += Transportation_j_k[m][j][k]*Z_jkm[m,j,k]\n",
    "\n",
    "    for l in range(Outsourced):\n",
    "        for j in range(Distribution):\n",
    "            for m in range(Products):\n",
    "                ship_3 += T_O_DC[m][l][j]*T_ljm[m,l,j]\n",
    "\n",
    "    for l in range(Outsourced):\n",
    "        for k in range(Market):\n",
    "            for m in range(Products):\n",
    "                ship_4 += T_O_MZ[m][l][k]*T_lkm[m,l,k]\n",
    "\n",
    "    # Production\n",
    "    pr_cost = 0\n",
    "    for i in range(Manufacturing_plants):\n",
    "        for m in range(Products):\n",
    "            pr_cost += Manufacturing_costs[i][m]*Q_im[m,i]\n",
    "\n",
    "    # Buying from outsource cost\n",
    "    b_cost = 0\n",
    "    for l in range(Outsourced):\n",
    "        for m in range(Products):\n",
    "            b_cost += Supplier_cost[m][l]*V_lm[m,l]\n",
    "\n",
    "    #Lost Sales\n",
    "    l_cost = 0\n",
    "    for k in range(Market):\n",
    "        for m in range(Products):\n",
    "            l_cost += lost_sales[k][m]*U_km[k,m]\n",
    "\n",
    "    grb_expr += OC_1 + OC_2 + ship_1 + ship_2 + ship_3 + ship_4 + pr_cost + b_cost + l_cost\n",
    "    \n",
    "    grbModel.setObjective(grb_expr, GRB.MINIMIZE)\n",
    "    \n",
    "    return \n"
   ]
  },
  {
   "cell_type": "code",
   "execution_count": 22,
   "id": "flexible-uruguay",
   "metadata": {},
   "outputs": [],
   "source": [
    "# Model Constraints\n",
    "\n",
    "def ModelCons():\n",
    "    \n",
    "    # Network Flow\n",
    "\n",
    "    grbModel.addConstrs(quicksum(Y_ijm[m,i,j] for j in range(Distribution)) == Q_im[m,i]\n",
    "                        for i in range(Manufacturing_plants) for m in range(Products))\n",
    "\n",
    "    grbModel.addConstrs(quicksum(Z_jkm[m,j,k] for k in range(Market)) ==\n",
    "                        (quicksum(Y_ijm[m,i,j] for i in range(Manufacturing_plants)) +\n",
    "                         quicksum(T_ljm[m,l,j] for l in range(Outsourced))) for j in range(Distribution)\n",
    "                        for m in range(Products))\n",
    "\n",
    "    grbModel.addConstrs((quicksum(Z_jkm[m,j,k] for j in range(Distribution)) +\n",
    "                         quicksum(T_lkm[m,l,k] for l in range(Outsourced))) == (demand[m][k] - U_km[k,m])\n",
    "                        for k in range(Market) for m in range(Products))\n",
    "    \n",
    "    # Can only get one product type from each outsourced facility\n",
    "\n",
    "    for m in range(Products):\n",
    "        for l in range(Outsourced):\n",
    "            if l != m:\n",
    "                grbModel.addConstr(V_lm[m,l] == 0)\n",
    "            \n",
    "    for m in range(Products):\n",
    "        for l in range(Outsourced):\n",
    "            for j in range(Distribution):\n",
    "                if l != m:\n",
    "                    grbModel.addConstr(T_ljm[m,l,j] == 0)\n",
    "                    \n",
    "    for m in range(Products):\n",
    "        for l in range(Outsourced):\n",
    "            for k in range(Market):\n",
    "                if l != m:\n",
    "                    grbModel.addConstr(T_lkm[m,l,k] == 0)\n",
    "                    \n",
    "    # Purchasing Constraints (everything purchased from outsourced facilities must be shipped)\n",
    "    grbModel.addConstrs(V_lm[m,l] == quicksum(T_ljm[m,l,j] for j in range(Distribution)) + \n",
    "                        quicksum(T_lkm[m,l,k] for k in range(Market)) for m in range(Products) for l in range(Outsourced))\n",
    "    \n",
    "    \n",
    "    # Capacity Constraints\n",
    "    grbModel.addConstrs(quicksum(volume[m]*Q_im[m,i] for m in range(Products)) <= a_i[i]*Capacities_i[i]*x_i[i] \n",
    "                        for i in range(Manufacturing_plants))\n",
    "    grbModel.addConstrs(quicksum(volume[m]*Y_ijm[m,i,j] for i in range(Manufacturing_plants) for m in range(Products)) +\n",
    "                        quicksum(volume[m]*T_ljm[m,l,j] for l in range(Outsourced) for m in range(Products)) <= \n",
    "                        b_j[j]*Capacities_j[j]*x_j[j] for j in range(Distribution))\n",
    "    grbModel.addConstrs(quicksum(V_lm[m,l] for m in range(Products)) <= np.sum(Capacities_l[l]) for l in range(Outsourced))\n",
    "    \n",
    "    return   \n"
   ]
  },
  {
   "cell_type": "code",
   "execution_count": 24,
   "id": "continuing-waters",
   "metadata": {},
   "outputs": [],
   "source": [
    "def get_opening_costs(x1, x2):\n",
    "    \n",
    "    # Cost of opening\n",
    "    OC_1 = 0\n",
    "    OC_2 = 0\n",
    "    for i in range(Manufacturing_plants):\n",
    "        OC_1 += f_i[i]*x1[i]\n",
    "    for j in range(Distribution):\n",
    "        OC_2 += f_j[j]*x2[j]\n",
    "\n",
    "    Opening = np.round(OC_1 + OC_2)\n",
    "    \n",
    "    return(Opening)\n",
    "   \n",
    "def get_shipping_costs(Y, Z, T1, T2):\n",
    "    ship_1 = 0\n",
    "    ship_2 = 0\n",
    "    ship_3 = 0\n",
    "    ship_4 = 0\n",
    "\n",
    "    # Shipment\n",
    "    for i in range(Manufacturing_plants):\n",
    "        for j in range(Distribution):\n",
    "            for m in range(Products):\n",
    "                ship_1 += Transportation_i_j[m][i][j]*Y[m,i,j]\n",
    "\n",
    "    for j in range(Distribution):\n",
    "        for k in range(Market):\n",
    "            for m in range(Products):\n",
    "                ship_2 += Transportation_j_k[m][j][k]*Z[m,j,k]\n",
    "\n",
    "    for l in range(Outsourced):\n",
    "        for j in range(Distribution):\n",
    "            for m in range(Products):\n",
    "                ship_3 += T_O_DC[m][l][j]*T1[m,l,j]\n",
    "\n",
    "    for l in range(Outsourced):\n",
    "        for k in range(Market):\n",
    "            for m in range(Products):\n",
    "                ship_4 += T_O_MZ[m][l][k]*T2[m,l,k]\n",
    "    \n",
    "    in_house_shipping = np.round(ship_1 + ship_2)\n",
    "\n",
    "    outsourced_shipping = np.round(ship_3 + ship_4)\n",
    "    \n",
    "    return(in_house_shipping, outsourced_shipping)\n",
    "\n",
    "def get_production_cost(Q):\n",
    "\n",
    "    # Production\n",
    "    pr_cost = 0\n",
    "    for i in range(Manufacturing_plants):\n",
    "        for m in range(Products):\n",
    "            pr_cost += np.round(Manufacturing_costs[i][m]*Q[m,i])\n",
    "            \n",
    "    return(pr_cost)\n",
    "\n",
    "def get_purchase_costs(V):    \n",
    "\n",
    "    # Buying from outsource cost\n",
    "    b_cost = 0\n",
    "    for l in range(Outsourced):\n",
    "        for m in range(Products):\n",
    "            b_cost += np.round(Supplier_cost[m][l]*V[m,l])\n",
    "            \n",
    "    return(b_cost)\n",
    "\n",
    "def get_lost_cost(U):\n",
    "    \n",
    "    #Lost Sales\n",
    "    l_cost = 0\n",
    "    for k in range(Market):\n",
    "        for m in range(Products):\n",
    "            l_cost += np.round(lost_sales[k][m]*U[k,m])\n",
    "            \n",
    "    return(l_cost) "
   ]
  },
  {
   "cell_type": "code",
   "execution_count": 25,
   "id": "european-supplier",
   "metadata": {},
   "outputs": [],
   "source": [
    "def run_Model(MP_param, DC_param):\n",
    "    for i in range(len(MP_param)):\n",
    "        a_i[i] = MP_param[i]\n",
    "    for j in range(len(DC_param)):\n",
    "        b_j[j] = DC_param[j]\n",
    "        \n",
    "    SetGurobiModel()\n",
    "    SolveModel()"
   ]
  },
  {
   "cell_type": "code",
   "execution_count": 49,
   "id": "maritime-filter",
   "metadata": {},
   "outputs": [],
   "source": [
    "def dict_to_dataframe(Dict):\n",
    "    return pd.DataFrame([list(Dict.values())], columns = list(Dict.keys()))"
   ]
  },
  {
   "cell_type": "code",
   "execution_count": 53,
   "id": "seventh-alliance",
   "metadata": {},
   "outputs": [
    {
     "name": "stdout",
     "output_type": "stream",
     "text": [
      "obj val:  876.446674459141\n"
     ]
    }
   ],
   "source": [
    "run_Model([1,1],[1,1,1]) # No disrupted facilities"
   ]
  },
  {
   "cell_type": "code",
   "execution_count": 54,
   "id": "dietary-sympathy",
   "metadata": {},
   "outputs": [
    {
     "data": {
      "text/html": [
       "<div>\n",
       "<style scoped>\n",
       "    .dataframe tbody tr th:only-of-type {\n",
       "        vertical-align: middle;\n",
       "    }\n",
       "\n",
       "    .dataframe tbody tr th {\n",
       "        vertical-align: top;\n",
       "    }\n",
       "\n",
       "    .dataframe thead th {\n",
       "        text-align: right;\n",
       "    }\n",
       "</style>\n",
       "<table border=\"1\" class=\"dataframe\">\n",
       "  <thead>\n",
       "    <tr style=\"text-align: right;\">\n",
       "      <th></th>\n",
       "      <th>OpenMPs</th>\n",
       "      <th>OpenDCs</th>\n",
       "      <th>Purchasing</th>\n",
       "      <th>Production</th>\n",
       "      <th>LostSales</th>\n",
       "      <th>OutsourceToDC</th>\n",
       "      <th>OutsourceToMarket</th>\n",
       "    </tr>\n",
       "  </thead>\n",
       "  <tbody>\n",
       "    <tr>\n",
       "      <th>0</th>\n",
       "      <td>2.0</td>\n",
       "      <td>3.0</td>\n",
       "      <td>3.0</td>\n",
       "      <td>192.0</td>\n",
       "      <td>0.0</td>\n",
       "      <td>0.0</td>\n",
       "      <td>3.0</td>\n",
       "    </tr>\n",
       "  </tbody>\n",
       "</table>\n",
       "</div>"
      ],
      "text/plain": [
       "   OpenMPs  OpenDCs  Purchasing  Production  LostSales  OutsourceToDC  \\\n",
       "0      2.0      3.0         3.0       192.0        0.0            0.0   \n",
       "\n",
       "   OutsourceToMarket  \n",
       "0                3.0  "
      ]
     },
     "execution_count": 54,
     "metadata": {},
     "output_type": "execute_result"
    }
   ],
   "source": [
    "dict_to_dataframe(Summary_dict)"
   ]
  },
  {
   "cell_type": "code",
   "execution_count": 55,
   "id": "intensive-motorcycle",
   "metadata": {},
   "outputs": [
    {
     "data": {
      "text/html": [
       "<div>\n",
       "<style scoped>\n",
       "    .dataframe tbody tr th:only-of-type {\n",
       "        vertical-align: middle;\n",
       "    }\n",
       "\n",
       "    .dataframe tbody tr th {\n",
       "        vertical-align: top;\n",
       "    }\n",
       "\n",
       "    .dataframe thead th {\n",
       "        text-align: right;\n",
       "    }\n",
       "</style>\n",
       "<table border=\"1\" class=\"dataframe\">\n",
       "  <thead>\n",
       "    <tr style=\"text-align: right;\">\n",
       "      <th></th>\n",
       "      <th>Opening</th>\n",
       "      <th>InHouseShipping</th>\n",
       "      <th>OutsourceShipping</th>\n",
       "      <th>Production</th>\n",
       "      <th>Purchasing</th>\n",
       "      <th>LostSales</th>\n",
       "    </tr>\n",
       "  </thead>\n",
       "  <tbody>\n",
       "    <tr>\n",
       "      <th>0</th>\n",
       "      <td>75.0</td>\n",
       "      <td>467.0</td>\n",
       "      <td>47.0</td>\n",
       "      <td>255.0</td>\n",
       "      <td>32.0</td>\n",
       "      <td>0.0</td>\n",
       "    </tr>\n",
       "  </tbody>\n",
       "</table>\n",
       "</div>"
      ],
      "text/plain": [
       "   Opening  InHouseShipping  OutsourceShipping  Production  Purchasing  \\\n",
       "0     75.0            467.0               47.0       255.0        32.0   \n",
       "\n",
       "   LostSales  \n",
       "0        0.0  "
      ]
     },
     "execution_count": 55,
     "metadata": {},
     "output_type": "execute_result"
    }
   ],
   "source": [
    "dict_to_dataframe(Cost_dict)"
   ]
  },
  {
   "cell_type": "code",
   "execution_count": 60,
   "id": "directed-samoa",
   "metadata": {},
   "outputs": [
    {
     "name": "stdout",
     "output_type": "stream",
     "text": [
      "obj val:  43011.01498493838\n"
     ]
    }
   ],
   "source": [
    "run_Model([0,0],[0,0,0]) # All disrupted facilities"
   ]
  },
  {
   "cell_type": "code",
   "execution_count": 61,
   "id": "disturbed-kingdom",
   "metadata": {},
   "outputs": [
    {
     "data": {
      "text/html": [
       "<div>\n",
       "<style scoped>\n",
       "    .dataframe tbody tr th:only-of-type {\n",
       "        vertical-align: middle;\n",
       "    }\n",
       "\n",
       "    .dataframe tbody tr th {\n",
       "        vertical-align: top;\n",
       "    }\n",
       "\n",
       "    .dataframe thead th {\n",
       "        text-align: right;\n",
       "    }\n",
       "</style>\n",
       "<table border=\"1\" class=\"dataframe\">\n",
       "  <thead>\n",
       "    <tr style=\"text-align: right;\">\n",
       "      <th></th>\n",
       "      <th>OpenMPs</th>\n",
       "      <th>OpenDCs</th>\n",
       "      <th>Purchasing</th>\n",
       "      <th>Production</th>\n",
       "      <th>LostSales</th>\n",
       "      <th>OutsourceToDC</th>\n",
       "      <th>OutsourceToMarket</th>\n",
       "    </tr>\n",
       "  </thead>\n",
       "  <tbody>\n",
       "    <tr>\n",
       "      <th>0</th>\n",
       "      <td>0.0</td>\n",
       "      <td>0.0</td>\n",
       "      <td>40.0</td>\n",
       "      <td>0.0</td>\n",
       "      <td>155.0</td>\n",
       "      <td>0.0</td>\n",
       "      <td>40.0</td>\n",
       "    </tr>\n",
       "  </tbody>\n",
       "</table>\n",
       "</div>"
      ],
      "text/plain": [
       "   OpenMPs  OpenDCs  Purchasing  Production  LostSales  OutsourceToDC  \\\n",
       "0      0.0      0.0        40.0         0.0      155.0            0.0   \n",
       "\n",
       "   OutsourceToMarket  \n",
       "0               40.0  "
      ]
     },
     "execution_count": 61,
     "metadata": {},
     "output_type": "execute_result"
    }
   ],
   "source": [
    "dict_to_dataframe(Summary_dict)"
   ]
  },
  {
   "cell_type": "code",
   "execution_count": 62,
   "id": "prescription-enough",
   "metadata": {},
   "outputs": [
    {
     "data": {
      "text/html": [
       "<div>\n",
       "<style scoped>\n",
       "    .dataframe tbody tr th:only-of-type {\n",
       "        vertical-align: middle;\n",
       "    }\n",
       "\n",
       "    .dataframe tbody tr th {\n",
       "        vertical-align: top;\n",
       "    }\n",
       "\n",
       "    .dataframe thead th {\n",
       "        text-align: right;\n",
       "    }\n",
       "</style>\n",
       "<table border=\"1\" class=\"dataframe\">\n",
       "  <thead>\n",
       "    <tr style=\"text-align: right;\">\n",
       "      <th></th>\n",
       "      <th>Opening</th>\n",
       "      <th>InHouseShipping</th>\n",
       "      <th>OutsourceShipping</th>\n",
       "      <th>Production</th>\n",
       "      <th>Purchasing</th>\n",
       "      <th>LostSales</th>\n",
       "    </tr>\n",
       "  </thead>\n",
       "  <tbody>\n",
       "    <tr>\n",
       "      <th>0</th>\n",
       "      <td>0.0</td>\n",
       "      <td>0.0</td>\n",
       "      <td>682.0</td>\n",
       "      <td>0.0</td>\n",
       "      <td>432.0</td>\n",
       "      <td>41896.0</td>\n",
       "    </tr>\n",
       "  </tbody>\n",
       "</table>\n",
       "</div>"
      ],
      "text/plain": [
       "   Opening  InHouseShipping  OutsourceShipping  Production  Purchasing  \\\n",
       "0      0.0              0.0              682.0         0.0       432.0   \n",
       "\n",
       "   LostSales  \n",
       "0    41896.0  "
      ]
     },
     "execution_count": 62,
     "metadata": {},
     "output_type": "execute_result"
    }
   ],
   "source": [
    "dict_to_dataframe(Cost_dict)"
   ]
  },
  {
   "cell_type": "code",
   "execution_count": 63,
   "id": "enclosed-portable",
   "metadata": {},
   "outputs": [
    {
     "name": "stdout",
     "output_type": "stream",
     "text": [
      "obj val:  11520.362335912314\n"
     ]
    }
   ],
   "source": [
    "run_Model([0,1],[1,0,1]) # 1 disrupted plant and 1 disrupted DC"
   ]
  },
  {
   "cell_type": "code",
   "execution_count": 64,
   "id": "worse-longer",
   "metadata": {},
   "outputs": [
    {
     "data": {
      "text/html": [
       "<div>\n",
       "<style scoped>\n",
       "    .dataframe tbody tr th:only-of-type {\n",
       "        vertical-align: middle;\n",
       "    }\n",
       "\n",
       "    .dataframe tbody tr th {\n",
       "        vertical-align: top;\n",
       "    }\n",
       "\n",
       "    .dataframe thead th {\n",
       "        text-align: right;\n",
       "    }\n",
       "</style>\n",
       "<table border=\"1\" class=\"dataframe\">\n",
       "  <thead>\n",
       "    <tr style=\"text-align: right;\">\n",
       "      <th></th>\n",
       "      <th>OpenMPs</th>\n",
       "      <th>OpenDCs</th>\n",
       "      <th>Purchasing</th>\n",
       "      <th>Production</th>\n",
       "      <th>LostSales</th>\n",
       "      <th>OutsourceToDC</th>\n",
       "      <th>OutsourceToMarket</th>\n",
       "    </tr>\n",
       "  </thead>\n",
       "  <tbody>\n",
       "    <tr>\n",
       "      <th>0</th>\n",
       "      <td>1.0</td>\n",
       "      <td>2.0</td>\n",
       "      <td>40.0</td>\n",
       "      <td>115.0</td>\n",
       "      <td>40.0</td>\n",
       "      <td>33.0</td>\n",
       "      <td>7.0</td>\n",
       "    </tr>\n",
       "  </tbody>\n",
       "</table>\n",
       "</div>"
      ],
      "text/plain": [
       "   OpenMPs  OpenDCs  Purchasing  Production  LostSales  OutsourceToDC  \\\n",
       "0      1.0      2.0        40.0       115.0       40.0           33.0   \n",
       "\n",
       "   OutsourceToMarket  \n",
       "0                7.0  "
      ]
     },
     "execution_count": 64,
     "metadata": {},
     "output_type": "execute_result"
    }
   ],
   "source": [
    "dict_to_dataframe(Summary_dict)"
   ]
  },
  {
   "cell_type": "code",
   "execution_count": 65,
   "id": "worst-million",
   "metadata": {},
   "outputs": [
    {
     "data": {
      "text/html": [
       "<div>\n",
       "<style scoped>\n",
       "    .dataframe tbody tr th:only-of-type {\n",
       "        vertical-align: middle;\n",
       "    }\n",
       "\n",
       "    .dataframe tbody tr th {\n",
       "        vertical-align: top;\n",
       "    }\n",
       "\n",
       "    .dataframe thead th {\n",
       "        text-align: right;\n",
       "    }\n",
       "</style>\n",
       "<table border=\"1\" class=\"dataframe\">\n",
       "  <thead>\n",
       "    <tr style=\"text-align: right;\">\n",
       "      <th></th>\n",
       "      <th>Opening</th>\n",
       "      <th>InHouseShipping</th>\n",
       "      <th>OutsourceShipping</th>\n",
       "      <th>Production</th>\n",
       "      <th>Purchasing</th>\n",
       "      <th>LostSales</th>\n",
       "    </tr>\n",
       "  </thead>\n",
       "  <tbody>\n",
       "    <tr>\n",
       "      <th>0</th>\n",
       "      <td>50.0</td>\n",
       "      <td>359.0</td>\n",
       "      <td>508.0</td>\n",
       "      <td>178.0</td>\n",
       "      <td>432.0</td>\n",
       "      <td>9992.0</td>\n",
       "    </tr>\n",
       "  </tbody>\n",
       "</table>\n",
       "</div>"
      ],
      "text/plain": [
       "   Opening  InHouseShipping  OutsourceShipping  Production  Purchasing  \\\n",
       "0     50.0            359.0              508.0       178.0       432.0   \n",
       "\n",
       "   LostSales  \n",
       "0     9992.0  "
      ]
     },
     "execution_count": 65,
     "metadata": {},
     "output_type": "execute_result"
    }
   ],
   "source": [
    "dict_to_dataframe(Cost_dict)"
   ]
  },
  {
   "cell_type": "code",
   "execution_count": null,
   "id": "tight-david",
   "metadata": {},
   "outputs": [],
   "source": []
  }
 ],
 "metadata": {
  "kernelspec": {
   "display_name": "Python 3",
   "language": "python",
   "name": "python3"
  },
  "language_info": {
   "codemirror_mode": {
    "name": "ipython",
    "version": 3
   },
   "file_extension": ".py",
   "mimetype": "text/x-python",
   "name": "python",
   "nbconvert_exporter": "python",
   "pygments_lexer": "ipython3",
   "version": "3.7.3"
  }
 },
 "nbformat": 4,
 "nbformat_minor": 5
}
