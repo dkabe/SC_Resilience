{
 "cells": [
  {
   "cell_type": "code",
   "execution_count": 1,
   "source": [
    "import numpy as np\n",
    "import itertools\n",
    "import random\n",
    "from statistics import stdev\n",
    "import math\n",
    "import ast"
   ],
   "outputs": [],
   "metadata": {}
  },
  {
   "cell_type": "code",
   "execution_count": 2,
   "source": [
    "p_running = 0.9\n",
    "p_failure = 1 - p_running\n",
    "path = '/home/dkabe/Model_brainstorming/SAA_Analysis_v3/'"
   ],
   "outputs": [],
   "metadata": {}
  },
  {
   "cell_type": "code",
   "execution_count": 2,
   "source": [
    "N = [50, 100, 200, 300, 400, 500]\n",
    "N = [1000, 2000]\n",
    "batches = 30\n",
    "Products = 3\n",
    "Market = 29\n",
    "demand_realization = 25\n",
    "text_file = open(path + 'Disruption_scenarios.txt', \"r\")\n",
    "ls = text_file.read().split('\\n')[:-1]\n",
    "Scenarios = list(map(lambda x: ast.literal_eval(x), ls))\n",
    "Probabilities = np.loadtxt(path + \"disruption_probabilities.txt\")\n",
    "num_disruption = len(Scenarios)\n"
   ],
   "outputs": [
    {
     "output_type": "error",
     "ename": "NameError",
     "evalue": "name 'path' is not defined",
     "traceback": [
      "\u001b[0;31m---------------------------------------------------------------------------\u001b[0m",
      "\u001b[0;31mNameError\u001b[0m                                 Traceback (most recent call last)",
      "\u001b[0;32m<ipython-input-2-9a9c7303a2cf>\u001b[0m in \u001b[0;36m<module>\u001b[0;34m\u001b[0m\n\u001b[1;32m      5\u001b[0m \u001b[0mMarket\u001b[0m \u001b[0;34m=\u001b[0m \u001b[0;36m29\u001b[0m\u001b[0;34m\u001b[0m\u001b[0;34m\u001b[0m\u001b[0m\n\u001b[1;32m      6\u001b[0m \u001b[0mdemand_realization\u001b[0m \u001b[0;34m=\u001b[0m \u001b[0;36m25\u001b[0m\u001b[0;34m\u001b[0m\u001b[0;34m\u001b[0m\u001b[0m\n\u001b[0;32m----> 7\u001b[0;31m \u001b[0mtext_file\u001b[0m \u001b[0;34m=\u001b[0m \u001b[0mopen\u001b[0m\u001b[0;34m(\u001b[0m\u001b[0mpath\u001b[0m \u001b[0;34m+\u001b[0m \u001b[0;34m'Disruption_scenarios.txt'\u001b[0m\u001b[0;34m,\u001b[0m \u001b[0;34m\"r\"\u001b[0m\u001b[0;34m)\u001b[0m\u001b[0;34m\u001b[0m\u001b[0;34m\u001b[0m\u001b[0m\n\u001b[0m\u001b[1;32m      8\u001b[0m \u001b[0mls\u001b[0m \u001b[0;34m=\u001b[0m \u001b[0mtext_file\u001b[0m\u001b[0;34m.\u001b[0m\u001b[0mread\u001b[0m\u001b[0;34m(\u001b[0m\u001b[0;34m)\u001b[0m\u001b[0;34m.\u001b[0m\u001b[0msplit\u001b[0m\u001b[0;34m(\u001b[0m\u001b[0;34m'\\n'\u001b[0m\u001b[0;34m)\u001b[0m\u001b[0;34m[\u001b[0m\u001b[0;34m:\u001b[0m\u001b[0;34m-\u001b[0m\u001b[0;36m1\u001b[0m\u001b[0;34m]\u001b[0m\u001b[0;34m\u001b[0m\u001b[0;34m\u001b[0m\u001b[0m\n\u001b[1;32m      9\u001b[0m \u001b[0mScenarios\u001b[0m \u001b[0;34m=\u001b[0m \u001b[0mlist\u001b[0m\u001b[0;34m(\u001b[0m\u001b[0mmap\u001b[0m\u001b[0;34m(\u001b[0m\u001b[0;32mlambda\u001b[0m \u001b[0mx\u001b[0m\u001b[0;34m:\u001b[0m \u001b[0mast\u001b[0m\u001b[0;34m.\u001b[0m\u001b[0mliteral_eval\u001b[0m\u001b[0;34m(\u001b[0m\u001b[0mx\u001b[0m\u001b[0;34m)\u001b[0m\u001b[0;34m,\u001b[0m \u001b[0mls\u001b[0m\u001b[0;34m)\u001b[0m\u001b[0;34m)\u001b[0m\u001b[0;34m\u001b[0m\u001b[0;34m\u001b[0m\u001b[0m\n",
      "\u001b[0;31mNameError\u001b[0m: name 'path' is not defined"
     ]
    }
   ],
   "metadata": {}
  },
  {
   "cell_type": "code",
   "execution_count": 4,
   "source": [
    "p1_mean = 137000\n",
    "p2_mean = 135000\n",
    "p3_mean = 133000\n",
    "\n",
    "p1_sd = 2650\n",
    "p2_sd = 8125\n",
    "p3_sd = 4000\n",
    "\n",
    "distribution_mat = [[p1_mean, p1_sd],\n",
    "                  [p2_mean, p2_sd],\n",
    "                  [p3_mean, p3_sd]]"
   ],
   "outputs": [],
   "metadata": {}
  },
  {
   "cell_type": "code",
   "execution_count": 5,
   "source": [
    "np.random.seed(1)\n",
    "demand = np.zeros((demand_realization, Products, Market))\n",
    "for r in range(demand_realization):\n",
    "    demand[r][0] = np.round(np.random.normal(distribution_mat[0][0], distribution_mat[0][1], size = 29))\n",
    "    demand[r][1] = np.round(np.random.normal(distribution_mat[1][0], distribution_mat[1][1], size = 29))\n",
    "    demand[r][2] = np.round(np.random.normal(distribution_mat[2][0], distribution_mat[2][1], size = 29))\n",
    "#np.savetxt(\"/home/dkabe/Model_brainstorming/SAA_Analysis_v3/demand.txt\", demand.reshape(25*3, 29))"
   ],
   "outputs": [],
   "metadata": {}
  },
  {
   "cell_type": "code",
   "execution_count": 6,
   "source": [
    "S = demand_realization*Scenarios\n",
    "S_demand = []\n",
    "S_prob = list(Probabilities)*demand_realization\n",
    "multiplier = sum(S_prob)\n",
    "S_prob = list(map(lambda x: x/multiplier, S_prob))\n",
    "for r in range(demand_realization):\n",
    "    S_demand+=([demand[r]]*num_disruption)"
   ],
   "outputs": [],
   "metadata": {}
  },
  {
   "cell_type": "code",
   "execution_count": 24,
   "source": [
    "random.seed(1)\n",
    "evaluation_indices = random.sample(range(len(S)), 10000)\n",
    "evaluation_set = [S[index] for index in evaluation_indices]\n",
    "evaluation_demand = np.array([S_demand[index] for index in evaluation_indices])\n",
    "eval_probabilities = [S_prob[index] for index in evaluation_indices]\n",
    "p_factor = sum(eval_probabilities)\n",
    "eval_probabilities = list(map(lambda x: x/p_factor, eval_probabilities))\n",
    "#with open(path + 'Evaluation_Set.txt', 'w') as f:\n",
    " #   for item in evaluation_set:\n",
    "  #      f.write(\"%s\\n\" % item)\n",
    "#f.close()\n",
    "#np.savetxt(path + \"p_scen.txt\", eval_probabilities)\n",
    "#np.savetxt(\"eval_set_demand.txt\", evaluation_demand.reshape((10000*3,29)))"
   ],
   "outputs": [],
   "metadata": {}
  },
  {
   "cell_type": "code",
   "execution_count": 64,
   "source": [
    "random.seed(1)\n",
    "for num_scen in N:\n",
    "    for batch in range(batches):\n",
    "        indices = random.sample(range(len(S)), num_scen)\n",
    "        sample_scenarios = [S[index] for index in indices]\n",
    "        p_sample_scenarios = [S_prob[index] for index in indices]\n",
    "        demand = np.array([S_demand[index] for index in indices])\n",
    "        p_factor = 1/np.sum(p_sample_scenarios)\n",
    "        p_sample_scenarios = list(map(lambda x: x*p_factor, p_sample_scenarios))  \n",
    "        with open(path + 'Scenarios/' + str(num_scen) + '_' + str(batch) + '.txt', 'w') as f:\n",
    "            for item in sample_scenarios:\n",
    "                f.write(\"%s\\n\" % item)\n",
    "        f.close()\n",
    "        np.savetxt(path + 'Scen_probabilities/' + 'p_scen_' + str(num_scen) + '_' + str(batch) + '.txt', p_sample_scenarios)\n",
    "        np.savetxt(path + 'Scen_demand/' + 'demand_' + str(num_scen) + '_' + str(batch) + '.txt', demand.reshape((num_scen*Products, Market)))\n"
   ],
   "outputs": [],
   "metadata": {}
  },
  {
   "cell_type": "code",
   "execution_count": 3,
   "source": [
    "# version 2\n",
    "path = '/home/dkabe/Model_brainstorming/SAA_Analysis_v3/'\n",
    "scenarios = [50, 100, 200, 300, 400, 500, 1000]\n",
    "p_scen = np.loadtxt('/home/dkabe/Model_brainstorming/SAA_Analysis_v3/p_scen.txt') \n",
    "\n",
    "for scen in scenarios:\n",
    "    gaps = []\n",
    "    ub_averages = []\n",
    "    ub_max = []\n",
    "    objvals_lb = np.loadtxt(path + \"Objectives/\" + str(scen) + '_results.txt')\n",
    "    avg_lb = (np.mean(objvals_lb))\n",
    "    std_lb = (stdev(objvals_lb))\n",
    "    lbwidth = std_lb/math.sqrt(batches)*2.045\n",
    "    lbmin = round(avg_lb - lbwidth,2)\n",
    "    #print(avg_lb, lbmin)\n",
    "    #print('ci on lower bound = [', round(avg_lb-lbwidth,2), ',', round(avg_lb+lbwidth,2), ']')\n",
    "    for batch in range(batches):\n",
    "        objvals_ub = np.loadtxt(path + \"Upper_Bounds/\" + str(scen) + \"_scenarios/\" + str(scen) + \"_\" + str(batch) + \"_UB_results.txt\")\n",
    "        avg_ub = (np.sum(p_scen*objvals_ub))\n",
    "        std_ub = math.sqrt(np.sum(p_scen*((objvals_ub - avg_ub)**2)))\n",
    "        ubwidth = std_ub/math.sqrt(10000)*1.96\n",
    "        ubmax = round(avg_ub + ubwidth, 2)\n",
    "        gap = round(100*((ubmax - lbmin)/lbmin),2)\n",
    "        ub_averages.append(avg_ub)\n",
    "        gaps.append(gap)\n",
    "        ub_max.append(ubmax)\n",
    "    min_gap = min(filter(lambda x: x >= 0, gaps))\n",
    "    #min_gap = min(gaps)\n",
    "    index = gaps.index(min_gap)\n",
    "    #print(ub_averages[index], ub_max[index], min_gap)\n",
    "    print(avg_lb, \"\\t\", ub_averages[index], \"\\t\", lbmin, \"\\t\", ub_max[index], \"\\t\", min_gap)"
   ],
   "outputs": [
    {
     "output_type": "stream",
     "name": "stdout",
     "text": [
      "19092303.575999998 \t 18737033.4819952 \t 17936816.26 \t 18850730.16 \t 5.1\n",
      "19707049.249 \t 18737033.4819952 \t 18634623.6 \t 18850730.16 \t 1.16\n",
      "18791822.872666664 \t 18737033.4819952 \t 18153017.77 \t 18850730.16 \t 3.84\n",
      "19478004.370666668 \t 18899003.142476276 \t 18927827.77 \t 19017324.6 \t 0.47\n",
      "19094568.076333337 \t 18737033.4819952 \t 18600351.07 \t 18850730.16 \t 1.35\n",
      "19394766.26133333 \t 18899003.142476276 \t 18867826.51 \t 19017324.6 \t 0.79\n",
      "18974217.647 \t 18737033.4819952 \t 18718395.54 \t 18850730.16 \t 0.71\n"
     ]
    }
   ],
   "metadata": {}
  },
  {
   "cell_type": "code",
   "execution_count": 18,
   "source": [
    "gaps"
   ],
   "outputs": [
    {
     "output_type": "execute_result",
     "data": {
      "text/plain": [
       "[1.9,\n",
       " 0.79,\n",
       " 8.73,\n",
       " -0.09,\n",
       " 1.6,\n",
       " 1.9,\n",
       " 1.6,\n",
       " 0.79,\n",
       " 1.9,\n",
       " -0.09,\n",
       " 3.84,\n",
       " -0.09,\n",
       " -0.09,\n",
       " 1.17,\n",
       " 0.79,\n",
       " 1.9,\n",
       " 1.17,\n",
       " 15.53,\n",
       " 11.88,\n",
       " 1.6,\n",
       " -0.09,\n",
       " 6.35,\n",
       " -0.09,\n",
       " -0.09,\n",
       " -0.09,\n",
       " 1.17,\n",
       " -0.09,\n",
       " 6.77,\n",
       " 8.28,\n",
       " -0.09]"
      ]
     },
     "metadata": {},
     "execution_count": 18
    }
   ],
   "metadata": {}
  },
  {
   "cell_type": "code",
   "execution_count": 18,
   "source": [
    "gaps"
   ],
   "outputs": [
    {
     "output_type": "execute_result",
     "data": {
      "text/plain": [
       "[1.9,\n",
       " 0.79,\n",
       " 8.73,\n",
       " -0.09,\n",
       " 1.6,\n",
       " 1.9,\n",
       " 1.6,\n",
       " 0.79,\n",
       " 1.9,\n",
       " -0.09,\n",
       " 3.84,\n",
       " -0.09,\n",
       " -0.09,\n",
       " 1.17,\n",
       " 0.79,\n",
       " 1.9,\n",
       " 1.17,\n",
       " 15.53,\n",
       " 11.88,\n",
       " 1.6,\n",
       " -0.09,\n",
       " 6.35,\n",
       " -0.09,\n",
       " -0.09,\n",
       " -0.09,\n",
       " 1.17,\n",
       " -0.09,\n",
       " 6.77,\n",
       " 8.28,\n",
       " -0.09]"
      ]
     },
     "metadata": {},
     "execution_count": 18
    }
   ],
   "metadata": {}
  },
  {
   "cell_type": "code",
   "execution_count": null,
   "source": [],
   "outputs": [],
   "metadata": {}
  }
 ],
 "metadata": {
  "orig_nbformat": 4,
  "language_info": {
   "name": "python",
   "version": "3.7.4",
   "mimetype": "text/x-python",
   "codemirror_mode": {
    "name": "ipython",
    "version": 3
   },
   "pygments_lexer": "ipython3",
   "nbconvert_exporter": "python",
   "file_extension": ".py"
  },
  "kernelspec": {
   "name": "python3",
   "display_name": "Python 3.7.4 64-bit ('env_gurobi': virtualenv)"
  },
  "interpreter": {
   "hash": "ab66d84091635e28aaa655d19dc257d938f7e6a1e4d5fb0a631906b26faaf625"
  }
 },
 "nbformat": 4,
 "nbformat_minor": 2
}