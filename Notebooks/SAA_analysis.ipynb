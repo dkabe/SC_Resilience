{
 "cells": [
  {
   "cell_type": "code",
   "execution_count": 49,
   "source": [
    "import numpy as np\n",
    "import itertools\n",
    "import random"
   ],
   "outputs": [],
   "metadata": {}
  },
  {
   "cell_type": "code",
   "execution_count": 50,
   "source": [
    "p_running = 0.9\n",
    "p_failure = 1 - p_running\n",
    "path = '/home/dkabe/Model_brainstorming/SAA_Analysis/'"
   ],
   "outputs": [],
   "metadata": {}
  },
  {
   "cell_type": "code",
   "execution_count": 52,
   "source": [
    "provinces = [3, 6]\n",
    "plants = 6\n",
    "dc = 4\n",
    "a5 = list(itertools.product([1, 0], repeat = provinces[0]))\n",
    "a6 = list(itertools.product([1, 0], repeat = provinces[1]))\n",
    "b = list(itertools.product([1, 0], repeat = dc))\n",
    "mp_loc_encoded = [[0, 0, 1, 1, 2, 2],\n",
    "                  [0, 1, 2, 3, 4, 5]]"
   ],
   "outputs": [],
   "metadata": {}
  },
  {
   "cell_type": "code",
   "execution_count": null,
   "source": [],
   "outputs": [],
   "metadata": {}
  },
  {
   "cell_type": "code",
   "execution_count": 53,
   "source": [
    "province_disruptions = [[x,y] for x in a6 for y in b]\n",
    "num_Scenarios = len(province_disruptions)\n",
    "plant_failure = [[None]*plants for x in range(2**provinces[1])]\n",
    "for k in range(len(plant_failure)):\n",
    "    for i in range(plants):\n",
    "        ind = mp_loc_encoded[1][i]\n",
    "        plant_failure[k][i] = a6[k][ind]\n",
    "Scen = [[x,y] for x in plant_failure for y in b]\n",
    "p_scen = []\n",
    "for s in range(len(province_disruptions)):\n",
    "    p_i = (p_running**(np.sum(province_disruptions[s][0]) + np.sum(province_disruptions[s][1])))*(p_failure**(provinces[1] + dc - (np.sum(province_disruptions[s][0]) + np.sum(province_disruptions[s][1]))))\n",
    "    p_scen.append(p_i)"
   ],
   "outputs": [],
   "metadata": {}
  },
  {
   "cell_type": "code",
   "execution_count": 54,
   "source": [
    "N = [50, 100, 150, 200, 250, 300]\n",
    "batches = 30"
   ],
   "outputs": [],
   "metadata": {}
  },
  {
   "cell_type": "code",
   "execution_count": 55,
   "source": [
    "random.seed(1)\n",
    "for num_scen in N:\n",
    "    for batch in range(batches):\n",
    "        indices = random.sample(range(len(Scen)), num_scen)\n",
    "        sample_scenarios = [Scen[index] for index in indices]\n",
    "        p_sample_scenarios = [p_scen[index] for index in indices]\n",
    "        p_factor = 1/np.sum(p_sample_scenarios)\n",
    "        p_sample_scenarios = list(map(lambda x: x*p_factor, p_sample_scenarios))  \n",
    "        with open(path + 'Scenarios/' + str(num_scen) + '_' + str(batch) + '.txt', 'w') as f:\n",
    "            for item in sample_scenarios:\n",
    "                f.write(\"%s\\n\" % item)\n",
    "        f.close()\n",
    "        np.savetxt(path + 'Scen_probabilities/' + 'p_scen_' + str(num_scen) + '_' + str(batch) + '.txt', p_sample_scenarios)\n"
   ],
   "outputs": [],
   "metadata": {}
  },
  {
   "cell_type": "code",
   "execution_count": 60,
   "source": [
    "counter = 0 \n",
    "for num_scen in N:\n",
    "    for batch in range(batches):\n",
    "        probs = np.loadtxt(path + 'Scen_probabilities/' + 'p_scen_' + str(num_scen) + '_' + str(batch) + '.txt')\n",
    "        counter += np.sum(probs)"
   ],
   "outputs": [],
   "metadata": {}
  },
  {
   "cell_type": "code",
   "execution_count": 61,
   "source": [
    "counter"
   ],
   "outputs": [
    {
     "output_type": "execute_result",
     "data": {
      "text/plain": [
       "180.0"
      ]
     },
     "metadata": {},
     "execution_count": 61
    }
   ],
   "metadata": {}
  },
  {
   "cell_type": "code",
   "execution_count": 40,
   "source": [
    "p1_mean = 137000\n",
    "p2_mean = 135000\n",
    "p3_mean = 133000\n",
    "\n",
    "p1_sd = 2650\n",
    "p2_sd = 8125\n",
    "p3_sd = 4000\n",
    "\n",
    "distribution_mat = [[p1_mean, p1_sd],\n",
    "                  [p2_mean, p2_sd],\n",
    "                  [p3_mean, p3_sd]]\n",
    "\n",
    "Products = 3\n",
    "Market = 29"
   ],
   "outputs": [],
   "metadata": {}
  },
  {
   "cell_type": "code",
   "execution_count": 62,
   "source": [
    "np.random.seed(1)\n",
    "\n",
    "for num_scen in N:\n",
    "    for batch in range(batches):\n",
    "        demand = np.zeros((num_scen, Products, Market))\n",
    "        for s in range(num_scen):\n",
    "            demand[s][0] = np.round(np.random.normal(distribution_mat[0][0], distribution_mat[0][1], size = 29))\n",
    "            demand[s][1] = np.round(np.random.normal(distribution_mat[1][0], distribution_mat[1][1], size = 29))\n",
    "            demand[s][2] = np.round(np.random.normal(distribution_mat[2][0], distribution_mat[2][1], size = 29))\n",
    "            np.savetxt(path + 'Scen_demand/' + 'demand_' + str(num_scen) + '_' + str(batch) + '.txt', demand.reshape((num_scen*Products, Market)))\n"
   ],
   "outputs": [],
   "metadata": {}
  },
  {
   "cell_type": "code",
   "execution_count": 46,
   "source": [
    "demand"
   ],
   "outputs": [
    {
     "output_type": "execute_result",
     "data": {
      "text/plain": [
       "array([[[141675., 138060., 139594., ..., 137121., 136504., 141062.],\n",
       "        [146939., 136259., 138073., ..., 138480., 135540., 137458.],\n",
       "        [130463., 131549., 130310., ..., 138953., 140584., 137715.]],\n",
       "\n",
       "       [[136523., 134163., 139794., ..., 142062., 136290., 139127.],\n",
       "        [142696., 133741., 139989., ..., 136354., 140160., 154363.],\n",
       "        [136778., 129349., 137468., ..., 134275., 136427., 130396.]],\n",
       "\n",
       "       [[134259., 138806., 134871., ..., 136022., 136366., 139914.],\n",
       "        [140324., 140201., 121862., ..., 133067., 123430., 130992.],\n",
       "        [130829., 134664., 128375., ..., 126668., 135442., 128245.]],\n",
       "\n",
       "       ...,\n",
       "\n",
       "       [[139716., 132678., 136511., ..., 139654., 136780., 133250.],\n",
       "        [132445., 137234., 147223., ..., 144874., 120977., 126206.],\n",
       "        [138302., 129436., 132892., ..., 131600., 135670., 133893.]],\n",
       "\n",
       "       [[138969., 140906., 136257., ..., 138933., 138374., 140912.],\n",
       "        [142940., 125853., 135952., ..., 127601., 134384., 148011.],\n",
       "        [144530., 133113., 127232., ..., 131709., 132634., 127094.]],\n",
       "\n",
       "       [[136811., 135713., 136162., ..., 137901., 134837., 137388.],\n",
       "        [124514., 131667., 148532., ..., 121603., 140619., 132910.],\n",
       "        [132204., 134000., 137980., ..., 137400., 126983., 126654.]]])"
      ]
     },
     "metadata": {},
     "execution_count": 46
    }
   ],
   "metadata": {}
  },
  {
   "cell_type": "code",
   "execution_count": null,
   "source": [],
   "outputs": [],
   "metadata": {}
  }
 ],
 "metadata": {
  "orig_nbformat": 4,
  "language_info": {
   "name": "python",
   "version": "3.7.4",
   "mimetype": "text/x-python",
   "codemirror_mode": {
    "name": "ipython",
    "version": 3
   },
   "pygments_lexer": "ipython3",
   "nbconvert_exporter": "python",
   "file_extension": ".py"
  },
  "kernelspec": {
   "name": "python3",
   "display_name": "Python 3.7.4 64-bit ('env_gurobi': virtualenv)"
  },
  "interpreter": {
   "hash": "ab66d84091635e28aaa655d19dc257d938f7e6a1e4d5fb0a631906b26faaf625"
  }
 },
 "nbformat": 4,
 "nbformat_minor": 2
}