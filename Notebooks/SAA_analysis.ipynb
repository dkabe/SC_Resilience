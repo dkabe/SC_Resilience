{
 "cells": [
  {
   "cell_type": "code",
   "execution_count": 1,
   "source": [
    "import numpy as np\n",
    "import itertools\n",
    "import random\n",
    "from statistics import stdev\n",
    "import math"
   ],
   "outputs": [],
   "metadata": {}
  },
  {
   "cell_type": "code",
   "execution_count": 2,
   "source": [
    "p_running = 0.9\n",
    "p_failure = 1 - p_running\n",
    "path = '/home/dkabe/Model_brainstorming/SAA_Analysis/'"
   ],
   "outputs": [],
   "metadata": {}
  },
  {
   "cell_type": "code",
   "execution_count": 3,
   "source": [
    "provinces = [3, 6]\n",
    "plants = 6\n",
    "dc = 4\n",
    "a5 = list(itertools.product([1, 0], repeat = provinces[0]))\n",
    "a6 = list(itertools.product([1, 0], repeat = provinces[1]))\n",
    "b = list(itertools.product([1, 0], repeat = dc))\n",
    "mp_loc_encoded = [[0, 0, 1, 1, 2, 2],\n",
    "                  [0, 1, 2, 3, 4, 5]]"
   ],
   "outputs": [
    {
     "output_type": "stream",
     "name": "stdout",
     "text": [
      "The history saving thread hit an unexpected error (OperationalError('attempt to write a readonly database')).History will not be written to the database.\n"
     ]
    }
   ],
   "metadata": {}
  },
  {
   "cell_type": "code",
   "execution_count": 5,
   "source": [
    "province_disruptions = [[x,y] for x in a6 for y in b]\n",
    "num_Scenarios = len(province_disruptions)\n",
    "plant_failure = [[None]*plants for x in range(2**provinces[1])]\n",
    "for k in range(len(plant_failure)):\n",
    "    for i in range(plants):\n",
    "        ind = mp_loc_encoded[1][i]\n",
    "        plant_failure[k][i] = a6[k][ind]\n",
    "Scen = [[x,y] for x in plant_failure for y in b]\n",
    "p_scen = []\n",
    "for s in range(len(province_disruptions)):\n",
    "    p_i = (p_running**(np.sum(province_disruptions[s][0]) + np.sum(province_disruptions[s][1])))*(p_failure**(provinces[1] + dc - (np.sum(province_disruptions[s][0]) + np.sum(province_disruptions[s][1]))))\n",
    "    p_scen.append(p_i)\n",
    "    \n",
    "with open(path + '/Evaluation_Set.txt', 'w') as f:\n",
    "    for item in Scen:\n",
    "        f.write(\"%s\\n\" % item)\n",
    "f.close()\n",
    "np.savetxt(\"p_scen.txt\", p_scen)"
   ],
   "outputs": [],
   "metadata": {}
  },
  {
   "cell_type": "code",
   "execution_count": 54,
   "source": [
    "N = [50, 100, 150, 200, 250, 300]\n",
    "batches = 30"
   ],
   "outputs": [],
   "metadata": {}
  },
  {
   "cell_type": "code",
   "execution_count": 55,
   "source": [
    "random.seed(1)\n",
    "for num_scen in N:\n",
    "    for batch in range(batches):\n",
    "        indices = random.sample(range(len(Scen)), num_scen)\n",
    "        sample_scenarios = [Scen[index] for index in indices]\n",
    "        p_sample_scenarios = [p_scen[index] for index in indices]\n",
    "        p_factor = 1/np.sum(p_sample_scenarios)\n",
    "        p_sample_scenarios = list(map(lambda x: x*p_factor, p_sample_scenarios))  \n",
    "        with open(path + 'Scenarios/' + str(num_scen) + '_' + str(batch) + '.txt', 'w') as f:\n",
    "            for item in sample_scenarios:\n",
    "                f.write(\"%s\\n\" % item)\n",
    "        f.close()\n",
    "        np.savetxt(path + 'Scen_probabilities/' + 'p_scen_' + str(num_scen) + '_' + str(batch) + '.txt', p_sample_scenarios)\n"
   ],
   "outputs": [],
   "metadata": {}
  },
  {
   "cell_type": "code",
   "execution_count": 60,
   "source": [
    "counter = 0 \n",
    "for num_scen in N:\n",
    "    for batch in range(batches):\n",
    "        probs = np.loadtxt(path + 'Scen_probabilities/' + 'p_scen_' + str(num_scen) + '_' + str(batch) + '.txt')\n",
    "        counter += np.sum(probs)"
   ],
   "outputs": [],
   "metadata": {}
  },
  {
   "cell_type": "code",
   "execution_count": 61,
   "source": [
    "counter"
   ],
   "outputs": [
    {
     "output_type": "execute_result",
     "data": {
      "text/plain": [
       "180.0"
      ]
     },
     "metadata": {},
     "execution_count": 61
    }
   ],
   "metadata": {}
  },
  {
   "cell_type": "code",
   "execution_count": 7,
   "source": [
    "p1_mean = 137000\n",
    "p2_mean = 135000\n",
    "p3_mean = 133000\n",
    "\n",
    "p1_sd = 2650\n",
    "p2_sd = 8125\n",
    "p3_sd = 4000\n",
    "\n",
    "distribution_mat = [[p1_mean, p1_sd],\n",
    "                  [p2_mean, p2_sd],\n",
    "                  [p3_mean, p3_sd]]\n",
    "\n",
    "Products = 3\n",
    "Market = 29"
   ],
   "outputs": [],
   "metadata": {}
  },
  {
   "cell_type": "code",
   "execution_count": 62,
   "source": [
    "np.random.seed(1)\n",
    "\n",
    "for num_scen in N:\n",
    "    for batch in range(batches):\n",
    "        demand = np.zeros((num_scen, Products, Market))\n",
    "        for s in range(num_scen):\n",
    "            demand[s][0] = np.round(np.random.normal(distribution_mat[0][0], distribution_mat[0][1], size = 29))\n",
    "            demand[s][1] = np.round(np.random.normal(distribution_mat[1][0], distribution_mat[1][1], size = 29))\n",
    "            demand[s][2] = np.round(np.random.normal(distribution_mat[2][0], distribution_mat[2][1], size = 29))\n",
    "        np.savetxt(path + 'Scen_demand/' + 'demand_' + str(num_scen) + '_' + str(batch) + '.txt', demand.reshape((num_scen*Products, Market)))\n"
   ],
   "outputs": [],
   "metadata": {}
  },
  {
   "cell_type": "code",
   "execution_count": 9,
   "source": [
    "# forming evaluation set demand \n",
    "demand = np.zeros((1024, Products, Market))\n",
    "for s in range(len(Scen)):\n",
    "    demand[s][0] = np.round(np.random.normal(distribution_mat[0][0], distribution_mat[0][1], size = 29))\n",
    "    demand[s][1] = np.round(np.random.normal(distribution_mat[1][0], distribution_mat[1][1], size = 29))\n",
    "    demand[s][2] = np.round(np.random.normal(distribution_mat[2][0], distribution_mat[2][1], size = 29))\n",
    "\n",
    "np.savetxt(\"eval_set_demand.txt\", demand.reshape((1024*3,29)))"
   ],
   "outputs": [],
   "metadata": {}
  },
  {
   "cell_type": "code",
   "execution_count": 66,
   "source": [
    "# 50 scenario confidence interval\n",
    "batches = 30"
   ],
   "outputs": [],
   "metadata": {}
  },
  {
   "cell_type": "code",
   "execution_count": 73,
   "source": [
    "path = '/home/dkabe/Model_brainstorming/SAA_Analysis/'\n",
    "scenarios = [50, 100, 150, 200, 250]\n",
    "for scen in scenarios:\n",
    "    objvals = np.loadtxt(path + str(scen) + '_results.txt')\n",
    "    avg = (np.mean(objvals))\n",
    "    print(avg)\n",
    "\n",
    "    std = (stdev(objvals))\n",
    "    lbwidth = std/math.sqrt(batches)*2.145\n",
    "    print('ci on lower bound = [', round(avg-lbwidth,2), ',', round(avg+lbwidth,2), ']')\n"
   ],
   "outputs": [
    {
     "output_type": "stream",
     "name": "stdout",
     "text": [
      "19330179.58466667\n",
      "ci on lower bound = [ 18187116.96 , 20473242.21 ]\n",
      "19724198.245333333\n",
      "ci on lower bound = [ 18803339.39 , 20645057.1 ]\n",
      "19130722.44466667\n",
      "ci on lower bound = [ 18103873.7 , 20157571.19 ]\n",
      "19214189.037666667\n",
      "ci on lower bound = [ 18549614.86 , 19878763.21 ]\n",
      "18660917.756333333\n",
      "ci on lower bound = [ 17924103.15 , 19397732.36 ]\n"
     ]
    }
   ],
   "metadata": {}
  },
  {
   "cell_type": "code",
   "execution_count": 64,
   "source": [
    "# Upper bound CI\n",
    "scenarios = [50, 100, 150, 200, 250]\n",
    "for scen in (scenarios):\n",
    "    objvals = np.loadtxt(\"/home/dkabe/Model_brainstorming/SAA_Analysis/\" + str(scen) + \"_UB_results.txt\")\n",
    "    p_scen = np.loadtxt(\"/home/dkabe/Model_brainstorming/SAA_Analysis/p_scen.txt\")\n",
    "    avg = (np.sum(p_scen*objvals))\n",
    "    std = math.sqrt(np.sum(p_scen*((objvals - avg)**2)))\n",
    "    ubwidth = std/math.sqrt(1024)*1.96\n",
    "    print('ci on upper bound = [', round(avg-ubwidth,2), ',', round(avg+ubwidth,2), ']')\n"
   ],
   "outputs": [
    {
     "output_type": "stream",
     "name": "stdout",
     "text": [
      "ci on upper bound = [ 19393599.38 , 20678313.03 ]\n",
      "ci on upper bound = [ 19628629.04 , 20968281.97 ]\n",
      "ci on upper bound = [ 18650040.46 , 19416250.29 ]\n",
      "ci on upper bound = [ 18766639.84 , 19481237.34 ]\n",
      "ci on upper bound = [ 19494724.69 , 20780684.09 ]\n"
     ]
    }
   ],
   "metadata": {}
  },
  {
   "cell_type": "code",
   "execution_count": 3,
   "source": [
    "\n",
    "import multiprocessing as mp\n",
    "print(\"Number of processors: \", mp.cpu_count())"
   ],
   "outputs": [
    {
     "output_type": "stream",
     "name": "stdout",
     "text": [
      "Number of processors:  40\n"
     ]
    }
   ],
   "metadata": {}
  },
  {
   "cell_type": "code",
   "execution_count": 5,
   "source": [
    "\n"
   ],
   "outputs": [
    {
     "output_type": "stream",
     "name": "stdout",
     "text": [
      "[2, 2, 3, 4, 2, 3, 2, 3, 1, 2]\n"
     ]
    },
    {
     "output_type": "stream",
     "name": "stderr",
     "text": [
      "Traceback (most recent call last):\n",
      "Traceback (most recent call last):\n",
      "Traceback (most recent call last):\n",
      "Traceback (most recent call last):\n",
      "Traceback (most recent call last):\n",
      "Traceback (most recent call last):\n",
      "Traceback (most recent call last):\n",
      "Traceback (most recent call last):\n"
     ]
    }
   ],
   "metadata": {}
  },
  {
   "cell_type": "code",
   "execution_count": 6,
   "source": [
    "pool"
   ],
   "outputs": [
    {
     "output_type": "stream",
     "name": "stderr",
     "text": [
      "Process ForkPoolWorker-19:\n"
     ]
    },
    {
     "output_type": "stream",
     "name": "stderr",
     "text": [
      "Process ForkPoolWorker-34:\n"
     ]
    },
    {
     "output_type": "stream",
     "name": "stderr",
     "text": [
      "Process ForkPoolWorker-21:\n"
     ]
    },
    {
     "output_type": "stream",
     "name": "stderr",
     "text": [
      "Process ForkPoolWorker-29:\n"
     ]
    },
    {
     "output_type": "stream",
     "name": "stderr",
     "text": [
      "Process ForkPoolWorker-24:\n"
     ]
    },
    {
     "output_type": "stream",
     "name": "stderr",
     "text": [
      "Process ForkPoolWorker-39:\n"
     ]
    },
    {
     "output_type": "stream",
     "name": "stderr",
     "text": [
      "Process ForkPoolWorker-20:\n"
     ]
    },
    {
     "output_type": "stream",
     "name": "stderr",
     "text": [
      "Process ForkPoolWorker-35:\n"
     ]
    },
    {
     "output_type": "stream",
     "name": "stderr",
     "text": [
      "Process ForkPoolWorker-5:\n"
     ]
    },
    {
     "output_type": "stream",
     "name": "stderr",
     "text": [
      "Process ForkPoolWorker-3:\n"
     ]
    },
    {
     "output_type": "stream",
     "name": "stderr",
     "text": [
      "Process ForkPoolWorker-4:\n"
     ]
    },
    {
     "output_type": "stream",
     "name": "stderr",
     "text": [
      "Process ForkPoolWorker-23:\n"
     ]
    },
    {
     "output_type": "stream",
     "name": "stderr",
     "text": [
      "Process ForkPoolWorker-7:\n"
     ]
    },
    {
     "output_type": "stream",
     "name": "stderr",
     "text": [
      "Process ForkPoolWorker-28:\n"
     ]
    },
    {
     "output_type": "stream",
     "name": "stderr",
     "text": [
      "Process ForkPoolWorker-31:\n"
     ]
    },
    {
     "output_type": "stream",
     "name": "stderr",
     "text": [
      "Process ForkPoolWorker-6:\n"
     ]
    },
    {
     "output_type": "stream",
     "name": "stderr",
     "text": [
      "Process ForkPoolWorker-40:\n"
     ]
    },
    {
     "output_type": "stream",
     "name": "stderr",
     "text": [
      "Process ForkPoolWorker-30:\n"
     ]
    },
    {
     "output_type": "stream",
     "name": "stderr",
     "text": [
      "Process ForkPoolWorker-36:\n"
     ]
    },
    {
     "output_type": "stream",
     "name": "stderr",
     "text": [
      "Process ForkPoolWorker-8:\n"
     ]
    },
    {
     "output_type": "stream",
     "name": "stderr",
     "text": [
      "Process ForkPoolWorker-25:\n"
     ]
    },
    {
     "output_type": "stream",
     "name": "stderr",
     "text": [
      "Process ForkPoolWorker-27:\n"
     ]
    },
    {
     "output_type": "stream",
     "name": "stderr",
     "text": [
      "Process ForkPoolWorker-33:\n"
     ]
    },
    {
     "output_type": "stream",
     "name": "stderr",
     "text": [
      "Process ForkPoolWorker-18:\n"
     ]
    },
    {
     "output_type": "stream",
     "name": "stderr",
     "text": [
      "Process ForkPoolWorker-9:\n"
     ]
    },
    {
     "output_type": "stream",
     "name": "stderr",
     "text": [
      "Process ForkPoolWorker-32:\n"
     ]
    },
    {
     "output_type": "stream",
     "name": "stderr",
     "text": [
      "Process ForkPoolWorker-10:\n"
     ]
    },
    {
     "output_type": "stream",
     "name": "stderr",
     "text": [
      "Process ForkPoolWorker-38:\n"
     ]
    },
    {
     "output_type": "stream",
     "name": "stderr",
     "text": [
      "Process ForkPoolWorker-26:\n"
     ]
    },
    {
     "output_type": "stream",
     "name": "stderr",
     "text": [
      "Process ForkPoolWorker-15:\n"
     ]
    },
    {
     "output_type": "stream",
     "name": "stderr",
     "text": [
      "Process ForkPoolWorker-1:\n"
     ]
    },
    {
     "output_type": "stream",
     "name": "stderr",
     "text": [
      "Process ForkPoolWorker-2:\n"
     ]
    },
    {
     "output_type": "stream",
     "name": "stderr",
     "text": [
      "Process ForkPoolWorker-22:\n"
     ]
    },
    {
     "output_type": "stream",
     "name": "stderr",
     "text": [
      "Process ForkPoolWorker-37:\n"
     ]
    },
    {
     "output_type": "stream",
     "name": "stderr",
     "text": [
      "Process ForkPoolWorker-16:\n"
     ]
    },
    {
     "output_type": "stream",
     "name": "stderr",
     "text": [
      "Process ForkPoolWorker-17:\n"
     ]
    },
    {
     "output_type": "stream",
     "name": "stderr",
     "text": [
      "Process ForkPoolWorker-12:\n"
     ]
    },
    {
     "output_type": "stream",
     "name": "stderr",
     "text": [
      "Process ForkPoolWorker-14:\n"
     ]
    },
    {
     "output_type": "stream",
     "name": "stderr",
     "text": [
      "Process ForkPoolWorker-13:\n"
     ]
    },
    {
     "output_type": "stream",
     "name": "stderr",
     "text": [
      "Process ForkPoolWorker-11:\n"
     ]
    },
    {
     "output_type": "execute_result",
     "data": {
      "text/plain": [
       "<multiprocessing.pool.Pool at 0x2b22a99272d0>"
      ]
     },
     "metadata": {},
     "execution_count": 6
    }
   ],
   "metadata": {}
  },
  {
   "cell_type": "code",
   "execution_count": null,
   "source": [],
   "outputs": [],
   "metadata": {}
  }
 ],
 "metadata": {
  "orig_nbformat": 4,
  "language_info": {
   "name": "python",
   "version": "3.7.4",
   "mimetype": "text/x-python",
   "codemirror_mode": {
    "name": "ipython",
    "version": 3
   },
   "pygments_lexer": "ipython3",
   "nbconvert_exporter": "python",
   "file_extension": ".py"
  },
  "kernelspec": {
   "name": "python3",
   "display_name": "Python 3.7.4 64-bit ('env_gurobi': virtualenv)"
  },
  "interpreter": {
   "hash": "ab66d84091635e28aaa655d19dc257d938f7e6a1e4d5fb0a631906b26faaf625"
  }
 },
 "nbformat": 4,
 "nbformat_minor": 2
}