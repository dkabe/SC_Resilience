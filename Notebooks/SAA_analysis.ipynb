{
 "cells": [
  {
   "cell_type": "code",
   "execution_count": 28,
   "source": [
    "import numpy as np\n",
    "import itertools\n",
    "import random"
   ],
   "outputs": [],
   "metadata": {}
  },
  {
   "cell_type": "code",
   "execution_count": 29,
   "source": [
    "p_running = 0.9\n",
    "p_failure = 1 - p_running\n",
    "path = '/home/dkabe/Model_brainstorming/SAA_Analysis/'"
   ],
   "outputs": [],
   "metadata": {}
  },
  {
   "cell_type": "code",
   "execution_count": 30,
   "source": [
    "provinces = [3, 6]\n",
    "plants = 6\n",
    "dc = 4\n",
    "a5 = list(itertools.product([1, 0], repeat = provinces[0]))\n",
    "a6 = list(itertools.product([1, 0], repeat = provinces[1]))\n",
    "b = list(itertools.product([1, 0], repeat = dc))\n",
    "mp_loc_encoded = [[0, 0, 1, 1, 2, 2],\n",
    "                  [0, 1, 2, 3, 4, 5]]"
   ],
   "outputs": [],
   "metadata": {}
  },
  {
   "cell_type": "code",
   "execution_count": null,
   "source": [],
   "outputs": [],
   "metadata": {}
  },
  {
   "cell_type": "code",
   "execution_count": 31,
   "source": [
    "province_disruptions = [[x,y] for x in a6 for y in b]\n",
    "num_Scenarios = len(province_disruptions)\n",
    "plant_failure = [[None]*plants for x in range(2**provinces[1])]\n",
    "for k in range(len(plant_failure)):\n",
    "    for i in range(plants):\n",
    "        ind = mp_loc_encoded[1][i]\n",
    "        plant_failure[k][i] = a6[k][ind]\n",
    "Scen = [[x,y] for x in plant_failure for y in b]\n",
    "p_scen = []\n",
    "for s in range(len(province_disruptions)):\n",
    "    p_i = (p_running**(np.sum(province_disruptions[s][0]) + np.sum(province_disruptions[s][1])))*(p_failure**(provinces[1] + dc - (np.sum(province_disruptions[s][0]) + np.sum(province_disruptions[s][1]))))\n",
    "    p_scen.append(p_i)"
   ],
   "outputs": [],
   "metadata": {}
  },
  {
   "cell_type": "code",
   "execution_count": 13,
   "source": [
    "N = [50, 100, 150, 200, 250, 300]\n",
    "batches = 30"
   ],
   "outputs": [],
   "metadata": {}
  },
  {
   "cell_type": "code",
   "execution_count": 32,
   "source": [
    "random.seed(1)\n",
    "for num_scen in N:\n",
    "    for batch in range(batches):\n",
    "        indices = random.sample(range(len(Scen)), num_scen)\n",
    "        sample_scenarios = [Scen[index] for index in indices]\n",
    "        p_sample_scenarios = [p_scen[index] for index in indices]\n",
    "        p_factor = 1/np.sum(p_sample_scenarios)\n",
    "        p_sample_scenarios = list(map(lambda x: x*p_factor, p_sample_scenarios))  \n",
    "        with open(path + str(num_scen) + '_' + str(batch) + '.txt', 'w') as f:\n",
    "            for item in sample_scenarios:\n",
    "                f.write(\"%s\\n\" % item)\n",
    "        f.close()\n",
    "        np.savetxt(path + 'p_scen_' + str(num_scen) + '_' + str(batch) + '.txt', p_sample_scenarios)\n"
   ],
   "outputs": [],
   "metadata": {}
  },
  {
   "cell_type": "code",
   "execution_count": 36,
   "source": [
    "counter = 0 \n",
    "for num_scen in N:\n",
    "    for batch in range(batches):\n",
    "        probs = np.loadtxt(path + 'p_scen_' + str(num_scen) + '_' + str(batch) + '.txt')\n",
    "        counter += (np.sum(probs))"
   ],
   "outputs": [],
   "metadata": {}
  },
  {
   "cell_type": "code",
   "execution_count": null,
   "source": [],
   "outputs": [],
   "metadata": {}
  }
 ],
 "metadata": {
  "orig_nbformat": 4,
  "language_info": {
   "name": "python",
   "version": "3.7.4",
   "mimetype": "text/x-python",
   "codemirror_mode": {
    "name": "ipython",
    "version": 3
   },
   "pygments_lexer": "ipython3",
   "nbconvert_exporter": "python",
   "file_extension": ".py"
  },
  "kernelspec": {
   "name": "python3",
   "display_name": "Python 3.7.4 64-bit ('env_gurobi': virtualenv)"
  },
  "interpreter": {
   "hash": "ab66d84091635e28aaa655d19dc257d938f7e6a1e4d5fb0a631906b26faaf625"
  }
 },
 "nbformat": 4,
 "nbformat_minor": 2
}