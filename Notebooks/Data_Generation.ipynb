{
 "cells": [
  {
   "cell_type": "code",
   "execution_count": 8,
   "id": "historical-penny",
   "metadata": {},
   "outputs": [],
   "source": [
    "import math\n",
    "import numpy as np\n",
    "import random\n",
    "from random import randint\n",
    "from gurobipy import *\n",
    "#import pandas as pd\n",
    "from random import seed\n",
    "import matplotlib.pyplot as plt\n",
    "import geopy.distance"
   ]
  },
  {
   "cell_type": "code",
   "execution_count": 12,
   "id": "downtown-mambo",
   "metadata": {},
   "outputs": [],
   "source": [
    "#path = r\"C:/Users/Devika Kabe/Documents/Model_brainstorming/\"\n",
    "path = \"/home/dkabe/Model_brainstorming/\""
   ]
  },
  {
   "cell_type": "code",
   "execution_count": 13,
   "id": "excess-realtor",
   "metadata": {},
   "outputs": [],
   "source": [
    "f = open(path + 'Input_Data/product_distributions.txt', 'r')\n",
    "text = f.read()\n",
    "f.close()\n",
    "distributions = text.split('\\n')"
   ]
  },
  {
   "cell_type": "code",
   "execution_count": 14,
   "id": "unauthorized-panama",
   "metadata": {},
   "outputs": [],
   "source": [
    "for i in distributions:\n",
    "    exec(i.lstrip().rstrip())"
   ]
  },
  {
   "cell_type": "code",
   "execution_count": 15,
   "id": "european-courtesy",
   "metadata": {},
   "outputs": [],
   "source": [
    "distribution_mat = np.array([[p1_mean, p1_sd],\n",
    "                             [p2_mean, p2_sd],\n",
    "                             [p3_mean, p3_sd],\n",
    "                             [p4_mean, p4_sd]])"
   ]
  },
  {
   "cell_type": "code",
   "execution_count": 16,
   "id": "chronic-lounge",
   "metadata": {},
   "outputs": [
    {
     "output_type": "execute_result",
     "data": {
      "text/plain": [
       "array([[2487.        ,   70.71067812],\n",
       "       [2329.        ,   42.42640687],\n",
       "       [2539.        ,   14.14213562],\n",
       "       [2302.        ,   56.56854249]])"
      ]
     },
     "metadata": {},
     "execution_count": 16
    }
   ],
   "source": [
    "distribution_mat"
   ]
  },
  {
   "cell_type": "markdown",
   "id": "split-outdoors",
   "metadata": {},
   "source": [
    "## 2 Products, 2 Outsourced Suppliers"
   ]
  },
  {
   "cell_type": "code",
   "execution_count": 30,
   "id": "signed-mailing",
   "metadata": {},
   "outputs": [],
   "source": [
    "Products = 2\n",
    "Outsourced = 2"
   ]
  },
  {
   "cell_type": "code",
   "execution_count": 31,
   "id": "medium-yacht",
   "metadata": {},
   "outputs": [],
   "source": [
    "## 2 MPs, 3 DCs, 4 MZs\n",
    "## 2 Products, 2 Outsourced Facilities \n",
    "\n",
    "Manufacturing_plants = 2\n",
    "Distribution = 3\n",
    "num_Scenarios = (2**Manufacturing_plants)*(2**Distribution) \n",
    "Market = 1\n",
    "\n",
    "# Cost of opening\n",
    "f_i = [7500, 12500]\n",
    "f_j = [7500, 12500, 17500]\n",
    "\n",
    "# Unit cost of manufacturing product\n",
    "np.random.seed(0)\n",
    "Manufacturing_costs = np.random.uniform(0,1, (Manufacturing_plants,Products))\n",
    "\n",
    "# Unit cost of transporting m from plant to DC\n",
    "np.random.seed(0)\n",
    "Transportation_i_j = np.random.uniform(0,1, (Products, Manufacturing_plants, Distribution))\n",
    "\n",
    "# Unit cost of transporting m from DC to Market Zone\n",
    "np.random.seed(0)\n",
    "Transportation_j_k = np.random.uniform(0,1, (Products, Distribution, Market))\n",
    "\n",
    "# Plant Capacities: Bigger capacities for the more expensive ones\n",
    "np.random.seed(0)\n",
    "Capacities_i = np.zeros(Manufacturing_plants) # in volume (metres cubed)\n",
    "Capacities_i[0] = 5000\n",
    "Capacities_i[1] = 10000\n",
    "\n",
    "Capacities_j = np.zeros(Distribution) # in volume (metres cubed)\n",
    "Capacities_j[0] = 5000\n",
    "Capacities_j[1] = 10000\n",
    "Capacities_j[2] = 15000\n",
    "\n",
    "Capacities_l = np.random.randint(400, 500, (Products,Outsourced)) # in terms of products \n",
    "\n",
    "# Cost of purchasing product m from supplier l \n",
    "np.random.seed(0)\n",
    "levels = 2\n",
    "Supplier_cost = np.zeros((levels, Products, Outsourced))\n",
    "Supplier_cost[0] = np.random.uniform(17, 20, (Products, Outsourced))\n",
    "Supplier_cost[1] = np.random.uniform(20, 23, (Products, Outsourced))\n",
    "\n",
    "# Cost of transporting product m from outsourced facility l to j\n",
    "np.random.seed(0)\n",
    "T_O_DC = np.random.uniform(1, 2, (Products, Outsourced, Distribution))\n",
    "\n",
    "# Cost of shipping product m from outsourced facility l to k\n",
    "np.random.seed(0)\n",
    "T_O_MZ = np.random.uniform(2, 3,(Products, Outsourced, Market))\n",
    "\n",
    "# Product volume \n",
    "np.random.seed(0)\n",
    "volume = np.random.uniform(1, 2,(Products))\n",
    "\n",
    "# unit cost of lost sales \n",
    "np.random.seed(1)\n",
    "lost_sales = np.random.uniform(20, 25, (Market,Products))\n",
    "\n",
    "# Demand\n",
    "demand = np.zeros((num_Scenarios, Products, Market))\n",
    "np.random.seed(0)\n",
    "for s in range(num_Scenarios):\n",
    "    for k in range(Market):\n",
    "        for m in range(Products):\n",
    "            demand[s][m][k] = np.round(np.random.normal(distribution_mat[m][0], distribution_mat[m][1]))"
   ]
  },
  {
   "cell_type": "code",
   "execution_count": 11,
   "id": "steady-convenience",
   "metadata": {},
   "outputs": [
    {
     "output_type": "execute_result",
     "data": {
      "text/plain": [
       "array([[22.08511002, 23.60162247]])"
      ]
     },
     "metadata": {},
     "execution_count": 11
    }
   ],
   "source": [
    "lost_sales"
   ]
  },
  {
   "cell_type": "code",
   "execution_count": 12,
   "id": "cordless-victorian",
   "metadata": {},
   "outputs": [
    {
     "output_type": "execute_result",
     "data": {
      "text/plain": [
       "array([[[21.19525402, 21.6943816 ],\n",
       "        [21.52347949, 21.34983892]],\n",
       "\n",
       "       [[23.87372777, 24.54044572],\n",
       "        [23.85764482, 25.22020219]]])"
      ]
     },
     "metadata": {},
     "execution_count": 12
    }
   ],
   "source": [
    "Supplier_cost + T_O_MZ"
   ]
  },
  {
   "cell_type": "code",
   "execution_count": 11,
   "id": "deluxe-captain",
   "metadata": {},
   "outputs": [
    {
     "data": {
      "text/plain": [
       "array([[[1.5488135 , 1.71518937, 1.60276338],\n",
       "        [1.54488318, 1.4236548 , 1.64589411]],\n",
       "\n",
       "       [[1.43758721, 1.891773  , 1.96366276],\n",
       "        [1.38344152, 1.79172504, 1.52889492]]])"
      ]
     },
     "execution_count": 11,
     "metadata": {},
     "output_type": "execute_result"
    }
   ],
   "source": [
    "T_O_DC"
   ]
  },
  {
   "cell_type": "code",
   "execution_count": 12,
   "id": "previous-beginning",
   "metadata": {},
   "outputs": [],
   "source": [
    "# save files \n",
    "np.savetxt(path + 'Input_Data/Instance_1/OpenMP_1.txt', f_i)\n",
    "np.savetxt(path + 'Input_Data/Instance_1/OpenDC_1.txt', f_j)\n",
    "np.savetxt(path + 'Input_Data/Instance_1/Manufacturing_1.txt', Manufacturing_costs)\n",
    "np.savetxt(path + 'Input_Data/Instance_1/TransMPDC_1.txt', Transportation_i_j.reshape((Products*Manufacturing_plants, Distribution)))\n",
    "np.savetxt(path + 'Input_Data/Instance_1/TransDCMZ_1.txt', Transportation_j_k.reshape((Products*Distribution, Market)))\n",
    "np.savetxt(path + 'Input_Data/Instance_1/CapacitiesMP_1.txt', Capacities_i)\n",
    "np.savetxt(path + 'Input_Data/Instance_1/CapacitiesDC_1.txt', Capacities_j)\n",
    "np.savetxt(path + 'Input_Data/Instance_1/CapacitiesOutsource_1.txt', Capacities_l)\n",
    "np.savetxt(path + 'Input_Data/Instance_1/SupplierCost_1.txt', Supplier_cost.reshape((levels*Products, Outsourced)))\n",
    "np.savetxt(path + 'Input_Data/Instance_1/TransSupplierDC_1.txt', T_O_DC.reshape((Products*Outsourced, Distribution)))\n",
    "np.savetxt(path + 'Input_Data/Instance_1/TransSupplierMZ_1.txt', T_O_MZ.reshape((Products*Outsourced, Market)))\n",
    "np.savetxt(path + 'Input_Data/Instance_1/Volume_1.txt', volume)\n",
    "np.savetxt(path + 'Input_Data/Instance_1/LostSales_1.txt', lost_sales)\n",
    "np.savetxt(path + 'Input_Data/Instance_1/Demand_1.txt', demand.reshape((num_Scenarios*Products, Market)))"
   ]
  },
  {
   "cell_type": "code",
   "execution_count": 13,
   "id": "social-lawyer",
   "metadata": {},
   "outputs": [],
   "source": [
    "## 3 MPs, 4 DCs, 2 MZs\n",
    "\n",
    "num_Scenarios = 128\n",
    "\n",
    "Manufacturing_plants = 3\n",
    "Distribution = 4\n",
    "Market = 2\n",
    "Outsourced = 2\n",
    "\n",
    "# Cost of opening\n",
    "f_i = [7500, 12500, 17500]\n",
    "f_j = [7500, 12500, 17500, 7500]\n",
    "\n",
    "# Unit cost of manufacturing product\n",
    "np.random.seed(0)\n",
    "Manufacturing_costs = np.random.uniform(0,1, (Manufacturing_plants,Products))\n",
    "\n",
    "# Unit cost of transporting m from plant to DC\n",
    "np.random.seed(0)\n",
    "Transportation_i_j = np.random.uniform(0,1, (Products, Manufacturing_plants, Distribution))\n",
    "\n",
    "# Unit cost of transporting m from DC to Market Zone\n",
    "np.random.seed(0)\n",
    "Transportation_j_k = np.random.uniform(0,1, (Products, Distribution, Market))\n",
    "\n",
    "# Plant Capacities: Bigger capacities for the more expensive ones\n",
    "np.random.seed(0)\n",
    "Capacities_i = np.zeros(Manufacturing_plants) # in volume (metres cubed)\n",
    "Capacities_i[0] = 5000\n",
    "Capacities_i[1] = 10000\n",
    "Capacities_i[2] = 15000\n",
    "Capacities_j = np.zeros(Distribution) # in volume (metres cubed)\n",
    "Capacities_j[0] = 5000\n",
    "Capacities_j[1] = 10000\n",
    "Capacities_j[2] = 15000\n",
    "Capacities_j[3] = 5000\n",
    "Capacities_l = np.random.randint(800, 1000, (Products,Outsourced)) # in terms of products \n",
    "\n",
    "# Cost of purchasing product m from supplier l \n",
    "np.random.seed(0)\n",
    "levels = 2\n",
    "Supplier_cost = np.zeros((levels, Products, Outsourced))\n",
    "Supplier_cost[0] = np.random.uniform(17, 20, (Products, Outsourced))\n",
    "Supplier_cost[1] = np.random.uniform(20, 23, (Products, Outsourced))\n",
    "\n",
    "# Cost of transporting product m from outsourced facility l to j\n",
    "np.random.seed(0)\n",
    "T_O_DC = np.random.uniform(1, 2, (Products, Outsourced, Distribution))\n",
    "\n",
    "# Cost of shipping product m from outsourced facility l to k\n",
    "np.random.seed(0)\n",
    "T_O_MZ = np.random.uniform(2, 3,(Products, Outsourced, Market))\n",
    "\n",
    "# Product volume \n",
    "np.random.seed(0)\n",
    "volume = np.random.uniform(1, 2,(Products))\n",
    "\n",
    "# unit cost of lost sales \n",
    "np.random.seed(1)\n",
    "lost_sales = np.random.uniform(20, 25, (Market,Products))\n",
    "\n",
    "# Demand\n",
    "demand = np.zeros((num_Scenarios, Products, Market))\n",
    "np.random.seed(0)\n",
    "for s in range(num_Scenarios):\n",
    "    for k in range(Market):\n",
    "        for m in range(Products):\n",
    "            demand[s][m][k] = np.round(np.random.normal(distribution_mat[m][0], distribution_mat[m][1]))"
   ]
  },
  {
   "cell_type": "code",
   "execution_count": 14,
   "id": "introductory-television",
   "metadata": {},
   "outputs": [
    {
     "data": {
      "text/plain": [
       "9784.0"
      ]
     },
     "execution_count": 14,
     "metadata": {},
     "output_type": "execute_result"
    }
   ],
   "source": [
    "np.sum(demand[1])"
   ]
  },
  {
   "cell_type": "code",
   "execution_count": 15,
   "id": "hidden-recipe",
   "metadata": {},
   "outputs": [],
   "source": [
    "np.savetxt(path + 'Input_Data/Instance_2/OpenMP_2.txt', f_i)\n",
    "np.savetxt(path + 'Input_Data/Instance_2/OpenDC_2.txt', f_j)\n",
    "np.savetxt(path + 'Input_Data/Instance_2/Manufacturing_2.txt', Manufacturing_costs)\n",
    "np.savetxt(path + 'Input_Data/Instance_2/TransMPDC_2.txt', Transportation_i_j.reshape((Products*Manufacturing_plants, Distribution)))\n",
    "np.savetxt(path + 'Input_Data/Instance_2/TransDCMZ_2.txt', Transportation_j_k.reshape((Products*Distribution, Market)))\n",
    "np.savetxt(path + 'Input_Data/Instance_2/CapacitiesMP_2.txt', Capacities_i)\n",
    "np.savetxt(path + 'Input_Data/Instance_2/CapacitiesDC_2.txt', Capacities_j)\n",
    "np.savetxt(path + 'Input_Data/Instance_2/CapacitiesOutsource_2.txt', Capacities_l)\n",
    "np.savetxt(path +'Input_Data/Instance_2/SupplierCost_2.txt', Supplier_cost.reshape((levels*Products, Outsourced)))\n",
    "np.savetxt(path + 'Input_Data/Instance_2/TransSupplierDC_2.txt', T_O_DC.reshape((Products*Outsourced, Distribution)))\n",
    "np.savetxt(path + 'Input_Data/Instance_2/TransSupplierMZ_2.txt', T_O_MZ.reshape((Products*Outsourced, Market)))\n",
    "np.savetxt(path + 'Input_Data/Instance_2/Volume_2.txt', volume)\n",
    "np.savetxt(path + 'Input_Data/Instance_2/LostSales_2.txt', lost_sales)\n",
    "np.savetxt(path + 'Input_Data/Instance_2/Demand_2.txt', demand.reshape((num_Scenarios*Products, Market)))"
   ]
  },
  {
   "cell_type": "code",
   "execution_count": 16,
   "id": "clinical-receptor",
   "metadata": {},
   "outputs": [
    {
     "data": {
      "text/plain": [
       "array([[[2612.],\n",
       "        [2346.]],\n",
       "\n",
       "       [[2619.],\n",
       "        [2288.]],\n",
       "\n",
       "       [[2480.],\n",
       "        [2346.]],\n",
       "\n",
       "       [[2541.],\n",
       "        [2334.]],\n",
       "\n",
       "       [[2593.],\n",
       "        [2320.]],\n",
       "\n",
       "       [[2306.],\n",
       "        [2357.]],\n",
       "\n",
       "       [[2647.],\n",
       "        [2267.]],\n",
       "\n",
       "       [[2595.],\n",
       "        [2391.]],\n",
       "\n",
       "       [[2424.],\n",
       "        [2245.]],\n",
       "\n",
       "       [[2574.],\n",
       "        [2380.]],\n",
       "\n",
       "       [[2413.],\n",
       "        [2269.]],\n",
       "\n",
       "       [[2451.],\n",
       "        [2310.]],\n",
       "\n",
       "       [[2373.],\n",
       "        [2320.]],\n",
       "\n",
       "       [[2451.],\n",
       "        [2279.]],\n",
       "\n",
       "       [[2492.],\n",
       "        [2342.]],\n",
       "\n",
       "       [[2439.],\n",
       "        [2314.]],\n",
       "\n",
       "       [[2500.],\n",
       "        [2312.]],\n",
       "\n",
       "       [[2423.],\n",
       "        [2331.]],\n",
       "\n",
       "       [[2568.],\n",
       "        [2277.]],\n",
       "\n",
       "       [[2425.],\n",
       "        [2304.]],\n",
       "\n",
       "       [[2405.],\n",
       "        [2367.]]])"
      ]
     },
     "execution_count": 16,
     "metadata": {},
     "output_type": "execute_result"
    }
   ],
   "source": [
    "demand[:21,:,:1]"
   ]
  },
  {
   "cell_type": "code",
   "execution_count": 17,
   "id": "manufactured-expansion",
   "metadata": {},
   "outputs": [
    {
     "data": {
      "text/plain": [
       "2"
      ]
     },
     "execution_count": 17,
     "metadata": {},
     "output_type": "execute_result"
    }
   ],
   "source": [
    "Outsourced"
   ]
  },
  {
   "cell_type": "code",
   "execution_count": 18,
   "id": "thermal-oxford",
   "metadata": {},
   "outputs": [],
   "source": [
    "## 4 MPs, 6 DCs, 3 MZs\n",
    "\n",
    "num_Scenarios = 200\n",
    "Manufacturing_plants = 4\n",
    "Distribution = 6\n",
    "Market = 3\n",
    "Products = 2\n",
    "Outsourced = 2\n",
    "# Cost of opening\n",
    "f_i = [7500, 12500, 17500, 7500]\n",
    "f_j = [7500, 12500, 17500, 7500, 12500, 17500]\n",
    "\n",
    "# Unit cost of manufacturing product\n",
    "np.random.seed(0)\n",
    "Manufacturing_costs = np.random.uniform(0,1, (Manufacturing_plants,Products))\n",
    "\n",
    "# Unit cost of transporting m from plant to DC\n",
    "np.random.seed(0)\n",
    "Transportation_i_j = np.random.uniform(0,1, (Products, Manufacturing_plants, Distribution))\n",
    "\n",
    "# Unit cost of transporting m from DC to Market Zone\n",
    "np.random.seed(0)\n",
    "Transportation_j_k = np.random.uniform(0,1, (Products, Distribution, Market))\n",
    "\n",
    "# Plant Capacities: Bigger capacities for the more expensive ones\n",
    "np.random.seed(0)\n",
    "Capacities_i = np.zeros(Manufacturing_plants) # in volume (metres cubed)\n",
    "Capacities_i[0] = 5000\n",
    "Capacities_i[1] = 10000\n",
    "Capacities_i[2] = 15000\n",
    "Capacities_i[3] = 5000\n",
    "Capacities_j = np.zeros(Distribution) # in volume (metres cubed)\n",
    "Capacities_j[0] = 5000\n",
    "Capacities_j[1] = 10000\n",
    "Capacities_j[2] = 15000\n",
    "Capacities_j[3] = 5000\n",
    "Capacities_j[4] = 10000\n",
    "Capacities_j[5] = 15000\n",
    "Capacities_l = np.random.randint(1200, 1500, (Products,Outsourced)) # in terms of products \n",
    "\n",
    "# Cost of purchasing product m from supplier l \n",
    "np.random.seed(0)\n",
    "levels = 2\n",
    "Supplier_cost = np.zeros((levels, Products, Outsourced))\n",
    "Supplier_cost[0] = np.random.uniform(17, 20, (Products, Outsourced))\n",
    "Supplier_cost[1] = np.random.uniform(20, 23, (Products, Outsourced))\n",
    "\n",
    "# Cost of transporting product m from outsourced facility l to j\n",
    "np.random.seed(0)\n",
    "T_O_DC = np.random.uniform(1, 2, (Products, Outsourced, Distribution))\n",
    "\n",
    "# Cost of shipping product m from outsourced facility l to k\n",
    "np.random.seed(0)\n",
    "T_O_MZ = np.random.uniform(2, 3,(Products, Outsourced, Market))\n",
    "\n",
    "# Product volume \n",
    "np.random.seed(0)\n",
    "volume = np.random.uniform(1, 2,(Products))\n",
    "\n",
    "# unit cost of lost sales \n",
    "np.random.seed(1)\n",
    "lost_sales = np.random.uniform(20, 25, (Market,Products))\n",
    "\n",
    "# Demand\n",
    "demand = np.zeros((num_Scenarios, Products, Market))\n",
    "np.random.seed(0)\n",
    "for s in range(num_Scenarios):\n",
    "    for k in range(Market):\n",
    "        for m in range(Products):\n",
    "            demand[s][m][k] = np.round(np.random.normal(distribution_mat[m][0], distribution_mat[m][1]))"
   ]
  },
  {
   "cell_type": "code",
   "execution_count": 19,
   "id": "foster-archive",
   "metadata": {},
   "outputs": [
    {
     "data": {
      "text/plain": [
       "array([[22.08511002, 23.60162247],\n",
       "       [20.00057187, 21.51166286],\n",
       "       [20.73377945, 20.46169297]])"
      ]
     },
     "execution_count": 19,
     "metadata": {},
     "output_type": "execute_result"
    }
   ],
   "source": [
    "lost_sales"
   ]
  },
  {
   "cell_type": "code",
   "execution_count": 20,
   "id": "interstate-differential",
   "metadata": {},
   "outputs": [
    {
     "data": {
      "text/plain": [
       "array([[[18.64644051, 19.1455681 ],\n",
       "        [18.80829013, 18.63464955]],\n",
       "\n",
       "       [[21.2709644 , 21.93768234],\n",
       "        [21.31276163, 22.675319  ]]])"
      ]
     },
     "execution_count": 20,
     "metadata": {},
     "output_type": "execute_result"
    }
   ],
   "source": [
    "Supplier_cost"
   ]
  },
  {
   "cell_type": "code",
   "execution_count": 21,
   "id": "thrown-guinea",
   "metadata": {},
   "outputs": [],
   "source": [
    "np.savetxt(path + 'Input_Data/Instance_3/OpenMP_3.txt', f_i)\n",
    "np.savetxt(path + 'Input_Data/Instance_3/OpenDC_3.txt', f_j)\n",
    "np.savetxt(path + 'Input_Data/Instance_3/Manufacturing_3.txt', Manufacturing_costs)\n",
    "np.savetxt(path + 'Input_Data/Instance_3/TransMPDC_3.txt', Transportation_i_j.reshape((Products*Manufacturing_plants, Distribution)))\n",
    "np.savetxt(path + 'Input_Data/Instance_3/TransDCMZ_3.txt', Transportation_j_k.reshape((Products*Distribution, Market)))\n",
    "np.savetxt(path + 'Input_Data/Instance_3/CapacitiesMP_3.txt', Capacities_i)\n",
    "np.savetxt(path + 'Input_Data/Instance_3/CapacitiesDC_3.txt', Capacities_j)\n",
    "np.savetxt(path + 'Input_Data/Instance_3/CapacitiesOutsource_3.txt', Capacities_l)\n",
    "np.savetxt(path + 'Input_Data/Instance_3/SupplierCost_3.txt', Supplier_cost.reshape((levels*Products, Outsourced)))\n",
    "np.savetxt(path + 'Input_Data/Instance_3/TransSupplierDC_3.txt', T_O_DC.reshape((Products*Outsourced, Distribution)))\n",
    "np.savetxt(path + 'Input_Data/Instance_3/TransSupplierMZ_3.txt', T_O_MZ.reshape((Products*Outsourced, Market)))\n",
    "np.savetxt(path + 'Input_Data/Instance_3/Volume_3.txt', volume)\n",
    "np.savetxt(path + 'Input_Data/Instance_3/LostSales_3.txt', lost_sales)\n",
    "np.savetxt(path + 'Input_Data/Instance_3/Demand_3.txt', demand.reshape((num_Scenarios*Products, Market)))"
   ]
  },
  {
   "cell_type": "code",
   "execution_count": 22,
   "id": "comfortable-liverpool",
   "metadata": {},
   "outputs": [],
   "source": [
    "## 6 MPs, 8 DCs, 5 MZs\n",
    "\n",
    "num_Scenarios = 200\n",
    "Manufacturing_plants = 6\n",
    "Distribution = 8\n",
    "Market = 5\n",
    "\n",
    "# Cost of opening\n",
    "f_i = [7500, 12500, 17500, 7500, 12500, 17500]\n",
    "f_j = [7500, 12500, 17500, 7500, 12500, 17500, 7500, 12500]\n",
    "# Unit cost of manufacturing product\n",
    "np.random.seed(0)\n",
    "Manufacturing_costs = np.random.uniform(0,1, (Manufacturing_plants,Products))\n",
    "\n",
    "# Unit cost of transporting m from plant to DC\n",
    "np.random.seed(0)\n",
    "Transportation_i_j = np.random.uniform(0,1, (Products, Manufacturing_plants, Distribution))\n",
    "\n",
    "# Unit cost of transporting m from DC to Market Zone\n",
    "np.random.seed(0)\n",
    "Transportation_j_k = np.random.uniform(0,1, (Products, Distribution, Market))\n",
    "\n",
    "# Plant Capacities: Bigger capacities for the more expensive ones\n",
    "np.random.seed(0)\n",
    "Capacities_i = np.zeros(Manufacturing_plants) # in volume (metres cubed)\n",
    "Capacities_i[0] = 5000\n",
    "Capacities_i[1] = 10000\n",
    "Capacities_i[2] = 15000\n",
    "Capacities_i[3] = 5000\n",
    "Capacities_i[4] = 10000\n",
    "Capacities_i[5] = 15000\n",
    "Capacities_j = np.zeros(Distribution) # in volume (metres cubed)\n",
    "Capacities_j[0] = 5000\n",
    "Capacities_j[1] = 10000\n",
    "Capacities_j[2] = 15000\n",
    "Capacities_j[3] = 5000\n",
    "Capacities_j[4] = 10000\n",
    "Capacities_j[5] = 15000\n",
    "Capacities_j[6] = 5000\n",
    "Capacities_j[7] = 10000\n",
    "Capacities_l = np.random.randint(2000, 2500, (Products,Outsourced)) # in terms of products \n",
    "\n",
    "# Cost of purchasing product m from supplier l \n",
    "np.random.seed(0)\n",
    "levels = 2\n",
    "Supplier_cost = np.zeros((levels, Products, Outsourced))\n",
    "Supplier_cost[0] = np.random.uniform(17, 20, (Products, Outsourced))\n",
    "Supplier_cost[1] = np.random.uniform(20, 23, (Products, Outsourced))\n",
    "\n",
    "# Cost of transporting product m from outsourced facility l to j\n",
    "np.random.seed(0)\n",
    "T_O_DC = np.random.uniform(1, 2, (Products, Outsourced, Distribution))\n",
    "\n",
    "# Cost of shipping product m from outsourced facility l to k\n",
    "np.random.seed(0)\n",
    "T_O_MZ = np.random.uniform(2, 3,(Products, Outsourced, Market))\n",
    "\n",
    "# Product volume \n",
    "np.random.seed(0)\n",
    "volume = np.random.uniform(1, 2,(Products))\n",
    "\n",
    "# unit cost of lost sales \n",
    "np.random.seed(1)\n",
    "lost_sales = np.random.uniform(20, 25, (Market,Products))\n",
    "\n",
    "# Demand\n",
    "demand = np.zeros((num_Scenarios, Products, Market))\n",
    "np.random.seed(0)\n",
    "for s in range(num_Scenarios):\n",
    "    for k in range(Market):\n",
    "        for m in range(Products):\n",
    "            demand[s][m][k] = np.round(np.random.normal(distribution_mat[m][0], distribution_mat[m][1]))"
   ]
  },
  {
   "cell_type": "code",
   "execution_count": 23,
   "id": "configured-stylus",
   "metadata": {},
   "outputs": [
    {
     "data": {
      "text/plain": [
       "24339.0"
      ]
     },
     "execution_count": 23,
     "metadata": {},
     "output_type": "execute_result"
    }
   ],
   "source": [
    "np.sum(demand[1])"
   ]
  },
  {
   "cell_type": "code",
   "execution_count": 24,
   "id": "extensive-constitutional",
   "metadata": {},
   "outputs": [
    {
     "data": {
      "text/plain": [
       "array([[[2612., 2556., 2619., 2554., 2480.],\n",
       "        [2346., 2424., 2288., 2323., 2346.]],\n",
       "\n",
       "       [[2497., 2541., 2518., 2593., 2509.],\n",
       "        [2391., 2334., 2343., 2320., 2293.]],\n",
       "\n",
       "       [[2306., 2548., 2647., 2490., 2595.],\n",
       "        [2357., 2298., 2267., 2321., 2391.]],\n",
       "\n",
       "       ...,\n",
       "\n",
       "       [[2577., 2488., 2463., 2542., 2430.],\n",
       "        [2299., 2343., 2328., 2347., 2282.]],\n",
       "\n",
       "       [[2431., 2476., 2445., 2517., 2398.],\n",
       "        [2329., 2294., 2265., 2327., 2330.]],\n",
       "\n",
       "       [[2582., 2580., 2501., 2586., 2406.],\n",
       "        [2298., 2315., 2333., 2336., 2273.]]])"
      ]
     },
     "execution_count": 24,
     "metadata": {},
     "output_type": "execute_result"
    }
   ],
   "source": [
    "demand"
   ]
  },
  {
   "cell_type": "code",
   "execution_count": 25,
   "id": "lesser-toyota",
   "metadata": {},
   "outputs": [],
   "source": [
    "np.savetxt(path + 'Input_Data/Instance_4/OpenMP_4.txt', f_i)\n",
    "np.savetxt(path + 'Input_Data/Instance_4/OpenDC_4.txt', f_j)\n",
    "np.savetxt(path + 'Input_Data/Instance_4/Manufacturing_4.txt', Manufacturing_costs)\n",
    "np.savetxt(path + 'Input_Data/Instance_4/TransMPDC_4.txt', Transportation_i_j.reshape((Products*Manufacturing_plants, Distribution)))\n",
    "np.savetxt(path + 'Input_Data/Instance_4/TransDCMZ_4.txt', Transportation_j_k.reshape((Products*Distribution, Market)))\n",
    "np.savetxt(path + 'Input_Data/Instance_4/CapacitiesMP_4.txt', Capacities_i)\n",
    "np.savetxt(path + 'Input_Data/Instance_4/CapacitiesDC_4.txt', Capacities_j)\n",
    "np.savetxt(path + 'Input_Data/Instance_4/CapacitiesOutsource_4.txt', Capacities_l)\n",
    "np.savetxt(path + 'Input_Data/Instance_4/SupplierCost_4.txt', Supplier_cost.reshape((levels*Products, Outsourced)))\n",
    "np.savetxt(path + 'Input_Data/Instance_4/TransSupplierDC_4.txt', T_O_DC.reshape((Products*Outsourced, Distribution)))\n",
    "np.savetxt(path + 'Input_Data/Instance_4/TransSupplierMZ_4.txt', T_O_MZ.reshape((Products*Outsourced, Market)))\n",
    "np.savetxt(path + 'Input_Data/Instance_4/Volume_4.txt', volume)\n",
    "np.savetxt(path + 'Input_Data/Instance_4/LostSales_4.txt', lost_sales)\n",
    "np.savetxt(path + 'Input_Data/Instance_4/Demand_4.txt', demand.reshape((num_Scenarios*Products, Market)))"
   ]
  },
  {
   "cell_type": "code",
   "execution_count": 17,
   "metadata": {},
   "outputs": [],
   "source": [
    "with open (path + \"Input_Data/market_locations.txt\") as f:\n",
    "    market_locations = [tuple(map(float, i.split('\\t'))) for i in f]"
   ]
  },
  {
   "cell_type": "code",
   "execution_count": 18,
   "metadata": {},
   "outputs": [],
   "source": [
    "with open (path + \"Input_Data/DC_locations.txt\") as f:\n",
    "    DC_locations = [tuple(map(float, i.split('\\t'))) for i in f]"
   ]
  },
  {
   "cell_type": "code",
   "execution_count": 19,
   "metadata": {},
   "outputs": [],
   "source": [
    "with open(path + \"Input_Data/outsource_locations.txt\") as f:\n",
    "    outsource_locations = [tuple(map(float, i.split('\\t'))) for i in f]"
   ]
  },
  {
   "cell_type": "code",
   "execution_count": 20,
   "metadata": {},
   "outputs": [],
   "source": [
    "distances = []\n",
    "for loc1 in range(len(DC_locations)):\n",
    "    temp_dist = []\n",
    "    for loc2 in range(len(market_locations)):\n",
    "        temp_dist.append(float(str(geopy.distance.geodesic(DC_locations[loc1], market_locations[loc2]))[:-3]))\n",
    "    distances.append(temp_dist)"
   ]
  },
  {
   "cell_type": "code",
   "execution_count": 25,
   "metadata": {},
   "outputs": [],
   "source": [
    "distances_o_j = []\n",
    "for loc1 in range(len(outsource_locations)):\n",
    "    temp_dist = []\n",
    "    for loc2 in range(len(DC_locations)):\n",
    "        temp_dist.append(float(str(geopy.distance.geodesic(outsource_locations[loc1], DC_locations[loc2]))[:-3]))\n",
    "    distances_o_j.append(temp_dist)\n"
   ]
  },
  {
   "cell_type": "code",
   "execution_count": 23,
   "metadata": {},
   "outputs": [],
   "source": [
    "distances_o_k = []\n",
    "for loc1 in range(len(outsource_locations)):\n",
    "    temp_dist = []\n",
    "    for loc2 in range(len(market_locations)):\n",
    "        temp_dist.append(float(str(geopy.distance.geodesic(outsource_locations[loc1], market_locations[loc2]))[:-3]))\n",
    "    distances_o_k.append(temp_dist)"
   ]
  },
  {
   "cell_type": "code",
   "execution_count": 34,
   "id": "cognitive-mining",
   "metadata": {},
   "outputs": [],
   "source": [
    "## 6 MPs, 4 DCs, 29 MZs\n",
    "Products = 3\n",
    "Outsourced = 3\n",
    "num_Scenarios = 200\n",
    "Manufacturing_plants = 6\n",
    "Distribution = 3\n",
    "Market = 29\n",
    "f_i = [None]*Manufacturing_plants\n",
    "f_j = [None]*Distribution\n",
    "\n",
    "np.random.seed(0)\n",
    "Transportation_i_j = np.random.uniform(0, 0.1, (Products, Manufacturing_plants, Distribution))\n",
    "Transportation_j_k = np.zeros((Products, Distribution, Market))\n",
    "for m in range(Products):\n",
    "    for j in range(Distribution):\n",
    "        for k in range(Market):\n",
    "            Transportation_j_k[m][j][k] = distances[j][k]/1000\n",
    "\n",
    "T_O_DC = np.zeros((Products, Outsourced, Distribution))\n",
    "for m in range(Products):\n",
    "    for o in range(Outsourced):\n",
    "        for j in range(Distribution):\n",
    "            T_O_DC[m][o][j] = distances_o_j[o][j]/1000\n",
    "\n",
    "T_O_MZ = np.zeros((Products, Outsourced, Market))\n",
    "for m in range(Products):\n",
    "    for o in range(Outsourced):\n",
    "        for k in range(Market):\n",
    "            T_O_MZ[m][o][k] = distances_o_k[o][k]/1000\n",
    "\n",
    "levels = 2\n",
    "Supplier_cost = np.zeros((levels, Products, Outsourced))\n",
    "Supplier_cost[0][0][0] = 10\n",
    "Supplier_cost[0][1][1] = 5\n",
    "Supplier_cost[0][2][2] = 7\n",
    "\n",
    "Supplier_cost[1][0][0] = 11\n",
    "Supplier_cost[1][1][1] = 6\n",
    "Supplier_cost[1][2][2] = 8\n"
   ]
  },
  {
   "cell_type": "code",
   "execution_count": 35,
   "id": "distinguished-climb",
   "metadata": {},
   "outputs": [
    {
     "output_type": "execute_result",
     "data": {
      "text/plain": [
       "array([[[10.,  0.,  0.],\n",
       "        [ 0.,  5.,  0.],\n",
       "        [ 0.,  0.,  7.]],\n",
       "\n",
       "       [[11.,  0.,  0.],\n",
       "        [ 0.,  6.,  0.],\n",
       "        [ 0.,  0.,  8.]]])"
      ]
     },
     "metadata": {},
     "execution_count": 35
    }
   ],
   "source": [
    "Supplier_cost"
   ]
  },
  {
   "cell_type": "code",
   "execution_count": 40,
   "metadata": {},
   "outputs": [
    {
     "output_type": "execute_result",
     "data": {
      "text/plain": [
       "0.3402154303084316"
      ]
     },
     "metadata": {},
     "execution_count": 40
    }
   ],
   "source": [
    "float_dist[0][20]/100"
   ]
  },
  {
   "cell_type": "code",
   "execution_count": 33,
   "metadata": {},
   "outputs": [
    {
     "output_type": "execute_result",
     "data": {
      "text/plain": [
       "29"
      ]
     },
     "metadata": {},
     "execution_count": 33
    }
   ],
   "source": [
    "len(market_locations)"
   ]
  },
  {
   "cell_type": "code",
   "execution_count": null,
   "metadata": {},
   "outputs": [],
   "source": []
  }
 ],
 "metadata": {
  "kernelspec": {
   "name": "python3",
   "display_name": "Python 3.7.4 64-bit ('env_gurobi': virtualenv)"
  },
  "language_info": {
   "codemirror_mode": {
    "name": "ipython",
    "version": 3
   },
   "file_extension": ".py",
   "mimetype": "text/x-python",
   "name": "python",
   "nbconvert_exporter": "python",
   "pygments_lexer": "ipython3",
   "version": "3.7.4"
  },
  "metadata": {
   "interpreter": {
    "hash": "ab66d84091635e28aaa655d19dc257d938f7e6a1e4d5fb0a631906b26faaf625"
   }
  },
  "interpreter": {
   "hash": "ab66d84091635e28aaa655d19dc257d938f7e6a1e4d5fb0a631906b26faaf625"
  }
 },
 "nbformat": 4,
 "nbformat_minor": 5
}