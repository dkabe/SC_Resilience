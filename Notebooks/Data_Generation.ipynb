{
 "cells": [
  {
   "cell_type": "code",
   "execution_count": 1,
   "id": "historical-penny",
   "metadata": {},
   "outputs": [],
   "source": [
    "import math\n",
    "import numpy as np\n",
    "import random\n",
    "from random import randint\n",
    "from gurobipy import *\n",
    "#import pandas as pd\n",
    "from random import seed\n",
    "import matplotlib.pyplot as plt\n",
    "import geopy.distance"
   ]
  },
  {
   "cell_type": "code",
   "execution_count": 2,
   "id": "downtown-mambo",
   "metadata": {},
   "outputs": [],
   "source": [
    "#path = r\"C:/Users/Devika Kabe/Documents/Model_brainstorming/\"\n",
    "path = \"/home/dkabe/Model_brainstorming/\""
   ]
  },
  {
   "cell_type": "code",
   "execution_count": 96,
   "id": "excess-realtor",
   "metadata": {},
   "outputs": [],
   "source": [
    "f = open(path + 'Input_Data/product_distributions.txt', 'r')\n",
    "text = f.read()\n",
    "f.close()\n",
    "distributions = text.split('\\n')"
   ]
  },
  {
   "cell_type": "code",
   "execution_count": 97,
   "id": "unauthorized-panama",
   "metadata": {},
   "outputs": [],
   "source": [
    "for i in distributions:\n",
    "    exec(i.lstrip().rstrip())"
   ]
  },
  {
   "cell_type": "code",
   "execution_count": 98,
   "id": "european-courtesy",
   "metadata": {},
   "outputs": [],
   "source": [
    "distribution_mat = np.array([[p1_mean, p1_sd],\n",
    "                             [p2_mean, p2_sd],\n",
    "                             [p3_mean, p3_sd],\n",
    "                             [p4_mean, p4_sd]])"
   ]
  },
  {
   "cell_type": "code",
   "execution_count": 71,
   "id": "chronic-lounge",
   "metadata": {},
   "outputs": [
    {
     "output_type": "execute_result",
     "data": {
      "text/plain": [
       "array([[2487.        ,   70.71067812],\n",
       "       [2329.        ,   42.42640687],\n",
       "       [2539.        ,   14.14213562],\n",
       "       [2302.        ,   56.56854249]])"
      ]
     },
     "metadata": {},
     "execution_count": 71
    }
   ],
   "source": [
    "distribution_mat"
   ]
  },
  {
   "cell_type": "markdown",
   "id": "split-outdoors",
   "metadata": {},
   "source": [
    "## 2 Products, 2 Outsourced Suppliers"
   ]
  },
  {
   "cell_type": "code",
   "execution_count": 72,
   "id": "signed-mailing",
   "metadata": {},
   "outputs": [],
   "source": [
    "Products = 2\n",
    "Outsourced = 2"
   ]
  },
  {
   "cell_type": "code",
   "execution_count": null,
   "metadata": {},
   "outputs": [],
   "source": []
  },
  {
   "cell_type": "code",
   "execution_count": 73,
   "id": "medium-yacht",
   "metadata": {},
   "outputs": [],
   "source": [
    "## 2 MPs, 3 DCs, 4 MZs\n",
    "## 2 Products, 2 Outsourced Facilities \n",
    "\n",
    "Manufacturing_plants = 2\n",
    "Distribution = 3\n",
    "num_Scenarios = (2**Manufacturing_plants)*(2**Distribution) \n",
    "Market = 1\n",
    "\n",
    "# Cost of opening\n",
    "f_i = [7500, 12500]\n",
    "f_j = [7500, 12500, 17500]\n",
    "\n",
    "# Unit cost of manufacturing product\n",
    "np.random.seed(0)\n",
    "Manufacturing_costs = np.random.uniform(0,1, (Manufacturing_plants,Products))\n",
    "\n",
    "# Unit cost of transporting m from plant to DC\n",
    "np.random.seed(0)\n",
    "Transportation_i_j = np.random.uniform(0,1, (Products, Manufacturing_plants, Distribution))\n",
    "\n",
    "# Unit cost of transporting m from DC to Market Zone\n",
    "np.random.seed(0)\n",
    "Transportation_j_k = np.random.uniform(0,1, (Products, Distribution, Market))\n",
    "\n",
    "# Plant Capacities: Bigger capacities for the more expensive ones\n",
    "np.random.seed(0)\n",
    "Capacities_i = np.zeros(Manufacturing_plants) # in volume (metres cubed)\n",
    "Capacities_i[0] = 5000\n",
    "Capacities_i[1] = 10000\n",
    "\n",
    "Capacities_j = np.zeros(Distribution) # in volume (metres cubed)\n",
    "Capacities_j[0] = 5000\n",
    "Capacities_j[1] = 10000\n",
    "Capacities_j[2] = 15000\n",
    "\n",
    "Capacities_l = np.random.randint(400, 500, (Products,Outsourced)) # in terms of products \n",
    "\n",
    "# Cost of purchasing product m from supplier l \n",
    "np.random.seed(0)\n",
    "levels = 2\n",
    "Supplier_cost = np.zeros((levels, Products, Outsourced))\n",
    "Supplier_cost[0] = np.random.uniform(17, 20, (Products, Outsourced))\n",
    "Supplier_cost[1] = np.random.uniform(20, 23, (Products, Outsourced))\n",
    "\n",
    "# Cost of transporting product m from outsourced facility l to j\n",
    "np.random.seed(0)\n",
    "T_O_DC = np.random.uniform(1, 2, (Products, Outsourced, Distribution))\n",
    "\n",
    "# Cost of shipping product m from outsourced facility l to k\n",
    "np.random.seed(0)\n",
    "T_O_MZ = np.random.uniform(2, 3,(Products, Outsourced, Market))\n",
    "\n",
    "# Product volume \n",
    "np.random.seed(0)\n",
    "volume = np.random.uniform(1, 2,(Products))\n",
    "\n",
    "# unit cost of lost sales \n",
    "np.random.seed(1)\n",
    "lost_sales = np.random.uniform(20, 25, (Market,Products))\n",
    "\n",
    "# Demand\n",
    "demand = np.zeros((num_Scenarios, Products, Market))\n",
    "np.random.seed(0)\n",
    "for s in range(num_Scenarios):\n",
    "    for k in range(Market):\n",
    "        for m in range(Products):\n",
    "            demand[s][m][k] = np.round(np.random.normal(distribution_mat[m][0], distribution_mat[m][1]))"
   ]
  },
  {
   "cell_type": "code",
   "execution_count": 77,
   "metadata": {},
   "outputs": [
    {
     "output_type": "execute_result",
     "data": {
      "text/plain": [
       "array([1.5488135 , 1.71518937])"
      ]
     },
     "metadata": {},
     "execution_count": 77
    }
   ],
   "source": [
    "volume"
   ]
  },
  {
   "cell_type": "code",
   "execution_count": 78,
   "id": "steady-convenience",
   "metadata": {},
   "outputs": [
    {
     "output_type": "execute_result",
     "data": {
      "text/plain": [
       "array([[22.08511002, 23.60162247]])"
      ]
     },
     "metadata": {},
     "execution_count": 78
    }
   ],
   "source": [
    "lost_sales"
   ]
  },
  {
   "cell_type": "code",
   "execution_count": 75,
   "id": "cordless-victorian",
   "metadata": {},
   "outputs": [
    {
     "output_type": "execute_result",
     "data": {
      "text/plain": [
       "array([[[18.64644051, 19.1455681 ],\n",
       "        [18.80829013, 18.63464955]],\n",
       "\n",
       "       [[21.2709644 , 21.93768234],\n",
       "        [21.31276163, 22.675319  ]]])"
      ]
     },
     "metadata": {},
     "execution_count": 75
    }
   ],
   "source": [
    "Supplier_cost"
   ]
  },
  {
   "cell_type": "code",
   "execution_count": 76,
   "id": "deluxe-captain",
   "metadata": {},
   "outputs": [
    {
     "output_type": "execute_result",
     "data": {
      "text/plain": [
       "4958.0"
      ]
     },
     "metadata": {},
     "execution_count": 76
    }
   ],
   "source": [
    "np.sum(demand[0])"
   ]
  },
  {
   "cell_type": "code",
   "execution_count": 12,
   "id": "previous-beginning",
   "metadata": {},
   "outputs": [],
   "source": [
    "# save files \n",
    "np.savetxt(path + 'Input_Data/Instance_1/OpenMP_1.txt', f_i)\n",
    "np.savetxt(path + 'Input_Data/Instance_1/OpenDC_1.txt', f_j)\n",
    "np.savetxt(path + 'Input_Data/Instance_1/Manufacturing_1.txt', Manufacturing_costs)\n",
    "np.savetxt(path + 'Input_Data/Instance_1/TransMPDC_1.txt', Transportation_i_j.reshape((Products*Manufacturing_plants, Distribution)))\n",
    "np.savetxt(path + 'Input_Data/Instance_1/TransDCMZ_1.txt', Transportation_j_k.reshape((Products*Distribution, Market)))\n",
    "np.savetxt(path + 'Input_Data/Instance_1/CapacitiesMP_1.txt', Capacities_i)\n",
    "np.savetxt(path + 'Input_Data/Instance_1/CapacitiesDC_1.txt', Capacities_j)\n",
    "np.savetxt(path + 'Input_Data/Instance_1/CapacitiesOutsource_1.txt', Capacities_l)\n",
    "np.savetxt(path + 'Input_Data/Instance_1/SupplierCost_1.txt', Supplier_cost.reshape((levels*Products, Outsourced)))\n",
    "np.savetxt(path + 'Input_Data/Instance_1/TransSupplierDC_1.txt', T_O_DC.reshape((Products*Outsourced, Distribution)))\n",
    "np.savetxt(path + 'Input_Data/Instance_1/TransSupplierMZ_1.txt', T_O_MZ.reshape((Products*Outsourced, Market)))\n",
    "np.savetxt(path + 'Input_Data/Instance_1/Volume_1.txt', volume)\n",
    "np.savetxt(path + 'Input_Data/Instance_1/LostSales_1.txt', lost_sales)\n",
    "np.savetxt(path + 'Input_Data/Instance_1/Demand_1.txt', demand.reshape((num_Scenarios*Products, Market)))"
   ]
  },
  {
   "cell_type": "code",
   "execution_count": 13,
   "id": "social-lawyer",
   "metadata": {},
   "outputs": [],
   "source": [
    "## 3 MPs, 4 DCs, 2 MZs\n",
    "\n",
    "num_Scenarios = 128\n",
    "\n",
    "Manufacturing_plants = 3\n",
    "Distribution = 4\n",
    "Market = 2\n",
    "Outsourced = 2\n",
    "\n",
    "# Cost of opening\n",
    "f_i = [7500, 12500, 17500]\n",
    "f_j = [7500, 12500, 17500, 7500]\n",
    "\n",
    "# Unit cost of manufacturing product\n",
    "np.random.seed(0)\n",
    "Manufacturing_costs = np.random.uniform(0,1, (Manufacturing_plants,Products))\n",
    "\n",
    "# Unit cost of transporting m from plant to DC\n",
    "np.random.seed(0)\n",
    "Transportation_i_j = np.random.uniform(0,1, (Products, Manufacturing_plants, Distribution))\n",
    "\n",
    "# Unit cost of transporting m from DC to Market Zone\n",
    "np.random.seed(0)\n",
    "Transportation_j_k = np.random.uniform(0,1, (Products, Distribution, Market))\n",
    "\n",
    "# Plant Capacities: Bigger capacities for the more expensive ones\n",
    "np.random.seed(0)\n",
    "Capacities_i = np.zeros(Manufacturing_plants) # in volume (metres cubed)\n",
    "Capacities_i[0] = 5000\n",
    "Capacities_i[1] = 10000\n",
    "Capacities_i[2] = 15000\n",
    "Capacities_j = np.zeros(Distribution) # in volume (metres cubed)\n",
    "Capacities_j[0] = 5000\n",
    "Capacities_j[1] = 10000\n",
    "Capacities_j[2] = 15000\n",
    "Capacities_j[3] = 5000\n",
    "Capacities_l = np.random.randint(800, 1000, (Products,Outsourced)) # in terms of products \n",
    "\n",
    "# Cost of purchasing product m from supplier l \n",
    "np.random.seed(0)\n",
    "levels = 2\n",
    "Supplier_cost = np.zeros((levels, Products, Outsourced))\n",
    "Supplier_cost[0] = np.random.uniform(17, 20, (Products, Outsourced))\n",
    "Supplier_cost[1] = np.random.uniform(20, 23, (Products, Outsourced))\n",
    "\n",
    "# Cost of transporting product m from outsourced facility l to j\n",
    "np.random.seed(0)\n",
    "T_O_DC = np.random.uniform(1, 2, (Products, Outsourced, Distribution))\n",
    "\n",
    "# Cost of shipping product m from outsourced facility l to k\n",
    "np.random.seed(0)\n",
    "T_O_MZ = np.random.uniform(2, 3,(Products, Outsourced, Market))\n",
    "\n",
    "# Product volume \n",
    "np.random.seed(0)\n",
    "volume = np.random.uniform(1, 2,(Products))\n",
    "\n",
    "# unit cost of lost sales \n",
    "np.random.seed(1)\n",
    "lost_sales = np.random.uniform(20, 25, (Market,Products))\n",
    "\n",
    "# Demand\n",
    "demand = np.zeros((num_Scenarios, Products, Market))\n",
    "np.random.seed(0)\n",
    "for s in range(num_Scenarios):\n",
    "    for k in range(Market):\n",
    "        for m in range(Products):\n",
    "            demand[s][m][k] = np.round(np.random.normal(distribution_mat[m][0], distribution_mat[m][1]))"
   ]
  },
  {
   "cell_type": "code",
   "execution_count": 14,
   "id": "introductory-television",
   "metadata": {},
   "outputs": [
    {
     "data": {
      "text/plain": [
       "9784.0"
      ]
     },
     "execution_count": 14,
     "metadata": {},
     "output_type": "execute_result"
    }
   ],
   "source": [
    "np.sum(demand[1])"
   ]
  },
  {
   "cell_type": "code",
   "execution_count": 15,
   "id": "hidden-recipe",
   "metadata": {},
   "outputs": [],
   "source": [
    "np.savetxt(path + 'Input_Data/Instance_2/OpenMP_2.txt', f_i)\n",
    "np.savetxt(path + 'Input_Data/Instance_2/OpenDC_2.txt', f_j)\n",
    "np.savetxt(path + 'Input_Data/Instance_2/Manufacturing_2.txt', Manufacturing_costs)\n",
    "np.savetxt(path + 'Input_Data/Instance_2/TransMPDC_2.txt', Transportation_i_j.reshape((Products*Manufacturing_plants, Distribution)))\n",
    "np.savetxt(path + 'Input_Data/Instance_2/TransDCMZ_2.txt', Transportation_j_k.reshape((Products*Distribution, Market)))\n",
    "np.savetxt(path + 'Input_Data/Instance_2/CapacitiesMP_2.txt', Capacities_i)\n",
    "np.savetxt(path + 'Input_Data/Instance_2/CapacitiesDC_2.txt', Capacities_j)\n",
    "np.savetxt(path + 'Input_Data/Instance_2/CapacitiesOutsource_2.txt', Capacities_l)\n",
    "np.savetxt(path +'Input_Data/Instance_2/SupplierCost_2.txt', Supplier_cost.reshape((levels*Products, Outsourced)))\n",
    "np.savetxt(path + 'Input_Data/Instance_2/TransSupplierDC_2.txt', T_O_DC.reshape((Products*Outsourced, Distribution)))\n",
    "np.savetxt(path + 'Input_Data/Instance_2/TransSupplierMZ_2.txt', T_O_MZ.reshape((Products*Outsourced, Market)))\n",
    "np.savetxt(path + 'Input_Data/Instance_2/Volume_2.txt', volume)\n",
    "np.savetxt(path + 'Input_Data/Instance_2/LostSales_2.txt', lost_sales)\n",
    "np.savetxt(path + 'Input_Data/Instance_2/Demand_2.txt', demand.reshape((num_Scenarios*Products, Market)))"
   ]
  },
  {
   "cell_type": "code",
   "execution_count": 18,
   "id": "thermal-oxford",
   "metadata": {},
   "outputs": [],
   "source": [
    "## 4 MPs, 6 DCs, 3 MZs\n",
    "\n",
    "num_Scenarios = 200\n",
    "Manufacturing_plants = 4\n",
    "Distribution = 6\n",
    "Market = 3\n",
    "Products = 2\n",
    "Outsourced = 2\n",
    "# Cost of opening\n",
    "f_i = [7500, 12500, 17500, 7500]\n",
    "f_j = [7500, 12500, 17500, 7500, 12500, 17500]\n",
    "\n",
    "# Unit cost of manufacturing product\n",
    "np.random.seed(0)\n",
    "Manufacturing_costs = np.random.uniform(0,1, (Manufacturing_plants,Products))\n",
    "\n",
    "# Unit cost of transporting m from plant to DC\n",
    "np.random.seed(0)\n",
    "Transportation_i_j = np.random.uniform(0,1, (Products, Manufacturing_plants, Distribution))\n",
    "\n",
    "# Unit cost of transporting m from DC to Market Zone\n",
    "np.random.seed(0)\n",
    "Transportation_j_k = np.random.uniform(0,1, (Products, Distribution, Market))\n",
    "\n",
    "# Plant Capacities: Bigger capacities for the more expensive ones\n",
    "np.random.seed(0)\n",
    "Capacities_i = np.zeros(Manufacturing_plants) # in volume (metres cubed)\n",
    "Capacities_i[0] = 5000\n",
    "Capacities_i[1] = 10000\n",
    "Capacities_i[2] = 15000\n",
    "Capacities_i[3] = 5000\n",
    "Capacities_j = np.zeros(Distribution) # in volume (metres cubed)\n",
    "Capacities_j[0] = 5000\n",
    "Capacities_j[1] = 10000\n",
    "Capacities_j[2] = 15000\n",
    "Capacities_j[3] = 5000\n",
    "Capacities_j[4] = 10000\n",
    "Capacities_j[5] = 15000\n",
    "Capacities_l = np.random.randint(1200, 1500, (Products,Outsourced)) # in terms of products \n",
    "\n",
    "# Cost of purchasing product m from supplier l \n",
    "np.random.seed(0)\n",
    "levels = 2\n",
    "Supplier_cost = np.zeros((levels, Products, Outsourced))\n",
    "Supplier_cost[0] = np.random.uniform(17, 20, (Products, Outsourced))\n",
    "Supplier_cost[1] = np.random.uniform(20, 23, (Products, Outsourced))\n",
    "\n",
    "# Cost of transporting product m from outsourced facility l to j\n",
    "np.random.seed(0)\n",
    "T_O_DC = np.random.uniform(1, 2, (Products, Outsourced, Distribution))\n",
    "\n",
    "# Cost of shipping product m from outsourced facility l to k\n",
    "np.random.seed(0)\n",
    "T_O_MZ = np.random.uniform(2, 3,(Products, Outsourced, Market))\n",
    "\n",
    "# Product volume \n",
    "np.random.seed(0)\n",
    "volume = np.random.uniform(1, 2,(Products))\n",
    "\n",
    "# unit cost of lost sales \n",
    "np.random.seed(1)\n",
    "lost_sales = np.random.uniform(20, 25, (Market,Products))\n",
    "\n",
    "# Demand\n",
    "demand = np.zeros((num_Scenarios, Products, Market))\n",
    "np.random.seed(0)\n",
    "for s in range(num_Scenarios):\n",
    "    for k in range(Market):\n",
    "        for m in range(Products):\n",
    "            demand[s][m][k] = np.round(np.random.normal(distribution_mat[m][0], distribution_mat[m][1]))"
   ]
  },
  {
   "cell_type": "code",
   "execution_count": 19,
   "id": "foster-archive",
   "metadata": {},
   "outputs": [
    {
     "data": {
      "text/plain": [
       "array([[22.08511002, 23.60162247],\n",
       "       [20.00057187, 21.51166286],\n",
       "       [20.73377945, 20.46169297]])"
      ]
     },
     "execution_count": 19,
     "metadata": {},
     "output_type": "execute_result"
    }
   ],
   "source": [
    "lost_sales"
   ]
  },
  {
   "cell_type": "code",
   "execution_count": 20,
   "id": "interstate-differential",
   "metadata": {},
   "outputs": [
    {
     "data": {
      "text/plain": [
       "array([[[18.64644051, 19.1455681 ],\n",
       "        [18.80829013, 18.63464955]],\n",
       "\n",
       "       [[21.2709644 , 21.93768234],\n",
       "        [21.31276163, 22.675319  ]]])"
      ]
     },
     "execution_count": 20,
     "metadata": {},
     "output_type": "execute_result"
    }
   ],
   "source": [
    "Supplier_cost"
   ]
  },
  {
   "cell_type": "code",
   "execution_count": 21,
   "id": "thrown-guinea",
   "metadata": {},
   "outputs": [],
   "source": [
    "np.savetxt(path + 'Input_Data/Instance_3/OpenMP_3.txt', f_i)\n",
    "np.savetxt(path + 'Input_Data/Instance_3/OpenDC_3.txt', f_j)\n",
    "np.savetxt(path + 'Input_Data/Instance_3/Manufacturing_3.txt', Manufacturing_costs)\n",
    "np.savetxt(path + 'Input_Data/Instance_3/TransMPDC_3.txt', Transportation_i_j.reshape((Products*Manufacturing_plants, Distribution)))\n",
    "np.savetxt(path + 'Input_Data/Instance_3/TransDCMZ_3.txt', Transportation_j_k.reshape((Products*Distribution, Market)))\n",
    "np.savetxt(path + 'Input_Data/Instance_3/CapacitiesMP_3.txt', Capacities_i)\n",
    "np.savetxt(path + 'Input_Data/Instance_3/CapacitiesDC_3.txt', Capacities_j)\n",
    "np.savetxt(path + 'Input_Data/Instance_3/CapacitiesOutsource_3.txt', Capacities_l)\n",
    "np.savetxt(path + 'Input_Data/Instance_3/SupplierCost_3.txt', Supplier_cost.reshape((levels*Products, Outsourced)))\n",
    "np.savetxt(path + 'Input_Data/Instance_3/TransSupplierDC_3.txt', T_O_DC.reshape((Products*Outsourced, Distribution)))\n",
    "np.savetxt(path + 'Input_Data/Instance_3/TransSupplierMZ_3.txt', T_O_MZ.reshape((Products*Outsourced, Market)))\n",
    "np.savetxt(path + 'Input_Data/Instance_3/Volume_3.txt', volume)\n",
    "np.savetxt(path + 'Input_Data/Instance_3/LostSales_3.txt', lost_sales)\n",
    "np.savetxt(path + 'Input_Data/Instance_3/Demand_3.txt', demand.reshape((num_Scenarios*Products, Market)))"
   ]
  },
  {
   "cell_type": "code",
   "execution_count": 22,
   "id": "comfortable-liverpool",
   "metadata": {},
   "outputs": [],
   "source": [
    "## 6 MPs, 8 DCs, 5 MZs\n",
    "\n",
    "num_Scenarios = 200\n",
    "Manufacturing_plants = 6\n",
    "Distribution = 8\n",
    "Market = 5\n",
    "\n",
    "# Cost of opening\n",
    "f_i = [7500, 12500, 17500, 7500, 12500, 17500]\n",
    "f_j = [7500, 12500, 17500, 7500, 12500, 17500, 7500, 12500]\n",
    "# Unit cost of manufacturing product\n",
    "np.random.seed(0)\n",
    "Manufacturing_costs = np.random.uniform(0,1, (Manufacturing_plants,Products))\n",
    "\n",
    "# Unit cost of transporting m from plant to DC\n",
    "np.random.seed(0)\n",
    "Transportation_i_j = np.random.uniform(0,1, (Products, Manufacturing_plants, Distribution))\n",
    "\n",
    "# Unit cost of transporting m from DC to Market Zone\n",
    "np.random.seed(0)\n",
    "Transportation_j_k = np.random.uniform(0,1, (Products, Distribution, Market))\n",
    "\n",
    "# Plant Capacities: Bigger capacities for the more expensive ones\n",
    "np.random.seed(0)\n",
    "Capacities_i = np.zeros(Manufacturing_plants) # in volume (metres cubed)\n",
    "Capacities_i[0] = 5000\n",
    "Capacities_i[1] = 10000\n",
    "Capacities_i[2] = 15000\n",
    "Capacities_i[3] = 5000\n",
    "Capacities_i[4] = 10000\n",
    "Capacities_i[5] = 15000\n",
    "Capacities_j = np.zeros(Distribution) # in volume (metres cubed)\n",
    "Capacities_j[0] = 5000\n",
    "Capacities_j[1] = 10000\n",
    "Capacities_j[2] = 15000\n",
    "Capacities_j[3] = 5000\n",
    "Capacities_j[4] = 10000\n",
    "Capacities_j[5] = 15000\n",
    "Capacities_j[6] = 5000\n",
    "Capacities_j[7] = 10000\n",
    "Capacities_l = np.random.randint(2000, 2500, (Products,Outsourced)) # in terms of products \n",
    "\n",
    "# Cost of purchasing product m from supplier l \n",
    "np.random.seed(0)\n",
    "levels = 2\n",
    "Supplier_cost = np.zeros((levels, Products, Outsourced))\n",
    "Supplier_cost[0] = np.random.uniform(17, 20, (Products, Outsourced))\n",
    "Supplier_cost[1] = np.random.uniform(20, 23, (Products, Outsourced))\n",
    "\n",
    "# Cost of transporting product m from outsourced facility l to j\n",
    "np.random.seed(0)\n",
    "T_O_DC = np.random.uniform(1, 2, (Products, Outsourced, Distribution))\n",
    "\n",
    "# Cost of shipping product m from outsourced facility l to k\n",
    "np.random.seed(0)\n",
    "T_O_MZ = np.random.uniform(2, 3,(Products, Outsourced, Market))\n",
    "\n",
    "# Product volume \n",
    "np.random.seed(0)\n",
    "volume = np.random.uniform(1, 2,(Products))\n",
    "\n",
    "# unit cost of lost sales \n",
    "np.random.seed(1)\n",
    "lost_sales = np.random.uniform(20, 25, (Market,Products))\n",
    "\n",
    "# Demand\n",
    "demand = np.zeros((num_Scenarios, Products, Market))\n",
    "np.random.seed(0)\n",
    "for s in range(num_Scenarios):\n",
    "    for k in range(Market):\n",
    "        for m in range(Products):\n",
    "            demand[s][m][k] = np.round(np.random.normal(distribution_mat[m][0], distribution_mat[m][1]))"
   ]
  },
  {
   "cell_type": "code",
   "execution_count": 23,
   "id": "configured-stylus",
   "metadata": {},
   "outputs": [
    {
     "data": {
      "text/plain": [
       "24339.0"
      ]
     },
     "execution_count": 23,
     "metadata": {},
     "output_type": "execute_result"
    }
   ],
   "source": [
    "np.sum(demand[1])"
   ]
  },
  {
   "cell_type": "code",
   "execution_count": 24,
   "id": "extensive-constitutional",
   "metadata": {},
   "outputs": [
    {
     "data": {
      "text/plain": [
       "array([[[2612., 2556., 2619., 2554., 2480.],\n",
       "        [2346., 2424., 2288., 2323., 2346.]],\n",
       "\n",
       "       [[2497., 2541., 2518., 2593., 2509.],\n",
       "        [2391., 2334., 2343., 2320., 2293.]],\n",
       "\n",
       "       [[2306., 2548., 2647., 2490., 2595.],\n",
       "        [2357., 2298., 2267., 2321., 2391.]],\n",
       "\n",
       "       ...,\n",
       "\n",
       "       [[2577., 2488., 2463., 2542., 2430.],\n",
       "        [2299., 2343., 2328., 2347., 2282.]],\n",
       "\n",
       "       [[2431., 2476., 2445., 2517., 2398.],\n",
       "        [2329., 2294., 2265., 2327., 2330.]],\n",
       "\n",
       "       [[2582., 2580., 2501., 2586., 2406.],\n",
       "        [2298., 2315., 2333., 2336., 2273.]]])"
      ]
     },
     "execution_count": 24,
     "metadata": {},
     "output_type": "execute_result"
    }
   ],
   "source": [
    "demand"
   ]
  },
  {
   "cell_type": "code",
   "execution_count": 25,
   "id": "lesser-toyota",
   "metadata": {},
   "outputs": [],
   "source": [
    "np.savetxt(path + 'Input_Data/Instance_4/OpenMP_4.txt', f_i)\n",
    "np.savetxt(path + 'Input_Data/Instance_4/OpenDC_4.txt', f_j)\n",
    "np.savetxt(path + 'Input_Data/Instance_4/Manufacturing_4.txt', Manufacturing_costs)\n",
    "np.savetxt(path + 'Input_Data/Instance_4/TransMPDC_4.txt', Transportation_i_j.reshape((Products*Manufacturing_plants, Distribution)))\n",
    "np.savetxt(path + 'Input_Data/Instance_4/TransDCMZ_4.txt', Transportation_j_k.reshape((Products*Distribution, Market)))\n",
    "np.savetxt(path + 'Input_Data/Instance_4/CapacitiesMP_4.txt', Capacities_i)\n",
    "np.savetxt(path + 'Input_Data/Instance_4/CapacitiesDC_4.txt', Capacities_j)\n",
    "np.savetxt(path + 'Input_Data/Instance_4/CapacitiesOutsource_4.txt', Capacities_l)\n",
    "np.savetxt(path + 'Input_Data/Instance_4/SupplierCost_4.txt', Supplier_cost.reshape((levels*Products, Outsourced)))\n",
    "np.savetxt(path + 'Input_Data/Instance_4/TransSupplierDC_4.txt', T_O_DC.reshape((Products*Outsourced, Distribution)))\n",
    "np.savetxt(path + 'Input_Data/Instance_4/TransSupplierMZ_4.txt', T_O_MZ.reshape((Products*Outsourced, Market)))\n",
    "np.savetxt(path + 'Input_Data/Instance_4/Volume_4.txt', volume)\n",
    "np.savetxt(path + 'Input_Data/Instance_4/LostSales_4.txt', lost_sales)\n",
    "np.savetxt(path + 'Input_Data/Instance_4/Demand_4.txt', demand.reshape((num_Scenarios*Products, Market)))"
   ]
  },
  {
   "source": [
    "## Mimic real-life scenario"
   ],
   "cell_type": "markdown",
   "metadata": {}
  },
  {
   "cell_type": "code",
   "execution_count": 3,
   "metadata": {},
   "outputs": [],
   "source": [
    "# open location data"
   ]
  },
  {
   "cell_type": "code",
   "execution_count": 4,
   "metadata": {},
   "outputs": [],
   "source": [
    "with open (path + \"Input_Data/MP_locations.txt\") as f:\n",
    "    MP_locations = [tuple(map(float, i.split('\\t'))) for i in f]"
   ]
  },
  {
   "cell_type": "code",
   "execution_count": 5,
   "metadata": {},
   "outputs": [],
   "source": [
    "with open (path + \"Input_Data/DC_locations.txt\") as f:\n",
    "    DC_locations = [tuple(map(float, i.split('\\t'))) for i in f]"
   ]
  },
  {
   "cell_type": "code",
   "execution_count": 6,
   "metadata": {},
   "outputs": [],
   "source": [
    "with open (path + \"Input_Data/market_locations.txt\") as f:\n",
    "    market_locations = [tuple(map(float, i.split('\\t'))) for i in f]"
   ]
  },
  {
   "cell_type": "code",
   "execution_count": 7,
   "metadata": {},
   "outputs": [],
   "source": [
    "with open(path + \"Input_Data/outsource_locations.txt\") as f:\n",
    "    outsource_locations = [tuple(map(float, i.split('\\t'))) for i in f]"
   ]
  },
  {
   "cell_type": "code",
   "execution_count": 8,
   "metadata": {},
   "outputs": [],
   "source": [
    "# compute geodesic distances "
   ]
  },
  {
   "cell_type": "code",
   "execution_count": 9,
   "metadata": {},
   "outputs": [],
   "source": [
    "# Plants to Distribution Centres\n",
    "distances_i_j = []\n",
    "for loc1 in range(len(MP_locations)):\n",
    "    temp_dist = []\n",
    "    for loc2 in range(len(DC_locations)):\n",
    "        temp_dist.append(float(str(geopy.distance.geodesic(MP_locations[loc1], DC_locations[loc2]))[:-3]))\n",
    "    distances_i_j.append(temp_dist)"
   ]
  },
  {
   "cell_type": "code",
   "execution_count": 10,
   "metadata": {},
   "outputs": [],
   "source": [
    "# Distribution Centres to Market Zones \n",
    "distances_j_k = []\n",
    "for loc1 in range(len(DC_locations)):\n",
    "    temp_dist = []\n",
    "    for loc2 in range(len(market_locations)):\n",
    "        temp_dist.append(float(str(geopy.distance.geodesic(DC_locations[loc1], market_locations[loc2]))[:-3]))\n",
    "    distances_j_k.append(temp_dist)"
   ]
  },
  {
   "cell_type": "code",
   "execution_count": 11,
   "metadata": {},
   "outputs": [],
   "source": [
    "# Outsourced Facilities to Distribution Centres\n",
    "distances_l_j = []\n",
    "for loc1 in range(len(outsource_locations)):\n",
    "    temp_dist = []\n",
    "    for loc2 in range(len(DC_locations)):\n",
    "        temp_dist.append(float(str(geopy.distance.geodesic(outsource_locations[loc1], DC_locations[loc2]))[:-3]))\n",
    "    distances_l_j.append(temp_dist)\n"
   ]
  },
  {
   "cell_type": "code",
   "execution_count": 12,
   "metadata": {},
   "outputs": [],
   "source": [
    "# Outsourced Facilities to Market Zones\n",
    "distances_l_k = []\n",
    "for loc1 in range(len(outsource_locations)):\n",
    "    temp_dist = []\n",
    "    for loc2 in range(len(market_locations)):\n",
    "        temp_dist.append(float(str(geopy.distance.geodesic(outsource_locations[loc1], market_locations[loc2]))[:-3]))\n",
    "    distances_l_k.append(temp_dist)"
   ]
  },
  {
   "cell_type": "code",
   "execution_count": 40,
   "metadata": {},
   "outputs": [],
   "source": [
    "# means and sds of products\n",
    "p1_mean = 205500\n",
    "p2_mean = 202500\n",
    "p3_mean = 199500\n",
    "\n",
    "p1_sd = 3300\n",
    "p2_sd = 8250\n",
    "p3_sd = 1650"
   ]
  },
  {
   "cell_type": "code",
   "execution_count": 41,
   "metadata": {},
   "outputs": [],
   "source": [
    "distribution_mat = [[p1_mean, p1_sd],\n",
    "                  [p2_mean, p2_sd],\n",
    "                  [p3_mean, p3_sd]]"
   ]
  },
  {
   "cell_type": "code",
   "execution_count": 42,
   "metadata": {},
   "outputs": [
    {
     "output_type": "execute_result",
     "data": {
      "text/plain": [
       "[[205500, 3300], [202500, 8250], [199500, 1650]]"
      ]
     },
     "metadata": {},
     "execution_count": 42
    }
   ],
   "source": [
    "distribution_mat"
   ]
  },
  {
   "cell_type": "code",
   "execution_count": null,
   "metadata": {},
   "outputs": [],
   "source": []
  },
  {
   "cell_type": "code",
   "execution_count": null,
   "metadata": {},
   "outputs": [],
   "source": []
  },
  {
   "cell_type": "code",
   "execution_count": 43,
   "metadata": {},
   "outputs": [],
   "source": [
    "\n",
    "## 6 MPs, 4 DCs, 29 MZs\n",
    "Products = 3\n",
    "Outsourced = 3\n",
    "num_Scenarios = 200\n",
    "Manufacturing_plants = 6\n",
    "Distribution = 4\n",
    "Market = 29\n",
    "\n",
    "# Cost of opening/establishing/operating \n",
    "f_i = [4140000, 4000000, 3312000]*2\n",
    "f_j = [4140000, 4000000, 3312000, 3600000]\n",
    "\n",
    "# In-house produce + transport \n",
    "\n",
    "np.random.seed(0)\n",
    "Manufacturing_costs = np.random.uniform(0.1,0.2, (Manufacturing_plants,Products))\n",
    "\n",
    "Transportation_i_j = np.zeros((Products, Manufacturing_plants, Distribution))\n",
    "for m in range(Products):\n",
    "    for i in range(Manufacturing_plants):\n",
    "        for j in range(Distribution):\n",
    "            Transportation_i_j[m][i][j] = distances_i_j[i][j]/1000\n",
    "\n",
    "Transportation_j_k = np.zeros((Products, Distribution, Market))\n",
    "for m in range(Products):\n",
    "    for j in range(Distribution):\n",
    "        for k in range(Market):\n",
    "            Transportation_j_k[m][j][k] = distances_j_k[j][k]/1000\n",
    "\n",
    "# Capacities of plants in squared feet\n",
    "\n",
    "Capacities_i = [207000, 200000, 165600]*2\n",
    "\n",
    "Capacities_j = [207000, 200000, 165600, 180000]\n",
    "\n",
    "# Quantity supplier can provide \n",
    "\n",
    "Capacities_l = np.zeros((Products, Outsourced))\n",
    "Capacities_l[0][0] = 3500000\n",
    "Capacities_l[1][1] = 3600000\n",
    "Capacities_l[2][2] = 3800000\n",
    "\n",
    "# Cost of purchasing from suppliers\n",
    "\n",
    "levels = 2\n",
    "Supplier_cost = np.zeros((levels, Products, Outsourced))\n",
    "Supplier_cost[0][0][0] = 10\n",
    "Supplier_cost[0][1][1] = 5\n",
    "Supplier_cost[0][2][2] = 7\n",
    "\n",
    "Supplier_cost[1][0][0] = 11\n",
    "Supplier_cost[1][1][1] = 6\n",
    "Supplier_cost[1][2][2] = 8\n",
    "\n",
    "# Cost of transporting from suppliers\n",
    "\n",
    "T_O_DC = np.zeros((Products, Outsourced, Distribution))\n",
    "for m in range(Products):\n",
    "    for l in range(Outsourced):\n",
    "        for j in range(Distribution):\n",
    "            T_O_DC[m][l][j] = distances_l_j[l][j]/1000\n",
    "\n",
    "T_O_MZ = np.zeros((Products, Outsourced, Market))\n",
    "for m in range(Products):\n",
    "    for l in range(Outsourced):\n",
    "        for k in range(Market):\n",
    "            T_O_MZ[m][l][k] = distances_l_k[l][k]/1000\n",
    "\n",
    "# volume of products\n",
    "\n",
    "volume = np.random.uniform(0.01, 0.03,(Products))\n",
    "\n",
    "# unit cost of lost sales \n",
    "\n",
    "lost_sales = [[10, 5, 7]]*Market\n",
    "\n",
    "\n",
    "# demand of each product/ scenario\n",
    "demand = np.zeros((num_Scenarios, Products, Market))\n",
    "np.random.seed(0)\n",
    "for s in range(num_Scenarios):\n",
    "    for k in range(Market):\n",
    "        for m in range(Products):\n",
    "            demand[s][m][k] = np.round(np.random.normal(distribution_mat[m][0], distribution_mat[m][1]))"
   ]
  },
  {
   "cell_type": "code",
   "execution_count": 44,
   "metadata": {},
   "outputs": [],
   "source": [
    "# save everything to instance folder  \n",
    "\n",
    "np.savetxt(path + 'Input_Data/Instance_5/OpenMP_5.txt', f_i)\n",
    "np.savetxt(path + 'Input_Data/Instance_5/OpenDC_5.txt', f_j)\n",
    "np.savetxt(path + 'Input_Data/Instance_5/Manufacturing_5.txt', Manufacturing_costs)\n",
    "np.savetxt(path + 'Input_Data/Instance_5/TransMPDC_5.txt', Transportation_i_j.reshape((Products*Manufacturing_plants, Distribution)))\n",
    "np.savetxt(path + 'Input_Data/Instance_5/TransDCMZ_5.txt', Transportation_j_k.reshape((Products*Distribution, Market)))\n",
    "np.savetxt(path + 'Input_Data/Instance_5/CapacitiesMP_5.txt', Capacities_i)\n",
    "np.savetxt(path + 'Input_Data/Instance_5/CapacitiesDC_5.txt', Capacities_j)\n",
    "np.savetxt(path + 'Input_Data/Instance_5/CapacitiesOutsource_5.txt', Capacities_l)\n",
    "np.savetxt(path + 'Input_Data/Instance_5/SupplierCost_5.txt', Supplier_cost.reshape((levels*Products, Outsourced)))\n",
    "np.savetxt(path + 'Input_Data/Instance_5/TransSupplierDC_5.txt', T_O_DC.reshape((Products*Outsourced, Distribution)))\n",
    "np.savetxt(path + 'Input_Data/Instance_5/TransSupplierMZ_5.txt', T_O_MZ.reshape((Products*Outsourced, Market)))\n",
    "np.savetxt(path + 'Input_Data/Instance_5/Volume_5.txt', volume)\n",
    "np.savetxt(path + 'Input_Data/Instance_5/LostSales_5.txt', lost_sales)\n",
    "np.savetxt(path + 'Input_Data/Instance_5/Demand_5.txt', demand.reshape((num_Scenarios*Products, Market)))\n",
    "\n"
   ]
  },
  {
   "cell_type": "code",
   "execution_count": 45,
   "metadata": {},
   "outputs": [
    {
     "output_type": "execute_result",
     "data": {
      "text/plain": [
       "17660084.0"
      ]
     },
     "metadata": {},
     "execution_count": 45
    }
   ],
   "source": [
    "np.sum(demand[0])"
   ]
  },
  {
   "cell_type": "code",
   "execution_count": 46,
   "metadata": {},
   "outputs": [
    {
     "output_type": "execute_result",
     "data": {
      "text/plain": [
       "array([0.02556314, 0.02740024, 0.02957237])"
      ]
     },
     "metadata": {},
     "execution_count": 46
    }
   ],
   "source": [
    "volume"
   ]
  },
  {
   "cell_type": "code",
   "execution_count": 26,
   "metadata": {},
   "outputs": [
    {
     "output_type": "execute_result",
     "data": {
      "text/plain": [
       "array([[0.08034463, 0.0549326 , 0.05963843],\n",
       "       [0.09088119, 0.09656424, 0.07155584],\n",
       "       [0.09650609, 0.05008616, 0.07748124],\n",
       "       [0.09190916, 0.07995261, 0.09272746],\n",
       "       [0.0592733 , 0.06309386, 0.05464492],\n",
       "       [0.05482598, 0.08524631, 0.0543984 ]])"
      ]
     },
     "metadata": {},
     "execution_count": 26
    }
   ],
   "source": [
    "np.random.uniform(0.05,0.1, (Manufacturing_plants,Products))"
   ]
  },
  {
   "cell_type": "code",
   "execution_count": 47,
   "metadata": {},
   "outputs": [
    {
     "output_type": "execute_result",
     "data": {
      "text/plain": [
       "0.07773035442015355"
      ]
     },
     "metadata": {},
     "execution_count": 47
    }
   ],
   "source": [
    "np.mean(Manufacturing_costs)"
   ]
  },
  {
   "cell_type": "code",
   "execution_count": 139,
   "metadata": {},
   "outputs": [
    {
     "output_type": "execute_result",
     "data": {
      "text/plain": [
       "array([[[0.03553561, 0.07934992, 0.12028081, 0.12509619],\n",
       "        [0.15655005, 0.11119291, 0.10760499, 0.10709129],\n",
       "        [0.06634046, 0.00464218, 0.04585832, 0.05057075],\n",
       "        [0.09420056, 0.03479149, 0.01651578, 0.02142234],\n",
       "        [0.10923418, 0.04907788, 0.00143577, 0.00633848],\n",
       "        [0.17959245, 0.11775809, 0.07341286, 0.06882865]],\n",
       "\n",
       "       [[0.03553561, 0.07934992, 0.12028081, 0.12509619],\n",
       "        [0.15655005, 0.11119291, 0.10760499, 0.10709129],\n",
       "        [0.06634046, 0.00464218, 0.04585832, 0.05057075],\n",
       "        [0.09420056, 0.03479149, 0.01651578, 0.02142234],\n",
       "        [0.10923418, 0.04907788, 0.00143577, 0.00633848],\n",
       "        [0.17959245, 0.11775809, 0.07341286, 0.06882865]],\n",
       "\n",
       "       [[0.03553561, 0.07934992, 0.12028081, 0.12509619],\n",
       "        [0.15655005, 0.11119291, 0.10760499, 0.10709129],\n",
       "        [0.06634046, 0.00464218, 0.04585832, 0.05057075],\n",
       "        [0.09420056, 0.03479149, 0.01651578, 0.02142234],\n",
       "        [0.10923418, 0.04907788, 0.00143577, 0.00633848],\n",
       "        [0.17959245, 0.11775809, 0.07341286, 0.06882865]]])"
      ]
     },
     "metadata": {},
     "execution_count": 139
    }
   ],
   "source": [
    "Transportation_i_j"
   ]
  },
  {
   "cell_type": "code",
   "execution_count": null,
   "metadata": {},
   "outputs": [],
   "source": []
  }
 ],
 "metadata": {
  "kernelspec": {
   "name": "python3",
   "display_name": "Python 3.7.4 64-bit ('env_gurobi': virtualenv)"
  },
  "language_info": {
   "codemirror_mode": {
    "name": "ipython",
    "version": 3
   },
   "file_extension": ".py",
   "mimetype": "text/x-python",
   "name": "python",
   "nbconvert_exporter": "python",
   "pygments_lexer": "ipython3",
   "version": "3.7.4"
  },
  "metadata": {
   "interpreter": {
    "hash": "ab66d84091635e28aaa655d19dc257d938f7e6a1e4d5fb0a631906b26faaf625"
   }
  },
  "interpreter": {
   "hash": "ab66d84091635e28aaa655d19dc257d938f7e6a1e4d5fb0a631906b26faaf625"
  }
 },
 "nbformat": 4,
 "nbformat_minor": 5
}