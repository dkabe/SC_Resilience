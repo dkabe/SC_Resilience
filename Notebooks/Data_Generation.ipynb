{
 "cells": [
  {
   "cell_type": "code",
   "execution_count": 8,
   "id": "historical-penny",
   "metadata": {},
   "outputs": [],
   "source": [
    "import math\n",
    "import numpy as np\n",
    "import random\n",
    "from random import randint\n",
    "from gurobipy import *\n",
    "#import pandas as pd\n",
    "from random import seed\n",
    "import matplotlib.pyplot as plt\n",
    "import geopy.distance"
   ]
  },
  {
   "cell_type": "code",
   "execution_count": 9,
   "id": "downtown-mambo",
   "metadata": {},
   "outputs": [],
   "source": [
    "#path = r\"C:/Users/Devika Kabe/Documents/Model_brainstorming/\"\n",
    "path = \"/home/dkabe/Model_brainstorming/\""
   ]
  },
  {
   "cell_type": "code",
   "execution_count": 10,
   "id": "excess-realtor",
   "metadata": {},
   "outputs": [],
   "source": [
    "f = open(path + 'Input_Data/product_distributions.txt', 'r')\n",
    "text = f.read()\n",
    "f.close()\n",
    "distributions = text.split('\\n')"
   ]
  },
  {
   "cell_type": "code",
   "execution_count": 11,
   "id": "unauthorized-panama",
   "metadata": {},
   "outputs": [],
   "source": [
    "for i in distributions:\n",
    "    exec(i.lstrip().rstrip())"
   ]
  },
  {
   "cell_type": "code",
   "execution_count": 12,
   "id": "european-courtesy",
   "metadata": {},
   "outputs": [],
   "source": [
    "distribution_mat = np.array([[p1_mean, p1_sd],\n",
    "                             [p2_mean, p2_sd],\n",
    "                             [p3_mean, p3_sd],\n",
    "                             [p4_mean, p4_sd]])"
   ]
  },
  {
   "cell_type": "code",
   "execution_count": 13,
   "id": "chronic-lounge",
   "metadata": {},
   "outputs": [
    {
     "output_type": "execute_result",
     "data": {
      "text/plain": [
       "array([[2487.        ,   70.71067812],\n",
       "       [2329.        ,   42.42640687],\n",
       "       [2539.        ,   14.14213562],\n",
       "       [2302.        ,   56.56854249]])"
      ]
     },
     "metadata": {},
     "execution_count": 13
    }
   ],
   "source": [
    "distribution_mat"
   ]
  },
  {
   "cell_type": "markdown",
   "id": "split-outdoors",
   "metadata": {},
   "source": [
    "## 2 Products, 2 Outsourced Suppliers"
   ]
  },
  {
   "cell_type": "code",
   "execution_count": 49,
   "id": "signed-mailing",
   "metadata": {},
   "outputs": [],
   "source": [
    "Products = 2\n",
    "Outsourced = 2"
   ]
  },
  {
   "cell_type": "code",
   "execution_count": null,
   "metadata": {},
   "outputs": [],
   "source": []
  },
  {
   "cell_type": "code",
   "execution_count": 50,
   "id": "medium-yacht",
   "metadata": {},
   "outputs": [],
   "source": [
    "## 2 MPs, 3 DCs, 4 MZs\n",
    "## 2 Products, 2 Outsourced Facilities \n",
    "\n",
    "Manufacturing_plants = 2\n",
    "Distribution = 3\n",
    "num_Scenarios = (2**Manufacturing_plants)*(2**Distribution) \n",
    "Market = 1\n",
    "\n",
    "# Cost of opening\n",
    "f_i = [7500, 12500]\n",
    "f_j = [7500, 12500, 17500]\n",
    "\n",
    "# Unit cost of manufacturing product\n",
    "np.random.seed(0)\n",
    "Manufacturing_costs = np.random.uniform(0,1, (Manufacturing_plants,Products))\n",
    "\n",
    "# Unit cost of transporting m from plant to DC\n",
    "np.random.seed(0)\n",
    "Transportation_i_j = np.random.uniform(0,1, (Products, Manufacturing_plants, Distribution))\n",
    "\n",
    "# Unit cost of transporting m from DC to Market Zone\n",
    "np.random.seed(0)\n",
    "Transportation_j_k = np.random.uniform(0,1, (Products, Distribution, Market))\n",
    "\n",
    "# Plant Capacities: Bigger capacities for the more expensive ones\n",
    "np.random.seed(0)\n",
    "Capacities_i = np.zeros(Manufacturing_plants) # in volume (metres cubed)\n",
    "Capacities_i[0] = 5000\n",
    "Capacities_i[1] = 10000\n",
    "\n",
    "Capacities_j = np.zeros(Distribution) # in volume (metres cubed)\n",
    "Capacities_j[0] = 5000\n",
    "Capacities_j[1] = 10000\n",
    "Capacities_j[2] = 15000\n",
    "\n",
    "Capacities_l = np.random.randint(400, 500, (Products,Outsourced)) # in terms of products \n",
    "\n",
    "# Cost of purchasing product m from supplier l \n",
    "np.random.seed(0)\n",
    "levels = 2\n",
    "Supplier_cost = np.zeros((levels, Products, Outsourced))\n",
    "Supplier_cost[0] = np.random.uniform(17, 20, (Products, Outsourced))\n",
    "Supplier_cost[1] = np.random.uniform(20, 23, (Products, Outsourced))\n",
    "\n",
    "# Cost of transporting product m from outsourced facility l to j\n",
    "np.random.seed(0)\n",
    "T_O_DC = np.random.uniform(1, 2, (Products, Outsourced, Distribution))\n",
    "\n",
    "# Cost of shipping product m from outsourced facility l to k\n",
    "np.random.seed(0)\n",
    "T_O_MZ = np.random.uniform(2, 3,(Products, Outsourced, Market))\n",
    "\n",
    "# Product volume \n",
    "np.random.seed(0)\n",
    "volume = np.random.uniform(1, 2,(Products))\n",
    "\n",
    "# unit cost of lost sales \n",
    "np.random.seed(1)\n",
    "lost_sales = np.random.uniform(20, 25, (Market,Products))\n",
    "\n",
    "# Demand\n",
    "demand = np.zeros((num_Scenarios, Products, Market))\n",
    "np.random.seed(0)\n",
    "for s in range(num_Scenarios):\n",
    "    for k in range(Market):\n",
    "        for m in range(Products):\n",
    "            demand[s][m][k] = np.round(np.random.normal(distribution_mat[m][0], distribution_mat[m][1]))\n",
    "\n",
    "# Compatibilities\n",
    "compatibility = np.ones((Products, Manufacturing_plants))"
   ]
  },
  {
   "cell_type": "code",
   "execution_count": 51,
   "metadata": {},
   "outputs": [
    {
     "output_type": "execute_result",
     "data": {
      "text/plain": [
       "array([[1., 1.],\n",
       "       [1., 1.]])"
      ]
     },
     "metadata": {},
     "execution_count": 51
    }
   ],
   "source": [
    "compatibilty"
   ]
  },
  {
   "cell_type": "code",
   "execution_count": 52,
   "id": "steady-convenience",
   "metadata": {},
   "outputs": [
    {
     "output_type": "execute_result",
     "data": {
      "text/plain": [
       "array([[22.08511002, 23.60162247]])"
      ]
     },
     "metadata": {},
     "execution_count": 52
    }
   ],
   "source": [
    "lost_sales"
   ]
  },
  {
   "cell_type": "code",
   "execution_count": 53,
   "id": "cordless-victorian",
   "metadata": {},
   "outputs": [
    {
     "output_type": "execute_result",
     "data": {
      "text/plain": [
       "array([[[18.64644051, 19.1455681 ],\n",
       "        [18.80829013, 18.63464955]],\n",
       "\n",
       "       [[21.2709644 , 21.93768234],\n",
       "        [21.31276163, 22.675319  ]]])"
      ]
     },
     "metadata": {},
     "execution_count": 53
    }
   ],
   "source": [
    "Supplier_cost"
   ]
  },
  {
   "cell_type": "code",
   "execution_count": 54,
   "id": "deluxe-captain",
   "metadata": {},
   "outputs": [
    {
     "output_type": "execute_result",
     "data": {
      "text/plain": [
       "4958.0"
      ]
     },
     "metadata": {},
     "execution_count": 54
    }
   ],
   "source": [
    "np.sum(demand[0])"
   ]
  },
  {
   "cell_type": "code",
   "execution_count": 55,
   "id": "previous-beginning",
   "metadata": {},
   "outputs": [],
   "source": [
    "# save files \n",
    "np.savetxt(path + 'Input_Data/Instance_1/OpenMP_1.txt', f_i)\n",
    "np.savetxt(path + 'Input_Data/Instance_1/OpenDC_1.txt', f_j)\n",
    "np.savetxt(path + 'Input_Data/Instance_1/Manufacturing_1.txt', Manufacturing_costs)\n",
    "np.savetxt(path + 'Input_Data/Instance_1/TransMPDC_1.txt', Transportation_i_j.reshape((Products*Manufacturing_plants, Distribution)))\n",
    "np.savetxt(path + 'Input_Data/Instance_1/TransDCMZ_1.txt', Transportation_j_k.reshape((Products*Distribution, Market)))\n",
    "np.savetxt(path + 'Input_Data/Instance_1/CapacitiesMP_1.txt', Capacities_i)\n",
    "np.savetxt(path + 'Input_Data/Instance_1/CapacitiesDC_1.txt', Capacities_j)\n",
    "np.savetxt(path + 'Input_Data/Instance_1/CapacitiesOutsource_1.txt', Capacities_l)\n",
    "np.savetxt(path + 'Input_Data/Instance_1/SupplierCost_1.txt', Supplier_cost.reshape((levels*Products, Outsourced)))\n",
    "np.savetxt(path + 'Input_Data/Instance_1/TransSupplierDC_1.txt', T_O_DC.reshape((Products*Outsourced, Distribution)))\n",
    "np.savetxt(path + 'Input_Data/Instance_1/TransSupplierMZ_1.txt', T_O_MZ.reshape((Products*Outsourced, Market)))\n",
    "np.savetxt(path + 'Input_Data/Instance_1/Volume_1.txt', volume)\n",
    "np.savetxt(path + 'Input_Data/Instance_1/LostSales_1.txt', lost_sales)\n",
    "np.savetxt(path + 'Input_Data/Instance_1/Demand_1.txt', demand.reshape((num_Scenarios*Products, Market)))\n",
    "np.savetxt(path + 'Input_Data/Instance_1/Compatibilities_1.txt', compatibility)\n"
   ]
  },
  {
   "cell_type": "code",
   "execution_count": 56,
   "id": "social-lawyer",
   "metadata": {},
   "outputs": [],
   "source": [
    "## 3 MPs, 4 DCs, 2 MZs\n",
    "\n",
    "num_Scenarios = 128\n",
    "\n",
    "Manufacturing_plants = 3\n",
    "Distribution = 4\n",
    "Market = 2\n",
    "Outsourced = 2\n",
    "\n",
    "# Cost of opening\n",
    "f_i = [7500, 12500, 17500]\n",
    "f_j = [7500, 12500, 17500, 7500]\n",
    "\n",
    "# Unit cost of manufacturing product\n",
    "np.random.seed(0)\n",
    "Manufacturing_costs = np.random.uniform(0,1, (Manufacturing_plants,Products))\n",
    "\n",
    "# Unit cost of transporting m from plant to DC\n",
    "np.random.seed(0)\n",
    "Transportation_i_j = np.random.uniform(0,1, (Products, Manufacturing_plants, Distribution))\n",
    "\n",
    "# Unit cost of transporting m from DC to Market Zone\n",
    "np.random.seed(0)\n",
    "Transportation_j_k = np.random.uniform(0,1, (Products, Distribution, Market))\n",
    "\n",
    "# Plant Capacities: Bigger capacities for the more expensive ones\n",
    "np.random.seed(0)\n",
    "Capacities_i = np.zeros(Manufacturing_plants) # in volume (metres cubed)\n",
    "Capacities_i[0] = 5000\n",
    "Capacities_i[1] = 10000\n",
    "Capacities_i[2] = 15000\n",
    "Capacities_j = np.zeros(Distribution) # in volume (metres cubed)\n",
    "Capacities_j[0] = 5000\n",
    "Capacities_j[1] = 10000\n",
    "Capacities_j[2] = 15000\n",
    "Capacities_j[3] = 5000\n",
    "Capacities_l = np.random.randint(800, 1000, (Products,Outsourced)) # in terms of products \n",
    "\n",
    "# Cost of purchasing product m from supplier l \n",
    "np.random.seed(0)\n",
    "levels = 2\n",
    "Supplier_cost = np.zeros((levels, Products, Outsourced))\n",
    "Supplier_cost[0] = np.random.uniform(17, 20, (Products, Outsourced))\n",
    "Supplier_cost[1] = np.random.uniform(20, 23, (Products, Outsourced))\n",
    "\n",
    "# Cost of transporting product m from outsourced facility l to j\n",
    "np.random.seed(0)\n",
    "T_O_DC = np.random.uniform(1, 2, (Products, Outsourced, Distribution))\n",
    "\n",
    "# Cost of shipping product m from outsourced facility l to k\n",
    "np.random.seed(0)\n",
    "T_O_MZ = np.random.uniform(2, 3,(Products, Outsourced, Market))\n",
    "\n",
    "# Product volume \n",
    "np.random.seed(0)\n",
    "volume = np.random.uniform(1, 2,(Products))\n",
    "\n",
    "# unit cost of lost sales \n",
    "np.random.seed(1)\n",
    "lost_sales = np.random.uniform(20, 25, (Market,Products))\n",
    "\n",
    "# Demand\n",
    "demand = np.zeros((num_Scenarios, Products, Market))\n",
    "np.random.seed(0)\n",
    "for s in range(num_Scenarios):\n",
    "    for k in range(Market):\n",
    "        for m in range(Products):\n",
    "            demand[s][m][k] = np.round(np.random.normal(distribution_mat[m][0], distribution_mat[m][1]))\n",
    "\n",
    "# Compatibilities\n",
    "compatibility = np.ones((Products, Manufacturing_plants))"
   ]
  },
  {
   "cell_type": "code",
   "execution_count": 57,
   "id": "introductory-television",
   "metadata": {},
   "outputs": [
    {
     "output_type": "execute_result",
     "data": {
      "text/plain": [
       "array([[1., 1., 1.],\n",
       "       [1., 1., 1.]])"
      ]
     },
     "metadata": {},
     "execution_count": 57
    }
   ],
   "source": [
    "compatibility"
   ]
  },
  {
   "cell_type": "code",
   "execution_count": 58,
   "id": "hidden-recipe",
   "metadata": {},
   "outputs": [],
   "source": [
    "np.savetxt(path + 'Input_Data/Instance_2/OpenMP_2.txt', f_i)\n",
    "np.savetxt(path + 'Input_Data/Instance_2/OpenDC_2.txt', f_j)\n",
    "np.savetxt(path + 'Input_Data/Instance_2/Manufacturing_2.txt', Manufacturing_costs)\n",
    "np.savetxt(path + 'Input_Data/Instance_2/TransMPDC_2.txt', Transportation_i_j.reshape((Products*Manufacturing_plants, Distribution)))\n",
    "np.savetxt(path + 'Input_Data/Instance_2/TransDCMZ_2.txt', Transportation_j_k.reshape((Products*Distribution, Market)))\n",
    "np.savetxt(path + 'Input_Data/Instance_2/CapacitiesMP_2.txt', Capacities_i)\n",
    "np.savetxt(path + 'Input_Data/Instance_2/CapacitiesDC_2.txt', Capacities_j)\n",
    "np.savetxt(path + 'Input_Data/Instance_2/CapacitiesOutsource_2.txt', Capacities_l)\n",
    "np.savetxt(path +'Input_Data/Instance_2/SupplierCost_2.txt', Supplier_cost.reshape((levels*Products, Outsourced)))\n",
    "np.savetxt(path + 'Input_Data/Instance_2/TransSupplierDC_2.txt', T_O_DC.reshape((Products*Outsourced, Distribution)))\n",
    "np.savetxt(path + 'Input_Data/Instance_2/TransSupplierMZ_2.txt', T_O_MZ.reshape((Products*Outsourced, Market)))\n",
    "np.savetxt(path + 'Input_Data/Instance_2/Volume_2.txt', volume)\n",
    "np.savetxt(path + 'Input_Data/Instance_2/LostSales_2.txt', lost_sales)\n",
    "np.savetxt(path + 'Input_Data/Instance_2/Demand_2.txt', demand.reshape((num_Scenarios*Products, Market)))\n",
    "np.savetxt(path + 'Input_Data/Instance_2/Compatibilities_2.txt', compatibility)\n"
   ]
  },
  {
   "cell_type": "code",
   "execution_count": 59,
   "id": "thermal-oxford",
   "metadata": {},
   "outputs": [],
   "source": [
    "## 4 MPs, 6 DCs, 3 MZs\n",
    "\n",
    "num_Scenarios = 200\n",
    "Manufacturing_plants = 4\n",
    "Distribution = 6\n",
    "Market = 3\n",
    "Products = 2\n",
    "Outsourced = 2\n",
    "# Cost of opening\n",
    "f_i = [7500, 12500, 17500, 7500]\n",
    "f_j = [7500, 12500, 17500, 7500, 12500, 17500]\n",
    "\n",
    "# Unit cost of manufacturing product\n",
    "np.random.seed(0)\n",
    "Manufacturing_costs = np.random.uniform(0,1, (Manufacturing_plants,Products))\n",
    "\n",
    "# Unit cost of transporting m from plant to DC\n",
    "np.random.seed(0)\n",
    "Transportation_i_j = np.random.uniform(0,1, (Products, Manufacturing_plants, Distribution))\n",
    "\n",
    "# Unit cost of transporting m from DC to Market Zone\n",
    "np.random.seed(0)\n",
    "Transportation_j_k = np.random.uniform(0,1, (Products, Distribution, Market))\n",
    "\n",
    "# Plant Capacities: Bigger capacities for the more expensive ones\n",
    "np.random.seed(0)\n",
    "Capacities_i = np.zeros(Manufacturing_plants) # in volume (metres cubed)\n",
    "Capacities_i[0] = 5000\n",
    "Capacities_i[1] = 10000\n",
    "Capacities_i[2] = 15000\n",
    "Capacities_i[3] = 5000\n",
    "Capacities_j = np.zeros(Distribution) # in volume (metres cubed)\n",
    "Capacities_j[0] = 5000\n",
    "Capacities_j[1] = 10000\n",
    "Capacities_j[2] = 15000\n",
    "Capacities_j[3] = 5000\n",
    "Capacities_j[4] = 10000\n",
    "Capacities_j[5] = 15000\n",
    "Capacities_l = np.random.randint(1200, 1500, (Products,Outsourced)) # in terms of products \n",
    "\n",
    "# Cost of purchasing product m from supplier l \n",
    "np.random.seed(0)\n",
    "levels = 2\n",
    "Supplier_cost = np.zeros((levels, Products, Outsourced))\n",
    "Supplier_cost[0] = np.random.uniform(17, 20, (Products, Outsourced))\n",
    "Supplier_cost[1] = np.random.uniform(20, 23, (Products, Outsourced))\n",
    "\n",
    "# Cost of transporting product m from outsourced facility l to j\n",
    "np.random.seed(0)\n",
    "T_O_DC = np.random.uniform(1, 2, (Products, Outsourced, Distribution))\n",
    "\n",
    "# Cost of shipping product m from outsourced facility l to k\n",
    "np.random.seed(0)\n",
    "T_O_MZ = np.random.uniform(2, 3,(Products, Outsourced, Market))\n",
    "\n",
    "# Product volume \n",
    "np.random.seed(0)\n",
    "volume = np.random.uniform(1, 2,(Products))\n",
    "\n",
    "# unit cost of lost sales \n",
    "np.random.seed(1)\n",
    "lost_sales = np.random.uniform(20, 25, (Market,Products))\n",
    "\n",
    "# Demand\n",
    "demand = np.zeros((num_Scenarios, Products, Market))\n",
    "np.random.seed(0)\n",
    "for s in range(num_Scenarios):\n",
    "    for k in range(Market):\n",
    "        for m in range(Products):\n",
    "            demand[s][m][k] = np.round(np.random.normal(distribution_mat[m][0], distribution_mat[m][1]))\n",
    "# Compatibilities\n",
    "compatibility = np.ones((Products, Manufacturing_plants))"
   ]
  },
  {
   "cell_type": "code",
   "execution_count": 60,
   "id": "foster-archive",
   "metadata": {},
   "outputs": [
    {
     "output_type": "execute_result",
     "data": {
      "text/plain": [
       "array([[22.08511002, 23.60162247],\n",
       "       [20.00057187, 21.51166286],\n",
       "       [20.73377945, 20.46169297]])"
      ]
     },
     "metadata": {},
     "execution_count": 60
    }
   ],
   "source": [
    "lost_sales"
   ]
  },
  {
   "cell_type": "code",
   "execution_count": 61,
   "id": "interstate-differential",
   "metadata": {},
   "outputs": [
    {
     "output_type": "execute_result",
     "data": {
      "text/plain": [
       "array([[[18.64644051, 19.1455681 ],\n",
       "        [18.80829013, 18.63464955]],\n",
       "\n",
       "       [[21.2709644 , 21.93768234],\n",
       "        [21.31276163, 22.675319  ]]])"
      ]
     },
     "metadata": {},
     "execution_count": 61
    }
   ],
   "source": [
    "Supplier_cost"
   ]
  },
  {
   "cell_type": "code",
   "execution_count": 62,
   "id": "thrown-guinea",
   "metadata": {},
   "outputs": [],
   "source": [
    "np.savetxt(path + 'Input_Data/Instance_3/OpenMP_3.txt', f_i)\n",
    "np.savetxt(path + 'Input_Data/Instance_3/OpenDC_3.txt', f_j)\n",
    "np.savetxt(path + 'Input_Data/Instance_3/Manufacturing_3.txt', Manufacturing_costs)\n",
    "np.savetxt(path + 'Input_Data/Instance_3/TransMPDC_3.txt', Transportation_i_j.reshape((Products*Manufacturing_plants, Distribution)))\n",
    "np.savetxt(path + 'Input_Data/Instance_3/TransDCMZ_3.txt', Transportation_j_k.reshape((Products*Distribution, Market)))\n",
    "np.savetxt(path + 'Input_Data/Instance_3/CapacitiesMP_3.txt', Capacities_i)\n",
    "np.savetxt(path + 'Input_Data/Instance_3/CapacitiesDC_3.txt', Capacities_j)\n",
    "np.savetxt(path + 'Input_Data/Instance_3/CapacitiesOutsource_3.txt', Capacities_l)\n",
    "np.savetxt(path + 'Input_Data/Instance_3/SupplierCost_3.txt', Supplier_cost.reshape((levels*Products, Outsourced)))\n",
    "np.savetxt(path + 'Input_Data/Instance_3/TransSupplierDC_3.txt', T_O_DC.reshape((Products*Outsourced, Distribution)))\n",
    "np.savetxt(path + 'Input_Data/Instance_3/TransSupplierMZ_3.txt', T_O_MZ.reshape((Products*Outsourced, Market)))\n",
    "np.savetxt(path + 'Input_Data/Instance_3/Volume_3.txt', volume)\n",
    "np.savetxt(path + 'Input_Data/Instance_3/LostSales_3.txt', lost_sales)\n",
    "np.savetxt(path + 'Input_Data/Instance_3/Demand_3.txt', demand.reshape((num_Scenarios*Products, Market)))\n",
    "np.savetxt(path + 'Input_Data/Instance_3/Compatibilities_3.txt', compatibility)\n"
   ]
  },
  {
   "cell_type": "code",
   "execution_count": 63,
   "id": "comfortable-liverpool",
   "metadata": {},
   "outputs": [],
   "source": [
    "## 6 MPs, 8 DCs, 5 MZs\n",
    "\n",
    "num_Scenarios = 200\n",
    "Manufacturing_plants = 6\n",
    "Distribution = 8\n",
    "Market = 5\n",
    "\n",
    "# Cost of opening\n",
    "f_i = [7500, 12500, 17500, 7500, 12500, 17500]\n",
    "f_j = [7500, 12500, 17500, 7500, 12500, 17500, 7500, 12500]\n",
    "# Unit cost of manufacturing product\n",
    "np.random.seed(0)\n",
    "Manufacturing_costs = np.random.uniform(0,1, (Manufacturing_plants,Products))\n",
    "\n",
    "# Unit cost of transporting m from plant to DC\n",
    "np.random.seed(0)\n",
    "Transportation_i_j = np.random.uniform(0,1, (Products, Manufacturing_plants, Distribution))\n",
    "\n",
    "# Unit cost of transporting m from DC to Market Zone\n",
    "np.random.seed(0)\n",
    "Transportation_j_k = np.random.uniform(0,1, (Products, Distribution, Market))\n",
    "\n",
    "# Plant Capacities: Bigger capacities for the more expensive ones\n",
    "np.random.seed(0)\n",
    "Capacities_i = np.zeros(Manufacturing_plants) # in volume (metres cubed)\n",
    "Capacities_i[0] = 5000\n",
    "Capacities_i[1] = 10000\n",
    "Capacities_i[2] = 15000\n",
    "Capacities_i[3] = 5000\n",
    "Capacities_i[4] = 10000\n",
    "Capacities_i[5] = 15000\n",
    "Capacities_j = np.zeros(Distribution) # in volume (metres cubed)\n",
    "Capacities_j[0] = 5000\n",
    "Capacities_j[1] = 10000\n",
    "Capacities_j[2] = 15000\n",
    "Capacities_j[3] = 5000\n",
    "Capacities_j[4] = 10000\n",
    "Capacities_j[5] = 15000\n",
    "Capacities_j[6] = 5000\n",
    "Capacities_j[7] = 10000\n",
    "Capacities_l = np.random.randint(2000, 2500, (Products,Outsourced)) # in terms of products \n",
    "\n",
    "# Cost of purchasing product m from supplier l \n",
    "np.random.seed(0)\n",
    "levels = 2\n",
    "Supplier_cost = np.zeros((levels, Products, Outsourced))\n",
    "Supplier_cost[0] = np.random.uniform(17, 20, (Products, Outsourced))\n",
    "Supplier_cost[1] = np.random.uniform(20, 23, (Products, Outsourced))\n",
    "\n",
    "# Cost of transporting product m from outsourced facility l to j\n",
    "np.random.seed(0)\n",
    "T_O_DC = np.random.uniform(1, 2, (Products, Outsourced, Distribution))\n",
    "\n",
    "# Cost of shipping product m from outsourced facility l to k\n",
    "np.random.seed(0)\n",
    "T_O_MZ = np.random.uniform(2, 3,(Products, Outsourced, Market))\n",
    "\n",
    "# Product volume \n",
    "np.random.seed(0)\n",
    "volume = np.random.uniform(1, 2,(Products))\n",
    "\n",
    "# unit cost of lost sales \n",
    "np.random.seed(1)\n",
    "lost_sales = np.random.uniform(20, 25, (Market,Products))\n",
    "\n",
    "# Demand\n",
    "demand = np.zeros((num_Scenarios, Products, Market))\n",
    "np.random.seed(0)\n",
    "for s in range(num_Scenarios):\n",
    "    for k in range(Market):\n",
    "        for m in range(Products):\n",
    "            demand[s][m][k] = np.round(np.random.normal(distribution_mat[m][0], distribution_mat[m][1]))\n",
    "            \n",
    "# Compatibilities\n",
    "compatibility = np.ones((Products, Manufacturing_plants))"
   ]
  },
  {
   "cell_type": "code",
   "execution_count": 64,
   "id": "configured-stylus",
   "metadata": {},
   "outputs": [
    {
     "output_type": "execute_result",
     "data": {
      "text/plain": [
       "24339.0"
      ]
     },
     "metadata": {},
     "execution_count": 64
    }
   ],
   "source": [
    "np.sum(demand[1])"
   ]
  },
  {
   "cell_type": "code",
   "execution_count": 65,
   "id": "extensive-constitutional",
   "metadata": {},
   "outputs": [
    {
     "output_type": "execute_result",
     "data": {
      "text/plain": [
       "array([[[2612., 2556., 2619., 2554., 2480.],\n",
       "        [2346., 2424., 2288., 2323., 2346.]],\n",
       "\n",
       "       [[2497., 2541., 2518., 2593., 2509.],\n",
       "        [2391., 2334., 2343., 2320., 2293.]],\n",
       "\n",
       "       [[2306., 2548., 2647., 2490., 2595.],\n",
       "        [2357., 2298., 2267., 2321., 2391.]],\n",
       "\n",
       "       ...,\n",
       "\n",
       "       [[2577., 2488., 2463., 2542., 2430.],\n",
       "        [2299., 2343., 2328., 2347., 2282.]],\n",
       "\n",
       "       [[2431., 2476., 2445., 2517., 2398.],\n",
       "        [2329., 2294., 2265., 2327., 2330.]],\n",
       "\n",
       "       [[2582., 2580., 2501., 2586., 2406.],\n",
       "        [2298., 2315., 2333., 2336., 2273.]]])"
      ]
     },
     "metadata": {},
     "execution_count": 65
    }
   ],
   "source": [
    "demand"
   ]
  },
  {
   "cell_type": "code",
   "execution_count": 66,
   "id": "lesser-toyota",
   "metadata": {},
   "outputs": [],
   "source": [
    "np.savetxt(path + 'Input_Data/Instance_4/OpenMP_4.txt', f_i)\n",
    "np.savetxt(path + 'Input_Data/Instance_4/OpenDC_4.txt', f_j)\n",
    "np.savetxt(path + 'Input_Data/Instance_4/Manufacturing_4.txt', Manufacturing_costs)\n",
    "np.savetxt(path + 'Input_Data/Instance_4/TransMPDC_4.txt', Transportation_i_j.reshape((Products*Manufacturing_plants, Distribution)))\n",
    "np.savetxt(path + 'Input_Data/Instance_4/TransDCMZ_4.txt', Transportation_j_k.reshape((Products*Distribution, Market)))\n",
    "np.savetxt(path + 'Input_Data/Instance_4/CapacitiesMP_4.txt', Capacities_i)\n",
    "np.savetxt(path + 'Input_Data/Instance_4/CapacitiesDC_4.txt', Capacities_j)\n",
    "np.savetxt(path + 'Input_Data/Instance_4/CapacitiesOutsource_4.txt', Capacities_l)\n",
    "np.savetxt(path + 'Input_Data/Instance_4/SupplierCost_4.txt', Supplier_cost.reshape((levels*Products, Outsourced)))\n",
    "np.savetxt(path + 'Input_Data/Instance_4/TransSupplierDC_4.txt', T_O_DC.reshape((Products*Outsourced, Distribution)))\n",
    "np.savetxt(path + 'Input_Data/Instance_4/TransSupplierMZ_4.txt', T_O_MZ.reshape((Products*Outsourced, Market)))\n",
    "np.savetxt(path + 'Input_Data/Instance_4/Volume_4.txt', volume)\n",
    "np.savetxt(path + 'Input_Data/Instance_4/LostSales_4.txt', lost_sales)\n",
    "np.savetxt(path + 'Input_Data/Instance_4/Demand_4.txt', demand.reshape((num_Scenarios*Products, Market)))\n",
    "np.savetxt(path + 'Input_Data/Instance_4/Compatibilities_4.txt', compatibility)\n"
   ]
  },
  {
   "source": [
    "## Mimic real-life scenarios"
   ],
   "cell_type": "markdown",
   "metadata": {}
  },
  {
   "cell_type": "code",
   "execution_count": 14,
   "metadata": {},
   "outputs": [],
   "source": [
    "# Distribution centres and market zones don't change based on instances \n",
    "\n",
    "with open (path + \"Input_Data/DC_locations.txt\") as f:\n",
    "    DC_locations = [tuple(map(float, i.split('\\t'))) for i in f]\n",
    "\n",
    "with open (path + \"Input_Data/market_locations.txt\") as f:\n",
    "    market_locations = [tuple(map(float, i.split('\\t'))) for i in f]\n",
    "\n",
    "# Distribution Centres to Market Zones \n",
    "distances_j_k = []\n",
    "for loc1 in range(len(DC_locations)):\n",
    "    temp_dist = []\n",
    "    for loc2 in range(len(market_locations)):\n",
    "        temp_dist.append(float(str(geopy.distance.geodesic(DC_locations[loc1], market_locations[loc2]))[:-3]))\n",
    "    distances_j_k.append(temp_dist)"
   ]
  },
  {
   "source": [
    "## Cleaning Products"
   ],
   "cell_type": "markdown",
   "metadata": {}
  },
  {
   "cell_type": "code",
   "execution_count": 15,
   "metadata": {},
   "outputs": [],
   "source": [
    "# open location data"
   ]
  },
  {
   "cell_type": "code",
   "execution_count": 16,
   "metadata": {},
   "outputs": [],
   "source": [
    "with open (path + \"Input_Data/Instance_5/MP_locations_5.txt\") as f:\n",
    "    MP_locations = [tuple(map(float, i.split('\\t'))) for i in f]"
   ]
  },
  {
   "cell_type": "code",
   "execution_count": 17,
   "metadata": {},
   "outputs": [],
   "source": [
    "with open(path + \"Input_Data/Instance_5/outsource_locations_5.txt\") as f:\n",
    "    outsource_locations = [tuple(map(float, i.split('\\t'))) for i in f]"
   ]
  },
  {
   "cell_type": "code",
   "execution_count": 18,
   "metadata": {},
   "outputs": [],
   "source": [
    "# compute geodesic distances "
   ]
  },
  {
   "cell_type": "code",
   "execution_count": 72,
   "metadata": {},
   "outputs": [],
   "source": [
    "# Plants to Distribution Centres\n",
    "distances_i_j = []\n",
    "for loc1 in range(len(MP_locations)):\n",
    "    temp_dist = []\n",
    "    for loc2 in range(len(DC_locations)):\n",
    "        temp_dist.append(float(str(geopy.distance.geodesic(MP_locations[loc1], DC_locations[loc2]))[:-3]))\n",
    "    distances_i_j.append(temp_dist)"
   ]
  },
  {
   "cell_type": "code",
   "execution_count": 73,
   "metadata": {},
   "outputs": [],
   "source": [
    "# Outsourced Facilities to Distribution Centres\n",
    "distances_l_j = []\n",
    "for loc1 in range(len(outsource_locations)):\n",
    "    temp_dist = []\n",
    "    for loc2 in range(len(DC_locations)):\n",
    "        temp_dist.append(float(str(geopy.distance.geodesic(outsource_locations[loc1], DC_locations[loc2]))[:-3]))\n",
    "    distances_l_j.append(temp_dist)\n"
   ]
  },
  {
   "cell_type": "code",
   "execution_count": 74,
   "metadata": {},
   "outputs": [],
   "source": [
    "# Outsourced Facilities to Market Zones\n",
    "distances_l_k = []\n",
    "for loc1 in range(len(outsource_locations)):\n",
    "    temp_dist = []\n",
    "    for loc2 in range(len(market_locations)):\n",
    "        temp_dist.append(float(str(geopy.distance.geodesic(outsource_locations[loc1], market_locations[loc2]))[:-3]))\n",
    "    distances_l_k.append(temp_dist)"
   ]
  },
  {
   "cell_type": "code",
   "execution_count": 75,
   "metadata": {},
   "outputs": [],
   "source": [
    "# means and sds of products\n",
    "# p1_mean = 205500\n",
    "# p2_mean = 202500\n",
    "# p3_mean = 199500\n",
    "\n",
    "# p1_sd = 3300\n",
    "# p2_sd = 8250\n",
    "# p3_sd = 1650\n",
    "\n",
    "p1_mean = 103500\n",
    "p2_mean = 101500\n",
    "p3_mean = 99750\n",
    "\n",
    "p1_sd = 1650\n",
    "p2_sd = 4125\n",
    "p3_sd = 2000"
   ]
  },
  {
   "cell_type": "code",
   "execution_count": 76,
   "metadata": {},
   "outputs": [],
   "source": [
    "distribution_mat = [[p1_mean, p1_sd],\n",
    "                  [p2_mean, p2_sd],\n",
    "                  [p3_mean, p3_sd]]"
   ]
  },
  {
   "cell_type": "code",
   "execution_count": 77,
   "metadata": {},
   "outputs": [],
   "source": [
    "\n",
    "## 6 MPs, 4 DCs, 29 MZs\n",
    "Products = 3\n",
    "Outsourced = 3\n",
    "num_Scenarios = 200\n",
    "Manufacturing_plants = 6\n",
    "Distribution = 4\n",
    "Market = 29\n",
    "\n",
    "# Cost of opening/establishing/operating \n",
    "f_i = [2070000, 2000000, 1656000]*2\n",
    "f_j = [2070000, 2000000, 1656000, 1800000]\n",
    "\n",
    "# In-house produce + transport \n",
    "\n",
    "np.random.seed(0)\n",
    "Manufacturing_costs = np.random.uniform(0.1,0.2, (Manufacturing_plants,Products))\n",
    "\n",
    "Transportation_i_j = np.zeros((Products, Manufacturing_plants, Distribution))\n",
    "for m in range(Products):\n",
    "    for i in range(Manufacturing_plants):\n",
    "        for j in range(Distribution):\n",
    "            Transportation_i_j[m][i][j] = distances_i_j[i][j]/1000\n",
    "\n",
    "Transportation_j_k = np.zeros((Products, Distribution, Market))\n",
    "for m in range(Products):\n",
    "    for j in range(Distribution):\n",
    "        for k in range(Market):\n",
    "            Transportation_j_k[m][j][k] = distances_j_k[j][k]/1000\n",
    "\n",
    "# Capacities of plants in squared feet\n",
    "\n",
    "Capacities_i = [103500, 100000, 82800]*2\n",
    "\n",
    "Capacities_j = [103500, 100000, 82800, 90000]\n",
    "\n",
    "# Quantity supplier can provide \n",
    "\n",
    "Capacities_l = np.zeros((Products, Outsourced))\n",
    "Capacities_l[0][0] = 1750000\n",
    "Capacities_l[1][1] = 1800000\n",
    "Capacities_l[2][2] = 1900000\n",
    "\n",
    "# Cost of purchasing from suppliers\n",
    "\n",
    "levels = 2\n",
    "Supplier_cost = np.zeros((levels, Products, Outsourced))\n",
    "Supplier_cost[0][0][0] = 10\n",
    "Supplier_cost[0][1][1] = 5\n",
    "Supplier_cost[0][2][2] = 7\n",
    "\n",
    "Supplier_cost[1][0][0] = 11\n",
    "Supplier_cost[1][1][1] = 6\n",
    "Supplier_cost[1][2][2] = 8\n",
    "\n",
    "# Cost of transporting from suppliers\n",
    "\n",
    "T_O_DC = np.zeros((Products, Outsourced, Distribution))\n",
    "for m in range(Products):\n",
    "    for l in range(Outsourced):\n",
    "        for j in range(Distribution):\n",
    "            T_O_DC[m][l][j] = distances_l_j[l][j]/1000\n",
    "\n",
    "T_O_MZ = np.zeros((Products, Outsourced, Market))\n",
    "for m in range(Products):\n",
    "    for l in range(Outsourced):\n",
    "        for k in range(Market):\n",
    "            T_O_MZ[m][l][k] = distances_l_k[l][k]/1000\n",
    "\n",
    "# volume of products\n",
    "\n",
    "volume = np.random.uniform(0.01, 0.03,(Products))\n",
    "\n",
    "# unit cost of lost sales \n",
    "\n",
    "lost_sales = [[10, 5, 7]]*Market\n",
    "\n",
    "\n",
    "# demand of each product/ scenario\n",
    "demand = np.zeros((num_Scenarios, Products, Market))\n",
    "np.random.seed(0)\n",
    "for s in range(num_Scenarios):\n",
    "    for k in range(Market):\n",
    "        for m in range(Products):\n",
    "            demand[s][m][k] = np.round(np.random.normal(distribution_mat[m][0], distribution_mat[m][1]))\n",
    "\n",
    "# Compatibilities\n",
    "compatibility = np.ones((Products, Manufacturing_plants))\n",
    "\n"
   ]
  },
  {
   "cell_type": "code",
   "execution_count": 78,
   "metadata": {},
   "outputs": [],
   "source": [
    "# save everything to instance folder  \n",
    "\n",
    "np.savetxt(path + 'Input_Data/Instance_5/OpenMP_5.txt', f_i)\n",
    "np.savetxt(path + 'Input_Data/Instance_5/OpenDC_5.txt', f_j)\n",
    "np.savetxt(path + 'Input_Data/Instance_5/Manufacturing_5.txt', Manufacturing_costs)\n",
    "np.savetxt(path + 'Input_Data/Instance_5/TransMPDC_5.txt', Transportation_i_j.reshape((Products*Manufacturing_plants, Distribution)))\n",
    "np.savetxt(path + 'Input_Data/Instance_5/TransDCMZ_5.txt', Transportation_j_k.reshape((Products*Distribution, Market)))\n",
    "np.savetxt(path + 'Input_Data/Instance_5/CapacitiesMP_5.txt', Capacities_i)\n",
    "np.savetxt(path + 'Input_Data/Instance_5/CapacitiesDC_5.txt', Capacities_j)\n",
    "np.savetxt(path + 'Input_Data/Instance_5/CapacitiesOutsource_5.txt', Capacities_l)\n",
    "np.savetxt(path + 'Input_Data/Instance_5/SupplierCost_5.txt', Supplier_cost.reshape((levels*Products, Outsourced)))\n",
    "np.savetxt(path + 'Input_Data/Instance_5/TransSupplierDC_5.txt', T_O_DC.reshape((Products*Outsourced, Distribution)))\n",
    "np.savetxt(path + 'Input_Data/Instance_5/TransSupplierMZ_5.txt', T_O_MZ.reshape((Products*Outsourced, Market)))\n",
    "np.savetxt(path + 'Input_Data/Instance_5/Volume_5.txt', volume)\n",
    "np.savetxt(path + 'Input_Data/Instance_5/LostSales_5.txt', lost_sales)\n",
    "np.savetxt(path + 'Input_Data/Instance_5/Demand_5.txt', demand.reshape((num_Scenarios*Products, Market)))\n",
    "np.savetxt(path + 'Input_Data/Instance_5/Compatibilities_5.txt', compatibility)\n"
   ]
  },
  {
   "cell_type": "code",
   "execution_count": 79,
   "metadata": {},
   "outputs": [
    {
     "output_type": "execute_result",
     "data": {
      "text/plain": [
       "8849033.0"
      ]
     },
     "metadata": {},
     "execution_count": 79
    }
   ],
   "source": [
    "np.sum(demand[0])"
   ]
  },
  {
   "source": [
    "## Meat Products"
   ],
   "cell_type": "markdown",
   "metadata": {}
  },
  {
   "cell_type": "code",
   "execution_count": 38,
   "metadata": {},
   "outputs": [],
   "source": [
    "# open location data\n",
    "with open (path + \"Input_Data/Instance_6/MP_locations_6.txt\") as f:\n",
    "    MP_locations = [tuple(map(float, i.split('\\t'))) for i in f]\n",
    "\n",
    "with open(path + \"Input_Data/Instance_6/outsource_locations_6.txt\") as f:\n",
    "    outsource_locations = [tuple(map(float, i.split('\\t'))) for i in f]"
   ]
  },
  {
   "cell_type": "code",
   "execution_count": 39,
   "metadata": {},
   "outputs": [],
   "source": [
    "# Plants to Distribution Centres\n",
    "distances_i_j = []\n",
    "for loc1 in range(len(MP_locations)):\n",
    "    temp_dist = []\n",
    "    for loc2 in range(len(DC_locations)):\n",
    "        temp_dist.append(float(str(geopy.distance.geodesic(MP_locations[loc1], DC_locations[loc2]))[:-3]))\n",
    "    distances_i_j.append(temp_dist)"
   ]
  },
  {
   "cell_type": "code",
   "execution_count": 40,
   "metadata": {},
   "outputs": [],
   "source": [
    "# Outsourced Facilities to Distribution Centres\n",
    "distances_l_j = []\n",
    "for loc1 in range(len(outsource_locations)):\n",
    "    temp_dist = []\n",
    "    for loc2 in range(len(DC_locations)):\n",
    "        temp_dist.append(float(str(geopy.distance.geodesic(outsource_locations[loc1], DC_locations[loc2]))[:-3]))\n",
    "    distances_l_j.append(temp_dist)"
   ]
  },
  {
   "cell_type": "code",
   "execution_count": 41,
   "metadata": {},
   "outputs": [],
   "source": [
    "# Outsourced Facilities to Market Zones\n",
    "distances_l_k = []\n",
    "for loc1 in range(len(outsource_locations)):\n",
    "    temp_dist = []\n",
    "    for loc2 in range(len(market_locations)):\n",
    "        temp_dist.append(float(str(geopy.distance.geodesic(outsource_locations[loc1], market_locations[loc2]))[:-3]))\n",
    "    distances_l_k.append(temp_dist)"
   ]
  },
  {
   "cell_type": "code",
   "execution_count": 42,
   "metadata": {},
   "outputs": [],
   "source": [
    "p1_mean = 137000\n",
    "p2_mean = 135000\n",
    "p3_mean = 133000\n",
    "\n",
    "p1_sd = 2650\n",
    "p2_sd = 8125\n",
    "p3_sd = 4000\n",
    "\n",
    "distribution_mat = [[p1_mean, p1_sd],\n",
    "                  [p2_mean, p2_sd],\n",
    "                  [p3_mean, p3_sd]]"
   ]
  },
  {
   "cell_type": "code",
   "execution_count": 65,
   "metadata": {},
   "outputs": [],
   "source": [
    "## 6 MPs, 4 DCs, 29 MZs\n",
    "Products = 3\n",
    "Outsourced = 3\n",
    "num_Scenarios = 200\n",
    "Manufacturing_plants = 6\n",
    "Distribution = 4\n",
    "Market = 29\n",
    "\n",
    "# Cost of opening/establishing/operating \n",
    "f_i = [2070000, 2000000, 1656000]*2\n",
    "f_j = [2070000, 2000000, 1656000, 1800000]\n",
    "\n",
    "# In-house produce + transport \n",
    "\n",
    "np.random.seed(0)\n",
    "Manufacturing_costs = np.random.uniform(0.1,0.2, (Manufacturing_plants,Products))\n",
    "\n",
    "Transportation_i_j = np.zeros((Products, Manufacturing_plants, Distribution))\n",
    "for m in range(Products):\n",
    "    for i in range(Manufacturing_plants):\n",
    "        for j in range(Distribution):\n",
    "            if i == 0:\n",
    "                Transportation_i_j[m][i][j] = distances_i_j[i][j]/10000\n",
    "            else: \n",
    "                Transportation_i_j[m][i][j] = distances_i_j[i][j]/1000\n",
    "\n",
    "\n",
    "Transportation_j_k = np.zeros((Products, Distribution, Market))\n",
    "for m in range(Products):\n",
    "    for j in range(Distribution):\n",
    "        for k in range(Market):\n",
    "            Transportation_j_k[m][j][k] = distances_j_k[j][k]/1000\n",
    "\n",
    "# Capacities of plants in squared feet\n",
    "\n",
    "Capacities_i = [103500, 100000, 82800]*2\n",
    "\n",
    "Capacities_j = [103500, 100000, 82800, 90000]\n",
    "\n",
    "# Quantity supplier can provide \n",
    "\n",
    "Capacities_l = np.zeros((Products, Outsourced))\n",
    "Capacities_l[0][2] = 1250000\n",
    "Capacities_l[1][1] = 1300000\n",
    "Capacities_l[2][0] = 1400000\n",
    "\n",
    "# Cost of purchasing from suppliers\n",
    "\n",
    "levels = 2\n",
    "Supplier_cost = np.zeros((levels, Products, Outsourced))\n",
    "Supplier_cost[0][0][2] = 11\n",
    "Supplier_cost[0][1][1] = 9\n",
    "Supplier_cost[0][2][0] = 7\n",
    "\n",
    "Supplier_cost[1][0][2] = 12\n",
    "Supplier_cost[1][1][1] = 10\n",
    "Supplier_cost[1][2][0] = 8\n",
    "\n",
    "# Cost of transporting from suppliers\n",
    "\n",
    "T_O_DC = np.zeros((Products, Outsourced, Distribution))\n",
    "for m in range(Products):\n",
    "    for l in range(Outsourced):\n",
    "        for j in range(Distribution):\n",
    "            T_O_DC[m][l][j] = distances_l_j[l][j]/1000\n",
    "\n",
    "T_O_MZ = np.zeros((Products, Outsourced, Market))\n",
    "for m in range(Products):\n",
    "    for l in range(Outsourced):\n",
    "        for k in range(Market):\n",
    "            T_O_MZ[m][l][k] = distances_l_k[l][k]/1000\n",
    "\n",
    "# volume of products\n",
    "\n",
    "volume = np.random.uniform(0.01, 0.02,(Products))\n",
    "\n",
    "# unit cost of lost sales \n",
    "\n",
    "lost_sales = [[11, 9, 7]]*Market\n",
    "\n",
    "\n",
    "# demand of each product/ scenario\n",
    "demand = np.zeros((num_Scenarios, Products, Market))\n",
    "np.random.seed(0)\n",
    "for s in range(num_Scenarios):\n",
    "    for k in range(Market):\n",
    "        for m in range(Products):\n",
    "            demand[s][m][k] = np.round(np.random.normal(distribution_mat[m][0], distribution_mat[m][1]))\n",
    "\n",
    "# Compatibilities\n",
    "compatibility = [[0, 1, 0, 1, 1, 0],\n",
    "                 [1, 1, 0, 1, 0, 0],\n",
    "                 [0, 0, 1, 0, 0, 1]]"
   ]
  },
  {
   "cell_type": "code",
   "execution_count": 66,
   "metadata": {},
   "outputs": [],
   "source": [
    "np.savetxt(path + 'Input_Data/Instance_6/OpenMP_6.txt', f_i)\n",
    "np.savetxt(path + 'Input_Data/Instance_6/OpenDC_6.txt', f_j)\n",
    "np.savetxt(path + 'Input_Data/Instance_6/Manufacturing_6.txt', Manufacturing_costs)\n",
    "np.savetxt(path + 'Input_Data/Instance_6/TransMPDC_6.txt', Transportation_i_j.reshape((Products*Manufacturing_plants, Distribution)))\n",
    "np.savetxt(path + 'Input_Data/Instance_6/TransDCMZ_6.txt', Transportation_j_k.reshape((Products*Distribution, Market)))\n",
    "np.savetxt(path + 'Input_Data/Instance_6/CapacitiesMP_6.txt', Capacities_i)\n",
    "np.savetxt(path + 'Input_Data/Instance_6/CapacitiesDC_6.txt', Capacities_j)\n",
    "np.savetxt(path + 'Input_Data/Instance_6/CapacitiesOutsource_6.txt', Capacities_l)\n",
    "np.savetxt(path + 'Input_Data/Instance_6/SupplierCost_6.txt', Supplier_cost.reshape((levels*Products, Outsourced)))\n",
    "np.savetxt(path + 'Input_Data/Instance_6/TransSupplierDC_6.txt', T_O_DC.reshape((Products*Outsourced, Distribution)))\n",
    "np.savetxt(path + 'Input_Data/Instance_6/TransSupplierMZ_6.txt', T_O_MZ.reshape((Products*Outsourced, Market)))\n",
    "np.savetxt(path + 'Input_Data/Instance_6/Volume_6.txt', volume)\n",
    "np.savetxt(path + 'Input_Data/Instance_6/LostSales_6.txt', lost_sales)\n",
    "np.savetxt(path + 'Input_Data/Instance_6/Demand_6.txt', demand.reshape((num_Scenarios*Products, Market)))\n",
    "np.savetxt(path + 'Input_Data/Instance_6/Compatibilities_6.txt', compatibility)\n",
    "\n"
   ]
  },
  {
   "cell_type": "code",
   "execution_count": 67,
   "metadata": {},
   "outputs": [
    {
     "output_type": "execute_result",
     "data": {
      "text/plain": [
       "array([[[ 0.,  0., 11.],\n",
       "        [ 0.,  9.,  0.],\n",
       "        [ 7.,  0.,  0.]],\n",
       "\n",
       "       [[ 0.,  0., 12.],\n",
       "        [ 0., 10.,  0.],\n",
       "        [ 8.,  0.,  0.]]])"
      ]
     },
     "metadata": {},
     "execution_count": 67
    }
   ],
   "source": [
    "Supplier_cost"
   ]
  },
  {
   "cell_type": "code",
   "execution_count": 68,
   "metadata": {},
   "outputs": [
    {
     "output_type": "execute_result",
     "data": {
      "text/plain": [
       "107562.168"
      ]
     },
     "metadata": {},
     "execution_count": 68
    }
   ],
   "source": [
    "np.sum(demand[0][0])*0.027"
   ]
  },
  {
   "cell_type": "code",
   "execution_count": 53,
   "metadata": {},
   "outputs": [
    {
     "output_type": "execute_result",
     "data": {
      "text/plain": [
       "array([[141675., 142938., 139518., 138088., 139017., 137884., 137830.,\n",
       "        138732., 143015., 136504., 137411., 131751., 140260., 136199.,\n",
       "        132478., 135839., 132723., 138025., 136925., 137802., 135218.,\n",
       "        132425., 132680., 137138., 140019., 135185., 136174., 139387.,\n",
       "        140944.],\n",
       "       [138251., 150174., 133770., 136170., 135989., 147139., 128060.,\n",
       "        142024., 123183., 147454., 138073., 132173., 144769., 126481.,\n",
       "        150850., 124821., 133271., 130850., 138480., 129846., 132079.,\n",
       "        136442., 138760., 140924., 124967., 127925., 135456., 138784.,\n",
       "        150404.],\n",
       "       [136915., 129091., 132587., 138817., 134775., 132179., 122788.,\n",
       "        130031., 133183., 138877., 129449., 133625., 131451., 127320.,\n",
       "        130961., 136110., 129418., 128277., 133266., 131549., 129747.,\n",
       "        131393., 129371., 133516., 134609., 130685., 128339., 126855.,\n",
       "        137715.]])"
      ]
     },
     "metadata": {},
     "execution_count": 53
    }
   ],
   "source": [
    "demand[0]"
   ]
  },
  {
   "cell_type": "code",
   "execution_count": 64,
   "metadata": {},
   "outputs": [
    {
     "output_type": "execute_result",
     "data": {
      "text/plain": [
       "array([[[1.46547286, 1.45426787, 1.45156884, 1.45608613, 1.47364895,\n",
       "         1.46379589, 1.46147203, 1.44814365, 1.46419559, 1.4719215 ,\n",
       "         1.47123346, 1.46908147, 1.46732536, 1.46503236, 1.46639573,\n",
       "         1.46052335, 1.46732335, 1.47512985, 1.47668552, 1.47908124,\n",
       "         1.47376393, 1.4736357 , 1.47215424, 1.46906739, 1.46957798,\n",
       "         1.46979644, 1.47062956, 1.48350097, 1.50514435],\n",
       "        [0.05952008, 0.05233715, 0.04696935, 0.04932196, 0.07608382,\n",
       "         0.06676556, 0.06302007, 0.05843384, 0.06852485, 0.08006451,\n",
       "         0.07887114, 0.07730682, 0.0776461 , 0.07829991, 0.08002489,\n",
       "         0.08115499, 0.09224511, 0.07827765, 0.0817074 , 0.08663492,\n",
       "         0.07931287, 0.07789795, 0.0753887 , 0.07198679, 0.07442899,\n",
       "         0.07570652, 0.07704886, 0.10526128, 0.13660169],\n",
       "        [0.37616522, 0.37838791, 0.3840671 , 0.38391828, 0.35773237,\n",
       "         0.36449256, 0.36817521, 0.36928362, 0.3624167 , 0.35138629,\n",
       "         0.35258074, 0.35355382, 0.3524011 , 0.3508404 , 0.34924499,\n",
       "         0.34667629, 0.33574877, 0.35563508, 0.3518659 , 0.34660378,\n",
       "         0.35335611, 0.35519966, 0.35772652, 0.36048884, 0.35750958,\n",
       "         0.35594934, 0.35463258, 0.3250945 , 0.29540879]],\n",
       "\n",
       "       [[1.46547286, 1.45426787, 1.45156884, 1.45608613, 1.47364895,\n",
       "         1.46379589, 1.46147203, 1.44814365, 1.46419559, 1.4719215 ,\n",
       "         1.47123346, 1.46908147, 1.46732536, 1.46503236, 1.46639573,\n",
       "         1.46052335, 1.46732335, 1.47512985, 1.47668552, 1.47908124,\n",
       "         1.47376393, 1.4736357 , 1.47215424, 1.46906739, 1.46957798,\n",
       "         1.46979644, 1.47062956, 1.48350097, 1.50514435],\n",
       "        [0.05952008, 0.05233715, 0.04696935, 0.04932196, 0.07608382,\n",
       "         0.06676556, 0.06302007, 0.05843384, 0.06852485, 0.08006451,\n",
       "         0.07887114, 0.07730682, 0.0776461 , 0.07829991, 0.08002489,\n",
       "         0.08115499, 0.09224511, 0.07827765, 0.0817074 , 0.08663492,\n",
       "         0.07931287, 0.07789795, 0.0753887 , 0.07198679, 0.07442899,\n",
       "         0.07570652, 0.07704886, 0.10526128, 0.13660169],\n",
       "        [0.37616522, 0.37838791, 0.3840671 , 0.38391828, 0.35773237,\n",
       "         0.36449256, 0.36817521, 0.36928362, 0.3624167 , 0.35138629,\n",
       "         0.35258074, 0.35355382, 0.3524011 , 0.3508404 , 0.34924499,\n",
       "         0.34667629, 0.33574877, 0.35563508, 0.3518659 , 0.34660378,\n",
       "         0.35335611, 0.35519966, 0.35772652, 0.36048884, 0.35750958,\n",
       "         0.35594934, 0.35463258, 0.3250945 , 0.29540879]],\n",
       "\n",
       "       [[1.46547286, 1.45426787, 1.45156884, 1.45608613, 1.47364895,\n",
       "         1.46379589, 1.46147203, 1.44814365, 1.46419559, 1.4719215 ,\n",
       "         1.47123346, 1.46908147, 1.46732536, 1.46503236, 1.46639573,\n",
       "         1.46052335, 1.46732335, 1.47512985, 1.47668552, 1.47908124,\n",
       "         1.47376393, 1.4736357 , 1.47215424, 1.46906739, 1.46957798,\n",
       "         1.46979644, 1.47062956, 1.48350097, 1.50514435],\n",
       "        [0.05952008, 0.05233715, 0.04696935, 0.04932196, 0.07608382,\n",
       "         0.06676556, 0.06302007, 0.05843384, 0.06852485, 0.08006451,\n",
       "         0.07887114, 0.07730682, 0.0776461 , 0.07829991, 0.08002489,\n",
       "         0.08115499, 0.09224511, 0.07827765, 0.0817074 , 0.08663492,\n",
       "         0.07931287, 0.07789795, 0.0753887 , 0.07198679, 0.07442899,\n",
       "         0.07570652, 0.07704886, 0.10526128, 0.13660169],\n",
       "        [0.37616522, 0.37838791, 0.3840671 , 0.38391828, 0.35773237,\n",
       "         0.36449256, 0.36817521, 0.36928362, 0.3624167 , 0.35138629,\n",
       "         0.35258074, 0.35355382, 0.3524011 , 0.3508404 , 0.34924499,\n",
       "         0.34667629, 0.33574877, 0.35563508, 0.3518659 , 0.34660378,\n",
       "         0.35335611, 0.35519966, 0.35772652, 0.36048884, 0.35750958,\n",
       "         0.35594934, 0.35463258, 0.3250945 , 0.29540879]]])"
      ]
     },
     "metadata": {},
     "execution_count": 64
    }
   ],
   "source": [
    "T_O_MZ"
   ]
  },
  {
   "cell_type": "code",
   "execution_count": null,
   "metadata": {},
   "outputs": [],
   "source": []
  }
 ],
 "metadata": {
  "kernelspec": {
   "name": "python3",
   "display_name": "Python 3.7.4 64-bit ('env_gurobi': virtualenv)"
  },
  "language_info": {
   "codemirror_mode": {
    "name": "ipython",
    "version": 3
   },
   "file_extension": ".py",
   "mimetype": "text/x-python",
   "name": "python",
   "nbconvert_exporter": "python",
   "pygments_lexer": "ipython3",
   "version": "3.7.4"
  },
  "metadata": {
   "interpreter": {
    "hash": "ab66d84091635e28aaa655d19dc257d938f7e6a1e4d5fb0a631906b26faaf625"
   }
  },
  "interpreter": {
   "hash": "ab66d84091635e28aaa655d19dc257d938f7e6a1e4d5fb0a631906b26faaf625"
  }
 },
 "nbformat": 4,
 "nbformat_minor": 5
}