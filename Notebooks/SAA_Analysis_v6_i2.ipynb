{
 "cells": [
  {
   "cell_type": "code",
   "execution_count": 1,
   "source": [
    "import numpy as np\n",
    "import itertools\n",
    "import random\n",
    "from statistics import stdev\n",
    "import math\n",
    "import ast"
   ],
   "outputs": [],
   "metadata": {}
  },
  {
   "cell_type": "code",
   "execution_count": 2,
   "source": [
    "\n",
    "p_running = 0.9\n",
    "p_failure = 1 - p_running\n",
    "path = '/home/dkabe/Model_brainstorming/SAA_Analysis_v6/Instance_2/'"
   ],
   "outputs": [],
   "metadata": {}
  },
  {
   "cell_type": "code",
   "execution_count": null,
   "source": [],
   "outputs": [],
   "metadata": {}
  },
  {
   "cell_type": "code",
   "execution_count": 7,
   "source": [
    "N = [64, 128, 192, 256, 320, 384, 448]\n",
    "N = [192, 256, 320, 384]\n",
    "batches = 30\n",
    "Products = 3\n",
    "Market = 29\n",
    "text_file = open(path + 'Disruption_scenarios.txt', \"r\")\n",
    "ls = text_file.read().split('\\n')[:-1]\n",
    "Scenarios = list(map(lambda x: ast.literal_eval(x), ls))\n",
    "Probabilities = np.loadtxt(path + \"disruption_probabilities.txt\")\n",
    "num_disruption = len(Scenarios)"
   ],
   "outputs": [],
   "metadata": {}
  },
  {
   "cell_type": "code",
   "execution_count": 8,
   "source": [
    "p1_mean = 137000\n",
    "p2_mean = 135000\n",
    "p3_mean = 133000\n",
    "\n",
    "p1_sd = 2650\n",
    "p2_sd = 8125\n",
    "p3_sd = 4000\n",
    "\n",
    "distribution_mat = [[p1_mean, p1_sd],\n",
    "                  [p2_mean, p2_sd],\n",
    "                  [p3_mean, p3_sd]]"
   ],
   "outputs": [],
   "metadata": {}
  },
  {
   "cell_type": "code",
   "execution_count": 9,
   "source": [
    "np.random.seed(2)\n",
    "nominal_demand = np.zeros((Products, Market))\n",
    "for m in range(Products):\n",
    "    nominal_demand[m] = np.round(np.random.normal(distribution_mat[0][0], distribution_mat[0][1], size = 29))\n",
    "    nominal_demand[m] = np.round(np.random.normal(distribution_mat[1][0], distribution_mat[1][1], size = 29))\n",
    "    nominal_demand[m] = np.round(np.random.normal(distribution_mat[2][0], distribution_mat[2][1], size = 29))"
   ],
   "outputs": [],
   "metadata": {}
  },
  {
   "cell_type": "code",
   "execution_count": 25,
   "source": [
    "delta = np.arange(0.75, 1.255, 0.005)"
   ],
   "outputs": [],
   "metadata": {}
  },
  {
   "cell_type": "code",
   "execution_count": 26,
   "source": [
    "demand_realization = len(delta)\n"
   ],
   "outputs": [],
   "metadata": {}
  },
  {
   "cell_type": "code",
   "execution_count": 12,
   "source": [
    "random.seed(2)\n",
    "demand = np.zeros((demand_realization, Products, Market))\n",
    "for r in range(demand_realization):\n",
    "    demand[r] = delta[r]*nominal_demand"
   ],
   "outputs": [],
   "metadata": {}
  },
  {
   "cell_type": "code",
   "execution_count": 13,
   "source": [
    "S = demand_realization*Scenarios\n",
    "S_demand = []\n",
    "S_prob = list(Probabilities)*demand_realization\n",
    "multiplier = sum(S_prob)\n",
    "S_prob = list(map(lambda x: x/multiplier, S_prob))\n",
    "for r in range(demand_realization):\n",
    "    S_demand+=([demand[r]]*num_disruption)"
   ],
   "outputs": [],
   "metadata": {}
  },
  {
   "cell_type": "code",
   "execution_count": 14,
   "source": [
    "len(S_demand)"
   ],
   "outputs": [
    {
     "output_type": "execute_result",
     "data": {
      "text/plain": [
       "103424"
      ]
     },
     "metadata": {},
     "execution_count": 14
    }
   ],
   "metadata": {}
  },
  {
   "cell_type": "code",
   "execution_count": 264,
   "source": [
    "random.seed(2)\n",
    "evaluation_indices = random.sample(range(len(S)), 10000)\n",
    "evaluation_set = [S[index] for index in evaluation_indices]\n",
    "evaluation_demand = np.array([S_demand[index] for index in evaluation_indices])\n",
    "eval_probabilities = [S_prob[index] for index in evaluation_indices]\n",
    "p_factor = sum(eval_probabilities)\n",
    "eval_probabilities = list(map(lambda x: x/p_factor, eval_probabilities))\n",
    "#with open(path + 'Evaluation_Set.txt', 'w+') as f:\n",
    " #   for item in evaluation_set:\n",
    "  #      f.write(\"%s\\n\" % item)\n",
    "#f.close()\n",
    "#np.savetxt(path + \"p_scen.txt\", eval_probabilities)\n",
    "#np.savetxt(path + \"eval_set_demand.txt\", evaluation_demand.reshape((10000*3,29)))"
   ],
   "outputs": [],
   "metadata": {}
  },
  {
   "cell_type": "code",
   "execution_count": 15,
   "source": [
    "np.mean(nominal_demand)"
   ],
   "outputs": [
    {
     "output_type": "execute_result",
     "data": {
      "text/plain": [
       "132825.54022988505"
      ]
     },
     "metadata": {},
     "execution_count": 15
    }
   ],
   "metadata": {}
  },
  {
   "cell_type": "code",
   "execution_count": 16,
   "source": [
    "#random.seed(2)\n",
    "N = [320, 384]\n",
    "random.seed(3)\n",
    "for num_scen in N:\n",
    "    for batch in range(batches):\n",
    "        indices = random.sample(range(len(S)), num_scen)\n",
    "        sample_scenarios = [S[index] for index in indices]\n",
    "        p_sample_scenarios = [S_prob[index] for index in indices]\n",
    "        demand = np.array([S_demand[index] for index in indices])\n",
    "        p_factor = 1/np.sum(p_sample_scenarios)\n",
    "        p_sample_scenarios = list(map(lambda x: x*p_factor, p_sample_scenarios))  \n",
    "        #with open(path + 'Scenarios/' + str(num_scen) + '_' + str(batch) + '.txt', 'w+') as f:\n",
    "         #   for item in sample_scenarios:\n",
    "          #      f.write(\"%s\\n\" % item)\n",
    "        #f.close()\n",
    "        #np.savetxt(path + 'Scen_probabilities/' + 'p_scen_' + str(num_scen) + '_' + str(batch) + '.txt', p_sample_scenarios)\n",
    "        #np.savetxt(path + 'Scen_demand/' + 'demand_' + str(num_scen) + '_' + str(batch) + '.txt', demand.reshape((num_scen*Products, Market)))"
   ],
   "outputs": [],
   "metadata": {}
  },
  {
   "cell_type": "code",
   "execution_count": null,
   "source": [],
   "outputs": [],
   "metadata": {}
  },
  {
   "cell_type": "code",
   "execution_count": 4,
   "source": [
    "# version 2\n",
    "batches=30\n",
    "path = '/home/dkabe/Model_brainstorming/SAA_Analysis_v6/Instance_2/'\n",
    "N = [64, 128, 192, 256, 320, 384]#, 448]\n",
    "p_scen = np.loadtxt('/home/dkabe/Model_brainstorming/SAA_Analysis_v6/Instance_2/p_scen.txt')\n",
    "p_factor = 1/np.sum(p_scen)\n",
    "p_scen = list(map(lambda x: x*p_factor, p_scen))  \n",
    "for scen in N:\n",
    "    gaps = []\n",
    "    ub_averages = []\n",
    "    ub_max = []\n",
    "    objvals_lb = np.loadtxt(path + \"Objectives/\" + str(scen) + '_results.txt')\n",
    "    avg_lb = (np.mean(objvals_lb))\n",
    "    std_lb = (stdev(objvals_lb))\n",
    "    lbwidth = std_lb/math.sqrt(batches)*2.045\n",
    "    lbmin = round(avg_lb - lbwidth,2)\n",
    "    #print(avg_lb, lbmin)\n",
    "    #print('ci on lower bound = [', round(avg_lb-lbwidth,2), ',', round(avg_lb+lbwidth,2), ']')\n",
    "    for batch in(range(30)):\n",
    "        objvals_ub = np.loadtxt(path + \"Upper_Bounds/\" + str(scen) + \"_scenarios/\" + str(scen) + \"_\" + str(batch) + \"_UB_results.txt\")\n",
    "        if objvals_ub.ndim == 1:\n",
    "            avg_ub = (np.sum(p_scen*objvals_ub))\n",
    "            std_ub = math.sqrt(np.sum(p_scen*((objvals_ub - avg_ub)**2)))\n",
    "        else:\n",
    "            avg_ub = np.sum(objvals_ub[:,0]*objvals_ub[:,1])\n",
    "            std_ub = math.sqrt(np.sum(objvals_ub[:,1]*((objvals_ub[:,0] - avg_ub)**2)))\n",
    "        ubwidth = std_ub/math.sqrt(10000)*1.96\n",
    "        ubmax = round(avg_ub + ubwidth, 2)\n",
    "        gap = round(100*((ubmax - lbmin)/lbmin),2)\n",
    "        ub_averages.append(avg_ub)\n",
    "        gaps.append(gap)\n",
    "        ub_max.append(ubmax)\n",
    "    min_gap = min(filter(lambda x: x > 1, gaps))\n",
    "    #min_gap = min(gaps)\n",
    "    index = gaps.index(min_gap)\n",
    "    #print(ub_averages[index], ub_max[index], min_gap)\n",
    "    print(avg_lb, \"\\t\", ub_averages[index], \"\\t\", lbmin, \"\\t\", ub_max[index], \"\\t\", min_gap)\n"
   ],
   "outputs": [
    {
     "output_type": "stream",
     "name": "stdout",
     "text": [
      "19458903.614666663 \t 18769597.018186823 \t 18102573.67 \t 18902409.12 \t 4.42\n",
      "18638379.359333333 \t 18769597.018186823 \t 18066598.58 \t 18902409.12 \t 4.63\n",
      "19960198.382333335 \t 19068002.216944017 \t 18928946.12 \t 19193974.7 \t 1.4\n",
      "19287677.265666667 \t 18931322.91052776 \t 18847858.71 \t 19053501.5 \t 1.09\n",
      "19324339.008666668 \t 18769597.018186823 \t 18675592.3 \t 18902409.12 \t 1.21\n",
      "19499365.700999998 \t 19068002.216944017 \t 18914564.42 \t 19193974.7 \t 1.48\n"
     ]
    }
   ],
   "metadata": {}
  },
  {
   "cell_type": "code",
   "execution_count": 42,
   "source": [
    "sorted(gaps)"
   ],
   "outputs": [
    {
     "output_type": "execute_result",
     "data": {
      "text/plain": [
       "[-0.06,\n",
       " -0.06,\n",
       " -0.06,\n",
       " -0.06,\n",
       " -0.06,\n",
       " -0.06,\n",
       " -0.06,\n",
       " 0.21,\n",
       " 0.21,\n",
       " 0.21,\n",
       " 0.21,\n",
       " 0.21,\n",
       " 0.73,\n",
       " 0.73,\n",
       " 0.73,\n",
       " 0.83,\n",
       " 0.83,\n",
       " 1.48,\n",
       " 1.48,\n",
       " 5.32,\n",
       " 5.36,\n",
       " 6.5,\n",
       " 7.23,\n",
       " 7.53,\n",
       " 8.02,\n",
       " 10.58,\n",
       " 11.3,\n",
       " 11.3,\n",
       " 11.92,\n",
       " 13.68]"
      ]
     },
     "metadata": {},
     "execution_count": 42
    }
   ],
   "metadata": {}
  },
  {
   "cell_type": "code",
   "execution_count": 10,
   "source": [
    "random.seed(4)\n",
    "indices = random.sample(range(len(S)), 192)\n",
    "sample_scenarios = [S[index] for index in indices]\n",
    "p_sample_scenarios = [S_prob[index] for index in indices]\n",
    "demand = np.array([S_demand[index] for index in indices])\n",
    "p_factor = 1/np.sum(p_sample_scenarios)\n",
    "p_sample_scenarios = list(map(lambda x: x*p_factor, p_sample_scenarios))  \n",
    "#with open(\"/home/dkabe/Model_brainstorming/Input_Data/Realistic/Instance_2/scen_2.txt\", 'w+') as f:\n",
    " #   for item in sample_scenarios:\n",
    "  #      f.write(\"%s\\n\" % item)\n",
    "#f.close()\n",
    "#np.savetxt(\"/home/dkabe/Model_brainstorming/Input_Data/Realistic/Instance_2/p_scen_2.txt\", p_sample_scenarios)\n",
    "#np.savetxt(\"/home/dkabe/Model_brainstorming/Input_Data/Realistic/Instance_2/Demand_2.txt\", demand.reshape((192*Products, Market)))"
   ],
   "outputs": [],
   "metadata": {}
  },
  {
   "cell_type": "code",
   "execution_count": 17,
   "source": [
    "l1 = [192, 256, 320, 384]\n",
    "for num in l1:\n",
    "    objvals_lb = np.loadtxt(path + \"Objectives/\" + str(num) + '_results.txt')\n",
    "    print(np.mean(objvals_lb))\n"
   ],
   "outputs": [
    {
     "output_type": "stream",
     "name": "stdout",
     "text": [
      "19960198.382333335\n",
      "19287677.265666667\n",
      "19324339.008666668\n",
      "19499365.700999998\n"
     ]
    }
   ],
   "metadata": {}
  },
  {
   "cell_type": "code",
   "execution_count": 231,
   "source": [
    "sum(eval_probabilities)"
   ],
   "outputs": [
    {
     "output_type": "execute_result",
     "data": {
      "text/plain": [
       "1.0000000000000158"
      ]
     },
     "metadata": {},
     "execution_count": 231
    }
   ],
   "metadata": {}
  },
  {
   "cell_type": "code",
   "execution_count": 236,
   "source": [],
   "outputs": [
    {
     "output_type": "execute_result",
     "data": {
      "text/plain": [
       "[4.87, 3.59, 3.59]"
      ]
     },
     "metadata": {},
     "execution_count": 236
    }
   ],
   "metadata": {}
  },
  {
   "cell_type": "code",
   "execution_count": null,
   "source": [],
   "outputs": [],
   "metadata": {}
  }
 ],
 "metadata": {
  "orig_nbformat": 4,
  "language_info": {
   "name": "python",
   "version": "3.7.4",
   "mimetype": "text/x-python",
   "codemirror_mode": {
    "name": "ipython",
    "version": 3
   },
   "pygments_lexer": "ipython3",
   "nbconvert_exporter": "python",
   "file_extension": ".py"
  },
  "kernelspec": {
   "name": "python3",
   "display_name": "Python 3.7.4 64-bit ('env_gurobi': virtualenv)"
  },
  "interpreter": {
   "hash": "ab66d84091635e28aaa655d19dc257d938f7e6a1e4d5fb0a631906b26faaf625"
  }
 },
 "nbformat": 4,
 "nbformat_minor": 2
}