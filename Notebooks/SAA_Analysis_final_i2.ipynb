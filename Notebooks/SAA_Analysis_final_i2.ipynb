{
 "cells": [
  {
   "cell_type": "code",
   "execution_count": 1,
   "source": [
    "import numpy as np\n",
    "import itertools\n",
    "import random\n",
    "from statistics import stdev\n",
    "import math\n",
    "import ast"
   ],
   "outputs": [],
   "metadata": {}
  },
  {
   "cell_type": "code",
   "execution_count": 2,
   "source": [
    "\n",
    "p_running = 0.9\n",
    "p_failure = 1 - p_running\n",
    "path = '/home/dkabe/SC_Resilience/SAA_Analysis_v7/Instance_2/'"
   ],
   "outputs": [],
   "metadata": {}
  },
  {
   "cell_type": "code",
   "execution_count": null,
   "source": [],
   "outputs": [],
   "metadata": {}
  },
  {
   "cell_type": "code",
   "execution_count": 3,
   "source": [
    "N = [64, 128, 192, 256, 320, 384]\n",
    "batches = 30\n",
    "Products = 3\n",
    "Market = 29\n",
    "text_file = open(path + 'Disruption_scenarios.txt', \"r\")\n",
    "ls = text_file.read().split('\\n')[:-1]\n",
    "Scenarios = list(map(lambda x: ast.literal_eval(x), ls))\n",
    "Probabilities = np.loadtxt(path + \"disruption_probabilities.txt\")\n",
    "num_disruption = len(Scenarios)"
   ],
   "outputs": [],
   "metadata": {}
  },
  {
   "cell_type": "code",
   "execution_count": 4,
   "source": [
    "p1_mean = 137000\n",
    "p2_mean = 135000\n",
    "p3_mean = 133000\n",
    "\n",
    "p1_sd = 2650\n",
    "p2_sd = 8125\n",
    "p3_sd = 4000\n",
    "\n",
    "distribution_mat = [[p1_mean, p1_sd],\n",
    "                  [p2_mean, p2_sd],\n",
    "                  [p3_mean, p3_sd]]"
   ],
   "outputs": [],
   "metadata": {}
  },
  {
   "cell_type": "code",
   "execution_count": 5,
   "source": [
    "np.random.seed(2)\n",
    "nominal_demand = np.zeros((Products, Market))\n",
    "for m in range(Products):\n",
    "    nominal_demand[m] = np.round(np.random.normal(distribution_mat[0][0], distribution_mat[0][1], size = 29))\n",
    "    nominal_demand[m] = np.round(np.random.normal(distribution_mat[1][0], distribution_mat[1][1], size = 29))\n",
    "    nominal_demand[m] = np.round(np.random.normal(distribution_mat[2][0], distribution_mat[2][1], size = 29))"
   ],
   "outputs": [],
   "metadata": {}
  },
  {
   "cell_type": "code",
   "execution_count": 6,
   "source": [
    "delta = np.arange(0.75, 1.255, 0.005)"
   ],
   "outputs": [],
   "metadata": {}
  },
  {
   "cell_type": "code",
   "execution_count": 7,
   "source": [
    "demand_realization = len(delta)\n"
   ],
   "outputs": [],
   "metadata": {}
  },
  {
   "cell_type": "code",
   "execution_count": 9,
   "source": [
    "random.seed(2)\n",
    "demand = np.zeros((demand_realization, Products, Market))\n",
    "for r in range(demand_realization):\n",
    "    demand[r] = delta[r]*nominal_demand"
   ],
   "outputs": [],
   "metadata": {}
  },
  {
   "cell_type": "code",
   "execution_count": 10,
   "source": [
    "S = demand_realization*Scenarios\n",
    "S_demand = []\n",
    "S_prob = list(Probabilities)*demand_realization\n",
    "multiplier = sum(S_prob)\n",
    "S_prob = list(map(lambda x: x/multiplier, S_prob))\n",
    "for r in range(demand_realization):\n",
    "    S_demand+=([demand[r]]*num_disruption)"
   ],
   "outputs": [],
   "metadata": {}
  },
  {
   "cell_type": "code",
   "execution_count": 13,
   "source": [
    "list(set(S_prob))"
   ],
   "outputs": [
    {
     "output_type": "execute_result",
     "data": {
      "text/plain": [
       "[4.2620515841642346e-05,\n",
       " 7.217821782188064e-10,\n",
       " 9.900990099023399e-13,\n",
       " 0.0003835846425747812,\n",
       " 8.019801980208958e-11,\n",
       " 8.910891089121062e-12,\n",
       " 4.735612871293593e-06,\n",
       " 0.003452261783173032,\n",
       " 5.261792079215101e-07,\n",
       " 6.496039603969258e-09,\n",
       " 5.846435643572334e-08]"
      ]
     },
     "metadata": {},
     "execution_count": 13
    }
   ],
   "metadata": {}
  },
  {
   "cell_type": "code",
   "execution_count": 23,
   "source": [
    "np.random.seed(2)\n",
    "evaluation_indices = np.random.choice(range(len(S)), 10000, p = S_prob)\n",
    "evaluation_set = [S[index] for index in evaluation_indices]\n",
    "evaluation_demand = np.array([S_demand[index] for index in evaluation_indices])\n",
    "with open(path + 'Evaluation_Set.txt', 'w+') as f:\n",
    "    for item in evaluation_set:\n",
    "        f.write(\"%s\\n\" % item)\n",
    "f.close()\n",
    "np.savetxt(path + \"eval_set_demand.txt\", evaluation_demand.reshape((10000*3,29)))"
   ],
   "outputs": [],
   "metadata": {}
  },
  {
   "cell_type": "code",
   "execution_count": 14,
   "source": [
    "path"
   ],
   "outputs": [
    {
     "output_type": "execute_result",
     "data": {
      "text/plain": [
       "'/home/dkabe/Model_brainstorming/SAA_Analysis_v6/Instance_2/'"
      ]
     },
     "metadata": {},
     "execution_count": 14
    }
   ],
   "metadata": {}
  },
  {
   "cell_type": "code",
   "execution_count": 24,
   "source": [
    "#random.seed(2)\n",
    "np.random.seed(2)\n",
    "for num_scen in N:\n",
    "    for batch in range(batches):\n",
    "        indices = np.random.choice(range(len(S)), num_scen, p = S_prob)\n",
    "        sample_scenarios = [S[index] for index in indices]\n",
    "        demand = np.array([S_demand[index] for index in indices])\n",
    "        with open(path + 'Scenarios/' + str(num_scen) + '_' + str(batch) + '.txt', 'w+') as f:\n",
    "            for item in sample_scenarios:\n",
    "                f.write(\"%s\\n\" % item)\n",
    "        f.close()\n",
    "        np.savetxt(path + 'Scen_demand/' + 'demand_' + str(num_scen) + '_' + str(batch) + '.txt', demand.reshape((num_scen*Products, Market)))"
   ],
   "outputs": [],
   "metadata": {}
  },
  {
   "cell_type": "code",
   "execution_count": null,
   "source": [],
   "outputs": [],
   "metadata": {}
  },
  {
   "cell_type": "code",
   "execution_count": 18,
   "source": [
    "# version 2\n",
    "batches=30\n",
    "path = '/home/dkabe/SC_Resilience/SAA_Analysis_v7/Instance_2/'\n",
    "N = [64, 128, 192, 256, 320, 384]\n",
    "for scen in N:\n",
    "    gaps = []\n",
    "    ub_averages = []\n",
    "    ub_max = []\n",
    "    objvals_lb = np.loadtxt(path + \"Objectives/\" + str(scen) + '_results.txt')\n",
    "    avg_lb = (np.mean(objvals_lb))\n",
    "    std_lb = (stdev(objvals_lb))\n",
    "    lbwidth = std_lb/math.sqrt(batches)*2.045\n",
    "    lbmin = round(avg_lb - lbwidth,2)\n",
    "    #print(avg_lb, lbmin)\n",
    "    #print('ci on lower bound = [', round(avg_lb-lbwidth,2), ',', round(avg_lb+lbwidth,2), ']')\n",
    "    for batch in range(batches):\n",
    "        objvals_ub = np.loadtxt(path + \"Upper_Bounds/\" + str(scen) + \"_scenarios/\" + str(scen) + \"_\" + str(batch) + \"_UB_results.txt\")\n",
    "        objvals_ub = random.sample(list(objvals_ub), 10000)\n",
    "        avg_ub = (np.mean(objvals_ub))\n",
    "        std_ub = stdev(objvals_lb)\n",
    "        ubwidth = std_ub/math.sqrt(10000)*1.96\n",
    "        ubmax = round(avg_ub + ubwidth, 2)\n",
    "        gap = round(100*((ubmax - lbmin)/lbmin),2)\n",
    "        ub_averages.append(avg_ub)\n",
    "        gaps.append(gap)\n",
    "        ub_max.append(ubmax)\n",
    "    #min_gap = min(filter(lambda x: x >= 0, gaps))\n",
    "    min_gap = min(gaps)\n",
    "    index = gaps.index(min_gap)\n",
    "    #print(ub_averages[index], ub_max[index], min_gap)\n",
    "    print(avg_lb, \"\\t\", ub_averages[index], \"\\t\", lbmin, \"\\t\", ub_max[index], \"\\t\", min_gap, \"\\t\")"
   ],
   "outputs": [
    {
     "output_type": "stream",
     "name": "stdout",
     "text": [
      "18299598.841666665 \t 18879316.523106 \t 18019661.39 \t 18894012.02 \t 4.85 \t\n",
      "18573639.854333334 \t 18879316.523106 \t 18382379.56 \t 18889356.86 \t 2.76 \t\n",
      "18753761.070666663 \t 18879316.523106 \t 18596890.89 \t 18887551.53 \t 1.56 \t\n",
      "18810684.27766667 \t 18879316.523106 \t 18662278.37 \t 18887107.19 \t 1.2 \t\n",
      "18742354.325000003 \t 18879316.523106 \t 18615574.6 \t 18885971.91 \t 1.45 \t\n",
      "18855796.759666666 \t 18951629.325280998 \t 18740337.54 \t 18957690.43 \t 1.16 \t\n"
     ]
    }
   ],
   "metadata": {}
  },
  {
   "cell_type": "code",
   "execution_count": 16,
   "source": [
    "std_ub"
   ],
   "outputs": [
    {
     "output_type": "execute_result",
     "data": {
      "text/plain": [
       "309240.19639346097"
      ]
     },
     "metadata": {},
     "execution_count": 16
    }
   ],
   "metadata": {}
  },
  {
   "cell_type": "code",
   "execution_count": 14,
   "source": [
    "indices = np.random.choice(range(len(S)), 192, p = S_prob)\n",
    "sample_scenarios = [S[index] for index in indices]\n",
    "demand = np.array([S_demand[index] for index in indices])\n",
    "with open(\"/home/dkabe/SC_Resilience/Input_Data/Realistic/Instance_2/scen_2.txt\", 'w+') as f:\n",
    "    for item in sample_scenarios:\n",
    "        f.write(\"%s\\n\" % item)\n",
    "f.close()\n",
    "np.savetxt(\"/home/dkabe/SC_Resilience/Input_Data/Realistic/Instance_2/Demand_2.txt\", demand.reshape((192*Products, Market)))"
   ],
   "outputs": [],
   "metadata": {}
  },
  {
   "cell_type": "code",
   "execution_count": 231,
   "source": [
    "sum(eval_probabilities)"
   ],
   "outputs": [
    {
     "output_type": "execute_result",
     "data": {
      "text/plain": [
       "1.0000000000000158"
      ]
     },
     "metadata": {},
     "execution_count": 231
    }
   ],
   "metadata": {}
  },
  {
   "cell_type": "code",
   "execution_count": 236,
   "source": [],
   "outputs": [
    {
     "output_type": "execute_result",
     "data": {
      "text/plain": [
       "[4.87, 3.59, 3.59]"
      ]
     },
     "metadata": {},
     "execution_count": 236
    }
   ],
   "metadata": {}
  },
  {
   "cell_type": "code",
   "execution_count": 32,
   "source": [
    "x = np.loadtxt(\"/home/dkabe/SC_Resilience/SAA_Analysis_v7/Instance_2/Objectives/384_results.txt\")"
   ],
   "outputs": [],
   "metadata": {}
  },
  {
   "cell_type": "code",
   "execution_count": 30,
   "source": [
    "import matplotlib.pyplot as plt"
   ],
   "outputs": [],
   "metadata": {}
  },
  {
   "cell_type": "code",
   "execution_count": 51,
   "source": [
    "plt.hist(x,bins=200)"
   ],
   "outputs": [
    {
     "output_type": "execute_result",
     "data": {
      "text/plain": [
       "(array([1., 0., 0., 0., 0., 0., 0., 0., 0., 0., 0., 0., 0., 0., 0., 1., 0.,\n",
       "        0., 0., 0., 0., 0., 0., 0., 0., 0., 0., 0., 0., 1., 1., 0., 0., 1.,\n",
       "        1., 0., 0., 1., 0., 0., 1., 1., 0., 1., 0., 0., 1., 1., 0., 0., 0.,\n",
       "        2., 0., 0., 0., 0., 0., 0., 0., 0., 0., 0., 0., 0., 0., 0., 0., 0.,\n",
       "        0., 0., 0., 0., 0., 1., 0., 0., 0., 0., 0., 1., 0., 1., 0., 0., 0.,\n",
       "        2., 0., 0., 0., 1., 0., 0., 1., 0., 0., 0., 0., 0., 1., 0., 0., 0.,\n",
       "        0., 1., 1., 1., 0., 0., 0., 0., 0., 0., 0., 0., 0., 1., 0., 0., 0.,\n",
       "        0., 0., 0., 0., 0., 0., 0., 0., 0., 0., 0., 0., 0., 0., 0., 0., 1.,\n",
       "        0., 0., 0., 0., 1., 0., 0., 0., 0., 0., 0., 0., 0., 0., 0., 1., 0.,\n",
       "        0., 0., 0., 0., 0., 0., 0., 0., 0., 0., 0., 0., 0., 0., 0., 0., 0.,\n",
       "        0., 0., 0., 0., 0., 0., 0., 0., 0., 0., 0., 0., 0., 0., 0., 0., 0.,\n",
       "        0., 0., 0., 0., 0., 0., 0., 0., 0., 0., 0., 0., 1.]),\n",
       " array([18342495.4   , 18349360.0654, 18356224.7308, 18363089.3962,\n",
       "        18369954.0616, 18376818.727 , 18383683.3924, 18390548.0578,\n",
       "        18397412.7232, 18404277.3886, 18411142.054 , 18418006.7194,\n",
       "        18424871.3848, 18431736.0502, 18438600.7156, 18445465.381 ,\n",
       "        18452330.0464, 18459194.7118, 18466059.3772, 18472924.0426,\n",
       "        18479788.708 , 18486653.3734, 18493518.0388, 18500382.7042,\n",
       "        18507247.3696, 18514112.035 , 18520976.7004, 18527841.3658,\n",
       "        18534706.0312, 18541570.6966, 18548435.362 , 18555300.0274,\n",
       "        18562164.6928, 18569029.3582, 18575894.0236, 18582758.689 ,\n",
       "        18589623.3544, 18596488.0198, 18603352.6852, 18610217.3506,\n",
       "        18617082.016 , 18623946.6814, 18630811.3468, 18637676.0122,\n",
       "        18644540.6776, 18651405.343 , 18658270.0084, 18665134.6738,\n",
       "        18671999.3392, 18678864.0046, 18685728.67  , 18692593.3354,\n",
       "        18699458.0008, 18706322.6662, 18713187.3316, 18720051.997 ,\n",
       "        18726916.6624, 18733781.3278, 18740645.9932, 18747510.6586,\n",
       "        18754375.324 , 18761239.9894, 18768104.6548, 18774969.3202,\n",
       "        18781833.9856, 18788698.651 , 18795563.3164, 18802427.9818,\n",
       "        18809292.6472, 18816157.3126, 18823021.978 , 18829886.6434,\n",
       "        18836751.3088, 18843615.9742, 18850480.6396, 18857345.305 ,\n",
       "        18864209.9704, 18871074.6358, 18877939.3012, 18884803.9666,\n",
       "        18891668.632 , 18898533.2974, 18905397.9628, 18912262.6282,\n",
       "        18919127.2936, 18925991.959 , 18932856.6244, 18939721.2898,\n",
       "        18946585.9552, 18953450.6206, 18960315.286 , 18967179.9514,\n",
       "        18974044.6168, 18980909.2822, 18987773.9476, 18994638.613 ,\n",
       "        19001503.2784, 19008367.9438, 19015232.6092, 19022097.2746,\n",
       "        19028961.94  , 19035826.6054, 19042691.2708, 19049555.9362,\n",
       "        19056420.6016, 19063285.267 , 19070149.9324, 19077014.5978,\n",
       "        19083879.2632, 19090743.9286, 19097608.594 , 19104473.2594,\n",
       "        19111337.9248, 19118202.5902, 19125067.2556, 19131931.921 ,\n",
       "        19138796.5864, 19145661.2518, 19152525.9172, 19159390.5826,\n",
       "        19166255.248 , 19173119.9134, 19179984.5788, 19186849.2442,\n",
       "        19193713.9096, 19200578.575 , 19207443.2404, 19214307.9058,\n",
       "        19221172.5712, 19228037.2366, 19234901.902 , 19241766.5674,\n",
       "        19248631.2328, 19255495.8982, 19262360.5636, 19269225.229 ,\n",
       "        19276089.8944, 19282954.5598, 19289819.2252, 19296683.8906,\n",
       "        19303548.556 , 19310413.2214, 19317277.8868, 19324142.5522,\n",
       "        19331007.2176, 19337871.883 , 19344736.5484, 19351601.2138,\n",
       "        19358465.8792, 19365330.5446, 19372195.21  , 19379059.8754,\n",
       "        19385924.5408, 19392789.2062, 19399653.8716, 19406518.537 ,\n",
       "        19413383.2024, 19420247.8678, 19427112.5332, 19433977.1986,\n",
       "        19440841.864 , 19447706.5294, 19454571.1948, 19461435.8602,\n",
       "        19468300.5256, 19475165.191 , 19482029.8564, 19488894.5218,\n",
       "        19495759.1872, 19502623.8526, 19509488.518 , 19516353.1834,\n",
       "        19523217.8488, 19530082.5142, 19536947.1796, 19543811.845 ,\n",
       "        19550676.5104, 19557541.1758, 19564405.8412, 19571270.5066,\n",
       "        19578135.172 , 19584999.8374, 19591864.5028, 19598729.1682,\n",
       "        19605593.8336, 19612458.499 , 19619323.1644, 19626187.8298,\n",
       "        19633052.4952, 19639917.1606, 19646781.826 , 19653646.4914,\n",
       "        19660511.1568, 19667375.8222, 19674240.4876, 19681105.153 ,\n",
       "        19687969.8184, 19694834.4838, 19701699.1492, 19708563.8146,\n",
       "        19715428.48  ]),\n",
       " <BarContainer object of 200 artists>)"
      ]
     },
     "metadata": {},
     "execution_count": 51
    },
    {
     "output_type": "display_data",
     "data": {
      "image/png": "[encoded data removed]",
      "text/plain": [
       "<Figure size 432x288 with 1 Axes>"
      ]
     },
     "metadata": {
      "needs_background": "light"
     }
    }
   ],
   "metadata": {}
  },
  {
   "cell_type": "code",
   "execution_count": 36,
   "source": [
    "np.mean([ 2.2, 2.2, 1.1, 2.2, 2.2, 3.3, 3.3, 2.2, 3.3, 3.3])\n"
   ],
   "outputs": [
    {
     "output_type": "execute_result",
     "data": {
      "text/plain": [
       "2.5300000000000002"
      ]
     },
     "metadata": {},
     "execution_count": 36
    }
   ],
   "metadata": {}
  },
  {
   "cell_type": "code",
   "execution_count": 54,
   "source": [
    "elements = [1.1, 2.2, 3.3]\n",
    "probabilities = [0.2, 0.5, 0.3]\n",
    "sample = np.random.choice(elements, 100, p=probabilities)\n"
   ],
   "outputs": [],
   "metadata": {}
  },
  {
   "cell_type": "code",
   "execution_count": 55,
   "source": [
    "np.mean(sample)"
   ],
   "outputs": [
    {
     "output_type": "execute_result",
     "data": {
      "text/plain": [
       "2.134"
      ]
     },
     "metadata": {},
     "execution_count": 55
    }
   ],
   "metadata": {}
  },
  {
   "cell_type": "code",
   "execution_count": 50,
   "source": [
    "sum(np.array(elements)*np.array(probabilities))"
   ],
   "outputs": [
    {
     "output_type": "execute_result",
     "data": {
      "text/plain": [
       "2.31"
      ]
     },
     "metadata": {},
     "execution_count": 50
    }
   ],
   "metadata": {}
  },
  {
   "cell_type": "code",
   "execution_count": null,
   "source": [],
   "outputs": [],
   "metadata": {}
  }
 ],
 "metadata": {
  "orig_nbformat": 4,
  "language_info": {
   "name": "python",
   "version": "3.7.4",
   "mimetype": "text/x-python",
   "codemirror_mode": {
    "name": "ipython",
    "version": 3
   },
   "pygments_lexer": "ipython3",
   "nbconvert_exporter": "python",
   "file_extension": ".py"
  },
  "kernelspec": {
   "name": "python3",
   "display_name": "Python 3.7.4 64-bit ('env_gurobi': virtualenv)"
  },
  "interpreter": {
   "hash": "ab66d84091635e28aaa655d19dc257d938f7e6a1e4d5fb0a631906b26faaf625"
  }
 },
 "nbformat": 4,
 "nbformat_minor": 2
}