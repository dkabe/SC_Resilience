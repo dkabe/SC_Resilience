{
 "cells": [
  {
   "cell_type": "code",
   "execution_count": 2,
   "source": [
    "import numpy as np\n",
    "import itertools\n",
    "import random\n",
    "from statistics import stdev\n",
    "import math\n",
    "import ast"
   ],
   "outputs": [],
   "metadata": {}
  },
  {
   "cell_type": "code",
   "execution_count": 3,
   "source": [
    "p_running = 0.9\n",
    "p_failure = 1 - p_running\n",
    "path = '/home/dkabe/Model_brainstorming/SAA_Analysis_v2/'"
   ],
   "outputs": [],
   "metadata": {}
  },
  {
   "cell_type": "code",
   "execution_count": 4,
   "source": [
    "N = [50, 100, 200, 300, 400, 500]\n",
    "N = [1024]\n",
    "batches = 30\n",
    "Products = 3\n",
    "Market = 29\n",
    "batches = 30\n",
    "text_file = open(path + 'Evaluation_Set.txt', \"r\")\n",
    "ls = text_file.read().split('\\n')[:-1]\n",
    "Scenarios = list(map(lambda x: ast.literal_eval(x), ls))\n",
    "Probabilities = np.loadtxt(path + \"p_scen.txt\")\n"
   ],
   "outputs": [],
   "metadata": {}
  },
  {
   "cell_type": "code",
   "execution_count": 5,
   "source": [
    "p1_mean = 137000\n",
    "p2_mean = 135000\n",
    "p3_mean = 133000\n",
    "\n",
    "p1_sd = 2650\n",
    "p2_sd = 8125\n",
    "p3_sd = 4000\n",
    "\n",
    "distribution_mat = [[p1_mean, p1_sd],\n",
    "                  [p2_mean, p2_sd],\n",
    "                  [p3_mean, p3_sd]]"
   ],
   "outputs": [],
   "metadata": {}
  },
  {
   "cell_type": "code",
   "execution_count": 6,
   "source": [
    "np.random.seed(1)\n",
    "demand = np.zeros((Products, Market))\n",
    "demand[0] = np.round(np.random.normal(distribution_mat[0][0], distribution_mat[0][1], size = 29))\n",
    "demand[1] = np.round(np.random.normal(distribution_mat[1][0], distribution_mat[1][1], size = 29))\n",
    "demand[2] = np.round(np.random.normal(distribution_mat[2][0], distribution_mat[2][1], size = 29))\n",
    "#np.savetxt(\"/home/dkabe/Model_brainstorming/SAA_Analysis_v2/demand.txt\", demand)"
   ],
   "outputs": [],
   "metadata": {}
  },
  {
   "cell_type": "code",
   "execution_count": 10,
   "source": [
    "random.seed(1)\n",
    "for num_scen in N:\n",
    "    for batch in range(batches):\n",
    "        indices = random.sample(range(len(Scenarios)), num_scen)\n",
    "        sample_scenarios = [Scenarios[index] for index in indices]\n",
    "        p_sample_scenarios = [Probabilities[index] for index in indices]\n",
    "        p_factor = 1/np.sum(p_sample_scenarios)\n",
    "        p_sample_scenarios = list(map(lambda x: x*p_factor, p_sample_scenarios))  \n",
    "        with open(path + 'Scenarios/' + str(num_scen) + '_' + str(batch) + '.txt', 'w') as f:\n",
    "            for item in sample_scenarios:\n",
    "                f.write(\"%s\\n\" % item)\n",
    "        f.close()\n",
    "        np.savetxt(path + 'Scen_probabilities/' + 'p_scen_' + str(num_scen) + '_' + str(batch) + '.txt', p_sample_scenarios)\n",
    "\n"
   ],
   "outputs": [],
   "metadata": {}
  },
  {
   "cell_type": "code",
   "execution_count": 9,
   "source": [
    "np.sum(p_sample_scenarios)"
   ],
   "outputs": [
    {
     "output_type": "execute_result",
     "data": {
      "text/plain": [
       "1.0"
      ]
     },
     "metadata": {},
     "execution_count": 9
    }
   ],
   "metadata": {}
  },
  {
   "cell_type": "code",
   "execution_count": 8,
   "source": [
    "# version 1\n",
    "p_scen = np.loadtxt(\"/home/dkabe/Model_brainstorming/SAA_Analysis_v2/p_scen.txt\")\n",
    "path = '/home/dkabe/Model_brainstorming/SAA_Analysis_v2/'\n",
    "scenarios = [50, 100, 200, 300, 400, 500]\n",
    "\n",
    "for scen in scenarios:\n",
    "    gaps = []\n",
    "    ub_averages = []\n",
    "    ub_max = []\n",
    "    objvals_lb = np.loadtxt(path + \"Objectives/\" + str(scen) + '_results.txt')\n",
    "    avg_lb = (np.mean(objvals_lb))\n",
    "    std_lb = (stdev(objvals_lb))\n",
    "    lbwidth = std_lb/math.sqrt(batches)*2.045\n",
    "    lbmin = round(avg_lb - lbwidth,2)\n",
    "    #print(avg_lb, lbmin)\n",
    "    #print('ci on lower bound = [', round(avg_lb-lbwidth,2), ',', round(avg_lb+lbwidth,2), ']')\n",
    "    for batch in range(batches):\n",
    "        objvals_ub = np.loadtxt(path + \"Upper_Bounds/\" + str(scen) + \"_scenarios/\" + str(scen) + \"_\" + str(batch) + \"_UB_results.txt\")\n",
    "        avg_ub = (np.sum(p_scen*objvals_ub))\n",
    "        std_ub = math.sqrt(np.sum(p_scen*((objvals_ub - avg_ub)**2)))\n",
    "        ubwidth = std_ub/math.sqrt(1024)*1.96\n",
    "        ubmax = round(avg_ub + ubwidth, 2)\n",
    "        gap = round(100*((ubmax - lbmin)/lbmin),2)\n",
    "        ub_averages.append(avg_ub)\n",
    "        gaps.append(gap)\n",
    "        ub_max.append(ubmax)\n",
    "    min_gap = min(gaps)\n",
    "    index = gaps.index(min_gap)\n",
    "    #print(ub_averages[index], ub_max[index], min_gap)\n",
    "    print(avg_lb, \"\\t\", ub_averages[index], \"\\t\", lbmin, ub_max[index])"
   ],
   "outputs": [
    {
     "output_type": "stream",
     "name": "stdout",
     "text": [
      "19362793.239666667 \t 18935672.300249435 \t 18273289.84 19317928.52\n",
      "19771577.093999997 \t 18935672.300249435 \t 18887054.46 19317928.52\n",
      "18967903.653333332 \t 18935672.300249435 \t 18089671.66 19317928.52\n",
      "19080771.92066667 \t 18935672.300249435 \t 18552849.33 19317928.52\n",
      "19169839.812 \t 18935672.300249435 \t 18746646.12 19317928.52\n",
      "18931530.18066667 \t 18935672.300249435 \t 18609097.77 19317928.52\n"
     ]
    }
   ],
   "metadata": {}
  },
  {
   "cell_type": "code",
   "execution_count": null,
   "source": [],
   "outputs": [],
   "metadata": {}
  }
 ],
 "metadata": {
  "orig_nbformat": 4,
  "language_info": {
   "name": "python",
   "version": "3.7.4",
   "mimetype": "text/x-python",
   "codemirror_mode": {
    "name": "ipython",
    "version": 3
   },
   "pygments_lexer": "ipython3",
   "nbconvert_exporter": "python",
   "file_extension": ".py"
  },
  "kernelspec": {
   "name": "python374jvsc74a57bd0ab66d84091635e28aaa655d19dc257d938f7e6a1e4d5fb0a631906b26faaf625",
   "display_name": "Python 3.7.4 64-bit ('env_gurobi': virtualenv)",
   "language": "python"
  },
  "interpreter": {
   "hash": "ab66d84091635e28aaa655d19dc257d938f7e6a1e4d5fb0a631906b26faaf625"
  }
 },
 "nbformat": 4,
 "nbformat_minor": 2
}