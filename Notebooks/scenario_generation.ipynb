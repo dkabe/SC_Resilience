{
 "metadata": {
  "language_info": {
   "codemirror_mode": {
    "name": "ipython",
    "version": 3
   },
   "file_extension": ".py",
   "mimetype": "text/x-python",
   "name": "python",
   "nbconvert_exporter": "python",
   "pygments_lexer": "ipython3",
   "version": "3.7.4"
  },
  "orig_nbformat": 4,
  "kernelspec": {
   "name": "python3",
   "display_name": "Python 3.7.4 64-bit ('env_gurobi': virtualenv)"
  },
  "interpreter": {
   "hash": "ab66d84091635e28aaa655d19dc257d938f7e6a1e4d5fb0a631906b26faaf625"
  }
 },
 "nbformat": 4,
 "nbformat_minor": 2,
 "cells": [
  {
   "cell_type": "code",
   "execution_count": 1,
   "source": [
    "import numpy as np\n",
    "import itertools\n",
    "import random\n",
    "import ast\n"
   ],
   "outputs": [],
   "metadata": {}
  },
  {
   "cell_type": "code",
   "execution_count": 2,
   "source": [
    "# instances 1 - 4 (random generated)\n",
    "path = '/home/dkabe/Model_brainstorming/Input_Data/Random_gen/'"
   ],
   "outputs": [],
   "metadata": {}
  },
  {
   "cell_type": "code",
   "execution_count": 5,
   "source": [
    "Manufacturing_plants = [2, 3, 4, 6, 6, 6]\n",
    "Distribution = [3, 4, 6, 8, 4, 4]\n",
    "p_running = 0.9\n",
    "p_failure = 1 - p_running\n",
    "num_samples = 200"
   ],
   "outputs": [],
   "metadata": {}
  },
  {
   "cell_type": "code",
   "execution_count": 6,
   "source": [
    "for i in range(4):\n",
    "    a_si = (list(itertools.product([1, 0], repeat = Manufacturing_plants[i])))\n",
    "    b_sj = (list(itertools.product([1, 0], repeat = Distribution[i])))\n",
    "    Scen = ([[x,y] for x in a_si for y in b_sj])\n",
    "    p_scen = []\n",
    "    for s in range(len(Scen)):\n",
    "        p_i = (p_running**(np.sum(Scen[s][0]) + np.sum(Scen[s][1])))*(p_failure**(Manufacturing_plants[i] + Distribution[i] - (np.sum(Scen[s][0]) + np.sum(Scen[s][1]))))\n",
    "        p_scen.append(p_i)\n",
    "    if len(Scen) > num_samples:\n",
    "        random.seed(0)\n",
    "        indices = random.sample(range(len(Scen)), num_samples)\n",
    "        Scen = [Scen[index] for index in indices]\n",
    "        p_scen = [p_scen[index] for index in indices]\n",
    "        p_factor = 1/np.sum(p_scen)\n",
    "        p_scen = list(map(lambda x: x*p_factor, p_scen))        \n",
    "    with open(path + 'Instance_' + str(i + 1) + '/scen_' + str(i + 1) + '.txt', 'w') as f:\n",
    "        for item in Scen:\n",
    "            f.write(\"%s\\n\" % item)\n",
    "        f.close()\n",
    "    np.savetxt(path + 'Instance_' + str(i + 1) + '/p_scen_' + str(i + 1) + '.txt', p_scen)"
   ],
   "outputs": [],
   "metadata": {}
  },
  {
   "cell_type": "code",
   "execution_count": 2,
   "source": [
    "# instances 1 - 2 from different dataset\n",
    "path = '/home/dkabe/Model_brainstorming/Input_Data/Realistic/'"
   ],
   "outputs": [],
   "metadata": {}
  },
  {
   "cell_type": "code",
   "execution_count": 3,
   "source": [
    "provinces = [3, 6]\n",
    "plants = 6\n",
    "dc = 4\n",
    "a5 = list(itertools.product([1, 0], repeat = provinces[0]))\n",
    "a6 = list(itertools.product([1, 0], repeat = provinces[1]))\n",
    "b = list(itertools.product([1, 0], repeat = dc))\n",
    "mp_loc_encoded = [[0, 0, 1, 1, 2, 2],\n",
    "                  [0, 1, 2, 3, 4, 5]]\n"
   ],
   "outputs": [],
   "metadata": {}
  },
  {
   "cell_type": "code",
   "execution_count": 6,
   "source": [
    "province_disruptions = [[x,y] for x in a5 for y in b]\n",
    "num_Scenarios = len(province_disruptions)\n",
    "plant_failure = [[None]*plants for x in range(2**provinces[0])]\n",
    "for k in range(len(plant_failure)):\n",
    "    for i in range(plants):\n",
    "        ind = mp_loc_encoded[0][i]\n",
    "        plant_failure[k][i] = a5[k][ind]\n",
    "Scen = [[x,y] for x in plant_failure for y in b]\n",
    "p_scen = []\n",
    "for s in range(len(province_disruptions)):\n",
    "    p_i = (p_running**(np.sum(province_disruptions[s][0]) + np.sum(province_disruptions[s][1])))*(p_failure**(provinces[0] + dc - (np.sum(province_disruptions[s][0]) + np.sum(province_disruptions[s][1]))))\n",
    "    p_scen.append(p_i)\n",
    "with open(path + 'Instance_1/scen_1.txt', 'w') as f:\n",
    "        for item in Scen:\n",
    "            f.write(\"%s\\n\" % item)\n",
    "        f.close()\n",
    "with open(path + 'Instance_1/disruptions_1.txt', 'w') as f:\n",
    "        for item in province_disruptions:\n",
    "            f.write(\"%s\\n\" % item)\n",
    "        f.close()\n",
    "#np.savetxt(path + 'Instance_1/p_scen_1.txt', p_scen)"
   ],
   "outputs": [],
   "metadata": {}
  },
  {
   "cell_type": "code",
   "execution_count": 8,
   "source": [
    "province_disruptions = [[x,y] for x in a6 for y in b]\n",
    "num_Scenarios = len(province_disruptions)\n",
    "plant_failure = [[None]*plants for x in range(2**provinces[1])]\n",
    "for k in range(len(plant_failure)):\n",
    "    for i in range(plants):\n",
    "        ind = mp_loc_encoded[1][i]\n",
    "        plant_failure[k][i] = a6[k][ind]\n",
    "Scen = [[x,y] for x in plant_failure for y in b]\n",
    "p_scen = []\n",
    "for s in range(len(province_disruptions)):\n",
    "    p_i = (p_running**(np.sum(province_disruptions[s][0]) + np.sum(province_disruptions[s][1])))*(p_failure**(provinces[1] + dc - (np.sum(province_disruptions[s][0]) + np.sum(province_disruptions[s][1]))))\n",
    "    p_scen.append(p_i)\n",
    "random.seed(0)\n",
    "indices = random.sample(range(len(Scen)), 300)\n",
    "Scen = [Scen[index] for index in indices]\n",
    "p_scen = [p_scen[index] for index in indices]\n",
    "p_factor = 1/np.sum(p_scen)\n",
    "p_scen = list(map(lambda x: x*p_factor, p_scen))  \n",
    "with open(path + 'Instance_2/scen_2.txt', 'w') as f:\n",
    "        for item in Scen:\n",
    "            f.write(\"%s\\n\" % item)\n",
    "        f.close()\n",
    "np.savetxt(path + 'Instance_2/p_scen_2.txt', p_scen)"
   ],
   "outputs": [],
   "metadata": {}
  },
  {
   "cell_type": "code",
   "execution_count": 63,
   "source": [
    "instances = 2\n",
    "Scenarios = []\n",
    "Probabilities = []\n",
    "\n",
    "for instance in range(instances):\n",
    "    text_file = open(path + 'Instance_' + str(instance + 1) + '/scen_' + str(instance + 1) + '.txt', \"r\")\n",
    "    ls = text_file.read().split('\\n')[:-1]\n",
    "    Scen = list(map(lambda x: ast.literal_eval(x), ls))\n",
    "    p_scen = np.loadtxt(path + 'Instance_' + str(instance + 1) + '/p_scen_' + str(instance + 1) + '.txt')\n",
    "    Scenarios.append(Scen)\n",
    "    Probabilities.append(p_scen)"
   ],
   "outputs": [],
   "metadata": {}
  },
  {
   "cell_type": "code",
   "execution_count": 10,
   "source": [
    "np.sum(p_scen)"
   ],
   "outputs": [
    {
     "output_type": "execute_result",
     "data": {
      "text/plain": [
       "0.9999999999999999"
      ]
     },
     "metadata": {},
     "execution_count": 10
    }
   ],
   "metadata": {}
  },
  {
   "cell_type": "code",
   "execution_count": null,
   "source": [],
   "outputs": [],
   "metadata": {}
  }
 ]
}