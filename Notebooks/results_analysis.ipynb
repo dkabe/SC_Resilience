{
 "metadata": {
  "language_info": {
   "codemirror_mode": {
    "name": "ipython",
    "version": 3
   },
   "file_extension": ".py",
   "mimetype": "text/x-python",
   "name": "python",
   "nbconvert_exporter": "python",
   "pygments_lexer": "ipython3",
   "version": "3.7.4"
  },
  "orig_nbformat": 4,
  "kernelspec": {
   "name": "python3",
   "display_name": "Python 3.7.4 64-bit ('env_gurobi': virtualenv)"
  },
  "interpreter": {
   "hash": "ab66d84091635e28aaa655d19dc257d938f7e6a1e4d5fb0a631906b26faaf625"
  }
 },
 "nbformat": 4,
 "nbformat_minor": 2,
 "cells": [
  {
   "cell_type": "code",
   "execution_count": 123,
   "metadata": {},
   "outputs": [],
   "source": [
    "import numpy as np\n",
    "import pandas as pd\n",
    "import ast"
   ]
  },
  {
   "cell_type": "code",
   "execution_count": 124,
   "metadata": {},
   "outputs": [],
   "source": [
    "path = '/home/dkabe/Model_brainstorming/Output/Variable_vals/'"
   ]
  },
  {
   "cell_type": "code",
   "execution_count": 125,
   "metadata": {},
   "outputs": [],
   "source": [
    "rl = [0.5, 0.75, 0.95]"
   ]
  },
  {
   "cell_type": "code",
   "execution_count": 126,
   "metadata": {},
   "outputs": [],
   "source": [
    "## Cleaning Products"
   ]
  },
  {
   "cell_type": "code",
   "execution_count": 127,
   "metadata": {},
   "outputs": [],
   "source": [
    "demand = np.loadtxt('/home/dkabe/Model_brainstorming/Input_Data/Instance_5/Demand_5.txt').reshape((128, 3, 29))\n",
    "text_file = open('/home/dkabe/Model_brainstorming/Input_Data/Instance_5/scen_5.txt', \"r\")\n",
    "ls = text_file.read().split('\\n')[:-1]\n",
    "Scen = list(map(lambda x: ast.literal_eval(x), ls))"
   ]
  },
  {
   "cell_type": "code",
   "execution_count": 128,
   "metadata": {},
   "outputs": [
    {
     "output_type": "execute_result",
     "data": {
      "text/plain": [
       "15"
      ]
     },
     "metadata": {},
     "execution_count": 128
    }
   ],
   "source": [
    "sum(v_val_x_i)"
   ]
  },
  {
   "cell_type": "code",
   "execution_count": 129,
   "metadata": {},
   "outputs": [
    {
     "output_type": "stream",
     "name": "stderr",
     "text": [
      "/home/dkabe/env_gurobi/lib/python3.7/site-packages/ipykernel_launcher.py:1: DeprecationWarning: Calling np.sum(generator) is deprecated, and in the future will give a different result. Use np.sum(np.fromiter(generator)) or the python sum builtin instead.\n  \"\"\"Entry point for launching an IPython kernel.\n"
     ]
    },
    {
     "output_type": "execute_result",
     "data": {
      "text/plain": [
       "1.0"
      ]
     },
     "metadata": {},
     "execution_count": 129
    }
   ],
   "source": [
    "np.sum(Scen[56][0][i]*v_val_x_i[i] for i in range(6))"
   ]
  },
  {
   "cell_type": "code",
   "execution_count": 130,
   "metadata": {},
   "outputs": [],
   "source": [
    "scenario_indices = [0, 56, 127]"
   ]
  },
  {
   "cell_type": "code",
   "execution_count": 139,
   "metadata": {},
   "outputs": [
    {
     "output_type": "stream",
     "name": "stdout",
     "text": [
      "   Demand Met  Demand Outsourced  Degree MP  Degree DC  Degree Outsource\n",
      "0    1.000000           0.000000   2.333333      12.00          0.000000\n",
      "1    0.669791           0.243057   1.000000       7.25         14.333333\n",
      "2    0.500000           0.500000   0.000000       0.00         29.000000\n",
      "\n",
      "\n",
      "   Demand Met  Demand Outsourced  Degree MP  Degree DC  Degree Outsource\n",
      "0    1.000000           0.000000   2.333333      12.00          0.000000\n",
      "1    0.834895           0.394837   1.000000       7.25         15.333333\n",
      "2    0.750000           0.750000   0.000000       0.00         29.000000\n",
      "\n",
      "\n",
      "   Demand Met  Demand Outsourced  Degree MP  Degree DC  Degree Outsource\n",
      "0    1.000000           0.000000   2.333333      12.00          0.000000\n",
      "1    0.966979           0.526582   1.000000       7.25         16.333333\n",
      "2    0.939734           0.939734   0.000000       0.00         29.000000\n",
      "\n",
      "\n"
     ]
    }
   ],
   "source": [
    "dfs = []\n",
    "for r_level in rl:\n",
    "    f = open(path + \"Instance_5/variable_vals_\" +str(r_level) + \".txt\", \"r\")\n",
    "    text = f.read()\n",
    "    f.close()\n",
    "    solutions_str = text.split('\\n')\n",
    "    for i in solutions_str:\n",
    "        exec(i.lstrip().rstrip())\n",
    "\n",
    "    demand_met = []\n",
    "    demand_purchased = []\n",
    "    degree_plants = []\n",
    "    degree_dc = []\n",
    "    degree_outsourced = []\n",
    "    Y_mat = np.array(list(v_val_Y_ijm.values())).reshape((128, 3, 6, 4))\n",
    "    Y_mat = np.sum(Y_mat, axis = 1)\n",
    "    Z_mat = np.array(list(v_val_Z_jkm.values())).reshape((128, 3, 4, 29))\n",
    "    Z_mat = np.sum(Z_mat, axis = 1)\n",
    "    T1_mat = np.array(list(v_val_T_ljm.values())).reshape((128, 3, 3, 4))\n",
    "    T1_mat = np.sum(T1_mat, axis = 1)\n",
    "    T2_mat = np.array(list(v_val_T_lkm.values())).reshape((128, 3, 3, 29))\n",
    "    T2_mat = np.sum(T2_mat, axis = 1)\n",
    "\n",
    "    for index in scenario_indices:\n",
    "        demand_met.append(1 - np.sum([v_val_U_km[index, k, m] for k in range(29) for m in range(3)])/np.sum(demand[index]))\n",
    "        demand_purchased.append(np.sum([v_val_V1_lm[index, m, l] + v_val_V2_lm[index, m, l] for m in range(3) for l in range(3)])/np.sum(demand[index]))    \n",
    "        degree_plants.append(np.sum(1*np.array([Y_mat[index][i][j] > 0 for i in range(6) for j in range(4)]))/sum(v_val_x_i.values()))    \n",
    "        degree_dc.append(np.sum(1*np.array([Z_mat[index][j][k] > 0 for j in range(4) for k in range(29)]))/sum(v_val_x_j.values()))    \n",
    "        degree_outsourced.append((np.sum(1*np.array([T1_mat[index][l][j] > 0 for l in range(3) for j in range(4)])) + np.sum(1*np.array([T2_mat[index][l][k] > 0 for l in range(3) for k in range(29)]))/3))\n",
    "        \n",
    "    my_df = pd.DataFrame(list(zip(demand_met, demand_purchased, degree_plants, degree_dc, degree_outsourced)), columns = [\"Demand Met\", \"Demand Outsourced\", \"Degree MP\", \"Degree DC\", \"Degree Outsource\"])\n",
    "    dfs.append(my_df)\n",
    "    print(my_df)\n",
    "    print('\\n')"
   ]
  },
  {
   "cell_type": "code",
   "execution_count": 145,
   "metadata": {},
   "outputs": [
    {
     "output_type": "execute_result",
     "data": {
      "text/plain": [
       "   Demand Met  Demand Outsourced  Degree MP  Degree DC  Degree Outsource\n",
       "0    1.000000           0.000000   2.333333      12.00          0.000000\n",
       "1    0.966979           0.526582   1.000000       7.25         16.333333\n",
       "2    0.939734           0.939734   0.000000       0.00         29.000000"
      ],
      "text/html": "<div>\n<style scoped>\n    .dataframe tbody tr th:only-of-type {\n        vertical-align: middle;\n    }\n\n    .dataframe tbody tr th {\n        vertical-align: top;\n    }\n\n    .dataframe thead th {\n        text-align: right;\n    }\n</style>\n<table border=\"1\" class=\"dataframe\">\n  <thead>\n    <tr style=\"text-align: right;\">\n      <th></th>\n      <th>Demand Met</th>\n      <th>Demand Outsourced</th>\n      <th>Degree MP</th>\n      <th>Degree DC</th>\n      <th>Degree Outsource</th>\n    </tr>\n  </thead>\n  <tbody>\n    <tr>\n      <th>0</th>\n      <td>1.000000</td>\n      <td>0.000000</td>\n      <td>2.333333</td>\n      <td>12.00</td>\n      <td>0.000000</td>\n    </tr>\n    <tr>\n      <th>1</th>\n      <td>0.966979</td>\n      <td>0.526582</td>\n      <td>1.000000</td>\n      <td>7.25</td>\n      <td>16.333333</td>\n    </tr>\n    <tr>\n      <th>2</th>\n      <td>0.939734</td>\n      <td>0.939734</td>\n      <td>0.000000</td>\n      <td>0.00</td>\n      <td>29.000000</td>\n    </tr>\n  </tbody>\n</table>\n</div>"
     },
     "metadata": {},
     "execution_count": 145
    }
   ],
   "source": [
    "dfs[2]"
   ]
  },
  {
   "cell_type": "code",
   "execution_count": 146,
   "metadata": {},
   "outputs": [],
   "source": [
    "## Meat Products"
   ]
  },
  {
   "cell_type": "code",
   "execution_count": 147,
   "metadata": {},
   "outputs": [],
   "source": [
    "demand = np.loadtxt('/home/dkabe/Model_brainstorming/Input_Data/Instance_6/Demand_6.txt').reshape((200, 3, 29))\n",
    "text_file = open('/home/dkabe/Model_brainstorming/Input_Data/Instance_6/scen_6.txt', \"r\")\n",
    "ls = text_file.read().split('\\n')[:-1]\n",
    "Scen = list(map(lambda x: ast.literal_eval(x), ls))"
   ]
  },
  {
   "cell_type": "code",
   "execution_count": 148,
   "metadata": {},
   "outputs": [],
   "source": [
    "scenario_indices = [29, 12, 63]"
   ]
  },
  {
   "cell_type": "code",
   "execution_count": 151,
   "metadata": {},
   "outputs": [
    {
     "output_type": "stream",
     "name": "stdout",
     "text": [
      "   Demand Met  Demand Outsourced  Degree MP  Degree DC  Degree Outsource\n",
      "0    1.000000           0.000000        2.0  19.666667          0.000000\n",
      "1    0.836170           0.000825        1.0  12.666667          0.333333\n",
      "2    0.337305           0.337305        0.0   0.000000         20.333333\n",
      "\n",
      "\n",
      "   Demand Met  Demand Outsourced  Degree MP  Degree DC  Degree Outsource\n",
      "0    1.000000           0.000000        2.0  19.000000          0.000000\n",
      "1    0.893303           0.059319        1.0  10.333333          2.666667\n",
      "2    0.337305           0.337305        0.0   0.000000         13.333333\n",
      "\n",
      "\n",
      "   Demand Met  Demand Outsourced  Degree MP  Degree DC  Degree Outsource\n",
      "0    1.000000           0.000000        2.0  18.666667          0.000000\n",
      "1    0.966734           0.133110        1.0  12.000000          4.666667\n",
      "2    0.337305           0.337305        0.0   0.000000         10.333333\n",
      "\n",
      "\n"
     ]
    }
   ],
   "source": [
    "dfs = []\n",
    "for r_level in rl:\n",
    "    df = []\n",
    "    f = open(path + \"Instance_6/variable_vals_\" +str(r_level) + \".txt\", \"r\")\n",
    "    text = f.read()\n",
    "    f.close()\n",
    "    solutions_str = text.split('\\n')\n",
    "    for i in solutions_str:\n",
    "        exec(i.lstrip().rstrip())\n",
    "\n",
    "    demand_met = []\n",
    "    demand_purchased = []\n",
    "    degree_plants = []\n",
    "    degree_dc = []\n",
    "    degree_outsourced = []\n",
    "    Y_mat = np.array(list(v_val_Y_ijm.values())).reshape((200, 3, 6, 4))\n",
    "    Y_mat = np.sum(Y_mat, axis = 1)\n",
    "    Z_mat = np.array(list(v_val_Z_jkm.values())).reshape((200, 3, 4, 29))\n",
    "    Z_mat = np.sum(Z_mat, axis = 1)\n",
    "    T1_mat = np.array(list(v_val_T_ljm.values())).reshape((200, 3, 3, 4))\n",
    "    T1_mat = np.sum(T1_mat, axis = 1)\n",
    "    T2_mat = np.array(list(v_val_T_lkm.values())).reshape((200, 3, 3, 29))\n",
    "    T2_mat = np.sum(T2_mat, axis = 1)\n",
    "\n",
    "    for index in scenario_indices:\n",
    "        demand_met.append(1 - np.sum([v_val_U_km[index, k, m] for k in range(29) for m in range(3)])/np.sum(demand[index]))\n",
    "        demand_purchased.append(np.sum([v_val_V1_lm[index, m, l] + v_val_V2_lm[index, m, l] for m in range(3) for l in range(3)])/np.sum(demand[index]))    \n",
    "        degree_plants.append(np.sum(1*np.array([Y_mat[index][i][j] > 0 for i in range(6) for j in range(4)]))/sum(v_val_x_i.values()))     \n",
    "        degree_dc.append(np.sum(1*np.array([Z_mat[index][j][k] > 0 for j in range(4) for k in range(29)]))/sum(v_val_x_j.values()))     \n",
    "        degree_outsourced.append((np.sum(1*np.array([T1_mat[index][l][j] > 0 for l in range(3) for j in range(4)])) + np.sum(1*np.array([T2_mat[index][l][k] > 0 for l in range(3) for k in range(29)]))/3))\n",
    "        \n",
    "    my_df = pd.DataFrame(list(zip(demand_met, demand_purchased, degree_plants, degree_dc, degree_outsourced)), columns = [\"Demand Met\", \"Demand Outsourced\", \"Degree MP\", \"Degree DC\", \"Degree Outsource\"])\n",
    "    dfs.append(my_df)\n",
    "    print(my_df)\n",
    "    print('\\n')"
   ]
  },
  {
   "cell_type": "code",
   "execution_count": 41,
   "metadata": {},
   "outputs": [],
   "source": [
    "running_Facilities = list(map(lambda x: sum(x[0]) + sum(x[1]), Scen))"
   ]
  },
  {
   "cell_type": "code",
   "execution_count": 43,
   "metadata": {},
   "outputs": [
    {
     "output_type": "execute_result",
     "data": {
      "text/plain": [
       "[1, 2, 3, 4, 5, 6, 7, 8, 9]"
      ]
     },
     "metadata": {},
     "execution_count": 43
    }
   ],
   "source": [
    "list(set(running_Facilities))"
   ]
  },
  {
   "cell_type": "code",
   "execution_count": 154,
   "metadata": {},
   "outputs": [
    {
     "output_type": "execute_result",
     "data": {
      "text/plain": [
       "   Demand Met  Demand Outsourced  Degree MP  Degree DC  Degree Outsource\n",
       "0    1.000000           0.000000        2.0  18.666667          0.000000\n",
       "1    0.966734           0.133110        1.0  12.000000          4.666667\n",
       "2    0.337305           0.337305        0.0   0.000000         10.333333"
      ],
      "text/html": "<div>\n<style scoped>\n    .dataframe tbody tr th:only-of-type {\n        vertical-align: middle;\n    }\n\n    .dataframe tbody tr th {\n        vertical-align: top;\n    }\n\n    .dataframe thead th {\n        text-align: right;\n    }\n</style>\n<table border=\"1\" class=\"dataframe\">\n  <thead>\n    <tr style=\"text-align: right;\">\n      <th></th>\n      <th>Demand Met</th>\n      <th>Demand Outsourced</th>\n      <th>Degree MP</th>\n      <th>Degree DC</th>\n      <th>Degree Outsource</th>\n    </tr>\n  </thead>\n  <tbody>\n    <tr>\n      <th>0</th>\n      <td>1.000000</td>\n      <td>0.000000</td>\n      <td>2.0</td>\n      <td>18.666667</td>\n      <td>0.000000</td>\n    </tr>\n    <tr>\n      <th>1</th>\n      <td>0.966734</td>\n      <td>0.133110</td>\n      <td>1.0</td>\n      <td>12.000000</td>\n      <td>4.666667</td>\n    </tr>\n    <tr>\n      <th>2</th>\n      <td>0.337305</td>\n      <td>0.337305</td>\n      <td>0.0</td>\n      <td>0.000000</td>\n      <td>10.333333</td>\n    </tr>\n  </tbody>\n</table>\n</div>"
     },
     "metadata": {},
     "execution_count": 154
    }
   ],
   "source": [
    "dfs[2]"
   ]
  },
  {
   "cell_type": "code",
   "execution_count": null,
   "metadata": {},
   "outputs": [],
   "source": []
  }
 ]
}