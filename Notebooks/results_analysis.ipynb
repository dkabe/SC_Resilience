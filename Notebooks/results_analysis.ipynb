{
 "metadata": {
  "language_info": {
   "codemirror_mode": {
    "name": "ipython",
    "version": 3
   },
   "file_extension": ".py",
   "mimetype": "text/x-python",
   "name": "python",
   "nbconvert_exporter": "python",
   "pygments_lexer": "ipython3",
   "version": "3.7.4"
  },
  "orig_nbformat": 4,
  "kernelspec": {
   "name": "python3",
   "display_name": "Python 3.7.4 64-bit ('env_gurobi': virtualenv)"
  },
  "interpreter": {
   "hash": "ab66d84091635e28aaa655d19dc257d938f7e6a1e4d5fb0a631906b26faaf625"
  }
 },
 "nbformat": 4,
 "nbformat_minor": 2,
 "cells": [
  {
   "cell_type": "code",
   "execution_count": 4,
   "metadata": {},
   "outputs": [],
   "source": [
    "import numpy as np\n",
    "import pandas"
   ]
  },
  {
   "cell_type": "code",
   "execution_count": 9,
   "metadata": {},
   "outputs": [],
   "source": [
    "path = '/home/dkabe/Model_brainstorming/Output/Variable_vals/'"
   ]
  },
  {
   "cell_type": "code",
   "execution_count": 17,
   "metadata": {},
   "outputs": [],
   "source": [
    "## Cleaning Products"
   ]
  },
  {
   "cell_type": "code",
   "execution_count": 18,
   "metadata": {},
   "outputs": [],
   "source": [
    "demand = np.loadtxt('/home/dkabe/Model_brainstorming/Input_Data/Instance_5/Demand_5.txt').reshape((128, 3, 29))"
   ]
  },
  {
   "cell_type": "code",
   "execution_count": null,
   "metadata": {},
   "outputs": [],
   "source": [
    "## 50% RL"
   ]
  },
  {
   "cell_type": "code",
   "execution_count": 13,
   "metadata": {},
   "outputs": [],
   "source": [
    "f = open(path + \"Instance_5/variable_vals_0.5.txt\", \"r\")\n",
    "text = f.read()\n",
    "f.close()\n",
    "solutions_str = text.split('\\n')\n",
    "for i in solutions_str:\n",
    "    exec(i.lstrip().rstrip())"
   ]
  },
  {
   "cell_type": "code",
   "execution_count": 75,
   "metadata": {},
   "outputs": [],
   "source": [
    "scenario_indices = [0, 56, 127]"
   ]
  },
  {
   "cell_type": "code",
   "execution_count": 76,
   "metadata": {},
   "outputs": [],
   "source": [
    "demand_met = []\n",
    "for index in scenario_indices:\n",
    "    demand_met.append(1 - np.sum([v_val_U_km[index, k, m] for k in range(29) for m in range(3)])/np.sum(demand[index]))"
   ]
  },
  {
   "cell_type": "code",
   "execution_count": 77,
   "metadata": {},
   "outputs": [
    {
     "output_type": "execute_result",
     "data": {
      "text/plain": [
       "[1.0, 0.669790745029025, 0.5]"
      ]
     },
     "metadata": {},
     "execution_count": 77
    }
   ],
   "source": [
    "demand_met"
   ]
  },
  {
   "cell_type": "code",
   "execution_count": 78,
   "metadata": {},
   "outputs": [],
   "source": [
    "demand_purchased = []\n",
    "for index in scenario_indices:\n",
    "    demand_purchased.append(np.sum([v_val_V1_lm[index, m, l] + v_val_V2_lm[index, m, l] for m in range(3) for l in range(3)])/np.sum(demand[index]))"
   ]
  },
  {
   "cell_type": "code",
   "execution_count": 79,
   "metadata": {},
   "outputs": [
    {
     "output_type": "execute_result",
     "data": {
      "text/plain": [
       "[0.0, 0.24305668413000772, 0.5]"
      ]
     },
     "metadata": {},
     "execution_count": 79
    }
   ],
   "source": [
    "demand_purchased"
   ]
  },
  {
   "cell_type": "code",
   "execution_count": 80,
   "metadata": {},
   "outputs": [],
   "source": [
    "# Degree of nodes"
   ]
  },
  {
   "cell_type": "code",
   "execution_count": 81,
   "metadata": {},
   "outputs": [],
   "source": [
    "degree_plants = []\n",
    "Y_mat = np.array(list(v_val_Y_ijm.values())).reshape((128, 3, 6, 4))\n",
    "Y_mat = np.sum(Y_mat, axis = 1)\n",
    "for index in scenario_indices:\n",
    "    degree_plants.append(np.sum(1*np.array([Y_mat[index][i][j] > 0 for i in range(6) for j in range(4)]))/3)"
   ]
  },
  {
   "cell_type": "code",
   "execution_count": 82,
   "metadata": {},
   "outputs": [
    {
     "output_type": "execute_result",
     "data": {
      "text/plain": [
       "[2.3333333333333335, 1.0, 0.0]"
      ]
     },
     "metadata": {},
     "execution_count": 82
    }
   ],
   "source": [
    "degree_plants"
   ]
  },
  {
   "cell_type": "code",
   "execution_count": 83,
   "metadata": {},
   "outputs": [],
   "source": [
    "degree_dc = []\n",
    "Z_mat = np.array(list(v_val_Z_jkm.values())).reshape((128, 3, 4, 29))\n",
    "Z_mat = np.sum(Z_mat, axis = 1)\n",
    "for index in scenario_indices:\n",
    "    degree_dc.append(np.sum(1*np.array([Z_mat[index][j][k] > 0 for j in range(4) for k in range(29)]))/4)"
   ]
  },
  {
   "cell_type": "code",
   "execution_count": 84,
   "metadata": {},
   "outputs": [
    {
     "output_type": "execute_result",
     "data": {
      "text/plain": [
       "[12.0, 7.25, 0.0]"
      ]
     },
     "metadata": {},
     "execution_count": 84
    }
   ],
   "source": [
    "degree_dc"
   ]
  },
  {
   "cell_type": "code",
   "execution_count": 85,
   "metadata": {},
   "outputs": [],
   "source": [
    "degree_outsourced = []\n",
    "T1_mat = np.array(list(v_val_T_ljm.values())).reshape((128, 3, 3, 4))\n",
    "T1_mat = np.sum(T1_mat, axis = 1)\n",
    "T2_mat = np.array(list(v_val_T_lkm.values())).reshape((128, 3, 3, 29))\n",
    "T2_mat = np.sum(T2_mat, axis = 1)\n",
    "for index in scenario_indices:\n",
    "    degree_outsourced.append((np.sum(1*np.array([T1_mat[index][l][j] > 0 for l in range(3) for j in range(4)])) + np.sum(1*np.array([T2_mat[index][l][k] > 0 for l in range(3) for k in range(29)]))/3))"
   ]
  },
  {
   "cell_type": "code",
   "execution_count": 86,
   "metadata": {},
   "outputs": [
    {
     "output_type": "execute_result",
     "data": {
      "text/plain": [
       "[0.0, 14.333333333333334, 29.0]"
      ]
     },
     "metadata": {},
     "execution_count": 86
    }
   ],
   "source": [
    "degree_outsourced"
   ]
  },
  {
   "cell_type": "code",
   "execution_count": null,
   "metadata": {},
   "outputs": [],
   "source": []
  }
 ]
}