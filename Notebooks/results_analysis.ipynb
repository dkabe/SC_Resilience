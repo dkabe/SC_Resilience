{
 "metadata": {
  "language_info": {
   "codemirror_mode": {
    "name": "ipython",
    "version": 3
   },
   "file_extension": ".py",
   "mimetype": "text/x-python",
   "name": "python",
   "nbconvert_exporter": "python",
   "pygments_lexer": "ipython3",
   "version": "3.7.4"
  },
  "orig_nbformat": 4,
  "kernelspec": {
   "name": "python374jvsc74a57bd0ab66d84091635e28aaa655d19dc257d938f7e6a1e4d5fb0a631906b26faaf625",
   "display_name": "Python 3.7.4 64-bit ('env_gurobi': virtualenv)",
   "language": "python"
  },
  "interpreter": {
   "hash": "ab66d84091635e28aaa655d19dc257d938f7e6a1e4d5fb0a631906b26faaf625"
  }
 },
 "nbformat": 4,
 "nbformat_minor": 2,
 "cells": [
  {
   "cell_type": "code",
   "execution_count": 1,
   "source": [
    "import numpy as np\n",
    "import pandas as pd\n",
    "import ast"
   ],
   "outputs": [],
   "metadata": {}
  },
  {
   "cell_type": "code",
   "execution_count": 2,
   "source": [
    "path = '/home/dkabe/Model_brainstorming/Output/Variable_vals/'"
   ],
   "outputs": [],
   "metadata": {}
  },
  {
   "cell_type": "code",
   "execution_count": 3,
   "source": [
    "Manufacturing_plants = 6\n",
    "Distribution = 4\n",
    "Market = 29\n",
    "Outsourced = 3"
   ],
   "outputs": [],
   "metadata": {}
  },
  {
   "cell_type": "code",
   "execution_count": 4,
   "source": [
    "rl = [0.5, 0.75, 0.95]"
   ],
   "outputs": [],
   "metadata": {}
  },
  {
   "cell_type": "code",
   "execution_count": 5,
   "source": [
    "## Cleaning Products"
   ],
   "outputs": [],
   "metadata": {}
  },
  {
   "cell_type": "code",
   "execution_count": 6,
   "source": [
    "demand = np.loadtxt('/home/dkabe/Model_brainstorming/Input_Data/Realistic/Instance_1/Demand_1.txt').reshape((128, 3, 29))\n",
    "text_file = open('/home/dkabe/Model_brainstorming/Input_Data/Realistic/Instance_1/scen_1.txt', \"r\")\n",
    "ls = text_file.read().split('\\n')[:-1]\n",
    "Scen = list(map(lambda x: ast.literal_eval(x), ls))"
   ],
   "outputs": [],
   "metadata": {}
  },
  {
   "cell_type": "code",
   "execution_count": 10,
   "source": [
    "scenario_indices = [0, 21, 127]"
   ],
   "outputs": [],
   "metadata": {}
  },
  {
   "cell_type": "code",
   "execution_count": 11,
   "source": [
    "Scen[56]"
   ],
   "outputs": [
    {
     "output_type": "execute_result",
     "data": {
      "text/plain": [
       "[[1, 1, 0, 0, 0, 0], (0, 1, 1, 1)]"
      ]
     },
     "metadata": {},
     "execution_count": 11
    }
   ],
   "metadata": {}
  },
  {
   "cell_type": "code",
   "execution_count": 12,
   "source": [
    "dfs = []\n",
    "for r_level in rl:\n",
    "    f = open(path + \"Instance_1/variable_vals_\" +str(r_level) + \".txt\", \"r\")\n",
    "    text = f.read()\n",
    "    f.close()\n",
    "    solutions_str = text.split('\\n')\n",
    "    for i in solutions_str:\n",
    "        exec(i.lstrip().rstrip())\n",
    "\n",
    "    demand_met = []\n",
    "    demand_purchased = []\n",
    "    degree_plants = []\n",
    "    degree_dc = []\n",
    "    degree_outsourced = []\n",
    "    Y_mat = np.array(list(v_val_Y_ijm.values())).reshape((128, 3, 6, 4))\n",
    "    Y_mat = np.sum(Y_mat, axis = 1)\n",
    "    Z_mat = np.array(list(v_val_Z_jkm.values())).reshape((128, 3, 4, 29))\n",
    "    Z_mat = np.sum(Z_mat, axis = 1)\n",
    "    T1_mat = np.array(list(v_val_T_ljm.values())).reshape((128, 3, 3, 4))\n",
    "    T1_mat = np.sum(T1_mat, axis = 1)\n",
    "    T2_mat = np.array(list(v_val_T_lkm.values())).reshape((128, 3, 3, 29))\n",
    "    T2_mat = np.sum(T2_mat, axis = 1)\n",
    "\n",
    "    for index in scenario_indices:\n",
    "        demand_met.append(1 - np.sum([v_val_U_km[index, k, m] for k in range(29) for m in range(3)])/np.sum(demand[index]))\n",
    "        demand_purchased.append(np.sum([v_val_V1_lm[index, m, l] + v_val_V2_lm[index, m, l] for m in range(3) for l in range(3)])/np.sum(demand[index]))    \n",
    "        degree_plants.append(np.sum(1*np.array([Y_mat[index][i][j] > 0 for i in range(6) for j in range(4)]))/sum(v_val_x_i.values()))    \n",
    "        degree_dc.append(np.sum(1*np.array([Z_mat[index][j][k] > 0 for j in range(4) for k in range(29)]))/sum(v_val_x_j.values()))    \n",
    "        degree_outsourced.append((np.sum(1*np.array([T1_mat[index][l][j] > 0 for l in range(3) for j in range(4)])) + np.sum(1*np.array([T2_mat[index][l][k] > 0 for l in range(3) for k in range(29)]))/3))\n",
    "        \n",
    "    my_df = pd.DataFrame(list(zip(demand_met, demand_purchased, degree_plants, degree_dc, degree_outsourced)), columns = [\"Demand Met\", \"Demand Outsourced\", \"Degree MP\", \"Degree DC\", \"Degree Outsource\"])\n",
    "    dfs.append(my_df)\n",
    "    print(my_df)\n",
    "    print('\\n')"
   ],
   "outputs": [
    {
     "output_type": "stream",
     "name": "stdout",
     "text": [
      "   Demand Met  Demand Outsourced  Degree MP  Degree DC  Degree Outsource\n",
      "0    1.000000           0.000000   2.333333       12.0               0.0\n",
      "1    0.833126           0.066058   1.333333       10.5               4.0\n",
      "2    0.500000           0.500000   0.000000        0.0              29.0\n",
      "\n",
      "\n",
      "   Demand Met  Demand Outsourced  Degree MP  Degree DC  Degree Outsource\n",
      "0    1.000000           0.000000   2.333333      12.00               0.0\n",
      "1    0.916563           0.149495   1.333333      10.75               6.0\n",
      "2    0.750000           0.750000   0.000000       0.00              29.0\n",
      "\n",
      "\n",
      "   Demand Met  Demand Outsourced  Degree MP  Degree DC  Degree Outsource\n",
      "0    1.000000           0.000000   2.333333      12.00          0.000000\n",
      "1    0.970339           0.202242   1.333333      10.75          6.333333\n",
      "2    0.939734           0.939734   0.000000       0.00         29.000000\n",
      "\n",
      "\n"
     ]
    }
   ],
   "metadata": {}
  },
  {
   "cell_type": "code",
   "execution_count": null,
   "source": [],
   "outputs": [],
   "metadata": {}
  },
  {
   "cell_type": "code",
   "execution_count": 11,
   "source": [
    "## Meat Products"
   ],
   "outputs": [],
   "metadata": {}
  },
  {
   "cell_type": "code",
   "execution_count": 12,
   "source": [
    "demand = np.loadtxt('/home/dkabe/Model_brainstorming/Input_Data/Realistic/Instance_2/Demand_2.txt').reshape((300, 3, 29))\n",
    "text_file = open('/home/dkabe/Model_brainstorming/Input_Data/Realistic/Instance_2/scen_2.txt', \"r\")\n",
    "ls = text_file.read().split('\\n')[:-1]\n",
    "Scen = list(map(lambda x: ast.literal_eval(x), ls))"
   ],
   "outputs": [],
   "metadata": {}
  },
  {
   "cell_type": "code",
   "execution_count": 23,
   "source": [
    "scenario_indices = [29, 12, 63]"
   ],
   "outputs": [],
   "metadata": {}
  },
  {
   "cell_type": "code",
   "execution_count": 19,
   "source": [
    "dfs = []\n",
    "for r_level in rl:\n",
    "    df = []\n",
    "    f = open(path + \"Instance_2/variable_vals_\" +str(r_level) + \".txt\", \"r\")\n",
    "    text = f.read()\n",
    "    f.close()\n",
    "    solutions_str = text.split('\\n')\n",
    "    for i in solutions_str:\n",
    "        exec(i.lstrip().rstrip())\n",
    "\n",
    "    demand_met = []\n",
    "    demand_purchased = []\n",
    "    degree_plants = []\n",
    "    degree_dc = []\n",
    "    degree_outsourced = []\n",
    "    Y_mat = np.array(list(v_val_Y_ijm.values())).reshape((300, 3, 6, 4))\n",
    "    Y_mat = np.sum(Y_mat, axis = 1)\n",
    "    Z_mat = np.array(list(v_val_Z_jkm.values())).reshape((300, 3, 4, 29))\n",
    "    Z_mat = np.sum(Z_mat, axis = 1)\n",
    "    T1_mat = np.array(list(v_val_T_ljm.values())).reshape((300, 3, 3, 4))\n",
    "    T1_mat = np.sum(T1_mat, axis = 1)\n",
    "    T2_mat = np.array(list(v_val_T_lkm.values())).reshape((300, 3, 3, 29))\n",
    "    T2_mat = np.sum(T2_mat, axis = 1)\n",
    "\n",
    "    for index in scenario_indices:\n",
    "        demand_met.append(1 - np.sum([v_val_U_km[index, k, m] for k in range(29) for m in range(3)])/np.sum(demand[index]))\n",
    "        demand_purchased.append(np.sum([v_val_V1_lm[index, m, l] + v_val_V2_lm[index, m, l] for m in range(3) for l in range(3)])/np.sum(demand[index]))    \n",
    "        degree_plants.append(np.sum(1*np.array([Y_mat[index][i][j] > 0 for i in range(6) for j in range(4)]))/sum(v_val_x_i.values()))     \n",
    "        degree_dc.append(np.sum(1*np.array([Z_mat[index][j][k] > 0 for j in range(4) for k in range(29)]))/sum(v_val_x_j.values()))     \n",
    "        degree_outsourced.append((np.sum(1*np.array([T1_mat[index][l][j] > 0 for l in range(3) for j in range(4)])) + np.sum(1*np.array([T2_mat[index][l][k] > 0 for l in range(3) for k in range(29)]))/3))\n",
    "        \n",
    "    my_df = pd.DataFrame(list(zip(demand_met, demand_purchased, degree_plants, degree_dc, degree_outsourced)), columns = [\"Demand Met\", \"Demand Outsourced\", \"Degree MP\", \"Degree DC\", \"Degree Outsource\"])\n",
    "    dfs.append(my_df)\n",
    "    print(my_df)\n",
    "    print('\\n')"
   ],
   "outputs": [
    {
     "output_type": "stream",
     "name": "stdout",
     "text": [
      "   Demand Met  Demand Outsourced  Degree MP  Degree DC  Degree Outsource\n",
      "0    0.836882           0.002006       1.25      11.25          0.333333\n",
      "1    0.336938           0.336938       0.00       0.00         20.333333\n",
      "2    0.835396           0.071851       1.00      10.75          4.333333\n",
      "\n",
      "\n"
     ]
    }
   ],
   "metadata": {}
  },
  {
   "cell_type": "code",
   "execution_count": 13,
   "source": [
    "running_Facilities = list(map(lambda x: sum(x[0]) + sum(x[1]), Scen))"
   ],
   "outputs": [],
   "metadata": {}
  },
  {
   "cell_type": "code",
   "execution_count": 14,
   "source": [
    "list(set(running_Facilities))"
   ],
   "outputs": [
    {
     "output_type": "execute_result",
     "data": {
      "text/plain": [
       "[1, 2, 3, 4, 5, 6, 7, 8, 9]"
      ]
     },
     "metadata": {},
     "execution_count": 14
    }
   ],
   "metadata": {}
  },
  {
   "cell_type": "code",
   "execution_count": 17,
   "source": [
    "running_Facilities.index(1)"
   ],
   "outputs": [
    {
     "output_type": "execute_result",
     "data": {
      "text/plain": [
       "14"
      ]
     },
     "metadata": {},
     "execution_count": 17
    }
   ],
   "metadata": {}
  },
  {
   "cell_type": "code",
   "execution_count": 18,
   "source": [
    "Scen[14]"
   ],
   "outputs": [
    {
     "output_type": "execute_result",
     "data": {
      "text/plain": [
       "[[0, 0, 0, 0, 1, 0], (0, 0, 0, 0)]"
      ]
     },
     "metadata": {},
     "execution_count": 18
    }
   ],
   "metadata": {}
  },
  {
   "cell_type": "code",
   "execution_count": 16,
   "source": [
    "from ray.util.multiprocessing import Pool\n"
   ],
   "outputs": [],
   "metadata": {}
  },
  {
   "cell_type": "code",
   "execution_count": null,
   "source": [],
   "outputs": [],
   "metadata": {}
  }
 ]
}