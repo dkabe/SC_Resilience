{
 "metadata": {
  "language_info": {
   "codemirror_mode": {
    "name": "ipython",
    "version": 3
   },
   "file_extension": ".py",
   "mimetype": "text/x-python",
   "name": "python",
   "nbconvert_exporter": "python",
   "pygments_lexer": "ipython3",
   "version": "3.7.4"
  },
  "orig_nbformat": 4,
  "kernelspec": {
   "name": "python3",
   "display_name": "Python 3.7.4 64-bit ('env_gurobi': virtualenv)"
  },
  "interpreter": {
   "hash": "ab66d84091635e28aaa655d19dc257d938f7e6a1e4d5fb0a631906b26faaf625"
  }
 },
 "nbformat": 4,
 "nbformat_minor": 2,
 "cells": [
  {
   "cell_type": "code",
   "execution_count": 1,
   "source": [
    "import numpy as np\n",
    "import pandas as pd\n",
    "import ast"
   ],
   "outputs": [],
   "metadata": {}
  },
  {
   "cell_type": "code",
   "execution_count": 2,
   "source": [
    "path = '/home/dkabe/Model_brainstorming/Output/Variable_vals/'"
   ],
   "outputs": [],
   "metadata": {}
  },
  {
   "cell_type": "code",
   "execution_count": 3,
   "source": [
    "Manufacturing_plants = 6\n",
    "Distribution = 4\n",
    "Market = 29\n",
    "Outsourced = 3"
   ],
   "outputs": [],
   "metadata": {}
  },
  {
   "cell_type": "code",
   "execution_count": 4,
   "source": [
    "rl = [0.5, 0.75, 0.95]"
   ],
   "outputs": [],
   "metadata": {}
  },
  {
   "cell_type": "code",
   "execution_count": 5,
   "source": [
    "## Cleaning Products"
   ],
   "outputs": [],
   "metadata": {}
  },
  {
   "cell_type": "code",
   "execution_count": 5,
   "source": [
    "demand = np.loadtxt('/home/dkabe/Model_brainstorming/Input_Data/Realistic/Instance_1/Demand_1.txt').reshape((192, 3, 29))\n",
    "text_file = open('/home/dkabe/Model_brainstorming/Input_Data/Realistic/Instance_1/scen_1.txt', \"r\")\n",
    "ls = text_file.read().split('\\n')[:-1]\n",
    "Scen = list(map(lambda x: ast.literal_eval(x), ls))"
   ],
   "outputs": [],
   "metadata": {}
  },
  {
   "cell_type": "code",
   "execution_count": 10,
   "source": [
    "scenario_indices = [21]"
   ],
   "outputs": [],
   "metadata": {}
  },
  {
   "cell_type": "code",
   "execution_count": 11,
   "source": [
    "rl = [0.5]"
   ],
   "outputs": [],
   "metadata": {}
  },
  {
   "cell_type": "code",
   "execution_count": 14,
   "source": [
    "dfs = []\n",
    "for r_level in rl:\n",
    "    f = open(path + \"Instance_1/variable_vals_\" +str(r_level) + \".txt\", \"r\")\n",
    "    text = f.read()\n",
    "    f.close()\n",
    "    solutions_str = text.split('\\n')\n",
    "    for i in solutions_str:\n",
    "        exec(i.lstrip().rstrip())\n",
    "\n",
    "    demand_met = []\n",
    "    demand_purchased = []\n",
    "    degree_plants = []\n",
    "    degree_dc = []\n",
    "    degree_outsourced = []\n",
    "    Y_mat = np.array(list(v_val_Y_ijm.values())).reshape((192, 3, 6, 4))\n",
    "    Y_mat = np.sum(Y_mat, axis = 1)\n",
    "    Z_mat = np.array(list(v_val_Z_jkm.values())).reshape((192, 3, 4, 29))\n",
    "    Z_mat = np.sum(Z_mat, axis = 1)    \n",
    "    T2_mat = np.array(list(v_val_T_lkm.values())).reshape((192, 3, 3, 29))\n",
    "    T2_mat = np.sum(T2_mat, axis = 1)\n",
    "\n",
    "    for index in scenario_indices:\n",
    "        demand_met.append(1 - np.sum([v_val_U_km[index, k, m] for k in range(29) for m in range(3)])/np.sum(demand[index]))\n",
    "        demand_purchased.append(np.sum([v_val_V1_lm[index, m, l] + v_val_V2_lm[index, m, l] for m in range(3) for l in range(3)])/np.sum(demand[index]))    \n",
    "        degree_plants.append(np.sum(1*np.array([Y_mat[index][i][j] > 0 for i in range(6) for j in range(4)]))/6)    \n",
    "        degree_dc.append(np.sum(1*np.array([Z_mat[index][j][k] > 0 for j in range(4) for k in range(29)]))/4)    \n",
    "        degree_outsourced.append(np.sum(1*np.array([T2_mat[index][l][k] > 0 for l in range(3) for k in range(29)]))/3)\n",
    "        \n",
    "    my_df = pd.DataFrame(list(zip(demand_met, demand_purchased, degree_plants, degree_dc, degree_outsourced)), columns = [\"Demand Met\", \"Demand Outsourced\", \"Degree MP\", \"Degree DC\", \"Degree Outsource\"])\n",
    "    dfs.append(my_df)\n",
    "    print(my_df)\n",
    "    print('\\n')"
   ],
   "outputs": [
    {
     "output_type": "stream",
     "name": "stdout",
     "text": [
      "   Demand Met  Demand Outsourced  Degree MP  Degree DC  Degree Outsource\n",
      "0    0.666964           0.296874   0.333333       7.25         17.333333\n",
      "\n",
      "\n"
     ]
    }
   ],
   "metadata": {}
  },
  {
   "cell_type": "code",
   "execution_count": 13,
   "source": [
    "Scen[21]"
   ],
   "outputs": [
    {
     "output_type": "execute_result",
     "data": {
      "text/plain": [
       "[[1, 1, 1, 1, 0, 0], (0, 1, 1, 0)]"
      ]
     },
     "metadata": {},
     "execution_count": 13
    }
   ],
   "metadata": {}
  },
  {
   "cell_type": "code",
   "execution_count": 15,
   "source": [
    "## Meat Products"
   ],
   "outputs": [],
   "metadata": {}
  },
  {
   "cell_type": "code",
   "execution_count": 16,
   "source": [
    "demand = np.loadtxt('/home/dkabe/Model_brainstorming/Input_Data/Realistic/Instance_2/Demand_2.txt').reshape((192, 3, 29))\n",
    "text_file = open('/home/dkabe/Model_brainstorming/Input_Data/Realistic/Instance_2/scen_2.txt', \"r\")\n",
    "ls = text_file.read().split('\\n')[:-1]\n",
    "Scen = list(map(lambda x: ast.literal_eval(x), ls))"
   ],
   "outputs": [],
   "metadata": {}
  },
  {
   "cell_type": "code",
   "execution_count": 17,
   "source": [
    "scenario_indices = [16]"
   ],
   "outputs": [],
   "metadata": {}
  },
  {
   "cell_type": "code",
   "execution_count": 19,
   "source": [
    "dfs = []\n",
    "for r_level in rl:\n",
    "    df = []\n",
    "    f = open(path + \"Instance_2/variable_vals_\" +str(r_level) + \".txt\", \"r\")\n",
    "    text = f.read()\n",
    "    f.close()\n",
    "    solutions_str = text.split('\\n')\n",
    "    for i in solutions_str:\n",
    "        exec(i.lstrip().rstrip())\n",
    "\n",
    "    demand_met = []\n",
    "    demand_purchased = []\n",
    "    degree_plants = []\n",
    "    degree_dc = []\n",
    "    degree_outsourced = []\n",
    "    Y_mat = np.array(list(v_val_Y_ijm.values())).reshape((192, 3, 6, 4))\n",
    "    Y_mat = np.sum(Y_mat, axis = 1)\n",
    "    Z_mat = np.array(list(v_val_Z_jkm.values())).reshape((192, 3, 4, 29))\n",
    "    Z_mat = np.sum(Z_mat, axis = 1)    \n",
    "    T2_mat = np.array(list(v_val_T_lkm.values())).reshape((192, 3, 3, 29))\n",
    "    T2_mat = np.sum(T2_mat, axis = 1)\n",
    "\n",
    "    for index in scenario_indices:\n",
    "        demand_met.append(1 - np.sum([v_val_U_km[index, k, m] for k in range(29) for m in range(3)])/np.sum(demand[index]))\n",
    "        demand_purchased.append(np.sum([v_val_V1_lm[index, m, l] + v_val_V2_lm[index, m, l] for m in range(3) for l in range(3)])/np.sum(demand[index]))    \n",
    "        degree_plants.append(np.sum(1*np.array([Y_mat[index][i][j] > 0 for i in range(6) for j in range(4)]))/6)     \n",
    "        degree_dc.append(np.sum(1*np.array([Z_mat[index][j][k] > 0 for j in range(4) for k in range(29)]))/4)     \n",
    "        degree_outsourced.append(np.sum(1*np.array([T2_mat[index][l][k] > 0 for l in range(3) for k in range(29)]))/3)\n",
    "        \n",
    "    my_df = pd.DataFrame(list(zip(demand_met, demand_purchased, degree_plants, degree_dc, degree_outsourced)), columns = [\"Demand Met\", \"Demand Outsourced\", \"Degree MP\", \"Degree DC\", \"Degree Outsource\"])\n",
    "    dfs.append(my_df)\n",
    "    print(my_df)\n",
    "    print('\\n')"
   ],
   "outputs": [
    {
     "output_type": "stream",
     "name": "stdout",
     "text": [
      "   Demand Met  Demand Outsourced  Degree MP  Degree DC  Degree Outsource\n",
      "0    0.834342           0.111641   0.666667      10.25          6.666667\n",
      "\n",
      "\n"
     ]
    }
   ],
   "metadata": {}
  },
  {
   "cell_type": "code",
   "execution_count": 13,
   "source": [
    "running_Facilities = list(map(lambda x: sum(x[0]) + sum(x[1]), Scen))"
   ],
   "outputs": [],
   "metadata": {}
  },
  {
   "cell_type": "code",
   "execution_count": 14,
   "source": [
    "list(set(running_Facilities))"
   ],
   "outputs": [
    {
     "output_type": "execute_result",
     "data": {
      "text/plain": [
       "[1, 2, 3, 4, 5, 6, 7, 8, 9]"
      ]
     },
     "metadata": {},
     "execution_count": 14
    }
   ],
   "metadata": {}
  },
  {
   "cell_type": "code",
   "execution_count": 17,
   "source": [
    "running_Facilities.index(1)"
   ],
   "outputs": [
    {
     "output_type": "execute_result",
     "data": {
      "text/plain": [
       "14"
      ]
     },
     "metadata": {},
     "execution_count": 17
    }
   ],
   "metadata": {}
  },
  {
   "cell_type": "code",
   "execution_count": 17,
   "source": [
    "Scen[29]"
   ],
   "outputs": [
    {
     "output_type": "execute_result",
     "data": {
      "text/plain": [
       "[[1, 0, 1, 1, 1, 1], (1, 1, 1, 1)]"
      ]
     },
     "metadata": {},
     "execution_count": 17
    }
   ],
   "metadata": {}
  },
  {
   "cell_type": "code",
   "execution_count": 16,
   "source": [
    "from ray.util.multiprocessing import Pool\n"
   ],
   "outputs": [],
   "metadata": {}
  },
  {
   "cell_type": "code",
   "execution_count": null,
   "source": [],
   "outputs": [],
   "metadata": {}
  }
 ]
}