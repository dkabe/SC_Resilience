{
 "metadata": {
  "language_info": {
   "codemirror_mode": {
    "name": "ipython",
    "version": 3
   },
   "file_extension": ".py",
   "mimetype": "text/x-python",
   "name": "python",
   "nbconvert_exporter": "python",
   "pygments_lexer": "ipython3",
   "version": "3.7.4"
  },
  "orig_nbformat": 4,
  "kernelspec": {
   "name": "python3",
   "display_name": "Python 3.7.4 64-bit ('env_gurobi': virtualenv)"
  },
  "interpreter": {
   "hash": "ab66d84091635e28aaa655d19dc257d938f7e6a1e4d5fb0a631906b26faaf625"
  }
 },
 "nbformat": 4,
 "nbformat_minor": 2,
 "cells": [
  {
   "cell_type": "code",
   "execution_count": 1,
   "source": [
    "import numpy as np\n",
    "import math"
   ],
   "outputs": [],
   "metadata": {}
  },
  {
   "cell_type": "code",
   "execution_count": 2,
   "source": [
    "rl = [0.5, 0.75, 0.95]"
   ],
   "outputs": [],
   "metadata": {}
  },
  {
   "cell_type": "code",
   "execution_count": 9,
   "source": [
    "for instance in range(1,2):\n",
    "    for r_level in rl:\n",
    "        path = '/home/dkabe/Model_brainstorming/EVSS/V_Det/Instance_' + str(instance + 1) + '/v_det_' + str(r_level) + '.txt'\n",
    "        val = np.loadtxt(path)\n",
    "        print(np.mean(val))"
   ],
   "outputs": [
    {
     "output_type": "stream",
     "name": "stdout",
     "text": [
      "28259486.131283414\n",
      "30334315.819945794\n",
      "33276662.645373642\n"
     ]
    }
   ],
   "metadata": {}
  },
  {
   "cell_type": "code",
   "execution_count": 6,
   "source": [
    "## EVPI\n",
    "rl = [0.5, 0.75, 0.95]"
   ],
   "outputs": [],
   "metadata": {}
  },
  {
   "cell_type": "code",
   "execution_count": 5,
   "source": [
    "for instance in range(1,2):\n",
    "    for r_level in rl:\n",
    "        path = '/home/dkabe/Model_brainstorming/EVSS/EVPI_objectives/Instance_' + str(instance + 1) + '/objectives_' + str(r_level) + '.txt'\n",
    "        objs = np.loadtxt(path)\n",
    "        print(np.mean(objs))"
   ],
   "outputs": [
    {
     "output_type": "stream",
     "name": "stdout",
     "text": [
      "12545978.700210847\n",
      "12582935.48386725\n",
      "12644805.873034626\n"
     ]
    }
   ],
   "metadata": {}
  },
  {
   "cell_type": "code",
   "execution_count": null,
   "source": [],
   "outputs": [],
   "metadata": {}
  },
  {
   "cell_type": "code",
   "execution_count": null,
   "source": [],
   "outputs": [],
   "metadata": {}
  }
 ]
}