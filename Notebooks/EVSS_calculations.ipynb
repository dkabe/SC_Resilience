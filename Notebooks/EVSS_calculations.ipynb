{
 "metadata": {
  "language_info": {
   "codemirror_mode": {
    "name": "ipython",
    "version": 3
   },
   "file_extension": ".py",
   "mimetype": "text/x-python",
   "name": "python",
   "nbconvert_exporter": "python",
   "pygments_lexer": "ipython3",
   "version": "3.7.4"
  },
  "orig_nbformat": 4,
  "kernelspec": {
   "name": "python3",
   "display_name": "Python 3.7.4 64-bit ('env_gurobi': virtualenv)"
  },
  "interpreter": {
   "hash": "ab66d84091635e28aaa655d19dc257d938f7e6a1e4d5fb0a631906b26faaf625"
  }
 },
 "nbformat": 4,
 "nbformat_minor": 2,
 "cells": [
  {
   "cell_type": "code",
   "execution_count": 5,
   "source": [
    "import numpy as np\n",
    "import math"
   ],
   "outputs": [],
   "metadata": {}
  },
  {
   "cell_type": "code",
   "execution_count": 6,
   "source": [
    "rl = [0.5, 0.75, 0.95]"
   ],
   "outputs": [],
   "metadata": {}
  },
  {
   "cell_type": "code",
   "execution_count": 7,
   "source": [
    "for instance in range(1,2):\n",
    "    for r_level in rl:\n",
    "        path = '/home/dkabe/Model_brainstorming/EVSS/V_Det/Instance_' + str(instance + 1) + '/v_det_' + str(r_level) + '.txt'\n",
    "        val = np.loadtxt(path)\n",
    "        print(np.sum(val))"
   ],
   "outputs": [
    {
     "output_type": "stream",
     "name": "stdout",
     "text": [
      "33621341.8816475\n",
      "36629523.13843293\n",
      "40855962.471458554\n"
     ]
    }
   ],
   "metadata": {}
  },
  {
   "cell_type": "code",
   "execution_count": 3,
   "source": [
    "## EVPI\n",
    "rl = [0.5, 0.75, 0.95]"
   ],
   "outputs": [],
   "metadata": {}
  },
  {
   "cell_type": "code",
   "execution_count": 4,
   "source": [
    "for instance in range(2):\n",
    "    p_scen = np.loadtxt('/home/dkabe/Model_brainstorming/Input_Data/Realistic/Instance_' + str(instance + 1) + '/p_scen_' + str(instance + 1) + '.txt')\n",
    "    for r_level in rl:\n",
    "        path = '/home/dkabe/Model_brainstorming/EVSS/EVPI_objectives/Instance_' + str(instance + 1) + '/objectives_' + str(r_level) + '.txt'\n",
    "        objs = np.loadtxt(path)\n",
    "        print(np.sum(objs*p_scen))"
   ],
   "outputs": [
    {
     "output_type": "stream",
     "name": "stdout",
     "text": [
      "12909665.772104077\n",
      "12963323.273989134\n",
      "13068188.30163924\n",
      "12668798.171475314\n",
      "12725993.826168958\n",
      "12813735.14853198\n"
     ]
    }
   ],
   "metadata": {}
  },
  {
   "cell_type": "code",
   "execution_count": null,
   "source": [],
   "outputs": [],
   "metadata": {}
  }
 ]
}