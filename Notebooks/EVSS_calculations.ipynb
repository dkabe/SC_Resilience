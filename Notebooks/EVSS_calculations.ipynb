{
 "metadata": {
  "language_info": {
   "codemirror_mode": {
    "name": "ipython",
    "version": 3
   },
   "file_extension": ".py",
   "mimetype": "text/x-python",
   "name": "python",
   "nbconvert_exporter": "python",
   "pygments_lexer": "ipython3",
   "version": "3.7.4"
  },
  "orig_nbformat": 4,
  "kernelspec": {
   "name": "python3",
   "display_name": "Python 3.7.4 64-bit ('env_gurobi': virtualenv)"
  },
  "interpreter": {
   "hash": "ab66d84091635e28aaa655d19dc257d938f7e6a1e4d5fb0a631906b26faaf625"
  }
 },
 "nbformat": 4,
 "nbformat_minor": 2,
 "cells": [
  {
   "cell_type": "code",
   "execution_count": 1,
   "source": [
    "import numpy as np\n",
    "import math"
   ],
   "outputs": [],
   "metadata": {}
  },
  {
   "cell_type": "code",
   "execution_count": 2,
   "source": [
    "rl = [0.95]"
   ],
   "outputs": [],
   "metadata": {}
  },
  {
   "cell_type": "code",
   "execution_count": 3,
   "source": [
    "for instance in range(5,6):\n",
    "    p_scen = np.loadtxt('/home/dkabe/Model_brainstorming/Input_Data/Instance_' + str(instance + 1) + '/p_scen_' + str(instance + 1) + '.txt')\n",
    "    for r_level in rl:\n",
    "        path = '/home/dkabe/Model_brainstorming/EVSS/V_Det/Instance_' + str(instance + 1) + '/v_det_' + str(r_level) + '.txt'\n",
    "        val = np.loadtxt(path)\n",
    "        v_det_values = val\n",
    "        print(np.sum(v_det_values*p_scen))"
   ],
   "outputs": [
    {
     "output_type": "stream",
     "name": "stdout",
     "text": [
      "25997543.233988166\n"
     ]
    }
   ],
   "metadata": {}
  },
  {
   "cell_type": "code",
   "execution_count": 3,
   "source": [
    "## EVPI\n",
    "rl = [0.5, 0.75, 0.95]"
   ],
   "outputs": [],
   "metadata": {}
  },
  {
   "cell_type": "code",
   "execution_count": 6,
   "source": [
    "for instance in range(4,6):\n",
    "    p_scen = np.loadtxt('/home/dkabe/Model_brainstorming/Input_Data/Instance_' + str(instance + 1) + '/p_scen_' + str(instance + 1) + '.txt')\n",
    "    for r_level in rl:\n",
    "        path = '/home/dkabe/Model_brainstorming/EVSS/EVPI_objectives/Instance_' + str(instance + 1) + '/objectives_' + str(r_level) + '.txt'\n",
    "        objs = np.loadtxt(path)\n",
    "        print(np.sum(objs*p_scen))"
   ],
   "outputs": [
    {
     "output_type": "stream",
     "name": "stdout",
     "text": [
      "13275154.849133197\n",
      "13314550.4552322\n",
      "13370509.792095194\n",
      "13973452.941509005\n",
      "14032643.51347977\n",
      "14113584.353313662\n"
     ]
    }
   ],
   "metadata": {}
  },
  {
   "cell_type": "code",
   "execution_count": null,
   "source": [],
   "outputs": [],
   "metadata": {}
  }
 ]
}