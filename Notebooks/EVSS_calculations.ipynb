{
 "metadata": {
  "language_info": {
   "codemirror_mode": {
    "name": "ipython",
    "version": 3
   },
   "file_extension": ".py",
   "mimetype": "text/x-python",
   "name": "python",
   "nbconvert_exporter": "python",
   "pygments_lexer": "ipython3",
   "version": "3.7.4"
  },
  "orig_nbformat": 4,
  "kernelspec": {
   "name": "python3",
   "display_name": "Python 3.7.4 64-bit ('env_gurobi': virtualenv)"
  },
  "interpreter": {
   "hash": "ab66d84091635e28aaa655d19dc257d938f7e6a1e4d5fb0a631906b26faaf625"
  }
 },
 "nbformat": 4,
 "nbformat_minor": 2,
 "cells": [
  {
   "cell_type": "code",
   "execution_count": 1,
   "source": [
    "import numpy as np\n",
    "import math"
   ],
   "outputs": [],
   "metadata": {}
  },
  {
   "cell_type": "code",
   "execution_count": 2,
   "source": [
    "rl = [0.5, 0.75, 0.95]"
   ],
   "outputs": [],
   "metadata": {}
  },
  {
   "cell_type": "code",
   "execution_count": 4,
   "source": [
    "for instance in range(1):\n",
    "    for r_level in rl:\n",
    "        path = '/home/dkabe/Model_brainstorming/EVSS/V_Det/Instance_' + str(instance + 1) + '/v_det_' + str(r_level) + '.txt'\n",
    "        val = np.loadtxt(path)\n",
    "        print(np.sum(val))"
   ],
   "outputs": [
    {
     "output_type": "stream",
     "name": "stdout",
     "text": [
      "20845978.9593494\n",
      "21239070.117994405\n",
      "21732201.081403896\n"
     ]
    }
   ],
   "metadata": {}
  },
  {
   "cell_type": "code",
   "execution_count": 3,
   "source": [
    "## EVPI\n",
    "rl = [0.5, 0.75, 0.95]"
   ],
   "outputs": [],
   "metadata": {}
  },
  {
   "cell_type": "code",
   "execution_count": 5,
   "source": [
    "for instance in range(2):\n",
    "    p_scen = np.loadtxt('/home/dkabe/Model_brainstorming/Input_Data/Realistic/Instance_' + str(instance + 1) + '/p_scen_' + str(instance + 1) + '.txt')\n",
    "    for r_level in rl:\n",
    "        path = '/home/dkabe/Model_brainstorming/EVSS/EVPI_objectives/Instance_' + str(instance + 1) + '/objectives_' + str(r_level) + '.txt'\n",
    "        objs = np.loadtxt(path)\n",
    "        print(np.sum(objs*p_scen))"
   ],
   "outputs": [
    {
     "output_type": "stream",
     "name": "stdout",
     "text": [
      "13275154.849133197\n",
      "13314550.4552322\n",
      "13370509.792095194\n",
      "14520681.649018243\n",
      "14660816.819329426\n",
      "14835640.81763722\n"
     ]
    }
   ],
   "metadata": {}
  },
  {
   "cell_type": "code",
   "execution_count": null,
   "source": [],
   "outputs": [],
   "metadata": {}
  }
 ]
}