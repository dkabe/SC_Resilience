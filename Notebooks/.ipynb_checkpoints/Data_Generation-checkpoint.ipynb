{
 "cells": [
  {
   "cell_type": "code",
   "execution_count": 15,
   "id": "historical-penny",
   "metadata": {},
   "outputs": [],
   "source": [
    "import math\n",
    "import numpy as np\n",
    "import random\n",
    "from random import randint\n",
    "from gurobipy import *\n",
    "import pandas as pd\n",
    "from random import seed\n",
    "import matplotlib.pyplot as plt"
   ]
  },
  {
   "cell_type": "code",
   "execution_count": 16,
   "id": "downtown-mambo",
   "metadata": {},
   "outputs": [],
   "source": [
    "path = r\"C:\\Users\\Devika Kabe\\Documents\\Model_brainstorming\\\\\""
   ]
  },
  {
   "cell_type": "code",
   "execution_count": 17,
   "id": "excess-realtor",
   "metadata": {},
   "outputs": [],
   "source": [
    "f = open(path + 'Input_Data/product_distributions.txt', 'r')\n",
    "text = f.read()\n",
    "f.close()\n",
    "distributions = text.split('\\n')"
   ]
  },
  {
   "cell_type": "code",
   "execution_count": 18,
   "id": "unauthorized-panama",
   "metadata": {},
   "outputs": [],
   "source": [
    "for i in distributions:\n",
    "    exec(i.lstrip().rstrip())"
   ]
  },
  {
   "cell_type": "code",
   "execution_count": 19,
   "id": "european-courtesy",
   "metadata": {},
   "outputs": [],
   "source": [
    "distribution_mat = np.array([[p1_mean, p1_sd],\n",
    "                             [p2_mean, p2_sd],\n",
    "                             [p3_mean, p3_sd],\n",
    "                             [p4_mean, p4_sd]])"
   ]
  },
  {
   "cell_type": "code",
   "execution_count": 20,
   "id": "chronic-lounge",
   "metadata": {},
   "outputs": [
    {
     "data": {
      "text/plain": [
       "array([[2487.        ,   70.71067812],\n",
       "       [2329.        ,   42.42640687],\n",
       "       [2539.        ,   14.14213562],\n",
       "       [2302.        ,   56.56854249]])"
      ]
     },
     "execution_count": 20,
     "metadata": {},
     "output_type": "execute_result"
    }
   ],
   "source": [
    "distribution_mat"
   ]
  },
  {
   "cell_type": "markdown",
   "id": "split-outdoors",
   "metadata": {},
   "source": [
    "## 2 Products, 2 Outsourced Suppliers"
   ]
  },
  {
   "cell_type": "code",
   "execution_count": 21,
   "id": "signed-mailing",
   "metadata": {},
   "outputs": [],
   "source": [
    "Products = 2\n",
    "Outsourced = 2"
   ]
  },
  {
   "cell_type": "code",
   "execution_count": 22,
   "id": "medium-yacht",
   "metadata": {},
   "outputs": [],
   "source": [
    "## 2 MPs, 3 DCs, 4 MZs\n",
    "## 2 Products, 2 Outsourced Facilities \n",
    "\n",
    "Manufacturing_plants = 2\n",
    "Distribution = 3\n",
    "num_Scenarios = (2**Manufacturing_plants)*(2**Distribution) \n",
    "Market = 1\n",
    "\n",
    "# Cost of opening\n",
    "f_i = [7500, 12500]\n",
    "f_j = [7500, 12500, 17500]\n",
    "\n",
    "# Unit cost of manufacturing product\n",
    "np.random.seed(0)\n",
    "Manufacturing_costs = np.random.uniform(0,1, (Manufacturing_plants,Products))\n",
    "\n",
    "# Unit cost of transporting m from plant to DC\n",
    "np.random.seed(0)\n",
    "Transportation_i_j = np.random.uniform(0,1, (Products, Manufacturing_plants, Distribution))\n",
    "\n",
    "# Unit cost of transporting m from DC to Market Zone\n",
    "np.random.seed(0)\n",
    "Transportation_j_k = np.random.uniform(0,1, (Products, Distribution, Market))\n",
    "\n",
    "# Plant Capacities: Bigger capacities for the more expensive ones\n",
    "np.random.seed(0)\n",
    "Capacities_i = np.zeros(Manufacturing_plants) # in volume (metres cubed)\n",
    "Capacities_i[0] = 5000\n",
    "Capacities_i[1] = 10000\n",
    "\n",
    "Capacities_j = np.zeros(Distribution) # in volume (metres cubed)\n",
    "Capacities_j[0] = 5000\n",
    "Capacities_j[1] = 10000\n",
    "Capacities_j[2] = 15000\n",
    "\n",
    "Capacities_l = np.random.randint(400, 500, (Products,Outsourced)) # in terms of products \n",
    "\n",
    "# Cost of purchasing product m from supplier l \n",
    "np.random.seed(0)\n",
    "levels = 2\n",
    "Supplier_cost = np.zeros((levels, Products, Outsourced))\n",
    "Supplier_cost[0] = np.random.uniform(10, 12, (Products, Outsourced))\n",
    "Supplier_cost[1] = np.random.uniform(12, 15, (Products, Outsourced))\n",
    "\n",
    "# Cost of transporting product m from outsourced facility l to j\n",
    "np.random.seed(0)\n",
    "T_O_DC = np.random.uniform(1, 2, (Products, Outsourced, Distribution))\n",
    "\n",
    "# Cost of shipping product m from outsourced facility l to k\n",
    "np.random.seed(0)\n",
    "T_O_MZ = np.random.uniform(2, 3,(Products, Outsourced, Market))\n",
    "\n",
    "# Product volume \n",
    "np.random.seed(0)\n",
    "volume = np.random.uniform(1, 2,(Products))\n",
    "\n",
    "# unit cost of lost sales \n",
    "np.random.seed(1)\n",
    "lost_sales = np.random.uniform(10, 15, (Market,Products))\n",
    "\n",
    "# Demand\n",
    "demand = np.zeros((num_Scenarios, Products, Market))\n",
    "np.random.seed(0)\n",
    "for s in range(num_Scenarios):\n",
    "    for k in range(Market):\n",
    "        for m in range(Products):\n",
    "            demand[s][m][k] = np.round(np.random.normal(distribution_mat[m][0], distribution_mat[m][1]))"
   ]
  },
  {
   "cell_type": "code",
   "execution_count": 23,
   "id": "steady-convenience",
   "metadata": {},
   "outputs": [
    {
     "data": {
      "text/plain": [
       "array([[444, 447],\n",
       "       [464, 467]])"
      ]
     },
     "execution_count": 23,
     "metadata": {},
     "output_type": "execute_result"
    }
   ],
   "source": [
    "Capacities_l"
   ]
  },
  {
   "cell_type": "code",
   "execution_count": 24,
   "id": "cordless-victorian",
   "metadata": {},
   "outputs": [
    {
     "data": {
      "text/plain": [
       "array([[[11.09762701, 11.43037873],\n",
       "        [11.20552675, 11.08976637]],\n",
       "\n",
       "       [[13.2709644 , 13.93768234],\n",
       "        [13.31276163, 14.675319  ]]])"
      ]
     },
     "execution_count": 24,
     "metadata": {},
     "output_type": "execute_result"
    }
   ],
   "source": [
    "Supplier_cost"
   ]
  },
  {
   "cell_type": "code",
   "execution_count": 25,
   "id": "previous-beginning",
   "metadata": {},
   "outputs": [],
   "source": [
    "# save files \n",
    "np.savetxt(path + 'Input_Data/Instance_1/OpenMP_1.txt', f_i)\n",
    "np.savetxt(path + 'Input_Data/Instance_1/OpenDC_1.txt', f_j)\n",
    "np.savetxt(path + 'Input_Data/Instance_1/Manufacturing_1.txt', Manufacturing_costs)\n",
    "np.savetxt(path + 'Input_Data/Instance_1/TransMPDC_1.txt', Transportation_i_j.reshape((Products*Manufacturing_plants, Distribution)))\n",
    "np.savetxt(path + 'Input_Data/Instance_1/TransDCMZ_1.txt', Transportation_j_k.reshape((Products*Distribution, Market)))\n",
    "np.savetxt(path + 'Input_Data/Instance_1/CapacitiesMP_1.txt', Capacities_i)\n",
    "np.savetxt(path + 'Input_Data/Instance_1/CapacitiesDC_1.txt', Capacities_j)\n",
    "np.savetxt(path + 'Input_Data/Instance_1/CapacitiesOutsource_1.txt', Capacities_l)\n",
    "np.savetxt(path + 'Input_Data/Instance_1/SupplierCost_1.txt', Supplier_cost.reshape((levels*Products, Outsourced)))\n",
    "np.savetxt(path + 'Input_Data/Instance_1/TransSupplierDC_1.txt', T_O_DC.reshape((Products*Outsourced, Distribution)))\n",
    "np.savetxt(path + 'Input_Data/Instance_1/TransSupplierMZ_1.txt', T_O_MZ.reshape((Products*Outsourced, Market)))\n",
    "np.savetxt(path + 'Input_Data/Instance_1/Volume_1.txt', volume)\n",
    "np.savetxt(path + 'Input_Data/Instance_1/LostSales_1.txt', lost_sales)\n",
    "np.savetxt(path + 'Input_Data/Instance_1/Demand_1.txt', demand.reshape((num_Scenarios*Products, Market)))"
   ]
  },
  {
   "cell_type": "code",
   "execution_count": 26,
   "id": "social-lawyer",
   "metadata": {},
   "outputs": [],
   "source": [
    "## 3 MPs, 4 DCs, 2 MZs\n",
    "\n",
    "num_Scenarios = 128\n",
    "\n",
    "Manufacturing_plants = 3\n",
    "Distribution = 4\n",
    "Market = 2\n",
    "Outsourced = 2\n",
    "\n",
    "# Cost of opening\n",
    "f_i = [7500, 12500, 17500]\n",
    "f_j = [7500, 12500, 17500, 7500]\n",
    "\n",
    "# Unit cost of manufacturing product\n",
    "np.random.seed(0)\n",
    "Manufacturing_costs = np.random.uniform(0,1, (Manufacturing_plants,Products))\n",
    "\n",
    "# Unit cost of transporting m from plant to DC\n",
    "np.random.seed(0)\n",
    "Transportation_i_j = np.random.uniform(0,1, (Products, Manufacturing_plants, Distribution))\n",
    "\n",
    "# Unit cost of transporting m from DC to Market Zone\n",
    "np.random.seed(0)\n",
    "Transportation_j_k = np.random.uniform(0,1, (Products, Distribution, Market))\n",
    "\n",
    "# Plant Capacities: Bigger capacities for the more expensive ones\n",
    "np.random.seed(0)\n",
    "Capacities_i = np.zeros(Manufacturing_plants) # in volume (metres cubed)\n",
    "Capacities_i[0] = 5000\n",
    "Capacities_i[1] = 10000\n",
    "Capacities_i[2] = 15000\n",
    "Capacities_j = np.zeros(Distribution) # in volume (metres cubed)\n",
    "Capacities_j[0] = 5000\n",
    "Capacities_j[1] = 10000\n",
    "Capacities_j[2] = 15000\n",
    "Capacities_j[3] = 5000\n",
    "Capacities_l = np.random.randint(800, 1000, (Products,Outsourced)) # in terms of products \n",
    "\n",
    "# Cost of purchasing product m from supplier l \n",
    "np.random.seed(0)\n",
    "levels = 2\n",
    "Supplier_cost = np.zeros((levels, Products, Outsourced))\n",
    "Supplier_cost[0] = np.random.uniform(10, 12, (Products, Outsourced))\n",
    "Supplier_cost[1] = np.random.uniform(12, 15, (Products, Outsourced))\n",
    "\n",
    "# Cost of transporting product m from outsourced facility l to j\n",
    "np.random.seed(0)\n",
    "T_O_DC = np.random.uniform(1, 2, (Products, Outsourced, Distribution))\n",
    "\n",
    "# Cost of shipping product m from outsourced facility l to k\n",
    "np.random.seed(0)\n",
    "T_O_MZ = np.random.uniform(2, 3,(Products, Outsourced, Market))\n",
    "\n",
    "# Product volume \n",
    "np.random.seed(0)\n",
    "volume = np.random.uniform(1, 2,(Products))\n",
    "\n",
    "# unit cost of lost sales \n",
    "np.random.seed(1)\n",
    "lost_sales = np.random.uniform(10, 15, (Market,Products))\n",
    "\n",
    "# Demand\n",
    "demand = np.zeros((num_Scenarios, Products, Market))\n",
    "np.random.seed(0)\n",
    "for s in range(num_Scenarios):\n",
    "    for k in range(Market):\n",
    "        for m in range(Products):\n",
    "            demand[s][m][k] = np.round(np.random.normal(distribution_mat[m][0], distribution_mat[m][1]))"
   ]
  },
  {
   "cell_type": "code",
   "execution_count": 27,
   "id": "coastal-increase",
   "metadata": {},
   "outputs": [
    {
     "data": {
      "text/plain": [
       "9784.0"
      ]
     },
     "execution_count": 27,
     "metadata": {},
     "output_type": "execute_result"
    }
   ],
   "source": [
    "np.sum(demand[1])"
   ]
  },
  {
   "cell_type": "code",
   "execution_count": 28,
   "id": "hidden-recipe",
   "metadata": {},
   "outputs": [],
   "source": [
    "np.savetxt(path + 'Input_Data/Instance_2/OpenMP_2.txt', f_i)\n",
    "np.savetxt(path + 'Input_Data/Instance_2/OpenDC_2.txt', f_j)\n",
    "np.savetxt(path + 'Input_Data/Instance_2/Manufacturing_2.txt', Manufacturing_costs)\n",
    "np.savetxt(path + 'Input_Data/Instance_2/TransMPDC_2.txt', Transportation_i_j.reshape((Products*Manufacturing_plants, Distribution)))\n",
    "np.savetxt(path + 'Input_Data/Instance_2/TransDCMZ_2.txt', Transportation_j_k.reshape((Products*Distribution, Market)))\n",
    "np.savetxt(path + 'Input_Data/Instance_2/CapacitiesMP_2.txt', Capacities_i)\n",
    "np.savetxt(path + 'Input_Data/Instance_2/CapacitiesDC_2.txt', Capacities_j)\n",
    "np.savetxt(path + 'Input_Data/Instance_2/CapacitiesOutsource_2.txt', Capacities_l)\n",
    "np.savetxt(path +'Input_Data/Instance_2/SupplierCost_2.txt', Supplier_cost.reshape((levels*Products, Outsourced)))\n",
    "np.savetxt(path + 'Input_Data/Instance_2/TransSupplierDC_2.txt', T_O_DC.reshape((Products*Outsourced, Distribution)))\n",
    "np.savetxt(path + 'Input_Data/Instance_2/TransSupplierMZ_2.txt', T_O_MZ.reshape((Products*Outsourced, Market)))\n",
    "np.savetxt(path + 'Input_Data/Instance_2/Volume_2.txt', volume)\n",
    "np.savetxt(path + 'Input_Data/Instance_2/LostSales_2.txt', lost_sales)\n",
    "np.savetxt(path + 'Input_Data/Instance_2/Demand_2.txt', demand.reshape((num_Scenarios*Products, Market)))"
   ]
  },
  {
   "cell_type": "code",
   "execution_count": 26,
   "id": "clinical-receptor",
   "metadata": {},
   "outputs": [
    {
     "data": {
      "text/plain": [
       "array([[[2612.],\n",
       "        [2346.]],\n",
       "\n",
       "       [[2619.],\n",
       "        [2288.]],\n",
       "\n",
       "       [[2480.],\n",
       "        [2346.]],\n",
       "\n",
       "       [[2541.],\n",
       "        [2334.]],\n",
       "\n",
       "       [[2593.],\n",
       "        [2320.]],\n",
       "\n",
       "       [[2306.],\n",
       "        [2357.]],\n",
       "\n",
       "       [[2647.],\n",
       "        [2267.]],\n",
       "\n",
       "       [[2595.],\n",
       "        [2391.]],\n",
       "\n",
       "       [[2424.],\n",
       "        [2245.]],\n",
       "\n",
       "       [[2574.],\n",
       "        [2380.]],\n",
       "\n",
       "       [[2413.],\n",
       "        [2269.]],\n",
       "\n",
       "       [[2451.],\n",
       "        [2310.]],\n",
       "\n",
       "       [[2373.],\n",
       "        [2320.]],\n",
       "\n",
       "       [[2451.],\n",
       "        [2279.]],\n",
       "\n",
       "       [[2492.],\n",
       "        [2342.]],\n",
       "\n",
       "       [[2439.],\n",
       "        [2314.]],\n",
       "\n",
       "       [[2500.],\n",
       "        [2312.]],\n",
       "\n",
       "       [[2423.],\n",
       "        [2331.]],\n",
       "\n",
       "       [[2568.],\n",
       "        [2277.]],\n",
       "\n",
       "       [[2425.],\n",
       "        [2304.]],\n",
       "\n",
       "       [[2405.],\n",
       "        [2367.]]])"
      ]
     },
     "execution_count": 26,
     "metadata": {},
     "output_type": "execute_result"
    }
   ],
   "source": [
    "demand[:21,:,:1]"
   ]
  },
  {
   "cell_type": "code",
   "execution_count": 61,
   "id": "manufactured-expansion",
   "metadata": {},
   "outputs": [
    {
     "data": {
      "text/plain": [
       "2"
      ]
     },
     "execution_count": 61,
     "metadata": {},
     "output_type": "execute_result"
    }
   ],
   "source": [
    "Outsourced"
   ]
  },
  {
   "cell_type": "code",
   "execution_count": 9,
   "id": "thermal-oxford",
   "metadata": {},
   "outputs": [],
   "source": [
    "## 4 MPs, 6 DCs, 3 MZs\n",
    "\n",
    "num_Scenarios = 200\n",
    "Manufacturing_plants = 4\n",
    "Distribution = 6\n",
    "Market = 3\n",
    "Products = 2\n",
    "Outsourced = 2\n",
    "# Cost of opening\n",
    "f_i = [7500, 12500, 17500, 7500]\n",
    "f_j = [7500, 12500, 17500, 7500, 12500, 17500]\n",
    "\n",
    "# Unit cost of manufacturing product\n",
    "np.random.seed(0)\n",
    "Manufacturing_costs = np.random.uniform(0,1, (Manufacturing_plants,Products))\n",
    "\n",
    "# Unit cost of transporting m from plant to DC\n",
    "np.random.seed(0)\n",
    "Transportation_i_j = np.random.uniform(0,1, (Products, Manufacturing_plants, Distribution))\n",
    "\n",
    "# Unit cost of transporting m from DC to Market Zone\n",
    "np.random.seed(0)\n",
    "Transportation_j_k = np.random.uniform(0,1, (Products, Distribution, Market))\n",
    "\n",
    "# Plant Capacities: Bigger capacities for the more expensive ones\n",
    "np.random.seed(0)\n",
    "Capacities_i = np.zeros(Manufacturing_plants) # in volume (metres cubed)\n",
    "Capacities_i[0] = 5000\n",
    "Capacities_i[1] = 10000\n",
    "Capacities_i[2] = 15000\n",
    "Capacities_i[3] = 5000\n",
    "Capacities_j = np.zeros(Distribution) # in volume (metres cubed)\n",
    "Capacities_j[0] = 5000\n",
    "Capacities_j[1] = 10000\n",
    "Capacities_j[2] = 15000\n",
    "Capacities_j[3] = 5000\n",
    "Capacities_j[4] = 10000\n",
    "Capacities_j[5] = 15000\n",
    "Capacities_l = np.random.randint(1200, 1500, (Products,Outsourced)) # in terms of products \n",
    "\n",
    "# Cost of purchasing product m from supplier l \n",
    "np.random.seed(0)\n",
    "levels = 2\n",
    "Supplier_cost = np.zeros((levels, Products, Outsourced))\n",
    "Supplier_cost[0] = np.random.uniform(10, 12, (Products, Outsourced))\n",
    "Supplier_cost[1] = np.random.uniform(12, 15, (Products, Outsourced))\n",
    "\n",
    "# Cost of transporting product m from outsourced facility l to j\n",
    "np.random.seed(0)\n",
    "T_O_DC = np.random.uniform(1, 2, (Products, Outsourced, Distribution))\n",
    "\n",
    "# Cost of shipping product m from outsourced facility l to k\n",
    "np.random.seed(0)\n",
    "T_O_MZ = np.random.uniform(2, 3,(Products, Outsourced, Market))\n",
    "\n",
    "# Product volume \n",
    "np.random.seed(0)\n",
    "volume = np.random.uniform(1, 2,(Products))\n",
    "\n",
    "# unit cost of lost sales \n",
    "np.random.seed(1)\n",
    "lost_sales = np.random.uniform(10, 15, (Market,Products))\n",
    "\n",
    "# Demand\n",
    "demand = np.zeros((num_Scenarios, Products, Market))\n",
    "np.random.seed(0)\n",
    "for s in range(num_Scenarios):\n",
    "    for k in range(Market):\n",
    "        for m in range(Products):\n",
    "            demand[s][m][k] = np.round(np.random.normal(distribution_mat[m][0], distribution_mat[m][1]))"
   ]
  },
  {
   "cell_type": "code",
   "execution_count": 10,
   "id": "foster-archive",
   "metadata": {},
   "outputs": [
    {
     "data": {
      "text/plain": [
       "array([[12.08511002, 13.60162247],\n",
       "       [10.00057187, 11.51166286],\n",
       "       [10.73377945, 10.46169297]])"
      ]
     },
     "execution_count": 10,
     "metadata": {},
     "output_type": "execute_result"
    }
   ],
   "source": [
    "lost_sales"
   ]
  },
  {
   "cell_type": "code",
   "execution_count": 11,
   "id": "interstate-differential",
   "metadata": {},
   "outputs": [
    {
     "data": {
      "text/plain": [
       "array([[[11.09762701, 11.43037873],\n",
       "        [11.20552675, 11.08976637]],\n",
       "\n",
       "       [[13.2709644 , 13.93768234],\n",
       "        [13.31276163, 14.675319  ]]])"
      ]
     },
     "execution_count": 11,
     "metadata": {},
     "output_type": "execute_result"
    }
   ],
   "source": [
    "Supplier_cost"
   ]
  },
  {
   "cell_type": "code",
   "execution_count": 12,
   "id": "thrown-guinea",
   "metadata": {},
   "outputs": [],
   "source": [
    "np.savetxt(path + 'Input_Data/Instance_3/OpenMP_3.txt', f_i)\n",
    "np.savetxt(path + 'Input_Data/Instance_3/OpenDC_3.txt', f_j)\n",
    "np.savetxt(path + 'Input_Data/Instance_3/Manufacturing_3.txt', Manufacturing_costs)\n",
    "np.savetxt(path + 'Input_Data/Instance_3/TransMPDC_3.txt', Transportation_i_j.reshape((Products*Manufacturing_plants, Distribution)))\n",
    "np.savetxt(path + 'Input_Data/Instance_3/TransDCMZ_3.txt', Transportation_j_k.reshape((Products*Distribution, Market)))\n",
    "np.savetxt(path + 'Input_Data/Instance_3/CapacitiesMP_3.txt', Capacities_i)\n",
    "np.savetxt(path + 'Input_Data/Instance_3/CapacitiesDC_3.txt', Capacities_j)\n",
    "np.savetxt(path + 'Input_Data/Instance_3/CapacitiesOutsource_3.txt', Capacities_l)\n",
    "np.savetxt(path + 'Input_Data/Instance_3/SupplierCost_3.txt', Supplier_cost.reshape((levels*Products, Outsourced)))\n",
    "np.savetxt(path + 'Input_Data/Instance_3/TransSupplierDC_3.txt', T_O_DC.reshape((Products*Outsourced, Distribution)))\n",
    "np.savetxt(path + 'Input_Data/Instance_3/TransSupplierMZ_3.txt', T_O_MZ.reshape((Products*Outsourced, Market)))\n",
    "np.savetxt(path + 'Input_Data/Instance_3/Volume_3.txt', volume)\n",
    "np.savetxt(path + 'Input_Data/Instance_3/LostSales_3.txt', lost_sales)\n",
    "np.savetxt(path + 'Input_Data/Instance_3/Demand_3.txt', demand.reshape((num_Scenarios*Products, Market)))"
   ]
  },
  {
   "cell_type": "code",
   "execution_count": 67,
   "id": "comfortable-liverpool",
   "metadata": {},
   "outputs": [],
   "source": [
    "## 6 MPs, 8 DCs, 5 MZs\n",
    "\n",
    "num_Scenarios = 200\n",
    "Manufacturing_plants = 6\n",
    "Distribution = 8\n",
    "Market = 5\n",
    "\n",
    "# Cost of opening\n",
    "f_i = [7500, 12500, 17500, 7500, 12500, 17500]\n",
    "f_j = [7500, 12500, 17500, 7500, 12500, 17500, 7500, 12500]\n",
    "# Unit cost of manufacturing product\n",
    "np.random.seed(0)\n",
    "Manufacturing_costs = np.random.uniform(0,1, (Manufacturing_plants,Products))\n",
    "\n",
    "# Unit cost of transporting m from plant to DC\n",
    "np.random.seed(0)\n",
    "Transportation_i_j = np.random.uniform(0,1, (Products, Manufacturing_plants, Distribution))\n",
    "\n",
    "# Unit cost of transporting m from DC to Market Zone\n",
    "np.random.seed(0)\n",
    "Transportation_j_k = np.random.uniform(0,1, (Products, Distribution, Market))\n",
    "\n",
    "# Plant Capacities: Bigger capacities for the more expensive ones\n",
    "np.random.seed(0)\n",
    "Capacities_i = np.zeros(Manufacturing_plants) # in volume (metres cubed)\n",
    "Capacities_i[0] = 5000\n",
    "Capacities_i[1] = 10000\n",
    "Capacities_i[2] = 15000\n",
    "Capacities_i[3] = 5000\n",
    "Capacities_i[4] = 10000\n",
    "Capacities_i[5] = 15000\n",
    "Capacities_j = np.zeros(Distribution) # in volume (metres cubed)\n",
    "Capacities_j[0] = 5000\n",
    "Capacities_j[1] = 10000\n",
    "Capacities_j[2] = 15000\n",
    "Capacities_j[3] = 5000\n",
    "Capacities_j[4] = 10000\n",
    "Capacities_j[5] = 15000\n",
    "Capacities_j[6] = 5000\n",
    "Capacities_j[7] = 10000\n",
    "Capacities_l = np.random.randint(4000,5000, (Products,Outsourced)) # in terms of products \n",
    "\n",
    "# Cost of purchasing product m from supplier l \n",
    "np.random.seed(0)\n",
    "levels = 2\n",
    "Supplier_cost = np.zeros((levels, Products, Outsourced))\n",
    "Supplier_cost[0] = np.random.uniform(10, 12, (Products, Outsourced))\n",
    "Supplier_cost[1] = np.random.uniform(12, 15, (Products, Outsourced))\n",
    "\n",
    "# Cost of transporting product m from outsourced facility l to j\n",
    "np.random.seed(0)\n",
    "T_O_DC = np.random.uniform(1, 2, (Products, Outsourced, Distribution))\n",
    "\n",
    "# Cost of shipping product m from outsourced facility l to k\n",
    "np.random.seed(0)\n",
    "T_O_MZ = np.random.uniform(2, 3,(Products, Outsourced, Market))\n",
    "\n",
    "# Product volume \n",
    "np.random.seed(0)\n",
    "volume = np.random.uniform(1, 2,(Products))\n",
    "\n",
    "# unit cost of lost sales \n",
    "np.random.seed(1)\n",
    "lost_sales = np.random.uniform(10, 15, (Market,Products))\n",
    "\n",
    "# Demand\n",
    "demand = np.zeros((num_Scenarios, Products, Market))\n",
    "np.random.seed(0)\n",
    "for s in range(num_Scenarios):\n",
    "    for k in range(Market):\n",
    "        for m in range(Products):\n",
    "            demand[s][m][k] = np.round(np.random.normal(distribution_mat[m][0], distribution_mat[m][1]))"
   ]
  },
  {
   "cell_type": "code",
   "execution_count": 65,
   "id": "configured-stylus",
   "metadata": {},
   "outputs": [
    {
     "data": {
      "text/plain": [
       "array([[[2612.],\n",
       "        [2346.]],\n",
       "\n",
       "       [[2556.],\n",
       "        [2424.]],\n",
       "\n",
       "       [[2619.],\n",
       "        [2288.]],\n",
       "\n",
       "       [[2554.],\n",
       "        [2323.]],\n",
       "\n",
       "       [[2480.],\n",
       "        [2346.]],\n",
       "\n",
       "       [[2497.],\n",
       "        [2391.]],\n",
       "\n",
       "       [[2541.],\n",
       "        [2334.]],\n",
       "\n",
       "       [[2518.],\n",
       "        [2343.]],\n",
       "\n",
       "       [[2593.],\n",
       "        [2320.]],\n",
       "\n",
       "       [[2509.],\n",
       "        [2293.]],\n",
       "\n",
       "       [[2306.],\n",
       "        [2357.]],\n",
       "\n",
       "       [[2548.],\n",
       "        [2298.]],\n",
       "\n",
       "       [[2647.],\n",
       "        [2267.]],\n",
       "\n",
       "       [[2490.],\n",
       "        [2321.]],\n",
       "\n",
       "       [[2595.],\n",
       "        [2391.]],\n",
       "\n",
       "       [[2498.],\n",
       "        [2345.]],\n",
       "\n",
       "       [[2424.],\n",
       "        [2245.]],\n",
       "\n",
       "       [[2462.],\n",
       "        [2336.]],\n",
       "\n",
       "       [[2574.],\n",
       "        [2380.]],\n",
       "\n",
       "       [[2460.],\n",
       "        [2316.]],\n",
       "\n",
       "       [[2413.],\n",
       "        [2269.]]])"
      ]
     },
     "execution_count": 65,
     "metadata": {},
     "output_type": "execute_result"
    }
   ],
   "source": [
    "demand"
   ]
  },
  {
   "cell_type": "code",
   "execution_count": 68,
   "id": "extensive-constitutional",
   "metadata": {},
   "outputs": [
    {
     "data": {
      "text/plain": [
       "array([[[2612., 2556., 2619., 2554., 2480.],\n",
       "        [2346., 2424., 2288., 2323., 2346.]],\n",
       "\n",
       "       [[2497., 2541., 2518., 2593., 2509.],\n",
       "        [2391., 2334., 2343., 2320., 2293.]],\n",
       "\n",
       "       [[2306., 2548., 2647., 2490., 2595.],\n",
       "        [2357., 2298., 2267., 2321., 2391.]],\n",
       "\n",
       "       ...,\n",
       "\n",
       "       [[2577., 2488., 2463., 2542., 2430.],\n",
       "        [2299., 2343., 2328., 2347., 2282.]],\n",
       "\n",
       "       [[2431., 2476., 2445., 2517., 2398.],\n",
       "        [2329., 2294., 2265., 2327., 2330.]],\n",
       "\n",
       "       [[2582., 2580., 2501., 2586., 2406.],\n",
       "        [2298., 2315., 2333., 2336., 2273.]]])"
      ]
     },
     "execution_count": 68,
     "metadata": {},
     "output_type": "execute_result"
    }
   ],
   "source": [
    "demand"
   ]
  },
  {
   "cell_type": "code",
   "execution_count": 15,
   "id": "lesser-toyota",
   "metadata": {},
   "outputs": [],
   "source": [
    "np.savetxt(path + 'Input_Data/Instance_4/OpenMP_4.txt', f_i)\n",
    "np.savetxt(path + 'Input_Data/Instance_4/OpenDC_4.txt', f_j)\n",
    "np.savetxt(path + 'Input_Data/Instance_4/Manufacturing_4.txt', Manufacturing_costs)\n",
    "np.savetxt(path + 'Input_Data/Instance_4/TransMPDC_4.txt', Transportation_i_j.reshape((Products*Manufacturing_plants, Distribution)))\n",
    "np.savetxt(path + 'Input_Data/Instance_4/TransDCMZ_4.txt', Transportation_j_k.reshape((Products*Distribution, Market)))\n",
    "np.savetxt(path + 'Input_Data/Instance_4/CapacitiesMP_4.txt', Capacities_i)\n",
    "np.savetxt(path + 'Input_Data/Instance_4/CapacitiesDC_4.txt', Capacities_j)\n",
    "np.savetxt(path + 'Input_Data/Instance_4/CapacitiesOutsource_4.txt', Capacities_l)\n",
    "np.savetxt(path + 'Input_Data/Instance_4/SupplierCost_4.txt', Supplier_cost.reshape((levels*Products, Outsourced)))\n",
    "np.savetxt(path + 'Input_Data/Instance_4/TransSupplierDC_4.txt', T_O_DC.reshape((Products*Outsourced, Distribution)))\n",
    "np.savetxt(path + 'Input_Data/Instance_4/TransSupplierMZ_4.txt', T_O_MZ.reshape((Products*Outsourced, Market)))\n",
    "np.savetxt(path + 'Input_Data/Instance_4/Volume_4.txt', volume)\n",
    "np.savetxt(path + 'Input_Data/Instance_4/LostSales_4.txt', lost_sales)\n",
    "np.savetxt(path + 'Input_Data/Instance_4/Demand_4.txt', demand.reshape((num_Scenarios*Products, Market)))"
   ]
  },
  {
   "cell_type": "code",
   "execution_count": null,
   "id": "cognitive-mining",
   "metadata": {},
   "outputs": [],
   "source": []
  },
  {
   "cell_type": "code",
   "execution_count": null,
   "id": "distinguished-climb",
   "metadata": {},
   "outputs": [],
   "source": []
  }
 ],
 "metadata": {
  "kernelspec": {
   "display_name": "Python 3",
   "language": "python",
   "name": "python3"
  },
  "language_info": {
   "codemirror_mode": {
    "name": "ipython",
    "version": 3
   },
   "file_extension": ".py",
   "mimetype": "text/x-python",
   "name": "python",
   "nbconvert_exporter": "python",
   "pygments_lexer": "ipython3",
   "version": "3.7.3"
  }
 },
 "nbformat": 4,
 "nbformat_minor": 5
}
