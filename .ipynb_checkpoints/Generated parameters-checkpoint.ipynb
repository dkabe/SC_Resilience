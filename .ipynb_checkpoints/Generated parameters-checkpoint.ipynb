{
 "cells": [
  {
   "cell_type": "code",
   "execution_count": 446,
   "id": "promotional-copper",
   "metadata": {},
   "outputs": [],
   "source": [
    "import numpy as np\n",
    "import random\n",
    "from random import randint\n",
    "from gurobipy import *"
   ]
  },
  {
   "cell_type": "code",
   "execution_count": 447,
   "id": "paperback-atmosphere",
   "metadata": {},
   "outputs": [],
   "source": [
    "Manufacturing_plants = 2\n",
    "Distribution = 3\n",
    "Market = 4\n",
    "Products = 2\n",
    "Outsourced = 2"
   ]
  },
  {
   "cell_type": "code",
   "execution_count": 448,
   "id": "dirty-thing",
   "metadata": {},
   "outputs": [],
   "source": [
    "# Product Demand\n",
    "demand = np.random.randint(0,20,(Products,Market))"
   ]
  },
  {
   "cell_type": "code",
   "execution_count": 449,
   "id": "olympic-waterproof",
   "metadata": {},
   "outputs": [],
   "source": [
    "# Cost of opening\n",
    "f_i = [20, 25]\n",
    "f_j = [15, 5, 10]"
   ]
  },
  {
   "cell_type": "code",
   "execution_count": 450,
   "id": "intermediate-official",
   "metadata": {},
   "outputs": [],
   "source": [
    "# Unit cost of manufacturing product \n",
    "Manufacturing_costs = np.random.uniform(0,5, (Manufacturing_plants,Products))"
   ]
  },
  {
   "cell_type": "code",
   "execution_count": 451,
   "id": "composed-newfoundland",
   "metadata": {},
   "outputs": [],
   "source": [
    "# Unit cost of transporting m from plant to DC\n",
    "Transportation_i_j = np.random.uniform(0,5, (Products, Manufacturing_plants, Distribution))"
   ]
  },
  {
   "cell_type": "code",
   "execution_count": 452,
   "id": "mathematical-block",
   "metadata": {},
   "outputs": [],
   "source": [
    "# Unit cost of transporting m from DC to Market Zone\n",
    "Transportation_j_k = np.random.uniform(0,5, (Products, Distribution, Market))"
   ]
  },
  {
   "cell_type": "code",
   "execution_count": 453,
   "id": "separate-sullivan",
   "metadata": {},
   "outputs": [],
   "source": [
    "# Plant Capacities\n",
    "Capacities_i = np.random.randint(30,50,(Manufacturing_plants))\n",
    "Capacities_j = np.random.randint(30,50,(Distribution))\n",
    "Capacities_l = Supplier_cost = np.zeros((Products,Outsourced))\n",
    "np.fill_diagonal(Capacities_l, random.randint(15,20))"
   ]
  },
  {
   "cell_type": "code",
   "execution_count": 454,
   "id": "federal-discharge",
   "metadata": {},
   "outputs": [],
   "source": [
    "# Cost of purchasing product m from supplier l (assume only 1 product type from each outsourcer)\n",
    "Supplier_cost = np.zeros((Products, Outsourced))\n",
    "np.fill_diagonal(Supplier_cost, random.randint(5,10))"
   ]
  },
  {
   "cell_type": "code",
   "execution_count": 455,
   "id": "governing-mustang",
   "metadata": {},
   "outputs": [],
   "source": [
    "# Cost of transporting product m from supplier to j\n",
    "T_O_DC = np.zeros((Products, Outsourced, Distribution))\n",
    "T_O_DC[0][0] = np.random.uniform(5,10,(Distribution))\n",
    "T_O_DC[1][1] = np.random.uniform(5,10,(Distribution))"
   ]
  },
  {
   "cell_type": "code",
   "execution_count": 456,
   "id": "flexible-anthony",
   "metadata": {},
   "outputs": [],
   "source": [
    "# Cost of shipping product m from supplier to k\n",
    "T_O_MZ = np.zeros((Products, Outsourced, Market))\n",
    "T_O_MZ[0][0] = np.random.uniform(5,10,(Market))\n",
    "T_O_MZ[1][1] = np.random.uniform(5,10,(Market))"
   ]
  },
  {
   "cell_type": "code",
   "execution_count": 457,
   "id": "olympic-animal",
   "metadata": {},
   "outputs": [],
   "source": [
    "# Product volume \n",
    "volume = np.random.randint(2,5,(Products))"
   ]
  },
  {
   "cell_type": "code",
   "execution_count": 458,
   "id": "alike-marriage",
   "metadata": {},
   "outputs": [],
   "source": [
    "# unit cost of lost sales \n",
    "lost_sales = np.random.randint(150,200,(Market,Products))"
   ]
  },
  {
   "cell_type": "code",
   "execution_count": 459,
   "id": "impossible-opera",
   "metadata": {},
   "outputs": [],
   "source": [
    "## Model"
   ]
  },
  {
   "cell_type": "code",
   "execution_count": 460,
   "id": "knowing-dispute",
   "metadata": {},
   "outputs": [],
   "source": [
    "grbModel = Model('synthetic')"
   ]
  },
  {
   "cell_type": "code",
   "execution_count": 461,
   "id": "super-chess",
   "metadata": {},
   "outputs": [],
   "source": [
    "a_i = np.ones(Manufacturing_plants)\n",
    "b_j = np.ones(Distribution)"
   ]
  },
  {
   "cell_type": "code",
   "execution_count": 462,
   "id": "dominant-state",
   "metadata": {},
   "outputs": [],
   "source": [
    "# Model Variables\n",
    "\n",
    "x_i = grbModel.addVars(range(Manufacturing_plants), vtype = GRB.BINARY) # opening manufacturing plant\n",
    "x_j = grbModel.addVars(range(Distribution), vtype = GRB.BINARY) # opening DC\n",
    "U_km = grbModel.addVars(range(Market), range(Products), vtype = GRB.INTEGER) # quantity lost sales\n",
    "V_lm = grbModel.addVars(range(Products), range(Outsourced), vtype = GRB.INTEGER) # quantity products purchased from outsourcing\n",
    "Q_im = grbModel.addVars(range(Products), range(Manufacturing_plants), vtype = GRB.INTEGER) # quantity produced\n",
    "Y_ijm = grbModel.addVars(range(Products), range(Manufacturing_plants), range(Distribution), vtype = GRB.INTEGER) # shipping i -> j\n",
    "Z_jkm = grbModel.addVars(range(Products), range(Distribution), range(Market), vtype = GRB.INTEGER) # shipping j -> k\n",
    "T_ljm = grbModel.addVars(range(Products), range(Outsourced), range(Distribution), vtype = GRB.INTEGER) # shipping l -> j\n",
    "T_lkm = grbModel.addVars(range(Products), range(Outsourced), range(Market), vtype = GRB.INTEGER) # shipping l -> k\n"
   ]
  },
  {
   "cell_type": "code",
   "execution_count": 463,
   "id": "flexible-uruguay",
   "metadata": {},
   "outputs": [
    {
     "data": {
      "text/plain": [
       "{(0, 0): <gurobi.Constr *Awaiting Model Update*>,\n",
       " (0, 1): <gurobi.Constr *Awaiting Model Update*>,\n",
       " (1, 0): <gurobi.Constr *Awaiting Model Update*>,\n",
       " (1, 1): <gurobi.Constr *Awaiting Model Update*>,\n",
       " (2, 0): <gurobi.Constr *Awaiting Model Update*>,\n",
       " (2, 1): <gurobi.Constr *Awaiting Model Update*>,\n",
       " (3, 0): <gurobi.Constr *Awaiting Model Update*>,\n",
       " (3, 1): <gurobi.Constr *Awaiting Model Update*>}"
      ]
     },
     "execution_count": 463,
     "metadata": {},
     "output_type": "execute_result"
    }
   ],
   "source": [
    "# Model Constraints\n",
    "# Network Flow\n",
    "grbModel.addConstr(quicksum(x_i[i] for i in range(Manufacturing_plants)) >= 1)\n",
    "grbModel.addConstr(quicksum(x_j[j] for i in range(Distribution)) >= 1)\n",
    "\n",
    "grbModel.addConstrs(quicksum(Y_ijm[m,i,j] for j in range(Distribution)) == Q_im[m,i] \n",
    "             for i in range(Manufacturing_plants) for m in range(Products))\n",
    "\n",
    "grbModel.addConstrs(quicksum(Z_jkm[m,j,k] for k in range(Market)) == \n",
    "                      (quicksum(Y_ijm[m,i,j] for i in range(Manufacturing_plants)) + \n",
    "                       quicksum(T_ljm[m,l,j] for l in range(Outsourced))) for j in range(Distribution) \n",
    "                      for m in range(Products))\n",
    "\n",
    "grbModel.addConstrs((quicksum(Z_jkm[m,j,k] for j in range(Distribution)) + quicksum(T_lkm[m,l,k] for l in range(Outsourced))) ==\n",
    "                      (demand[m][k] - U_km[k,m]) \n",
    "                    for k in range(Market) for m in range(Products))\n"
   ]
  },
  {
   "cell_type": "code",
   "execution_count": 464,
   "id": "twenty-share",
   "metadata": {},
   "outputs": [
    {
     "data": {
      "text/plain": [
       "{(0, 0): <gurobi.Constr *Awaiting Model Update*>,\n",
       " (0, 1): <gurobi.Constr *Awaiting Model Update*>,\n",
       " (1, 0): <gurobi.Constr *Awaiting Model Update*>,\n",
       " (1, 1): <gurobi.Constr *Awaiting Model Update*>}"
      ]
     },
     "execution_count": 464,
     "metadata": {},
     "output_type": "execute_result"
    }
   ],
   "source": [
    "# Purchasing Constraints (everything purchased from outsourced facilities must be shipped)\n",
    "grbModel.addConstrs(V_lm[m,l] == quicksum(T_ljm[m,l,j] for j in range(Distribution)) + quicksum(T_lkm[m,l,k] for k in range(Market))\n",
    "            for m in range(Products) for l in range(Outsourced))"
   ]
  },
  {
   "cell_type": "code",
   "execution_count": 465,
   "id": "specified-province",
   "metadata": {},
   "outputs": [
    {
     "data": {
      "text/plain": [
       "{0: <gurobi.Constr *Awaiting Model Update*>,\n",
       " 1: <gurobi.Constr *Awaiting Model Update*>,\n",
       " 2: <gurobi.Constr *Awaiting Model Update*>}"
      ]
     },
     "execution_count": 465,
     "metadata": {},
     "output_type": "execute_result"
    }
   ],
   "source": [
    "# Capacity Constraints\n",
    "grbModel.addConstrs(quicksum(volume[m]*Q_im[m,i] for m in range(Products)) <= a_i[i]*Capacities_i[i]*x_i[i] for i in range(Manufacturing_plants))\n",
    "grbModel.addConstrs(quicksum(volume[m]*Y_ijm[m,i,j] for i in range(Manufacturing_plants) for m in range(Products)) +\n",
    "            quicksum(volume[m]*T_ljm[m,l,j] for l in range(Outsourced) for m in range(Products)) <= b_j[j]*Capacities_j[j]*x_j[j] \n",
    "            for j in range(Distribution))"
   ]
  },
  {
   "cell_type": "code",
   "execution_count": 466,
   "id": "alpha-grain",
   "metadata": {},
   "outputs": [],
   "source": [
    "# Objective\n",
    "grb_expr = LinExpr()\n",
    "\n",
    "# Cost of opening\n",
    "OC_1 = 0\n",
    "OC_2 = 0\n",
    "for i in range(Manufacturing_plants):\n",
    "    OC_1 += f_i[i]*x_i[i]\n",
    "for j in range(Distribution):\n",
    "    OC_2 += f_j[j]*x_j[j]\n",
    "    \n",
    "grb_expr += OC_1 + OC_2\n",
    "ship_1 = 0\n",
    "ship_2 = 0\n",
    "ship_3 = 0\n",
    "ship_4 = 0\n",
    "\n",
    "# Shipment\n",
    "for i in range(Manufacturing_plants):\n",
    "    for j in range(Distribution):\n",
    "        for m in range(Products):\n",
    "            ship_1 += Transportation_i_j[m][i][j]*Y_ijm[m,i,j]\n",
    "            \n",
    "for j in range(Distribution):\n",
    "    for k in range(Market):\n",
    "        for m in range(Products):\n",
    "            ship_2 += Transportation_j_k[m][j][k]*Z_jkm[m,j,k]\n",
    "\n",
    "for l in range(Outsourced):\n",
    "    for j in range(Distribution):\n",
    "        for m in range(Products):\n",
    "            ship_3 += T_O_DC[m][l][j]*T_ljm[m,l,j]\n",
    "\n",
    "for l in range(Outsourced):\n",
    "    for k in range(Market):\n",
    "        for m in range(Products):\n",
    "            ship_4 += T_O_MZ[m][l][k]*T_lkm[m,l,k]\n",
    "\n",
    "grb_expr += ship_1 + ship_2 + ship_3 + ship_4\n",
    "\n",
    "# Production\n",
    "pr_cost = 0\n",
    "for i in range(Manufacturing_plants):\n",
    "    for m in range(Products):\n",
    "        pr_cost += Manufacturing_costs[i][m]*Q_im[m,i]\n",
    "\n",
    "grb_expr += pr_cost\n",
    "# Buying from outsource cost\n",
    "b_cost = 0\n",
    "for l in range(Outsourced):\n",
    "    for m in range(Products):\n",
    "        b_cost += Supplier_cost[m][l]*V_lm[m,l]\n",
    "grb_expr += b_cost\n",
    "\n",
    "# Lost Sales\n",
    "l_cost = 0\n",
    "for k in range(Market):\n",
    "    for m in range(Products):\n",
    "        l_cost += lost_sales[k][m]*U_km[k,m]\n",
    "\n",
    "grb_expr += l_cost\n",
    "        "
   ]
  },
  {
   "cell_type": "code",
   "execution_count": 467,
   "id": "legitimate-secret",
   "metadata": {},
   "outputs": [],
   "source": [
    "grbModel.setObjective(grb_expr, GRB.MINIMIZE)"
   ]
  },
  {
   "cell_type": "code",
   "execution_count": 468,
   "id": "signed-specific",
   "metadata": {},
   "outputs": [
    {
     "name": "stdout",
     "output_type": "stream",
     "text": [
      "Gurobi Optimizer version 9.0.0 build v9.0.0rc2 (win64)\n",
      "Optimize a model with 29 rows, 85 columns and 180 nonzeros\n",
      "Model fingerprint: 0xb28d52ae\n",
      "Variable types: 0 continuous, 85 integer (5 binary)\n",
      "Coefficient statistics:\n",
      "  Matrix range     [1e+00, 4e+01]\n",
      "  Objective range  [4e-01, 2e+02]\n",
      "  Bounds range     [1e+00, 1e+00]\n",
      "  RHS range        [1e+00, 2e+01]\n",
      "Found heuristic solution: objective 12949.000000\n",
      "Presolve removed 10 rows and 48 columns\n",
      "Presolve time: 0.00s\n",
      "Presolved: 19 rows, 37 columns, 78 nonzeros\n",
      "Found heuristic solution: objective 30.0000000\n",
      "Variable types: 0 continuous, 37 integer (2 binary)\n",
      "\n",
      "Explored 0 nodes (0 simplex iterations) in 0.02 seconds\n",
      "Thread count was 4 (of 4 available processors)\n",
      "\n",
      "Solution count 2: 30 12949 \n",
      "\n",
      "Optimal solution found (tolerance 1.00e-04)\n",
      "Best objective 3.000000000000e+01, best bound 3.000000000000e+01, gap 0.0000%\n"
     ]
    }
   ],
   "source": [
    "grbModel.optimize()"
   ]
  },
  {
   "cell_type": "code",
   "execution_count": 474,
   "id": "blocked-investor",
   "metadata": {},
   "outputs": [
    {
     "data": {
      "text/plain": [
       "{(0, 0): <gurobi.Var C5 (value 0.0)>,\n",
       " (0, 1): <gurobi.Var C6 (value 0.0)>,\n",
       " (1, 0): <gurobi.Var C7 (value 0.0)>,\n",
       " (1, 1): <gurobi.Var C8 (value 0.0)>,\n",
       " (2, 0): <gurobi.Var C9 (value 0.0)>,\n",
       " (2, 1): <gurobi.Var C10 (value 0.0)>,\n",
       " (3, 0): <gurobi.Var C11 (value 0.0)>,\n",
       " (3, 1): <gurobi.Var C12 (value 0.0)>}"
      ]
     },
     "execution_count": 474,
     "metadata": {},
     "output_type": "execute_result"
    }
   ],
   "source": [
    "U_km"
   ]
  },
  {
   "cell_type": "code",
   "execution_count": null,
   "id": "secondary-young",
   "metadata": {},
   "outputs": [],
   "source": []
  }
 ],
 "metadata": {
  "kernelspec": {
   "display_name": "Python 3",
   "language": "python",
   "name": "python3"
  },
  "language_info": {
   "codemirror_mode": {
    "name": "ipython",
    "version": 3
   },
   "file_extension": ".py",
   "mimetype": "text/x-python",
   "name": "python",
   "nbconvert_exporter": "python",
   "pygments_lexer": "ipython3",
   "version": "3.7.3"
  }
 },
 "nbformat": 4,
 "nbformat_minor": 5
}
