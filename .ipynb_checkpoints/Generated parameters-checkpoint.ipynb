{
 "cells": [
  {
   "cell_type": "code",
   "execution_count": 98,
   "id": "promotional-copper",
   "metadata": {},
   "outputs": [],
   "source": [
    "import numpy as np\n",
    "import random\n",
    "from random import randint\n",
    "from gurobipy import *"
   ]
  },
  {
   "cell_type": "code",
   "execution_count": 99,
   "id": "broadband-circle",
   "metadata": {},
   "outputs": [],
   "source": [
    "Manufacturing_plants = 2\n",
    "Distribution = 3\n",
    "Market = 4\n",
    "Products = 2\n",
    "Outsourced = 2"
   ]
  },
  {
   "cell_type": "code",
   "execution_count": 100,
   "id": "cardiac-independence",
   "metadata": {},
   "outputs": [],
   "source": [
    "# Product Demand\n",
    "demand = np.random.randint(0,20,(Products,Market))"
   ]
  },
  {
   "cell_type": "code",
   "execution_count": 101,
   "id": "actual-prayer",
   "metadata": {},
   "outputs": [],
   "source": [
    "# Cost of opening\n",
    "f_i = [20, 25]\n",
    "f_j = [15, 5, 10]"
   ]
  },
  {
   "cell_type": "code",
   "execution_count": 102,
   "id": "fossil-effects",
   "metadata": {},
   "outputs": [],
   "source": [
    "# Unit cost of manufacturing product \n",
    "Manufacturing_costs = np.random.uniform(0,5, (Manufacturing_plants,Products))"
   ]
  },
  {
   "cell_type": "code",
   "execution_count": 51,
   "id": "digital-amendment",
   "metadata": {},
   "outputs": [],
   "source": [
    "# Unit cost of transporting m from plant to DC\n",
    "Transportation_i_j = np.random.uniform(0,5, (Products, Manufacturing_plants, Distribution))"
   ]
  },
  {
   "cell_type": "code",
   "execution_count": 54,
   "id": "universal-elite",
   "metadata": {},
   "outputs": [],
   "source": [
    "# Unit cost of transporting m from DC to Market Zone\n",
    "Transportation_j_k = np.random.uniform(0,5, (Products, Distribution, Market))"
   ]
  },
  {
   "cell_type": "code",
   "execution_count": 92,
   "id": "expired-fiction",
   "metadata": {},
   "outputs": [],
   "source": [
    "# Plant Capacities\n",
    "Capacities_i = np.random.randint(30,50,(Manufacturing_plants))\n",
    "Capacities_j = np.random.randint(30,50,(Distribution))\n",
    "Capacities_l = Supplier_cost = np.zeros((Products,Outsourced))\n",
    "np.fill_diagonal(Capacities_l, random.randint(15,20))"
   ]
  },
  {
   "cell_type": "code",
   "execution_count": 90,
   "id": "chief-manhattan",
   "metadata": {},
   "outputs": [],
   "source": [
    "# Cost of purchasing product m from supplier l (assume only 1 product type from each outsourcer)\n",
    "Supplier_cost = np.zeros((Products, Outsourced))\n",
    "np.fill_diagonal(Supplier_cost, random.randint(5,10))"
   ]
  },
  {
   "cell_type": "code",
   "execution_count": 82,
   "id": "seven-college",
   "metadata": {},
   "outputs": [],
   "source": [
    "# Cost of transporting product m from supplier to j\n",
    "T_O_DC = np.zeros((Products, Outsourced, Distribution))\n",
    "T_O_DC[0][0] = np.random.uniform(5,10,(Distribution))\n",
    "T_O_DC[1][1] = np.random.uniform(5,10,(Distribution))"
   ]
  },
  {
   "cell_type": "code",
   "execution_count": 95,
   "id": "appointed-phrase",
   "metadata": {},
   "outputs": [],
   "source": [
    "# Cost of shipping product m from supplier to k\n",
    "T_O_MZ = np.zeros((Products, Outsourced, Market))\n",
    "T_O_MZ[0][0] = np.random.uniform(5,10,(Market))\n",
    "T_O_MZ[1][1] = np.random.uniform(5,10,(Market))"
   ]
  },
  {
   "cell_type": "code",
   "execution_count": 87,
   "id": "interim-banks",
   "metadata": {},
   "outputs": [],
   "source": [
    "# Product volume \n",
    "volume = np.random.randint(2,5,(Products))"
   ]
  },
  {
   "cell_type": "code",
   "execution_count": 89,
   "id": "compliant-iceland",
   "metadata": {},
   "outputs": [],
   "source": [
    "# unit cost of lost sales \n",
    "lost_sales = np.random.randint(10,20,(Market,Products))"
   ]
  },
  {
   "cell_type": "code",
   "execution_count": null,
   "id": "assisted-makeup",
   "metadata": {},
   "outputs": [],
   "source": [
    "## Model"
   ]
  },
  {
   "cell_type": "code",
   "execution_count": 152,
   "id": "digital-mongolia",
   "metadata": {},
   "outputs": [],
   "source": [
    "grbModel = Model('synthetic')"
   ]
  },
  {
   "cell_type": "code",
   "execution_count": 134,
   "id": "intensive-austin",
   "metadata": {},
   "outputs": [],
   "source": [
    "a_i = np.ones(Manufacturing_plants)\n",
    "b_j = np.ones(Distribution)"
   ]
  },
  {
   "cell_type": "code",
   "execution_count": 105,
   "id": "conditional-shoulder",
   "metadata": {},
   "outputs": [],
   "source": [
    "# Model Variables\n",
    "\n",
    "x_i = grbModel.addVars(range(Manufacturing_plants), vtype = GRB.BINARY) # opening manufacturing plant\n",
    "x_j = grbModel.addVars(range(Distribution), vtype = GRB.BINARY) # opening DC\n",
    "U_km = grbModel.addVars(range(Market), range(Products), vtype = GRB.INTEGER) # quantity lost sales\n",
    "V_lm = grbModel.addVars(range(Products), range(Outsourced), vtype = GRB.INTEGER) # quantity products purchased from outsourcing\n",
    "Q_im = grbModel.addVars(range(Products), range(Manufacturing_plants), vtype = GRB.INTEGER) # quantity produced\n",
    "Y_ijm = grbModel.addVars(range(Products), range(Manufacturing_plants), range(Distribution), vtype = GRB.INTEGER) # shipping i -> j\n",
    "Z_jkm = grbModel.addVars(range(Products), range(Distribution), range(Market), vtype = GRB.INTEGER) # shipping j -> k\n",
    "T_ljm = grbModel.addVars(range(Products), range(Outsourced), range(Distribution), vtype = GRB.INTEGER) # shipping l -> j\n",
    "T_lkm = grbModel.addVars(range(Products), range(Outsourced), range(Market)) # shipping l -> k\n"
   ]
  },
  {
   "cell_type": "code",
   "execution_count": 126,
   "id": "brilliant-architect",
   "metadata": {},
   "outputs": [
    {
     "data": {
      "text/plain": [
       "{(0, 0): <gurobi.Constr *Awaiting Model Update*>,\n",
       " (0, 1): <gurobi.Constr *Awaiting Model Update*>,\n",
       " (1, 0): <gurobi.Constr *Awaiting Model Update*>,\n",
       " (1, 1): <gurobi.Constr *Awaiting Model Update*>,\n",
       " (2, 0): <gurobi.Constr *Awaiting Model Update*>,\n",
       " (2, 1): <gurobi.Constr *Awaiting Model Update*>,\n",
       " (3, 0): <gurobi.Constr *Awaiting Model Update*>,\n",
       " (3, 1): <gurobi.Constr *Awaiting Model Update*>}"
      ]
     },
     "execution_count": 126,
     "metadata": {},
     "output_type": "execute_result"
    }
   ],
   "source": [
    "# Model Constraints\n",
    "# Network Flow\n",
    "grbModel.addConstrs(quicksum(Y_ijm[m,i,j] for j in range(Distribution)) == Q_im[m,i] \n",
    "             for i in range(Manufacturing_plants) for m in range(Products))\n",
    "\n",
    "grbModel.addConstrs(quicksum(Z_jkm[m,j,k] for k in range(Market)) == \n",
    "                      (quicksum(Y_ijm[m,i,j] for i in range(Manufacturing_plants)) + \n",
    "                       quicksum(T_ljm[m,l,j] for l in range(Outsourced))) for j in range(Distribution) \n",
    "                      for m in range(Products))\n",
    "\n",
    "grbModel.addConstrs((quicksum(Z_jkm[m,j,k] for j in range(Distribution)) + quicksum(T_lkm[m,l,k] for l in range(Outsourced))) ==\n",
    "                      (demand[m][k] - U_km[k,m]) for k in range(Market) for m in range(Products))\n"
   ]
  },
  {
   "cell_type": "code",
   "execution_count": 128,
   "id": "norwegian-problem",
   "metadata": {},
   "outputs": [
    {
     "data": {
      "text/plain": [
       "{(0, 0): <gurobi.Constr *Awaiting Model Update*>,\n",
       " (0, 1): <gurobi.Constr *Awaiting Model Update*>,\n",
       " (1, 0): <gurobi.Constr *Awaiting Model Update*>,\n",
       " (1, 1): <gurobi.Constr *Awaiting Model Update*>}"
      ]
     },
     "execution_count": 128,
     "metadata": {},
     "output_type": "execute_result"
    }
   ],
   "source": [
    "# Purchasing Constraints (everything purchased from outsourced facilities must be shipped)\n",
    "m.addConstrs(V_lm[m,l] == quicksum(T_ljm[m,l,j] for j in range(Distribution)) + quicksum(T_lkm[m,l,k] for k in range(Market))\n",
    "            for m in range(Products) for l in range(Outsourced))"
   ]
  },
  {
   "cell_type": "code",
   "execution_count": 136,
   "id": "eligible-profession",
   "metadata": {},
   "outputs": [
    {
     "data": {
      "text/plain": [
       "{0: <gurobi.Constr *Awaiting Model Update*>,\n",
       " 1: <gurobi.Constr *Awaiting Model Update*>,\n",
       " 2: <gurobi.Constr *Awaiting Model Update*>}"
      ]
     },
     "execution_count": 136,
     "metadata": {},
     "output_type": "execute_result"
    }
   ],
   "source": [
    "# Capacity Constraints\n",
    "m.addConstrs(quicksum(volume[m]*Q_im[m,i] for m in range(Products)) <= a_i[i]*Capacities_i[i]*x_i[i] for i in range(Manufacturing_plants))\n",
    "m.addConstrs(quicksum(volume[m]*Y_ijm[m,i,j] for i in range(Manufacturing_plants) for m in range(Products)) +\n",
    "            quicksum(volume[m]*T_ljm[m,l,j] for l in range(Outsourced) for m in range(Products)) <= b_j[j]*Capacities_j[j]*x_j[j] \n",
    "            for j in range(Distribution))"
   ]
  },
  {
   "cell_type": "code",
   "execution_count": 149,
   "id": "economic-decade",
   "metadata": {},
   "outputs": [],
   "source": [
    "# Objective\n",
    "grb_expr = LinExpr()\n",
    "\n",
    "# Cost of opening\n",
    "OC_1 = 0\n",
    "OC_2 = 0\n",
    "for i in range(Manufacturing_plants):\n",
    "    OC_1 += f_i[i]*x_i[i]\n",
    "for j in range(Distribution):\n",
    "    OC_2 += f_j[j]*x_j[j]\n",
    "    \n",
    "grb_expr += OC_1 + OC_2\n",
    "ship_1 = 0\n",
    "ship_2 = 0\n",
    "ship_3 = 0\n",
    "ship_4 = 0\n",
    "\n",
    "# Shipment\n",
    "for i in range(Manufacturing_plants):\n",
    "    for j in range(Distribution):\n",
    "        for m in range(Products):\n",
    "            ship_1 += Transportation_i_j[m][i][j]*Y_ijm[m,i,j]\n",
    "            \n",
    "for j in range(Distribution):\n",
    "    for k in range(Market):\n",
    "        for m in range(Products):\n",
    "            ship_2 += Transportation_j_k[m][j][k]*Z_jkm[m,j,k]\n",
    "\n",
    "for l in range(Outsourced):\n",
    "    for j in range(Distribution):\n",
    "        for m in range(Products):\n",
    "            ship_3 += T_O_DC[m][l][j]*T_ljm[m,l,j]\n",
    "\n",
    "for l in range(Outsourced):\n",
    "    for k in range(Market):\n",
    "        for m in range(Products):\n",
    "            ship_4 += T_O_MZ[m][l][k]*T_lkm[m,l,k]\n",
    "\n",
    "grb_expr += ship_1 + ship_2 + ship_3 + ship_4\n",
    "\n",
    "# Production\n",
    "pr_cost = 0\n",
    "for i in range(Manufacturing_plants):\n",
    "    for m in range(Products):\n",
    "        pr_cost += Manufacturing_costs[i][m]*Q_im[m,i]\n",
    "\n",
    "grb_expr += pr_cost\n",
    "# Buying from outsource cost\n",
    "b_cost = 0\n",
    "for l in range(Outsourced):\n",
    "    for m in range(Products):\n",
    "        b_cost += Supplier_cost[m][l]*V_lm[m,l]\n",
    "\n",
    "grb_expr += b_cost\n",
    "# Lost Sales\n",
    "l_cost = 0\n",
    "for k in range(Market):\n",
    "    for m in range(Products):\n",
    "        l_cost += lost_sales[k][m]*U_km[k,m]\n",
    "\n",
    "grb_expr += l_cost\n",
    "        "
   ]
  },
  {
   "cell_type": "code",
   "execution_count": 150,
   "id": "advanced-closing",
   "metadata": {},
   "outputs": [
    {
     "ename": "AttributeError",
     "evalue": "'int' object has no attribute 'setObjective'",
     "output_type": "error",
     "traceback": [
      "\u001b[1;31m---------------------------------------------------------------------------\u001b[0m",
      "\u001b[1;31mAttributeError\u001b[0m                            Traceback (most recent call last)",
      "\u001b[1;32m<ipython-input-150-57822ed7bac4>\u001b[0m in \u001b[0;36m<module>\u001b[1;34m\u001b[0m\n\u001b[1;32m----> 1\u001b[1;33m \u001b[0mm\u001b[0m\u001b[1;33m.\u001b[0m\u001b[0msetObjective\u001b[0m\u001b[1;33m(\u001b[0m\u001b[0mgrb_expr\u001b[0m\u001b[1;33m,\u001b[0m \u001b[0mGRB\u001b[0m\u001b[1;33m.\u001b[0m\u001b[0mMINIMIZE\u001b[0m\u001b[1;33m)\u001b[0m\u001b[1;33m\u001b[0m\u001b[1;33m\u001b[0m\u001b[0m\n\u001b[0m",
      "\u001b[1;31mAttributeError\u001b[0m: 'int' object has no attribute 'setObjective'"
     ]
    }
   ],
   "source": [
    "m.setObjective(grb_expr, GRB.MINIMIZE)"
   ]
  },
  {
   "cell_type": "code",
   "execution_count": 151,
   "id": "duplicate-disney",
   "metadata": {},
   "outputs": [
    {
     "data": {
      "text/plain": [
       "1"
      ]
     },
     "execution_count": 151,
     "metadata": {},
     "output_type": "execute_result"
    }
   ],
   "source": [
    "m"
   ]
  },
  {
   "cell_type": "code",
   "execution_count": null,
   "id": "metropolitan-measure",
   "metadata": {},
   "outputs": [],
   "source": []
  }
 ],
 "metadata": {
  "kernelspec": {
   "display_name": "Python 3",
   "language": "python",
   "name": "python3"
  },
  "language_info": {
   "codemirror_mode": {
    "name": "ipython",
    "version": 3
   },
   "file_extension": ".py",
   "mimetype": "text/x-python",
   "name": "python",
   "nbconvert_exporter": "python",
   "pygments_lexer": "ipython3",
   "version": "3.7.3"
  }
 },
 "nbformat": 4,
 "nbformat_minor": 5
}
