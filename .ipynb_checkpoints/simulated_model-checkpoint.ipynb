{
 "cells": [
  {
   "cell_type": "code",
   "execution_count": 437,
   "id": "promotional-copper",
   "metadata": {},
   "outputs": [],
   "source": [
    "import numpy as np\n",
    "import random\n",
    "from random import randint\n",
    "from gurobipy import *\n",
    "import pandas as pd"
   ]
  },
  {
   "cell_type": "code",
   "execution_count": 438,
   "id": "paperback-atmosphere",
   "metadata": {},
   "outputs": [],
   "source": [
    "Manufacturing_plants = 2\n",
    "Distribution = 3\n",
    "Market = 4\n",
    "Products = 2\n",
    "Outsourced = 2"
   ]
  },
  {
   "cell_type": "code",
   "execution_count": 439,
   "id": "dirty-thing",
   "metadata": {},
   "outputs": [],
   "source": [
    "# Product Demand\n",
    "demand = np.random.randint(0,20,(Products,Market))"
   ]
  },
  {
   "cell_type": "code",
   "execution_count": 440,
   "id": "olympic-waterproof",
   "metadata": {},
   "outputs": [],
   "source": [
    "# Cost of opening\n",
    "f_i = [20, 25]\n",
    "f_j = [15, 5, 10]"
   ]
  },
  {
   "cell_type": "code",
   "execution_count": 441,
   "id": "intermediate-official",
   "metadata": {},
   "outputs": [],
   "source": [
    "# Unit cost of manufacturing product \n",
    "Manufacturing_costs = np.random.uniform(0,2, (Manufacturing_plants,Products))"
   ]
  },
  {
   "cell_type": "code",
   "execution_count": 442,
   "id": "composed-newfoundland",
   "metadata": {},
   "outputs": [],
   "source": [
    "# Unit cost of transporting m from plant to DC\n",
    "Transportation_i_j = np.random.uniform(0,5, (Products, Manufacturing_plants, Distribution))"
   ]
  },
  {
   "cell_type": "code",
   "execution_count": 443,
   "id": "mathematical-block",
   "metadata": {},
   "outputs": [],
   "source": [
    "# Unit cost of transporting m from DC to Market Zone\n",
    "Transportation_j_k = np.random.uniform(0,5, (Products, Distribution, Market))"
   ]
  },
  {
   "cell_type": "code",
   "execution_count": 444,
   "id": "separate-sullivan",
   "metadata": {},
   "outputs": [],
   "source": [
    "# Plant Capacities\n",
    "Capacities_i = np.random.randint(300,500,(Manufacturing_plants)) # in volume !!! (metres cubed)\n",
    "Capacities_j = np.random.randint(300,500,(Distribution)) # in volume !!! (metres cubed)\n",
    "Capacities_l = np.zeros((Products,Outsourced)) # in terms of products \n",
    "np.fill_diagonal(Capacities_l, random.randint(15,20))"
   ]
  },
  {
   "cell_type": "code",
   "execution_count": 445,
   "id": "federal-discharge",
   "metadata": {},
   "outputs": [],
   "source": [
    "# Cost of purchasing product m from supplier l (assume only 1 product type from each outsourcer)\n",
    "Supplier_cost = np.zeros((Products, Outsourced))\n",
    "np.fill_diagonal(Supplier_cost, random.uniform(10,15))"
   ]
  },
  {
   "cell_type": "code",
   "execution_count": 446,
   "id": "governing-mustang",
   "metadata": {},
   "outputs": [],
   "source": [
    "# Cost of transporting product m from supplier to j\n",
    "T_O_DC = np.zeros((Products, Outsourced, Distribution))\n",
    "T_O_DC[0][0] = np.random.uniform(10,15,(Distribution))\n",
    "T_O_DC[1][1] = np.random.uniform(10,15,(Distribution))"
   ]
  },
  {
   "cell_type": "code",
   "execution_count": 447,
   "id": "flexible-anthony",
   "metadata": {},
   "outputs": [],
   "source": [
    "# Cost of shipping product m from supplier to k\n",
    "T_O_MZ = np.zeros((Products, Outsourced, Market))\n",
    "T_O_MZ[0][0] = np.random.uniform(15,20,(Market))\n",
    "T_O_MZ[1][1] = np.random.uniform(15,20,(Market))"
   ]
  },
  {
   "cell_type": "code",
   "execution_count": 448,
   "id": "olympic-animal",
   "metadata": {},
   "outputs": [],
   "source": [
    "# Product volume \n",
    "volume = np.random.randint(2,5,(Products))"
   ]
  },
  {
   "cell_type": "code",
   "execution_count": 449,
   "id": "alike-marriage",
   "metadata": {},
   "outputs": [],
   "source": [
    "# unit cost of lost sales \n",
    "lost_sales = np.random.randint(200,300,(Market,Products))"
   ]
  },
  {
   "cell_type": "code",
   "execution_count": 450,
   "id": "impossible-opera",
   "metadata": {},
   "outputs": [],
   "source": [
    "## Model"
   ]
  },
  {
   "cell_type": "code",
   "execution_count": 451,
   "id": "knowing-dispute",
   "metadata": {},
   "outputs": [],
   "source": [
    "grbModel = Model('synthetic')"
   ]
  },
  {
   "cell_type": "code",
   "execution_count": 452,
   "id": "super-chess",
   "metadata": {},
   "outputs": [],
   "source": [
    "a_i = np.ones(Manufacturing_plants)\n",
    "b_j = np.ones(Distribution)"
   ]
  },
  {
   "cell_type": "code",
   "execution_count": 453,
   "id": "dominant-state",
   "metadata": {},
   "outputs": [],
   "source": [
    "# Model Variables\n",
    "\n",
    "x_i = grbModel.addVars(range(Manufacturing_plants), vtype = GRB.BINARY) # opening manufacturing plant\n",
    "x_j = grbModel.addVars(range(Distribution), vtype = GRB.BINARY) # opening DC\n",
    "U_km = grbModel.addVars(range(Market), range(Products), vtype = GRB.INTEGER) # quantity lost sales\n",
    "V_lm = grbModel.addVars(range(Products), range(Outsourced), vtype = GRB.INTEGER) # quantity products purchased from outsourcing\n",
    "Q_im = grbModel.addVars(range(Products), range(Manufacturing_plants), vtype = GRB.INTEGER) # quantity produced\n",
    "Y_ijm = grbModel.addVars(range(Products), range(Manufacturing_plants), range(Distribution), vtype = GRB.INTEGER) # shipping i -> j\n",
    "Z_jkm = grbModel.addVars(range(Products), range(Distribution), range(Market), vtype = GRB.INTEGER) # shipping j -> k\n",
    "T_ljm = grbModel.addVars(range(Products), range(Outsourced), range(Distribution), vtype = GRB.INTEGER) # shipping l -> j\n",
    "T_lkm = grbModel.addVars(range(Products), range(Outsourced), range(Market), vtype = GRB.INTEGER) # shipping l -> k\n"
   ]
  },
  {
   "cell_type": "code",
   "execution_count": 454,
   "id": "flexible-uruguay",
   "metadata": {},
   "outputs": [
    {
     "data": {
      "text/plain": [
       "{(0, 0): <gurobi.Constr *Awaiting Model Update*>,\n",
       " (0, 1): <gurobi.Constr *Awaiting Model Update*>,\n",
       " (1, 0): <gurobi.Constr *Awaiting Model Update*>,\n",
       " (1, 1): <gurobi.Constr *Awaiting Model Update*>,\n",
       " (2, 0): <gurobi.Constr *Awaiting Model Update*>,\n",
       " (2, 1): <gurobi.Constr *Awaiting Model Update*>,\n",
       " (3, 0): <gurobi.Constr *Awaiting Model Update*>,\n",
       " (3, 1): <gurobi.Constr *Awaiting Model Update*>}"
      ]
     },
     "execution_count": 454,
     "metadata": {},
     "output_type": "execute_result"
    }
   ],
   "source": [
    "# Model Constraints\n",
    "# Network Flow\n",
    "#grbModel.addConstr(quicksum(x_i[i] for i in range(Manufacturing_plants)) >= 1)\n",
    "#grbModel.addConstr(quicksum(x_j[j] for i in range(Distribution)) >= 1)\n",
    "\n",
    "grbModel.addConstrs(quicksum(Y_ijm[m,i,j] for j in range(Distribution)) == Q_im[m,i] \n",
    "             for i in range(Manufacturing_plants) for m in range(Products))\n",
    "\n",
    "grbModel.addConstrs(quicksum(Z_jkm[m,j,k] for k in range(Market)) == \n",
    "                      (quicksum(Y_ijm[m,i,j] for i in range(Manufacturing_plants)) + \n",
    "                       quicksum(T_ljm[m,l,j] for l in range(Outsourced))) for j in range(Distribution) \n",
    "                      for m in range(Products))\n",
    "\n",
    "grbModel.addConstrs((quicksum(Z_jkm[m,j,k] for j in range(Distribution)) + quicksum(T_lkm[m,l,k] for l in range(Outsourced))) ==\n",
    "                      (demand[m][k] - U_km[k,m]) \n",
    "                    for k in range(Market) for m in range(Products))\n"
   ]
  },
  {
   "cell_type": "code",
   "execution_count": 455,
   "id": "faced-nicaragua",
   "metadata": {},
   "outputs": [],
   "source": [
    "for m in range(Products):\n",
    "    for l in range(Outsourced):\n",
    "        if l != m:\n",
    "            grbModel.addConstr(V_lm[m,l] == 0)"
   ]
  },
  {
   "cell_type": "code",
   "execution_count": 456,
   "id": "included-affect",
   "metadata": {},
   "outputs": [],
   "source": [
    "for m in range(Products):\n",
    "    for l in range(Outsourced):\n",
    "        for j in range(Distribution):\n",
    "            if l != m:\n",
    "                grbModel.addConstr(T_ljm[m,l,j] == 0)"
   ]
  },
  {
   "cell_type": "code",
   "execution_count": 457,
   "id": "beautiful-strategy",
   "metadata": {},
   "outputs": [],
   "source": [
    "for m in range(Products):\n",
    "    for l in range(Outsourced):\n",
    "        for k in range(Market):\n",
    "            if l != m:\n",
    "                grbModel.addConstr(T_lkm[m,l,k] == 0)"
   ]
  },
  {
   "cell_type": "code",
   "execution_count": 458,
   "id": "twenty-share",
   "metadata": {},
   "outputs": [
    {
     "data": {
      "text/plain": [
       "{(0, 0): <gurobi.Constr *Awaiting Model Update*>,\n",
       " (0, 1): <gurobi.Constr *Awaiting Model Update*>,\n",
       " (1, 0): <gurobi.Constr *Awaiting Model Update*>,\n",
       " (1, 1): <gurobi.Constr *Awaiting Model Update*>}"
      ]
     },
     "execution_count": 458,
     "metadata": {},
     "output_type": "execute_result"
    }
   ],
   "source": [
    "# Purchasing Constraints (everything purchased from outsourced facilities must be shipped)\n",
    "grbModel.addConstrs(V_lm[m,l] == quicksum(T_ljm[m,l,j] for j in range(Distribution)) + quicksum(T_lkm[m,l,k] for k in range(Market))\n",
    "            for m in range(Products) for l in range(Outsourced))"
   ]
  },
  {
   "cell_type": "code",
   "execution_count": 459,
   "id": "specified-province",
   "metadata": {},
   "outputs": [
    {
     "data": {
      "text/plain": [
       "{0: <gurobi.Constr *Awaiting Model Update*>,\n",
       " 1: <gurobi.Constr *Awaiting Model Update*>}"
      ]
     },
     "execution_count": 459,
     "metadata": {},
     "output_type": "execute_result"
    }
   ],
   "source": [
    "# Capacity Constraints\n",
    "grbModel.addConstrs(quicksum(volume[m]*Q_im[m,i] for m in range(Products)) <= a_i[i]*Capacities_i[i]*x_i[i] for i in range(Manufacturing_plants))\n",
    "grbModel.addConstrs(quicksum(volume[m]*Y_ijm[m,i,j] for i in range(Manufacturing_plants) for m in range(Products)) +\n",
    "            quicksum(volume[m]*T_ljm[m,l,j] for l in range(Outsourced) for m in range(Products)) <= b_j[j]*Capacities_j[j]*x_j[j] \n",
    "            for j in range(Distribution))\n",
    "grbModel.addConstrs(quicksum(V_lm[m,l] for m in range(Products)) <= np.sum(Capacities_l[l]) for l in range(Outsourced))"
   ]
  },
  {
   "cell_type": "code",
   "execution_count": 460,
   "id": "alpha-grain",
   "metadata": {},
   "outputs": [],
   "source": [
    "# Objective\n",
    "grb_expr = LinExpr()\n",
    "\n",
    "# Cost of opening\n",
    "OC_1 = 0\n",
    "OC_2 = 0\n",
    "for i in range(Manufacturing_plants):\n",
    "    OC_1 += f_i[i]*x_i[i]\n",
    "for j in range(Distribution):\n",
    "    OC_2 += f_j[j]*x_j[j]\n",
    "    \n",
    "#grb_expr += OC_1 + OC_2\n",
    "ship_1 = 0\n",
    "ship_2 = 0\n",
    "ship_3 = 0\n",
    "ship_4 = 0\n",
    "\n",
    "# Shipment\n",
    "for i in range(Manufacturing_plants):\n",
    "    for j in range(Distribution):\n",
    "        for m in range(Products):\n",
    "            ship_1 += Transportation_i_j[m][i][j]*Y_ijm[m,i,j]\n",
    "            \n",
    "for j in range(Distribution):\n",
    "    for k in range(Market):\n",
    "        for m in range(Products):\n",
    "            ship_2 += Transportation_j_k[m][j][k]*Z_jkm[m,j,k]\n",
    "\n",
    "for l in range(Outsourced):\n",
    "    for j in range(Distribution):\n",
    "        for m in range(Products):\n",
    "            ship_3 += T_O_DC[m][l][j]*T_ljm[m,l,j]\n",
    "\n",
    "for l in range(Outsourced):\n",
    "    for k in range(Market):\n",
    "        for m in range(Products):\n",
    "            ship_4 += T_O_MZ[m][l][k]*T_lkm[m,l,k]\n",
    "\n",
    "#grb_expr += ship_1 + ship_2 + ship_3 + ship_4\n",
    "\n",
    "# Production\n",
    "pr_cost = 0\n",
    "for i in range(Manufacturing_plants):\n",
    "    for m in range(Products):\n",
    "        pr_cost += Manufacturing_costs[i][m]*Q_im[m,i]\n",
    "\n",
    "#grb_expr += pr_cost\n",
    "# Buying from outsource cost\n",
    "b_cost = 0\n",
    "for l in range(Outsourced):\n",
    "    for m in range(Products):\n",
    "        b_cost += Supplier_cost[m][l]*V_lm[m,l]\n",
    "#grb_expr += b_cost\n",
    "\n",
    "#Lost Sales\n",
    "l_cost = 0\n",
    "for k in range(Market):\n",
    "    for m in range(Products):\n",
    "        l_cost += lost_sales[k][m]*U_km[k,m]\n",
    "\n",
    "grb_expr += OC_1 + OC_2 + ship_1 + ship_2 + ship_3 + ship_4 + pr_cost + b_cost + l_cost\n",
    "        "
   ]
  },
  {
   "cell_type": "code",
   "execution_count": 461,
   "id": "legitimate-secret",
   "metadata": {},
   "outputs": [],
   "source": [
    "grbModel.setObjective(grb_expr, GRB.MINIMIZE)"
   ]
  },
  {
   "cell_type": "code",
   "execution_count": 462,
   "id": "signed-specific",
   "metadata": {},
   "outputs": [
    {
     "name": "stdout",
     "output_type": "stream",
     "text": [
      "Gurobi Optimizer version 9.0.0 build v9.0.0rc2 (win64)\n",
      "Optimize a model with 45 rows, 85 columns and 197 nonzeros\n",
      "Model fingerprint: 0x4c1ec2d0\n",
      "Variable types: 0 continuous, 85 integer (5 binary)\n",
      "Coefficient statistics:\n",
      "  Matrix range     [1e+00, 5e+02]\n",
      "  Objective range  [5e-02, 3e+02]\n",
      "  Bounds range     [1e+00, 1e+00]\n",
      "  RHS range        [2e+00, 2e+01]\n",
      "Found heuristic solution: objective 14433.000000\n",
      "Presolve removed 24 rows and 30 columns\n",
      "Presolve time: 0.00s\n",
      "Presolved: 21 rows, 55 columns, 123 nonzeros\n",
      "Variable types: 0 continuous, 55 integer (5 binary)\n",
      "\n",
      "Root relaxation: objective 1.675104e+02, 11 iterations, 0.00 seconds\n",
      "\n",
      "    Nodes    |    Current Node    |     Objective Bounds      |     Work\n",
      " Expl Unexpl |  Obj  Depth IntInf | Incumbent    BestBd   Gap | It/Node Time\n",
      "\n",
      "     0     0  167.51042    0    4 14433.0000  167.51042  98.8%     -    0s\n",
      "H    0     0                     215.6253627  167.51042  22.3%     -    0s\n",
      "H    0     0                     204.7829303  167.51042  18.2%     -    0s\n",
      "*    0     0               0     201.5408433  201.54084  0.00%     -    0s\n",
      "\n",
      "Cutting planes:\n",
      "  Implied bound: 4\n",
      "  Flow cover: 3\n",
      "  Relax-and-lift: 3\n",
      "\n",
      "Explored 1 nodes (18 simplex iterations) in 0.03 seconds\n",
      "Thread count was 4 (of 4 available processors)\n",
      "\n",
      "Solution count 4: 201.541 204.783 215.625 14433 \n",
      "\n",
      "Optimal solution found (tolerance 1.00e-04)\n",
      "Best objective 2.015408432532e+02, best bound 2.015408432532e+02, gap 0.0000%\n"
     ]
    }
   ],
   "source": [
    "grbModel.optimize()"
   ]
  },
  {
   "cell_type": "code",
   "execution_count": 463,
   "id": "blocked-investor",
   "metadata": {},
   "outputs": [],
   "source": [
    "v_val_x_i = grbModel.getAttr('x', x_i)\n",
    "v_val_x_j = grbModel.getAttr('x', x_j)\n",
    "v_val_U_km = grbModel.getAttr('x', U_km)\n",
    "v_val_V_lm = grbModel.getAttr('x', V_lm)\n",
    "v_val_Q_im = grbModel.getAttr('x', Q_im)\n",
    "v_val_Y_ijm = grbModel.getAttr('x', Y_ijm)\n",
    "v_val_Z_jkm = grbModel.getAttr('x', Z_jkm)\n",
    "v_val_T_ljm = grbModel.getAttr('x', T_ljm)\n",
    "v_val_T_lkm = grbModel.getAttr('x', T_lkm)"
   ]
  },
  {
   "cell_type": "code",
   "execution_count": 464,
   "id": "saving-animal",
   "metadata": {},
   "outputs": [
    {
     "name": "stdout",
     "output_type": "stream",
     "text": [
      "obj val:  201.54084325318277\n",
      "Open Manufacturing Plants:  1.0\n",
      "Open Distribution Centres:  2.0\n",
      "Total purchased from Outsourcing:  0.0\n",
      "Total produced in house:  54.0\n",
      "Total lost sales in units:  0.0\n",
      "Total shipped from outsourced facility to DCs:  0.0\n",
      "Total shipped from outsourced facility to market zone:  0.0\n"
     ]
    }
   ],
   "source": [
    "obj = grbModel.getObjective()\n",
    "print(\"obj val: \", obj.getValue())\n",
    "print(\"Open Manufacturing Plants: \", np.sum(v_val_x_i.values()))\n",
    "print(\"Open Distribution Centres: \", np.sum(v_val_x_j.values()))\n",
    "print(\"Total purchased from Outsourcing: \", np.sum(v_val_V_lm.values()))\n",
    "print(\"Total produced in house: \", np.sum(v_val_Q_im.values()))\n",
    "print(\"Total lost sales in units: \", np.sum(v_val_U_km.values()))\n",
    "print(\"Total shipped from outsourced facility to DCs: \", np.sum(v_val_T_ljm.values()))\n",
    "print(\"Total shipped from outsourced facility to market zone: \", np.sum(v_val_T_lkm.values()))"
   ]
  },
  {
   "cell_type": "code",
   "execution_count": 465,
   "id": "continuing-waters",
   "metadata": {},
   "outputs": [],
   "source": [
    "def get_costs(x1, x2, U, V, Q, Y, Z, T1, T2):\n",
    "    \n",
    "    # Cost of opening\n",
    "    OC_1 = 0\n",
    "    OC_2 = 0\n",
    "    for i in range(Manufacturing_plants):\n",
    "        OC_1 += f_i[i]*x1[i]\n",
    "    for j in range(Distribution):\n",
    "        OC_2 += f_j[j]*x2[j]\n",
    "\n",
    "    Opening = np.round(OC_1 + OC_2)\n",
    "    ship_1 = 0\n",
    "    ship_2 = 0\n",
    "    ship_3 = 0\n",
    "    ship_4 = 0\n",
    "\n",
    "    # Shipment\n",
    "    for i in range(Manufacturing_plants):\n",
    "        for j in range(Distribution):\n",
    "            for m in range(Products):\n",
    "                ship_1 += Transportation_i_j[m][i][j]*Y[m,i,j]\n",
    "\n",
    "    for j in range(Distribution):\n",
    "        for k in range(Market):\n",
    "            for m in range(Products):\n",
    "                ship_2 += Transportation_j_k[m][j][k]*Z[m,j,k]\n",
    "\n",
    "    for l in range(Outsourced):\n",
    "        for j in range(Distribution):\n",
    "            for m in range(Products):\n",
    "                ship_3 += T_O_DC[m][l][j]*T1[m,l,j]\n",
    "\n",
    "    for l in range(Outsourced):\n",
    "        for k in range(Market):\n",
    "            for m in range(Products):\n",
    "                ship_4 += T_O_MZ[m][l][k]*T2[m,l,k]\n",
    "    \n",
    "    in_house_shipping = np.round(ship_1 + ship_2)\n",
    "\n",
    "    outsourced_shipping = np.round(ship_3 + ship_4)\n",
    "\n",
    "    # Production\n",
    "    pr_cost = 0\n",
    "    for i in range(Manufacturing_plants):\n",
    "        for m in range(Products):\n",
    "            pr_cost += np.round(Manufacturing_costs[i][m]*Q[m,i])\n",
    "\n",
    "    #grb_expr += pr_cost\n",
    "    # Buying from outsource cost\n",
    "    b_cost = 0\n",
    "    for l in range(Outsourced):\n",
    "        for m in range(Products):\n",
    "            b_cost += np.round(Supplier_cost[m][l]*V[m,l])\n",
    "    #grb_expr += b_cost\n",
    "\n",
    "    #Lost Sales\n",
    "    l_cost = 0\n",
    "    for k in range(Market):\n",
    "        for m in range(Products):\n",
    "            l_cost += np.round(lost_sales[k][m]*U[k,m])\n",
    "    \n",
    "    lst = [[Opening, in_house_shipping, outsourced_shipping, pr_cost, b_cost, l_cost]]\n",
    "    print(OC_1 + OC_2 + ship_1 + ship_2 + ship_3 + ship_4 + pr_cost + b_cost + l_cost)\n",
    "    return pd.DataFrame(lst, columns = [\"Opening\", \"In House Shipping\", \"Outsourced Shipping\", \"Production\", \n",
    "                         \"Buying from Outsource\", \"Lost Sales\"])\n",
    "\n",
    "    \n",
    "            \n",
    "    "
   ]
  },
  {
   "cell_type": "code",
   "execution_count": 466,
   "id": "boxed-humidity",
   "metadata": {},
   "outputs": [
    {
     "name": "stdout",
     "output_type": "stream",
     "text": [
      "201.4523076855209\n"
     ]
    },
    {
     "data": {
      "text/html": [
       "<div>\n",
       "<style scoped>\n",
       "    .dataframe tbody tr th:only-of-type {\n",
       "        vertical-align: middle;\n",
       "    }\n",
       "\n",
       "    .dataframe tbody tr th {\n",
       "        vertical-align: top;\n",
       "    }\n",
       "\n",
       "    .dataframe thead th {\n",
       "        text-align: right;\n",
       "    }\n",
       "</style>\n",
       "<table border=\"1\" class=\"dataframe\">\n",
       "  <thead>\n",
       "    <tr style=\"text-align: right;\">\n",
       "      <th></th>\n",
       "      <th>Opening</th>\n",
       "      <th>In House Shipping</th>\n",
       "      <th>Outsourced Shipping</th>\n",
       "      <th>Production</th>\n",
       "      <th>Buying from Outsource</th>\n",
       "      <th>Lost Sales</th>\n",
       "    </tr>\n",
       "  </thead>\n",
       "  <tbody>\n",
       "    <tr>\n",
       "      <th>0</th>\n",
       "      <td>45.0</td>\n",
       "      <td>105.0</td>\n",
       "      <td>0.0</td>\n",
       "      <td>51.0</td>\n",
       "      <td>0.0</td>\n",
       "      <td>0.0</td>\n",
       "    </tr>\n",
       "  </tbody>\n",
       "</table>\n",
       "</div>"
      ],
      "text/plain": [
       "   Opening  In House Shipping  Outsourced Shipping  Production  \\\n",
       "0     45.0              105.0                  0.0        51.0   \n",
       "\n",
       "   Buying from Outsource  Lost Sales  \n",
       "0                    0.0         0.0  "
      ]
     },
     "execution_count": 466,
     "metadata": {},
     "output_type": "execute_result"
    }
   ],
   "source": [
    "get_costs(v_val_x_i, v_val_x_j, v_val_U_km, v_val_V_lm, v_val_Q_im, v_val_Y_ijm,  v_val_Z_jkm,  v_val_T_ljm, v_val_T_lkm)"
   ]
  },
  {
   "cell_type": "code",
   "execution_count": null,
   "id": "spoken-client",
   "metadata": {},
   "outputs": [],
   "source": []
  }
 ],
 "metadata": {
  "kernelspec": {
   "display_name": "Python 3",
   "language": "python",
   "name": "python3"
  },
  "language_info": {
   "codemirror_mode": {
    "name": "ipython",
    "version": 3
   },
   "file_extension": ".py",
   "mimetype": "text/x-python",
   "name": "python",
   "nbconvert_exporter": "python",
   "pygments_lexer": "ipython3",
   "version": "3.7.3"
  }
 },
 "nbformat": 4,
 "nbformat_minor": 5
}
