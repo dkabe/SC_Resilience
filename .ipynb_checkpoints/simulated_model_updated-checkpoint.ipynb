{
 "cells": [
  {
   "cell_type": "code",
   "execution_count": 64,
   "id": "promotional-copper",
   "metadata": {},
   "outputs": [],
   "source": [
    "import numpy as np\n",
    "import random\n",
    "from random import randint\n",
    "from gurobipy import *\n",
    "import pandas as pd\n",
    "from random import seed"
   ]
  },
  {
   "cell_type": "code",
   "execution_count": 65,
   "id": "paperback-atmosphere",
   "metadata": {},
   "outputs": [],
   "source": [
    "Manufacturing_plants = 2\n",
    "Distribution = 3\n",
    "Market = 4\n",
    "Products = 2\n",
    "Outsourced = 2"
   ]
  },
  {
   "cell_type": "code",
   "execution_count": 66,
   "id": "dirty-thing",
   "metadata": {},
   "outputs": [],
   "source": [
    "# Product Demand\n",
    "demand = np.random.randint(0,50,(Products,Market))"
   ]
  },
  {
   "cell_type": "code",
   "execution_count": 67,
   "id": "olympic-waterproof",
   "metadata": {},
   "outputs": [],
   "source": [
    "# Cost of opening\n",
    "f_i = [20, 25]\n",
    "f_j = [15, 5, 10]"
   ]
  },
  {
   "cell_type": "code",
   "execution_count": 68,
   "id": "intermediate-official",
   "metadata": {},
   "outputs": [],
   "source": [
    "# Unit cost of manufacturing product \n",
    "Manufacturing_costs = np.random.uniform(0,2, (Manufacturing_plants,Products))"
   ]
  },
  {
   "cell_type": "code",
   "execution_count": 69,
   "id": "composed-newfoundland",
   "metadata": {},
   "outputs": [],
   "source": [
    "# Unit cost of transporting m from plant to DC\n",
    "Transportation_i_j = np.random.uniform(0,5, (Products, Manufacturing_plants, Distribution))"
   ]
  },
  {
   "cell_type": "code",
   "execution_count": 70,
   "id": "mathematical-block",
   "metadata": {},
   "outputs": [],
   "source": [
    "# Unit cost of transporting m from DC to Market Zone\n",
    "Transportation_j_k = np.random.uniform(0,5, (Products, Distribution, Market))"
   ]
  },
  {
   "cell_type": "code",
   "execution_count": 71,
   "id": "separate-sullivan",
   "metadata": {},
   "outputs": [],
   "source": [
    "# Plant Capacities\n",
    "Capacities_i = np.random.randint(300,500,(Manufacturing_plants)) # in volume !!! (metres cubed)\n",
    "Capacities_j = np.random.randint(300,500,(Distribution)) # in volume !!! (metres cubed)\n",
    "Capacities_l = np.zeros((Products,Outsourced)) # in terms of products \n",
    "np.fill_diagonal(Capacities_l, random.randint(15,20))"
   ]
  },
  {
   "cell_type": "code",
   "execution_count": 72,
   "id": "federal-discharge",
   "metadata": {},
   "outputs": [],
   "source": [
    "# Cost of purchasing product m from supplier l (assume only 1 product type from each outsourcer)\n",
    "Supplier_cost = np.zeros((Products, Outsourced))\n",
    "np.fill_diagonal(Supplier_cost, random.uniform(10,15))"
   ]
  },
  {
   "cell_type": "code",
   "execution_count": 73,
   "id": "governing-mustang",
   "metadata": {},
   "outputs": [],
   "source": [
    "# Cost of transporting product m from outsourced facility l to j\n",
    "T_O_DC = np.zeros((Products, Outsourced, Distribution))\n",
    "T_O_DC[0][0] = np.random.uniform(10,15,(Distribution))\n",
    "T_O_DC[1][1] = np.random.uniform(10,15,(Distribution))"
   ]
  },
  {
   "cell_type": "code",
   "execution_count": 74,
   "id": "flexible-anthony",
   "metadata": {},
   "outputs": [],
   "source": [
    "# Cost of shipping product m from outsourced facility l to k\n",
    "T_O_MZ = np.zeros((Products, Outsourced, Market))\n",
    "T_O_MZ[0][0] = np.random.uniform(15,20,(Market))\n",
    "T_O_MZ[1][1] = np.random.uniform(15,20,(Market))"
   ]
  },
  {
   "cell_type": "code",
   "execution_count": 75,
   "id": "olympic-animal",
   "metadata": {},
   "outputs": [],
   "source": [
    "# Product volume \n",
    "volume = np.random.randint(2,5,(Products))"
   ]
  },
  {
   "cell_type": "code",
   "execution_count": 76,
   "id": "alike-marriage",
   "metadata": {},
   "outputs": [],
   "source": [
    "# unit cost of lost sales \n",
    "lost_sales = np.random.randint(200,300,(Market,Products))"
   ]
  },
  {
   "cell_type": "code",
   "execution_count": 113,
   "id": "aging-national",
   "metadata": {},
   "outputs": [],
   "source": [
    "# Initialize model variables\n",
    "x_i = {} # opening manufacturing plant\n",
    "x_j = {} # opening DC\n",
    "U_km = {} # quantity lost sales\n",
    "V_lm = {} # quantity products purchased from outsourcing\n",
    "Q_im = {} # quantity produced\n",
    "Y_ijm = {} # shipping i -> j\n",
    "Z_jkm = {} # shipping j -> k\n",
    "T_ljm = {} # shipping l -> j\n",
    "T_lkm = {} # shipping l -> k\n",
    "\n",
    "# Dictionaries for analysis \n",
    "Cost_dict = {}\n",
    "Summary_dict = {} "
   ]
  },
  {
   "cell_type": "code",
   "execution_count": 78,
   "id": "strong-field",
   "metadata": {},
   "outputs": [],
   "source": [
    "# Scenario parameters\n",
    "a_i = np.ones(Manufacturing_plants)\n",
    "b_j = np.ones(Distribution)"
   ]
  },
  {
   "cell_type": "code",
   "execution_count": 80,
   "id": "impossible-opera",
   "metadata": {},
   "outputs": [],
   "source": [
    "## Model"
   ]
  },
  {
   "cell_type": "code",
   "execution_count": 81,
   "id": "knowing-dispute",
   "metadata": {},
   "outputs": [],
   "source": [
    "grbModel = Model('synthetic')"
   ]
  },
  {
   "cell_type": "code",
   "execution_count": 82,
   "id": "announced-filling",
   "metadata": {},
   "outputs": [],
   "source": [
    "def SetGurobiModel():\n",
    "    \n",
    "    for i in range(Manufacturing_plants):\n",
    "        x_i[i] = grbModel.addVar(vtype = GRB.BINARY)\n",
    "    \n",
    "    for j in range(Distribution):\n",
    "        x_j[j] = grbModel.addVar(vtype = GRB.BINARY)\n",
    "    \n",
    "    for k in range(Market):\n",
    "        for m in range(Products):\n",
    "            U_km[k,m] = grbModel.addVar(vtype = GRB.INTEGER)\n",
    "    \n",
    "    for m in range(Products):\n",
    "        for l in range(Outsourced):\n",
    "            V_lm[m,l] = grbModel.addVar(vtype = GRB.INTEGER)\n",
    "            \n",
    "    for m in range(Products):\n",
    "        for i in range(Manufacturing_plants):\n",
    "            Q_im[m,i] = grbModel.addVar(vtype = GRB.INTEGER)\n",
    "    \n",
    "    for m in range(Products):\n",
    "        for i in range(Manufacturing_plants):\n",
    "            for j in range(Distribution):\n",
    "                Y_ijm[m,i,j] = grbModel.addVar(vtype = GRB.INTEGER)\n",
    "                \n",
    "    for m in range(Products):\n",
    "        for j in range(Distribution):\n",
    "            for k in range(Market): \n",
    "                Z_jkm[m,j,k] = grbModel.addVar(vtype = GRB.INTEGER)                \n",
    "    \n",
    "    for m in range(Products):\n",
    "        for l in range(Outsourced):\n",
    "            for j in range(Distribution):\n",
    "                T_ljm[m,l,j] = grbModel.addVar(vtype = GRB.INTEGER)      \n",
    "                \n",
    "    for m in range(Products):\n",
    "        for l in range(Outsourced):\n",
    "            for k in range(Market):\n",
    "                T_lkm[m,l,k] = grbModel.addVar(vtype = GRB.INTEGER)\n",
    "                \n",
    "    SetGrb_Obj()\n",
    "    ModelCons()"
   ]
  },
  {
   "cell_type": "code",
   "execution_count": 119,
   "id": "comprehensive-aggregate",
   "metadata": {},
   "outputs": [],
   "source": [
    "def SolveModel():\n",
    "    \n",
    "    grbModel.params.OutputFlag = 0\n",
    "    grbModel.optimize()\n",
    "    \n",
    "    # get variable values \n",
    "    v_val_x_i = grbModel.getAttr('x', x_i)\n",
    "    v_val_x_j = grbModel.getAttr('x', x_j)\n",
    "    v_val_U_km = grbModel.getAttr('x', U_km)\n",
    "    v_val_V_lm = grbModel.getAttr('x', V_lm)\n",
    "    v_val_Q_im = grbModel.getAttr('x', Q_im)\n",
    "    v_val_Y_ijm = grbModel.getAttr('x', Y_ijm)\n",
    "    v_val_Z_jkm = grbModel.getAttr('x', Z_jkm)\n",
    "    v_val_T_ljm = grbModel.getAttr('x', T_ljm)\n",
    "    v_val_T_lkm = grbModel.getAttr('x', T_lkm)\n",
    "    \n",
    "    obj = grbModel.getObjective()\n",
    "    print(\"obj val: \", obj.getValue())   \n",
    "    \n",
    "    Summary_dict[\"OpenMPs\"] = np.sum(v_val_x_i.values())\n",
    "    Summary_dict[\"OpenDCs\"] = np.sum(v_val_x_j.values())\n",
    "    Summary_dict[\"Purchasing\"] = np.sum(v_val_V_lm.values())\n",
    "    Summary_dict[\"Production\"] = np.sum(v_val_Q_im.values())\n",
    "    Summary_dict[\"LostSales\"] = np.sum(v_val_U_km.values())\n",
    "    Summary_dict[\"OutsourceToDC\"] =  np.sum(v_val_T_ljm.values())\n",
    "    Summary_dict[\"OutsourceToMarket\"] = np.sum(v_val_T_lkm.values())\n",
    "    \n",
    "    Cost_dict[\"Opening\"] =  get_opening_costs(v_val_x_i, v_val_x_j)\n",
    "    Cost_dict[\"InHouseShipping\"] = get_shipping_costs(v_val_Y_ijm, v_val_Z_jkm, v_val_T_ljm, v_val_T_lkm)[0]\n",
    "    Cost_dict[\"OutsourceShipping\"] = get_shipping_costs(v_val_Y_ijm, v_val_Z_jkm, v_val_T_ljm, v_val_T_lkm)[1]\n",
    "    Cost_dict[\"Production\"] = get_production_cost(v_val_Q_im)\n",
    "    Cost_dict[\"Purchasing\"] = get_purchase_costs(v_val_V_lm)\n",
    "    Cost_dict[\"LostSales\"] = get_lost_cost(v_val_U_km)    \n",
    "    \n",
    "    return"
   ]
  },
  {
   "cell_type": "code",
   "execution_count": 84,
   "id": "super-chess",
   "metadata": {},
   "outputs": [],
   "source": [
    "a_i = np.ones(Manufacturing_plants)\n",
    "b_j = np.ones(Distribution)"
   ]
  },
  {
   "cell_type": "code",
   "execution_count": 85,
   "id": "original-miniature",
   "metadata": {},
   "outputs": [],
   "source": [
    "# Objective\n",
    "\n",
    "def SetGrb_Obj():\n",
    "\n",
    "    grb_expr = LinExpr()\n",
    "\n",
    "    # Cost of opening\n",
    "    OC_1 = 0\n",
    "    OC_2 = 0\n",
    "    for i in range(Manufacturing_plants):\n",
    "        OC_1 += f_i[i]*x_i[i]\n",
    "    for j in range(Distribution):\n",
    "        OC_2 += f_j[j]*x_j[j]\n",
    "\n",
    "    ship_1 = 0\n",
    "    ship_2 = 0\n",
    "    ship_3 = 0\n",
    "    ship_4 = 0\n",
    "\n",
    "    # Shipment\n",
    "    for i in range(Manufacturing_plants):\n",
    "        for j in range(Distribution):\n",
    "            for m in range(Products):\n",
    "                ship_1 += Transportation_i_j[m][i][j]*Y_ijm[m,i,j]\n",
    "\n",
    "    for j in range(Distribution):\n",
    "        for k in range(Market):\n",
    "            for m in range(Products):\n",
    "                ship_2 += Transportation_j_k[m][j][k]*Z_jkm[m,j,k]\n",
    "\n",
    "    for l in range(Outsourced):\n",
    "        for j in range(Distribution):\n",
    "            for m in range(Products):\n",
    "                ship_3 += T_O_DC[m][l][j]*T_ljm[m,l,j]\n",
    "\n",
    "    for l in range(Outsourced):\n",
    "        for k in range(Market):\n",
    "            for m in range(Products):\n",
    "                ship_4 += T_O_MZ[m][l][k]*T_lkm[m,l,k]\n",
    "\n",
    "    # Production\n",
    "    pr_cost = 0\n",
    "    for i in range(Manufacturing_plants):\n",
    "        for m in range(Products):\n",
    "            pr_cost += Manufacturing_costs[i][m]*Q_im[m,i]\n",
    "\n",
    "    # Buying from outsource cost\n",
    "    b_cost = 0\n",
    "    for l in range(Outsourced):\n",
    "        for m in range(Products):\n",
    "            b_cost += Supplier_cost[m][l]*V_lm[m,l]\n",
    "\n",
    "    #Lost Sales\n",
    "    l_cost = 0\n",
    "    for k in range(Market):\n",
    "        for m in range(Products):\n",
    "            l_cost += lost_sales[k][m]*U_km[k,m]\n",
    "\n",
    "    grb_expr += OC_1 + OC_2 + ship_1 + ship_2 + ship_3 + ship_4 + pr_cost + b_cost + l_cost\n",
    "    \n",
    "    grbModel.setObjective(grb_expr, GRB.MINIMIZE)\n",
    "    \n",
    "    return \n"
   ]
  },
  {
   "cell_type": "code",
   "execution_count": 86,
   "id": "flexible-uruguay",
   "metadata": {},
   "outputs": [],
   "source": [
    "# Model Constraints\n",
    "\n",
    "def ModelCons():\n",
    "    \n",
    "    # Network Flow\n",
    "\n",
    "    grbModel.addConstrs(quicksum(Y_ijm[m,i,j] for j in range(Distribution)) == Q_im[m,i]\n",
    "                        for i in range(Manufacturing_plants) for m in range(Products))\n",
    "\n",
    "    grbModel.addConstrs(quicksum(Z_jkm[m,j,k] for k in range(Market)) ==\n",
    "                        (quicksum(Y_ijm[m,i,j] for i in range(Manufacturing_plants)) +\n",
    "                         quicksum(T_ljm[m,l,j] for l in range(Outsourced))) for j in range(Distribution)\n",
    "                        for m in range(Products))\n",
    "\n",
    "    grbModel.addConstrs((quicksum(Z_jkm[m,j,k] for j in range(Distribution)) +\n",
    "                         quicksum(T_lkm[m,l,k] for l in range(Outsourced))) == (demand[m][k] - U_km[k,m])\n",
    "                        for k in range(Market) for m in range(Products))\n",
    "    \n",
    "    # Can only get one product type from each outsourced facility\n",
    "\n",
    "    for m in range(Products):\n",
    "        for l in range(Outsourced):\n",
    "            if l != m:\n",
    "                grbModel.addConstr(V_lm[m,l] == 0)\n",
    "            \n",
    "    for m in range(Products):\n",
    "        for l in range(Outsourced):\n",
    "            for j in range(Distribution):\n",
    "                if l != m:\n",
    "                    grbModel.addConstr(T_ljm[m,l,j] == 0)\n",
    "                    \n",
    "    for m in range(Products):\n",
    "        for l in range(Outsourced):\n",
    "            for k in range(Market):\n",
    "                if l != m:\n",
    "                    grbModel.addConstr(T_lkm[m,l,k] == 0)\n",
    "                    \n",
    "    # Purchasing Constraints (everything purchased from outsourced facilities must be shipped)\n",
    "    grbModel.addConstrs(V_lm[m,l] == quicksum(T_ljm[m,l,j] for j in range(Distribution)) + \n",
    "                        quicksum(T_lkm[m,l,k] for k in range(Market)) for m in range(Products) for l in range(Outsourced))\n",
    "    \n",
    "    \n",
    "    # Capacity Constraints\n",
    "    grbModel.addConstrs(quicksum(volume[m]*Q_im[m,i] for m in range(Products)) <= a_i[i]*Capacities_i[i]*x_i[i] \n",
    "                        for i in range(Manufacturing_plants))\n",
    "    grbModel.addConstrs(quicksum(volume[m]*Y_ijm[m,i,j] for i in range(Manufacturing_plants) for m in range(Products)) +\n",
    "                        quicksum(volume[m]*T_ljm[m,l,j] for l in range(Outsourced) for m in range(Products)) <= \n",
    "                        b_j[j]*Capacities_j[j]*x_j[j] for j in range(Distribution))\n",
    "    grbModel.addConstrs(quicksum(V_lm[m,l] for m in range(Products)) <= np.sum(Capacities_l[l]) for l in range(Outsourced))\n",
    "    \n",
    "    return   \n"
   ]
  },
  {
   "cell_type": "code",
   "execution_count": 87,
   "id": "saving-animal",
   "metadata": {},
   "outputs": [
    {
     "name": "stdout",
     "output_type": "stream",
     "text": [
      "obj val:  0.0\n"
     ]
    },
    {
     "ename": "NameError",
     "evalue": "name 'v_val_x_i' is not defined",
     "output_type": "error",
     "traceback": [
      "\u001b[1;31m---------------------------------------------------------------------------\u001b[0m",
      "\u001b[1;31mNameError\u001b[0m                                 Traceback (most recent call last)",
      "\u001b[1;32m<ipython-input-87-09332b75dfe5>\u001b[0m in \u001b[0;36m<module>\u001b[1;34m\u001b[0m\n\u001b[0;32m      1\u001b[0m \u001b[0mobj\u001b[0m \u001b[1;33m=\u001b[0m \u001b[0mgrbModel\u001b[0m\u001b[1;33m.\u001b[0m\u001b[0mgetObjective\u001b[0m\u001b[1;33m(\u001b[0m\u001b[1;33m)\u001b[0m\u001b[1;33m\u001b[0m\u001b[1;33m\u001b[0m\u001b[0m\n\u001b[0;32m      2\u001b[0m \u001b[0mprint\u001b[0m\u001b[1;33m(\u001b[0m\u001b[1;34m\"obj val: \"\u001b[0m\u001b[1;33m,\u001b[0m \u001b[0mobj\u001b[0m\u001b[1;33m.\u001b[0m\u001b[0mgetValue\u001b[0m\u001b[1;33m(\u001b[0m\u001b[1;33m)\u001b[0m\u001b[1;33m)\u001b[0m\u001b[1;33m\u001b[0m\u001b[1;33m\u001b[0m\u001b[0m\n\u001b[1;32m----> 3\u001b[1;33m \u001b[0mprint\u001b[0m\u001b[1;33m(\u001b[0m\u001b[1;34m\"Open Manufacturing Plants: \"\u001b[0m\u001b[1;33m,\u001b[0m \u001b[0mnp\u001b[0m\u001b[1;33m.\u001b[0m\u001b[0msum\u001b[0m\u001b[1;33m(\u001b[0m\u001b[0mv_val_x_i\u001b[0m\u001b[1;33m.\u001b[0m\u001b[0mvalues\u001b[0m\u001b[1;33m(\u001b[0m\u001b[1;33m)\u001b[0m\u001b[1;33m)\u001b[0m\u001b[1;33m)\u001b[0m\u001b[1;33m\u001b[0m\u001b[1;33m\u001b[0m\u001b[0m\n\u001b[0m\u001b[0;32m      4\u001b[0m \u001b[0mprint\u001b[0m\u001b[1;33m(\u001b[0m\u001b[1;34m\"Open Distribution Centres: \"\u001b[0m\u001b[1;33m,\u001b[0m \u001b[0mnp\u001b[0m\u001b[1;33m.\u001b[0m\u001b[0msum\u001b[0m\u001b[1;33m(\u001b[0m\u001b[0mv_val_x_j\u001b[0m\u001b[1;33m.\u001b[0m\u001b[0mvalues\u001b[0m\u001b[1;33m(\u001b[0m\u001b[1;33m)\u001b[0m\u001b[1;33m)\u001b[0m\u001b[1;33m)\u001b[0m\u001b[1;33m\u001b[0m\u001b[1;33m\u001b[0m\u001b[0m\n\u001b[0;32m      5\u001b[0m \u001b[0mprint\u001b[0m\u001b[1;33m(\u001b[0m\u001b[1;34m\"Total purchased from Outsourcing: \"\u001b[0m\u001b[1;33m,\u001b[0m \u001b[0mnp\u001b[0m\u001b[1;33m.\u001b[0m\u001b[0msum\u001b[0m\u001b[1;33m(\u001b[0m\u001b[0mv_val_V_lm\u001b[0m\u001b[1;33m.\u001b[0m\u001b[0mvalues\u001b[0m\u001b[1;33m(\u001b[0m\u001b[1;33m)\u001b[0m\u001b[1;33m)\u001b[0m\u001b[1;33m)\u001b[0m\u001b[1;33m\u001b[0m\u001b[1;33m\u001b[0m\u001b[0m\n",
      "\u001b[1;31mNameError\u001b[0m: name 'v_val_x_i' is not defined"
     ]
    }
   ],
   "source": [
    "obj = grbModel.getObjective()\n",
    "print(\"obj val: \", obj.getValue())\n",
    "print(\"Open Manufacturing Plants: \", np.sum(v_val_x_i.values()))\n",
    "print(\"Open Distribution Centres: \", np.sum(v_val_x_j.values()))\n",
    "print(\"Total purchased from Outsourcing: \", np.sum(v_val_V_lm.values()))\n",
    "print(\"Total produced in house: \", np.sum(v_val_Q_im.values()))\n",
    "print(\"Total lost sales in units: \", np.sum(v_val_U_km.values()))\n",
    "print(\"Total shipped from outsourced facility to DCs: \", np.sum(v_val_T_ljm.values()))\n",
    "print(\"Total shipped from outsourced facility to market zone: \", np.sum(v_val_T_lkm.values()))"
   ]
  },
  {
   "cell_type": "code",
   "execution_count": 88,
   "id": "continuing-waters",
   "metadata": {},
   "outputs": [],
   "source": [
    "def get_opening_costs(x1, x2):\n",
    "    \n",
    "    # Cost of opening\n",
    "    OC_1 = 0\n",
    "    OC_2 = 0\n",
    "    for i in range(Manufacturing_plants):\n",
    "        OC_1 += f_i[i]*x1[i]\n",
    "    for j in range(Distribution):\n",
    "        OC_2 += f_j[j]*x2[j]\n",
    "\n",
    "    Opening = np.round(OC_1 + OC_2)\n",
    "    \n",
    "    return(Opening)\n",
    "   \n",
    "def get_shipping_costs(Y, Z, T1, T2):\n",
    "    ship_1 = 0\n",
    "    ship_2 = 0\n",
    "    ship_3 = 0\n",
    "    ship_4 = 0\n",
    "\n",
    "    # Shipment\n",
    "    for i in range(Manufacturing_plants):\n",
    "        for j in range(Distribution):\n",
    "            for m in range(Products):\n",
    "                ship_1 += Transportation_i_j[m][i][j]*Y[m,i,j]\n",
    "\n",
    "    for j in range(Distribution):\n",
    "        for k in range(Market):\n",
    "            for m in range(Products):\n",
    "                ship_2 += Transportation_j_k[m][j][k]*Z[m,j,k]\n",
    "\n",
    "    for l in range(Outsourced):\n",
    "        for j in range(Distribution):\n",
    "            for m in range(Products):\n",
    "                ship_3 += T_O_DC[m][l][j]*T1[m,l,j]\n",
    "\n",
    "    for l in range(Outsourced):\n",
    "        for k in range(Market):\n",
    "            for m in range(Products):\n",
    "                ship_4 += T_O_MZ[m][l][k]*T2[m,l,k]\n",
    "    \n",
    "    in_house_shipping = np.round(ship_1 + ship_2)\n",
    "\n",
    "    outsourced_shipping = np.round(ship_3 + ship_4)\n",
    "    \n",
    "    return(in_house_shipping, outsourced_shipping)\n",
    "\n",
    "def get_production_cost(Q):\n",
    "\n",
    "    # Production\n",
    "    pr_cost = 0\n",
    "    for i in range(Manufacturing_plants):\n",
    "        for m in range(Products):\n",
    "            pr_cost += np.round(Manufacturing_costs[i][m]*Q[m,i])\n",
    "            \n",
    "    return(pr_cost)\n",
    "\n",
    "def get_purchase_costs(V):    \n",
    "\n",
    "    # Buying from outsource cost\n",
    "    b_cost = 0\n",
    "    for l in range(Outsourced):\n",
    "        for m in range(Products):\n",
    "            b_cost += np.round(Supplier_cost[m][l]*V[m,l])\n",
    "            \n",
    "    return(b_cost)\n",
    "\n",
    "def get_lost_cost(U):\n",
    "    \n",
    "    #Lost Sales\n",
    "    l_cost = 0\n",
    "    for k in range(Market):\n",
    "        for m in range(Products):\n",
    "            l_cost += np.round(lost_sales[k][m]*U[k,m])\n",
    "            \n",
    "    return(l_cost)\n",
    "    \n",
    "    lst = [[Opening, in_house_shipping, outsourced_shipping, pr_cost, b_cost, l_cost]]\n",
    "    print(OC_1 + OC_2 + ship_1 + ship_2 + ship_3 + ship_4 + pr_cost + b_cost + l_cost)\n",
    "    return pd.DataFrame(lst, columns = [\"Opening\", \"In House Shipping\", \"Outsourced Shipping\", \"Production\", \n",
    "                         \"Buying from Outsource\", \"Lost Sales\"])\n",
    "\n",
    "    \n",
    "            \n",
    "    "
   ]
  },
  {
   "cell_type": "code",
   "execution_count": 120,
   "id": "european-supplier",
   "metadata": {},
   "outputs": [],
   "source": [
    "def run_Model(MP_param, DC_param):\n",
    "    for i in range(len(MP_param)):\n",
    "        a_i[i] = MP_param[i]\n",
    "    for j in range(len(DC_param)):\n",
    "        b_j[j] = DC_param[j]\n",
    "        \n",
    "    SetGurobiModel()\n",
    "    SolveModel()\n"
   ]
  },
  {
   "cell_type": "code",
   "execution_count": 131,
   "id": "seventh-alliance",
   "metadata": {},
   "outputs": [
    {
     "name": "stdout",
     "output_type": "stream",
     "text": [
      "obj val:  7039.19125483025\n"
     ]
    }
   ],
   "source": [
    "run_Model([1,0],[0,1,0])"
   ]
  },
  {
   "cell_type": "code",
   "execution_count": 132,
   "id": "dietary-sympathy",
   "metadata": {},
   "outputs": [
    {
     "data": {
      "text/plain": [
       "{'MP': 1.0,\n",
       " 'DC': 1.0,\n",
       " 'Purchasing': 38.0,\n",
       " 'Production': 86.0,\n",
       " 'Lost Sales': 25.0,\n",
       " 'Outsourcing_DC': 19.0,\n",
       " 'Outsourcing_Market': 19.0}"
      ]
     },
     "execution_count": 132,
     "metadata": {},
     "output_type": "execute_result"
    }
   ],
   "source": [
    "Summary_dict"
   ]
  },
  {
   "cell_type": "code",
   "execution_count": null,
   "id": "intensive-motorcycle",
   "metadata": {},
   "outputs": [],
   "source": []
  }
 ],
 "metadata": {
  "kernelspec": {
   "display_name": "Python 3",
   "language": "python",
   "name": "python3"
  },
  "language_info": {
   "codemirror_mode": {
    "name": "ipython",
    "version": 3
   },
   "file_extension": ".py",
   "mimetype": "text/x-python",
   "name": "python",
   "nbconvert_exporter": "python",
   "pygments_lexer": "ipython3",
   "version": "3.7.3"
  }
 },
 "nbformat": 4,
 "nbformat_minor": 5
}
