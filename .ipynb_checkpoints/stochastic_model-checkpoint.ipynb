{
 "cells": [
  {
   "cell_type": "code",
   "execution_count": 1,
   "id": "promotional-copper",
   "metadata": {},
   "outputs": [],
   "source": [
    "import numpy as np\n",
    "import random\n",
    "from random import randint\n",
    "from gurobipy import *\n",
    "import pandas as pd\n",
    "from random import seed"
   ]
  },
  {
   "cell_type": "code",
   "execution_count": 2,
   "id": "paperback-atmosphere",
   "metadata": {},
   "outputs": [],
   "source": [
    "Manufacturing_plants = 2\n",
    "Distribution = 3\n",
    "Market = 4\n",
    "Products = 2\n",
    "Outsourced = 2\n",
    "epsilon = 25"
   ]
  },
  {
   "cell_type": "code",
   "execution_count": 3,
   "id": "affected-employer",
   "metadata": {},
   "outputs": [],
   "source": [
    "# Scenario parameters\n",
    "a_si = [[1,1], [1,0], [0,1]] # don't include [0,0]\n",
    "b_sj = [[1,1,1], [1,0,1], [1,1,0], [1,0,0], [0,1,1], [0,1,0], [0,0,1]] # don't include [0,0,0]"
   ]
  },
  {
   "cell_type": "code",
   "execution_count": 4,
   "id": "disciplinary-component",
   "metadata": {},
   "outputs": [],
   "source": [
    "Scenarios = [[x,y] for x in a_si for y in b_sj]"
   ]
  },
  {
   "cell_type": "code",
   "execution_count": 5,
   "id": "pending-writer",
   "metadata": {},
   "outputs": [
    {
     "data": {
      "text/plain": [
       "[[[1, 1], [1, 1, 1]],\n",
       " [[1, 1], [1, 0, 1]],\n",
       " [[1, 1], [1, 1, 0]],\n",
       " [[1, 1], [1, 0, 0]],\n",
       " [[1, 1], [0, 1, 1]],\n",
       " [[1, 1], [0, 1, 0]],\n",
       " [[1, 1], [0, 0, 1]],\n",
       " [[1, 0], [1, 1, 1]],\n",
       " [[1, 0], [1, 0, 1]],\n",
       " [[1, 0], [1, 1, 0]],\n",
       " [[1, 0], [1, 0, 0]],\n",
       " [[1, 0], [0, 1, 1]],\n",
       " [[1, 0], [0, 1, 0]],\n",
       " [[1, 0], [0, 0, 1]],\n",
       " [[0, 1], [1, 1, 1]],\n",
       " [[0, 1], [1, 0, 1]],\n",
       " [[0, 1], [1, 1, 0]],\n",
       " [[0, 1], [1, 0, 0]],\n",
       " [[0, 1], [0, 1, 1]],\n",
       " [[0, 1], [0, 1, 0]],\n",
       " [[0, 1], [0, 0, 1]]]"
      ]
     },
     "execution_count": 5,
     "metadata": {},
     "output_type": "execute_result"
    }
   ],
   "source": [
    "Scenarios"
   ]
  },
  {
   "cell_type": "code",
   "execution_count": 6,
   "id": "sufficient-dylan",
   "metadata": {},
   "outputs": [],
   "source": [
    "num_Scenarios = len(Scenarios)\n",
    "p_scen = 1/num_Scenarios"
   ]
  },
  {
   "cell_type": "code",
   "execution_count": 7,
   "id": "dirty-thing",
   "metadata": {},
   "outputs": [],
   "source": [
    "# Product Demand\n",
    "np.random.seed(0)\n",
    "demand = np.random.randint(0,50,(num_Scenarios, Products,Market))"
   ]
  },
  {
   "cell_type": "code",
   "execution_count": 8,
   "id": "absent-duration",
   "metadata": {},
   "outputs": [
    {
     "data": {
      "text/plain": [
       "array([[44, 47,  0,  3],\n",
       "       [ 3, 39,  9, 19]])"
      ]
     },
     "execution_count": 8,
     "metadata": {},
     "output_type": "execute_result"
    }
   ],
   "source": [
    "demand[0]"
   ]
  },
  {
   "cell_type": "code",
   "execution_count": 9,
   "id": "olympic-waterproof",
   "metadata": {},
   "outputs": [],
   "source": [
    "# Cost of opening\n",
    "f_i = [200, 50]\n",
    "f_j = [75, 100, 50]"
   ]
  },
  {
   "cell_type": "code",
   "execution_count": 10,
   "id": "intermediate-official",
   "metadata": {},
   "outputs": [],
   "source": [
    "# Unit cost of manufacturing product \n",
    "np.random.seed(0)\n",
    "Manufacturing_costs = np.random.uniform(0,2, (Manufacturing_plants,Products))"
   ]
  },
  {
   "cell_type": "code",
   "execution_count": 11,
   "id": "touched-remark",
   "metadata": {},
   "outputs": [
    {
     "data": {
      "text/plain": [
       "array([[1.09762701, 1.43037873],\n",
       "       [1.20552675, 1.08976637]])"
      ]
     },
     "execution_count": 11,
     "metadata": {},
     "output_type": "execute_result"
    }
   ],
   "source": [
    "Manufacturing_costs"
   ]
  },
  {
   "cell_type": "code",
   "execution_count": 12,
   "id": "composed-newfoundland",
   "metadata": {},
   "outputs": [],
   "source": [
    "# Unit cost of transporting m from plant to DC\n",
    "np.random.seed(0)\n",
    "Transportation_i_j = np.random.uniform(0,2, (Products, Manufacturing_plants, Distribution))"
   ]
  },
  {
   "cell_type": "code",
   "execution_count": 13,
   "id": "mathematical-block",
   "metadata": {},
   "outputs": [],
   "source": [
    "# Unit cost of transporting m from DC to Market Zone\n",
    "np.random.seed(0)\n",
    "Transportation_j_k = np.random.uniform(0,2, (Products, Distribution, Market))"
   ]
  },
  {
   "cell_type": "code",
   "execution_count": 14,
   "id": "separate-sullivan",
   "metadata": {},
   "outputs": [],
   "source": [
    "# Plant Capacities: Bigger capacities for the more expensive ones\n",
    "np.random.seed(0)\n",
    "\n",
    "Capacities_i = np.zeros(Manufacturing_plants) # in volume (metres cubed)\n",
    "Capacities_i[0] = np.random.randint(800,1000)\n",
    "Capacities_i[1] = np.random.randint(200,400) \n",
    "Capacities_j = np.zeros(Distribution) # in volume (metres cubed)\n",
    "Capacities_j[0] = np.random.randint(400, 600)\n",
    "Capacities_j[1] = np.random.randint(600, 800)\n",
    "Capacities_j[2] = np.random.randint(200,400)\n",
    "Capacities_l = np.random.randint(50,100, (Products,Outsourced)) # in terms of products \n"
   ]
  },
  {
   "cell_type": "code",
   "execution_count": 15,
   "id": "federal-discharge",
   "metadata": {},
   "outputs": [],
   "source": [
    "# Cost of purchasing product m from supplier l (assume only 1 product type from each outsourcer)\n",
    "np.random.seed(0)\n",
    "\n",
    "levels = 2\n",
    "Supplier_cost = np.zeros((levels, Products, Outsourced))\n",
    "Supplier_cost[0] = np.random.uniform(10,15, (Products, Outsourced))\n",
    "Supplier_cost[1] = np.random.randint(15,20, (Products, Outsourced))"
   ]
  },
  {
   "cell_type": "code",
   "execution_count": 16,
   "id": "united-administration",
   "metadata": {},
   "outputs": [
    {
     "data": {
      "text/plain": [
       "array([[[12.74406752, 13.57594683],\n",
       "        [13.01381688, 12.72441591]],\n",
       "\n",
       "       [[16.        , 18.        ],\n",
       "        [17.        , 19.        ]]])"
      ]
     },
     "execution_count": 16,
     "metadata": {},
     "output_type": "execute_result"
    }
   ],
   "source": [
    "Supplier_cost"
   ]
  },
  {
   "cell_type": "code",
   "execution_count": 17,
   "id": "governing-mustang",
   "metadata": {},
   "outputs": [],
   "source": [
    "# Cost of transporting product m from outsourced facility l to j\n",
    "np.random.seed(0)\n",
    "\n",
    "T_O_DC = np.random.uniform(2, 5, (Products, Outsourced, Distribution))"
   ]
  },
  {
   "cell_type": "code",
   "execution_count": 18,
   "id": "flexible-anthony",
   "metadata": {},
   "outputs": [],
   "source": [
    "# Cost of shipping product m from outsourced facility l to k\n",
    "np.random.seed(0)\n",
    "\n",
    "T_O_MZ = np.random.uniform(5, 7,(Products, Outsourced, Market))"
   ]
  },
  {
   "cell_type": "code",
   "execution_count": 19,
   "id": "olympic-animal",
   "metadata": {},
   "outputs": [],
   "source": [
    "# Product volume \n",
    "np.random.seed(0)\n",
    "\n",
    "volume = np.random.uniform(2,3,(Products))"
   ]
  },
  {
   "cell_type": "code",
   "execution_count": 20,
   "id": "alike-marriage",
   "metadata": {},
   "outputs": [],
   "source": [
    "# unit cost of lost sales \n",
    "np.random.seed(0)\n",
    "\n",
    "lost_sales = np.random.randint(20,30,(Market,Products))"
   ]
  },
  {
   "cell_type": "code",
   "execution_count": 21,
   "id": "aging-national",
   "metadata": {},
   "outputs": [],
   "source": [
    "# Initialize model variables\n",
    "x_i = {} # opening manufacturing plant\n",
    "x_j = {} # opening DC\n",
    "U_km = {} # quantity lost sales\n",
    "V_lm = {} # quantity products purchased from outsourcing\n",
    "Q_im = {} # quantity produced\n",
    "Y_ijm = {} # shipping i -> j\n",
    "Z_jkm = {} # shipping j -> k\n",
    "T_ljm = {} # shipping l -> j\n",
    "T_lkm = {} # shipping l -> k\n",
    "y_lm = {} # indicator variable for step function \n",
    "\n",
    "# Dictionaries for analysis \n",
    "Cost_dict = {}\n",
    "Summary_dict = {} "
   ]
  },
  {
   "cell_type": "code",
   "execution_count": 22,
   "id": "impossible-opera",
   "metadata": {},
   "outputs": [],
   "source": [
    "## Model"
   ]
  },
  {
   "cell_type": "code",
   "execution_count": 23,
   "id": "knowing-dispute",
   "metadata": {},
   "outputs": [
    {
     "name": "stdout",
     "output_type": "stream",
     "text": [
      "Using license file C:\\Users\\Devika Kabe\\gurobi.lic\n",
      "Academic license - for non-commercial use only\n"
     ]
    }
   ],
   "source": [
    "grbModel = Model('synthetic')"
   ]
  },
  {
   "cell_type": "code",
   "execution_count": 24,
   "id": "announced-filling",
   "metadata": {},
   "outputs": [],
   "source": [
    "def SetGurobiModel():\n",
    "    \n",
    "    for i in range(Manufacturing_plants):\n",
    "        x_i[i] = grbModel.addVar(vtype = GRB.BINARY)\n",
    "    \n",
    "    for j in range(Distribution):\n",
    "        x_j[j] = grbModel.addVar(vtype = GRB.BINARY)\n",
    "    \n",
    "    for s in range(num_Scenarios):\n",
    "        for k in range(Market):\n",
    "            for m in range(Products):\n",
    "                U_km[s,k,m] = grbModel.addVar(vtype = GRB.INTEGER)\n",
    "        \n",
    "    for s in range(num_Scenarios):\n",
    "        for m in range(Products):\n",
    "            for l in range(Outsourced):\n",
    "                V_lm[s,m,l] = grbModel.addVar(vtype = GRB.INTEGER)\n",
    "    \n",
    "    for s in range(num_Scenarios):\n",
    "        for m in range(Products):\n",
    "            for i in range(Manufacturing_plants):\n",
    "                Q_im[s,m,i] = grbModel.addVar(vtype = GRB.INTEGER)\n",
    "            \n",
    "    for s in range(num_Scenarios):  \n",
    "        for m in range(Products):\n",
    "            for i in range(Manufacturing_plants):\n",
    "                for j in range(Distribution):\n",
    "                    Y_ijm[s,m,i,j] = grbModel.addVar(vtype = GRB.INTEGER)\n",
    "                \n",
    "    \n",
    "    for s in range(num_Scenarios):\n",
    "        for m in range(Products):\n",
    "            for j in range(Distribution):\n",
    "                for k in range(Market): \n",
    "                    Z_jkm[s,m,j,k] = grbModel.addVar(vtype = GRB.INTEGER)                \n",
    "    \n",
    "    for s in range(num_Scenarios):\n",
    "        for m in range(Products):\n",
    "            for l in range(Outsourced):\n",
    "                for j in range(Distribution):\n",
    "                    T_ljm[s,m,l,j] = grbModel.addVar(vtype = GRB.INTEGER)      \n",
    "    \n",
    "    for s in range(num_Scenarios):\n",
    "        for m in range(Products):\n",
    "            for l in range(Outsourced):\n",
    "                for k in range(Market):\n",
    "                    T_lkm[s,m,l,k] = grbModel.addVar(vtype = GRB.INTEGER)\n",
    "                \n",
    "    \n",
    "    for s in range(num_Scenarios):\n",
    "        for m in range(Products):\n",
    "            for l in range(Outsourced):\n",
    "                y_lm[s,m,l] = grbModel.addVar(vtype = GRB.BINARY)\n",
    "                \n",
    "    SetGrb_Obj()\n",
    "    ModelCons()"
   ]
  },
  {
   "cell_type": "code",
   "execution_count": 25,
   "id": "comprehensive-aggregate",
   "metadata": {},
   "outputs": [],
   "source": [
    "def SolveModel():\n",
    "    \n",
    "    grbModel.params.OutputFlag = 0\n",
    "    grbModel.optimize()\n",
    "    \n",
    "    # get variable values \n",
    "    v_val_x_i = grbModel.getAttr('x', x_i)\n",
    "    v_val_x_j = grbModel.getAttr('x', x_j)\n",
    "    v_val_U_km = grbModel.getAttr('x', U_km)\n",
    "    v_val_V_lm = grbModel.getAttr('x', V_lm)\n",
    "    v_val_Q_im = grbModel.getAttr('x', Q_im)\n",
    "    v_val_Y_ijm = grbModel.getAttr('x', Y_ijm)\n",
    "    v_val_Z_jkm = grbModel.getAttr('x', Z_jkm)\n",
    "    v_val_T_ljm = grbModel.getAttr('x', T_ljm)\n",
    "    v_val_T_lkm = grbModel.getAttr('x', T_lkm)\n",
    "    v_val_y_lm = grbModel.getAttr('x', y_lm)\n",
    "    \n",
    "    obj = grbModel.getObjective()\n",
    "    print(\"obj val: \", obj.getValue())   \n",
    "    \n",
    "    Summary_dict['ObjVal'] = grbModel.objval\n",
    "    Summary_dict[\"OpenMPs\"] = np.sum(v_val_x_i.values())\n",
    "    Summary_dict[\"OpenDCs\"] = np.sum(v_val_x_j.values())\n",
    "    \n",
    "    for s in range(num_Scenarios):        \n",
    "        Summary_dict[\"Purchasing_\" + str(s)] = np.round(sum([v_val_V_lm[(s,m,l)] for m in range(Products) for l in range(Outsourced)]))   \n",
    "        Summary_dict[\"Production_\" + str(s)] = np.round(sum([v_val_Q_im[(s,m,i)] for m in range(Products) for i in range(Manufacturing_plants)]))\n",
    "        Summary_dict[\"LostSales_\" + str(s)] = np.round(sum([v_val_U_km[(s,k,m)] for m in range(Products) for k in range(Market)]))\n",
    "        Summary_dict[\"OutsourceToDC_\" + str(s)] = np.round(sum([v_val_T_ljm[(s,m,l,j)] for m in range(Products) for l in range(Outsourced) for j in range(Distribution)]))\n",
    "        Summary_dict[\"OutsourceToMarket_\" + str(s)] = np.round(sum([v_val_T_lkm[(s,m,l,k)] for m in range(Products) for l in range(Outsourced) for k in range(Market)])) \n",
    "    \n",
    "    Cost_dict[\"Opening\"] =  get_opening_costs(v_val_x_i, v_val_x_j)\n",
    "    \n",
    "    for s in range(num_Scenarios):\n",
    "        Cost_dict[\"InHouseShipping_\" + str(s)] = get_shipping_costs(s,v_val_Y_ijm, v_val_Z_jkm, v_val_T_ljm, v_val_T_lkm)[0]\n",
    "        Cost_dict[\"OutsourceShipping_\" + str(s)] = get_shipping_costs(s,v_val_Y_ijm, v_val_Z_jkm, v_val_T_ljm, v_val_T_lkm)[1]\n",
    "        Cost_dict[\"Production_\" + str(s)] = get_production_cost(s,v_val_Q_im)\n",
    "        Cost_dict[\"Purchasing_\" + str(s)] = get_purchase_costs(s,v_val_V_lm, v_val_y_lm)\n",
    "        Cost_dict[\"LostSales_\" + str(s)] = get_lost_cost(s,v_val_U_km)    \n",
    "    \n",
    "    return"
   ]
  },
  {
   "cell_type": "code",
   "execution_count": 26,
   "id": "original-miniature",
   "metadata": {},
   "outputs": [],
   "source": [
    "# Objective\n",
    "\n",
    "def SetGrb_Obj():\n",
    "\n",
    "    grb_expr = LinExpr()\n",
    "\n",
    "    # Cost of opening\n",
    "    OC_1 = 0\n",
    "    OC_2 = 0\n",
    "    for i in range(Manufacturing_plants):\n",
    "        OC_1 += f_i[i]*x_i[i]\n",
    "    for j in range(Distribution):\n",
    "        OC_2 += f_j[j]*x_j[j]    \n",
    "    \n",
    "    total_shipment = 0    \n",
    "    total_pr_cost = 0\n",
    "    total_b_cost = 0\n",
    "    total_l_cost = 0\n",
    "    \n",
    "    # Shipment \n",
    "        \n",
    "    for s in range(num_Scenarios):\n",
    "        ship_1 = 0\n",
    "        ship_2 = 0\n",
    "        ship_3 = 0\n",
    "        ship_4 = 0\n",
    "        for i in range(Manufacturing_plants):\n",
    "            for j in range(Distribution):\n",
    "                for m in range(Products):\n",
    "                    ship_1 += Transportation_i_j[m][i][j]*Y_ijm[s,m,i,j]\n",
    "\n",
    "        for j in range(Distribution):\n",
    "            for k in range(Market):\n",
    "                for m in range(Products):\n",
    "                    ship_2 += Transportation_j_k[m][j][k]*Z_jkm[s,m,j,k]\n",
    "\n",
    "        for l in range(Outsourced):\n",
    "            for j in range(Distribution):\n",
    "                for m in range(Products):\n",
    "                    ship_3 += T_O_DC[m][l][j]*T_ljm[s,m,l,j]\n",
    "\n",
    "        for l in range(Outsourced):\n",
    "            for k in range(Market):\n",
    "                for m in range(Products):\n",
    "                    ship_4 += T_O_MZ[m][l][k]*T_lkm[s,m,l,k]\n",
    "                    \n",
    "        total_shipment += ship_1 + ship_2 + ship_3 + ship_4\n",
    "\n",
    "        # Production\n",
    "        pr_cost = 0\n",
    "        for i in range(Manufacturing_plants):\n",
    "            for m in range(Products):\n",
    "                pr_cost += Manufacturing_costs[i][m]*Q_im[s,m,i]\n",
    "                \n",
    "        total_pr_cost += pr_cost\n",
    "\n",
    "        # Buying from outsource cost\n",
    "        b_cost = 0\n",
    "        for l in range(Outsourced):\n",
    "            for m in range(Products):\n",
    "                b_cost += Supplier_cost[0][m][l]*V_lm[s,m,l]*(1 - y_lm[s,m,l]) + (Supplier_cost[0][m][l]*epsilon + Supplier_cost[1][m][l]*(V_lm[s,m,l] - epsilon))*y_lm[s,m,l]\n",
    "                \n",
    "        total_b_cost += b_cost\n",
    "\n",
    "        #Lost Sales\n",
    "        l_cost = 0\n",
    "        for k in range(Market):\n",
    "            for m in range(Products):\n",
    "                l_cost += lost_sales[k][m]*U_km[s,k,m]\n",
    "                \n",
    "        total_l_cost += l_cost\n",
    "\n",
    "    grb_expr += OC_1 + OC_2 + p_scen*(total_shipment + total_pr_cost + total_b_cost + total_l_cost)\n",
    "    \n",
    "    grbModel.setObjective(grb_expr, GRB.MINIMIZE)\n",
    "    \n",
    "    return \n"
   ]
  },
  {
   "cell_type": "code",
   "execution_count": 27,
   "id": "flexible-uruguay",
   "metadata": {},
   "outputs": [],
   "source": [
    "# Model Constraints\n",
    "\n",
    "def ModelCons():\n",
    "    \n",
    "    # Network Flow\n",
    "\n",
    "    grbModel.addConstrs(quicksum(Y_ijm[s,m,i,j] for j in range(Distribution)) == Q_im[s,m,i]\n",
    "                        for s in range(num_Scenarios) for i in range(Manufacturing_plants) for m in range(Products))\n",
    "\n",
    "    grbModel.addConstrs(quicksum(Z_jkm[s,m,j,k] for k in range(Market)) ==\n",
    "                        (quicksum(Y_ijm[s,m,i,j] for i in range(Manufacturing_plants)) +\n",
    "                         quicksum(T_ljm[s,m,l,j] for l in range(Outsourced))) for s in range(num_Scenarios)\n",
    "                        for j in range(Distribution) for m in range(Products))\n",
    "\n",
    "    grbModel.addConstrs((quicksum(Z_jkm[s,m,j,k] for j in range(Distribution)) +\n",
    "                         quicksum(T_lkm[s,m,l,k] for l in range(Outsourced))) == (demand[s][m][k] - U_km[s,k,m])\n",
    "                        for s in range(num_Scenarios) for k in range(Market) for m in range(Products))  \n",
    "        \n",
    "                    \n",
    "    # Purchasing Constraints (everything purchased from outsourced facilities must be shipped)\n",
    "    grbModel.addConstrs(V_lm[s,m,l] == quicksum(T_ljm[s,m,l,j] for j in range(Distribution)) + \n",
    "                        quicksum(T_lkm[s,m,l,k] for k in range(Market)) for s in range(num_Scenarios) \n",
    "                        for m in range(Products) for l in range(Outsourced))\n",
    "    \n",
    "    \n",
    "    # Capacity Constraints\n",
    "    grbModel.addConstrs(quicksum(volume[m]*Q_im[s,m,i] for m in range(Products)) <= Scenarios[s][0][i]*Capacities_i[i]*x_i[i] \n",
    "                        for s in range(num_Scenarios) for i in range(Manufacturing_plants))\n",
    "    \n",
    "    grbModel.addConstrs(quicksum(volume[m]*Y_ijm[s,m,i,j] for i in range(Manufacturing_plants) for m in range(Products)) +\n",
    "                        quicksum(volume[m]*T_ljm[s,m,l,j] for l in range(Outsourced) for m in range(Products)) <= \n",
    "                        Scenarios[s][1][j]*Capacities_j[j]*x_j[j] for s in range(num_Scenarios) for s in range(num_Scenarios)\n",
    "                        for j in range(Distribution))\n",
    "    \n",
    "    grbModel.addConstrs((V_lm[s,m,l] <= (Capacities_l[m][l])) for s in range(num_Scenarios)\n",
    "                        for l in range(Outsourced) for m in range(Products))\n",
    "    \n",
    "    \n",
    "    # Indicator variable constraints for step function (25 is arbitrary)\n",
    "    grbModel.addConstrs(V_lm[s,m,l] >= (epsilon + 1)*y_lm[s,m,l] for s in range(num_Scenarios) for m in range(Products) for l in range(Outsourced))\n",
    "    grbModel.addConstrs((V_lm[s,m,l] - (Capacities_l[m][l] - epsilon)*y_lm[s,m,l])\n",
    "                         <= epsilon for s in range(num_Scenarios) for m in range(Products) for l in range(Outsourced))   \n",
    "    \n",
    "    \n",
    "    return   \n"
   ]
  },
  {
   "cell_type": "code",
   "execution_count": 28,
   "id": "continuing-waters",
   "metadata": {},
   "outputs": [],
   "source": [
    "def get_opening_costs(x1, x2):\n",
    "    \n",
    "    # Cost of opening\n",
    "    OC_1 = 0\n",
    "    OC_2 = 0\n",
    "    for i in range(Manufacturing_plants):\n",
    "        OC_1 += f_i[i]*x1[i]\n",
    "    for j in range(Distribution):\n",
    "        OC_2 += f_j[j]*x2[j]\n",
    "\n",
    "    Opening = np.round(OC_1 + OC_2)\n",
    "    \n",
    "    return(Opening)\n",
    "   \n",
    "def get_shipping_costs(scen, Y, Z, T1, T2):\n",
    "    ship_1 = 0\n",
    "    ship_2 = 0\n",
    "    ship_3 = 0\n",
    "    ship_4 = 0\n",
    "\n",
    "    # Shipment\n",
    "    for i in range(Manufacturing_plants):\n",
    "        for j in range(Distribution):\n",
    "            for m in range(Products):\n",
    "                ship_1 += Transportation_i_j[m][i][j]*Y[scen, m,i,j]\n",
    "\n",
    "    for j in range(Distribution):\n",
    "        for k in range(Market):\n",
    "            for m in range(Products):\n",
    "                ship_2 += Transportation_j_k[m][j][k]*Z[scen,m,j,k]\n",
    "\n",
    "    for l in range(Outsourced):\n",
    "        for j in range(Distribution):\n",
    "            for m in range(Products):\n",
    "                ship_3 += T_O_DC[m][l][j]*T1[scen,m,l,j]\n",
    "\n",
    "    for l in range(Outsourced):\n",
    "        for k in range(Market):\n",
    "            for m in range(Products):\n",
    "                ship_4 += T_O_MZ[m][l][k]*T2[scen,m,l,k]\n",
    "    \n",
    "    in_house_shipping = np.round(ship_1 + ship_2)\n",
    "\n",
    "    outsourced_shipping = np.round(ship_3 + ship_4)\n",
    "    \n",
    "    return(in_house_shipping, outsourced_shipping)\n",
    "\n",
    "def get_production_cost(scen, Q):\n",
    "\n",
    "    # Production\n",
    "    pr_cost = 0\n",
    "    for i in range(Manufacturing_plants):\n",
    "        for m in range(Products):\n",
    "            pr_cost += Manufacturing_costs[i][m]*Q[scen,m,i]\n",
    "            \n",
    "    return(np.round(pr_cost))\n",
    "\n",
    "def get_purchase_costs(scen, V, y):    \n",
    "\n",
    "    # Buying from outsource cost\n",
    "    b_cost = 0\n",
    "    for l in range(Outsourced):\n",
    "        for m in range(Products):\n",
    "            b_cost += Supplier_cost[0][m][l]*V[scen,m,l]*(1 - y[scen,m,l]) + (Supplier_cost[0][m][l]*epsilon + Supplier_cost[1][m][l]*(V[scen,m,l] - epsilon))*y[scen,m,l]            \n",
    "    return(np.round(b_cost))\n",
    "\n",
    "def get_lost_cost(scen,U):\n",
    "    \n",
    "    #Lost Sales\n",
    "    l_cost = 0\n",
    "    for k in range(Market):\n",
    "        for m in range(Products):\n",
    "            l_cost += lost_sales[k][m]*U[scen,k,m]\n",
    "            \n",
    "    return(np.round(l_cost))"
   ]
  },
  {
   "cell_type": "code",
   "execution_count": 29,
   "id": "european-supplier",
   "metadata": {},
   "outputs": [],
   "source": [
    "def run_Model():    \n",
    "        \n",
    "    SetGurobiModel()\n",
    "    SolveModel()"
   ]
  },
  {
   "cell_type": "code",
   "execution_count": 30,
   "id": "maritime-filter",
   "metadata": {},
   "outputs": [],
   "source": [
    "def dict_to_dataframe(Dict):\n",
    "    return pd.DataFrame([list(Dict.values())], columns = list(Dict.keys()))"
   ]
  },
  {
   "cell_type": "code",
   "execution_count": 31,
   "id": "seventh-alliance",
   "metadata": {},
   "outputs": [
    {
     "name": "stdout",
     "output_type": "stream",
     "text": [
      "obj val:  1743.152375529909\n"
     ]
    }
   ],
   "source": [
    "run_Model()"
   ]
  },
  {
   "cell_type": "code",
   "execution_count": 32,
   "id": "equivalent-jersey",
   "metadata": {},
   "outputs": [
    {
     "data": {
      "text/plain": [
       "True"
      ]
     },
     "execution_count": 32,
     "metadata": {},
     "output_type": "execute_result"
    }
   ],
   "source": [
    "num_correct = 0\n",
    "for s in range(num_Scenarios):\n",
    "    if (Summary_dict['Purchasing_'+ str(s)] + Summary_dict['Production_' + str(s) ] + Summary_dict['LostSales_' + str(s)] == \n",
    "          np.sum(demand[s])):\n",
    "        num_correct += 1\n",
    "    else:\n",
    "        print(s)\n",
    "num_correct == num_Scenarios"
   ]
  },
  {
   "cell_type": "code",
   "execution_count": 33,
   "id": "structural-crazy",
   "metadata": {},
   "outputs": [],
   "source": [
    "Purchasing = [Summary_dict['Purchasing_' + str(s)] for s in range(num_Scenarios)]\n",
    "Production = [Summary_dict['Production_' + str(s)] for s in range(num_Scenarios)]\n",
    "LostSales = [Summary_dict['LostSales_' + str(s)] for s in range(num_Scenarios)]\n",
    "OutsourceToDC = [Summary_dict['OutsourceToDC_' + str(s)] for s in range(num_Scenarios)]\n",
    "OutsourceToMarket = [Summary_dict['OutsourceToMarket_' + str(s)] for s in range(num_Scenarios)]"
   ]
  },
  {
   "cell_type": "code",
   "execution_count": 34,
   "id": "above-gossip",
   "metadata": {},
   "outputs": [],
   "source": [
    "Unit_df = pd.DataFrame(list(zip(Purchasing, Production, LostSales, OutsourceToDC, OutsourceToMarket)), \n",
    "             columns = [\"Purchasing\", \"Production\", \"LostSales\", \"OutsourceToDC\", \"OutsourceToMarket\"])"
   ]
  },
  {
   "cell_type": "code",
   "execution_count": 35,
   "id": "mysterious-kidney",
   "metadata": {},
   "outputs": [
    {
     "data": {
      "text/html": [
       "<div>\n",
       "<style scoped>\n",
       "    .dataframe tbody tr th:only-of-type {\n",
       "        vertical-align: middle;\n",
       "    }\n",
       "\n",
       "    .dataframe tbody tr th {\n",
       "        vertical-align: top;\n",
       "    }\n",
       "\n",
       "    .dataframe thead th {\n",
       "        text-align: right;\n",
       "    }\n",
       "</style>\n",
       "<table border=\"1\" class=\"dataframe\">\n",
       "  <thead>\n",
       "    <tr style=\"text-align: right;\">\n",
       "      <th></th>\n",
       "      <th>Purchasing</th>\n",
       "      <th>Production</th>\n",
       "      <th>LostSales</th>\n",
       "      <th>OutsourceToDC</th>\n",
       "      <th>OutsourceToMarket</th>\n",
       "    </tr>\n",
       "  </thead>\n",
       "  <tbody>\n",
       "    <tr>\n",
       "      <th>0</th>\n",
       "      <td>0.0</td>\n",
       "      <td>164.0</td>\n",
       "      <td>0.0</td>\n",
       "      <td>0.0</td>\n",
       "      <td>0.0</td>\n",
       "    </tr>\n",
       "    <tr>\n",
       "      <th>1</th>\n",
       "      <td>0.0</td>\n",
       "      <td>147.0</td>\n",
       "      <td>0.0</td>\n",
       "      <td>0.0</td>\n",
       "      <td>0.0</td>\n",
       "    </tr>\n",
       "    <tr>\n",
       "      <th>2</th>\n",
       "      <td>0.0</td>\n",
       "      <td>249.0</td>\n",
       "      <td>0.0</td>\n",
       "      <td>0.0</td>\n",
       "      <td>0.0</td>\n",
       "    </tr>\n",
       "    <tr>\n",
       "      <th>3</th>\n",
       "      <td>0.0</td>\n",
       "      <td>133.0</td>\n",
       "      <td>0.0</td>\n",
       "      <td>0.0</td>\n",
       "      <td>0.0</td>\n",
       "    </tr>\n",
       "    <tr>\n",
       "      <th>4</th>\n",
       "      <td>0.0</td>\n",
       "      <td>193.0</td>\n",
       "      <td>0.0</td>\n",
       "      <td>0.0</td>\n",
       "      <td>0.0</td>\n",
       "    </tr>\n",
       "    <tr>\n",
       "      <th>5</th>\n",
       "      <td>0.0</td>\n",
       "      <td>168.0</td>\n",
       "      <td>0.0</td>\n",
       "      <td>0.0</td>\n",
       "      <td>0.0</td>\n",
       "    </tr>\n",
       "    <tr>\n",
       "      <th>6</th>\n",
       "      <td>64.0</td>\n",
       "      <td>103.0</td>\n",
       "      <td>0.0</td>\n",
       "      <td>0.0</td>\n",
       "      <td>64.0</td>\n",
       "    </tr>\n",
       "    <tr>\n",
       "      <th>7</th>\n",
       "      <td>0.0</td>\n",
       "      <td>202.0</td>\n",
       "      <td>0.0</td>\n",
       "      <td>0.0</td>\n",
       "      <td>0.0</td>\n",
       "    </tr>\n",
       "    <tr>\n",
       "      <th>8</th>\n",
       "      <td>0.0</td>\n",
       "      <td>197.0</td>\n",
       "      <td>0.0</td>\n",
       "      <td>0.0</td>\n",
       "      <td>0.0</td>\n",
       "    </tr>\n",
       "    <tr>\n",
       "      <th>9</th>\n",
       "      <td>0.0</td>\n",
       "      <td>194.0</td>\n",
       "      <td>0.0</td>\n",
       "      <td>0.0</td>\n",
       "      <td>0.0</td>\n",
       "    </tr>\n",
       "    <tr>\n",
       "      <th>10</th>\n",
       "      <td>0.0</td>\n",
       "      <td>107.0</td>\n",
       "      <td>0.0</td>\n",
       "      <td>0.0</td>\n",
       "      <td>0.0</td>\n",
       "    </tr>\n",
       "    <tr>\n",
       "      <th>11</th>\n",
       "      <td>0.0</td>\n",
       "      <td>198.0</td>\n",
       "      <td>0.0</td>\n",
       "      <td>0.0</td>\n",
       "      <td>0.0</td>\n",
       "    </tr>\n",
       "    <tr>\n",
       "      <th>12</th>\n",
       "      <td>0.0</td>\n",
       "      <td>212.0</td>\n",
       "      <td>0.0</td>\n",
       "      <td>0.0</td>\n",
       "      <td>0.0</td>\n",
       "    </tr>\n",
       "    <tr>\n",
       "      <th>13</th>\n",
       "      <td>84.0</td>\n",
       "      <td>100.0</td>\n",
       "      <td>49.0</td>\n",
       "      <td>0.0</td>\n",
       "      <td>84.0</td>\n",
       "    </tr>\n",
       "    <tr>\n",
       "      <th>14</th>\n",
       "      <td>122.0</td>\n",
       "      <td>94.0</td>\n",
       "      <td>13.0</td>\n",
       "      <td>122.0</td>\n",
       "      <td>0.0</td>\n",
       "    </tr>\n",
       "    <tr>\n",
       "      <th>15</th>\n",
       "      <td>62.0</td>\n",
       "      <td>94.0</td>\n",
       "      <td>0.0</td>\n",
       "      <td>62.0</td>\n",
       "      <td>0.0</td>\n",
       "    </tr>\n",
       "    <tr>\n",
       "      <th>16</th>\n",
       "      <td>97.0</td>\n",
       "      <td>94.0</td>\n",
       "      <td>5.0</td>\n",
       "      <td>97.0</td>\n",
       "      <td>0.0</td>\n",
       "    </tr>\n",
       "    <tr>\n",
       "      <th>17</th>\n",
       "      <td>104.0</td>\n",
       "      <td>93.0</td>\n",
       "      <td>10.0</td>\n",
       "      <td>103.0</td>\n",
       "      <td>1.0</td>\n",
       "    </tr>\n",
       "    <tr>\n",
       "      <th>18</th>\n",
       "      <td>71.0</td>\n",
       "      <td>93.0</td>\n",
       "      <td>0.0</td>\n",
       "      <td>34.0</td>\n",
       "      <td>37.0</td>\n",
       "    </tr>\n",
       "    <tr>\n",
       "      <th>19</th>\n",
       "      <td>88.0</td>\n",
       "      <td>96.0</td>\n",
       "      <td>0.0</td>\n",
       "      <td>53.0</td>\n",
       "      <td>35.0</td>\n",
       "    </tr>\n",
       "    <tr>\n",
       "      <th>20</th>\n",
       "      <td>100.0</td>\n",
       "      <td>96.0</td>\n",
       "      <td>40.0</td>\n",
       "      <td>8.0</td>\n",
       "      <td>92.0</td>\n",
       "    </tr>\n",
       "  </tbody>\n",
       "</table>\n",
       "</div>"
      ],
      "text/plain": [
       "    Purchasing  Production  LostSales  OutsourceToDC  OutsourceToMarket\n",
       "0          0.0       164.0        0.0            0.0                0.0\n",
       "1          0.0       147.0        0.0            0.0                0.0\n",
       "2          0.0       249.0        0.0            0.0                0.0\n",
       "3          0.0       133.0        0.0            0.0                0.0\n",
       "4          0.0       193.0        0.0            0.0                0.0\n",
       "5          0.0       168.0        0.0            0.0                0.0\n",
       "6         64.0       103.0        0.0            0.0               64.0\n",
       "7          0.0       202.0        0.0            0.0                0.0\n",
       "8          0.0       197.0        0.0            0.0                0.0\n",
       "9          0.0       194.0        0.0            0.0                0.0\n",
       "10         0.0       107.0        0.0            0.0                0.0\n",
       "11         0.0       198.0        0.0            0.0                0.0\n",
       "12         0.0       212.0        0.0            0.0                0.0\n",
       "13        84.0       100.0       49.0            0.0               84.0\n",
       "14       122.0        94.0       13.0          122.0                0.0\n",
       "15        62.0        94.0        0.0           62.0                0.0\n",
       "16        97.0        94.0        5.0           97.0                0.0\n",
       "17       104.0        93.0       10.0          103.0                1.0\n",
       "18        71.0        93.0        0.0           34.0               37.0\n",
       "19        88.0        96.0        0.0           53.0               35.0\n",
       "20       100.0        96.0       40.0            8.0               92.0"
      ]
     },
     "execution_count": 35,
     "metadata": {},
     "output_type": "execute_result"
    }
   ],
   "source": [
    "Unit_df"
   ]
  },
  {
   "cell_type": "code",
   "execution_count": 36,
   "id": "false-superintendent",
   "metadata": {},
   "outputs": [],
   "source": [
    "Purchasing_cost = [Cost_dict['Purchasing_' + str(s)] for s in range(num_Scenarios)]\n",
    "Production_cost = [Cost_dict['Production_' + str(s)] for s in range(num_Scenarios)]\n",
    "LostSales_cost = [Cost_dict['LostSales_' + str(s)] for s in range(num_Scenarios)]\n",
    "InHouseShipping = [Cost_dict['InHouseShipping_' + str(s)] for s in range(num_Scenarios)]\n",
    "OutsourceShipping = [Cost_dict['OutsourceShipping_' + str(s)] for s in range(num_Scenarios)]"
   ]
  },
  {
   "cell_type": "code",
   "execution_count": 37,
   "id": "distinguished-planet",
   "metadata": {},
   "outputs": [
    {
     "data": {
      "text/plain": [
       "1743.047619047619"
      ]
     },
     "execution_count": 37,
     "metadata": {},
     "output_type": "execute_result"
    }
   ],
   "source": [
    "Cost_dict['Opening'] + p_scen*(sum(Purchasing_cost) + sum(Production_cost) + \n",
    "                               sum(InHouseShipping) + sum(OutsourceShipping) + sum(LostSales_cost))"
   ]
  },
  {
   "cell_type": "code",
   "execution_count": 38,
   "id": "removed-difficulty",
   "metadata": {},
   "outputs": [
    {
     "data": {
      "text/plain": [
       "1743.1523755299102"
      ]
     },
     "execution_count": 38,
     "metadata": {},
     "output_type": "execute_result"
    }
   ],
   "source": [
    "stochastic_sol = grbModel.objVal\n",
    "stochastic_sol"
   ]
  },
  {
   "cell_type": "code",
   "execution_count": 39,
   "id": "empty-holly",
   "metadata": {},
   "outputs": [],
   "source": [
    "Cost_df = pd.DataFrame(list(zip(Purchasing_cost, Production_cost, LostSales_cost, InHouseShipping, OutsourceShipping)), \n",
    "             columns = [\"Purchasing\", \"Production\", \"LostSales\", \"InHouseShipping\", \"OutsourceShipping\"])"
   ]
  },
  {
   "cell_type": "code",
   "execution_count": 40,
   "id": "professional-algebra",
   "metadata": {},
   "outputs": [
    {
     "data": {
      "text/html": [
       "<div>\n",
       "<style scoped>\n",
       "    .dataframe tbody tr th:only-of-type {\n",
       "        vertical-align: middle;\n",
       "    }\n",
       "\n",
       "    .dataframe tbody tr th {\n",
       "        vertical-align: top;\n",
       "    }\n",
       "\n",
       "    .dataframe thead th {\n",
       "        text-align: right;\n",
       "    }\n",
       "</style>\n",
       "<table border=\"1\" class=\"dataframe\">\n",
       "  <thead>\n",
       "    <tr style=\"text-align: right;\">\n",
       "      <th></th>\n",
       "      <th>Purchasing</th>\n",
       "      <th>Production</th>\n",
       "      <th>LostSales</th>\n",
       "      <th>InHouseShipping</th>\n",
       "      <th>OutsourceShipping</th>\n",
       "    </tr>\n",
       "  </thead>\n",
       "  <tbody>\n",
       "    <tr>\n",
       "      <th>0</th>\n",
       "      <td>0.0</td>\n",
       "      <td>182.0</td>\n",
       "      <td>0.0</td>\n",
       "      <td>318.0</td>\n",
       "      <td>0.0</td>\n",
       "    </tr>\n",
       "    <tr>\n",
       "      <th>1</th>\n",
       "      <td>0.0</td>\n",
       "      <td>161.0</td>\n",
       "      <td>0.0</td>\n",
       "      <td>304.0</td>\n",
       "      <td>0.0</td>\n",
       "    </tr>\n",
       "    <tr>\n",
       "      <th>2</th>\n",
       "      <td>0.0</td>\n",
       "      <td>291.0</td>\n",
       "      <td>0.0</td>\n",
       "      <td>462.0</td>\n",
       "      <td>0.0</td>\n",
       "    </tr>\n",
       "    <tr>\n",
       "      <th>3</th>\n",
       "      <td>0.0</td>\n",
       "      <td>145.0</td>\n",
       "      <td>0.0</td>\n",
       "      <td>215.0</td>\n",
       "      <td>0.0</td>\n",
       "    </tr>\n",
       "    <tr>\n",
       "      <th>4</th>\n",
       "      <td>0.0</td>\n",
       "      <td>220.0</td>\n",
       "      <td>0.0</td>\n",
       "      <td>424.0</td>\n",
       "      <td>0.0</td>\n",
       "    </tr>\n",
       "    <tr>\n",
       "      <th>5</th>\n",
       "      <td>0.0</td>\n",
       "      <td>188.0</td>\n",
       "      <td>0.0</td>\n",
       "      <td>456.0</td>\n",
       "      <td>0.0</td>\n",
       "    </tr>\n",
       "    <tr>\n",
       "      <th>6</th>\n",
       "      <td>820.0</td>\n",
       "      <td>113.0</td>\n",
       "      <td>0.0</td>\n",
       "      <td>251.0</td>\n",
       "      <td>373.0</td>\n",
       "    </tr>\n",
       "    <tr>\n",
       "      <th>7</th>\n",
       "      <td>0.0</td>\n",
       "      <td>256.0</td>\n",
       "      <td>0.0</td>\n",
       "      <td>339.0</td>\n",
       "      <td>0.0</td>\n",
       "    </tr>\n",
       "    <tr>\n",
       "      <th>8</th>\n",
       "      <td>0.0</td>\n",
       "      <td>258.0</td>\n",
       "      <td>0.0</td>\n",
       "      <td>386.0</td>\n",
       "      <td>0.0</td>\n",
       "    </tr>\n",
       "    <tr>\n",
       "      <th>9</th>\n",
       "      <td>0.0</td>\n",
       "      <td>247.0</td>\n",
       "      <td>0.0</td>\n",
       "      <td>386.0</td>\n",
       "      <td>0.0</td>\n",
       "    </tr>\n",
       "    <tr>\n",
       "      <th>10</th>\n",
       "      <td>0.0</td>\n",
       "      <td>139.0</td>\n",
       "      <td>0.0</td>\n",
       "      <td>246.0</td>\n",
       "      <td>0.0</td>\n",
       "    </tr>\n",
       "    <tr>\n",
       "      <th>11</th>\n",
       "      <td>0.0</td>\n",
       "      <td>248.0</td>\n",
       "      <td>0.0</td>\n",
       "      <td>502.0</td>\n",
       "      <td>0.0</td>\n",
       "    </tr>\n",
       "    <tr>\n",
       "      <th>12</th>\n",
       "      <td>0.0</td>\n",
       "      <td>260.0</td>\n",
       "      <td>0.0</td>\n",
       "      <td>622.0</td>\n",
       "      <td>0.0</td>\n",
       "    </tr>\n",
       "    <tr>\n",
       "      <th>13</th>\n",
       "      <td>1084.0</td>\n",
       "      <td>132.0</td>\n",
       "      <td>980.0</td>\n",
       "      <td>301.0</td>\n",
       "      <td>479.0</td>\n",
       "    </tr>\n",
       "    <tr>\n",
       "      <th>14</th>\n",
       "      <td>1668.0</td>\n",
       "      <td>108.0</td>\n",
       "      <td>260.0</td>\n",
       "      <td>280.0</td>\n",
       "      <td>410.0</td>\n",
       "    </tr>\n",
       "    <tr>\n",
       "      <th>15</th>\n",
       "      <td>796.0</td>\n",
       "      <td>108.0</td>\n",
       "      <td>0.0</td>\n",
       "      <td>198.0</td>\n",
       "      <td>205.0</td>\n",
       "    </tr>\n",
       "    <tr>\n",
       "      <th>16</th>\n",
       "      <td>1261.0</td>\n",
       "      <td>108.0</td>\n",
       "      <td>100.0</td>\n",
       "      <td>246.0</td>\n",
       "      <td>325.0</td>\n",
       "    </tr>\n",
       "    <tr>\n",
       "      <th>17</th>\n",
       "      <td>1365.0</td>\n",
       "      <td>106.0</td>\n",
       "      <td>200.0</td>\n",
       "      <td>250.0</td>\n",
       "      <td>361.0</td>\n",
       "    </tr>\n",
       "    <tr>\n",
       "      <th>18</th>\n",
       "      <td>911.0</td>\n",
       "      <td>105.0</td>\n",
       "      <td>0.0</td>\n",
       "      <td>246.0</td>\n",
       "      <td>330.0</td>\n",
       "    </tr>\n",
       "    <tr>\n",
       "      <th>19</th>\n",
       "      <td>1147.0</td>\n",
       "      <td>114.0</td>\n",
       "      <td>0.0</td>\n",
       "      <td>244.0</td>\n",
       "      <td>393.0</td>\n",
       "    </tr>\n",
       "    <tr>\n",
       "      <th>20</th>\n",
       "      <td>1301.0</td>\n",
       "      <td>115.0</td>\n",
       "      <td>800.0</td>\n",
       "      <td>221.0</td>\n",
       "      <td>559.0</td>\n",
       "    </tr>\n",
       "  </tbody>\n",
       "</table>\n",
       "</div>"
      ],
      "text/plain": [
       "    Purchasing  Production  LostSales  InHouseShipping  OutsourceShipping\n",
       "0          0.0       182.0        0.0            318.0                0.0\n",
       "1          0.0       161.0        0.0            304.0                0.0\n",
       "2          0.0       291.0        0.0            462.0                0.0\n",
       "3          0.0       145.0        0.0            215.0                0.0\n",
       "4          0.0       220.0        0.0            424.0                0.0\n",
       "5          0.0       188.0        0.0            456.0                0.0\n",
       "6        820.0       113.0        0.0            251.0              373.0\n",
       "7          0.0       256.0        0.0            339.0                0.0\n",
       "8          0.0       258.0        0.0            386.0                0.0\n",
       "9          0.0       247.0        0.0            386.0                0.0\n",
       "10         0.0       139.0        0.0            246.0                0.0\n",
       "11         0.0       248.0        0.0            502.0                0.0\n",
       "12         0.0       260.0        0.0            622.0                0.0\n",
       "13      1084.0       132.0      980.0            301.0              479.0\n",
       "14      1668.0       108.0      260.0            280.0              410.0\n",
       "15       796.0       108.0        0.0            198.0              205.0\n",
       "16      1261.0       108.0      100.0            246.0              325.0\n",
       "17      1365.0       106.0      200.0            250.0              361.0\n",
       "18       911.0       105.0        0.0            246.0              330.0\n",
       "19      1147.0       114.0        0.0            244.0              393.0\n",
       "20      1301.0       115.0      800.0            221.0              559.0"
      ]
     },
     "execution_count": 40,
     "metadata": {},
     "output_type": "execute_result"
    }
   ],
   "source": [
    "Cost_df"
   ]
  },
  {
   "cell_type": "code",
   "execution_count": 41,
   "id": "pointed-output",
   "metadata": {},
   "outputs": [
    {
     "data": {
      "text/plain": [
       "2.0"
      ]
     },
     "execution_count": 41,
     "metadata": {},
     "output_type": "execute_result"
    }
   ],
   "source": [
    "Summary_dict[\"OpenMPs\"]"
   ]
  },
  {
   "cell_type": "code",
   "execution_count": 42,
   "id": "hybrid-chorus",
   "metadata": {},
   "outputs": [
    {
     "data": {
      "text/plain": [
       "3.0"
      ]
     },
     "execution_count": 42,
     "metadata": {},
     "output_type": "execute_result"
    }
   ],
   "source": [
    "Summary_dict[\"OpenDCs\"]"
   ]
  },
  {
   "cell_type": "markdown",
   "id": "intermediate-financing",
   "metadata": {},
   "source": [
    "## VSS based on nominal scenario"
   ]
  },
  {
   "cell_type": "code",
   "execution_count": 52,
   "id": "golden-oxford",
   "metadata": {},
   "outputs": [],
   "source": [
    "# Initialize model variables\n",
    "x_i = {} # opening manufacturing plant\n",
    "x_j = {} # opening DC\n",
    "U_km = {} # quantity lost sales\n",
    "V_lm = {} # quantity products purchased from outsourcing\n",
    "Q_im = {} # quantity produced\n",
    "Y_ijm = {} # shipping i -> j\n",
    "Z_jkm = {} # shipping j -> k\n",
    "T_ljm = {} # shipping l -> j\n",
    "T_lkm = {} # shipping l -> k\n",
    "y_lm = {} # indicator variable for step function "
   ]
  },
  {
   "cell_type": "code",
   "execution_count": 53,
   "id": "boolean-foundation",
   "metadata": {},
   "outputs": [],
   "source": [
    "nominal_vals = {}"
   ]
  },
  {
   "cell_type": "code",
   "execution_count": 54,
   "id": "friendly-greensboro",
   "metadata": {},
   "outputs": [],
   "source": [
    "grbModel_forVSS = Model('VSS')"
   ]
  },
  {
   "cell_type": "code",
   "execution_count": 55,
   "id": "tested-hartford",
   "metadata": {},
   "outputs": [],
   "source": [
    "def SetGurobiModel_forVSS(scen, val):\n",
    "    \n",
    "    for i in range(Manufacturing_plants):\n",
    "        x_i[i] = grbModel_forVSS.addVar(vtype = GRB.BINARY)\n",
    "    \n",
    "    for j in range(Distribution):\n",
    "        x_j[j] = grbModel_forVSS.addVar(vtype = GRB.BINARY)\n",
    "    \n",
    "    for k in range(Market):\n",
    "        for m in range(Products):\n",
    "            U_km[k,m] = grbModel_forVSS.addVar(vtype = GRB.INTEGER)\n",
    "        \n",
    "    for s in range(num_Scenarios):\n",
    "        for m in range(Products):\n",
    "            for l in range(Outsourced):\n",
    "                V_lm[m,l] = grbModel_forVSS.addVar(vtype = GRB.INTEGER)\n",
    "    \n",
    "    for m in range(Products):\n",
    "        for i in range(Manufacturing_plants):\n",
    "            Q_im[m,i] = grbModel_forVSS.addVar(vtype = GRB.INTEGER)\n",
    "            \n",
    "    for m in range(Products):\n",
    "        for i in range(Manufacturing_plants):\n",
    "            for j in range(Distribution):\n",
    "                Y_ijm[m,i,j] = grbModel_forVSS.addVar(vtype = GRB.INTEGER)                \n",
    "    \n",
    "    for m in range(Products):\n",
    "        for j in range(Distribution):\n",
    "            for k in range(Market): \n",
    "                Z_jkm[m,j,k] = grbModel_forVSS.addVar(vtype = GRB.INTEGER)                \n",
    "    \n",
    "    for m in range(Products):\n",
    "        for l in range(Outsourced):\n",
    "            for j in range(Distribution):\n",
    "                T_ljm[m,l,j] = grbModel_forVSS.addVar(vtype = GRB.INTEGER)      \n",
    "    \n",
    "    for m in range(Products):\n",
    "        for l in range(Outsourced):\n",
    "            for k in range(Market):\n",
    "                    T_lkm[m,l,k] = grbModel_forVSS.addVar(vtype = GRB.INTEGER)                \n",
    "    \n",
    "    for m in range(Products):\n",
    "        for l in range(Outsourced):\n",
    "            y_lm[m,l] = grbModel_forVSS.addVar(vtype = GRB.BINARY)\n",
    "                \n",
    "    SetGrb_Obj_forVSS()\n",
    "    ModelCons_forVSS(scen, val)"
   ]
  },
  {
   "cell_type": "code",
   "execution_count": 56,
   "id": "native-reaction",
   "metadata": {},
   "outputs": [],
   "source": [
    "def SolveModel_forVSS(nominal):\n",
    "    \n",
    "    grbModel_forVSS.params.OutputFlag = 0\n",
    "    grbModel_forVSS.optimize()\n",
    "    v_val_x_i = grbModel_forVSS.getAttr('x', x_i)\n",
    "    v_val_x_j = grbModel_forVSS.getAttr('x', x_j)\n",
    "    print(grbModel_forVSS.objVal)\n",
    "    if nominal == True:        \n",
    "        nominal_vals['x_i'] = v_val_x_i\n",
    "        nominal_vals['x_j'] = v_val_x_j    \n",
    "    return"
   ]
  },
  {
   "cell_type": "code",
   "execution_count": 57,
   "id": "indoor-obligation",
   "metadata": {},
   "outputs": [],
   "source": [
    "# Objective\n",
    "\n",
    "def SetGrb_Obj_forVSS():\n",
    "\n",
    "    grb_expr = LinExpr()\n",
    "\n",
    "    # Cost of opening\n",
    "    OC_1 = 0\n",
    "    OC_2 = 0\n",
    "    for i in range(Manufacturing_plants):\n",
    "        OC_1 += f_i[i]*x_i[i]\n",
    "    for j in range(Distribution):\n",
    "        OC_2 += f_j[j]*x_j[j]    \n",
    "    \n",
    "    total_shipment = 0    \n",
    "    total_pr_cost = 0\n",
    "    total_b_cost = 0\n",
    "    total_l_cost = 0\n",
    "    \n",
    "    # Shipment \n",
    "        \n",
    "    ship_1 = 0\n",
    "    ship_2 = 0\n",
    "    ship_3 = 0\n",
    "    ship_4 = 0\n",
    "    for i in range(Manufacturing_plants):\n",
    "        for j in range(Distribution):\n",
    "            for m in range(Products):\n",
    "                ship_1 += Transportation_i_j[m][i][j]*Y_ijm[m,i,j]\n",
    "\n",
    "    for j in range(Distribution):\n",
    "        for k in range(Market):\n",
    "            for m in range(Products):\n",
    "                ship_2 += Transportation_j_k[m][j][k]*Z_jkm[m,j,k]\n",
    "\n",
    "    for l in range(Outsourced):\n",
    "        for j in range(Distribution):\n",
    "            for m in range(Products):\n",
    "                ship_3 += T_O_DC[m][l][j]*T_ljm[m,l,j]\n",
    "\n",
    "    for l in range(Outsourced):\n",
    "        for k in range(Market):\n",
    "            for m in range(Products):\n",
    "                ship_4 += T_O_MZ[m][l][k]*T_lkm[m,l,k]\n",
    "                    \n",
    "    total_shipment += ship_1 + ship_2 + ship_3 + ship_4\n",
    "\n",
    "    # Production\n",
    "    pr_cost = 0\n",
    "    for i in range(Manufacturing_plants):\n",
    "        for m in range(Products):\n",
    "            pr_cost += Manufacturing_costs[i][m]*Q_im[m,i]\n",
    "                \n",
    "    total_pr_cost += pr_cost\n",
    "\n",
    "    # Buying from outsource cost\n",
    "    b_cost = 0\n",
    "    for l in range(Outsourced):\n",
    "        for m in range(Products):\n",
    "            b_cost += Supplier_cost[0][m][l]*V_lm[m,l]*(1 - y_lm[m,l]) + (Supplier_cost[0][m][l]*epsilon + Supplier_cost[1][m][l]*(V_lm[m,l] - epsilon))*y_lm[m,l]\n",
    "                \n",
    "    total_b_cost += b_cost\n",
    "\n",
    "    #Lost Sales\n",
    "    l_cost = 0\n",
    "    for k in range(Market):\n",
    "        for m in range(Products):\n",
    "            l_cost += lost_sales[k][m]*U_km[k,m]\n",
    "                \n",
    "    total_l_cost += l_cost\n",
    "\n",
    "    grb_expr += OC_1 + OC_2 + (total_shipment + total_pr_cost + total_b_cost + total_l_cost)\n",
    "    \n",
    "    grbModel_forVSS.setObjective(grb_expr, GRB.MINIMIZE)\n",
    "    \n",
    "    return "
   ]
  },
  {
   "cell_type": "code",
   "execution_count": 58,
   "id": "practical-angel",
   "metadata": {},
   "outputs": [],
   "source": [
    "def ModelCons_forVSS(scen, val):\n",
    "    \n",
    "    # Network Flow\n",
    "\n",
    "    grbModel_forVSS.addConstrs(quicksum(Y_ijm[m,i,j] for j in range(Distribution)) == Q_im[m,i]\n",
    "                        for i in range(Manufacturing_plants) for m in range(Products))\n",
    "\n",
    "    grbModel_forVSS.addConstrs(quicksum(Z_jkm[m,j,k] for k in range(Market)) ==\n",
    "                        (quicksum(Y_ijm[m,i,j] for i in range(Manufacturing_plants)) +\n",
    "                         quicksum(T_ljm[m,l,j] for l in range(Outsourced)))\n",
    "                        for j in range(Distribution) for m in range(Products))\n",
    "\n",
    "    grbModel_forVSS.addConstrs((quicksum(Z_jkm[m,j,k] for j in range(Distribution)) +\n",
    "                         quicksum(T_lkm[m,l,k] for l in range(Outsourced))) == (demand[scen][m][k] - U_km[k,m])\n",
    "                         for k in range(Market) for m in range(Products))  \n",
    "        \n",
    "                    \n",
    "    # Purchasing Constraints (everything purchased from outsourced facilities must be shipped)\n",
    "    grbModel_forVSS.addConstrs(V_lm[m,l] == quicksum(T_ljm[m,l,j] for j in range(Distribution)) + \n",
    "                        quicksum(T_lkm[m,l,k] for k in range(Market))  \n",
    "                        for m in range(Products) for l in range(Outsourced))    \n",
    "    \n",
    "    # Capacity Constraints\n",
    "    grbModel_forVSS.addConstrs(quicksum(volume[m]*Q_im[m,i] for m in range(Products)) <= Scenarios[scen][0][i]*Capacities_i[i]*x_i[i] \n",
    "                         for i in range(Manufacturing_plants))\n",
    "    \n",
    "    grbModel_forVSS.addConstrs(quicksum(volume[m]*Y_ijm[m,i,j] for i in range(Manufacturing_plants) for m in range(Products)) +\n",
    "                        quicksum(volume[m]*T_ljm[m,l,j] for l in range(Outsourced) for m in range(Products)) <= \n",
    "                        Scenarios[scen][1][j]*Capacities_j[j]*x_j[j]  \n",
    "                        for j in range(Distribution))\n",
    "    \n",
    "    grbModel_forVSS.addConstrs((V_lm[m,l] <= (Capacities_l[m][l])) \n",
    "                        for l in range(Outsourced) for m in range(Products))\n",
    "    \n",
    "    \n",
    "    # Indicator variable constraints for step function (25 is arbitrary)\n",
    "    grbModel_forVSS.addConstrs(V_lm[m,l] >= (epsilon + 1)*y_lm[m,l] for m in range(Products) for l in range(Outsourced))\n",
    "    grbModel_forVSS.addConstrs((V_lm[m,l] - (Capacities_l[m][l] - epsilon)*y_lm[m,l]) <= epsilon \n",
    "                               for m in range(Products) for l in range(Outsourced))  \n",
    "    \n",
    "    \n",
    "    # Fixing x variables\n",
    "    if val:\n",
    "        grbModel_forVSS.addConstrs(x_i[i] == nominal_vals['x_i'][i] for i in range(Manufacturing_plants))\n",
    "        grbModel_forVSS.addConstrs(x_j[j] == nominal_vals['x_j'][j] for j in range(Distribution))\n",
    "    \n",
    "    return   "
   ]
  },
  {
   "cell_type": "code",
   "execution_count": 59,
   "id": "driven-horror",
   "metadata": {},
   "outputs": [],
   "source": [
    "def run_Model_forVSS(nominal,scen,val):    \n",
    "        \n",
    "    SetGurobiModel_forVSS(scen,val)\n",
    "    SolveModel_forVSS(nominal)"
   ]
  },
  {
   "cell_type": "code",
   "execution_count": 60,
   "id": "defensive-flush",
   "metadata": {},
   "outputs": [
    {
     "name": "stdout",
     "output_type": "stream",
     "text": [
      "841.7296538177949\n"
     ]
    }
   ],
   "source": [
    "run_Model_forVSS(1,0,0)"
   ]
  },
  {
   "cell_type": "code",
   "execution_count": 61,
   "id": "automotive-selling",
   "metadata": {},
   "outputs": [],
   "source": [
    "Scenario_obj_vals = []"
   ]
  },
  {
   "cell_type": "code",
   "execution_count": 62,
   "id": "continued-concern",
   "metadata": {},
   "outputs": [
    {
     "name": "stdout",
     "output_type": "stream",
     "text": [
      "841.7296538177949\n",
      "786.8140044282125\n",
      "1838.0009303719276\n",
      "672.2354899819419\n",
      "4123.02781454227\n",
      "3673.7431706570164\n",
      "3629.1983032564094\n",
      "983.2049159500567\n",
      "962.9745287071124\n",
      "910.7477112437641\n",
      "660.2870943440241\n",
      "4319.619470491092\n",
      "4688.686342072732\n",
      "5061.652035869069\n",
      "4798.14851458577\n",
      "3125.811619217513\n",
      "4018.5955932380184\n",
      "4275.1495729054\n",
      "3614.640584116093\n",
      "4048.1604711439318\n",
      "5136.256444963406\n"
     ]
    }
   ],
   "source": [
    "for s in range(num_Scenarios):\n",
    "    run_Model_forVSS(0,s,1)\n",
    "    Scenario_obj_vals += [grbModel_forVSS.objval]"
   ]
  },
  {
   "cell_type": "code",
   "execution_count": 63,
   "id": "mediterranean-genre",
   "metadata": {},
   "outputs": [],
   "source": [
    "average_cost = np.average(Scenario_obj_vals)"
   ]
  },
  {
   "cell_type": "code",
   "execution_count": 64,
   "id": "fourth-racing",
   "metadata": {},
   "outputs": [],
   "source": [
    "VSS = average_cost - stochastic_sol"
   ]
  },
  {
   "cell_type": "code",
   "execution_count": 65,
   "id": "gentle-receptor",
   "metadata": {},
   "outputs": [
    {
     "data": {
      "text/plain": [
       "1217.2611609416874"
      ]
     },
     "execution_count": 65,
     "metadata": {},
     "output_type": "execute_result"
    }
   ],
   "source": [
    "VSS"
   ]
  },
  {
   "cell_type": "code",
   "execution_count": 66,
   "id": "featured-needle",
   "metadata": {},
   "outputs": [
    {
     "data": {
      "text/plain": [
       "{'x_i': {0: 1.0, 1: 0.0}, 'x_j': {0: 1.0, 1: 0.0, 2: 0.0}}"
      ]
     },
     "execution_count": 66,
     "metadata": {},
     "output_type": "execute_result"
    }
   ],
   "source": [
    "nominal_vals"
   ]
  },
  {
   "cell_type": "markdown",
   "id": "private-stranger",
   "metadata": {},
   "source": [
    "## Expected VSS"
   ]
  },
  {
   "cell_type": "code",
   "execution_count": 74,
   "id": "young-finland",
   "metadata": {},
   "outputs": [],
   "source": [
    "# Initialize model variables\n",
    "x_i = {} # opening manufacturing plant\n",
    "x_j = {} # opening DC\n",
    "U_km = {} # quantity lost sales\n",
    "V_lm = {} # quantity products purchased from outsourcing\n",
    "Q_im = {} # quantity produced\n",
    "Y_ijm = {} # shipping i -> j\n",
    "Z_jkm = {} # shipping j -> k\n",
    "T_ljm = {} # shipping l -> j\n",
    "T_lkm = {} # shipping l -> k\n",
    "y_lm = {} # indicator variable for step function"
   ]
  },
  {
   "cell_type": "code",
   "execution_count": 75,
   "id": "adjacent-degree",
   "metadata": {},
   "outputs": [],
   "source": [
    "first_stage_decisions = {}"
   ]
  },
  {
   "cell_type": "code",
   "execution_count": 76,
   "id": "centered-terrorist",
   "metadata": {},
   "outputs": [],
   "source": [
    "grbModel_forEVSS = Model('EVSS')"
   ]
  },
  {
   "cell_type": "code",
   "execution_count": 77,
   "id": "quantitative-forward",
   "metadata": {},
   "outputs": [],
   "source": [
    "def SetGurobiModel_forEVSS(s1, s2, val):\n",
    "    \n",
    "    for i in range(Manufacturing_plants):\n",
    "        x_i[i] = grbModel_forEVSS.addVar(vtype = GRB.BINARY)\n",
    "    \n",
    "    for j in range(Distribution):\n",
    "        x_j[j] = grbModel_forEVSS.addVar(vtype = GRB.BINARY)\n",
    "    \n",
    "    for k in range(Market):\n",
    "        for m in range(Products):\n",
    "            U_km[k,m] = grbModel_forEVSS.addVar(vtype = GRB.INTEGER)\n",
    "        \n",
    "    for s in range(num_Scenarios):\n",
    "        for m in range(Products):\n",
    "            for l in range(Outsourced):\n",
    "                V_lm[m,l] = grbModel_forEVSS.addVar(vtype = GRB.INTEGER)\n",
    "    \n",
    "    for m in range(Products):\n",
    "        for i in range(Manufacturing_plants):\n",
    "            Q_im[m,i] = grbModel_forEVSS.addVar(vtype = GRB.INTEGER)\n",
    "            \n",
    "    for m in range(Products):\n",
    "        for i in range(Manufacturing_plants):\n",
    "            for j in range(Distribution):\n",
    "                Y_ijm[m,i,j] = grbModel_forEVSS.addVar(vtype = GRB.INTEGER)                \n",
    "    \n",
    "    for m in range(Products):\n",
    "        for j in range(Distribution):\n",
    "            for k in range(Market): \n",
    "                Z_jkm[m,j,k] = grbModel_forEVSS.addVar(vtype = GRB.INTEGER)                \n",
    "    \n",
    "    for m in range(Products):\n",
    "        for l in range(Outsourced):\n",
    "            for j in range(Distribution):\n",
    "                T_ljm[m,l,j] = grbModel_forEVSS.addVar(vtype = GRB.INTEGER)      \n",
    "    \n",
    "    for m in range(Products):\n",
    "        for l in range(Outsourced):\n",
    "            for k in range(Market):\n",
    "                    T_lkm[m,l,k] = grbModel_forEVSS.addVar(vtype = GRB.INTEGER)                \n",
    "    \n",
    "    for m in range(Products):\n",
    "        for l in range(Outsourced):\n",
    "            y_lm[m,l] = grbModel_forEVSS.addVar(vtype = GRB.BINARY)\n",
    "                \n",
    "    SetGrb_Obj_forEVSS()\n",
    "    ModelCons_forEVSS(s1, s2, val)\n"
   ]
  },
  {
   "cell_type": "code",
   "execution_count": 78,
   "id": "completed-bobby",
   "metadata": {},
   "outputs": [],
   "source": [
    "def SolveModel_forEVSS(s1, s2, val):\n",
    "    grbModel_forEVSS.params.OutputFlag = 0\n",
    "    grbModel_forEVSS.optimize()\n",
    "    v_val_x_i = grbModel_forEVSS.getAttr('x', x_i)\n",
    "    v_val_x_j = grbModel_forEVSS.getAttr('x', x_j)\n",
    "    if val:\n",
    "        first_stage_decisions[str(s2) + \"_\" + \"x_i\"] = v_val_x_i\n",
    "        first_stage_decisions[str(s2) + \"_\" + \"x_j\"] = v_val_x_j\n",
    "    return\n"
   ]
  },
  {
   "cell_type": "code",
   "execution_count": 79,
   "id": "polyphonic-custody",
   "metadata": {},
   "outputs": [],
   "source": [
    "# Objective\n",
    "\n",
    "def SetGrb_Obj_forEVSS():\n",
    "\n",
    "    grb_expr = LinExpr()\n",
    "\n",
    "    # Cost of opening\n",
    "    OC_1 = 0\n",
    "    OC_2 = 0\n",
    "    for i in range(Manufacturing_plants):\n",
    "        OC_1 += f_i[i]*x_i[i]\n",
    "    for j in range(Distribution):\n",
    "        OC_2 += f_j[j]*x_j[j]    \n",
    "    \n",
    "    total_shipment = 0    \n",
    "    total_pr_cost = 0\n",
    "    total_b_cost = 0\n",
    "    total_l_cost = 0\n",
    "    \n",
    "    # Shipment \n",
    "        \n",
    "    ship_1 = 0\n",
    "    ship_2 = 0\n",
    "    ship_3 = 0\n",
    "    ship_4 = 0\n",
    "    for i in range(Manufacturing_plants):\n",
    "        for j in range(Distribution):\n",
    "            for m in range(Products):\n",
    "                ship_1 += Transportation_i_j[m][i][j]*Y_ijm[m,i,j]\n",
    "\n",
    "    for j in range(Distribution):\n",
    "        for k in range(Market):\n",
    "            for m in range(Products):\n",
    "                ship_2 += Transportation_j_k[m][j][k]*Z_jkm[m,j,k]\n",
    "\n",
    "    for l in range(Outsourced):\n",
    "        for j in range(Distribution):\n",
    "            for m in range(Products):\n",
    "                ship_3 += T_O_DC[m][l][j]*T_ljm[m,l,j]\n",
    "\n",
    "    for l in range(Outsourced):\n",
    "        for k in range(Market):\n",
    "            for m in range(Products):\n",
    "                ship_4 += T_O_MZ[m][l][k]*T_lkm[m,l,k]\n",
    "                    \n",
    "    total_shipment += ship_1 + ship_2 + ship_3 + ship_4\n",
    "\n",
    "    # Production\n",
    "    pr_cost = 0\n",
    "    for i in range(Manufacturing_plants):\n",
    "        for m in range(Products):\n",
    "            pr_cost += Manufacturing_costs[i][m]*Q_im[m,i]\n",
    "                \n",
    "    total_pr_cost += pr_cost\n",
    "\n",
    "    # Buying from outsource cost\n",
    "    b_cost = 0\n",
    "    for l in range(Outsourced):\n",
    "        for m in range(Products):\n",
    "            b_cost += Supplier_cost[0][m][l]*V_lm[m,l]*(1 - y_lm[m,l]) + (Supplier_cost[0][m][l]*epsilon + Supplier_cost[1][m][l]*(V_lm[m,l] - epsilon))*y_lm[m,l]\n",
    "                \n",
    "    total_b_cost += b_cost\n",
    "\n",
    "    #Lost Sales\n",
    "    l_cost = 0\n",
    "    for k in range(Market):\n",
    "        for m in range(Products):\n",
    "            l_cost += lost_sales[k][m]*U_km[k,m]\n",
    "                \n",
    "    total_l_cost += l_cost\n",
    "\n",
    "    grb_expr += OC_1 + OC_2 + (total_shipment + total_pr_cost + total_b_cost + total_l_cost)\n",
    "    \n",
    "    grbModel_forEVSS.setObjective(grb_expr, GRB.MINIMIZE)\n",
    "    \n",
    "    return\n"
   ]
  },
  {
   "cell_type": "code",
   "execution_count": 80,
   "id": "respective-lightning",
   "metadata": {},
   "outputs": [],
   "source": [
    "def ModelCons_forEVSS(s1, s2, val):\n",
    "    \n",
    "    # Network Flow\n",
    "\n",
    "    grbModel_forEVSS.addConstrs(quicksum(Y_ijm[m,i,j] for j in range(Distribution)) == Q_im[m,i]\n",
    "                        for i in range(Manufacturing_plants) for m in range(Products))\n",
    "\n",
    "    grbModel_forEVSS.addConstrs(quicksum(Z_jkm[m,j,k] for k in range(Market)) ==\n",
    "                        (quicksum(Y_ijm[m,i,j] for i in range(Manufacturing_plants)) +\n",
    "                         quicksum(T_ljm[m,l,j] for l in range(Outsourced)))\n",
    "                        for j in range(Distribution) for m in range(Products))\n",
    "\n",
    "    grbModel_forEVSS.addConstrs((quicksum(Z_jkm[m,j,k] for j in range(Distribution)) +\n",
    "                         quicksum(T_lkm[m,l,k] for l in range(Outsourced))) == (demand[s1][m][k] - U_km[k,m])\n",
    "                         for k in range(Market) for m in range(Products))  \n",
    "        \n",
    "                    \n",
    "    # Purchasing Constraints (everything purchased from outsourced facilities must be shipped)\n",
    "    grbModel_forEVSS.addConstrs(V_lm[m,l] == quicksum(T_ljm[m,l,j] for j in range(Distribution)) + \n",
    "                        quicksum(T_lkm[m,l,k] for k in range(Market))  \n",
    "                        for m in range(Products) for l in range(Outsourced))    \n",
    "    \n",
    "    # Capacity Constraints\n",
    "    grbModel_forEVSS.addConstrs(quicksum(volume[m]*Q_im[m,i] for m in range(Products)) <= Scenarios[s1][0][i]*Capacities_i[i]*x_i[i] \n",
    "                         for i in range(Manufacturing_plants))\n",
    "    \n",
    "    grbModel_forEVSS.addConstrs(quicksum(volume[m]*Y_ijm[m,i,j] for i in range(Manufacturing_plants) for m in range(Products)) +\n",
    "                        quicksum(volume[m]*T_ljm[m,l,j] for l in range(Outsourced) for m in range(Products)) <= \n",
    "                        Scenarios[s1][1][j]*Capacities_j[j]*x_j[j]  \n",
    "                        for j in range(Distribution))\n",
    "    \n",
    "    grbModel_forEVSS.addConstrs((V_lm[m,l] <= (Capacities_l[m][l])) \n",
    "                        for l in range(Outsourced) for m in range(Products))\n",
    "    \n",
    "    \n",
    "    # Indicator variable constraints for step function (25 is arbitrary)\n",
    "    grbModel_forEVSS.addConstrs(V_lm[m,l] >= (epsilon + 1)*y_lm[m,l] for m in range(Products) for l in range(Outsourced))\n",
    "    grbModel_forEVSS.addConstrs((V_lm[m,l] - (Capacities_l[m][l] - epsilon)*y_lm[m,l]) <= epsilon \n",
    "                               for m in range(Products) for l in range(Outsourced))\n",
    "    \n",
    "    #Fixing first stage decision variables\n",
    "    if val == 0:            \n",
    "        grbModel_forEVSS.addConstrs(x_i[i] == first_stage_decisions[str(s2) + \"_\" + \"x_i\"][i] for i in range(Manufacturing_plants))\n",
    "        grbModel_forEVSS.addConstrs(x_j[j] == first_stage_decisions[str(s2) + \"_\" + \"x_j\"][j] for j in range(Distribution))\n",
    "    \n",
    "    return   \n"
   ]
  },
  {
   "cell_type": "code",
   "execution_count": 81,
   "id": "driven-regulation",
   "metadata": {},
   "outputs": [],
   "source": [
    "def run_Model_forEVSS(s1, s2, val):    \n",
    "        \n",
    "    SetGurobiModel_forEVSS(s1, s2, val)\n",
    "    SolveModel_forEVSS(s1, s2, val)"
   ]
  },
  {
   "cell_type": "code",
   "execution_count": 82,
   "id": "strange-smith",
   "metadata": {},
   "outputs": [],
   "source": [
    "# Get dictionary of first stage solutions\n",
    "for s in range(num_Scenarios):\n",
    "    run_Model_forEVSS(s,s,1)"
   ]
  },
  {
   "cell_type": "code",
   "execution_count": 83,
   "id": "palestinian-newspaper",
   "metadata": {},
   "outputs": [],
   "source": [
    "v_Det = []"
   ]
  },
  {
   "cell_type": "code",
   "execution_count": 84,
   "id": "assigned-chorus",
   "metadata": {},
   "outputs": [],
   "source": [
    "for s in range(num_Scenarios):\n",
    "    v_det_s = 0\n",
    "    for j in range(num_Scenarios):\n",
    "        run_Model_forEVSS(j,s,0)\n",
    "        v_det_s += grbModel_forEVSS.objval\n",
    "    v_Det += [v_det_s/num_Scenarios]"
   ]
  },
  {
   "cell_type": "code",
   "execution_count": 85,
   "id": "promising-introduction",
   "metadata": {},
   "outputs": [],
   "source": [
    "average_v_det = np.average(v_Det)"
   ]
  },
  {
   "cell_type": "code",
   "execution_count": 86,
   "id": "aggregate-avenue",
   "metadata": {},
   "outputs": [],
   "source": [
    "EVSS = average_v_det - stochastic_sol"
   ]
  },
  {
   "cell_type": "code",
   "execution_count": 87,
   "id": "textile-boutique",
   "metadata": {},
   "outputs": [
    {
     "data": {
      "text/plain": [
       "1227.9730110389917"
      ]
     },
     "execution_count": 87,
     "metadata": {},
     "output_type": "execute_result"
    }
   ],
   "source": [
    "EVSS"
   ]
  },
  {
   "cell_type": "code",
   "execution_count": null,
   "id": "available-invite",
   "metadata": {},
   "outputs": [],
   "source": []
  }
 ],
 "metadata": {
  "kernelspec": {
   "display_name": "Python 3",
   "language": "python",
   "name": "python3"
  },
  "language_info": {
   "codemirror_mode": {
    "name": "ipython",
    "version": 3
   },
   "file_extension": ".py",
   "mimetype": "text/x-python",
   "name": "python",
   "nbconvert_exporter": "python",
   "pygments_lexer": "ipython3",
   "version": "3.7.3"
  }
 },
 "nbformat": 4,
 "nbformat_minor": 5
}
