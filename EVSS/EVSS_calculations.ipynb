{
 "metadata": {
  "language_info": {
   "codemirror_mode": {
    "name": "ipython",
    "version": 3
   },
   "file_extension": ".py",
   "mimetype": "text/x-python",
   "name": "python",
   "nbconvert_exporter": "python",
   "pygments_lexer": "ipython3",
   "version": "3.7.4"
  },
  "orig_nbformat": 4,
  "kernelspec": {
   "name": "python3",
   "display_name": "Python 3.7.4 64-bit ('env_gurobi': virtualenv)"
  },
  "interpreter": {
   "hash": "ab66d84091635e28aaa655d19dc257d938f7e6a1e4d5fb0a631906b26faaf625"
  }
 },
 "nbformat": 4,
 "nbformat_minor": 2,
 "cells": [
  {
   "cell_type": "code",
   "execution_count": 1,
   "metadata": {},
   "outputs": [],
   "source": [
    "import numpy as np\n",
    "import math"
   ]
  },
  {
   "cell_type": "code",
   "execution_count": 2,
   "metadata": {},
   "outputs": [],
   "source": [
    "rl = [0.95]"
   ]
  },
  {
   "cell_type": "code",
   "execution_count": 7,
   "metadata": {},
   "outputs": [],
   "source": []
  },
  {
   "cell_type": "code",
   "execution_count": 18,
   "metadata": {},
   "outputs": [
    {
     "output_type": "stream",
     "name": "stdout",
     "text": [
      "20569045.145016305 \t 3100.501106739044\n"
     ]
    }
   ],
   "source": [
    "for instance in range(4,5):\n",
    "    p_scen = np.loadtxt('/home/dkabe/Model_brainstorming/Input_Data/Instance_' + str(instance + 1) + '/p_scen_' + str(instance + 1) + '.txt')\n",
    "    for r_level in rl:\n",
    "        path = '/home/dkabe/Model_brainstorming/EVSS/V_Det/Instance_' + str(instance + 1) + '/v_det_' + str(r_level) + '.txt'\n",
    "        val = np.loadtxt(path)\n",
    "        v_det_values = val[:,0]\n",
    "        Cpus = val[:,1]\n",
    "        print(np.sum(vals*p_scen), '\\t', np.sum(Cpus))"
   ]
  },
  {
   "cell_type": "code",
   "execution_count": null,
   "metadata": {},
   "outputs": [],
   "source": []
  }
 ]
}