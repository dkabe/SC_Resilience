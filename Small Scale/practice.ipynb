{
 "cells": [
  {
   "cell_type": "code",
   "execution_count": 97,
   "id": "animated-shopper",
   "metadata": {},
   "outputs": [],
   "source": [
    "import numpy as np\n",
    "import math\n",
    "import pandas as pd\n",
    "import urllib\n",
    "import matplotlib.pyplot as plt\n",
    "import random"
   ]
  },
  {
   "cell_type": "code",
   "execution_count": 90,
   "id": "quarterly-walker",
   "metadata": {},
   "outputs": [],
   "source": [
    "Manufacturing_plants = 2\n",
    "Distribution = 3\n",
    "Market = 4\n",
    "Products = 2\n",
    "Outsourced = 2\n",
    "epsilon = 30\n"
   ]
  },
  {
   "cell_type": "code",
   "execution_count": 91,
   "id": "angry-continent",
   "metadata": {},
   "outputs": [],
   "source": [
    "# Scenario parameters\n",
    "a_si = [[1,1], [1,0], [0,1]] # don't include [0,0]\n",
    "b_sj = [[1,1,1], [1,0,1], [1,1,0], [1,0,0], [0,1,1], [0,1,0], [0,0,1]] # don't include [0,0,0]"
   ]
  },
  {
   "cell_type": "code",
   "execution_count": 92,
   "id": "interim-adobe",
   "metadata": {},
   "outputs": [],
   "source": [
    "Scenarios = [[x,y] for x in a_si for y in b_sj]"
   ]
  },
  {
   "cell_type": "code",
   "execution_count": 93,
   "id": "cordless-learning",
   "metadata": {},
   "outputs": [],
   "source": [
    "num_Scenarios = len(Scenarios)\n",
    "p_scen = 1/num_Scenarios"
   ]
  },
  {
   "cell_type": "code",
   "execution_count": 63,
   "id": "periodic-raise",
   "metadata": {},
   "outputs": [],
   "source": [
    "path = \"http://people.brunel.ac.uk/~mastjjb/jeb/orlib/files/cap44.txt\""
   ]
  },
  {
   "cell_type": "code",
   "execution_count": 64,
   "id": "accredited-emission",
   "metadata": {},
   "outputs": [],
   "source": [
    "demands = []\n",
    "warehouse_capacities = []\n",
    "warehouse_costs = []\n",
    "demand_costs = []\n",
    "data_file = urllib.request.urlopen(path)\n",
    "for number, line in enumerate(data_file):\n",
    "    decoded_line = line.decode(\"utf-8\")\n",
    "    num_data = len(decoded_line.split())\n",
    "    if number == 0:\n",
    "        num_facilities = int(decoded_line.split()[0]) \n",
    "    elif number in range(1, num_facilities + 1):\n",
    "        warehouse_capacities.append(int(decoded_line.split()[0]))\n",
    "        warehouse_costs.append(int(decoded_line.split()[1][:-1]))       \n",
    "    elif num_data == 1:\n",
    "        demands.append(int(decoded_line))\n",
    "    else:\n",
    "        demand_costs.append((decoded_line.split()))"
   ]
  },
  {
   "cell_type": "code",
   "execution_count": 65,
   "id": "reflected-explorer",
   "metadata": {},
   "outputs": [],
   "source": [
    "num_Cust = len(demands)"
   ]
  },
  {
   "cell_type": "code",
   "execution_count": 66,
   "id": "severe-accountability",
   "metadata": {},
   "outputs": [],
   "source": [
    "demand_costs = list(map(lambda x: np.array(list(map(float, x))), demand_costs))"
   ]
  },
  {
   "cell_type": "code",
   "execution_count": 67,
   "id": "combined-unemployment",
   "metadata": {},
   "outputs": [],
   "source": [
    "flattened_demand_costs = flat_list = [item for sublist in demand_costs for item in sublist]"
   ]
  },
  {
   "cell_type": "code",
   "execution_count": 68,
   "id": "broad-average",
   "metadata": {},
   "outputs": [],
   "source": [
    "dc = np.array(flattened_demand_costs).reshape((50,16))"
   ]
  },
  {
   "cell_type": "code",
   "execution_count": 70,
   "id": "substantial-property",
   "metadata": {},
   "outputs": [
    {
     "data": {
      "text/plain": [
       "50"
      ]
     },
     "execution_count": 70,
     "metadata": {},
     "output_type": "execute_result"
    }
   ],
   "source": [
    "len(demands)"
   ]
  },
  {
   "cell_type": "code",
   "execution_count": 77,
   "id": "ordered-casino",
   "metadata": {},
   "outputs": [
    {
     "data": {
      "text/plain": [
       "(array([3, 1, 4, 2, 2, 2, 0, 0, 0, 2], dtype=int64),\n",
       " array([ 3847.1  ,  4497.895,  5148.69 ,  5799.485,  6450.28 ,  7101.075,\n",
       "         7751.87 ,  8402.665,  9053.46 ,  9704.255, 10355.05 ]))"
      ]
     },
     "execution_count": 77,
     "metadata": {},
     "output_type": "execute_result"
    }
   ],
   "source": [
    "np.histogram(dc[0])"
   ]
  },
  {
   "cell_type": "code",
   "execution_count": 94,
   "id": "binding-rebecca",
   "metadata": {},
   "outputs": [],
   "source": [
    "demand = np.zeros((num_Scenarios, Products,Market))"
   ]
  },
  {
   "cell_type": "code",
   "execution_count": 103,
   "id": "favorite-penguin",
   "metadata": {},
   "outputs": [],
   "source": [
    "for s in range(num_Scenarios):\n",
    "    for k in range(Market):\n",
    "        for m in range(Products):\n",
    "            demand[s][m][k] = random.choice(demands)"
   ]
  },
  {
   "cell_type": "code",
   "execution_count": 105,
   "id": "abstract-watershed",
   "metadata": {},
   "outputs": [],
   "source": [
    "# Cost of opening\n",
    "f_i = [2500, 750]\n",
    "f_j = [1250, 1750, 750]"
   ]
  },
  {
   "cell_type": "code",
   "execution_count": 107,
   "id": "congressional-glucose",
   "metadata": {},
   "outputs": [],
   "source": [
    "# Plant Capacities: Bigger capacities for the more expensive ones\n",
    "Capacities_i = np.zeros(Manufacturing_plants) # in volume (metres cubed)\n",
    "Capacities_i[0] = 15000\n",
    "Capacities_i[1] = 5000\n",
    "Capacities_j = np.zeros(Distribution) # in volume (metres cubed)\n",
    "Capacities_j[0] = 7500\n",
    "Capacities_j[1] = 10000\n",
    "Capacities_j[2] = 5000"
   ]
  },
  {
   "cell_type": "code",
   "execution_count": null,
   "id": "enormous-rebound",
   "metadata": {},
   "outputs": [],
   "source": []
  }
 ],
 "metadata": {
  "kernelspec": {
   "display_name": "Python 3",
   "language": "python",
   "name": "python3"
  },
  "language_info": {
   "codemirror_mode": {
    "name": "ipython",
    "version": 3
   },
   "file_extension": ".py",
   "mimetype": "text/x-python",
   "name": "python",
   "nbconvert_exporter": "python",
   "pygments_lexer": "ipython3",
   "version": "3.7.3"
  }
 },
 "nbformat": 4,
 "nbformat_minor": 5
}
