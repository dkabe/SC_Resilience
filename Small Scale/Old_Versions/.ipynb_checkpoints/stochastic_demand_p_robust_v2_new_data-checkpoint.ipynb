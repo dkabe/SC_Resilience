{
 "cells": [
  {
   "cell_type": "code",
   "execution_count": 4,
   "id": "promotional-copper",
   "metadata": {},
   "outputs": [],
   "source": [
    "import numpy as np\n",
    "import random\n",
    "from random import randint\n",
    "from gurobipy import *\n",
    "import pandas as pd\n",
    "from random import seed\n",
    "from two_weights import *\n",
    "import matplotlib.pyplot as plt\n",
    "import seaborn as sns\n",
    "import networkx as nx\n",
    "import matplotlib.patches as mpatches\n",
    "import urllib"
   ]
  },
  {
   "cell_type": "code",
   "execution_count": 5,
   "id": "paperback-atmosphere",
   "metadata": {},
   "outputs": [],
   "source": [
    "Manufacturing_plants = 2\n",
    "Distribution = 3\n",
    "Market = 4\n",
    "Products = 2\n",
    "Outsourced = 2\n",
    "epsilon = 30"
   ]
  },
  {
   "cell_type": "code",
   "execution_count": 6,
   "id": "swiss-backup",
   "metadata": {},
   "outputs": [],
   "source": [
    "path = \"http://people.brunel.ac.uk/~mastjjb/jeb/orlib/files/cap44.txt\""
   ]
  },
  {
   "cell_type": "code",
   "execution_count": 7,
   "id": "express-melbourne",
   "metadata": {},
   "outputs": [],
   "source": [
    "demands = []\n",
    "warehouse_capacities = []\n",
    "warehouse_costs = []\n",
    "demand_costs = []\n",
    "data_file = urllib.request.urlopen(path)\n",
    "for number, line in enumerate(data_file):\n",
    "    decoded_line = line.decode(\"utf-8\")\n",
    "    num_data = len(decoded_line.split())\n",
    "    if number == 0:\n",
    "        num_facilities = int(decoded_line.split()[0]) \n",
    "    elif number in range(1, num_facilities + 1):\n",
    "        warehouse_capacities.append(int(decoded_line.split()[0]))\n",
    "        warehouse_costs.append(int(decoded_line.split()[1][:-1]))       \n",
    "    elif num_data == 1:\n",
    "        demands.append(int(decoded_line))\n",
    "    else:\n",
    "        demand_costs.append((decoded_line.split()))"
   ]
  },
  {
   "cell_type": "code",
   "execution_count": 8,
   "id": "irish-vampire",
   "metadata": {},
   "outputs": [],
   "source": [
    "demand_costs = list(map(lambda x: np.array(list(map(float, x))), demand_costs))\n",
    "flattened_demand_costs = flat_list = [item for sublist in demand_costs for item in sublist]\n",
    "dc = np.array(flattened_demand_costs).reshape((50,16))"
   ]
  },
  {
   "cell_type": "code",
   "execution_count": 9,
   "id": "random-blame",
   "metadata": {},
   "outputs": [
    {
     "data": {
      "text/plain": [
       "51.5"
      ]
     },
     "execution_count": 9,
     "metadata": {},
     "output_type": "execute_result"
    }
   ],
   "source": [
    "np.mean(np.random.randint(1,100,50))"
   ]
  },
  {
   "cell_type": "code",
   "execution_count": 10,
   "id": "prescription-graduation",
   "metadata": {},
   "outputs": [
    {
     "data": {
      "text/plain": [
       "46.48"
      ]
     },
     "execution_count": 10,
     "metadata": {},
     "output_type": "execute_result"
    }
   ],
   "source": [
    "np.mean(np.random.randint(1,100,50))"
   ]
  },
  {
   "cell_type": "code",
   "execution_count": 11,
   "id": "comfortable-ocean",
   "metadata": {},
   "outputs": [
    {
     "data": {
      "text/plain": [
       "97.11333333333333"
      ]
     },
     "execution_count": 11,
     "metadata": {},
     "output_type": "execute_result"
    }
   ],
   "source": [
    "np.mean(demands)/12"
   ]
  },
  {
   "cell_type": "code",
   "execution_count": 23,
   "id": "affected-employer",
   "metadata": {},
   "outputs": [],
   "source": [
    "# Scenario parameters\n",
    "a_si = [[1,1], [1,0], [0,1]] # don't include [0,0]\n",
    "b_sj = [[1,1,1], [1,0,1], [1,1,0], [1,0,0], [0,1,1], [0,1,0], [0,0,1]] # don't include [0,0,0]"
   ]
  },
  {
   "cell_type": "code",
   "execution_count": 24,
   "id": "disciplinary-component",
   "metadata": {},
   "outputs": [],
   "source": [
    "Scenarios = [[x,y] for x in a_si for y in b_sj]"
   ]
  },
  {
   "cell_type": "code",
   "execution_count": 25,
   "id": "pending-writer",
   "metadata": {},
   "outputs": [
    {
     "data": {
      "text/plain": [
       "[[[1, 1], [1, 1, 1]],\n",
       " [[1, 1], [1, 0, 1]],\n",
       " [[1, 1], [1, 1, 0]],\n",
       " [[1, 1], [1, 0, 0]],\n",
       " [[1, 1], [0, 1, 1]],\n",
       " [[1, 1], [0, 1, 0]],\n",
       " [[1, 1], [0, 0, 1]],\n",
       " [[1, 0], [1, 1, 1]],\n",
       " [[1, 0], [1, 0, 1]],\n",
       " [[1, 0], [1, 1, 0]],\n",
       " [[1, 0], [1, 0, 0]],\n",
       " [[1, 0], [0, 1, 1]],\n",
       " [[1, 0], [0, 1, 0]],\n",
       " [[1, 0], [0, 0, 1]],\n",
       " [[0, 1], [1, 1, 1]],\n",
       " [[0, 1], [1, 0, 1]],\n",
       " [[0, 1], [1, 1, 0]],\n",
       " [[0, 1], [1, 0, 0]],\n",
       " [[0, 1], [0, 1, 1]],\n",
       " [[0, 1], [0, 1, 0]],\n",
       " [[0, 1], [0, 0, 1]]]"
      ]
     },
     "execution_count": 25,
     "metadata": {},
     "output_type": "execute_result"
    }
   ],
   "source": [
    "Scenarios"
   ]
  },
  {
   "cell_type": "code",
   "execution_count": 26,
   "id": "sufficient-dylan",
   "metadata": {},
   "outputs": [],
   "source": [
    "num_Scenarios = len(Scenarios)\n",
    "p_scen = 1/num_Scenarios"
   ]
  },
  {
   "cell_type": "code",
   "execution_count": 27,
   "id": "beginning-editor",
   "metadata": {},
   "outputs": [],
   "source": [
    "demand = np.zeros((num_Scenarios, Products,Market))\n",
    "for s in range(num_Scenarios):\n",
    "    for k in range(Market):\n",
    "        for m in range(Products):\n",
    "            demand[s][m][k] = random.choice(demands)"
   ]
  },
  {
   "cell_type": "code",
   "execution_count": 28,
   "id": "wireless-surname",
   "metadata": {},
   "outputs": [],
   "source": [
    "total_demand = np.sum(demand)"
   ]
  },
  {
   "cell_type": "code",
   "execution_count": 29,
   "id": "stretch-verification",
   "metadata": {},
   "outputs": [],
   "source": [
    "s_Demand = sum(demand)"
   ]
  },
  {
   "cell_type": "code",
   "execution_count": 30,
   "id": "olympic-waterproof",
   "metadata": {},
   "outputs": [],
   "source": [
    "# Cost of opening\n",
    "f_i = [2500, 750]\n",
    "f_j = [1250, 1750, 750]"
   ]
  },
  {
   "cell_type": "code",
   "execution_count": 31,
   "id": "intermediate-official",
   "metadata": {},
   "outputs": [],
   "source": [
    "# Unit cost of manufacturing product\n",
    "np.random.seed(0)\n",
    "Manufacturing_costs = np.random.uniform(0,2, (Manufacturing_plants,Products))"
   ]
  },
  {
   "cell_type": "code",
   "execution_count": 32,
   "id": "composed-newfoundland",
   "metadata": {},
   "outputs": [],
   "source": [
    "# Unit cost of transporting m from plant to DC\n",
    "np.random.seed(0)\n",
    "Transportation_i_j = np.random.uniform(0,2, (Products, Manufacturing_plants, Distribution))"
   ]
  },
  {
   "cell_type": "code",
   "execution_count": 33,
   "id": "mathematical-block",
   "metadata": {},
   "outputs": [],
   "source": [
    "# Unit cost of transporting m from DC to Market Zone\n",
    "np.random.seed(0)\n",
    "Transportation_j_k = np.random.uniform(0,2, (Products, Distribution, Market))"
   ]
  },
  {
   "cell_type": "code",
   "execution_count": 34,
   "id": "treated-payroll",
   "metadata": {},
   "outputs": [
    {
     "data": {
      "text/plain": [
       "array([[[1.09762701, 1.43037873, 1.20552675, 1.08976637],\n",
       "        [0.8473096 , 1.29178823, 0.87517442, 1.783546  ],\n",
       "        [1.92732552, 0.76688304, 1.58345008, 1.05778984]],\n",
       "\n",
       "       [[1.13608912, 1.85119328, 0.14207212, 0.1742586 ],\n",
       "        [0.04043679, 1.66523969, 1.5563135 , 1.7400243 ],\n",
       "        [1.95723668, 1.59831713, 0.92295872, 1.56105835]]])"
      ]
     },
     "execution_count": 34,
     "metadata": {},
     "output_type": "execute_result"
    }
   ],
   "source": [
    "Transportation_j_k"
   ]
  },
  {
   "cell_type": "code",
   "execution_count": 35,
   "id": "separate-sullivan",
   "metadata": {},
   "outputs": [],
   "source": [
    "# Plant Capacities: Bigger capacities for the more expensive ones\n",
    "np.random.seed(0)\n",
    "Capacities_i = np.zeros(Manufacturing_plants) # in volume (metres cubed)\n",
    "Capacities_i[0] = 15000\n",
    "Capacities_i[1] = 5000\n",
    "Capacities_j = np.zeros(Distribution) # in volume (metres cubed)\n",
    "Capacities_j[0] = 7500\n",
    "Capacities_j[1] = 10000\n",
    "Capacities_j[2] = 5000\n",
    "Capacities_l = np.random.randint(5000,10000, (Products,Outsourced)) # in terms of products "
   ]
  },
  {
   "cell_type": "code",
   "execution_count": 36,
   "id": "informed-minister",
   "metadata": {},
   "outputs": [],
   "source": [
    "# Cost of purchasing product m from supplier l \n",
    "np.random.seed(0)\n",
    "levels = 2\n",
    "Supplier_cost = np.zeros((levels, Products, Outsourced))\n",
    "Supplier_cost[0] = np.random.uniform(15, 20, (Products, Outsourced))\n",
    "Supplier_cost[1] = np.random.randint(20, 25, (Products, Outsourced))"
   ]
  },
  {
   "cell_type": "code",
   "execution_count": 37,
   "id": "united-administration",
   "metadata": {},
   "outputs": [
    {
     "data": {
      "text/plain": [
       "array([[[17.74406752, 18.57594683],\n",
       "        [18.01381688, 17.72441591]],\n",
       "\n",
       "       [[21.        , 23.        ],\n",
       "        [22.        , 24.        ]]])"
      ]
     },
     "execution_count": 37,
     "metadata": {},
     "output_type": "execute_result"
    }
   ],
   "source": [
    "Supplier_cost"
   ]
  },
  {
   "cell_type": "code",
   "execution_count": 38,
   "id": "governing-mustang",
   "metadata": {},
   "outputs": [],
   "source": [
    "# Cost of transporting product m from outsourced facility l to j\n",
    "np.random.seed(0)\n",
    "T_O_DC = np.random.uniform(2, 5, (Products, Outsourced, Distribution))"
   ]
  },
  {
   "cell_type": "code",
   "execution_count": 39,
   "id": "flexible-anthony",
   "metadata": {},
   "outputs": [],
   "source": [
    "# Cost of shipping product m from outsourced facility l to k\n",
    "np.random.seed(0)\n",
    "T_O_MZ = np.random.uniform(5, 7,(Products, Outsourced, Market))"
   ]
  },
  {
   "cell_type": "code",
   "execution_count": 40,
   "id": "olympic-animal",
   "metadata": {},
   "outputs": [],
   "source": [
    "# Product volume \n",
    "np.random.seed(0)\n",
    "volume = np.random.uniform(2,3,(Products))"
   ]
  },
  {
   "cell_type": "code",
   "execution_count": 41,
   "id": "alike-marriage",
   "metadata": {},
   "outputs": [],
   "source": [
    "# unit cost of lost sales \n",
    "np.random.seed(40)\n",
    "lost_sales = np.random.randint(18, 25,(Market,Products))"
   ]
  },
  {
   "cell_type": "code",
   "execution_count": 42,
   "id": "coordinate-speech",
   "metadata": {},
   "outputs": [
    {
     "data": {
      "text/plain": [
       "array([[24, 21],\n",
       "       [23, 18],\n",
       "       [18, 20],\n",
       "       [19, 22]])"
      ]
     },
     "execution_count": 42,
     "metadata": {},
     "output_type": "execute_result"
    }
   ],
   "source": [
    "lost_sales"
   ]
  },
  {
   "cell_type": "code",
   "execution_count": 109,
   "id": "silver-cambridge",
   "metadata": {},
   "outputs": [
    {
     "data": {
      "text/plain": [
       "6130.0"
      ]
     },
     "execution_count": 109,
     "metadata": {},
     "output_type": "execute_result"
    }
   ],
   "source": [
    "np.sum(demand[0])"
   ]
  },
  {
   "cell_type": "code",
   "execution_count": 110,
   "id": "varied-pencil",
   "metadata": {},
   "outputs": [
    {
     "data": {
      "text/plain": [
       "array([2.5488135 , 2.71518937])"
      ]
     },
     "execution_count": 110,
     "metadata": {},
     "output_type": "execute_result"
    }
   ],
   "source": [
    "volume"
   ]
  },
  {
   "cell_type": "code",
   "execution_count": 43,
   "id": "aging-national",
   "metadata": {},
   "outputs": [],
   "source": [
    "# Initialize model variables\n",
    "x_i = {} # opening manufacturing plant\n",
    "x_j = {} # opening DC\n",
    "U_km = {} # quantity lost sales\n",
    "V1_lm = {} # quantity products purchased from outsourcing before epsilon\n",
    "V2_lm = {} # quantity of products purchased from outsourcing after epsilon\n",
    "Q_im = {} # quantity produced\n",
    "Y_ijm = {} # shipping i -> j\n",
    "Z_jkm = {} # shipping j -> k\n",
    "T_ljm = {} # shipping l -> j\n",
    "T_lkm = {} # shipping l -> k\n",
    "\n",
    "# Dictionaries for analysis \n",
    "Cost_dict = {}\n",
    "Summary_dict = {}\n",
    "#recovered_demand = np.zeros((num_Scenarios, Products,Market))"
   ]
  },
  {
   "cell_type": "markdown",
   "id": "sustained-jackson",
   "metadata": {},
   "source": [
    "## Deterministic Model"
   ]
  },
  {
   "cell_type": "code",
   "execution_count": 44,
   "id": "characteristic-priority",
   "metadata": {},
   "outputs": [
    {
     "name": "stdout",
     "output_type": "stream",
     "text": [
      "Using license file C:\\Users\\Devika Kabe\\gurobi.lic\n",
      "Academic license - for non-commercial use only\n"
     ]
    }
   ],
   "source": [
    "grbModel_det = Model('deterministic') # to obtain obj val of each scenario"
   ]
  },
  {
   "cell_type": "code",
   "execution_count": 45,
   "id": "built-conversion",
   "metadata": {},
   "outputs": [],
   "source": [
    "def SetGurobiModel(scen):\n",
    "    \n",
    "    for i in range(Manufacturing_plants):\n",
    "        x_i[i] = grbModel_det.addVar(vtype = GRB.BINARY)\n",
    "    \n",
    "    for j in range(Distribution):\n",
    "        x_j[j] = grbModel_det.addVar(vtype = GRB.BINARY)\n",
    "    \n",
    "    for k in range(Market):\n",
    "        for m in range(Products):\n",
    "            U_km[k,m] = grbModel_det.addVar(vtype = GRB.CONTINUOUS)\n",
    "        \n",
    "    for m in range(Products):\n",
    "        for l in range(Outsourced):\n",
    "            V1_lm[m,l] = grbModel_det.addVar(vtype = GRB.CONTINUOUS)\n",
    "            \n",
    "    for m in range(Products):\n",
    "        for l in range(Outsourced):\n",
    "            V2_lm[m,l] = grbModel_det.addVar(vtype = GRB.CONTINUOUS)    \n",
    "    \n",
    "    for m in range(Products):\n",
    "        for i in range(Manufacturing_plants):\n",
    "            Q_im[m,i] = grbModel_det.addVar(vtype = GRB.CONTINUOUS)\n",
    "            \n",
    "    for m in range(Products):\n",
    "        for i in range(Manufacturing_plants):\n",
    "            for j in range(Distribution):\n",
    "                Y_ijm[m,i,j] = grbModel_det.addVar(vtype = GRB.CONTINUOUS)                \n",
    "    \n",
    "    for m in range(Products):\n",
    "        for j in range(Distribution):\n",
    "            for k in range(Market): \n",
    "                Z_jkm[m,j,k] = grbModel_det.addVar(vtype = GRB.CONTINUOUS)                \n",
    "    \n",
    "    for m in range(Products):\n",
    "        for l in range(Outsourced):\n",
    "            for j in range(Distribution):\n",
    "                T_ljm[m,l,j] = grbModel_det.addVar(vtype = GRB.CONTINUOUS)      \n",
    "    \n",
    "    for m in range(Products):\n",
    "        for l in range(Outsourced):\n",
    "            for k in range(Market):\n",
    "                T_lkm[m,l,k] = grbModel_det.addVar(vtype = GRB.CONTINUOUS)             \n",
    "                 \n",
    "    SetGrb_Obj()\n",
    "    ModelCons(scen)\n"
   ]
  },
  {
   "cell_type": "code",
   "execution_count": 46,
   "id": "australian-mongolia",
   "metadata": {},
   "outputs": [],
   "source": [
    "def SolveModel(scen):\n",
    "    \n",
    "    grbModel_det.params.OutputFlag = 0\n",
    "    grbModel_det.optimize()\n",
    "    \n",
    "    # get variable values \n",
    "    v_val_x_i = grbModel_det.getAttr('x', x_i)\n",
    "    v_val_x_j = grbModel_det.getAttr('x', x_j)\n",
    "    v_val_U_km = grbModel_det.getAttr('x', U_km)\n",
    "    v_val_V1_lm = grbModel_det.getAttr('x', V1_lm)\n",
    "    v_val_V2_lm = grbModel_det.getAttr('x', V2_lm)\n",
    "    v_val_Q_im = grbModel_det.getAttr('x', Q_im)\n",
    "    v_val_Y_ijm = grbModel_det.getAttr('x', Y_ijm)\n",
    "    v_val_Z_jkm = grbModel_det.getAttr('x', Z_jkm)\n",
    "    v_val_T_ljm = grbModel_det.getAttr('x', T_ljm)\n",
    "    v_val_T_lkm = grbModel_det.getAttr('x', T_lkm)\n",
    "    \n",
    "    obj = grbModel_det.getObjective()\n",
    "        \n",
    "    return\n"
   ]
  },
  {
   "cell_type": "code",
   "execution_count": 47,
   "id": "reported-warning",
   "metadata": {},
   "outputs": [],
   "source": [
    "# Objective\n",
    "\n",
    "def SetGrb_Obj():\n",
    "\n",
    "    grb_expr = LinExpr()\n",
    "\n",
    "    # Cost of opening\n",
    "    OC_1 = 0\n",
    "    OC_2 = 0\n",
    "    for i in range(Manufacturing_plants):\n",
    "        OC_1 += f_i[i]*x_i[i]\n",
    "    for j in range(Distribution):\n",
    "        OC_2 += f_j[j]*x_j[j]    \n",
    "        \n",
    "    # Shipment \n",
    "    ship_1 = 0\n",
    "    ship_2 = 0\n",
    "    ship_3 = 0\n",
    "    ship_4 = 0\n",
    "    \n",
    "    for i in range(Manufacturing_plants):\n",
    "        for j in range(Distribution):\n",
    "            for m in range(Products):\n",
    "                ship_1 += Transportation_i_j[m][i][j]*Y_ijm[m,i,j]\n",
    "\n",
    "    for j in range(Distribution):\n",
    "        for k in range(Market):\n",
    "            for m in range(Products):\n",
    "                ship_2 += Transportation_j_k[m][j][k]*Z_jkm[m,j,k]\n",
    "\n",
    "    for l in range(Outsourced):\n",
    "        for j in range(Distribution):\n",
    "            for m in range(Products):\n",
    "                ship_3 += T_O_DC[m][l][j]*T_ljm[m,l,j]\n",
    "\n",
    "    for l in range(Outsourced):\n",
    "        for k in range(Market):\n",
    "            for m in range(Products):\n",
    "                ship_4 += T_O_MZ[m][l][k]*T_lkm[m,l,k]\n",
    "                    \n",
    "    total_shipment = ship_1 + ship_2 + ship_3 + ship_4\n",
    "\n",
    "    # Production\n",
    "    pr_cost = 0\n",
    "    for i in range(Manufacturing_plants):\n",
    "        for m in range(Products):\n",
    "            pr_cost += Manufacturing_costs[i][m]*Q_im[m,i]                \n",
    "\n",
    "    # Buying from outsource cost\n",
    "    b_cost = 0\n",
    "    for l in range(Outsourced):\n",
    "        for m in range(Products):\n",
    "            b_cost += Supplier_cost[0][m][l]*V1_lm[m,l] + Supplier_cost[1][m][l]*V2_lm[m,l]\n",
    "\n",
    "    #Lost Sales\n",
    "    l_cost = 0\n",
    "    for k in range(Market):\n",
    "        for m in range(Products):\n",
    "            l_cost += lost_sales[k][m]*U_km[k,m]                \n",
    "\n",
    "    grb_expr += OC_1 + OC_2 + total_shipment + pr_cost + b_cost + l_cost\n",
    "    \n",
    "    grbModel_det.setObjective(grb_expr, GRB.MINIMIZE)\n",
    "    \n",
    "    return "
   ]
  },
  {
   "cell_type": "code",
   "execution_count": 48,
   "id": "printable-cassette",
   "metadata": {},
   "outputs": [],
   "source": [
    "# Model Constraints\n",
    "\n",
    "def ModelCons(scen):\n",
    "    \n",
    "    # Network Flow\n",
    "\n",
    "    grbModel_det.addConstrs(Q_im[m,i] >= quicksum(Y_ijm[m,i,j] for j in range(Distribution)) \n",
    "                         for i in range(Manufacturing_plants) for m in range(Products))\n",
    "\n",
    "    grbModel_det.addConstrs((quicksum(Y_ijm[m,i,j] for i in range(Manufacturing_plants)) +\n",
    "                         quicksum(T_ljm[m,l,j] for l in range(Outsourced))) >= quicksum(Z_jkm[m,j,k] for k in range(Market))                        \n",
    "                        for j in range(Distribution) for m in range(Products))\n",
    "\n",
    "    grbModel_det.addConstrs((quicksum(Z_jkm[m,j,k] for j in range(Distribution)) +\n",
    "                         quicksum(T_lkm[m,l,k] for l in range(Outsourced)) + U_km[k,m]) >= demand[s][m][k]\n",
    "                         for k in range(Market) for m in range(Products))  \n",
    "        \n",
    "                    \n",
    "    # Purchasing Constraints (everything purchased from outsourced facilities must be shipped)\n",
    "    grbModel_det.addConstrs(V1_lm[m,l] + V2_lm[m,l] >= quicksum(T_ljm[m,l,j] for j in range(Distribution)) + \n",
    "                        quicksum(T_lkm[m,l,k] for k in range(Market))  \n",
    "                        for m in range(Products) for l in range(Outsourced))\n",
    "    \n",
    "    \n",
    "    # Capacity Constraints\n",
    "    grbModel_det.addConstrs(quicksum(volume[m]*Q_im[m,i] for m in range(Products)) <= Scenarios[scen][0][i]*Capacities_i[i]*x_i[i] \n",
    "                         for i in range(Manufacturing_plants))\n",
    "    \n",
    "    grbModel_det.addConstrs(quicksum(volume[m]*Y_ijm[m,i,j] for i in range(Manufacturing_plants) for m in range(Products)) +\n",
    "                        quicksum(volume[m]*T_ljm[m,l,j] for l in range(Outsourced) for m in range(Products)) <= \n",
    "                        Scenarios[scen][1][j]*Capacities_j[j]*x_j[j]  \n",
    "                        for j in range(Distribution))\n",
    "    \n",
    "    grbModel_det.addConstrs(V1_lm[m,l] + V2_lm[m,l]<= Capacities_l[m][l] \n",
    "                        for l in range(Outsourced) for m in range(Products))\n",
    "    \n",
    "    \n",
    "    # Indicator variable constraints for step function (25 is arbitrary)\n",
    "    grbModel_det.addConstrs(V1_lm[m,l] <= epsilon \n",
    "                               for m in range(Products) for l in range(Outsourced))\n",
    "    \n",
    "    return"
   ]
  },
  {
   "cell_type": "code",
   "execution_count": 49,
   "id": "oriented-tribe",
   "metadata": {},
   "outputs": [],
   "source": [
    "def run_Model(scen):    \n",
    "        \n",
    "    SetGurobiModel(scen)\n",
    "    SolveModel(scen)"
   ]
  },
  {
   "cell_type": "code",
   "execution_count": 50,
   "id": "according-heating",
   "metadata": {},
   "outputs": [],
   "source": [
    "scen_objs = []"
   ]
  },
  {
   "cell_type": "code",
   "execution_count": 51,
   "id": "dying-mechanics",
   "metadata": {},
   "outputs": [],
   "source": [
    "for s in range(num_Scenarios):\n",
    "    x_i = {} # opening manufacturing plant\n",
    "    x_j = {} # opening DC\n",
    "    U_km = {} # quantity lost sales\n",
    "    V1_lm = {} # quantity products purchased from outsourcing\n",
    "    V2_lm = {} \n",
    "    Q_im = {} # quantity produced\n",
    "    Y_ijm = {} # shipping i -> j\n",
    "    Z_jkm = {} # shipping j -> k\n",
    "    T_ljm = {} # shipping l -> j\n",
    "    T_lkm = {} # shipping l -> k\n",
    "    run_Model(s)\n",
    "    scen_objs += [np.round(grbModel_det.objval,2)]"
   ]
  },
  {
   "cell_type": "code",
   "execution_count": null,
   "id": "interracial-kinase",
   "metadata": {},
   "outputs": [],
   "source": []
  },
  {
   "cell_type": "code",
   "execution_count": 52,
   "id": "acting-shore",
   "metadata": {},
   "outputs": [
    {
     "data": {
      "text/plain": [
       "[25094.43,\n",
       " 318509.6,\n",
       " 24620.15,\n",
       " 186490.42,\n",
       " 124909.86,\n",
       " 45300.76,\n",
       " 65428.17,\n",
       " 77201.09,\n",
       " 176131.15,\n",
       " 42183.76,\n",
       " 51856.23,\n",
       " 21282.02,\n",
       " 14767.66,\n",
       " 416841.7,\n",
       " 32861.76,\n",
       " 278908.81,\n",
       " 9598.08,\n",
       " 175004.26,\n",
       " 238853.41,\n",
       " 284204.65,\n",
       " 177396.59]"
      ]
     },
     "execution_count": 52,
     "metadata": {},
     "output_type": "execute_result"
    }
   ],
   "source": [
    "scen_objs"
   ]
  },
  {
   "cell_type": "code",
   "execution_count": null,
   "id": "invalid-cleaners",
   "metadata": {},
   "outputs": [],
   "source": []
  },
  {
   "cell_type": "code",
   "execution_count": 56,
   "id": "sporting-background",
   "metadata": {},
   "outputs": [],
   "source": [
    "penalty_weights = [scen_objs[0]/scen_objs[i] for i in range(num_Scenarios)]"
   ]
  },
  {
   "cell_type": "code",
   "execution_count": 57,
   "id": "stopped-process",
   "metadata": {},
   "outputs": [],
   "source": [
    "penalty_weights = [500]*num_Scenarios"
   ]
  },
  {
   "cell_type": "code",
   "execution_count": 58,
   "id": "fresh-avatar",
   "metadata": {},
   "outputs": [
    {
     "data": {
      "text/plain": [
       "[500,\n",
       " 500,\n",
       " 500,\n",
       " 500,\n",
       " 500,\n",
       " 500,\n",
       " 500,\n",
       " 500,\n",
       " 500,\n",
       " 500,\n",
       " 500,\n",
       " 500,\n",
       " 500,\n",
       " 500,\n",
       " 500,\n",
       " 500,\n",
       " 500,\n",
       " 500,\n",
       " 500,\n",
       " 500,\n",
       " 500]"
      ]
     },
     "execution_count": 58,
     "metadata": {},
     "output_type": "execute_result"
    }
   ],
   "source": [
    "penalty_weights"
   ]
  },
  {
   "cell_type": "markdown",
   "id": "excellent-excess",
   "metadata": {},
   "source": [
    "## Stochastic Model"
   ]
  },
  {
   "cell_type": "code",
   "execution_count": 59,
   "id": "surgical-context",
   "metadata": {},
   "outputs": [],
   "source": [
    "# Initialize model variables\n",
    "x_i = {} # opening manufacturing plant\n",
    "x_j = {} # opening DC\n",
    "U_km = {} # quantity lost sales\n",
    "V1_lm = {} # quantity products purchased from outsourcing below epsilon threshold\n",
    "V2_lm = {} # quantity products purchased from outsourcing in excess of epsilon threshold \n",
    "Q_im = {} # quantity produced\n",
    "Y_ijm = {} # shipping i -> j\n",
    "Z_jkm = {} # shipping j -> k\n",
    "T_ljm = {} # shipping l -> j\n",
    "T_lkm = {} # shipping l -> k\n",
    "delta_s = {} # penalty for p-robust\n",
    "w_s = {} # penalty for not meeting demand above specified rate\n",
    "\n",
    "# Dictionaries for analysis \n",
    "Cost_dict = {}\n",
    "Summary_dict = {}\n",
    "\n",
    "# Dictionary to weigh different objectives \n",
    "objWeights = {} \n",
    "\n",
    "# Dictionary to save values of each objectives\n",
    "dic_grbOut = {}"
   ]
  },
  {
   "cell_type": "code",
   "execution_count": 60,
   "id": "knowing-dispute",
   "metadata": {},
   "outputs": [],
   "source": [
    "grbModel = Model('stochastic')"
   ]
  },
  {
   "cell_type": "code",
   "execution_count": 61,
   "id": "announced-filling",
   "metadata": {},
   "outputs": [],
   "source": [
    "def SetGurobiModel(p, rl):\n",
    "    \n",
    "    for i in range(Manufacturing_plants):\n",
    "        x_i[i] = grbModel.addVar(vtype = GRB.BINARY)\n",
    "    \n",
    "    for j in range(Distribution):\n",
    "        x_j[j] = grbModel.addVar(vtype = GRB.BINARY)\n",
    "    \n",
    "    for s in range(num_Scenarios):\n",
    "        for k in range(Market):\n",
    "            for m in range(Products):\n",
    "                U_km[s,k,m] = grbModel.addVar(vtype = GRB.CONTINUOUS)\n",
    "        \n",
    "    for s in range(num_Scenarios):\n",
    "        for m in range(Products):\n",
    "            for l in range(Outsourced):\n",
    "                V1_lm[s,m,l] = grbModel.addVar(vtype = GRB.CONTINUOUS)\n",
    "                \n",
    "    for s in range(num_Scenarios):\n",
    "        for m in range(Products):\n",
    "            for l in range(Outsourced):\n",
    "                V2_lm[s,m,l] = grbModel.addVar(vtype = GRB.CONTINUOUS)\n",
    "    \n",
    "    for s in range(num_Scenarios):\n",
    "        for m in range(Products):\n",
    "            for i in range(Manufacturing_plants):\n",
    "                Q_im[s,m,i] = grbModel.addVar(vtype = GRB.CONTINUOUS)\n",
    "            \n",
    "    for s in range(num_Scenarios):  \n",
    "        for m in range(Products):\n",
    "            for i in range(Manufacturing_plants):\n",
    "                for j in range(Distribution):\n",
    "                    Y_ijm[s,m,i,j] = grbModel.addVar(vtype = GRB.CONTINUOUS)                \n",
    "    \n",
    "    for s in range(num_Scenarios):\n",
    "        for m in range(Products):\n",
    "            for j in range(Distribution):\n",
    "                for k in range(Market): \n",
    "                    Z_jkm[s,m,j,k] = grbModel.addVar(vtype = GRB.CONTINUOUS)                \n",
    "    \n",
    "    for s in range(num_Scenarios):\n",
    "        for m in range(Products):\n",
    "            for l in range(Outsourced):\n",
    "                for j in range(Distribution):\n",
    "                    T_ljm[s,m,l,j] = grbModel.addVar(vtype = GRB.CONTINUOUS)      \n",
    "    \n",
    "    for s in range(num_Scenarios):\n",
    "        for m in range(Products):\n",
    "            for l in range(Outsourced):\n",
    "                for k in range(Market):\n",
    "                    T_lkm[s,m,l,k] = grbModel.addVar(vtype = GRB.CONTINUOUS)               \n",
    "                  \n",
    "    for s in range(num_Scenarios):\n",
    "        delta_s[s] = grbModel.addVar(vtype = GRB.CONTINUOUS)\n",
    "        \n",
    "    for s in range(num_Scenarios):\n",
    "        for k in range(Market):\n",
    "            for m in range(Products):\n",
    "                w_s[s,k,m] = grbModel.addVar(vtype = GRB.BINARY)\n",
    "                \n",
    "    SetGrb_Obj()\n",
    "    ModelCons(p, rl)"
   ]
  },
  {
   "cell_type": "code",
   "execution_count": 62,
   "id": "comprehensive-aggregate",
   "metadata": {},
   "outputs": [],
   "source": [
    "def SolveModel():\n",
    "    \n",
    "    grbModel.params.OutputFlag = 0\n",
    "    grbModel.optimize()\n",
    "    \n",
    "    # get variable values \n",
    "    v_val_x_i = grbModel.getAttr('x', x_i)\n",
    "    v_val_x_j = grbModel.getAttr('x', x_j)\n",
    "    v_val_U_km = grbModel.getAttr('x', U_km)\n",
    "    v_val_V1_lm = grbModel.getAttr('x', V1_lm)\n",
    "    v_val_V2_lm = grbModel.getAttr('x', V2_lm)\n",
    "    v_val_Q_im = grbModel.getAttr('x', Q_im)\n",
    "    v_val_Y_ijm = grbModel.getAttr('x', Y_ijm)\n",
    "    v_val_Z_jkm = grbModel.getAttr('x', Z_jkm)\n",
    "    v_val_T_ljm = grbModel.getAttr('x', T_ljm)\n",
    "    v_val_T_lkm = grbModel.getAttr('x', T_lkm)\n",
    "    v_val_delta_s = grbModel.getAttr('x', delta_s)\n",
    "    v_val_w = grbModel.getAttr('x', w_s)\n",
    "    \n",
    "    obj = grbModel.getObjective()\n",
    "    print(\"obj val: \", obj.getValue())   \n",
    "    \n",
    "    Summary_dict['ObjVal'] = grbModel.objval\n",
    "    Summary_dict[\"OpenMPs\"] = np.sum(v_val_x_i.values())\n",
    "    Summary_dict[\"OpenDCs\"] = np.sum(v_val_x_j.values())\n",
    "    Cost_dict[\"Opening\"] =  get_opening_costs(v_val_x_i, v_val_x_j)\n",
    "    Cost_dict[\"pr_Penalties\"] = np.round(p_scen*get_pr_penalty_costs(v_val_delta_s), 2)\n",
    "    Cost_dict[\"f2\"] = np.round(p_scen*get_rl_rate(v_val_w))\n",
    "    \n",
    "    for s in range(num_Scenarios):        \n",
    "        Summary_dict[\"Purchasing_\" + str(s)] = sum([v_val_V1_lm[(s,m,l)] +  v_val_V2_lm[(s,m,l)] for m in range(Products) for l in range(Outsourced)])    \n",
    "        Summary_dict[\"Production_\" + str(s)] = sum([v_val_Q_im[(s,m,i)] for m in range(Products) for i in range(Manufacturing_plants)])\n",
    "        Summary_dict[\"LostSales_\" + str(s)] = sum([v_val_U_km[(s,k,m)] for m in range(Products) for k in range(Market)])\n",
    "        Summary_dict[\"OutsourceToDC_\" + str(s)] = sum([v_val_T_ljm[(s,m,l,j)] for m in range(Products) for l in range(Outsourced) for j in range(Distribution)])\n",
    "        Summary_dict[\"OutsourceToMarket_\" + str(s)] = sum([v_val_T_lkm[(s,m,l,k)] for m in range(Products) for l in range(Outsourced) for k in range(Market)])        \n",
    "        \n",
    "    for s in range(num_Scenarios):\n",
    "        Cost_dict[\"InHouseShipping_\" + str(s)] = get_shipping_costs(s,v_val_Y_ijm, v_val_Z_jkm, v_val_T_ljm, v_val_T_lkm)[0]\n",
    "        Cost_dict[\"OutsourceShipping_\" + str(s)] = get_shipping_costs(s,v_val_Y_ijm, v_val_Z_jkm, v_val_T_ljm, v_val_T_lkm)[1]\n",
    "        Cost_dict[\"Production_\" + str(s)] = get_production_cost(s,v_val_Q_im)\n",
    "        Cost_dict[\"Purchasing_\" + str(s)] = get_purchase_costs(s,v_val_V1_lm, v_val_V2_lm)\n",
    "        Cost_dict[\"LostSales_\" + str(s)] = get_lost_cost(s,v_val_U_km)\n",
    "    \n",
    "    Purchasing_cost = np.sum([Cost_dict['Purchasing_' + str(s)] for s in range(num_Scenarios)])\n",
    "    Production_cost = np.sum([Cost_dict['Production_' + str(s)] for s in range(num_Scenarios)])\n",
    "    LostSales_cost = np.sum([Cost_dict['LostSales_' + str(s)] for s in range(num_Scenarios)])\n",
    "    InHouseShipping = np.sum([Cost_dict['InHouseShipping_' + str(s)] for s in range(num_Scenarios)])\n",
    "    OutsourceShipping = np.sum([Cost_dict['OutsourceShipping_' + str(s)] for s in range(num_Scenarios)])\n",
    "    \n",
    "    Cost_dict[\"f1\"] = np.round(Cost_dict[\"Opening\"] + p_scen*(Purchasing_cost + Production_cost + LostSales_cost + InHouseShipping + OutsourceShipping) + Cost_dict['pr_Penalties'], 2)\n",
    "\n",
    "    return"
   ]
  },
  {
   "cell_type": "code",
   "execution_count": 63,
   "id": "original-miniature",
   "metadata": {},
   "outputs": [],
   "source": [
    "# Objective\n",
    "\n",
    "def SetGrb_Obj():\n",
    "\n",
    "    grb_expr = LinExpr()\n",
    "\n",
    "    # Cost of opening\n",
    "    OC_1 = 0\n",
    "    OC_2 = 0\n",
    "    for i in range(Manufacturing_plants):\n",
    "        OC_1 += f_i[i]*x_i[i]\n",
    "    for j in range(Distribution):\n",
    "        OC_2 += f_j[j]*x_j[j]       \n",
    "    \n",
    "    total_shipment = 0    \n",
    "    total_pr_cost = 0\n",
    "    total_b_cost = 0\n",
    "    total_l_cost = 0\n",
    "    \n",
    "    # Shipment \n",
    "\n",
    "    for s in range(num_Scenarios):\n",
    "        ship_1 = 0\n",
    "        ship_2 = 0\n",
    "        ship_3 = 0\n",
    "        ship_4 = 0\n",
    "        for i in range(Manufacturing_plants):\n",
    "            for j in range(Distribution):\n",
    "                for m in range(Products):\n",
    "                    ship_1 += Transportation_i_j[m][i][j]*Y_ijm[s,m,i,j]\n",
    "\n",
    "        for j in range(Distribution):\n",
    "            for k in range(Market):\n",
    "                for m in range(Products):\n",
    "                    ship_2 += Transportation_j_k[m][j][k]*Z_jkm[s,m,j,k]\n",
    "\n",
    "        for l in range(Outsourced):\n",
    "            for j in range(Distribution):\n",
    "                for m in range(Products):\n",
    "                    ship_3 += T_O_DC[m][l][j]*T_ljm[s,m,l,j]\n",
    "\n",
    "        for l in range(Outsourced):\n",
    "            for k in range(Market):\n",
    "                for m in range(Products):\n",
    "                    ship_4 += T_O_MZ[m][l][k]*T_lkm[s,m,l,k]\n",
    "                    \n",
    "        total_shipment += ship_1 + ship_2 + ship_3 + ship_4\n",
    "\n",
    "        # Production\n",
    "        pr_cost = 0\n",
    "        for i in range(Manufacturing_plants):\n",
    "            for m in range(Products):\n",
    "                pr_cost += Manufacturing_costs[i][m]*Q_im[s,m,i]\n",
    "                \n",
    "        total_pr_cost += pr_cost\n",
    "\n",
    "        # Buying from outsource cost\n",
    "        b_cost = 0\n",
    "        for l in range(Outsourced):\n",
    "            for m in range(Products):\n",
    "                b_cost += Supplier_cost[0][m][l]*V1_lm[s,m,l] + Supplier_cost[1][m][l]*V2_lm[s,m,l]\n",
    "                \n",
    "        total_b_cost += b_cost\n",
    "\n",
    "        #Lost Sales\n",
    "        l_cost = 0\n",
    "        for k in range(Market):\n",
    "            for m in range(Products):\n",
    "                l_cost += lost_sales[k][m]*U_km[s,k,m]\n",
    "                \n",
    "        total_l_cost += l_cost   \n",
    "\n",
    "    # Penalties\n",
    "    p_robust_penalties = 0\n",
    "    for s in range(num_Scenarios):\n",
    "        p_robust_penalties += penalty_weights[s]*delta_s[s]    \n",
    "        \n",
    "    \n",
    "    # Percentage of demand met\n",
    "    rl_penalty = 0\n",
    "    for s in range(num_Scenarios):\n",
    "        for k in range(Market):\n",
    "            for m in range(Products):\n",
    "                rl_penalty += lost_sales[k][m]*w_s[s,k,m]*demand[s][m][k]       \n",
    "    \n",
    "    grb_expr += objWeights['f1']*(OC_1 + OC_2 + p_scen*(total_shipment + total_pr_cost + total_b_cost + total_l_cost) + \\\n",
    "  p_scen*p_robust_penalties) + objWeights['f2']*p_scen*rl_penalty\n",
    "\n",
    "    \n",
    "    grbModel.setObjective(grb_expr, GRB.MINIMIZE)\n",
    "    \n",
    "    return \n"
   ]
  },
  {
   "cell_type": "code",
   "execution_count": 64,
   "id": "flexible-uruguay",
   "metadata": {},
   "outputs": [],
   "source": [
    "# Model Constraints\n",
    "\n",
    "def ModelCons(p, rl):\n",
    "    \n",
    "    # Network Flow\n",
    "\n",
    "    grbModel.addConstrs(Q_im[s,m,i] >= quicksum(Y_ijm[s,m,i,j] for j in range(Distribution)) \n",
    "                         for s in range(num_Scenarios) for i in range(Manufacturing_plants) for m in range(Products))\n",
    "\n",
    "    grbModel.addConstrs((quicksum(Y_ijm[s,m,i,j] for i in range(Manufacturing_plants)) +\n",
    "                         quicksum(T_ljm[s,m,l,j] for l in range(Outsourced))) >= quicksum(Z_jkm[s,m,j,k] for k in range(Market))                        \n",
    "                        for s in range(num_Scenarios) for j in range(Distribution) for m in range(Products))\n",
    "    \n",
    "    grbModel.addConstrs(quicksum(Z_jkm[s,m,j,k] for j in range(Distribution)) + \n",
    "                        quicksum(T_lkm[s,m,l,k] for l in range(Outsourced)) + \n",
    "                        U_km[s,k,m] >= demand[s][m][k] for s in range(num_Scenarios) for m in range(Products)\n",
    "                        for k in range(Market))\n",
    "          \n",
    "                    \n",
    "    # Purchasing Constraints (everything purchased from outsourced facilities must be shipped)\n",
    "    grbModel.addConstrs(V1_lm[s,m,l] + V2_lm[s,m,l] >= quicksum(T_ljm[s,m,l,j] for j in range(Distribution)) + \n",
    "                        quicksum(T_lkm[s,m,l,k] for k in range(Market)) for s in range(num_Scenarios) \n",
    "                        for m in range(Products) for l in range(Outsourced))    \n",
    "        \n",
    "    # Capacity Constraints\n",
    "    grbModel.addConstrs(quicksum(volume[m]*Q_im[s,m,i] for m in range(Products)) <= Scenarios[s][0][i]*Capacities_i[i]*x_i[i] \n",
    "                        for s in range(num_Scenarios) for i in range(Manufacturing_plants))\n",
    "    \n",
    "    grbModel.addConstrs(quicksum(volume[m]*Y_ijm[s,m,i,j] for i in range(Manufacturing_plants) for m in range(Products)) +\n",
    "                        quicksum(volume[m]*T_ljm[s,m,l,j] for l in range(Outsourced) for m in range(Products)) <= \n",
    "                        Scenarios[s][1][j]*Capacities_j[j]*x_j[j] for s in range(num_Scenarios) for s in range(num_Scenarios)\n",
    "                        for j in range(Distribution))\n",
    "    \n",
    "    grbModel.addConstrs((V1_lm[s,m,l] + V2_lm[s,m,l] <= (Capacities_l[m][l])) for s in range(num_Scenarios)\n",
    "                        for l in range(Outsourced) for m in range(Products))\n",
    "    \n",
    "    \n",
    "    # Indicator variable constraints for step function (25 is arbitrary)\n",
    "    grbModel.addConstrs(V1_lm[s,m,l] <= epsilon for s in range(num_Scenarios) for m in range(Products) for l in range(Outsourced))   \n",
    "    \n",
    "    \n",
    "    #Demand Metric (w = 1 if demand met is below rl)\n",
    "    grbModel.addConstrs((U_km[s,k,m]/demand[s][m][k]) - (rl + 0.0001)*w_s[s,k,m] <= 1 - rl - 0.0001\n",
    "                        for s in range(num_Scenarios) for k in range(Market) for m in range(Products))    \n",
    "\n",
    "    \n",
    "    #P-robust metric    \n",
    "    grbModel.addConstrs(quicksum(f_i[i]*x_i[i] for i in range(Manufacturing_plants))\n",
    "                        + quicksum(f_j[j]*x_j[j] for j in range(Distribution))\n",
    "                        + quicksum(Transportation_i_j[m][i][j]*Y_ijm[s,m,i,j] for i in range(Manufacturing_plants) \n",
    "                                  for j in range(Distribution) for m in range(Products))\n",
    "                        + quicksum(Transportation_j_k[m][j][k]*Z_jkm[s,m,j,k] for j in range(Distribution)\n",
    "                                   for k in range(Market) for m in range(Products))\n",
    "                        + quicksum(T_O_DC[m][l][j]*T_ljm[s,m,l,j] for l in range(Outsourced) for j in range(Distribution)\n",
    "                                   for m in range(Products))\n",
    "                        + quicksum(T_O_MZ[m][l][k]*T_lkm[s,m,l,k] for l in range(Outsourced) for k in range(Market)\n",
    "                                   for m in range(Products))\n",
    "                        + quicksum(Manufacturing_costs[i][m]*Q_im[s,m,i] for i in range(Manufacturing_plants) \n",
    "                                   for m in range(Products))\n",
    "                        + quicksum(Supplier_cost[0][m][l]*V1_lm[s,m,l] + Supplier_cost[1][m][l]*V2_lm[s,m,l]\n",
    "                                   for l in range(Outsourced) for m in range(Products))\n",
    "                        + quicksum(lost_sales[k][m]*U_km[s,k,m] for k in range(Market) for m in range(Products)) - delta_s[s]\n",
    "                        \n",
    "                        <= (1 + p)*scen_objs[s] for s in range(num_Scenarios))                                 \n",
    "                                                                    \n",
    "    \n",
    "    return   \n"
   ]
  },
  {
   "cell_type": "code",
   "execution_count": 65,
   "id": "continuing-waters",
   "metadata": {},
   "outputs": [],
   "source": [
    "def get_opening_costs(x1, x2):\n",
    "    \n",
    "    # Cost of opening\n",
    "    OC_1 = 0\n",
    "    OC_2 = 0\n",
    "    for i in range(Manufacturing_plants):\n",
    "        OC_1 += f_i[i]*x1[i]\n",
    "    for j in range(Distribution):\n",
    "        OC_2 += f_j[j]*x2[j]\n",
    "\n",
    "    Opening = np.round(OC_1 + OC_2)\n",
    "    \n",
    "    return(Opening)\n",
    "   \n",
    "def get_shipping_costs(scen, Y, Z, T1, T2):\n",
    "    ship_1 = 0\n",
    "    ship_2 = 0\n",
    "    ship_3 = 0\n",
    "    ship_4 = 0\n",
    "\n",
    "    # Shipment\n",
    "    for i in range(Manufacturing_plants):\n",
    "        for j in range(Distribution):\n",
    "            for m in range(Products):\n",
    "                ship_1 += Transportation_i_j[m][i][j]*Y[scen, m,i,j]\n",
    "\n",
    "    for j in range(Distribution):\n",
    "        for k in range(Market):\n",
    "            for m in range(Products):\n",
    "                ship_2 += Transportation_j_k[m][j][k]*Z[scen,m,j,k]\n",
    "\n",
    "    for l in range(Outsourced):\n",
    "        for j in range(Distribution):\n",
    "            for m in range(Products):\n",
    "                ship_3 += T_O_DC[m][l][j]*T1[scen,m,l,j]\n",
    "\n",
    "    for l in range(Outsourced):\n",
    "        for k in range(Market):\n",
    "            for m in range(Products):\n",
    "                ship_4 += T_O_MZ[m][l][k]*T2[scen,m,l,k]\n",
    "    \n",
    "    in_house_shipping = np.round(ship_1 + ship_2)\n",
    "\n",
    "    outsourced_shipping = np.round(ship_3 + ship_4)\n",
    "    \n",
    "    return(in_house_shipping, outsourced_shipping)\n",
    "\n",
    "def get_production_cost(scen, Q):\n",
    "\n",
    "    # Production\n",
    "    pr_cost = 0\n",
    "    for i in range(Manufacturing_plants):\n",
    "        for m in range(Products):\n",
    "            pr_cost += Manufacturing_costs[i][m]*Q[scen,m,i]\n",
    "            \n",
    "    return(np.round(pr_cost))\n",
    "\n",
    "def get_purchase_costs(scen, V1, V2):    \n",
    "\n",
    "    # Buying from outsource cost\n",
    "    b_cost = 0\n",
    "    for l in range(Outsourced):\n",
    "        for m in range(Products):\n",
    "            b_cost += Supplier_cost[0][m][l]*V1[scen,m,l] + Supplier_cost[1][m][l]*V2[scen,m,l]     \n",
    "\n",
    "    return(np.round(b_cost))\n",
    "\n",
    "def get_lost_cost(scen,U):\n",
    "    \n",
    "    #Lost Sales\n",
    "    l_cost = 0\n",
    "    for k in range(Market):\n",
    "        for m in range(Products):\n",
    "            l_cost += lost_sales[k][m]*U[scen,k,m]\n",
    "            \n",
    "    return(np.round(l_cost))\n",
    "\n",
    "def get_pr_penalty_costs(delta):\n",
    "    penalties = 0\n",
    "    for s in range(num_Scenarios):\n",
    "        penalties += penalty_weights[s]*delta[s]\n",
    "    return(penalties)\n",
    "\n",
    "def get_rl_rate(w):\n",
    "    rl_penalty = 0\n",
    "    for s in range(num_Scenarios):\n",
    "        for k in range(Market):\n",
    "            for m in range(Products):\n",
    "                rl_penalty += lost_sales[k][m]*w[s,k,m]*demand[s][m][k]    \n",
    "    \n",
    "    return(rl_penalty)"
   ]
  },
  {
   "cell_type": "code",
   "execution_count": 66,
   "id": "european-supplier",
   "metadata": {},
   "outputs": [],
   "source": [
    "def run_Model(p, rl, objDict):\n",
    "    for key, value in objDict.items():\n",
    "        objWeights[key] = value\n",
    "        \n",
    "    SetGurobiModel(p, rl)\n",
    "    SolveModel()"
   ]
  },
  {
   "cell_type": "code",
   "execution_count": 67,
   "id": "maritime-filter",
   "metadata": {},
   "outputs": [],
   "source": [
    "def dict_to_dataframe(Dict):\n",
    "    return pd.DataFrame([list(Dict.values())], columns = list(Dict.keys()))"
   ]
  },
  {
   "cell_type": "code",
   "execution_count": 68,
   "id": "seventh-alliance",
   "metadata": {},
   "outputs": [
    {
     "name": "stdout",
     "output_type": "stream",
     "text": [
      "obj val:  141081.21008551802\n"
     ]
    }
   ],
   "source": [
    "run_Model(0.4, 0.9, {'f1': 0.8, 'f2': 0.2})"
   ]
  },
  {
   "cell_type": "code",
   "execution_count": 69,
   "id": "equivalent-jersey",
   "metadata": {},
   "outputs": [
    {
     "data": {
      "text/plain": [
       "True"
      ]
     },
     "execution_count": 69,
     "metadata": {},
     "output_type": "execute_result"
    }
   ],
   "source": [
    "num_correct = 0\n",
    "for s in range(num_Scenarios):\n",
    "    if np.round((Summary_dict['Purchasing_'+str(s)] + Summary_dict['Production_' + str(s) ] + Summary_dict['LostSales_' + str(s)])) == np.sum(demand[s]):\n",
    "        num_correct += 1\n",
    "    else:\n",
    "        print (np.round(Summary_dict['Purchasing_'+str(s)] + Summary_dict['Production_' + str(s) ] + Summary_dict['LostSales_' + str(s)]))\n",
    "        print(np.sum(demand[s]))\n",
    "        (print(s))\n",
    "    \n",
    "num_correct == num_Scenarios"
   ]
  },
  {
   "cell_type": "code",
   "execution_count": 70,
   "id": "purple-capability",
   "metadata": {},
   "outputs": [
    {
     "data": {
      "text/plain": [
       "21"
      ]
     },
     "execution_count": 70,
     "metadata": {},
     "output_type": "execute_result"
    }
   ],
   "source": [
    "num_correct"
   ]
  },
  {
   "cell_type": "code",
   "execution_count": 71,
   "id": "structural-crazy",
   "metadata": {},
   "outputs": [],
   "source": [
    "Purchasing = [Summary_dict['Purchasing_' + str(s)] for s in range(num_Scenarios)]\n",
    "Production = [Summary_dict['Production_' + str(s)] for s in range(num_Scenarios)]\n",
    "LostSales = [Summary_dict['LostSales_' + str(s)] for s in range(num_Scenarios)]\n",
    "OutsourceToDC = [Summary_dict['OutsourceToDC_' + str(s)] for s in range(num_Scenarios)]\n",
    "OutsourceToMarket = [Summary_dict['OutsourceToMarket_' + str(s)] for s in range(num_Scenarios)]"
   ]
  },
  {
   "cell_type": "code",
   "execution_count": 72,
   "id": "above-gossip",
   "metadata": {},
   "outputs": [],
   "source": [
    "Unit_df = pd.DataFrame(list(zip(Purchasing, Production, LostSales, OutsourceToDC, OutsourceToMarket)), \n",
    "             columns = [\"Purchasing\", \"Production\", \"LostSales\", \"OutsourceToDC\", \"OutsourceToMarket\"])"
   ]
  },
  {
   "cell_type": "code",
   "execution_count": 73,
   "id": "funded-optics",
   "metadata": {},
   "outputs": [
    {
     "data": {
      "text/html": [
       "<div>\n",
       "<style scoped>\n",
       "    .dataframe tbody tr th:only-of-type {\n",
       "        vertical-align: middle;\n",
       "    }\n",
       "\n",
       "    .dataframe tbody tr th {\n",
       "        vertical-align: top;\n",
       "    }\n",
       "\n",
       "    .dataframe thead th {\n",
       "        text-align: right;\n",
       "    }\n",
       "</style>\n",
       "<table border=\"1\" class=\"dataframe\">\n",
       "  <thead>\n",
       "    <tr style=\"text-align: right;\">\n",
       "      <th></th>\n",
       "      <th>Purchasing</th>\n",
       "      <th>Production</th>\n",
       "      <th>LostSales</th>\n",
       "      <th>OutsourceToDC</th>\n",
       "      <th>OutsourceToMarket</th>\n",
       "    </tr>\n",
       "  </thead>\n",
       "  <tbody>\n",
       "    <tr>\n",
       "      <th>0</th>\n",
       "      <td>0.0</td>\n",
       "      <td>6130.0</td>\n",
       "      <td>0.0</td>\n",
       "      <td>0.0</td>\n",
       "      <td>0.0</td>\n",
       "    </tr>\n",
       "    <tr>\n",
       "      <th>1</th>\n",
       "      <td>8901.0</td>\n",
       "      <td>4904.0</td>\n",
       "      <td>4687.0</td>\n",
       "      <td>0.0</td>\n",
       "      <td>8901.0</td>\n",
       "    </tr>\n",
       "    <tr>\n",
       "      <th>2</th>\n",
       "      <td>0.0</td>\n",
       "      <td>5783.0</td>\n",
       "      <td>0.0</td>\n",
       "      <td>0.0</td>\n",
       "      <td>0.0</td>\n",
       "    </tr>\n",
       "    <tr>\n",
       "      <th>3</th>\n",
       "      <td>796.0</td>\n",
       "      <td>2929.0</td>\n",
       "      <td>7782.0</td>\n",
       "      <td>0.0</td>\n",
       "      <td>796.0</td>\n",
       "    </tr>\n",
       "    <tr>\n",
       "      <th>4</th>\n",
       "      <td>108.0</td>\n",
       "      <td>5837.0</td>\n",
       "      <td>5018.0</td>\n",
       "      <td>0.0</td>\n",
       "      <td>108.0</td>\n",
       "    </tr>\n",
       "    <tr>\n",
       "      <th>5</th>\n",
       "      <td>60.0</td>\n",
       "      <td>3820.0</td>\n",
       "      <td>1308.0</td>\n",
       "      <td>0.0</td>\n",
       "      <td>60.0</td>\n",
       "    </tr>\n",
       "    <tr>\n",
       "      <th>6</th>\n",
       "      <td>170.0</td>\n",
       "      <td>1864.0</td>\n",
       "      <td>2838.0</td>\n",
       "      <td>0.0</td>\n",
       "      <td>170.0</td>\n",
       "    </tr>\n",
       "    <tr>\n",
       "      <th>7</th>\n",
       "      <td>4.0</td>\n",
       "      <td>5601.0</td>\n",
       "      <td>2938.0</td>\n",
       "      <td>4.0</td>\n",
       "      <td>0.0</td>\n",
       "    </tr>\n",
       "    <tr>\n",
       "      <th>8</th>\n",
       "      <td>964.0</td>\n",
       "      <td>4640.0</td>\n",
       "      <td>6591.0</td>\n",
       "      <td>0.0</td>\n",
       "      <td>964.0</td>\n",
       "    </tr>\n",
       "    <tr>\n",
       "      <th>9</th>\n",
       "      <td>258.0</td>\n",
       "      <td>5637.0</td>\n",
       "      <td>692.0</td>\n",
       "      <td>258.0</td>\n",
       "      <td>0.0</td>\n",
       "    </tr>\n",
       "    <tr>\n",
       "      <th>10</th>\n",
       "      <td>0.0</td>\n",
       "      <td>2827.0</td>\n",
       "      <td>2167.0</td>\n",
       "      <td>0.0</td>\n",
       "      <td>0.0</td>\n",
       "    </tr>\n",
       "    <tr>\n",
       "      <th>11</th>\n",
       "      <td>0.0</td>\n",
       "      <td>4206.0</td>\n",
       "      <td>0.0</td>\n",
       "      <td>0.0</td>\n",
       "      <td>0.0</td>\n",
       "    </tr>\n",
       "    <tr>\n",
       "      <th>12</th>\n",
       "      <td>0.0</td>\n",
       "      <td>2348.0</td>\n",
       "      <td>0.0</td>\n",
       "      <td>0.0</td>\n",
       "      <td>0.0</td>\n",
       "    </tr>\n",
       "    <tr>\n",
       "      <th>13</th>\n",
       "      <td>10645.0</td>\n",
       "      <td>1962.0</td>\n",
       "      <td>8415.0</td>\n",
       "      <td>0.0</td>\n",
       "      <td>10645.0</td>\n",
       "    </tr>\n",
       "    <tr>\n",
       "      <th>14</th>\n",
       "      <td>505.0</td>\n",
       "      <td>1890.0</td>\n",
       "      <td>770.0</td>\n",
       "      <td>505.0</td>\n",
       "      <td>0.0</td>\n",
       "    </tr>\n",
       "    <tr>\n",
       "      <th>15</th>\n",
       "      <td>859.0</td>\n",
       "      <td>1961.0</td>\n",
       "      <td>13878.0</td>\n",
       "      <td>859.0</td>\n",
       "      <td>0.0</td>\n",
       "    </tr>\n",
       "    <tr>\n",
       "      <th>16</th>\n",
       "      <td>0.0</td>\n",
       "      <td>1916.0</td>\n",
       "      <td>69.0</td>\n",
       "      <td>0.0</td>\n",
       "      <td>0.0</td>\n",
       "    </tr>\n",
       "    <tr>\n",
       "      <th>17</th>\n",
       "      <td>450.0</td>\n",
       "      <td>1888.0</td>\n",
       "      <td>7717.0</td>\n",
       "      <td>450.0</td>\n",
       "      <td>0.0</td>\n",
       "    </tr>\n",
       "    <tr>\n",
       "      <th>18</th>\n",
       "      <td>3471.0</td>\n",
       "      <td>1962.0</td>\n",
       "      <td>8139.0</td>\n",
       "      <td>787.0</td>\n",
       "      <td>2685.0</td>\n",
       "    </tr>\n",
       "    <tr>\n",
       "      <th>19</th>\n",
       "      <td>85.0</td>\n",
       "      <td>1916.0</td>\n",
       "      <td>13697.0</td>\n",
       "      <td>25.0</td>\n",
       "      <td>60.0</td>\n",
       "    </tr>\n",
       "    <tr>\n",
       "      <th>20</th>\n",
       "      <td>4671.0</td>\n",
       "      <td>1962.0</td>\n",
       "      <td>3081.0</td>\n",
       "      <td>0.0</td>\n",
       "      <td>4671.0</td>\n",
       "    </tr>\n",
       "  </tbody>\n",
       "</table>\n",
       "</div>"
      ],
      "text/plain": [
       "    Purchasing  Production  LostSales  OutsourceToDC  OutsourceToMarket\n",
       "0          0.0      6130.0        0.0            0.0                0.0\n",
       "1       8901.0      4904.0     4687.0            0.0             8901.0\n",
       "2          0.0      5783.0        0.0            0.0                0.0\n",
       "3        796.0      2929.0     7782.0            0.0              796.0\n",
       "4        108.0      5837.0     5018.0            0.0              108.0\n",
       "5         60.0      3820.0     1308.0            0.0               60.0\n",
       "6        170.0      1864.0     2838.0            0.0              170.0\n",
       "7          4.0      5601.0     2938.0            4.0                0.0\n",
       "8        964.0      4640.0     6591.0            0.0              964.0\n",
       "9        258.0      5637.0      692.0          258.0                0.0\n",
       "10         0.0      2827.0     2167.0            0.0                0.0\n",
       "11         0.0      4206.0        0.0            0.0                0.0\n",
       "12         0.0      2348.0        0.0            0.0                0.0\n",
       "13     10645.0      1962.0     8415.0            0.0            10645.0\n",
       "14       505.0      1890.0      770.0          505.0                0.0\n",
       "15       859.0      1961.0    13878.0          859.0                0.0\n",
       "16         0.0      1916.0       69.0            0.0                0.0\n",
       "17       450.0      1888.0     7717.0          450.0                0.0\n",
       "18      3471.0      1962.0     8139.0          787.0             2685.0\n",
       "19        85.0      1916.0    13697.0           25.0               60.0\n",
       "20      4671.0      1962.0     3081.0            0.0             4671.0"
      ]
     },
     "execution_count": 73,
     "metadata": {},
     "output_type": "execute_result"
    }
   ],
   "source": [
    "np.round(Unit_df)"
   ]
  },
  {
   "cell_type": "code",
   "execution_count": 74,
   "id": "super-architect",
   "metadata": {},
   "outputs": [
    {
     "data": {
      "text/plain": [
       "11507.0"
      ]
     },
     "execution_count": 74,
     "metadata": {},
     "output_type": "execute_result"
    }
   ],
   "source": [
    "np.sum(demand[3])"
   ]
  },
  {
   "cell_type": "code",
   "execution_count": 75,
   "id": "musical-concept",
   "metadata": {},
   "outputs": [],
   "source": [
    "Scen_demand = 1 - np.array(list(Unit_df['LostSales']))/(np.array(list(Unit_df['Purchasing'])) + np.array(list(Unit_df['Production'])) + (np.array(list(Unit_df['LostSales']))))"
   ]
  },
  {
   "cell_type": "code",
   "execution_count": 76,
   "id": "false-superintendent",
   "metadata": {},
   "outputs": [],
   "source": [
    "Purchasing_cost = [Cost_dict['Purchasing_' + str(s)] for s in range(num_Scenarios)]\n",
    "Production_cost = [Cost_dict['Production_' + str(s)] for s in range(num_Scenarios)]\n",
    "LostSales_cost = [Cost_dict['LostSales_' + str(s)] for s in range(num_Scenarios)]\n",
    "InHouseShipping = [Cost_dict['InHouseShipping_' + str(s)] for s in range(num_Scenarios)]\n",
    "OutsourceShipping = [Cost_dict['OutsourceShipping_' + str(s)] for s in range(num_Scenarios)]"
   ]
  },
  {
   "cell_type": "code",
   "execution_count": 77,
   "id": "distinguished-planet",
   "metadata": {},
   "outputs": [
    {
     "data": {
      "text/plain": [
       "141081.224"
      ]
     },
     "execution_count": 77,
     "metadata": {},
     "output_type": "execute_result"
    }
   ],
   "source": [
    "0.8*Cost_dict['f1'] + 0.2*Cost_dict['f2']"
   ]
  },
  {
   "cell_type": "code",
   "execution_count": 78,
   "id": "removed-difficulty",
   "metadata": {},
   "outputs": [
    {
     "data": {
      "text/plain": [
       "141081.21008551813"
      ]
     },
     "execution_count": 78,
     "metadata": {},
     "output_type": "execute_result"
    }
   ],
   "source": [
    "grbModel.objVal"
   ]
  },
  {
   "cell_type": "code",
   "execution_count": 79,
   "id": "empty-holly",
   "metadata": {},
   "outputs": [],
   "source": [
    "Cost_df = pd.DataFrame(list(zip(Purchasing_cost, Production_cost, LostSales_cost, InHouseShipping, OutsourceShipping)), \n",
    "             columns = [\"Purchasing\", \"Production\", \"LostSales\", \"InHouseShipping\", \"OutsourceShipping\"])"
   ]
  },
  {
   "cell_type": "code",
   "execution_count": 80,
   "id": "professional-algebra",
   "metadata": {},
   "outputs": [
    {
     "data": {
      "text/html": [
       "<div>\n",
       "<style scoped>\n",
       "    .dataframe tbody tr th:only-of-type {\n",
       "        vertical-align: middle;\n",
       "    }\n",
       "\n",
       "    .dataframe tbody tr th {\n",
       "        vertical-align: top;\n",
       "    }\n",
       "\n",
       "    .dataframe thead th {\n",
       "        text-align: right;\n",
       "    }\n",
       "</style>\n",
       "<table border=\"1\" class=\"dataframe\">\n",
       "  <thead>\n",
       "    <tr style=\"text-align: right;\">\n",
       "      <th></th>\n",
       "      <th>Purchasing</th>\n",
       "      <th>Production</th>\n",
       "      <th>LostSales</th>\n",
       "      <th>InHouseShipping</th>\n",
       "      <th>OutsourceShipping</th>\n",
       "    </tr>\n",
       "  </thead>\n",
       "  <tbody>\n",
       "    <tr>\n",
       "      <th>0</th>\n",
       "      <td>0.0</td>\n",
       "      <td>7366.0</td>\n",
       "      <td>0.0</td>\n",
       "      <td>10728.0</td>\n",
       "      <td>0.0</td>\n",
       "    </tr>\n",
       "    <tr>\n",
       "      <th>1</th>\n",
       "      <td>187812.0</td>\n",
       "      <td>5383.0</td>\n",
       "      <td>94143.0</td>\n",
       "      <td>10971.0</td>\n",
       "      <td>56738.0</td>\n",
       "    </tr>\n",
       "    <tr>\n",
       "      <th>2</th>\n",
       "      <td>0.0</td>\n",
       "      <td>6796.0</td>\n",
       "      <td>0.0</td>\n",
       "      <td>11575.0</td>\n",
       "      <td>0.0</td>\n",
       "    </tr>\n",
       "    <tr>\n",
       "      <th>3</th>\n",
       "      <td>16358.0</td>\n",
       "      <td>3213.0</td>\n",
       "      <td>155383.0</td>\n",
       "      <td>6365.0</td>\n",
       "      <td>5052.0</td>\n",
       "    </tr>\n",
       "    <tr>\n",
       "      <th>4</th>\n",
       "      <td>1941.0</td>\n",
       "      <td>6528.0</td>\n",
       "      <td>98504.0</td>\n",
       "      <td>13595.0</td>\n",
       "      <td>636.0</td>\n",
       "    </tr>\n",
       "    <tr>\n",
       "      <th>5</th>\n",
       "      <td>1072.0</td>\n",
       "      <td>4211.0</td>\n",
       "      <td>25227.0</td>\n",
       "      <td>10183.0</td>\n",
       "      <td>337.0</td>\n",
       "    </tr>\n",
       "    <tr>\n",
       "      <th>6</th>\n",
       "      <td>3255.0</td>\n",
       "      <td>2034.0</td>\n",
       "      <td>53898.0</td>\n",
       "      <td>4730.0</td>\n",
       "      <td>996.0</td>\n",
       "    </tr>\n",
       "    <tr>\n",
       "      <th>7</th>\n",
       "      <td>73.0</td>\n",
       "      <td>7596.0</td>\n",
       "      <td>54170.0</td>\n",
       "      <td>9665.0</td>\n",
       "      <td>13.0</td>\n",
       "    </tr>\n",
       "    <tr>\n",
       "      <th>8</th>\n",
       "      <td>20722.0</td>\n",
       "      <td>6439.0</td>\n",
       "      <td>135662.0</td>\n",
       "      <td>8716.0</td>\n",
       "      <td>5806.0</td>\n",
       "    </tr>\n",
       "    <tr>\n",
       "      <th>9</th>\n",
       "      <td>5188.0</td>\n",
       "      <td>7451.0</td>\n",
       "      <td>14334.0</td>\n",
       "      <td>11477.0</td>\n",
       "      <td>857.0</td>\n",
       "    </tr>\n",
       "    <tr>\n",
       "      <th>10</th>\n",
       "      <td>0.0</td>\n",
       "      <td>3691.0</td>\n",
       "      <td>39001.0</td>\n",
       "      <td>5414.0</td>\n",
       "      <td>0.0</td>\n",
       "    </tr>\n",
       "    <tr>\n",
       "      <th>11</th>\n",
       "      <td>0.0</td>\n",
       "      <td>5217.0</td>\n",
       "      <td>0.0</td>\n",
       "      <td>11065.0</td>\n",
       "      <td>0.0</td>\n",
       "    </tr>\n",
       "    <tr>\n",
       "      <th>12</th>\n",
       "      <td>0.0</td>\n",
       "      <td>3087.0</td>\n",
       "      <td>0.0</td>\n",
       "      <td>7430.0</td>\n",
       "      <td>0.0</td>\n",
       "    </tr>\n",
       "    <tr>\n",
       "      <th>13</th>\n",
       "      <td>226180.0</td>\n",
       "      <td>2153.0</td>\n",
       "      <td>160505.0</td>\n",
       "      <td>3869.0</td>\n",
       "      <td>65719.0</td>\n",
       "    </tr>\n",
       "    <tr>\n",
       "      <th>14</th>\n",
       "      <td>10634.0</td>\n",
       "      <td>2151.0</td>\n",
       "      <td>15010.0</td>\n",
       "      <td>3396.0</td>\n",
       "      <td>1682.0</td>\n",
       "    </tr>\n",
       "    <tr>\n",
       "      <th>15</th>\n",
       "      <td>18431.0</td>\n",
       "      <td>2364.0</td>\n",
       "      <td>251641.0</td>\n",
       "      <td>4757.0</td>\n",
       "      <td>2867.0</td>\n",
       "    </tr>\n",
       "    <tr>\n",
       "      <th>16</th>\n",
       "      <td>0.0</td>\n",
       "      <td>2227.0</td>\n",
       "      <td>1250.0</td>\n",
       "      <td>3590.0</td>\n",
       "      <td>0.0</td>\n",
       "    </tr>\n",
       "    <tr>\n",
       "      <th>17</th>\n",
       "      <td>9423.0</td>\n",
       "      <td>2147.0</td>\n",
       "      <td>158273.0</td>\n",
       "      <td>2975.0</td>\n",
       "      <td>1506.0</td>\n",
       "    </tr>\n",
       "    <tr>\n",
       "      <th>18</th>\n",
       "      <td>75489.0</td>\n",
       "      <td>2365.0</td>\n",
       "      <td>154035.0</td>\n",
       "      <td>3751.0</td>\n",
       "      <td>19540.0</td>\n",
       "    </tr>\n",
       "    <tr>\n",
       "      <th>19</th>\n",
       "      <td>1537.0</td>\n",
       "      <td>2229.0</td>\n",
       "      <td>273252.0</td>\n",
       "      <td>4829.0</td>\n",
       "      <td>419.0</td>\n",
       "    </tr>\n",
       "    <tr>\n",
       "      <th>20</th>\n",
       "      <td>98879.0</td>\n",
       "      <td>2365.0</td>\n",
       "      <td>60550.0</td>\n",
       "      <td>4038.0</td>\n",
       "      <td>28651.0</td>\n",
       "    </tr>\n",
       "  </tbody>\n",
       "</table>\n",
       "</div>"
      ],
      "text/plain": [
       "    Purchasing  Production  LostSales  InHouseShipping  OutsourceShipping\n",
       "0          0.0      7366.0        0.0          10728.0                0.0\n",
       "1     187812.0      5383.0    94143.0          10971.0            56738.0\n",
       "2          0.0      6796.0        0.0          11575.0                0.0\n",
       "3      16358.0      3213.0   155383.0           6365.0             5052.0\n",
       "4       1941.0      6528.0    98504.0          13595.0              636.0\n",
       "5       1072.0      4211.0    25227.0          10183.0              337.0\n",
       "6       3255.0      2034.0    53898.0           4730.0              996.0\n",
       "7         73.0      7596.0    54170.0           9665.0               13.0\n",
       "8      20722.0      6439.0   135662.0           8716.0             5806.0\n",
       "9       5188.0      7451.0    14334.0          11477.0              857.0\n",
       "10         0.0      3691.0    39001.0           5414.0                0.0\n",
       "11         0.0      5217.0        0.0          11065.0                0.0\n",
       "12         0.0      3087.0        0.0           7430.0                0.0\n",
       "13    226180.0      2153.0   160505.0           3869.0            65719.0\n",
       "14     10634.0      2151.0    15010.0           3396.0             1682.0\n",
       "15     18431.0      2364.0   251641.0           4757.0             2867.0\n",
       "16         0.0      2227.0     1250.0           3590.0                0.0\n",
       "17      9423.0      2147.0   158273.0           2975.0             1506.0\n",
       "18     75489.0      2365.0   154035.0           3751.0            19540.0\n",
       "19      1537.0      2229.0   273252.0           4829.0              419.0\n",
       "20     98879.0      2365.0    60550.0           4038.0            28651.0"
      ]
     },
     "execution_count": 80,
     "metadata": {},
     "output_type": "execute_result"
    }
   ],
   "source": [
    "Cost_df"
   ]
  },
  {
   "cell_type": "code",
   "execution_count": 81,
   "id": "pointed-output",
   "metadata": {},
   "outputs": [
    {
     "data": {
      "text/plain": [
       "2.0"
      ]
     },
     "execution_count": 81,
     "metadata": {},
     "output_type": "execute_result"
    }
   ],
   "source": [
    "Summary_dict[\"OpenMPs\"]"
   ]
  },
  {
   "cell_type": "code",
   "execution_count": 82,
   "id": "hybrid-chorus",
   "metadata": {},
   "outputs": [
    {
     "data": {
      "text/plain": [
       "3.0"
      ]
     },
     "execution_count": 82,
     "metadata": {},
     "output_type": "execute_result"
    }
   ],
   "source": [
    "Summary_dict[\"OpenDCs\"]"
   ]
  },
  {
   "cell_type": "code",
   "execution_count": 83,
   "id": "opening-casting",
   "metadata": {},
   "outputs": [],
   "source": [
    "scen_costs = [Cost_dict['Opening'] + Purchasing_cost[s] + Production_cost[s] + InHouseShipping[s] + OutsourceShipping[s] + LostSales_cost[s] for s in range(num_Scenarios)]"
   ]
  },
  {
   "cell_type": "code",
   "execution_count": 84,
   "id": "desirable-advertising",
   "metadata": {},
   "outputs": [
    {
     "data": {
      "text/plain": [
       "array([-1.71352766e-05,  1.36691013e-01,  3.04973771e-02,  3.68950855e-02,\n",
       "        2.63721375e-02,  6.02471129e-02,  9.91137304e-02,  1.70452257e-02,\n",
       "        4.66348514e-02,  9.77447245e-02,  6.26688442e-02,  9.39751020e-02,\n",
       "        1.86173029e-01,  1.16553358e-01,  2.13355584e-01,  2.92252869e-02,\n",
       "        4.65605621e-01,  3.61119209e-02,  9.76606949e-02,  1.78088219e-02,\n",
       "        1.35777187e-01])"
      ]
     },
     "execution_count": 84,
     "metadata": {},
     "output_type": "execute_result"
    }
   ],
   "source": [
    "(np.array(scen_costs) - np.array(scen_objs))/np.array(scen_objs)"
   ]
  },
  {
   "cell_type": "code",
   "execution_count": 85,
   "id": "unlimited-cigarette",
   "metadata": {},
   "outputs": [
    {
     "data": {
      "text/plain": [
       "157845.28"
      ]
     },
     "execution_count": 85,
     "metadata": {},
     "output_type": "execute_result"
    }
   ],
   "source": [
    "Cost_dict['f1']"
   ]
  },
  {
   "cell_type": "code",
   "execution_count": 86,
   "id": "marked-installation",
   "metadata": {},
   "outputs": [
    {
     "data": {
      "text/plain": [
       "74025.0"
      ]
     },
     "execution_count": 86,
     "metadata": {},
     "output_type": "execute_result"
    }
   ],
   "source": [
    "Cost_dict['f2']"
   ]
  },
  {
   "cell_type": "code",
   "execution_count": 87,
   "id": "accessory-cursor",
   "metadata": {},
   "outputs": [
    {
     "data": {
      "text/plain": [
       "14998.47"
      ]
     },
     "execution_count": 87,
     "metadata": {},
     "output_type": "execute_result"
    }
   ],
   "source": [
    "Cost_dict['pr_Penalties']"
   ]
  },
  {
   "cell_type": "markdown",
   "id": "exotic-tunisia",
   "metadata": {},
   "source": [
    "## Heat Maps"
   ]
  },
  {
   "cell_type": "code",
   "execution_count": 88,
   "id": "still-nightlife",
   "metadata": {},
   "outputs": [],
   "source": [
    "rl_vals = [0.95, 0.8, 0.6]"
   ]
  },
  {
   "cell_type": "code",
   "execution_count": 121,
   "id": "hollow-darkness",
   "metadata": {},
   "outputs": [
    {
     "name": "stdout",
     "output_type": "stream",
     "text": [
      "obj val:  141736.76776825782\n"
     ]
    },
    {
     "name": "stderr",
     "output_type": "stream",
     "text": [
      "C:\\Users\\Devika Kabe\\Anaconda3\\lib\\site-packages\\ipykernel_launcher.py:12: MatplotlibDeprecationWarning: Adding an axes using the same arguments as a previous axes currently reuses the earlier instance.  In a future version, a new instance will always be created and returned.  Meanwhile, this warning can be suppressed, and the future behavior ensured, by passing a unique label to each axes instance.\n",
      "  if sys.path[0] == '':\n"
     ]
    },
    {
     "data": {
      "image/png": "[encoded data removed]",
      "text/plain": [
       "<Figure size 432x288 with 2 Axes>"
      ]
     },
     "metadata": {
      "needs_background": "light"
     },
     "output_type": "display_data"
    },
    {
     "name": "stdout",
     "output_type": "stream",
     "text": [
      "obj val:  139795.82236563571\n"
     ]
    },
    {
     "data": {
      "image/png": "[encoded data removed]",
      "text/plain": [
       "<Figure size 432x288 with 2 Axes>"
      ]
     },
     "metadata": {
      "needs_background": "light"
     },
     "output_type": "display_data"
    },
    {
     "name": "stdout",
     "output_type": "stream",
     "text": [
      "obj val:  136324.9004641427\n"
     ]
    },
    {
     "data": {
      "image/png": "[encoded data removed]",
      "text/plain": [
       "<Figure size 432x288 with 2 Axes>"
      ]
     },
     "metadata": {
      "needs_background": "light"
     },
     "output_type": "display_data"
    }
   ],
   "source": [
    "for i in range(len(rl_vals)):\n",
    "    run_Model(0.4, rl_vals[i], {'f1': 0.8, 'f2': 0.2})\n",
    "    U = grbModel.getAttr('x',U_km)\n",
    "    U_km_mat = np.zeros((num_Scenarios, Products, Market))\n",
    "    for s in range(num_Scenarios):\n",
    "        for k in range(Market):\n",
    "            for m in range(Products):\n",
    "                U_km_mat[s][m][k] = U[s,k,m]\n",
    "    s_lostSales = sum(U_km_mat)\n",
    "    demand_met = 1 - s_lostSales/s_Demand\n",
    "    sns.heatmap(demand_met, cmap = \"Reds\", vmin = 0.5, vmax = 1.0, linewidths = 0.5, linecolor = 'black')\n",
    "    plt.axes().set_title(\"Average Demand Met Per Product Per Market\", fontsize = 14)\n",
    "    plt.xlabel('Market Zone', fontsize = 12)\n",
    "    plt.ylabel('Product', fontsize = 12)\n",
    "    plt.show()"
   ]
  },
  {
   "cell_type": "code",
   "execution_count": 122,
   "id": "clean-oriental",
   "metadata": {},
   "outputs": [
    {
     "name": "stdout",
     "output_type": "stream",
     "text": [
      "obj val:  132028.55915701555\n"
     ]
    },
    {
     "name": "stderr",
     "output_type": "stream",
     "text": [
      "C:\\Users\\Devika Kabe\\Anaconda3\\lib\\site-packages\\ipykernel_launcher.py:11: MatplotlibDeprecationWarning: Adding an axes using the same arguments as a previous axes currently reuses the earlier instance.  In a future version, a new instance will always be created and returned.  Meanwhile, this warning can be suppressed, and the future behavior ensured, by passing a unique label to each axes instance.\n",
      "  # This is added back by InteractiveShellApp.init_path()\n"
     ]
    },
    {
     "data": {
      "image/png": "[encoded data removed]",
      "text/plain": [
       "<Figure size 576x360 with 2 Axes>"
      ]
     },
     "metadata": {
      "needs_background": "light"
     },
     "output_type": "display_data"
    },
    {
     "name": "stdout",
     "output_type": "stream",
     "text": [
      "obj val:  127851.36542797304\n"
     ]
    },
    {
     "data": {
      "image/png": "[encoded data removed]",
      "text/plain": [
       "<Figure size 576x360 with 2 Axes>"
      ]
     },
     "metadata": {
      "needs_background": "light"
     },
     "output_type": "display_data"
    },
    {
     "name": "stdout",
     "output_type": "stream",
     "text": [
      "obj val:  120553.6463316663\n"
     ]
    },
    {
     "data": {
      "image/png": "[encoded data removed]",
      "text/plain": [
       "<Figure size 576x360 with 2 Axes>"
      ]
     },
     "metadata": {
      "needs_background": "light"
     },
     "output_type": "display_data"
    }
   ],
   "source": [
    "for i in range(len(rl_vals)):\n",
    "    run_Model(0.4, rl_vals[i], {'f1': 0.7, 'f2': 0.3})\n",
    "    U = grbModel.getAttr('x',U_km)\n",
    "    ls_per_market = np.zeros((num_Scenarios, Market))\n",
    "    for s in range(num_Scenarios):\n",
    "        for k in range(Market):\n",
    "            ls_per_market[s][k] = sum([U[s,k,m] for m in range(Products)])/sum(demand[s])[k]\n",
    "    demand_met = 1 - ls_per_market\n",
    "    plt.figure(figsize = (8,5))\n",
    "    sns.heatmap(demand_met.T, cmap = \"Reds\", vmin = 0.5, vmax = 1, linewidths = 1, linecolor = 'black')\n",
    "    plt.axes().set_title(\"Scenario Market Demand Met\", fontsize = 14)\n",
    "    plt.xlabel('Scenarios', fontsize = 12)\n",
    "    plt.show()"
   ]
  },
  {
   "cell_type": "markdown",
   "id": "worldwide-concord",
   "metadata": {},
   "source": [
    "## Connections between Nodes "
   ]
  },
  {
   "cell_type": "code",
   "execution_count": 123,
   "id": "complex-reduction",
   "metadata": {},
   "outputs": [
    {
     "name": "stdout",
     "output_type": "stream",
     "text": [
      "obj val:  136324.9004641427\n"
     ]
    }
   ],
   "source": [
    "run_Model(0.4, rl_vals[i], {'f1': 0.8, 'f2': 0.2})"
   ]
  },
  {
   "cell_type": "code",
   "execution_count": 124,
   "id": "martial-stanley",
   "metadata": {},
   "outputs": [],
   "source": [
    "# Manufacturing Plant -> DC -> Market Zone"
   ]
  },
  {
   "cell_type": "code",
   "execution_count": 125,
   "id": "desirable-birthday",
   "metadata": {},
   "outputs": [],
   "source": [
    "MP = [\"I_\" + str(i) for i in range(Manufacturing_plants)]\n",
    "DC = [\"J_\" + str(j) for j in range(Distribution)]\n",
    "MZ = [\"K_\" + str(k) for k in range(Market)]\n",
    "Position_dic = {}\n",
    "Node_colors = []\n",
    "Edge_colors = []\n",
    "Node_size = []\n",
    "Weight = []\n",
    "Weight_ij = []\n",
    "Weight_jk = []\n",
    "Max_p = max(Manufacturing_plants, Distribution, Market)"
   ]
  },
  {
   "cell_type": "code",
   "execution_count": 126,
   "id": "fluid-longitude",
   "metadata": {},
   "outputs": [],
   "source": [
    "Y = grbModel.getAttr('x', Y_ijm)\n",
    "Z = grbModel.getAttr('x', Z_jkm)"
   ]
  },
  {
   "cell_type": "code",
   "execution_count": 127,
   "id": "iraqi-uzbekistan",
   "metadata": {},
   "outputs": [],
   "source": [
    "Y_mat = np.array(list(Y.values())).reshape(num_Scenarios, Products, Manufacturing_plants, Distribution)\n",
    "Z_mat = np.array(list(Z.values())).reshape(num_Scenarios, Products, Distribution, Market)"
   ]
  },
  {
   "cell_type": "code",
   "execution_count": 128,
   "id": "beginning-wagon",
   "metadata": {},
   "outputs": [],
   "source": [
    "Yij = sum(sum(Y_mat))/num_Scenarios"
   ]
  },
  {
   "cell_type": "code",
   "execution_count": 129,
   "id": "hearing-lithuania",
   "metadata": {},
   "outputs": [],
   "source": [
    "Zjk = sum(sum(Z_mat))/num_Scenarios"
   ]
  },
  {
   "cell_type": "code",
   "execution_count": 130,
   "id": "young-empire",
   "metadata": {},
   "outputs": [
    {
     "name": "stderr",
     "output_type": "stream",
     "text": [
      "C:\\Users\\Devika Kabe\\Anaconda3\\lib\\site-packages\\ipykernel_launcher.py:68: MatplotlibDeprecationWarning: Adding an axes using the same arguments as a previous axes currently reuses the earlier instance.  In a future version, a new instance will always be created and returned.  Meanwhile, this warning can be suppressed, and the future behavior ensured, by passing a unique label to each axes instance.\n"
     ]
    },
    {
     "data": {
      "image/png": "[encoded data removed]",
      "text/plain": [
       "<Figure size 1440x1080 with 1 Axes>"
      ]
     },
     "metadata": {},
     "output_type": "display_data"
    }
   ],
   "source": [
    "IJ_edges = []\n",
    "for i in range(Manufacturing_plants):\n",
    "    for j in range(Distribution):\n",
    "        #if Yij[i][j] > 0:\n",
    "        IJ_edges.append((\"I_\" + str(i), \"J_\" + str(j)))    \n",
    "Weight_ij.extend(Yij.sum(axis=1))\n",
    "    \n",
    "JK_edges = []\n",
    "for j in range(Distribution):\n",
    "    for k in range(Market):\n",
    "        #if Zjk[j][k] > 0:\n",
    "        JK_edges.append((\"J_\" + str(j), \"K_\" + str(k)))\n",
    "Weight_jk.extend(Zjk.sum(axis=1))\n",
    "    \n",
    "Weight.extend([3*Yij[i][j]/max(Weight_ij) for i in range(Manufacturing_plants) for j in range(Distribution)])\n",
    "Weight.extend([4*Zjk[j][k]/max(Weight_jk) for j in range(Distribution) for k in range(Market)])\n",
    "            \n",
    "Labels = []\n",
    "Graph = nx.Graph()\n",
    "\n",
    "Position_values = []\n",
    "y_pos = np.linspace(0, Max_p, Manufacturing_plants)\n",
    "for i in range(Manufacturing_plants):\n",
    "    position = (0, y_pos[i])\n",
    "    Graph.add_node(MP[i])\n",
    "    Node_colors.append('navy')\n",
    "    Labels.append(\"i\" + str(i))\n",
    "    Position_values.append(np.asarray(position))\n",
    "Position_dic = dict(zip(MP, Position_values))\n",
    "\n",
    "Position_values = []\n",
    "y_pos = np.linspace(0, Max_p, Distribution)\n",
    "for j in range(Distribution):\n",
    "    position = (1, y_pos[j])\n",
    "    Graph.add_node(DC[j])\n",
    "    Node_colors.append('red')\n",
    "    Labels.append(\"j\" + str(j))\n",
    "    Position_values.append(np.asarray(position))\n",
    "Position_dic.update(dict(zip(DC, Position_values)))\n",
    "\n",
    "Position_values = []\n",
    "y_pos = np.linspace(0, Max_p, Market)\n",
    "for k in range(Market):\n",
    "    position = (2, y_pos[k])\n",
    "    Graph.add_node(MZ[k])\n",
    "    Node_colors.append('purple')\n",
    "    Labels.append(\"k\" + str(k))\n",
    "    Position_values.append(np.asarray(position))\n",
    "Position_dic.update(dict(zip(MZ, Position_values)))\n",
    "\n",
    "# Add Edges\n",
    "\n",
    "Graph.add_edges_from(IJ_edges)\n",
    "Graph.add_edges_from(JK_edges)\n",
    "Edge_colors.extend(['black' for i in IJ_edges])\n",
    "Edge_colors.extend(['darkseagreen' for i in JK_edges])\n",
    "\n",
    "nodePos = nx.shell_layout(Graph)\n",
    "nx.draw_networkx(Graph, with_labels = False, node_color = Node_colors, edge_color = Edge_colors, pos = Position_dic, width = Weight)\n",
    "\n",
    "limits=plt.axis('off')\n",
    "plt.gcf().set_size_inches(20, 15)\n",
    "\n",
    "lengend_mp = mpatches.Patch(color = 'navy', label = 'Manufacturing Plants')\n",
    "lengend_dc = mpatches.Patch(color = 'red', label = 'Distribution Centres')\n",
    "lengend_mz = mpatches.Patch(color = 'purple', label = 'Market Zones')\n",
    "\n",
    "ax = plt.subplot(111)\n",
    "ax.legend(loc = 'lower center', handles=[lengend_mp, lengend_dc, lengend_mz], ncol = 3, borderpad=1)\n",
    "\n",
    "plt.show()"
   ]
  },
  {
   "cell_type": "code",
   "execution_count": 131,
   "id": "careful-surface",
   "metadata": {},
   "outputs": [
    {
     "data": {
      "text/plain": [
       "[2208.4501060906214, 1200.1630937767331]"
      ]
     },
     "execution_count": 131,
     "metadata": {},
     "output_type": "execute_result"
    }
   ],
   "source": [
    "Weight_ij"
   ]
  },
  {
   "cell_type": "code",
   "execution_count": 132,
   "id": "unexpected-forge",
   "metadata": {},
   "outputs": [
    {
     "data": {
      "text/plain": [
       "array([[868.15362312, 797.44850722, 542.84797575],\n",
       "       [352.18090902, 503.85998282, 344.12220194]])"
      ]
     },
     "execution_count": 132,
     "metadata": {},
     "output_type": "execute_result"
    }
   ],
   "source": [
    "Yij"
   ]
  },
  {
   "cell_type": "code",
   "execution_count": 133,
   "id": "driven-house",
   "metadata": {},
   "outputs": [],
   "source": [
    "# Outsource -> DC"
   ]
  },
  {
   "cell_type": "code",
   "execution_count": 134,
   "id": "median-beverage",
   "metadata": {},
   "outputs": [],
   "source": [
    "T1 = grbModel.getAttr('x', T_ljm)"
   ]
  },
  {
   "cell_type": "code",
   "execution_count": 135,
   "id": "selective-filename",
   "metadata": {},
   "outputs": [],
   "source": [
    "T1_mat = np.array(list(T1.values())).reshape(num_Scenarios, Products, Outsourced, Distribution)"
   ]
  },
  {
   "cell_type": "code",
   "execution_count": 136,
   "id": "amended-mambo",
   "metadata": {},
   "outputs": [],
   "source": [
    "Tlj = sum(sum(T1_mat))/num_Scenarios"
   ]
  },
  {
   "cell_type": "code",
   "execution_count": 137,
   "id": "collect-watershed",
   "metadata": {},
   "outputs": [],
   "source": [
    "O = [\"L_\" + str(l) for l in range(Outsourced)]"
   ]
  },
  {
   "cell_type": "code",
   "execution_count": 138,
   "id": "solar-biotechnology",
   "metadata": {},
   "outputs": [],
   "source": [
    "Position_dic = {}\n",
    "Node_colors = []\n",
    "Edge_colors = []\n",
    "Weight = []\n",
    "Weight_lj = []\n",
    "Max_p = max(Outsourced, Distribution)"
   ]
  },
  {
   "cell_type": "code",
   "execution_count": 139,
   "id": "bronze-broadcast",
   "metadata": {},
   "outputs": [
    {
     "name": "stderr",
     "output_type": "stream",
     "text": [
      "C:\\Users\\Devika Kabe\\Anaconda3\\lib\\site-packages\\ipykernel_launcher.py:47: MatplotlibDeprecationWarning: Adding an axes using the same arguments as a previous axes currently reuses the earlier instance.  In a future version, a new instance will always be created and returned.  Meanwhile, this warning can be suppressed, and the future behavior ensured, by passing a unique label to each axes instance.\n"
     ]
    },
    {
     "data": {
      "image/png": "[encoded data removed]",
      "text/plain": [
       "<Figure size 1440x1080 with 1 Axes>"
      ]
     },
     "metadata": {},
     "output_type": "display_data"
    }
   ],
   "source": [
    "LJ_edges = []\n",
    "for l in range(Outsourced):\n",
    "    for j in range(Distribution):\n",
    "        #if Tlj[l][j] > 0:\n",
    "        LJ_edges.append((\"L_\" + str(l), \"J_\" + str(j)))    \n",
    "Weight_lj.extend(Tlj.sum(axis = 1))\n",
    "\n",
    "Weight.extend([3*Tlj[l][j]/max(Weight_lj) for l in range(Outsourced) for j in range(Distribution)])\n",
    "            \n",
    "Labels = []\n",
    "Graph = nx.Graph()\n",
    "\n",
    "Position_values = []\n",
    "y_pos = np.linspace(0, Max_p, Outsourced)\n",
    "for l in range(Outsourced):\n",
    "    position = (0, y_pos[l])\n",
    "    Graph.add_node(O[l])\n",
    "    Node_colors.append('teal')\n",
    "    Labels.append(\"l\" + str(l))\n",
    "    Position_values.append(np.asarray(position))\n",
    "Position_dic = dict(zip(O, Position_values))\n",
    "\n",
    "Position_values = []\n",
    "y_pos = np.linspace(0, Max_p, Distribution)\n",
    "for j in range(Distribution):\n",
    "    position = (1, y_pos[j])\n",
    "    Graph.add_node(DC[j])\n",
    "    Node_colors.append('red')\n",
    "    Labels.append(\"j\" + str(j))\n",
    "    Position_values.append(np.asarray(position))\n",
    "Position_dic.update(dict(zip(DC, Position_values)))\n",
    "\n",
    "\n",
    "# Add edges\n",
    "Graph.add_edges_from(LJ_edges)\n",
    "Edge_colors.extend(['tan' for l in LJ_edges])\n",
    "\n",
    "nodePos = nx.shell_layout(Graph)\n",
    "nx.draw_networkx(Graph, with_labels = False, node_color = Node_colors, edge_color = Edge_colors, pos = Position_dic, width = Weight)\n",
    "\n",
    "limits=plt.axis('off')\n",
    "plt.gcf().set_size_inches(20, 15)\n",
    "\n",
    "lengend_o = mpatches.Patch(color = 'teal', label = 'Outsourced Facilities')\n",
    "lengend_dc = mpatches.Patch(color = 'red', label = 'Distribution Centres')\n",
    "\n",
    "ax = plt.subplot(111)\n",
    "ax.legend(loc = 'lower center', handles=[lengend_o, lengend_dc], ncol = 2, borderpad=1)\n",
    "\n",
    "plt.show()\n"
   ]
  },
  {
   "cell_type": "code",
   "execution_count": 140,
   "id": "rocky-jamaica",
   "metadata": {},
   "outputs": [],
   "source": [
    "# Outsource -> Market Zone"
   ]
  },
  {
   "cell_type": "code",
   "execution_count": 141,
   "id": "virgin-trigger",
   "metadata": {},
   "outputs": [],
   "source": [
    "T2 = grbModel.getAttr('x', T_lkm)"
   ]
  },
  {
   "cell_type": "code",
   "execution_count": 142,
   "id": "complex-values",
   "metadata": {},
   "outputs": [],
   "source": [
    "T2_mat = np.array(list(T2.values())).reshape(num_Scenarios, Products, Outsourced, Market)"
   ]
  },
  {
   "cell_type": "code",
   "execution_count": 143,
   "id": "turkish-conducting",
   "metadata": {},
   "outputs": [],
   "source": [
    "Tlk = sum(sum(T2_mat))/num_Scenarios"
   ]
  },
  {
   "cell_type": "code",
   "execution_count": 144,
   "id": "loving-pitch",
   "metadata": {},
   "outputs": [],
   "source": [
    "Position_dic = {}\n",
    "Node_colors = []\n",
    "Edge_colors = []\n",
    "Weight = []\n",
    "Weight_lk = []\n",
    "Max_p = max(Outsourced, Market)"
   ]
  },
  {
   "cell_type": "code",
   "execution_count": 145,
   "id": "refined-cycling",
   "metadata": {},
   "outputs": [
    {
     "name": "stderr",
     "output_type": "stream",
     "text": [
      "C:\\Users\\Devika Kabe\\Anaconda3\\lib\\site-packages\\ipykernel_launcher.py:47: MatplotlibDeprecationWarning: Adding an axes using the same arguments as a previous axes currently reuses the earlier instance.  In a future version, a new instance will always be created and returned.  Meanwhile, this warning can be suppressed, and the future behavior ensured, by passing a unique label to each axes instance.\n"
     ]
    },
    {
     "data": {
      "image/png": "[encoded data removed]",
      "text/plain": [
       "<Figure size 1440x1080 with 1 Axes>"
      ]
     },
     "metadata": {},
     "output_type": "display_data"
    }
   ],
   "source": [
    "LK_edges = []\n",
    "for l in range(Outsourced):\n",
    "    for k in range(Market):\n",
    "        #if Tlk[l][k] > 0:\n",
    "        LK_edges.append((\"L_\" + str(l), \"K_\" + str(k)))    \n",
    "Weight_lk.extend(Tlk.sum(axis = 1))\n",
    "\n",
    "Weight.extend([4*Tlk[l][k]/max(Weight_lk) for l in range(Outsourced) for k in range(Market)])\n",
    "            \n",
    "Labels = []\n",
    "Graph = nx.Graph()\n",
    "\n",
    "Position_values = []\n",
    "y_pos = np.linspace(0, Max_p, Outsourced)\n",
    "for l in range(Outsourced):\n",
    "    position = (0, y_pos[l])\n",
    "    Graph.add_node(O[l])\n",
    "    Node_colors.append('teal')\n",
    "    Labels.append(\"l\" + str(l))\n",
    "    Position_values.append(np.asarray(position))\n",
    "Position_dic = dict(zip(O, Position_values))\n",
    "\n",
    "Position_values = []\n",
    "y_pos = np.linspace(0, Max_p, Market)\n",
    "for k in range(Market):\n",
    "    position = (1, y_pos[k])\n",
    "    Graph.add_node(MZ[k])\n",
    "    Node_colors.append('purple')\n",
    "    Labels.append(\"k\" + str(k))\n",
    "    Position_values.append(np.asarray(position))\n",
    "Position_dic.update(dict(zip(MZ, Position_values)))\n",
    "\n",
    "\n",
    "# Add edges\n",
    "Graph.add_edges_from(LK_edges)\n",
    "Edge_colors.extend(['tan' for l in LK_edges])\n",
    "\n",
    "nodePos = nx.shell_layout(Graph)\n",
    "nx.draw_networkx(Graph, with_labels = False, node_color = Node_colors, edge_color = Edge_colors, pos = Position_dic, width = Weight)\n",
    "\n",
    "limits=plt.axis('off')\n",
    "plt.gcf().set_size_inches(20, 15)\n",
    "\n",
    "lengend_o = mpatches.Patch(color = 'teal', label = 'Outsourced Facilities')\n",
    "lengend_dc = mpatches.Patch(color = 'purple', label = 'Market Zones')\n",
    "\n",
    "ax = plt.subplot(111)\n",
    "ax.legend(loc = 'lower center', handles=[lengend_o, lengend_dc], ncol = 2, borderpad=1)\n",
    "\n",
    "plt.show()"
   ]
  },
  {
   "cell_type": "markdown",
   "id": "neural-hybrid",
   "metadata": {},
   "source": [
    "## Comparing different weights for objective values "
   ]
  },
  {
   "cell_type": "code",
   "execution_count": 98,
   "id": "coral-rider",
   "metadata": {},
   "outputs": [],
   "source": [
    "dictionaries = []\n",
    "for weights in weights_20:\n",
    "    dictionary = {'f1': weights[0], 'f2': weights[1]}\n",
    "    dictionaries.append(dictionary)"
   ]
  },
  {
   "cell_type": "code",
   "execution_count": 99,
   "id": "foster-satellite",
   "metadata": {},
   "outputs": [
    {
     "data": {
      "text/plain": [
       "[{'f1': 0.0, 'f2': 1.0},\n",
       " {'f1': 0.05, 'f2': 0.95},\n",
       " {'f1': 0.1, 'f2': 0.9},\n",
       " {'f1': 0.15, 'f2': 0.85},\n",
       " {'f1': 0.2, 'f2': 0.8},\n",
       " {'f1': 0.25, 'f2': 0.75},\n",
       " {'f1': 0.3, 'f2': 0.7},\n",
       " {'f1': 0.35, 'f2': 0.65},\n",
       " {'f1': 0.4, 'f2': 0.6},\n",
       " {'f1': 0.45, 'f2': 0.55},\n",
       " {'f1': 0.5, 'f2': 0.5},\n",
       " {'f1': 0.55, 'f2': 0.45},\n",
       " {'f1': 0.6, 'f2': 0.4},\n",
       " {'f1': 0.65, 'f2': 0.35},\n",
       " {'f1': 0.7, 'f2': 0.3},\n",
       " {'f1': 0.75, 'f2': 0.25},\n",
       " {'f1': 0.8, 'f2': 0.2},\n",
       " {'f1': 0.85, 'f2': 0.15},\n",
       " {'f1': 0.9, 'f2': 0.1},\n",
       " {'f1': 0.95, 'f2': 0.05},\n",
       " {'f1': 1.0, 'f2': 0.0}]"
      ]
     },
     "execution_count": 99,
     "metadata": {},
     "output_type": "execute_result"
    }
   ],
   "source": [
    "dictionaries"
   ]
  },
  {
   "cell_type": "code",
   "execution_count": 100,
   "id": "dietary-liberia",
   "metadata": {},
   "outputs": [
    {
     "name": "stdout",
     "output_type": "stream",
     "text": [
      "obj val:  0.0\n",
      "obj val:  22434.77919345548\n",
      "obj val:  31082.3679107205\n",
      "obj val:  39729.956627985426\n",
      "obj val:  48377.54534525051\n",
      "obj val:  57025.134062515484\n",
      "obj val:  65672.72277978038\n",
      "obj val:  74320.3114970455\n",
      "obj val:  82967.90021431056\n",
      "obj val:  91615.48893157553\n",
      "obj val:  100263.0776488405\n",
      "obj val:  108910.66636610545\n",
      "obj val:  117558.25508337037\n",
      "obj val:  125887.2871992049\n",
      "obj val:  133053.73882159978\n",
      "obj val:  138182.5272443279\n",
      "obj val:  142243.5446142882\n",
      "obj val:  145699.95835996154\n",
      "obj val:  148192.5865473386\n",
      "obj val:  149881.1327917524\n",
      "obj val:  150825.70475700506\n"
     ]
    }
   ],
   "source": [
    "## Configuration 1 \n",
    "p = 0.4\n",
    "rl = 0.99\n",
    "objective_vals = []\n",
    "for Dict in dictionaries:\n",
    "    run_Model(p, rl, Dict)\n",
    "    objective_vals.append([Dict['f1'], Dict['f2'], Cost_dict['f1'], Cost_dict['f2'], Summary_dict[\"OpenMPs\"], Summary_dict[\"OpenDCs\"]])"
   ]
  },
  {
   "cell_type": "code",
   "execution_count": 101,
   "id": "agreed-optics",
   "metadata": {
    "scrolled": true
   },
   "outputs": [
    {
     "data": {
      "text/html": [
       "<div>\n",
       "<style scoped>\n",
       "    .dataframe tbody tr th:only-of-type {\n",
       "        vertical-align: middle;\n",
       "    }\n",
       "\n",
       "    .dataframe tbody tr th {\n",
       "        vertical-align: top;\n",
       "    }\n",
       "\n",
       "    .dataframe thead th {\n",
       "        text-align: right;\n",
       "    }\n",
       "</style>\n",
       "<table border=\"1\" class=\"dataframe\">\n",
       "  <thead>\n",
       "    <tr style=\"text-align: right;\">\n",
       "      <th></th>\n",
       "      <th>f1 weight</th>\n",
       "      <th>f2 weight</th>\n",
       "      <th>f1</th>\n",
       "      <th>f2</th>\n",
       "      <th>Plants</th>\n",
       "      <th>DCs</th>\n",
       "    </tr>\n",
       "  </thead>\n",
       "  <tbody>\n",
       "    <tr>\n",
       "      <th>0</th>\n",
       "      <td>0.00</td>\n",
       "      <td>1.00</td>\n",
       "      <td>3.503295e+08</td>\n",
       "      <td>0.0</td>\n",
       "      <td>2.0</td>\n",
       "      <td>3.0</td>\n",
       "    </tr>\n",
       "    <tr>\n",
       "      <th>1</th>\n",
       "      <td>0.05</td>\n",
       "      <td>0.95</td>\n",
       "      <td>1.867390e+05</td>\n",
       "      <td>13787.0</td>\n",
       "      <td>2.0</td>\n",
       "      <td>3.0</td>\n",
       "    </tr>\n",
       "    <tr>\n",
       "      <th>2</th>\n",
       "      <td>0.10</td>\n",
       "      <td>0.90</td>\n",
       "      <td>1.867390e+05</td>\n",
       "      <td>13787.0</td>\n",
       "      <td>2.0</td>\n",
       "      <td>3.0</td>\n",
       "    </tr>\n",
       "    <tr>\n",
       "      <th>3</th>\n",
       "      <td>0.15</td>\n",
       "      <td>0.85</td>\n",
       "      <td>1.867389e+05</td>\n",
       "      <td>13787.0</td>\n",
       "      <td>2.0</td>\n",
       "      <td>3.0</td>\n",
       "    </tr>\n",
       "    <tr>\n",
       "      <th>4</th>\n",
       "      <td>0.20</td>\n",
       "      <td>0.80</td>\n",
       "      <td>1.867390e+05</td>\n",
       "      <td>13787.0</td>\n",
       "      <td>2.0</td>\n",
       "      <td>3.0</td>\n",
       "    </tr>\n",
       "    <tr>\n",
       "      <th>5</th>\n",
       "      <td>0.25</td>\n",
       "      <td>0.75</td>\n",
       "      <td>1.867390e+05</td>\n",
       "      <td>13787.0</td>\n",
       "      <td>2.0</td>\n",
       "      <td>3.0</td>\n",
       "    </tr>\n",
       "    <tr>\n",
       "      <th>6</th>\n",
       "      <td>0.30</td>\n",
       "      <td>0.70</td>\n",
       "      <td>1.867390e+05</td>\n",
       "      <td>13787.0</td>\n",
       "      <td>2.0</td>\n",
       "      <td>3.0</td>\n",
       "    </tr>\n",
       "    <tr>\n",
       "      <th>7</th>\n",
       "      <td>0.35</td>\n",
       "      <td>0.65</td>\n",
       "      <td>1.867390e+05</td>\n",
       "      <td>13787.0</td>\n",
       "      <td>2.0</td>\n",
       "      <td>3.0</td>\n",
       "    </tr>\n",
       "    <tr>\n",
       "      <th>8</th>\n",
       "      <td>0.40</td>\n",
       "      <td>0.60</td>\n",
       "      <td>1.867390e+05</td>\n",
       "      <td>13787.0</td>\n",
       "      <td>2.0</td>\n",
       "      <td>3.0</td>\n",
       "    </tr>\n",
       "    <tr>\n",
       "      <th>9</th>\n",
       "      <td>0.45</td>\n",
       "      <td>0.55</td>\n",
       "      <td>1.867389e+05</td>\n",
       "      <td>13787.0</td>\n",
       "      <td>2.0</td>\n",
       "      <td>3.0</td>\n",
       "    </tr>\n",
       "    <tr>\n",
       "      <th>10</th>\n",
       "      <td>0.50</td>\n",
       "      <td>0.50</td>\n",
       "      <td>1.867390e+05</td>\n",
       "      <td>13787.0</td>\n",
       "      <td>2.0</td>\n",
       "      <td>3.0</td>\n",
       "    </tr>\n",
       "    <tr>\n",
       "      <th>11</th>\n",
       "      <td>0.55</td>\n",
       "      <td>0.45</td>\n",
       "      <td>1.867390e+05</td>\n",
       "      <td>13787.0</td>\n",
       "      <td>2.0</td>\n",
       "      <td>3.0</td>\n",
       "    </tr>\n",
       "    <tr>\n",
       "      <th>12</th>\n",
       "      <td>0.60</td>\n",
       "      <td>0.40</td>\n",
       "      <td>1.867389e+05</td>\n",
       "      <td>13787.0</td>\n",
       "      <td>2.0</td>\n",
       "      <td>3.0</td>\n",
       "    </tr>\n",
       "    <tr>\n",
       "      <th>13</th>\n",
       "      <td>0.65</td>\n",
       "      <td>0.35</td>\n",
       "      <td>1.818578e+05</td>\n",
       "      <td>21942.0</td>\n",
       "      <td>2.0</td>\n",
       "      <td>3.0</td>\n",
       "    </tr>\n",
       "    <tr>\n",
       "      <th>14</th>\n",
       "      <td>0.70</td>\n",
       "      <td>0.30</td>\n",
       "      <td>1.706402e+05</td>\n",
       "      <td>45352.0</td>\n",
       "      <td>2.0</td>\n",
       "      <td>3.0</td>\n",
       "    </tr>\n",
       "    <tr>\n",
       "      <th>15</th>\n",
       "      <td>0.75</td>\n",
       "      <td>0.25</td>\n",
       "      <td>1.595273e+05</td>\n",
       "      <td>74148.0</td>\n",
       "      <td>2.0</td>\n",
       "      <td>3.0</td>\n",
       "    </tr>\n",
       "    <tr>\n",
       "      <th>16</th>\n",
       "      <td>0.80</td>\n",
       "      <td>0.20</td>\n",
       "      <td>1.563815e+05</td>\n",
       "      <td>85691.0</td>\n",
       "      <td>2.0</td>\n",
       "      <td>3.0</td>\n",
       "    </tr>\n",
       "    <tr>\n",
       "      <th>17</th>\n",
       "      <td>0.85</td>\n",
       "      <td>0.15</td>\n",
       "      <td>1.548953e+05</td>\n",
       "      <td>93592.0</td>\n",
       "      <td>2.0</td>\n",
       "      <td>3.0</td>\n",
       "    </tr>\n",
       "    <tr>\n",
       "      <th>18</th>\n",
       "      <td>0.90</td>\n",
       "      <td>0.10</td>\n",
       "      <td>1.522679e+05</td>\n",
       "      <td>111514.0</td>\n",
       "      <td>2.0</td>\n",
       "      <td>3.0</td>\n",
       "    </tr>\n",
       "    <tr>\n",
       "      <th>19</th>\n",
       "      <td>0.95</td>\n",
       "      <td>0.05</td>\n",
       "      <td>1.512289e+05</td>\n",
       "      <td>124271.0</td>\n",
       "      <td>2.0</td>\n",
       "      <td>3.0</td>\n",
       "    </tr>\n",
       "    <tr>\n",
       "      <th>20</th>\n",
       "      <td>1.00</td>\n",
       "      <td>0.00</td>\n",
       "      <td>1.508255e+05</td>\n",
       "      <td>192408.0</td>\n",
       "      <td>2.0</td>\n",
       "      <td>3.0</td>\n",
       "    </tr>\n",
       "  </tbody>\n",
       "</table>\n",
       "</div>"
      ],
      "text/plain": [
       "    f1 weight  f2 weight            f1        f2  Plants  DCs\n",
       "0        0.00       1.00  3.503295e+08       0.0     2.0  3.0\n",
       "1        0.05       0.95  1.867390e+05   13787.0     2.0  3.0\n",
       "2        0.10       0.90  1.867390e+05   13787.0     2.0  3.0\n",
       "3        0.15       0.85  1.867389e+05   13787.0     2.0  3.0\n",
       "4        0.20       0.80  1.867390e+05   13787.0     2.0  3.0\n",
       "5        0.25       0.75  1.867390e+05   13787.0     2.0  3.0\n",
       "6        0.30       0.70  1.867390e+05   13787.0     2.0  3.0\n",
       "7        0.35       0.65  1.867390e+05   13787.0     2.0  3.0\n",
       "8        0.40       0.60  1.867390e+05   13787.0     2.0  3.0\n",
       "9        0.45       0.55  1.867389e+05   13787.0     2.0  3.0\n",
       "10       0.50       0.50  1.867390e+05   13787.0     2.0  3.0\n",
       "11       0.55       0.45  1.867390e+05   13787.0     2.0  3.0\n",
       "12       0.60       0.40  1.867389e+05   13787.0     2.0  3.0\n",
       "13       0.65       0.35  1.818578e+05   21942.0     2.0  3.0\n",
       "14       0.70       0.30  1.706402e+05   45352.0     2.0  3.0\n",
       "15       0.75       0.25  1.595273e+05   74148.0     2.0  3.0\n",
       "16       0.80       0.20  1.563815e+05   85691.0     2.0  3.0\n",
       "17       0.85       0.15  1.548953e+05   93592.0     2.0  3.0\n",
       "18       0.90       0.10  1.522679e+05  111514.0     2.0  3.0\n",
       "19       0.95       0.05  1.512289e+05  124271.0     2.0  3.0\n",
       "20       1.00       0.00  1.508255e+05  192408.0     2.0  3.0"
      ]
     },
     "execution_count": 101,
     "metadata": {},
     "output_type": "execute_result"
    }
   ],
   "source": [
    "df_1 = pd.DataFrame((objective_vals), columns = [\"f1 weight\", \"f2 weight\", \"f1\", \"f2\", \"Plants\", \"DCs\"])\n",
    "df_1"
   ]
  },
  {
   "cell_type": "code",
   "execution_count": 102,
   "id": "wicked-rouge",
   "metadata": {},
   "outputs": [],
   "source": [
    "f2_1 = list(df_1['f2'])\n",
    "f1_1 = list(df_1['f1'])"
   ]
  },
  {
   "cell_type": "code",
   "execution_count": 103,
   "id": "appropriate-geography",
   "metadata": {},
   "outputs": [
    {
     "data": {
      "image/png": "[encoded data removed]",
      "text/plain": [
       "<Figure size 432x288 with 1 Axes>"
      ]
     },
     "metadata": {
      "needs_background": "light"
     },
     "output_type": "display_data"
    }
   ],
   "source": [
    "plt.scatter(f2_1[1:], f1_1[1:])\n",
    "plt.xlabel('f2 (Demand Penalties)')\n",
    "plt.ylabel('f1 (Cost)')\n",
    "plt.show()"
   ]
  },
  {
   "cell_type": "code",
   "execution_count": 104,
   "id": "historical-surveillance",
   "metadata": {},
   "outputs": [
    {
     "name": "stdout",
     "output_type": "stream",
     "text": [
      "obj val:  0.0\n",
      "obj val:  10062.846423136196\n",
      "obj val:  19167.073798653357\n",
      "obj val:  28271.301174170483\n",
      "obj val:  37375.52854968767\n",
      "obj val:  46479.75592520472\n",
      "obj val:  55583.98330072191\n",
      "obj val:  64688.210676239076\n",
      "obj val:  73792.43805175627\n",
      "obj val:  82896.66542727333\n",
      "obj val:  92000.89280279062\n",
      "obj val:  101105.1201783077\n",
      "obj val:  110192.07104063725\n",
      "obj val:  119263.93976760471\n",
      "obj val:  127851.36542797304\n",
      "obj val:  134862.66854587695\n",
      "obj val:  139795.82236563571\n",
      "obj val:  143739.18545790392\n",
      "obj val:  147152.27945507297\n",
      "obj val:  149398.22563840513\n",
      "obj val:  150825.70475700515\n"
     ]
    }
   ],
   "source": [
    "## Configuration 2 \n",
    "p = 0.4\n",
    "rl = 0.8\n",
    "objective_vals = []\n",
    "for Dict in dictionaries:\n",
    "    run_Model(p, rl, Dict)\n",
    "    objective_vals.append([Dict['f1'], Dict['f2'], Cost_dict['f1'], Cost_dict['f2'], Summary_dict[\"OpenMPs\"], Summary_dict[\"OpenDCs\"]])"
   ]
  },
  {
   "cell_type": "code",
   "execution_count": 105,
   "id": "administrative-result",
   "metadata": {},
   "outputs": [
    {
     "data": {
      "text/html": [
       "<div>\n",
       "<style scoped>\n",
       "    .dataframe tbody tr th:only-of-type {\n",
       "        vertical-align: middle;\n",
       "    }\n",
       "\n",
       "    .dataframe tbody tr th {\n",
       "        vertical-align: top;\n",
       "    }\n",
       "\n",
       "    .dataframe thead th {\n",
       "        text-align: right;\n",
       "    }\n",
       "</style>\n",
       "<table border=\"1\" class=\"dataframe\">\n",
       "  <thead>\n",
       "    <tr style=\"text-align: right;\">\n",
       "      <th></th>\n",
       "      <th>f1 weight</th>\n",
       "      <th>f2 weight</th>\n",
       "      <th>f1</th>\n",
       "      <th>f2</th>\n",
       "      <th>Plants</th>\n",
       "      <th>DCs</th>\n",
       "    </tr>\n",
       "  </thead>\n",
       "  <tbody>\n",
       "    <tr>\n",
       "      <th>0</th>\n",
       "      <td>0.00</td>\n",
       "      <td>1.00</td>\n",
       "      <td>3.686737e+08</td>\n",
       "      <td>0.0</td>\n",
       "      <td>2.0</td>\n",
       "      <td>3.0</td>\n",
       "    </tr>\n",
       "    <tr>\n",
       "      <th>1</th>\n",
       "      <td>0.05</td>\n",
       "      <td>0.95</td>\n",
       "      <td>1.830430e+05</td>\n",
       "      <td>959.0</td>\n",
       "      <td>2.0</td>\n",
       "      <td>3.0</td>\n",
       "    </tr>\n",
       "    <tr>\n",
       "      <th>2</th>\n",
       "      <td>0.10</td>\n",
       "      <td>0.90</td>\n",
       "      <td>1.830430e+05</td>\n",
       "      <td>959.0</td>\n",
       "      <td>2.0</td>\n",
       "      <td>3.0</td>\n",
       "    </tr>\n",
       "    <tr>\n",
       "      <th>3</th>\n",
       "      <td>0.15</td>\n",
       "      <td>0.85</td>\n",
       "      <td>1.830430e+05</td>\n",
       "      <td>959.0</td>\n",
       "      <td>2.0</td>\n",
       "      <td>3.0</td>\n",
       "    </tr>\n",
       "    <tr>\n",
       "      <th>4</th>\n",
       "      <td>0.20</td>\n",
       "      <td>0.80</td>\n",
       "      <td>1.830430e+05</td>\n",
       "      <td>959.0</td>\n",
       "      <td>2.0</td>\n",
       "      <td>3.0</td>\n",
       "    </tr>\n",
       "    <tr>\n",
       "      <th>5</th>\n",
       "      <td>0.25</td>\n",
       "      <td>0.75</td>\n",
       "      <td>1.830430e+05</td>\n",
       "      <td>959.0</td>\n",
       "      <td>2.0</td>\n",
       "      <td>3.0</td>\n",
       "    </tr>\n",
       "    <tr>\n",
       "      <th>6</th>\n",
       "      <td>0.30</td>\n",
       "      <td>0.70</td>\n",
       "      <td>1.830430e+05</td>\n",
       "      <td>959.0</td>\n",
       "      <td>2.0</td>\n",
       "      <td>3.0</td>\n",
       "    </tr>\n",
       "    <tr>\n",
       "      <th>7</th>\n",
       "      <td>0.35</td>\n",
       "      <td>0.65</td>\n",
       "      <td>1.830430e+05</td>\n",
       "      <td>959.0</td>\n",
       "      <td>2.0</td>\n",
       "      <td>3.0</td>\n",
       "    </tr>\n",
       "    <tr>\n",
       "      <th>8</th>\n",
       "      <td>0.40</td>\n",
       "      <td>0.60</td>\n",
       "      <td>1.830430e+05</td>\n",
       "      <td>959.0</td>\n",
       "      <td>2.0</td>\n",
       "      <td>3.0</td>\n",
       "    </tr>\n",
       "    <tr>\n",
       "      <th>9</th>\n",
       "      <td>0.45</td>\n",
       "      <td>0.55</td>\n",
       "      <td>1.830431e+05</td>\n",
       "      <td>959.0</td>\n",
       "      <td>2.0</td>\n",
       "      <td>3.0</td>\n",
       "    </tr>\n",
       "    <tr>\n",
       "      <th>10</th>\n",
       "      <td>0.50</td>\n",
       "      <td>0.50</td>\n",
       "      <td>1.830430e+05</td>\n",
       "      <td>959.0</td>\n",
       "      <td>2.0</td>\n",
       "      <td>3.0</td>\n",
       "    </tr>\n",
       "    <tr>\n",
       "      <th>11</th>\n",
       "      <td>0.55</td>\n",
       "      <td>0.45</td>\n",
       "      <td>1.830431e+05</td>\n",
       "      <td>959.0</td>\n",
       "      <td>2.0</td>\n",
       "      <td>3.0</td>\n",
       "    </tr>\n",
       "    <tr>\n",
       "      <th>12</th>\n",
       "      <td>0.60</td>\n",
       "      <td>0.40</td>\n",
       "      <td>1.828302e+05</td>\n",
       "      <td>1235.0</td>\n",
       "      <td>2.0</td>\n",
       "      <td>3.0</td>\n",
       "    </tr>\n",
       "    <tr>\n",
       "      <th>13</th>\n",
       "      <td>0.65</td>\n",
       "      <td>0.35</td>\n",
       "      <td>1.827580e+05</td>\n",
       "      <td>1346.0</td>\n",
       "      <td>2.0</td>\n",
       "      <td>3.0</td>\n",
       "    </tr>\n",
       "    <tr>\n",
       "      <th>14</th>\n",
       "      <td>0.70</td>\n",
       "      <td>0.30</td>\n",
       "      <td>1.725184e+05</td>\n",
       "      <td>23628.0</td>\n",
       "      <td>2.0</td>\n",
       "      <td>3.0</td>\n",
       "    </tr>\n",
       "    <tr>\n",
       "      <th>15</th>\n",
       "      <td>0.75</td>\n",
       "      <td>0.25</td>\n",
       "      <td>1.636240e+05</td>\n",
       "      <td>48579.0</td>\n",
       "      <td>2.0</td>\n",
       "      <td>3.0</td>\n",
       "    </tr>\n",
       "    <tr>\n",
       "      <th>16</th>\n",
       "      <td>0.80</td>\n",
       "      <td>0.20</td>\n",
       "      <td>1.571934e+05</td>\n",
       "      <td>70205.0</td>\n",
       "      <td>2.0</td>\n",
       "      <td>3.0</td>\n",
       "    </tr>\n",
       "    <tr>\n",
       "      <th>17</th>\n",
       "      <td>0.85</td>\n",
       "      <td>0.15</td>\n",
       "      <td>1.544486e+05</td>\n",
       "      <td>83052.0</td>\n",
       "      <td>2.0</td>\n",
       "      <td>3.0</td>\n",
       "    </tr>\n",
       "    <tr>\n",
       "      <th>18</th>\n",
       "      <td>0.90</td>\n",
       "      <td>0.10</td>\n",
       "      <td>1.530620e+05</td>\n",
       "      <td>93965.0</td>\n",
       "      <td>2.0</td>\n",
       "      <td>3.0</td>\n",
       "    </tr>\n",
       "    <tr>\n",
       "      <th>19</th>\n",
       "      <td>0.95</td>\n",
       "      <td>0.05</td>\n",
       "      <td>1.511429e+05</td>\n",
       "      <td>116250.0</td>\n",
       "      <td>2.0</td>\n",
       "      <td>3.0</td>\n",
       "    </tr>\n",
       "    <tr>\n",
       "      <th>20</th>\n",
       "      <td>1.00</td>\n",
       "      <td>0.00</td>\n",
       "      <td>1.508255e+05</td>\n",
       "      <td>192408.0</td>\n",
       "      <td>2.0</td>\n",
       "      <td>3.0</td>\n",
       "    </tr>\n",
       "  </tbody>\n",
       "</table>\n",
       "</div>"
      ],
      "text/plain": [
       "    f1 weight  f2 weight            f1        f2  Plants  DCs\n",
       "0        0.00       1.00  3.686737e+08       0.0     2.0  3.0\n",
       "1        0.05       0.95  1.830430e+05     959.0     2.0  3.0\n",
       "2        0.10       0.90  1.830430e+05     959.0     2.0  3.0\n",
       "3        0.15       0.85  1.830430e+05     959.0     2.0  3.0\n",
       "4        0.20       0.80  1.830430e+05     959.0     2.0  3.0\n",
       "5        0.25       0.75  1.830430e+05     959.0     2.0  3.0\n",
       "6        0.30       0.70  1.830430e+05     959.0     2.0  3.0\n",
       "7        0.35       0.65  1.830430e+05     959.0     2.0  3.0\n",
       "8        0.40       0.60  1.830430e+05     959.0     2.0  3.0\n",
       "9        0.45       0.55  1.830431e+05     959.0     2.0  3.0\n",
       "10       0.50       0.50  1.830430e+05     959.0     2.0  3.0\n",
       "11       0.55       0.45  1.830431e+05     959.0     2.0  3.0\n",
       "12       0.60       0.40  1.828302e+05    1235.0     2.0  3.0\n",
       "13       0.65       0.35  1.827580e+05    1346.0     2.0  3.0\n",
       "14       0.70       0.30  1.725184e+05   23628.0     2.0  3.0\n",
       "15       0.75       0.25  1.636240e+05   48579.0     2.0  3.0\n",
       "16       0.80       0.20  1.571934e+05   70205.0     2.0  3.0\n",
       "17       0.85       0.15  1.544486e+05   83052.0     2.0  3.0\n",
       "18       0.90       0.10  1.530620e+05   93965.0     2.0  3.0\n",
       "19       0.95       0.05  1.511429e+05  116250.0     2.0  3.0\n",
       "20       1.00       0.00  1.508255e+05  192408.0     2.0  3.0"
      ]
     },
     "execution_count": 105,
     "metadata": {},
     "output_type": "execute_result"
    }
   ],
   "source": [
    "df_2 = pd.DataFrame((objective_vals), columns = [\"f1 weight\", \"f2 weight\", \"f1\", \"f2\", \"Plants\", \"DCs\"])\n",
    "df_2"
   ]
  },
  {
   "cell_type": "code",
   "execution_count": 106,
   "id": "unavailable-engagement",
   "metadata": {},
   "outputs": [],
   "source": [
    "f2_2 = list(df_2['f2'])\n",
    "f1_2 = list(df_2['f1'])"
   ]
  },
  {
   "cell_type": "code",
   "execution_count": 107,
   "id": "conscious-watson",
   "metadata": {},
   "outputs": [
    {
     "data": {
      "image/png": "[encoded data removed]",
      "text/plain": [
       "<Figure size 432x288 with 1 Axes>"
      ]
     },
     "metadata": {
      "needs_background": "light"
     },
     "output_type": "display_data"
    }
   ],
   "source": [
    "plt.scatter(f2_2[1:],f1_2[1:])\n",
    "plt.xlabel('f2 (Demand Penalties)')\n",
    "plt.ylabel('f1 (Cost)')\n",
    "plt.show()"
   ]
  },
  {
   "cell_type": "code",
   "execution_count": 112,
   "id": "going-directory",
   "metadata": {},
   "outputs": [
    {
     "name": "stdout",
     "output_type": "stream",
     "text": [
      "obj val:  0.0\n",
      "obj val:  8610.974737976167\n",
      "obj val:  17221.949475952333\n",
      "obj val:  25832.92421392852\n",
      "obj val:  34443.898951904666\n",
      "obj val:  43054.87368988081\n",
      "obj val:  51665.84842785704\n",
      "obj val:  60276.823165833164\n",
      "obj val:  68887.7979038093\n",
      "obj val:  77498.77264178544\n",
      "obj val:  86109.74737976164\n",
      "obj val:  94720.7221177379\n",
      "obj val:  103331.69685571406\n",
      "obj val:  111942.67159369012\n",
      "obj val:  120553.64633166644\n",
      "obj val:  129162.05468290718\n",
      "obj val:  136324.9004641427\n",
      "obj val:  141557.32419504263\n",
      "obj val:  145663.62641050998\n",
      "obj val:  148936.34310725663\n",
      "obj val:  150825.7047570051\n"
     ]
    }
   ],
   "source": [
    "## Configuration 3\n",
    "p = 0.4\n",
    "rl = 0.6\n",
    "objective_vals = []\n",
    "for Dict in dictionaries:\n",
    "    run_Model(p, rl, Dict)\n",
    "    objective_vals.append([Dict['f1'], Dict['f2'], Cost_dict['f1'], Cost_dict['f2'], Summary_dict[\"OpenMPs\"], Summary_dict[\"OpenDCs\"]])"
   ]
  },
  {
   "cell_type": "code",
   "execution_count": 113,
   "id": "important-mexico",
   "metadata": {},
   "outputs": [
    {
     "data": {
      "text/html": [
       "<div>\n",
       "<style scoped>\n",
       "    .dataframe tbody tr th:only-of-type {\n",
       "        vertical-align: middle;\n",
       "    }\n",
       "\n",
       "    .dataframe tbody tr th {\n",
       "        vertical-align: top;\n",
       "    }\n",
       "\n",
       "    .dataframe thead th {\n",
       "        text-align: right;\n",
       "    }\n",
       "</style>\n",
       "<table border=\"1\" class=\"dataframe\">\n",
       "  <thead>\n",
       "    <tr style=\"text-align: right;\">\n",
       "      <th></th>\n",
       "      <th>f1 weight</th>\n",
       "      <th>f2 weight</th>\n",
       "      <th>f1</th>\n",
       "      <th>f2</th>\n",
       "      <th>Plants</th>\n",
       "      <th>DCs</th>\n",
       "    </tr>\n",
       "  </thead>\n",
       "  <tbody>\n",
       "    <tr>\n",
       "      <th>0</th>\n",
       "      <td>0.00</td>\n",
       "      <td>1.00</td>\n",
       "      <td>3.883732e+08</td>\n",
       "      <td>0.0</td>\n",
       "      <td>2.0</td>\n",
       "      <td>3.0</td>\n",
       "    </tr>\n",
       "    <tr>\n",
       "      <th>1</th>\n",
       "      <td>0.05</td>\n",
       "      <td>0.95</td>\n",
       "      <td>1.722195e+05</td>\n",
       "      <td>0.0</td>\n",
       "      <td>2.0</td>\n",
       "      <td>3.0</td>\n",
       "    </tr>\n",
       "    <tr>\n",
       "      <th>2</th>\n",
       "      <td>0.10</td>\n",
       "      <td>0.90</td>\n",
       "      <td>1.722195e+05</td>\n",
       "      <td>0.0</td>\n",
       "      <td>2.0</td>\n",
       "      <td>3.0</td>\n",
       "    </tr>\n",
       "    <tr>\n",
       "      <th>3</th>\n",
       "      <td>0.15</td>\n",
       "      <td>0.85</td>\n",
       "      <td>1.722195e+05</td>\n",
       "      <td>0.0</td>\n",
       "      <td>2.0</td>\n",
       "      <td>3.0</td>\n",
       "    </tr>\n",
       "    <tr>\n",
       "      <th>4</th>\n",
       "      <td>0.20</td>\n",
       "      <td>0.80</td>\n",
       "      <td>1.722195e+05</td>\n",
       "      <td>0.0</td>\n",
       "      <td>2.0</td>\n",
       "      <td>3.0</td>\n",
       "    </tr>\n",
       "    <tr>\n",
       "      <th>5</th>\n",
       "      <td>0.25</td>\n",
       "      <td>0.75</td>\n",
       "      <td>1.722195e+05</td>\n",
       "      <td>0.0</td>\n",
       "      <td>2.0</td>\n",
       "      <td>3.0</td>\n",
       "    </tr>\n",
       "    <tr>\n",
       "      <th>6</th>\n",
       "      <td>0.30</td>\n",
       "      <td>0.70</td>\n",
       "      <td>1.722195e+05</td>\n",
       "      <td>0.0</td>\n",
       "      <td>2.0</td>\n",
       "      <td>3.0</td>\n",
       "    </tr>\n",
       "    <tr>\n",
       "      <th>7</th>\n",
       "      <td>0.35</td>\n",
       "      <td>0.65</td>\n",
       "      <td>1.722195e+05</td>\n",
       "      <td>0.0</td>\n",
       "      <td>2.0</td>\n",
       "      <td>3.0</td>\n",
       "    </tr>\n",
       "    <tr>\n",
       "      <th>8</th>\n",
       "      <td>0.40</td>\n",
       "      <td>0.60</td>\n",
       "      <td>1.722195e+05</td>\n",
       "      <td>0.0</td>\n",
       "      <td>2.0</td>\n",
       "      <td>3.0</td>\n",
       "    </tr>\n",
       "    <tr>\n",
       "      <th>9</th>\n",
       "      <td>0.45</td>\n",
       "      <td>0.55</td>\n",
       "      <td>1.722196e+05</td>\n",
       "      <td>0.0</td>\n",
       "      <td>2.0</td>\n",
       "      <td>3.0</td>\n",
       "    </tr>\n",
       "    <tr>\n",
       "      <th>10</th>\n",
       "      <td>0.50</td>\n",
       "      <td>0.50</td>\n",
       "      <td>1.722195e+05</td>\n",
       "      <td>0.0</td>\n",
       "      <td>2.0</td>\n",
       "      <td>3.0</td>\n",
       "    </tr>\n",
       "    <tr>\n",
       "      <th>11</th>\n",
       "      <td>0.55</td>\n",
       "      <td>0.45</td>\n",
       "      <td>1.722195e+05</td>\n",
       "      <td>0.0</td>\n",
       "      <td>2.0</td>\n",
       "      <td>3.0</td>\n",
       "    </tr>\n",
       "    <tr>\n",
       "      <th>12</th>\n",
       "      <td>0.60</td>\n",
       "      <td>0.40</td>\n",
       "      <td>1.722196e+05</td>\n",
       "      <td>0.0</td>\n",
       "      <td>2.0</td>\n",
       "      <td>3.0</td>\n",
       "    </tr>\n",
       "    <tr>\n",
       "      <th>13</th>\n",
       "      <td>0.65</td>\n",
       "      <td>0.35</td>\n",
       "      <td>1.722195e+05</td>\n",
       "      <td>0.0</td>\n",
       "      <td>2.0</td>\n",
       "      <td>3.0</td>\n",
       "    </tr>\n",
       "    <tr>\n",
       "      <th>14</th>\n",
       "      <td>0.70</td>\n",
       "      <td>0.30</td>\n",
       "      <td>1.722195e+05</td>\n",
       "      <td>0.0</td>\n",
       "      <td>2.0</td>\n",
       "      <td>3.0</td>\n",
       "    </tr>\n",
       "    <tr>\n",
       "      <th>15</th>\n",
       "      <td>0.75</td>\n",
       "      <td>0.25</td>\n",
       "      <td>1.721115e+05</td>\n",
       "      <td>314.0</td>\n",
       "      <td>2.0</td>\n",
       "      <td>3.0</td>\n",
       "    </tr>\n",
       "    <tr>\n",
       "      <th>16</th>\n",
       "      <td>0.80</td>\n",
       "      <td>0.20</td>\n",
       "      <td>1.623070e+05</td>\n",
       "      <td>32396.0</td>\n",
       "      <td>2.0</td>\n",
       "      <td>3.0</td>\n",
       "    </tr>\n",
       "    <tr>\n",
       "      <th>17</th>\n",
       "      <td>0.85</td>\n",
       "      <td>0.15</td>\n",
       "      <td>1.555289e+05</td>\n",
       "      <td>62384.0</td>\n",
       "      <td>2.0</td>\n",
       "      <td>3.0</td>\n",
       "    </tr>\n",
       "    <tr>\n",
       "      <th>18</th>\n",
       "      <td>0.90</td>\n",
       "      <td>0.10</td>\n",
       "      <td>1.532579e+05</td>\n",
       "      <td>77314.0</td>\n",
       "      <td>2.0</td>\n",
       "      <td>3.0</td>\n",
       "    </tr>\n",
       "    <tr>\n",
       "      <th>19</th>\n",
       "      <td>0.95</td>\n",
       "      <td>0.05</td>\n",
       "      <td>1.512121e+05</td>\n",
       "      <td>105696.0</td>\n",
       "      <td>2.0</td>\n",
       "      <td>3.0</td>\n",
       "    </tr>\n",
       "    <tr>\n",
       "      <th>20</th>\n",
       "      <td>1.00</td>\n",
       "      <td>0.00</td>\n",
       "      <td>1.508255e+05</td>\n",
       "      <td>192408.0</td>\n",
       "      <td>2.0</td>\n",
       "      <td>3.0</td>\n",
       "    </tr>\n",
       "  </tbody>\n",
       "</table>\n",
       "</div>"
      ],
      "text/plain": [
       "    f1 weight  f2 weight            f1        f2  Plants  DCs\n",
       "0        0.00       1.00  3.883732e+08       0.0     2.0  3.0\n",
       "1        0.05       0.95  1.722195e+05       0.0     2.0  3.0\n",
       "2        0.10       0.90  1.722195e+05       0.0     2.0  3.0\n",
       "3        0.15       0.85  1.722195e+05       0.0     2.0  3.0\n",
       "4        0.20       0.80  1.722195e+05       0.0     2.0  3.0\n",
       "5        0.25       0.75  1.722195e+05       0.0     2.0  3.0\n",
       "6        0.30       0.70  1.722195e+05       0.0     2.0  3.0\n",
       "7        0.35       0.65  1.722195e+05       0.0     2.0  3.0\n",
       "8        0.40       0.60  1.722195e+05       0.0     2.0  3.0\n",
       "9        0.45       0.55  1.722196e+05       0.0     2.0  3.0\n",
       "10       0.50       0.50  1.722195e+05       0.0     2.0  3.0\n",
       "11       0.55       0.45  1.722195e+05       0.0     2.0  3.0\n",
       "12       0.60       0.40  1.722196e+05       0.0     2.0  3.0\n",
       "13       0.65       0.35  1.722195e+05       0.0     2.0  3.0\n",
       "14       0.70       0.30  1.722195e+05       0.0     2.0  3.0\n",
       "15       0.75       0.25  1.721115e+05     314.0     2.0  3.0\n",
       "16       0.80       0.20  1.623070e+05   32396.0     2.0  3.0\n",
       "17       0.85       0.15  1.555289e+05   62384.0     2.0  3.0\n",
       "18       0.90       0.10  1.532579e+05   77314.0     2.0  3.0\n",
       "19       0.95       0.05  1.512121e+05  105696.0     2.0  3.0\n",
       "20       1.00       0.00  1.508255e+05  192408.0     2.0  3.0"
      ]
     },
     "execution_count": 113,
     "metadata": {},
     "output_type": "execute_result"
    }
   ],
   "source": [
    "df_3 = pd.DataFrame((objective_vals), columns = [\"f1 weight\", \"f2 weight\", \"f1\", \"f2\", \"Plants\", \"DCs\"])\n",
    "df_3"
   ]
  },
  {
   "cell_type": "code",
   "execution_count": 114,
   "id": "strong-freedom",
   "metadata": {},
   "outputs": [],
   "source": [
    "f2_3 = list(df_3['f2'])\n",
    "f1_3 = list(df_3['f1'])"
   ]
  },
  {
   "cell_type": "code",
   "execution_count": 115,
   "id": "classical-transparency",
   "metadata": {},
   "outputs": [
    {
     "data": {
      "image/png": "[encoded data removed]",
      "text/plain": [
       "<Figure size 432x288 with 1 Axes>"
      ]
     },
     "metadata": {
      "needs_background": "light"
     },
     "output_type": "display_data"
    }
   ],
   "source": [
    "plt.scatter(f2_3[1:], f1_3[1:])\n",
    "plt.xlabel('f2 (Demand Penalties)')\n",
    "plt.ylabel('f1 (Cost)')\n",
    "plt.show()"
   ]
  },
  {
   "cell_type": "code",
   "execution_count": 116,
   "id": "amazing-encounter",
   "metadata": {},
   "outputs": [
    {
     "data": {
      "image/png": "[encoded data removed]",
      "text/plain": [
       "<Figure size 432x288 with 1 Axes>"
      ]
     },
     "metadata": {
      "needs_background": "light"
     },
     "output_type": "display_data"
    }
   ],
   "source": [
    "fig = plt.figure()\n",
    "ax1 = fig.add_subplot(111)\n",
    "\n",
    "ax1.scatter(f2_1[1:], f1_1[1:], s=10, c='b', marker=\"o\", label='p =0.4, gamma = 0.99')\n",
    "ax1.scatter(f2_2[1:], f1_2[1:], s=10, c='r', marker=\"o\", label='p = 0.4, gamma = 0.8')\n",
    "ax1.scatter(f2_3[1:], f1_3[1:], s=10, c='g', marker=\"o\", label='p = 0.4, gamma = 0.6')\n",
    "\n",
    "plt.legend(loc='upper right')\n",
    "plt.xlabel('f2 (Demand Penalties)')\n",
    "plt.ylabel('f1 (Cost)')\n",
    "plt.show()"
   ]
  },
  {
   "cell_type": "code",
   "execution_count": null,
   "id": "raising-suspension",
   "metadata": {},
   "outputs": [],
   "source": []
  }
 ],
 "metadata": {
  "kernelspec": {
   "display_name": "Python 3",
   "language": "python",
   "name": "python3"
  },
  "language_info": {
   "codemirror_mode": {
    "name": "ipython",
    "version": 3
   },
   "file_extension": ".py",
   "mimetype": "text/x-python",
   "name": "python",
   "nbconvert_exporter": "python",
   "pygments_lexer": "ipython3",
   "version": "3.7.3"
  }
 },
 "nbformat": 4,
 "nbformat_minor": 5
}
