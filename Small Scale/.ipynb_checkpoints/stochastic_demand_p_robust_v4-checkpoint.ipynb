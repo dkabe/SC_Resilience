{
 "cells": [
  {
   "cell_type": "code",
   "execution_count": 1,
   "id": "promotional-copper",
   "metadata": {},
   "outputs": [],
   "source": [
    "import numpy as np\n",
    "import random\n",
    "from random import randint\n",
    "from gurobipy import *\n",
    "import pandas as pd\n",
    "from random import seed\n",
    "from two_weights import *\n",
    "import matplotlib.pyplot as plt\n",
    "import seaborn as sns\n",
    "import networkx as nx\n",
    "import matplotlib.patches as mpatches"
   ]
  },
  {
   "cell_type": "code",
   "execution_count": 2,
   "id": "paperback-atmosphere",
   "metadata": {},
   "outputs": [],
   "source": [
    "Manufacturing_plants = 2\n",
    "Distribution = 3\n",
    "Market = 4\n",
    "Products = 2\n",
    "Outsourced = 2\n",
    "epsilon = 30"
   ]
  },
  {
   "cell_type": "code",
   "execution_count": 3,
   "id": "affected-employer",
   "metadata": {},
   "outputs": [],
   "source": [
    "# Scenario parameters\n",
    "a_si = [[1,1], [1,0], [0,1]] # don't include [0,0]\n",
    "b_sj = [[1,1,1], [1,0,1], [1,1,0], [1,0,0], [0,1,1], [0,1,0], [0,0,1]] # don't include [0,0,0]"
   ]
  },
  {
   "cell_type": "code",
   "execution_count": 4,
   "id": "disciplinary-component",
   "metadata": {},
   "outputs": [],
   "source": [
    "Scenarios = [[x,y] for x in a_si for y in b_sj]"
   ]
  },
  {
   "cell_type": "code",
   "execution_count": 5,
   "id": "pending-writer",
   "metadata": {},
   "outputs": [
    {
     "data": {
      "text/plain": [
       "[[[1, 1], [1, 1, 1]],\n",
       " [[1, 1], [1, 0, 1]],\n",
       " [[1, 1], [1, 1, 0]],\n",
       " [[1, 1], [1, 0, 0]],\n",
       " [[1, 1], [0, 1, 1]],\n",
       " [[1, 1], [0, 1, 0]],\n",
       " [[1, 1], [0, 0, 1]],\n",
       " [[1, 0], [1, 1, 1]],\n",
       " [[1, 0], [1, 0, 1]],\n",
       " [[1, 0], [1, 1, 0]],\n",
       " [[1, 0], [1, 0, 0]],\n",
       " [[1, 0], [0, 1, 1]],\n",
       " [[1, 0], [0, 1, 0]],\n",
       " [[1, 0], [0, 0, 1]],\n",
       " [[0, 1], [1, 1, 1]],\n",
       " [[0, 1], [1, 0, 1]],\n",
       " [[0, 1], [1, 1, 0]],\n",
       " [[0, 1], [1, 0, 0]],\n",
       " [[0, 1], [0, 1, 1]],\n",
       " [[0, 1], [0, 1, 0]],\n",
       " [[0, 1], [0, 0, 1]]]"
      ]
     },
     "execution_count": 5,
     "metadata": {},
     "output_type": "execute_result"
    }
   ],
   "source": [
    "Scenarios"
   ]
  },
  {
   "cell_type": "code",
   "execution_count": 6,
   "id": "sufficient-dylan",
   "metadata": {},
   "outputs": [],
   "source": [
    "num_Scenarios = len(Scenarios)\n",
    "p_scen = 1/num_Scenarios"
   ]
  },
  {
   "cell_type": "code",
   "execution_count": 7,
   "id": "dirty-thing",
   "metadata": {},
   "outputs": [],
   "source": [
    "# Product Demand\n",
    "demand = np.zeros((num_Scenarios, Products,Market))"
   ]
  },
  {
   "cell_type": "code",
   "execution_count": 8,
   "id": "synthetic-thermal",
   "metadata": {},
   "outputs": [],
   "source": [
    "distribution_mat = np.zeros((Products, Market,2))"
   ]
  },
  {
   "cell_type": "code",
   "execution_count": 9,
   "id": "retained-lotus",
   "metadata": {},
   "outputs": [],
   "source": [
    "distribution_mat[0][0][0] = 20\n",
    "distribution_mat[0][1][0] = 25\n",
    "distribution_mat[0][2][0] = 30\n",
    "distribution_mat[0][3][0] = 35\n",
    "\n",
    "distribution_mat[1][0][0] = 30\n",
    "distribution_mat[1][1][0] = 35\n",
    "distribution_mat[1][2][0] = 40\n",
    "distribution_mat[1][3][0] = 45\n",
    "\n",
    "distribution_mat[0][0][1] = 5\n",
    "distribution_mat[0][1][1] = 3\n",
    "distribution_mat[0][2][1] = 4\n",
    "distribution_mat[0][3][1] = 2\n",
    "\n",
    "distribution_mat[1][0][1] = 3\n",
    "distribution_mat[1][1][1] = 4\n",
    "distribution_mat[1][2][1] = 5\n",
    "distribution_mat[1][3][1] = 6"
   ]
  },
  {
   "cell_type": "code",
   "execution_count": 10,
   "id": "manual-vacuum",
   "metadata": {},
   "outputs": [
    {
     "data": {
      "text/plain": [
       "array([[[20.,  5.],\n",
       "        [25.,  3.],\n",
       "        [30.,  4.],\n",
       "        [35.,  2.]],\n",
       "\n",
       "       [[30.,  3.],\n",
       "        [35.,  4.],\n",
       "        [40.,  5.],\n",
       "        [45.,  6.]]])"
      ]
     },
     "execution_count": 10,
     "metadata": {},
     "output_type": "execute_result"
    }
   ],
   "source": [
    "distribution_mat"
   ]
  },
  {
   "cell_type": "code",
   "execution_count": 11,
   "id": "indirect-webcam",
   "metadata": {},
   "outputs": [],
   "source": [
    "np.random.seed(0)\n",
    "for s in range(num_Scenarios):\n",
    "    for k in range(Market):\n",
    "        for m in range(Products):\n",
    "            demand[s][m][k] = np.round(np.random.normal(distribution_mat[m][k][0], distribution_mat[m][k][1]))"
   ]
  },
  {
   "cell_type": "code",
   "execution_count": 12,
   "id": "wireless-surname",
   "metadata": {},
   "outputs": [],
   "source": [
    "total_demand = np.sum(demand)"
   ]
  },
  {
   "cell_type": "code",
   "execution_count": 13,
   "id": "olympic-waterproof",
   "metadata": {},
   "outputs": [],
   "source": [
    "# Cost of opening\n",
    "f_i = [200, 50]\n",
    "f_j = [75, 100, 50]"
   ]
  },
  {
   "cell_type": "code",
   "execution_count": 14,
   "id": "intermediate-official",
   "metadata": {},
   "outputs": [],
   "source": [
    "# Unit cost of manufacturing product\n",
    "np.random.seed(0)\n",
    "Manufacturing_costs = np.random.uniform(0,2, (Manufacturing_plants,Products))"
   ]
  },
  {
   "cell_type": "code",
   "execution_count": 15,
   "id": "composed-newfoundland",
   "metadata": {},
   "outputs": [],
   "source": [
    "# Unit cost of transporting m from plant to DC\n",
    "np.random.seed(0)\n",
    "Transportation_i_j = np.random.uniform(0,2, (Products, Manufacturing_plants, Distribution))"
   ]
  },
  {
   "cell_type": "code",
   "execution_count": 16,
   "id": "mathematical-block",
   "metadata": {},
   "outputs": [],
   "source": [
    "# Unit cost of transporting m from DC to Market Zone\n",
    "np.random.seed(0)\n",
    "Transportation_j_k = np.random.uniform(0,2, (Products, Distribution, Market))"
   ]
  },
  {
   "cell_type": "code",
   "execution_count": 17,
   "id": "treated-payroll",
   "metadata": {},
   "outputs": [
    {
     "data": {
      "text/plain": [
       "array([[[1.09762701, 1.43037873, 1.20552675, 1.08976637],\n",
       "        [0.8473096 , 1.29178823, 0.87517442, 1.783546  ],\n",
       "        [1.92732552, 0.76688304, 1.58345008, 1.05778984]],\n",
       "\n",
       "       [[1.13608912, 1.85119328, 0.14207212, 0.1742586 ],\n",
       "        [0.04043679, 1.66523969, 1.5563135 , 1.7400243 ],\n",
       "        [1.95723668, 1.59831713, 0.92295872, 1.56105835]]])"
      ]
     },
     "execution_count": 17,
     "metadata": {},
     "output_type": "execute_result"
    }
   ],
   "source": [
    "Transportation_j_k"
   ]
  },
  {
   "cell_type": "code",
   "execution_count": 18,
   "id": "separate-sullivan",
   "metadata": {},
   "outputs": [],
   "source": [
    "# Plant Capacities: Bigger capacities for the more expensive ones\n",
    "np.random.seed(0)\n",
    "Capacities_i = np.zeros(Manufacturing_plants) # in volume (metres cubed)\n",
    "Capacities_i[0] = np.random.randint(800,1000)\n",
    "Capacities_i[1] = np.random.randint(200,400) \n",
    "Capacities_j = np.zeros(Distribution) # in volume (metres cubed)\n",
    "Capacities_j[0] = np.random.randint(400, 600)\n",
    "Capacities_j[1] = np.random.randint(600, 800)\n",
    "Capacities_j[2] = np.random.randint(200,400)\n",
    "Capacities_l = np.random.randint(50,100, (Products,Outsourced)) # in terms of products "
   ]
  },
  {
   "cell_type": "code",
   "execution_count": 19,
   "id": "informed-minister",
   "metadata": {},
   "outputs": [],
   "source": [
    "# Cost of purchasing product m from supplier l \n",
    "np.random.seed(0)\n",
    "levels = 2\n",
    "Supplier_cost = np.zeros((levels, Products, Outsourced))\n",
    "Supplier_cost[0] = np.random.uniform(15, 20, (Products, Outsourced))\n",
    "Supplier_cost[1] = np.random.randint(20, 25, (Products, Outsourced))"
   ]
  },
  {
   "cell_type": "code",
   "execution_count": 20,
   "id": "united-administration",
   "metadata": {},
   "outputs": [
    {
     "data": {
      "text/plain": [
       "array([[[17.74406752, 18.57594683],\n",
       "        [18.01381688, 17.72441591]],\n",
       "\n",
       "       [[21.        , 23.        ],\n",
       "        [22.        , 24.        ]]])"
      ]
     },
     "execution_count": 20,
     "metadata": {},
     "output_type": "execute_result"
    }
   ],
   "source": [
    "Supplier_cost"
   ]
  },
  {
   "cell_type": "code",
   "execution_count": 21,
   "id": "governing-mustang",
   "metadata": {},
   "outputs": [],
   "source": [
    "# Cost of transporting product m from outsourced facility l to j\n",
    "np.random.seed(0)\n",
    "T_O_DC = np.random.uniform(2, 5, (Products, Outsourced, Distribution))"
   ]
  },
  {
   "cell_type": "code",
   "execution_count": 22,
   "id": "flexible-anthony",
   "metadata": {},
   "outputs": [],
   "source": [
    "# Cost of shipping product m from outsourced facility l to k\n",
    "np.random.seed(0)\n",
    "T_O_MZ = np.random.uniform(5, 7,(Products, Outsourced, Market))"
   ]
  },
  {
   "cell_type": "code",
   "execution_count": 23,
   "id": "olympic-animal",
   "metadata": {},
   "outputs": [],
   "source": [
    "# Product volume \n",
    "np.random.seed(0)\n",
    "volume = np.random.uniform(2,3,(Products))"
   ]
  },
  {
   "cell_type": "code",
   "execution_count": 24,
   "id": "alike-marriage",
   "metadata": {},
   "outputs": [],
   "source": [
    "# unit cost of lost sales \n",
    "np.random.seed(40)\n",
    "lost_sales = np.random.randint(18, 25,(Market,Products))"
   ]
  },
  {
   "cell_type": "code",
   "execution_count": 25,
   "id": "coordinate-speech",
   "metadata": {},
   "outputs": [
    {
     "data": {
      "text/plain": [
       "array([[24, 21],\n",
       "       [23, 18],\n",
       "       [18, 20],\n",
       "       [19, 22]])"
      ]
     },
     "execution_count": 25,
     "metadata": {},
     "output_type": "execute_result"
    }
   ],
   "source": [
    "lost_sales"
   ]
  },
  {
   "cell_type": "code",
   "execution_count": 26,
   "id": "aging-national",
   "metadata": {},
   "outputs": [],
   "source": [
    "# Initialize model variables\n",
    "x_i = {} # opening manufacturing plant\n",
    "x_j = {} # opening DC\n",
    "U_km = {} # quantity lost sales\n",
    "V1_lm = {} # quantity products purchased from outsourcing before epsilon\n",
    "V2_lm = {} # quantity of products purchased from outsourcing after epsilon\n",
    "Q_im = {} # quantity produced\n",
    "Y_ijm = {} # shipping i -> j\n",
    "Z_jkm = {} # shipping j -> k\n",
    "T_ljm = {} # shipping l -> j\n",
    "T_lkm = {} # shipping l -> k\n",
    "y_lm = {} # indicator variable for step function \n",
    "\n",
    "# Dictionaries for analysis \n",
    "Cost_dict = {}\n",
    "Summary_dict = {}\n",
    "#recovered_demand = np.zeros((num_Scenarios, Products,Market))"
   ]
  },
  {
   "cell_type": "markdown",
   "id": "sustained-jackson",
   "metadata": {},
   "source": [
    "## Deterministic Model"
   ]
  },
  {
   "cell_type": "code",
   "execution_count": 27,
   "id": "characteristic-priority",
   "metadata": {},
   "outputs": [
    {
     "name": "stdout",
     "output_type": "stream",
     "text": [
      "Using license file C:\\Users\\Devika Kabe\\gurobi.lic\n",
      "Academic license - for non-commercial use only\n"
     ]
    }
   ],
   "source": [
    "grbModel_det = Model('deterministic') # to obtain obj val of each scenario"
   ]
  },
  {
   "cell_type": "code",
   "execution_count": 28,
   "id": "built-conversion",
   "metadata": {},
   "outputs": [],
   "source": [
    "def SetGurobiModel(scen):\n",
    "    \n",
    "    for i in range(Manufacturing_plants):\n",
    "        x_i[i] = grbModel_det.addVar(vtype = GRB.BINARY)\n",
    "    \n",
    "    for j in range(Distribution):\n",
    "        x_j[j] = grbModel_det.addVar(vtype = GRB.BINARY)\n",
    "    \n",
    "    for k in range(Market):\n",
    "        for m in range(Products):\n",
    "            U_km[k,m] = grbModel_det.addVar(vtype = GRB.CONTINUOUS)\n",
    "        \n",
    "    for m in range(Products):\n",
    "        for l in range(Outsourced):\n",
    "            V1_lm[m,l] = grbModel_det.addVar(vtype = GRB.CONTINUOUS)\n",
    "            \n",
    "    for m in range(Products):\n",
    "        for l in range(Outsourced):\n",
    "            V2_lm[m,l] = grbModel_det.addVar(vtype = GRB.CONTINUOUS)    \n",
    "    \n",
    "    for m in range(Products):\n",
    "        for i in range(Manufacturing_plants):\n",
    "            Q_im[m,i] = grbModel_det.addVar(vtype = GRB.CONTINUOUS)\n",
    "            \n",
    "    for m in range(Products):\n",
    "        for i in range(Manufacturing_plants):\n",
    "            for j in range(Distribution):\n",
    "                Y_ijm[m,i,j] = grbModel_det.addVar(vtype = GRB.CONTINUOUS)                \n",
    "    \n",
    "    for m in range(Products):\n",
    "        for j in range(Distribution):\n",
    "            for k in range(Market): \n",
    "                Z_jkm[m,j,k] = grbModel_det.addVar(vtype = GRB.CONTINUOUS)                \n",
    "    \n",
    "    for m in range(Products):\n",
    "        for l in range(Outsourced):\n",
    "            for j in range(Distribution):\n",
    "                T_ljm[m,l,j] = grbModel_det.addVar(vtype = GRB.CONTINUOUS)      \n",
    "    \n",
    "    for m in range(Products):\n",
    "        for l in range(Outsourced):\n",
    "            for k in range(Market):\n",
    "                T_lkm[m,l,k] = grbModel_det.addVar(vtype = GRB.CONTINUOUS)                \n",
    "    \n",
    "    for m in range(Products):\n",
    "        for l in range(Outsourced):\n",
    "            y_lm[m,l] = grbModel_det.addVar(vtype = GRB.BINARY)\n",
    "                \n",
    "    SetGrb_Obj()\n",
    "    ModelCons(scen)\n"
   ]
  },
  {
   "cell_type": "code",
   "execution_count": 29,
   "id": "australian-mongolia",
   "metadata": {},
   "outputs": [],
   "source": [
    "def SolveModel(scen):\n",
    "    \n",
    "    grbModel_det.params.OutputFlag = 0\n",
    "    grbModel_det.optimize()\n",
    "    \n",
    "    # get variable values \n",
    "    v_val_x_i = grbModel_det.getAttr('x', x_i)\n",
    "    v_val_x_j = grbModel_det.getAttr('x', x_j)\n",
    "    v_val_U_km = grbModel_det.getAttr('x', U_km)\n",
    "    v_val_V1_lm = grbModel_det.getAttr('x', V1_lm)\n",
    "    v_val_V2_lm = grbModel_det.getAttr('x', V2_lm)\n",
    "    v_val_Q_im = grbModel_det.getAttr('x', Q_im)\n",
    "    v_val_Y_ijm = grbModel_det.getAttr('x', Y_ijm)\n",
    "    v_val_Z_jkm = grbModel_det.getAttr('x', Z_jkm)\n",
    "    v_val_T_ljm = grbModel_det.getAttr('x', T_ljm)\n",
    "    v_val_T_lkm = grbModel_det.getAttr('x', T_lkm)\n",
    "    v_val_y_lm = grbModel_det.getAttr('x', y_lm)    \n",
    "    \n",
    "    obj = grbModel_det.getObjective()\n",
    "        \n",
    "    return\n"
   ]
  },
  {
   "cell_type": "code",
   "execution_count": 30,
   "id": "reported-warning",
   "metadata": {},
   "outputs": [],
   "source": [
    "# Objective\n",
    "\n",
    "def SetGrb_Obj():\n",
    "\n",
    "    grb_expr = LinExpr()\n",
    "\n",
    "    # Cost of opening\n",
    "    OC_1 = 0\n",
    "    OC_2 = 0\n",
    "    for i in range(Manufacturing_plants):\n",
    "        OC_1 += f_i[i]*x_i[i]\n",
    "    for j in range(Distribution):\n",
    "        OC_2 += f_j[j]*x_j[j]    \n",
    "        \n",
    "    # Shipment \n",
    "    ship_1 = 0\n",
    "    ship_2 = 0\n",
    "    ship_3 = 0\n",
    "    ship_4 = 0\n",
    "    \n",
    "    for i in range(Manufacturing_plants):\n",
    "        for j in range(Distribution):\n",
    "            for m in range(Products):\n",
    "                ship_1 += Transportation_i_j[m][i][j]*Y_ijm[m,i,j]\n",
    "\n",
    "    for j in range(Distribution):\n",
    "        for k in range(Market):\n",
    "            for m in range(Products):\n",
    "                ship_2 += Transportation_j_k[m][j][k]*Z_jkm[m,j,k]\n",
    "\n",
    "    for l in range(Outsourced):\n",
    "        for j in range(Distribution):\n",
    "            for m in range(Products):\n",
    "                ship_3 += T_O_DC[m][l][j]*T_ljm[m,l,j]\n",
    "\n",
    "    for l in range(Outsourced):\n",
    "        for k in range(Market):\n",
    "            for m in range(Products):\n",
    "                ship_4 += T_O_MZ[m][l][k]*T_lkm[m,l,k]\n",
    "                    \n",
    "    total_shipment = ship_1 + ship_2 + ship_3 + ship_4\n",
    "\n",
    "    # Production\n",
    "    pr_cost = 0\n",
    "    for i in range(Manufacturing_plants):\n",
    "        for m in range(Products):\n",
    "            pr_cost += Manufacturing_costs[i][m]*Q_im[m,i]                \n",
    "\n",
    "    # Buying from outsource cost\n",
    "    b_cost = 0\n",
    "    for l in range(Outsourced):\n",
    "        for m in range(Products):\n",
    "            b_cost += Supplier_cost[0][m][l]*V1_lm[m,l] + Supplier_cost[1][m][l]*V2_lm[m,l]\n",
    "\n",
    "    #Lost Sales\n",
    "    l_cost = 0\n",
    "    for k in range(Market):\n",
    "        for m in range(Products):\n",
    "            l_cost += lost_sales[k][m]*U_km[k,m]                \n",
    "\n",
    "    grb_expr += OC_1 + OC_2 + total_shipment + pr_cost + b_cost + l_cost\n",
    "    \n",
    "    grbModel_det.setObjective(grb_expr, GRB.MINIMIZE)\n",
    "    \n",
    "    return "
   ]
  },
  {
   "cell_type": "code",
   "execution_count": 31,
   "id": "printable-cassette",
   "metadata": {},
   "outputs": [],
   "source": [
    "# Model Constraints\n",
    "\n",
    "def ModelCons(scen):\n",
    "    \n",
    "    # Network Flow\n",
    "\n",
    "    grbModel_det.addConstrs(Q_im[m,i] >= quicksum(Y_ijm[m,i,j] for j in range(Distribution)) \n",
    "                         for i in range(Manufacturing_plants) for m in range(Products))\n",
    "\n",
    "    grbModel_det.addConstrs((quicksum(Y_ijm[m,i,j] for i in range(Manufacturing_plants)) +\n",
    "                         quicksum(T_ljm[m,l,j] for l in range(Outsourced))) >= quicksum(Z_jkm[m,j,k] for k in range(Market))                        \n",
    "                        for j in range(Distribution) for m in range(Products))\n",
    "\n",
    "    grbModel_det.addConstrs((quicksum(Z_jkm[m,j,k] for j in range(Distribution)) +\n",
    "                         quicksum(T_lkm[m,l,k] for l in range(Outsourced)) + U_km[k,m]) >= demand[s][m][k]\n",
    "                         for k in range(Market) for m in range(Products))  \n",
    "        \n",
    "                    \n",
    "    # Purchasing Constraints (everything purchased from outsourced facilities must be shipped)\n",
    "    grbModel_det.addConstrs(V1_lm[m,l] + V2_lm[m,l] >= quicksum(T_ljm[m,l,j] for j in range(Distribution)) + \n",
    "                        quicksum(T_lkm[m,l,k] for k in range(Market))  \n",
    "                        for m in range(Products) for l in range(Outsourced))\n",
    "    \n",
    "    \n",
    "    # Capacity Constraints\n",
    "    grbModel_det.addConstrs(quicksum(volume[m]*Q_im[m,i] for m in range(Products)) <= Scenarios[scen][0][i]*Capacities_i[i]*x_i[i] \n",
    "                         for i in range(Manufacturing_plants))\n",
    "    \n",
    "    grbModel_det.addConstrs(quicksum(volume[m]*Y_ijm[m,i,j] for i in range(Manufacturing_plants) for m in range(Products)) +\n",
    "                        quicksum(volume[m]*T_ljm[m,l,j] for l in range(Outsourced) for m in range(Products)) <= \n",
    "                        Scenarios[scen][1][j]*Capacities_j[j]*x_j[j]  \n",
    "                        for j in range(Distribution))\n",
    "    \n",
    "    grbModel_det.addConstrs(V1_lm[m,l] + V2_lm[m,l]<= Capacities_l[m][l] \n",
    "                        for l in range(Outsourced) for m in range(Products))\n",
    "    \n",
    "    \n",
    "    # Indicator variable constraints for step function (25 is arbitrary)\n",
    "    grbModel_det.addConstrs(V1_lm[m,l] <= epsilon \n",
    "                               for m in range(Products) for l in range(Outsourced))\n",
    "    \n",
    "    return"
   ]
  },
  {
   "cell_type": "code",
   "execution_count": 32,
   "id": "oriented-tribe",
   "metadata": {},
   "outputs": [],
   "source": [
    "def run_Model(scen):    \n",
    "        \n",
    "    SetGurobiModel(scen)\n",
    "    SolveModel(scen)"
   ]
  },
  {
   "cell_type": "code",
   "execution_count": 33,
   "id": "according-heating",
   "metadata": {},
   "outputs": [],
   "source": [
    "scen_objs = []"
   ]
  },
  {
   "cell_type": "code",
   "execution_count": 34,
   "id": "dying-mechanics",
   "metadata": {},
   "outputs": [],
   "source": [
    "for s in range(num_Scenarios):\n",
    "    x_i = {} # opening manufacturing plant\n",
    "    x_j = {} # opening DC\n",
    "    U_km = {} # quantity lost sales\n",
    "    V1_lm = {} # quantity products purchased from outsourcing\n",
    "    V2_lm = {} \n",
    "    Q_im = {} # quantity produced\n",
    "    Y_ijm = {} # shipping i -> j\n",
    "    Z_jkm = {} # shipping j -> k\n",
    "    T_ljm = {} # shipping l -> j\n",
    "    T_lkm = {} # shipping l -> k\n",
    "    y_lm = {} # indicator variable for step function \n",
    "    run_Model(s)\n",
    "    scen_objs += [np.round(grbModel_det.objval,2)]"
   ]
  },
  {
   "cell_type": "code",
   "execution_count": null,
   "id": "interracial-kinase",
   "metadata": {},
   "outputs": [],
   "source": []
  },
  {
   "cell_type": "code",
   "execution_count": 35,
   "id": "acting-shore",
   "metadata": {},
   "outputs": [
    {
     "data": {
      "text/plain": [
       "[1250.35,\n",
       " 1200.45,\n",
       " 1182.98,\n",
       " 2415.11,\n",
       " 1346.46,\n",
       " 1383.67,\n",
       " 3339.8,\n",
       " 1091.35,\n",
       " 1133.5,\n",
       " 1178.62,\n",
       " 2181.31,\n",
       " 1440.2,\n",
       " 1434.79,\n",
       " 4114.86,\n",
       " 3844.69,\n",
       " 3801.12,\n",
       " 3660.28,\n",
       " 3580.02,\n",
       " 4056.65,\n",
       " 3382.44,\n",
       " 3547.98]"
      ]
     },
     "execution_count": 35,
     "metadata": {},
     "output_type": "execute_result"
    }
   ],
   "source": [
    "scen_objs"
   ]
  },
  {
   "cell_type": "code",
   "execution_count": 36,
   "id": "sporting-background",
   "metadata": {},
   "outputs": [],
   "source": [
    "penalty_weights = [scen_objs[0]/scen_objs[i] for i in range(num_Scenarios)]"
   ]
  },
  {
   "cell_type": "code",
   "execution_count": 37,
   "id": "stopped-process",
   "metadata": {},
   "outputs": [],
   "source": [
    "penalty_weights = [500]*num_Scenarios"
   ]
  },
  {
   "cell_type": "code",
   "execution_count": 38,
   "id": "fresh-avatar",
   "metadata": {},
   "outputs": [
    {
     "data": {
      "text/plain": [
       "[500,\n",
       " 500,\n",
       " 500,\n",
       " 500,\n",
       " 500,\n",
       " 500,\n",
       " 500,\n",
       " 500,\n",
       " 500,\n",
       " 500,\n",
       " 500,\n",
       " 500,\n",
       " 500,\n",
       " 500,\n",
       " 500,\n",
       " 500,\n",
       " 500,\n",
       " 500,\n",
       " 500,\n",
       " 500,\n",
       " 500]"
      ]
     },
     "execution_count": 38,
     "metadata": {},
     "output_type": "execute_result"
    }
   ],
   "source": [
    "penalty_weights"
   ]
  },
  {
   "cell_type": "markdown",
   "id": "excellent-excess",
   "metadata": {},
   "source": [
    "## Stochastic Model"
   ]
  },
  {
   "cell_type": "code",
   "execution_count": 39,
   "id": "surgical-context",
   "metadata": {},
   "outputs": [],
   "source": [
    "# Initialize model variables\n",
    "x_i = {} # opening manufacturing plant\n",
    "x_j = {} # opening DC\n",
    "U_km = {} # quantity lost sales\n",
    "V1_lm = {} # quantity products purchased from outsourcing\n",
    "V2_lm = {} # quantity products purchased from outsourcing\n",
    "Q_im = {} # quantity produced\n",
    "Y_ijm = {} # shipping i -> j\n",
    "Z_jkm = {} # shipping j -> k\n",
    "T_ljm = {} # shipping l -> j\n",
    "T_lkm = {} # shipping l -> k\n",
    "y_lm = {} # indicator variable for step function \n",
    "delta_s = {} # penalty for p-robust\n",
    "w_s = {} # reward for meeting demand above specified rate\n",
    "\n",
    "# Dictionaries for analysis \n",
    "Cost_dict = {}\n",
    "Summary_dict = {}\n",
    "\n",
    "# Dictionary to weigh different objectives \n",
    "objWeights = {} \n",
    "\n",
    "# Dictionary to save values of each objectives\n",
    "dic_grbOut = {}"
   ]
  },
  {
   "cell_type": "code",
   "execution_count": 40,
   "id": "knowing-dispute",
   "metadata": {},
   "outputs": [],
   "source": [
    "grbModel = Model('stochastic')"
   ]
  },
  {
   "cell_type": "code",
   "execution_count": 41,
   "id": "announced-filling",
   "metadata": {},
   "outputs": [],
   "source": [
    "def SetGurobiModel(p, rl):\n",
    "    \n",
    "    for i in range(Manufacturing_plants):\n",
    "        x_i[i] = grbModel.addVar(vtype = GRB.BINARY)\n",
    "    \n",
    "    for j in range(Distribution):\n",
    "        x_j[j] = grbModel.addVar(vtype = GRB.BINARY)\n",
    "    \n",
    "    for s in range(num_Scenarios):\n",
    "        for k in range(Market):\n",
    "            for m in range(Products):\n",
    "                U_km[s,k,m] = grbModel.addVar(vtype = GRB.CONTINUOUS)\n",
    "        \n",
    "    for s in range(num_Scenarios):\n",
    "        for m in range(Products):\n",
    "            for l in range(Outsourced):\n",
    "                V1_lm[s,m,l] = grbModel.addVar(vtype = GRB.CONTINUOUS)\n",
    "                \n",
    "    for s in range(num_Scenarios):\n",
    "        for m in range(Products):\n",
    "            for l in range(Outsourced):\n",
    "                V2_lm[s,m,l] = grbModel.addVar(vtype = GRB.CONTINUOUS)\n",
    "    \n",
    "    for s in range(num_Scenarios):\n",
    "        for m in range(Products):\n",
    "            for i in range(Manufacturing_plants):\n",
    "                Q_im[s,m,i] = grbModel.addVar(vtype = GRB.CONTINUOUS)\n",
    "            \n",
    "    for s in range(num_Scenarios):  \n",
    "        for m in range(Products):\n",
    "            for i in range(Manufacturing_plants):\n",
    "                for j in range(Distribution):\n",
    "                    Y_ijm[s,m,i,j] = grbModel.addVar(vtype = GRB.CONTINUOUS)                \n",
    "    \n",
    "    for s in range(num_Scenarios):\n",
    "        for m in range(Products):\n",
    "            for j in range(Distribution):\n",
    "                for k in range(Market): \n",
    "                    Z_jkm[s,m,j,k] = grbModel.addVar(vtype = GRB.CONTINUOUS)                \n",
    "    \n",
    "    for s in range(num_Scenarios):\n",
    "        for m in range(Products):\n",
    "            for l in range(Outsourced):\n",
    "                for j in range(Distribution):\n",
    "                    T_ljm[s,m,l,j] = grbModel.addVar(vtype = GRB.CONTINUOUS)      \n",
    "    \n",
    "    for s in range(num_Scenarios):\n",
    "        for m in range(Products):\n",
    "            for l in range(Outsourced):\n",
    "                for k in range(Market):\n",
    "                    T_lkm[s,m,l,k] = grbModel.addVar(vtype = GRB.CONTINUOUS)                \n",
    "    \n",
    "    for s in range(num_Scenarios):\n",
    "        for m in range(Products):\n",
    "            for l in range(Outsourced):\n",
    "                y_lm[s,m,l] = grbModel.addVar(vtype = GRB.BINARY)\n",
    "                \n",
    "    for s in range(num_Scenarios):\n",
    "        delta_s[s] = grbModel.addVar(vtype = GRB.CONTINUOUS)\n",
    "        \n",
    "    for s in range(num_Scenarios):\n",
    "        for k in range(Market):\n",
    "            for m in range(Products):\n",
    "                w_s[s,k,m] = grbModel.addVar(vtype = GRB.BINARY)\n",
    "                \n",
    "    SetGrb_Obj()\n",
    "    ModelCons(p, rl)"
   ]
  },
  {
   "cell_type": "code",
   "execution_count": 42,
   "id": "comprehensive-aggregate",
   "metadata": {},
   "outputs": [],
   "source": [
    "def SolveModel():\n",
    "    \n",
    "    grbModel.params.OutputFlag = 0\n",
    "    grbModel.optimize()\n",
    "    \n",
    "    # get variable values \n",
    "    v_val_x_i = grbModel.getAttr('x', x_i)\n",
    "    v_val_x_j = grbModel.getAttr('x', x_j)\n",
    "    v_val_U_km = grbModel.getAttr('x', U_km)\n",
    "    v_val_V1_lm = grbModel.getAttr('x', V1_lm)\n",
    "    v_val_V2_lm = grbModel.getAttr('x', V2_lm)\n",
    "    v_val_Q_im = grbModel.getAttr('x', Q_im)\n",
    "    v_val_Y_ijm = grbModel.getAttr('x', Y_ijm)\n",
    "    v_val_Z_jkm = grbModel.getAttr('x', Z_jkm)\n",
    "    v_val_T_ljm = grbModel.getAttr('x', T_ljm)\n",
    "    v_val_T_lkm = grbModel.getAttr('x', T_lkm)\n",
    "    v_val_y_lm = grbModel.getAttr('x', y_lm)\n",
    "    v_val_delta_s = grbModel.getAttr('x', delta_s)\n",
    "    v_val_w = grbModel.getAttr('x', w_s)\n",
    "    \n",
    "    obj = grbModel.getObjective()\n",
    "    print(\"obj val: \", obj.getValue())   \n",
    "    \n",
    "    Summary_dict['ObjVal'] = grbModel.objval\n",
    "    Summary_dict[\"OpenMPs\"] = np.sum(v_val_x_i.values())\n",
    "    Summary_dict[\"OpenDCs\"] = np.sum(v_val_x_j.values())\n",
    "    Cost_dict[\"Opening\"] =  get_opening_costs(v_val_x_i, v_val_x_j)\n",
    "    Cost_dict[\"pr_Penalties\"] = np.round(p_scen*get_pr_penalty_costs(v_val_delta_s), 2)\n",
    "    Cost_dict[\"f2\"] = np.round(p_scen*get_rl_rate(v_val_w))\n",
    "    \n",
    "    for s in range(num_Scenarios):        \n",
    "        Summary_dict[\"Purchasing_\" + str(s)] = sum([v_val_V1_lm[(s,m,l)] +  v_val_V2_lm[(s,m,l)] for m in range(Products) for l in range(Outsourced)])    \n",
    "        Summary_dict[\"Production_\" + str(s)] = sum([v_val_Q_im[(s,m,i)] for m in range(Products) for i in range(Manufacturing_plants)])\n",
    "        Summary_dict[\"LostSales_\" + str(s)] = sum([v_val_U_km[(s,k,m)] for m in range(Products) for k in range(Market)])\n",
    "        Summary_dict[\"OutsourceToDC_\" + str(s)] = sum([v_val_T_ljm[(s,m,l,j)] for m in range(Products) for l in range(Outsourced) for j in range(Distribution)])\n",
    "        Summary_dict[\"OutsourceToMarket_\" + str(s)] = sum([v_val_T_lkm[(s,m,l,k)] for m in range(Products) for l in range(Outsourced) for k in range(Market)])        \n",
    "        \n",
    "    for s in range(num_Scenarios):\n",
    "        Cost_dict[\"InHouseShipping_\" + str(s)] = get_shipping_costs(s,v_val_Y_ijm, v_val_Z_jkm, v_val_T_ljm, v_val_T_lkm)[0]\n",
    "        Cost_dict[\"OutsourceShipping_\" + str(s)] = get_shipping_costs(s,v_val_Y_ijm, v_val_Z_jkm, v_val_T_ljm, v_val_T_lkm)[1]\n",
    "        Cost_dict[\"Production_\" + str(s)] = get_production_cost(s,v_val_Q_im)\n",
    "        Cost_dict[\"Purchasing_\" + str(s)] = get_purchase_costs(s,v_val_V1_lm, v_val_V2_lm)\n",
    "        Cost_dict[\"LostSales_\" + str(s)] = get_lost_cost(s,v_val_U_km)\n",
    "    \n",
    "    Purchasing_cost = np.sum([Cost_dict['Purchasing_' + str(s)] for s in range(num_Scenarios)])\n",
    "    Production_cost = np.sum([Cost_dict['Production_' + str(s)] for s in range(num_Scenarios)])\n",
    "    LostSales_cost = np.sum([Cost_dict['LostSales_' + str(s)] for s in range(num_Scenarios)])\n",
    "    InHouseShipping = np.sum([Cost_dict['InHouseShipping_' + str(s)] for s in range(num_Scenarios)])\n",
    "    OutsourceShipping = np.sum([Cost_dict['OutsourceShipping_' + str(s)] for s in range(num_Scenarios)])\n",
    "    \n",
    "    Cost_dict[\"f1\"] = np.round(Cost_dict[\"Opening\"] + p_scen*(Purchasing_cost + Production_cost + LostSales_cost + InHouseShipping + OutsourceShipping) + Cost_dict['pr_Penalties'], 2)\n",
    "\n",
    "    return"
   ]
  },
  {
   "cell_type": "code",
   "execution_count": 43,
   "id": "original-miniature",
   "metadata": {},
   "outputs": [],
   "source": [
    "# Objective\n",
    "\n",
    "def SetGrb_Obj():\n",
    "\n",
    "    grb_expr = LinExpr()\n",
    "\n",
    "    # Cost of opening\n",
    "    OC_1 = 0\n",
    "    OC_2 = 0\n",
    "    for i in range(Manufacturing_plants):\n",
    "        OC_1 += f_i[i]*x_i[i]\n",
    "    for j in range(Distribution):\n",
    "        OC_2 += f_j[j]*x_j[j]       \n",
    "    \n",
    "    total_shipment = 0    \n",
    "    total_pr_cost = 0\n",
    "    total_b_cost = 0\n",
    "    total_l_cost = 0\n",
    "    \n",
    "    # Shipment \n",
    "\n",
    "    for s in range(num_Scenarios):\n",
    "        ship_1 = 0\n",
    "        ship_2 = 0\n",
    "        ship_3 = 0\n",
    "        ship_4 = 0\n",
    "        for i in range(Manufacturing_plants):\n",
    "            for j in range(Distribution):\n",
    "                for m in range(Products):\n",
    "                    ship_1 += Transportation_i_j[m][i][j]*Y_ijm[s,m,i,j]\n",
    "\n",
    "        for j in range(Distribution):\n",
    "            for k in range(Market):\n",
    "                for m in range(Products):\n",
    "                    ship_2 += Transportation_j_k[m][j][k]*Z_jkm[s,m,j,k]\n",
    "\n",
    "        for l in range(Outsourced):\n",
    "            for j in range(Distribution):\n",
    "                for m in range(Products):\n",
    "                    ship_3 += T_O_DC[m][l][j]*T_ljm[s,m,l,j]\n",
    "\n",
    "        for l in range(Outsourced):\n",
    "            for k in range(Market):\n",
    "                for m in range(Products):\n",
    "                    ship_4 += T_O_MZ[m][l][k]*T_lkm[s,m,l,k]\n",
    "                    \n",
    "        total_shipment += ship_1 + ship_2 + ship_3 + ship_4\n",
    "\n",
    "        # Production\n",
    "        pr_cost = 0\n",
    "        for i in range(Manufacturing_plants):\n",
    "            for m in range(Products):\n",
    "                pr_cost += Manufacturing_costs[i][m]*Q_im[s,m,i]\n",
    "                \n",
    "        total_pr_cost += pr_cost\n",
    "\n",
    "        # Buying from outsource cost\n",
    "        b_cost = 0\n",
    "        for l in range(Outsourced):\n",
    "            for m in range(Products):\n",
    "                b_cost += Supplier_cost[0][m][l]*V1_lm[s,m,l] + Supplier_cost[1][m][l]*V2_lm[s,m,l]\n",
    "                \n",
    "        total_b_cost += b_cost\n",
    "\n",
    "        #Lost Sales\n",
    "        l_cost = 0\n",
    "        for k in range(Market):\n",
    "            for m in range(Products):\n",
    "                l_cost += lost_sales[k][m]*U_km[s,k,m]\n",
    "                \n",
    "        total_l_cost += l_cost   \n",
    "\n",
    "    # Penalties\n",
    "    p_robust_penalties = 0\n",
    "    for s in range(num_Scenarios):\n",
    "        p_robust_penalties += penalty_weights[s]*delta_s[s]    \n",
    "        \n",
    "    \n",
    "    # Percentage of demand met\n",
    "    rl_penalty = 0\n",
    "    for s in range(num_Scenarios):\n",
    "        for k in range(Market):\n",
    "            for m in range(Products):\n",
    "                rl_penalty += lost_sales[k][m]*w_s[s,k,m]*demand[s][m][k]       \n",
    "    \n",
    "    grb_expr += objWeights['f1']*(OC_1 + OC_2 + p_scen*(total_shipment + total_pr_cost + total_b_cost + total_l_cost) + \\\n",
    "  p_scen*p_robust_penalties) + objWeights['f2']*p_scen*rl_penalty\n",
    "\n",
    "    \n",
    "    grbModel.setObjective(grb_expr, GRB.MINIMIZE)\n",
    "    \n",
    "    return \n"
   ]
  },
  {
   "cell_type": "code",
   "execution_count": 44,
   "id": "flexible-uruguay",
   "metadata": {},
   "outputs": [],
   "source": [
    "# Model Constraints\n",
    "\n",
    "def ModelCons(p, rl):\n",
    "    \n",
    "    # Network Flow\n",
    "\n",
    "    grbModel.addConstrs(Q_im[s,m,i] >= quicksum(Y_ijm[s,m,i,j] for j in range(Distribution)) \n",
    "                         for s in range(num_Scenarios) for i in range(Manufacturing_plants) for m in range(Products))\n",
    "\n",
    "    grbModel.addConstrs((quicksum(Y_ijm[s,m,i,j] for i in range(Manufacturing_plants)) +\n",
    "                         quicksum(T_ljm[s,m,l,j] for l in range(Outsourced))) >= quicksum(Z_jkm[s,m,j,k] for k in range(Market))                        \n",
    "                        for s in range(num_Scenarios) for j in range(Distribution) for m in range(Products))\n",
    "    \n",
    "    grbModel.addConstrs(quicksum(Z_jkm[s,m,j,k] for j in range(Distribution)) + \n",
    "                        quicksum(T_lkm[s,m,l,k] for l in range(Outsourced)) + \n",
    "                        U_km[s,k,m] >= demand[s][m][k] for s in range(num_Scenarios) for m in range(Products)\n",
    "                        for k in range(Market))\n",
    "          \n",
    "                    \n",
    "    # Purchasing Constraints (everything purchased from outsourced facilities must be shipped)\n",
    "    grbModel.addConstrs(V1_lm[s,m,l] + V2_lm[s,m,l] >= quicksum(T_ljm[s,m,l,j] for j in range(Distribution)) + \n",
    "                        quicksum(T_lkm[s,m,l,k] for k in range(Market)) for s in range(num_Scenarios) \n",
    "                        for m in range(Products) for l in range(Outsourced))\n",
    "    \n",
    "    # Purchasing Constraints (can only outsource in disruption)\n",
    "        \n",
    "    # Capacity Constraints\n",
    "    grbModel.addConstrs(quicksum(volume[m]*Q_im[s,m,i] for m in range(Products)) <= Scenarios[s][0][i]*Capacities_i[i]*x_i[i] \n",
    "                        for s in range(num_Scenarios) for i in range(Manufacturing_plants))\n",
    "    \n",
    "    grbModel.addConstrs(quicksum(volume[m]*Y_ijm[s,m,i,j] for i in range(Manufacturing_plants) for m in range(Products)) +\n",
    "                        quicksum(volume[m]*T_ljm[s,m,l,j] for l in range(Outsourced) for m in range(Products)) <= \n",
    "                        Scenarios[s][1][j]*Capacities_j[j]*x_j[j] for s in range(num_Scenarios) for s in range(num_Scenarios)\n",
    "                        for j in range(Distribution))\n",
    "    \n",
    "    grbModel.addConstrs((V1_lm[s,m,l] + V2_lm[s,m,l] <= (Capacities_l[m][l])) for s in range(num_Scenarios)\n",
    "                        for l in range(Outsourced) for m in range(Products))\n",
    "    \n",
    "    \n",
    "    # Indicator variable constraints for step function (25 is arbitrary)\n",
    "    grbModel.addConstrs(V1_lm[s,m,l] <= epsilon for s in range(num_Scenarios) for m in range(Products) for l in range(Outsourced))   \n",
    "    \n",
    "    \n",
    "    #Demand Metric (w = 1 if demand met is below rl)\n",
    "    grbModel.addConstrs((U_km[s,k,m]/demand[s][m][k]) - (rl + 0.0001)*w_s[s,k,m] <= 1 - rl - 0.0001\n",
    "                        for s in range(num_Scenarios) for k in range(Market) for m in range(Products))    \n",
    "\n",
    "    \n",
    "    #P-robust metric    \n",
    "    grbModel.addConstrs(quicksum(f_i[i]*x_i[i] for i in range(Manufacturing_plants))\n",
    "                        + quicksum(f_j[j]*x_j[j] for j in range(Distribution))\n",
    "                        + quicksum(Transportation_i_j[m][i][j]*Y_ijm[s,m,i,j] for i in range(Manufacturing_plants) \n",
    "                                  for j in range(Distribution) for m in range(Products))\n",
    "                        + quicksum(Transportation_j_k[m][j][k]*Z_jkm[s,m,j,k] for j in range(Distribution)\n",
    "                                   for k in range(Market) for m in range(Products))\n",
    "                        + quicksum(T_O_DC[m][l][j]*T_ljm[s,m,l,j] for l in range(Outsourced) for j in range(Distribution)\n",
    "                                   for m in range(Products))\n",
    "                        + quicksum(T_O_MZ[m][l][k]*T_lkm[s,m,l,k] for l in range(Outsourced) for k in range(Market)\n",
    "                                   for m in range(Products))\n",
    "                        + quicksum(Manufacturing_costs[i][m]*Q_im[s,m,i] for i in range(Manufacturing_plants) \n",
    "                                   for m in range(Products))\n",
    "                        + quicksum(Supplier_cost[0][m][l]*V1_lm[s,m,l] + Supplier_cost[1][m][l]*V2_lm[s,m,l]\n",
    "                                   for l in range(Outsourced) for m in range(Products))\n",
    "                        + quicksum(lost_sales[k][m]*U_km[s,k,m] for k in range(Market) for m in range(Products)) - delta_s[s]\n",
    "                        \n",
    "                        <= (1 + p)*scen_objs[s] for s in range(num_Scenarios))                                 \n",
    "                                                                    \n",
    "    \n",
    "    return   \n"
   ]
  },
  {
   "cell_type": "code",
   "execution_count": 45,
   "id": "continuing-waters",
   "metadata": {},
   "outputs": [],
   "source": [
    "def get_opening_costs(x1, x2):\n",
    "    \n",
    "    # Cost of opening\n",
    "    OC_1 = 0\n",
    "    OC_2 = 0\n",
    "    for i in range(Manufacturing_plants):\n",
    "        OC_1 += f_i[i]*x1[i]\n",
    "    for j in range(Distribution):\n",
    "        OC_2 += f_j[j]*x2[j]\n",
    "\n",
    "    Opening = np.round(OC_1 + OC_2)\n",
    "    \n",
    "    return(Opening)\n",
    "   \n",
    "def get_shipping_costs(scen, Y, Z, T1, T2):\n",
    "    ship_1 = 0\n",
    "    ship_2 = 0\n",
    "    ship_3 = 0\n",
    "    ship_4 = 0\n",
    "\n",
    "    # Shipment\n",
    "    for i in range(Manufacturing_plants):\n",
    "        for j in range(Distribution):\n",
    "            for m in range(Products):\n",
    "                ship_1 += Transportation_i_j[m][i][j]*Y[scen, m,i,j]\n",
    "\n",
    "    for j in range(Distribution):\n",
    "        for k in range(Market):\n",
    "            for m in range(Products):\n",
    "                ship_2 += Transportation_j_k[m][j][k]*Z[scen,m,j,k]\n",
    "\n",
    "    for l in range(Outsourced):\n",
    "        for j in range(Distribution):\n",
    "            for m in range(Products):\n",
    "                ship_3 += T_O_DC[m][l][j]*T1[scen,m,l,j]\n",
    "\n",
    "    for l in range(Outsourced):\n",
    "        for k in range(Market):\n",
    "            for m in range(Products):\n",
    "                ship_4 += T_O_MZ[m][l][k]*T2[scen,m,l,k]\n",
    "    \n",
    "    in_house_shipping = np.round(ship_1 + ship_2)\n",
    "\n",
    "    outsourced_shipping = np.round(ship_3 + ship_4)\n",
    "    \n",
    "    return(in_house_shipping, outsourced_shipping)\n",
    "\n",
    "def get_production_cost(scen, Q):\n",
    "\n",
    "    # Production\n",
    "    pr_cost = 0\n",
    "    for i in range(Manufacturing_plants):\n",
    "        for m in range(Products):\n",
    "            pr_cost += Manufacturing_costs[i][m]*Q[scen,m,i]\n",
    "            \n",
    "    return(np.round(pr_cost))\n",
    "\n",
    "def get_purchase_costs(scen, V1, V2):    \n",
    "\n",
    "    # Buying from outsource cost\n",
    "    b_cost = 0\n",
    "    for l in range(Outsourced):\n",
    "        for m in range(Products):\n",
    "            b_cost += Supplier_cost[0][m][l]*V1[scen,m,l] + Supplier_cost[1][m][l]*V2[scen,m,l]     \n",
    "\n",
    "    return(np.round(b_cost))\n",
    "\n",
    "def get_lost_cost(scen,U):\n",
    "    \n",
    "    #Lost Sales\n",
    "    l_cost = 0\n",
    "    for k in range(Market):\n",
    "        for m in range(Products):\n",
    "            l_cost += lost_sales[k][m]*U[scen,k,m]\n",
    "            \n",
    "    return(np.round(l_cost))\n",
    "\n",
    "def get_pr_penalty_costs(delta):\n",
    "    penalties = 0\n",
    "    for s in range(num_Scenarios):\n",
    "        penalties += penalty_weights[s]*delta[s]\n",
    "    return(penalties)\n",
    "\n",
    "def get_rl_rate(w):\n",
    "    rl_penalty = 0\n",
    "    for s in range(num_Scenarios):\n",
    "        for k in range(Market):\n",
    "            for m in range(Products):\n",
    "                rl_penalty += lost_sales[k][m]*w[s,k,m]*demand[s][m][k]    \n",
    "    \n",
    "    return(rl_penalty)"
   ]
  },
  {
   "cell_type": "code",
   "execution_count": 46,
   "id": "european-supplier",
   "metadata": {},
   "outputs": [],
   "source": [
    "def run_Model(p, rl, objDict):\n",
    "    for key, value in objDict.items():\n",
    "        objWeights[key] = value\n",
    "        \n",
    "    SetGurobiModel(p, rl)\n",
    "    SolveModel()"
   ]
  },
  {
   "cell_type": "code",
   "execution_count": 47,
   "id": "maritime-filter",
   "metadata": {},
   "outputs": [],
   "source": [
    "def dict_to_dataframe(Dict):\n",
    "    return pd.DataFrame([list(Dict.values())], columns = list(Dict.keys()))"
   ]
  },
  {
   "cell_type": "code",
   "execution_count": 143,
   "id": "seventh-alliance",
   "metadata": {},
   "outputs": [
    {
     "name": "stdout",
     "output_type": "stream",
     "text": [
      "obj val:  2305.4051618369717\n"
     ]
    }
   ],
   "source": [
    "run_Model(0.4, 0.95, {'f1': 0.8, 'f2': 0.2})"
   ]
  },
  {
   "cell_type": "code",
   "execution_count": 144,
   "id": "equivalent-jersey",
   "metadata": {},
   "outputs": [
    {
     "data": {
      "text/plain": [
       "True"
      ]
     },
     "execution_count": 144,
     "metadata": {},
     "output_type": "execute_result"
    }
   ],
   "source": [
    "num_correct = 0\n",
    "for s in range(num_Scenarios):\n",
    "    if np.round((Summary_dict['Purchasing_'+str(s)] + Summary_dict['Production_' + str(s) ] + Summary_dict['LostSales_' + str(s)])) == np.sum(demand[s]):\n",
    "        num_correct += 1\n",
    "    else:\n",
    "        print (np.round(Summary_dict['Purchasing_'+str(s)] + Summary_dict['Production_' + str(s) ] + Summary_dict['LostSales_' + str(s)]))\n",
    "        print(np.sum(demand[s]))\n",
    "        (print(s))\n",
    "    \n",
    "num_correct == num_Scenarios"
   ]
  },
  {
   "cell_type": "code",
   "execution_count": 145,
   "id": "purple-capability",
   "metadata": {},
   "outputs": [
    {
     "data": {
      "text/plain": [
       "21"
      ]
     },
     "execution_count": 145,
     "metadata": {},
     "output_type": "execute_result"
    }
   ],
   "source": [
    "num_correct"
   ]
  },
  {
   "cell_type": "code",
   "execution_count": 146,
   "id": "structural-crazy",
   "metadata": {},
   "outputs": [],
   "source": [
    "Purchasing = [Summary_dict['Purchasing_' + str(s)] for s in range(num_Scenarios)]\n",
    "Production = [Summary_dict['Production_' + str(s)] for s in range(num_Scenarios)]\n",
    "LostSales = [Summary_dict['LostSales_' + str(s)] for s in range(num_Scenarios)]\n",
    "OutsourceToDC = [Summary_dict['OutsourceToDC_' + str(s)] for s in range(num_Scenarios)]\n",
    "OutsourceToMarket = [Summary_dict['OutsourceToMarket_' + str(s)] for s in range(num_Scenarios)]"
   ]
  },
  {
   "cell_type": "code",
   "execution_count": 147,
   "id": "above-gossip",
   "metadata": {},
   "outputs": [],
   "source": [
    "Unit_df = pd.DataFrame(list(zip(Purchasing, Production, LostSales, OutsourceToDC, OutsourceToMarket)), \n",
    "             columns = [\"Purchasing\", \"Production\", \"LostSales\", \"OutsourceToDC\", \"OutsourceToMarket\"])"
   ]
  },
  {
   "cell_type": "code",
   "execution_count": 148,
   "id": "funded-optics",
   "metadata": {},
   "outputs": [
    {
     "data": {
      "text/html": [
       "<div>\n",
       "<style scoped>\n",
       "    .dataframe tbody tr th:only-of-type {\n",
       "        vertical-align: middle;\n",
       "    }\n",
       "\n",
       "    .dataframe tbody tr th {\n",
       "        vertical-align: top;\n",
       "    }\n",
       "\n",
       "    .dataframe thead th {\n",
       "        text-align: right;\n",
       "    }\n",
       "</style>\n",
       "<table border=\"1\" class=\"dataframe\">\n",
       "  <thead>\n",
       "    <tr style=\"text-align: right;\">\n",
       "      <th></th>\n",
       "      <th>Purchasing</th>\n",
       "      <th>Production</th>\n",
       "      <th>LostSales</th>\n",
       "      <th>OutsourceToDC</th>\n",
       "      <th>OutsourceToMarket</th>\n",
       "    </tr>\n",
       "  </thead>\n",
       "  <tbody>\n",
       "    <tr>\n",
       "      <th>0</th>\n",
       "      <td>0.0</td>\n",
       "      <td>285.0</td>\n",
       "      <td>0.0</td>\n",
       "      <td>0.0</td>\n",
       "      <td>0.0</td>\n",
       "    </tr>\n",
       "    <tr>\n",
       "      <th>1</th>\n",
       "      <td>0.0</td>\n",
       "      <td>273.0</td>\n",
       "      <td>0.0</td>\n",
       "      <td>0.0</td>\n",
       "      <td>0.0</td>\n",
       "    </tr>\n",
       "    <tr>\n",
       "      <th>2</th>\n",
       "      <td>0.0</td>\n",
       "      <td>255.0</td>\n",
       "      <td>0.0</td>\n",
       "      <td>0.0</td>\n",
       "      <td>0.0</td>\n",
       "    </tr>\n",
       "    <tr>\n",
       "      <th>3</th>\n",
       "      <td>7.0</td>\n",
       "      <td>196.0</td>\n",
       "      <td>78.0</td>\n",
       "      <td>0.0</td>\n",
       "      <td>7.0</td>\n",
       "    </tr>\n",
       "    <tr>\n",
       "      <th>4</th>\n",
       "      <td>0.0</td>\n",
       "      <td>258.0</td>\n",
       "      <td>0.0</td>\n",
       "      <td>0.0</td>\n",
       "      <td>0.0</td>\n",
       "    </tr>\n",
       "    <tr>\n",
       "      <th>5</th>\n",
       "      <td>0.0</td>\n",
       "      <td>252.0</td>\n",
       "      <td>0.0</td>\n",
       "      <td>0.0</td>\n",
       "      <td>0.0</td>\n",
       "    </tr>\n",
       "    <tr>\n",
       "      <th>6</th>\n",
       "      <td>71.0</td>\n",
       "      <td>102.0</td>\n",
       "      <td>72.0</td>\n",
       "      <td>0.0</td>\n",
       "      <td>71.0</td>\n",
       "    </tr>\n",
       "    <tr>\n",
       "      <th>7</th>\n",
       "      <td>0.0</td>\n",
       "      <td>241.0</td>\n",
       "      <td>0.0</td>\n",
       "      <td>0.0</td>\n",
       "      <td>0.0</td>\n",
       "    </tr>\n",
       "    <tr>\n",
       "      <th>8</th>\n",
       "      <td>0.0</td>\n",
       "      <td>255.0</td>\n",
       "      <td>0.0</td>\n",
       "      <td>0.0</td>\n",
       "      <td>0.0</td>\n",
       "    </tr>\n",
       "    <tr>\n",
       "      <th>9</th>\n",
       "      <td>0.0</td>\n",
       "      <td>253.0</td>\n",
       "      <td>0.0</td>\n",
       "      <td>0.0</td>\n",
       "      <td>0.0</td>\n",
       "    </tr>\n",
       "    <tr>\n",
       "      <th>10</th>\n",
       "      <td>31.0</td>\n",
       "      <td>197.0</td>\n",
       "      <td>40.0</td>\n",
       "      <td>0.0</td>\n",
       "      <td>31.0</td>\n",
       "    </tr>\n",
       "    <tr>\n",
       "      <th>11</th>\n",
       "      <td>0.0</td>\n",
       "      <td>273.0</td>\n",
       "      <td>0.0</td>\n",
       "      <td>0.0</td>\n",
       "      <td>0.0</td>\n",
       "    </tr>\n",
       "    <tr>\n",
       "      <th>12</th>\n",
       "      <td>0.0</td>\n",
       "      <td>271.0</td>\n",
       "      <td>0.0</td>\n",
       "      <td>0.0</td>\n",
       "      <td>0.0</td>\n",
       "    </tr>\n",
       "    <tr>\n",
       "      <th>13</th>\n",
       "      <td>54.0</td>\n",
       "      <td>103.0</td>\n",
       "      <td>123.0</td>\n",
       "      <td>0.0</td>\n",
       "      <td>54.0</td>\n",
       "    </tr>\n",
       "    <tr>\n",
       "      <th>14</th>\n",
       "      <td>100.0</td>\n",
       "      <td>93.0</td>\n",
       "      <td>81.0</td>\n",
       "      <td>100.0</td>\n",
       "      <td>0.0</td>\n",
       "    </tr>\n",
       "    <tr>\n",
       "      <th>15</th>\n",
       "      <td>102.0</td>\n",
       "      <td>93.0</td>\n",
       "      <td>76.0</td>\n",
       "      <td>102.0</td>\n",
       "      <td>0.0</td>\n",
       "    </tr>\n",
       "    <tr>\n",
       "      <th>16</th>\n",
       "      <td>98.0</td>\n",
       "      <td>93.0</td>\n",
       "      <td>73.0</td>\n",
       "      <td>98.0</td>\n",
       "      <td>0.0</td>\n",
       "    </tr>\n",
       "    <tr>\n",
       "      <th>17</th>\n",
       "      <td>102.0</td>\n",
       "      <td>93.0</td>\n",
       "      <td>64.0</td>\n",
       "      <td>102.0</td>\n",
       "      <td>0.0</td>\n",
       "    </tr>\n",
       "    <tr>\n",
       "      <th>18</th>\n",
       "      <td>113.0</td>\n",
       "      <td>93.0</td>\n",
       "      <td>73.0</td>\n",
       "      <td>83.0</td>\n",
       "      <td>30.0</td>\n",
       "    </tr>\n",
       "    <tr>\n",
       "      <th>19</th>\n",
       "      <td>77.0</td>\n",
       "      <td>94.0</td>\n",
       "      <td>75.0</td>\n",
       "      <td>17.0</td>\n",
       "      <td>60.0</td>\n",
       "    </tr>\n",
       "    <tr>\n",
       "      <th>20</th>\n",
       "      <td>92.0</td>\n",
       "      <td>94.0</td>\n",
       "      <td>70.0</td>\n",
       "      <td>8.0</td>\n",
       "      <td>84.0</td>\n",
       "    </tr>\n",
       "  </tbody>\n",
       "</table>\n",
       "</div>"
      ],
      "text/plain": [
       "    Purchasing  Production  LostSales  OutsourceToDC  OutsourceToMarket\n",
       "0          0.0       285.0        0.0            0.0                0.0\n",
       "1          0.0       273.0        0.0            0.0                0.0\n",
       "2          0.0       255.0        0.0            0.0                0.0\n",
       "3          7.0       196.0       78.0            0.0                7.0\n",
       "4          0.0       258.0        0.0            0.0                0.0\n",
       "5          0.0       252.0        0.0            0.0                0.0\n",
       "6         71.0       102.0       72.0            0.0               71.0\n",
       "7          0.0       241.0        0.0            0.0                0.0\n",
       "8          0.0       255.0        0.0            0.0                0.0\n",
       "9          0.0       253.0        0.0            0.0                0.0\n",
       "10        31.0       197.0       40.0            0.0               31.0\n",
       "11         0.0       273.0        0.0            0.0                0.0\n",
       "12         0.0       271.0        0.0            0.0                0.0\n",
       "13        54.0       103.0      123.0            0.0               54.0\n",
       "14       100.0        93.0       81.0          100.0                0.0\n",
       "15       102.0        93.0       76.0          102.0                0.0\n",
       "16        98.0        93.0       73.0           98.0                0.0\n",
       "17       102.0        93.0       64.0          102.0                0.0\n",
       "18       113.0        93.0       73.0           83.0               30.0\n",
       "19        77.0        94.0       75.0           17.0               60.0\n",
       "20        92.0        94.0       70.0            8.0               84.0"
      ]
     },
     "execution_count": 148,
     "metadata": {},
     "output_type": "execute_result"
    }
   ],
   "source": [
    "np.round(Unit_df)"
   ]
  },
  {
   "cell_type": "code",
   "execution_count": 149,
   "id": "super-architect",
   "metadata": {},
   "outputs": [
    {
     "data": {
      "text/plain": [
       "281.0"
      ]
     },
     "execution_count": 149,
     "metadata": {},
     "output_type": "execute_result"
    }
   ],
   "source": [
    "np.sum(demand[3])"
   ]
  },
  {
   "cell_type": "code",
   "execution_count": 150,
   "id": "musical-concept",
   "metadata": {},
   "outputs": [],
   "source": [
    "Scen_demand = 1 - np.array(list(Unit_df['LostSales']))/(np.array(list(Unit_df['Purchasing'])) + np.array(list(Unit_df['Production'])) + (np.array(list(Unit_df['LostSales']))))"
   ]
  },
  {
   "cell_type": "code",
   "execution_count": 151,
   "id": "false-superintendent",
   "metadata": {},
   "outputs": [],
   "source": [
    "Purchasing_cost = [Cost_dict['Purchasing_' + str(s)] for s in range(num_Scenarios)]\n",
    "Production_cost = [Cost_dict['Production_' + str(s)] for s in range(num_Scenarios)]\n",
    "LostSales_cost = [Cost_dict['LostSales_' + str(s)] for s in range(num_Scenarios)]\n",
    "InHouseShipping = [Cost_dict['InHouseShipping_' + str(s)] for s in range(num_Scenarios)]\n",
    "OutsourceShipping = [Cost_dict['OutsourceShipping_' + str(s)] for s in range(num_Scenarios)]"
   ]
  },
  {
   "cell_type": "code",
   "execution_count": 154,
   "id": "distinguished-planet",
   "metadata": {},
   "outputs": [
    {
     "data": {
      "text/plain": [
       "2305.28"
      ]
     },
     "execution_count": 154,
     "metadata": {},
     "output_type": "execute_result"
    }
   ],
   "source": [
    "0.8*Cost_dict['f1'] + 0.2*Cost_dict['f2']"
   ]
  },
  {
   "cell_type": "code",
   "execution_count": 155,
   "id": "removed-difficulty",
   "metadata": {},
   "outputs": [
    {
     "data": {
      "text/plain": [
       "2305.4051618369704"
      ]
     },
     "execution_count": 155,
     "metadata": {},
     "output_type": "execute_result"
    }
   ],
   "source": [
    "grbModel.objVal"
   ]
  },
  {
   "cell_type": "code",
   "execution_count": 156,
   "id": "empty-holly",
   "metadata": {},
   "outputs": [],
   "source": [
    "Cost_df = pd.DataFrame(list(zip(Purchasing_cost, Production_cost, LostSales_cost, InHouseShipping, OutsourceShipping)), \n",
    "             columns = [\"Purchasing\", \"Production\", \"LostSales\", \"InHouseShipping\", \"OutsourceShipping\"])"
   ]
  },
  {
   "cell_type": "code",
   "execution_count": 157,
   "id": "professional-algebra",
   "metadata": {},
   "outputs": [
    {
     "data": {
      "text/html": [
       "<div>\n",
       "<style scoped>\n",
       "    .dataframe tbody tr th:only-of-type {\n",
       "        vertical-align: middle;\n",
       "    }\n",
       "\n",
       "    .dataframe tbody tr th {\n",
       "        vertical-align: top;\n",
       "    }\n",
       "\n",
       "    .dataframe thead th {\n",
       "        text-align: right;\n",
       "    }\n",
       "</style>\n",
       "<table border=\"1\" class=\"dataframe\">\n",
       "  <thead>\n",
       "    <tr style=\"text-align: right;\">\n",
       "      <th></th>\n",
       "      <th>Purchasing</th>\n",
       "      <th>Production</th>\n",
       "      <th>LostSales</th>\n",
       "      <th>InHouseShipping</th>\n",
       "      <th>OutsourceShipping</th>\n",
       "    </tr>\n",
       "  </thead>\n",
       "  <tbody>\n",
       "    <tr>\n",
       "      <th>0</th>\n",
       "      <td>0.0</td>\n",
       "      <td>349.0</td>\n",
       "      <td>0.0</td>\n",
       "      <td>513.0</td>\n",
       "      <td>0.0</td>\n",
       "    </tr>\n",
       "    <tr>\n",
       "      <th>1</th>\n",
       "      <td>0.0</td>\n",
       "      <td>322.0</td>\n",
       "      <td>0.0</td>\n",
       "      <td>504.0</td>\n",
       "      <td>0.0</td>\n",
       "    </tr>\n",
       "    <tr>\n",
       "      <th>2</th>\n",
       "      <td>0.0</td>\n",
       "      <td>310.0</td>\n",
       "      <td>0.0</td>\n",
       "      <td>453.0</td>\n",
       "      <td>0.0</td>\n",
       "    </tr>\n",
       "    <tr>\n",
       "      <th>3</th>\n",
       "      <td>131.0</td>\n",
       "      <td>219.0</td>\n",
       "      <td>1419.0</td>\n",
       "      <td>329.0</td>\n",
       "      <td>38.0</td>\n",
       "    </tr>\n",
       "    <tr>\n",
       "      <th>4</th>\n",
       "      <td>0.0</td>\n",
       "      <td>302.0</td>\n",
       "      <td>0.0</td>\n",
       "      <td>645.0</td>\n",
       "      <td>0.0</td>\n",
       "    </tr>\n",
       "    <tr>\n",
       "      <th>5</th>\n",
       "      <td>0.0</td>\n",
       "      <td>298.0</td>\n",
       "      <td>0.0</td>\n",
       "      <td>737.0</td>\n",
       "      <td>0.0</td>\n",
       "    </tr>\n",
       "    <tr>\n",
       "      <th>6</th>\n",
       "      <td>1266.0</td>\n",
       "      <td>111.0</td>\n",
       "      <td>1320.0</td>\n",
       "      <td>226.0</td>\n",
       "      <td>416.0</td>\n",
       "    </tr>\n",
       "    <tr>\n",
       "      <th>7</th>\n",
       "      <td>0.0</td>\n",
       "      <td>310.0</td>\n",
       "      <td>0.0</td>\n",
       "      <td>448.0</td>\n",
       "      <td>0.0</td>\n",
       "    </tr>\n",
       "    <tr>\n",
       "      <th>8</th>\n",
       "      <td>0.0</td>\n",
       "      <td>330.0</td>\n",
       "      <td>0.0</td>\n",
       "      <td>478.0</td>\n",
       "      <td>0.0</td>\n",
       "    </tr>\n",
       "    <tr>\n",
       "      <th>9</th>\n",
       "      <td>0.0</td>\n",
       "      <td>324.0</td>\n",
       "      <td>0.0</td>\n",
       "      <td>479.0</td>\n",
       "      <td>0.0</td>\n",
       "    </tr>\n",
       "    <tr>\n",
       "      <th>10</th>\n",
       "      <td>545.0</td>\n",
       "      <td>246.0</td>\n",
       "      <td>751.0</td>\n",
       "      <td>341.0</td>\n",
       "      <td>189.0</td>\n",
       "    </tr>\n",
       "    <tr>\n",
       "      <th>11</th>\n",
       "      <td>0.0</td>\n",
       "      <td>355.0</td>\n",
       "      <td>0.0</td>\n",
       "      <td>735.0</td>\n",
       "      <td>0.0</td>\n",
       "    </tr>\n",
       "    <tr>\n",
       "      <th>12</th>\n",
       "      <td>0.0</td>\n",
       "      <td>349.0</td>\n",
       "      <td>0.0</td>\n",
       "      <td>785.0</td>\n",
       "      <td>0.0</td>\n",
       "    </tr>\n",
       "    <tr>\n",
       "      <th>13</th>\n",
       "      <td>961.0</td>\n",
       "      <td>122.0</td>\n",
       "      <td>2330.0</td>\n",
       "      <td>283.0</td>\n",
       "      <td>305.0</td>\n",
       "    </tr>\n",
       "    <tr>\n",
       "      <th>14</th>\n",
       "      <td>1785.0</td>\n",
       "      <td>105.0</td>\n",
       "      <td>1490.0</td>\n",
       "      <td>192.0</td>\n",
       "      <td>339.0</td>\n",
       "    </tr>\n",
       "    <tr>\n",
       "      <th>15</th>\n",
       "      <td>1821.0</td>\n",
       "      <td>106.0</td>\n",
       "      <td>1397.0</td>\n",
       "      <td>206.0</td>\n",
       "      <td>350.0</td>\n",
       "    </tr>\n",
       "    <tr>\n",
       "      <th>16</th>\n",
       "      <td>1749.0</td>\n",
       "      <td>106.0</td>\n",
       "      <td>1337.0</td>\n",
       "      <td>197.0</td>\n",
       "      <td>329.0</td>\n",
       "    </tr>\n",
       "    <tr>\n",
       "      <th>17</th>\n",
       "      <td>1820.0</td>\n",
       "      <td>106.0</td>\n",
       "      <td>1179.0</td>\n",
       "      <td>226.0</td>\n",
       "      <td>345.0</td>\n",
       "    </tr>\n",
       "    <tr>\n",
       "      <th>18</th>\n",
       "      <td>2029.0</td>\n",
       "      <td>105.0</td>\n",
       "      <td>1343.0</td>\n",
       "      <td>251.0</td>\n",
       "      <td>485.0</td>\n",
       "    </tr>\n",
       "    <tr>\n",
       "      <th>19</th>\n",
       "      <td>1380.0</td>\n",
       "      <td>109.0</td>\n",
       "      <td>1376.0</td>\n",
       "      <td>231.0</td>\n",
       "      <td>390.0</td>\n",
       "    </tr>\n",
       "    <tr>\n",
       "      <th>20</th>\n",
       "      <td>1635.0</td>\n",
       "      <td>107.0</td>\n",
       "      <td>1286.0</td>\n",
       "      <td>211.0</td>\n",
       "      <td>534.0</td>\n",
       "    </tr>\n",
       "  </tbody>\n",
       "</table>\n",
       "</div>"
      ],
      "text/plain": [
       "    Purchasing  Production  LostSales  InHouseShipping  OutsourceShipping\n",
       "0          0.0       349.0        0.0            513.0                0.0\n",
       "1          0.0       322.0        0.0            504.0                0.0\n",
       "2          0.0       310.0        0.0            453.0                0.0\n",
       "3        131.0       219.0     1419.0            329.0               38.0\n",
       "4          0.0       302.0        0.0            645.0                0.0\n",
       "5          0.0       298.0        0.0            737.0                0.0\n",
       "6       1266.0       111.0     1320.0            226.0              416.0\n",
       "7          0.0       310.0        0.0            448.0                0.0\n",
       "8          0.0       330.0        0.0            478.0                0.0\n",
       "9          0.0       324.0        0.0            479.0                0.0\n",
       "10       545.0       246.0      751.0            341.0              189.0\n",
       "11         0.0       355.0        0.0            735.0                0.0\n",
       "12         0.0       349.0        0.0            785.0                0.0\n",
       "13       961.0       122.0     2330.0            283.0              305.0\n",
       "14      1785.0       105.0     1490.0            192.0              339.0\n",
       "15      1821.0       106.0     1397.0            206.0              350.0\n",
       "16      1749.0       106.0     1337.0            197.0              329.0\n",
       "17      1820.0       106.0     1179.0            226.0              345.0\n",
       "18      2029.0       105.0     1343.0            251.0              485.0\n",
       "19      1380.0       109.0     1376.0            231.0              390.0\n",
       "20      1635.0       107.0     1286.0            211.0              534.0"
      ]
     },
     "execution_count": 157,
     "metadata": {},
     "output_type": "execute_result"
    }
   ],
   "source": [
    "Cost_df"
   ]
  },
  {
   "cell_type": "code",
   "execution_count": 158,
   "id": "pointed-output",
   "metadata": {},
   "outputs": [
    {
     "data": {
      "text/plain": [
       "2.0"
      ]
     },
     "execution_count": 158,
     "metadata": {},
     "output_type": "execute_result"
    }
   ],
   "source": [
    "Summary_dict[\"OpenMPs\"]"
   ]
  },
  {
   "cell_type": "code",
   "execution_count": 159,
   "id": "hybrid-chorus",
   "metadata": {},
   "outputs": [
    {
     "data": {
      "text/plain": [
       "3.0"
      ]
     },
     "execution_count": 159,
     "metadata": {},
     "output_type": "execute_result"
    }
   ],
   "source": [
    "Summary_dict[\"OpenDCs\"]"
   ]
  },
  {
   "cell_type": "code",
   "execution_count": 160,
   "id": "opening-casting",
   "metadata": {},
   "outputs": [],
   "source": [
    "scen_costs = [Cost_dict['Opening'] + Purchasing_cost[s] + Production_cost[s] + InHouseShipping[s] + OutsourceShipping[s] + LostSales_cost[s] for s in range(num_Scenarios)]"
   ]
  },
  {
   "cell_type": "code",
   "execution_count": 161,
   "id": "desirable-advertising",
   "metadata": {},
   "outputs": [
    {
     "data": {
      "text/plain": [
       "array([0.0693006 , 0.08376026, 0.04650966, 0.08111018, 0.05610267,\n",
       "       0.09130067, 0.14198455, 0.12979338, 0.13189237, 0.08431895,\n",
       "       0.16764696, 0.08665463, 0.12141847, 0.08776483, 0.14079419,\n",
       "       0.14571495, 0.14554078, 0.15949073, 0.15563334, 0.17104812,\n",
       "       0.197301  ])"
      ]
     },
     "execution_count": 161,
     "metadata": {},
     "output_type": "execute_result"
    }
   ],
   "source": [
    "(np.array(scen_costs) - np.array(scen_objs))/np.array(scen_objs)"
   ]
  },
  {
   "cell_type": "code",
   "execution_count": 162,
   "id": "unlimited-cigarette",
   "metadata": {},
   "outputs": [
    {
     "data": {
      "text/plain": [
       "2724.1"
      ]
     },
     "execution_count": 162,
     "metadata": {},
     "output_type": "execute_result"
    }
   ],
   "source": [
    "Cost_dict['f1']"
   ]
  },
  {
   "cell_type": "code",
   "execution_count": 163,
   "id": "marked-installation",
   "metadata": {},
   "outputs": [
    {
     "data": {
      "text/plain": [
       "630.0"
      ]
     },
     "execution_count": 163,
     "metadata": {},
     "output_type": "execute_result"
    }
   ],
   "source": [
    "Cost_dict['f2']"
   ]
  },
  {
   "cell_type": "code",
   "execution_count": 164,
   "id": "accessory-cursor",
   "metadata": {},
   "outputs": [
    {
     "data": {
      "text/plain": [
       "0.0"
      ]
     },
     "execution_count": 164,
     "metadata": {},
     "output_type": "execute_result"
    }
   ],
   "source": [
    "Cost_dict['pr_Penalties']"
   ]
  },
  {
   "cell_type": "markdown",
   "id": "exotic-tunisia",
   "metadata": {},
   "source": [
    "## Heat Maps"
   ]
  },
  {
   "cell_type": "code",
   "execution_count": 166,
   "id": "trying-somewhere",
   "metadata": {},
   "outputs": [],
   "source": [
    "U = grbModel.getAttr('x',U_km)"
   ]
  },
  {
   "cell_type": "code",
   "execution_count": 167,
   "id": "acceptable-monitoring",
   "metadata": {},
   "outputs": [],
   "source": [
    "U_km_mat = np.zeros((num_Scenarios, Products, Market))"
   ]
  },
  {
   "cell_type": "code",
   "execution_count": 168,
   "id": "signed-router",
   "metadata": {},
   "outputs": [],
   "source": [
    "for s in range(num_Scenarios):\n",
    "    for k in range(Market):\n",
    "        for m in range(Products):\n",
    "            U_km_mat[s][m][k] = U[s,k,m]"
   ]
  },
  {
   "cell_type": "code",
   "execution_count": 169,
   "id": "virgin-newport",
   "metadata": {},
   "outputs": [],
   "source": [
    "s_lostSales = sum(U_km_mat)"
   ]
  },
  {
   "cell_type": "code",
   "execution_count": 170,
   "id": "silent-leonard",
   "metadata": {},
   "outputs": [],
   "source": [
    "s_Demand = sum(demand)"
   ]
  },
  {
   "cell_type": "code",
   "execution_count": 171,
   "id": "collective-orbit",
   "metadata": {},
   "outputs": [
    {
     "data": {
      "text/plain": [
       "array([[429., 512., 637., 733.],\n",
       "       [639., 760., 850., 978.]])"
      ]
     },
     "execution_count": 171,
     "metadata": {},
     "output_type": "execute_result"
    }
   ],
   "source": [
    "s_Demand"
   ]
  },
  {
   "cell_type": "code",
   "execution_count": 172,
   "id": "noticed-affairs",
   "metadata": {},
   "outputs": [],
   "source": [
    "demand_met = 1 - s_lostSales/s_Demand"
   ]
  },
  {
   "cell_type": "code",
   "execution_count": 173,
   "id": "measured-wedding",
   "metadata": {},
   "outputs": [
    {
     "data": {
      "text/plain": [
       "array([[0.99790629, 0.98050781, 0.52779215, 0.97372251],\n",
       "       [0.97313678, 0.49473684, 0.92081259, 0.97311115]])"
      ]
     },
     "execution_count": 173,
     "metadata": {},
     "output_type": "execute_result"
    }
   ],
   "source": [
    "demand_met"
   ]
  },
  {
   "cell_type": "code",
   "execution_count": 183,
   "id": "excessive-walker",
   "metadata": {},
   "outputs": [
    {
     "name": "stderr",
     "output_type": "stream",
     "text": [
      "C:\\Users\\Devika Kabe\\Anaconda3\\lib\\site-packages\\ipykernel_launcher.py:2: MatplotlibDeprecationWarning: Adding an axes using the same arguments as a previous axes currently reuses the earlier instance.  In a future version, a new instance will always be created and returned.  Meanwhile, this warning can be suppressed, and the future behavior ensured, by passing a unique label to each axes instance.\n",
      "  \n"
     ]
    },
    {
     "data": {
      "image/png": "[encoded data removed]",
      "text/plain": [
       "<Figure size 432x288 with 2 Axes>"
      ]
     },
     "metadata": {
      "needs_background": "light"
     },
     "output_type": "display_data"
    }
   ],
   "source": [
    "sns.heatmap(demand_met, cmap = \"Reds\")\n",
    "plt.axes().set_title(\"Average Demand Met Per Product Per Market\", fontsize = 14)\n",
    "plt.xlabel('Market Zone', fontsize = 12)\n",
    "plt.ylabel('Product', fontsize = 12)\n",
    "plt.show()"
   ]
  },
  {
   "cell_type": "code",
   "execution_count": 203,
   "id": "clean-oriental",
   "metadata": {},
   "outputs": [
    {
     "name": "stderr",
     "output_type": "stream",
     "text": [
      "C:\\Users\\Devika Kabe\\Anaconda3\\lib\\site-packages\\ipykernel_launcher.py:3: MatplotlibDeprecationWarning: Adding an axes using the same arguments as a previous axes currently reuses the earlier instance.  In a future version, a new instance will always be created and returned.  Meanwhile, this warning can be suppressed, and the future behavior ensured, by passing a unique label to each axes instance.\n",
      "  This is separate from the ipykernel package so we can avoid doing imports until\n"
     ]
    },
    {
     "data": {
      "image/png": "[encoded data removed]",
      "text/plain": [
       "<Figure size 576x360 with 2 Axes>"
      ]
     },
     "metadata": {
      "needs_background": "light"
     },
     "output_type": "display_data"
    }
   ],
   "source": [
    "plt.figure(figsize = (8,5))\n",
    "sns.heatmap([Scen_demand], cmap = \"Reds\", yticklabels = False)\n",
    "plt.axes().set_title(\"Total Scenario Demand Met\", fontsize = 14)\n",
    "plt.xlabel('Scenarios', fontsize = 12)\n",
    "plt.show()"
   ]
  },
  {
   "cell_type": "markdown",
   "id": "worldwide-concord",
   "metadata": {},
   "source": [
    "## Connections between Nodes "
   ]
  },
  {
   "cell_type": "code",
   "execution_count": 80,
   "id": "martial-stanley",
   "metadata": {},
   "outputs": [],
   "source": [
    "# Manufacturing Plant -> DC -> Market Zone"
   ]
  },
  {
   "cell_type": "code",
   "execution_count": 81,
   "id": "desirable-birthday",
   "metadata": {},
   "outputs": [],
   "source": [
    "MP = [\"I_\" + str(i) for i in range(Manufacturing_plants)]\n",
    "DC = [\"J_\" + str(j) for j in range(Distribution)]\n",
    "MZ = [\"K_\" + str(k) for k in range(Market)]\n",
    "Position_dic = {}\n",
    "Node_colors = []\n",
    "Edge_colors = []\n",
    "Node_size = []\n",
    "Weight = []\n",
    "Weight_ij = []\n",
    "Weight_jk = []\n",
    "Max_p = max(Manufacturing_plants, Distribution, Market)"
   ]
  },
  {
   "cell_type": "code",
   "execution_count": 82,
   "id": "fluid-longitude",
   "metadata": {},
   "outputs": [],
   "source": [
    "Y = grbModel.getAttr('x', Y_ijm)\n",
    "Z = grbModel.getAttr('x', Z_jkm)"
   ]
  },
  {
   "cell_type": "code",
   "execution_count": 83,
   "id": "iraqi-uzbekistan",
   "metadata": {},
   "outputs": [],
   "source": [
    "Y_mat = np.array(list(Y.values())).reshape(num_Scenarios, Products, Manufacturing_plants, Distribution)\n",
    "Z_mat = np.array(list(Z.values())).reshape(num_Scenarios, Products, Distribution, Market)"
   ]
  },
  {
   "cell_type": "code",
   "execution_count": 84,
   "id": "beginning-wagon",
   "metadata": {},
   "outputs": [],
   "source": [
    "Yij = sum(sum(Y_mat))/num_Scenarios"
   ]
  },
  {
   "cell_type": "code",
   "execution_count": 85,
   "id": "hearing-lithuania",
   "metadata": {},
   "outputs": [],
   "source": [
    "Zjk = sum(sum(Z_mat))/num_Scenarios"
   ]
  },
  {
   "cell_type": "code",
   "execution_count": 86,
   "id": "young-empire",
   "metadata": {},
   "outputs": [
    {
     "name": "stderr",
     "output_type": "stream",
     "text": [
      "C:\\Users\\Devika Kabe\\Anaconda3\\lib\\site-packages\\ipykernel_launcher.py:68: MatplotlibDeprecationWarning: Adding an axes using the same arguments as a previous axes currently reuses the earlier instance.  In a future version, a new instance will always be created and returned.  Meanwhile, this warning can be suppressed, and the future behavior ensured, by passing a unique label to each axes instance.\n"
     ]
    },
    {
     "data": {
      "image/png": "[encoded data removed]",
      "text/plain": [
       "<Figure size 1440x1080 with 1 Axes>"
      ]
     },
     "metadata": {},
     "output_type": "display_data"
    }
   ],
   "source": [
    "IJ_edges = []\n",
    "for i in range(Manufacturing_plants):\n",
    "    for j in range(Distribution):\n",
    "        #if Yij[i][j] > 0:\n",
    "        IJ_edges.append((\"I_\" + str(i), \"J_\" + str(j)))    \n",
    "Weight_ij.extend(Yij.sum(axis=1))\n",
    "    \n",
    "JK_edges = []\n",
    "for j in range(Distribution):\n",
    "    for k in range(Market):\n",
    "        #if Zjk[j][k] > 0:\n",
    "        JK_edges.append((\"J_\" + str(j), \"K_\" + str(k)))\n",
    "Weight_jk.extend(Zjk.sum(axis=1))\n",
    "    \n",
    "Weight.extend([3*Yij[i][j]/max(Weight_ij) for i in range(Manufacturing_plants) for j in range(Distribution)])\n",
    "Weight.extend([4*Zjk[j][k]/max(Weight_jk) for j in range(Distribution) for k in range(Market)])\n",
    "            \n",
    "Labels = []\n",
    "Graph = nx.Graph()\n",
    "\n",
    "Position_values = []\n",
    "y_pos = np.linspace(0, Max_p, Manufacturing_plants)\n",
    "for i in range(Manufacturing_plants):\n",
    "    position = (0, y_pos[i])\n",
    "    Graph.add_node(MP[i])\n",
    "    Node_colors.append('navy')\n",
    "    Labels.append(\"i\" + str(i))\n",
    "    Position_values.append(np.asarray(position))\n",
    "Position_dic = dict(zip(MP, Position_values))\n",
    "\n",
    "Position_values = []\n",
    "y_pos = np.linspace(0, Max_p, Distribution)\n",
    "for j in range(Distribution):\n",
    "    position = (1, y_pos[j])\n",
    "    Graph.add_node(DC[j])\n",
    "    Node_colors.append('red')\n",
    "    Labels.append(\"j\" + str(j))\n",
    "    Position_values.append(np.asarray(position))\n",
    "Position_dic.update(dict(zip(DC, Position_values)))\n",
    "\n",
    "Position_values = []\n",
    "y_pos = np.linspace(0, Max_p, Market)\n",
    "for k in range(Market):\n",
    "    position = (2, y_pos[k])\n",
    "    Graph.add_node(MZ[k])\n",
    "    Node_colors.append('purple')\n",
    "    Labels.append(\"k\" + str(k))\n",
    "    Position_values.append(np.asarray(position))\n",
    "Position_dic.update(dict(zip(MZ, Position_values)))\n",
    "\n",
    "# Add Edges\n",
    "\n",
    "Graph.add_edges_from(IJ_edges)\n",
    "Graph.add_edges_from(JK_edges)\n",
    "Edge_colors.extend(['black' for i in IJ_edges])\n",
    "Edge_colors.extend(['darkseagreen' for i in JK_edges])\n",
    "\n",
    "nodePos = nx.shell_layout(Graph)\n",
    "nx.draw_networkx(Graph, with_labels = False, node_color = Node_colors, edge_color = Edge_colors, pos = Position_dic, width = Weight)\n",
    "\n",
    "limits=plt.axis('off')\n",
    "plt.gcf().set_size_inches(20, 15)\n",
    "\n",
    "lengend_mp = mpatches.Patch(color = 'navy', label = 'Manufacturing Plants')\n",
    "lengend_dc = mpatches.Patch(color = 'red', label = 'Distribution Centres')\n",
    "lengend_mz = mpatches.Patch(color = 'purple', label = 'Market Zones')\n",
    "\n",
    "ax = plt.subplot(111)\n",
    "ax.legend(loc = 'lower center', handles=[lengend_mp, lengend_dc, lengend_mz], ncol = 3, borderpad=1)\n",
    "\n",
    "plt.show()"
   ]
  },
  {
   "cell_type": "code",
   "execution_count": 87,
   "id": "driven-house",
   "metadata": {},
   "outputs": [],
   "source": [
    "# Outsource -> DC"
   ]
  },
  {
   "cell_type": "code",
   "execution_count": 88,
   "id": "median-beverage",
   "metadata": {},
   "outputs": [],
   "source": [
    "T1 = grbModel.getAttr('x', T_ljm)"
   ]
  },
  {
   "cell_type": "code",
   "execution_count": 89,
   "id": "selective-filename",
   "metadata": {},
   "outputs": [],
   "source": [
    "T1_mat = np.array(list(T1.values())).reshape(num_Scenarios, Products, Outsourced, Distribution)"
   ]
  },
  {
   "cell_type": "code",
   "execution_count": 90,
   "id": "amended-mambo",
   "metadata": {},
   "outputs": [],
   "source": [
    "Tlj = sum(sum(T1_mat))/num_Scenarios"
   ]
  },
  {
   "cell_type": "code",
   "execution_count": 91,
   "id": "collect-watershed",
   "metadata": {},
   "outputs": [],
   "source": [
    "O = [\"L_\" + str(l) for l in range(Outsourced)]"
   ]
  },
  {
   "cell_type": "code",
   "execution_count": 92,
   "id": "solar-biotechnology",
   "metadata": {},
   "outputs": [],
   "source": [
    "Position_dic = {}\n",
    "Node_colors = []\n",
    "Edge_colors = []\n",
    "Weight = []\n",
    "Weight_lj = []\n",
    "Max_p = max(Outsourced, Distribution)"
   ]
  },
  {
   "cell_type": "code",
   "execution_count": 93,
   "id": "bronze-broadcast",
   "metadata": {},
   "outputs": [
    {
     "name": "stderr",
     "output_type": "stream",
     "text": [
      "C:\\Users\\Devika Kabe\\Anaconda3\\lib\\site-packages\\ipykernel_launcher.py:47: MatplotlibDeprecationWarning: Adding an axes using the same arguments as a previous axes currently reuses the earlier instance.  In a future version, a new instance will always be created and returned.  Meanwhile, this warning can be suppressed, and the future behavior ensured, by passing a unique label to each axes instance.\n"
     ]
    },
    {
     "data": {
      "image/png": "[encoded data removed]",
      "text/plain": [
       "<Figure size 1440x1080 with 1 Axes>"
      ]
     },
     "metadata": {},
     "output_type": "display_data"
    }
   ],
   "source": [
    "LJ_edges = []\n",
    "for l in range(Outsourced):\n",
    "    for j in range(Distribution):\n",
    "        #if Tlj[l][j] > 0:\n",
    "        LJ_edges.append((\"L_\" + str(l), \"J_\" + str(j)))    \n",
    "Weight_lj.extend(Tlj.sum(axis = 1))\n",
    "\n",
    "Weight.extend([3*Tlj[l][j]/max(Weight_lj) for l in range(Outsourced) for j in range(Distribution)])\n",
    "            \n",
    "Labels = []\n",
    "Graph = nx.Graph()\n",
    "\n",
    "Position_values = []\n",
    "y_pos = np.linspace(0, Max_p, Outsourced)\n",
    "for l in range(Outsourced):\n",
    "    position = (0, y_pos[l])\n",
    "    Graph.add_node(O[l])\n",
    "    Node_colors.append('teal')\n",
    "    Labels.append(\"l\" + str(l))\n",
    "    Position_values.append(np.asarray(position))\n",
    "Position_dic = dict(zip(O, Position_values))\n",
    "\n",
    "Position_values = []\n",
    "y_pos = np.linspace(0, Max_p, Distribution)\n",
    "for j in range(Distribution):\n",
    "    position = (1, y_pos[j])\n",
    "    Graph.add_node(DC[j])\n",
    "    Node_colors.append('red')\n",
    "    Labels.append(\"j\" + str(j))\n",
    "    Position_values.append(np.asarray(position))\n",
    "Position_dic.update(dict(zip(DC, Position_values)))\n",
    "\n",
    "\n",
    "# Add edges\n",
    "Graph.add_edges_from(LJ_edges)\n",
    "Edge_colors.extend(['tan' for l in LJ_edges])\n",
    "\n",
    "nodePos = nx.shell_layout(Graph)\n",
    "nx.draw_networkx(Graph, with_labels = False, node_color = Node_colors, edge_color = Edge_colors, pos = Position_dic, width = Weight)\n",
    "\n",
    "limits=plt.axis('off')\n",
    "plt.gcf().set_size_inches(20, 15)\n",
    "\n",
    "lengend_o = mpatches.Patch(color = 'teal', label = 'Outsourced Facilities')\n",
    "lengend_dc = mpatches.Patch(color = 'red', label = 'Distribution Centres')\n",
    "\n",
    "ax = plt.subplot(111)\n",
    "ax.legend(loc = 'lower center', handles=[lengend_o, lengend_dc], ncol = 2, borderpad=1)\n",
    "\n",
    "plt.show()\n"
   ]
  },
  {
   "cell_type": "code",
   "execution_count": 94,
   "id": "rocky-jamaica",
   "metadata": {},
   "outputs": [],
   "source": [
    "# Outsource -> Market Zone"
   ]
  },
  {
   "cell_type": "code",
   "execution_count": 95,
   "id": "virgin-trigger",
   "metadata": {},
   "outputs": [],
   "source": [
    "T2 = grbModel.getAttr('x', T_lkm)"
   ]
  },
  {
   "cell_type": "code",
   "execution_count": 96,
   "id": "complex-values",
   "metadata": {},
   "outputs": [],
   "source": [
    "T2_mat = np.array(list(T2.values())).reshape(num_Scenarios, Products, Outsourced, Market)"
   ]
  },
  {
   "cell_type": "code",
   "execution_count": 97,
   "id": "turkish-conducting",
   "metadata": {},
   "outputs": [],
   "source": [
    "Tlk = sum(sum(T2_mat))/num_Scenarios"
   ]
  },
  {
   "cell_type": "code",
   "execution_count": 98,
   "id": "loving-pitch",
   "metadata": {},
   "outputs": [],
   "source": [
    "Position_dic = {}\n",
    "Node_colors = []\n",
    "Edge_colors = []\n",
    "Weight = []\n",
    "Weight_lk = []\n",
    "Max_p = max(Outsourced, Market)"
   ]
  },
  {
   "cell_type": "code",
   "execution_count": 99,
   "id": "refined-cycling",
   "metadata": {},
   "outputs": [
    {
     "name": "stderr",
     "output_type": "stream",
     "text": [
      "C:\\Users\\Devika Kabe\\Anaconda3\\lib\\site-packages\\ipykernel_launcher.py:47: MatplotlibDeprecationWarning: Adding an axes using the same arguments as a previous axes currently reuses the earlier instance.  In a future version, a new instance will always be created and returned.  Meanwhile, this warning can be suppressed, and the future behavior ensured, by passing a unique label to each axes instance.\n"
     ]
    },
    {
     "data": {
      "image/png": "[encoded data removed]",
      "text/plain": [
       "<Figure size 1440x1080 with 1 Axes>"
      ]
     },
     "metadata": {},
     "output_type": "display_data"
    }
   ],
   "source": [
    "LK_edges = []\n",
    "for l in range(Outsourced):\n",
    "    for k in range(Market):\n",
    "        #if Tlk[l][k] > 0:\n",
    "        LK_edges.append((\"L_\" + str(l), \"K_\" + str(k)))    \n",
    "Weight_lk.extend(Tlk.sum(axis = 1))\n",
    "\n",
    "Weight.extend([4*Tlk[l][k]/max(Weight_lk) for l in range(Outsourced) for k in range(Market)])\n",
    "            \n",
    "Labels = []\n",
    "Graph = nx.Graph()\n",
    "\n",
    "Position_values = []\n",
    "y_pos = np.linspace(0, Max_p, Outsourced)\n",
    "for l in range(Outsourced):\n",
    "    position = (0, y_pos[l])\n",
    "    Graph.add_node(O[l])\n",
    "    Node_colors.append('teal')\n",
    "    Labels.append(\"l\" + str(l))\n",
    "    Position_values.append(np.asarray(position))\n",
    "Position_dic = dict(zip(O, Position_values))\n",
    "\n",
    "Position_values = []\n",
    "y_pos = np.linspace(0, Max_p, Market)\n",
    "for k in range(Market):\n",
    "    position = (1, y_pos[k])\n",
    "    Graph.add_node(MZ[k])\n",
    "    Node_colors.append('purple')\n",
    "    Labels.append(\"k\" + str(k))\n",
    "    Position_values.append(np.asarray(position))\n",
    "Position_dic.update(dict(zip(MZ, Position_values)))\n",
    "\n",
    "\n",
    "# Add edges\n",
    "Graph.add_edges_from(LK_edges)\n",
    "Edge_colors.extend(['tan' for l in LK_edges])\n",
    "\n",
    "nodePos = nx.shell_layout(Graph)\n",
    "nx.draw_networkx(Graph, with_labels = False, node_color = Node_colors, edge_color = Edge_colors, pos = Position_dic, width = Weight)\n",
    "\n",
    "limits=plt.axis('off')\n",
    "plt.gcf().set_size_inches(20, 15)\n",
    "\n",
    "lengend_o = mpatches.Patch(color = 'teal', label = 'Outsourced Facilities')\n",
    "lengend_dc = mpatches.Patch(color = 'purple', label = 'Market Zones')\n",
    "\n",
    "ax = plt.subplot(111)\n",
    "ax.legend(loc = 'lower center', handles=[lengend_o, lengend_dc], ncol = 2, borderpad=1)\n",
    "\n",
    "plt.show()"
   ]
  },
  {
   "cell_type": "markdown",
   "id": "neural-hybrid",
   "metadata": {},
   "source": [
    "## Comparing different weights for objective values "
   ]
  },
  {
   "cell_type": "code",
   "execution_count": 100,
   "id": "coral-rider",
   "metadata": {},
   "outputs": [],
   "source": [
    "dictionaries = []\n",
    "for weights in weights_20:\n",
    "    dictionary = {'f1': weights[0], 'f2': weights[1]}\n",
    "    dictionaries.append(dictionary)"
   ]
  },
  {
   "cell_type": "code",
   "execution_count": 101,
   "id": "foster-satellite",
   "metadata": {},
   "outputs": [
    {
     "data": {
      "text/plain": [
       "[{'f1': 0.0, 'f2': 1.0},\n",
       " {'f1': 0.05, 'f2': 0.95},\n",
       " {'f1': 0.1, 'f2': 0.9},\n",
       " {'f1': 0.15, 'f2': 0.85},\n",
       " {'f1': 0.2, 'f2': 0.8},\n",
       " {'f1': 0.25, 'f2': 0.75},\n",
       " {'f1': 0.3, 'f2': 0.7},\n",
       " {'f1': 0.35, 'f2': 0.65},\n",
       " {'f1': 0.4, 'f2': 0.6},\n",
       " {'f1': 0.45, 'f2': 0.55},\n",
       " {'f1': 0.5, 'f2': 0.5},\n",
       " {'f1': 0.55, 'f2': 0.45},\n",
       " {'f1': 0.6, 'f2': 0.4},\n",
       " {'f1': 0.65, 'f2': 0.35},\n",
       " {'f1': 0.7, 'f2': 0.3},\n",
       " {'f1': 0.75, 'f2': 0.25},\n",
       " {'f1': 0.8, 'f2': 0.2},\n",
       " {'f1': 0.85, 'f2': 0.15},\n",
       " {'f1': 0.9, 'f2': 0.1},\n",
       " {'f1': 0.95, 'f2': 0.05},\n",
       " {'f1': 1.0, 'f2': 0.0}]"
      ]
     },
     "execution_count": 101,
     "metadata": {},
     "output_type": "execute_result"
    }
   ],
   "source": [
    "dictionaries"
   ]
  },
  {
   "cell_type": "code",
   "execution_count": 102,
   "id": "dietary-liberia",
   "metadata": {},
   "outputs": [
    {
     "name": "stdout",
     "output_type": "stream",
     "text": [
      "obj val:  0.0\n",
      "obj val:  150.14435077334153\n",
      "obj val:  300.28870154668306\n",
      "obj val:  450.4330523200242\n",
      "obj val:  600.5774030933663\n",
      "obj val:  750.7217538667084\n",
      "obj val:  900.8661046400485\n",
      "obj val:  1051.0104554133902\n",
      "obj val:  1201.1548061867322\n",
      "obj val:  1351.299156960076\n",
      "obj val:  1501.4435077334167\n",
      "obj val:  1651.5878585067576\n",
      "obj val:  1801.732209280097\n",
      "obj val:  1950.4051591996713\n",
      "obj val:  2081.3923960101292\n",
      "obj val:  2204.925989214758\n",
      "obj val:  2314.077505451172\n",
      "obj val:  2409.0776605783503\n",
      "obj val:  2489.7156200112377\n",
      "obj val:  2560.650680090276\n",
      "obj val:  2614.4500632218865\n"
     ]
    }
   ],
   "source": [
    "## Configuration 1 \n",
    "p = 0.4\n",
    "rl = 0.99\n",
    "objective_vals = []\n",
    "for Dict in dictionaries:\n",
    "    run_Model(p, rl, Dict)\n",
    "    objective_vals.append([Dict['f1'], Dict['f2'], Cost_dict['f1'], Cost_dict['f2'], Summary_dict[\"OpenMPs\"], Summary_dict[\"OpenDCs\"]])"
   ]
  },
  {
   "cell_type": "code",
   "execution_count": 103,
   "id": "agreed-optics",
   "metadata": {},
   "outputs": [
    {
     "data": {
      "text/html": [
       "<div>\n",
       "<style scoped>\n",
       "    .dataframe tbody tr th:only-of-type {\n",
       "        vertical-align: middle;\n",
       "    }\n",
       "\n",
       "    .dataframe tbody tr th {\n",
       "        vertical-align: top;\n",
       "    }\n",
       "\n",
       "    .dataframe thead th {\n",
       "        text-align: right;\n",
       "    }\n",
       "</style>\n",
       "<table border=\"1\" class=\"dataframe\">\n",
       "  <thead>\n",
       "    <tr style=\"text-align: right;\">\n",
       "      <th></th>\n",
       "      <th>f1 weight</th>\n",
       "      <th>f2 weight</th>\n",
       "      <th>f1</th>\n",
       "      <th>f2</th>\n",
       "      <th>Plants</th>\n",
       "      <th>DCs</th>\n",
       "    </tr>\n",
       "  </thead>\n",
       "  <tbody>\n",
       "    <tr>\n",
       "      <th>0</th>\n",
       "      <td>0.00</td>\n",
       "      <td>1.00</td>\n",
       "      <td>2686368.76</td>\n",
       "      <td>0.0</td>\n",
       "      <td>2.0</td>\n",
       "      <td>3.0</td>\n",
       "    </tr>\n",
       "    <tr>\n",
       "      <th>1</th>\n",
       "      <td>0.05</td>\n",
       "      <td>0.95</td>\n",
       "      <td>3002.90</td>\n",
       "      <td>0.0</td>\n",
       "      <td>2.0</td>\n",
       "      <td>3.0</td>\n",
       "    </tr>\n",
       "    <tr>\n",
       "      <th>2</th>\n",
       "      <td>0.10</td>\n",
       "      <td>0.90</td>\n",
       "      <td>3002.90</td>\n",
       "      <td>0.0</td>\n",
       "      <td>2.0</td>\n",
       "      <td>3.0</td>\n",
       "    </tr>\n",
       "    <tr>\n",
       "      <th>3</th>\n",
       "      <td>0.15</td>\n",
       "      <td>0.85</td>\n",
       "      <td>3002.90</td>\n",
       "      <td>0.0</td>\n",
       "      <td>2.0</td>\n",
       "      <td>3.0</td>\n",
       "    </tr>\n",
       "    <tr>\n",
       "      <th>4</th>\n",
       "      <td>0.20</td>\n",
       "      <td>0.80</td>\n",
       "      <td>3002.90</td>\n",
       "      <td>0.0</td>\n",
       "      <td>2.0</td>\n",
       "      <td>3.0</td>\n",
       "    </tr>\n",
       "    <tr>\n",
       "      <th>5</th>\n",
       "      <td>0.25</td>\n",
       "      <td>0.75</td>\n",
       "      <td>3002.90</td>\n",
       "      <td>0.0</td>\n",
       "      <td>2.0</td>\n",
       "      <td>3.0</td>\n",
       "    </tr>\n",
       "    <tr>\n",
       "      <th>6</th>\n",
       "      <td>0.30</td>\n",
       "      <td>0.70</td>\n",
       "      <td>3002.90</td>\n",
       "      <td>0.0</td>\n",
       "      <td>2.0</td>\n",
       "      <td>3.0</td>\n",
       "    </tr>\n",
       "    <tr>\n",
       "      <th>7</th>\n",
       "      <td>0.35</td>\n",
       "      <td>0.65</td>\n",
       "      <td>3002.90</td>\n",
       "      <td>0.0</td>\n",
       "      <td>2.0</td>\n",
       "      <td>3.0</td>\n",
       "    </tr>\n",
       "    <tr>\n",
       "      <th>8</th>\n",
       "      <td>0.40</td>\n",
       "      <td>0.60</td>\n",
       "      <td>3002.90</td>\n",
       "      <td>0.0</td>\n",
       "      <td>2.0</td>\n",
       "      <td>3.0</td>\n",
       "    </tr>\n",
       "    <tr>\n",
       "      <th>9</th>\n",
       "      <td>0.45</td>\n",
       "      <td>0.55</td>\n",
       "      <td>3002.90</td>\n",
       "      <td>0.0</td>\n",
       "      <td>2.0</td>\n",
       "      <td>3.0</td>\n",
       "    </tr>\n",
       "    <tr>\n",
       "      <th>10</th>\n",
       "      <td>0.50</td>\n",
       "      <td>0.50</td>\n",
       "      <td>3002.90</td>\n",
       "      <td>0.0</td>\n",
       "      <td>2.0</td>\n",
       "      <td>3.0</td>\n",
       "    </tr>\n",
       "    <tr>\n",
       "      <th>11</th>\n",
       "      <td>0.55</td>\n",
       "      <td>0.45</td>\n",
       "      <td>3002.90</td>\n",
       "      <td>0.0</td>\n",
       "      <td>2.0</td>\n",
       "      <td>3.0</td>\n",
       "    </tr>\n",
       "    <tr>\n",
       "      <th>12</th>\n",
       "      <td>0.60</td>\n",
       "      <td>0.40</td>\n",
       "      <td>3002.90</td>\n",
       "      <td>0.0</td>\n",
       "      <td>2.0</td>\n",
       "      <td>3.0</td>\n",
       "    </tr>\n",
       "    <tr>\n",
       "      <th>13</th>\n",
       "      <td>0.65</td>\n",
       "      <td>0.35</td>\n",
       "      <td>2937.33</td>\n",
       "      <td>117.0</td>\n",
       "      <td>2.0</td>\n",
       "      <td>3.0</td>\n",
       "    </tr>\n",
       "    <tr>\n",
       "      <th>14</th>\n",
       "      <td>0.70</td>\n",
       "      <td>0.30</td>\n",
       "      <td>2855.57</td>\n",
       "      <td>275.0</td>\n",
       "      <td>2.0</td>\n",
       "      <td>3.0</td>\n",
       "    </tr>\n",
       "    <tr>\n",
       "      <th>15</th>\n",
       "      <td>0.75</td>\n",
       "      <td>0.25</td>\n",
       "      <td>2790.81</td>\n",
       "      <td>447.0</td>\n",
       "      <td>2.0</td>\n",
       "      <td>3.0</td>\n",
       "    </tr>\n",
       "    <tr>\n",
       "      <th>16</th>\n",
       "      <td>0.80</td>\n",
       "      <td>0.20</td>\n",
       "      <td>2727.19</td>\n",
       "      <td>661.0</td>\n",
       "      <td>2.0</td>\n",
       "      <td>3.0</td>\n",
       "    </tr>\n",
       "    <tr>\n",
       "      <th>17</th>\n",
       "      <td>0.85</td>\n",
       "      <td>0.15</td>\n",
       "      <td>2673.00</td>\n",
       "      <td>913.0</td>\n",
       "      <td>2.0</td>\n",
       "      <td>3.0</td>\n",
       "    </tr>\n",
       "    <tr>\n",
       "      <th>18</th>\n",
       "      <td>0.90</td>\n",
       "      <td>0.10</td>\n",
       "      <td>2645.19</td>\n",
       "      <td>1090.0</td>\n",
       "      <td>2.0</td>\n",
       "      <td>3.0</td>\n",
       "    </tr>\n",
       "    <tr>\n",
       "      <th>19</th>\n",
       "      <td>0.95</td>\n",
       "      <td>0.05</td>\n",
       "      <td>2623.29</td>\n",
       "      <td>1370.0</td>\n",
       "      <td>2.0</td>\n",
       "      <td>3.0</td>\n",
       "    </tr>\n",
       "    <tr>\n",
       "      <th>20</th>\n",
       "      <td>1.00</td>\n",
       "      <td>0.00</td>\n",
       "      <td>2614.38</td>\n",
       "      <td>5385.0</td>\n",
       "      <td>2.0</td>\n",
       "      <td>3.0</td>\n",
       "    </tr>\n",
       "  </tbody>\n",
       "</table>\n",
       "</div>"
      ],
      "text/plain": [
       "    f1 weight  f2 weight          f1      f2  Plants  DCs\n",
       "0        0.00       1.00  2686368.76     0.0     2.0  3.0\n",
       "1        0.05       0.95     3002.90     0.0     2.0  3.0\n",
       "2        0.10       0.90     3002.90     0.0     2.0  3.0\n",
       "3        0.15       0.85     3002.90     0.0     2.0  3.0\n",
       "4        0.20       0.80     3002.90     0.0     2.0  3.0\n",
       "5        0.25       0.75     3002.90     0.0     2.0  3.0\n",
       "6        0.30       0.70     3002.90     0.0     2.0  3.0\n",
       "7        0.35       0.65     3002.90     0.0     2.0  3.0\n",
       "8        0.40       0.60     3002.90     0.0     2.0  3.0\n",
       "9        0.45       0.55     3002.90     0.0     2.0  3.0\n",
       "10       0.50       0.50     3002.90     0.0     2.0  3.0\n",
       "11       0.55       0.45     3002.90     0.0     2.0  3.0\n",
       "12       0.60       0.40     3002.90     0.0     2.0  3.0\n",
       "13       0.65       0.35     2937.33   117.0     2.0  3.0\n",
       "14       0.70       0.30     2855.57   275.0     2.0  3.0\n",
       "15       0.75       0.25     2790.81   447.0     2.0  3.0\n",
       "16       0.80       0.20     2727.19   661.0     2.0  3.0\n",
       "17       0.85       0.15     2673.00   913.0     2.0  3.0\n",
       "18       0.90       0.10     2645.19  1090.0     2.0  3.0\n",
       "19       0.95       0.05     2623.29  1370.0     2.0  3.0\n",
       "20       1.00       0.00     2614.38  5385.0     2.0  3.0"
      ]
     },
     "execution_count": 103,
     "metadata": {},
     "output_type": "execute_result"
    }
   ],
   "source": [
    "df_1 = pd.DataFrame((objective_vals), columns = [\"f1 weight\", \"f2 weight\", \"f1\", \"f2\", \"Plants\", \"DCs\"])\n",
    "df_1"
   ]
  },
  {
   "cell_type": "code",
   "execution_count": 104,
   "id": "wicked-rouge",
   "metadata": {},
   "outputs": [],
   "source": [
    "f2_1 = list(df_1['f2'])\n",
    "f1_1 = list(df_1['f1'])"
   ]
  },
  {
   "cell_type": "code",
   "execution_count": 107,
   "id": "appropriate-geography",
   "metadata": {},
   "outputs": [
    {
     "data": {
      "image/png": "[encoded data removed]",
      "text/plain": [
       "<Figure size 432x288 with 1 Axes>"
      ]
     },
     "metadata": {
      "needs_background": "light"
     },
     "output_type": "display_data"
    }
   ],
   "source": [
    "plt.scatter(f2_1[1:], f1_1[1:])\n",
    "plt.show()"
   ]
  },
  {
   "cell_type": "code",
   "execution_count": 108,
   "id": "historical-surveillance",
   "metadata": {},
   "outputs": [
    {
     "name": "stdout",
     "output_type": "stream",
     "text": [
      "obj val:  0.0\n",
      "obj val:  146.37752489085193\n",
      "obj val:  292.75504978170386\n",
      "obj val:  439.132574672556\n",
      "obj val:  585.5100995634077\n",
      "obj val:  731.88762445426\n",
      "obj val:  878.265149345112\n",
      "obj val:  1024.6426742359633\n",
      "obj val:  1171.0201991268152\n",
      "obj val:  1317.3977240176691\n",
      "obj val:  1463.7752489085199\n",
      "obj val:  1610.152773799372\n",
      "obj val:  1756.530298690224\n",
      "obj val:  1902.9078235810762\n",
      "obj val:  2045.1954266126957\n",
      "obj val:  2173.6978070432897\n",
      "obj val:  2293.5976318704024\n",
      "obj val:  2397.081250226069\n",
      "obj val:  2482.374741437322\n",
      "obj val:  2556.97494289129\n",
      "obj val:  2614.4500632218865\n"
     ]
    }
   ],
   "source": [
    "## Configuration 2 \n",
    "p = 0.4\n",
    "rl = 0.9\n",
    "objective_vals = []\n",
    "for Dict in dictionaries:\n",
    "    run_Model(p, rl, Dict)\n",
    "    objective_vals.append([Dict['f1'], Dict['f2'], Cost_dict['f1'], Cost_dict['f2'], Summary_dict[\"OpenMPs\"], Summary_dict[\"OpenDCs\"]])"
   ]
  },
  {
   "cell_type": "code",
   "execution_count": 109,
   "id": "administrative-result",
   "metadata": {},
   "outputs": [
    {
     "data": {
      "text/html": [
       "<div>\n",
       "<style scoped>\n",
       "    .dataframe tbody tr th:only-of-type {\n",
       "        vertical-align: middle;\n",
       "    }\n",
       "\n",
       "    .dataframe tbody tr th {\n",
       "        vertical-align: top;\n",
       "    }\n",
       "\n",
       "    .dataframe thead th {\n",
       "        text-align: right;\n",
       "    }\n",
       "</style>\n",
       "<table border=\"1\" class=\"dataframe\">\n",
       "  <thead>\n",
       "    <tr style=\"text-align: right;\">\n",
       "      <th></th>\n",
       "      <th>f1 weight</th>\n",
       "      <th>f2 weight</th>\n",
       "      <th>f1</th>\n",
       "      <th>f2</th>\n",
       "      <th>Plants</th>\n",
       "      <th>DCs</th>\n",
       "    </tr>\n",
       "  </thead>\n",
       "  <tbody>\n",
       "    <tr>\n",
       "      <th>0</th>\n",
       "      <td>0.00</td>\n",
       "      <td>1.00</td>\n",
       "      <td>2906283.91</td>\n",
       "      <td>0.0</td>\n",
       "      <td>2.0</td>\n",
       "      <td>3.0</td>\n",
       "    </tr>\n",
       "    <tr>\n",
       "      <th>1</th>\n",
       "      <td>0.05</td>\n",
       "      <td>0.95</td>\n",
       "      <td>2927.43</td>\n",
       "      <td>0.0</td>\n",
       "      <td>2.0</td>\n",
       "      <td>3.0</td>\n",
       "    </tr>\n",
       "    <tr>\n",
       "      <th>2</th>\n",
       "      <td>0.10</td>\n",
       "      <td>0.90</td>\n",
       "      <td>2927.48</td>\n",
       "      <td>0.0</td>\n",
       "      <td>2.0</td>\n",
       "      <td>3.0</td>\n",
       "    </tr>\n",
       "    <tr>\n",
       "      <th>3</th>\n",
       "      <td>0.15</td>\n",
       "      <td>0.85</td>\n",
       "      <td>2927.43</td>\n",
       "      <td>0.0</td>\n",
       "      <td>2.0</td>\n",
       "      <td>3.0</td>\n",
       "    </tr>\n",
       "    <tr>\n",
       "      <th>4</th>\n",
       "      <td>0.20</td>\n",
       "      <td>0.80</td>\n",
       "      <td>2927.48</td>\n",
       "      <td>0.0</td>\n",
       "      <td>2.0</td>\n",
       "      <td>3.0</td>\n",
       "    </tr>\n",
       "    <tr>\n",
       "      <th>5</th>\n",
       "      <td>0.25</td>\n",
       "      <td>0.75</td>\n",
       "      <td>2927.43</td>\n",
       "      <td>0.0</td>\n",
       "      <td>2.0</td>\n",
       "      <td>3.0</td>\n",
       "    </tr>\n",
       "    <tr>\n",
       "      <th>6</th>\n",
       "      <td>0.30</td>\n",
       "      <td>0.70</td>\n",
       "      <td>2927.43</td>\n",
       "      <td>0.0</td>\n",
       "      <td>2.0</td>\n",
       "      <td>3.0</td>\n",
       "    </tr>\n",
       "    <tr>\n",
       "      <th>7</th>\n",
       "      <td>0.35</td>\n",
       "      <td>0.65</td>\n",
       "      <td>2927.48</td>\n",
       "      <td>0.0</td>\n",
       "      <td>2.0</td>\n",
       "      <td>3.0</td>\n",
       "    </tr>\n",
       "    <tr>\n",
       "      <th>8</th>\n",
       "      <td>0.40</td>\n",
       "      <td>0.60</td>\n",
       "      <td>2927.43</td>\n",
       "      <td>0.0</td>\n",
       "      <td>2.0</td>\n",
       "      <td>3.0</td>\n",
       "    </tr>\n",
       "    <tr>\n",
       "      <th>9</th>\n",
       "      <td>0.45</td>\n",
       "      <td>0.55</td>\n",
       "      <td>2927.48</td>\n",
       "      <td>0.0</td>\n",
       "      <td>2.0</td>\n",
       "      <td>3.0</td>\n",
       "    </tr>\n",
       "    <tr>\n",
       "      <th>10</th>\n",
       "      <td>0.50</td>\n",
       "      <td>0.50</td>\n",
       "      <td>2927.43</td>\n",
       "      <td>0.0</td>\n",
       "      <td>2.0</td>\n",
       "      <td>3.0</td>\n",
       "    </tr>\n",
       "    <tr>\n",
       "      <th>11</th>\n",
       "      <td>0.55</td>\n",
       "      <td>0.45</td>\n",
       "      <td>2927.43</td>\n",
       "      <td>0.0</td>\n",
       "      <td>2.0</td>\n",
       "      <td>3.0</td>\n",
       "    </tr>\n",
       "    <tr>\n",
       "      <th>12</th>\n",
       "      <td>0.60</td>\n",
       "      <td>0.40</td>\n",
       "      <td>2927.48</td>\n",
       "      <td>0.0</td>\n",
       "      <td>2.0</td>\n",
       "      <td>3.0</td>\n",
       "    </tr>\n",
       "    <tr>\n",
       "      <th>13</th>\n",
       "      <td>0.65</td>\n",
       "      <td>0.35</td>\n",
       "      <td>2927.43</td>\n",
       "      <td>0.0</td>\n",
       "      <td>2.0</td>\n",
       "      <td>3.0</td>\n",
       "    </tr>\n",
       "    <tr>\n",
       "      <th>14</th>\n",
       "      <td>0.70</td>\n",
       "      <td>0.30</td>\n",
       "      <td>2828.86</td>\n",
       "      <td>216.0</td>\n",
       "      <td>2.0</td>\n",
       "      <td>3.0</td>\n",
       "    </tr>\n",
       "    <tr>\n",
       "      <th>15</th>\n",
       "      <td>0.75</td>\n",
       "      <td>0.25</td>\n",
       "      <td>2806.33</td>\n",
       "      <td>275.0</td>\n",
       "      <td>2.0</td>\n",
       "      <td>3.0</td>\n",
       "    </tr>\n",
       "    <tr>\n",
       "      <th>16</th>\n",
       "      <td>0.80</td>\n",
       "      <td>0.20</td>\n",
       "      <td>2754.10</td>\n",
       "      <td>451.0</td>\n",
       "      <td>2.0</td>\n",
       "      <td>3.0</td>\n",
       "    </tr>\n",
       "    <tr>\n",
       "      <th>17</th>\n",
       "      <td>0.85</td>\n",
       "      <td>0.15</td>\n",
       "      <td>2681.05</td>\n",
       "      <td>788.0</td>\n",
       "      <td>2.0</td>\n",
       "      <td>3.0</td>\n",
       "    </tr>\n",
       "    <tr>\n",
       "      <th>18</th>\n",
       "      <td>0.90</td>\n",
       "      <td>0.10</td>\n",
       "      <td>2640.71</td>\n",
       "      <td>1057.0</td>\n",
       "      <td>2.0</td>\n",
       "      <td>3.0</td>\n",
       "    </tr>\n",
       "    <tr>\n",
       "      <th>19</th>\n",
       "      <td>0.95</td>\n",
       "      <td>0.05</td>\n",
       "      <td>2624.24</td>\n",
       "      <td>1278.0</td>\n",
       "      <td>2.0</td>\n",
       "      <td>3.0</td>\n",
       "    </tr>\n",
       "    <tr>\n",
       "      <th>20</th>\n",
       "      <td>1.00</td>\n",
       "      <td>0.00</td>\n",
       "      <td>2614.38</td>\n",
       "      <td>5385.0</td>\n",
       "      <td>2.0</td>\n",
       "      <td>3.0</td>\n",
       "    </tr>\n",
       "  </tbody>\n",
       "</table>\n",
       "</div>"
      ],
      "text/plain": [
       "    f1 weight  f2 weight          f1      f2  Plants  DCs\n",
       "0        0.00       1.00  2906283.91     0.0     2.0  3.0\n",
       "1        0.05       0.95     2927.43     0.0     2.0  3.0\n",
       "2        0.10       0.90     2927.48     0.0     2.0  3.0\n",
       "3        0.15       0.85     2927.43     0.0     2.0  3.0\n",
       "4        0.20       0.80     2927.48     0.0     2.0  3.0\n",
       "5        0.25       0.75     2927.43     0.0     2.0  3.0\n",
       "6        0.30       0.70     2927.43     0.0     2.0  3.0\n",
       "7        0.35       0.65     2927.48     0.0     2.0  3.0\n",
       "8        0.40       0.60     2927.43     0.0     2.0  3.0\n",
       "9        0.45       0.55     2927.48     0.0     2.0  3.0\n",
       "10       0.50       0.50     2927.43     0.0     2.0  3.0\n",
       "11       0.55       0.45     2927.43     0.0     2.0  3.0\n",
       "12       0.60       0.40     2927.48     0.0     2.0  3.0\n",
       "13       0.65       0.35     2927.43     0.0     2.0  3.0\n",
       "14       0.70       0.30     2828.86   216.0     2.0  3.0\n",
       "15       0.75       0.25     2806.33   275.0     2.0  3.0\n",
       "16       0.80       0.20     2754.10   451.0     2.0  3.0\n",
       "17       0.85       0.15     2681.05   788.0     2.0  3.0\n",
       "18       0.90       0.10     2640.71  1057.0     2.0  3.0\n",
       "19       0.95       0.05     2624.24  1278.0     2.0  3.0\n",
       "20       1.00       0.00     2614.38  5385.0     2.0  3.0"
      ]
     },
     "execution_count": 109,
     "metadata": {},
     "output_type": "execute_result"
    }
   ],
   "source": [
    "df_2 = pd.DataFrame((objective_vals), columns = [\"f1 weight\", \"f2 weight\", \"f1\", \"f2\", \"Plants\", \"DCs\"])\n",
    "df_2"
   ]
  },
  {
   "cell_type": "code",
   "execution_count": 110,
   "id": "unavailable-engagement",
   "metadata": {},
   "outputs": [],
   "source": [
    "f2_2 = list(df_2['f2'])\n",
    "f1_2 = list(df_2['f1'])"
   ]
  },
  {
   "cell_type": "code",
   "execution_count": 111,
   "id": "conscious-watson",
   "metadata": {},
   "outputs": [
    {
     "data": {
      "image/png": "[encoded data removed]",
      "text/plain": [
       "<Figure size 432x288 with 1 Axes>"
      ]
     },
     "metadata": {
      "needs_background": "light"
     },
     "output_type": "display_data"
    }
   ],
   "source": [
    "plt.scatter(f2_2[1:],f1_2[1:])\n",
    "plt.show()"
   ]
  },
  {
   "cell_type": "code",
   "execution_count": 631,
   "id": "going-directory",
   "metadata": {},
   "outputs": [
    {
     "name": "stdout",
     "output_type": "stream",
     "text": [
      "obj val:  0.0\n",
      "obj val:  307.76508132805424\n",
      "obj val:  512.2126353277971\n",
      "obj val:  648.8225191109751\n",
      "obj val:  777.0490731003479\n",
      "obj val:  900.6404968286259\n",
      "obj val:  1022.3305009562547\n",
      "obj val:  1143.9513031715767\n",
      "obj val:  1265.269415146225\n",
      "obj val:  1386.464213909402\n",
      "obj val:  1507.290230922689\n",
      "obj val:  1627.7114244573838\n",
      "obj val:  1747.7176961408838\n",
      "obj val:  1867.1639163800799\n",
      "obj val:  1985.6267863782284\n",
      "obj val:  2103.877748617751\n",
      "obj val:  2222.386212644649\n",
      "obj val:  2328.293148779636\n",
      "obj val:  2415.358866156299\n",
      "obj val:  2488.156457033179\n",
      "obj val:  2546.144583293276\n"
     ]
    }
   ],
   "source": [
    "## Configuration 3\n",
    "p = 0.2\n",
    "rl = 0.85\n",
    "objective_vals = []\n",
    "for Dict in dictionaries:\n",
    "    run_Model(p, rl, Dict)\n",
    "    objective_vals.append([Dict['f1'], Dict['f2'], Cost_dict['f1'], Cost_dict['f2'], Summary_dict[\"OpenMPs\"], Summary_dict[\"OpenDCs\"]])"
   ]
  },
  {
   "cell_type": "code",
   "execution_count": 632,
   "id": "important-mexico",
   "metadata": {},
   "outputs": [
    {
     "data": {
      "text/html": [
       "<div>\n",
       "<style scoped>\n",
       "    .dataframe tbody tr th:only-of-type {\n",
       "        vertical-align: middle;\n",
       "    }\n",
       "\n",
       "    .dataframe tbody tr th {\n",
       "        vertical-align: top;\n",
       "    }\n",
       "\n",
       "    .dataframe thead th {\n",
       "        text-align: right;\n",
       "    }\n",
       "</style>\n",
       "<table border=\"1\" class=\"dataframe\">\n",
       "  <thead>\n",
       "    <tr style=\"text-align: right;\">\n",
       "      <th></th>\n",
       "      <th>f1 weight</th>\n",
       "      <th>f2 weight</th>\n",
       "      <th>f1</th>\n",
       "      <th>f2</th>\n",
       "      <th>Plants</th>\n",
       "      <th>DCs</th>\n",
       "    </tr>\n",
       "  </thead>\n",
       "  <tbody>\n",
       "    <tr>\n",
       "      <th>0</th>\n",
       "      <td>0.00</td>\n",
       "      <td>1.00</td>\n",
       "      <td>147556.95</td>\n",
       "      <td>0.0</td>\n",
       "      <td>2.0</td>\n",
       "      <td>3.0</td>\n",
       "    </tr>\n",
       "    <tr>\n",
       "      <th>1</th>\n",
       "      <td>0.05</td>\n",
       "      <td>0.95</td>\n",
       "      <td>6155.17</td>\n",
       "      <td>0.0</td>\n",
       "      <td>2.0</td>\n",
       "      <td>3.0</td>\n",
       "    </tr>\n",
       "    <tr>\n",
       "      <th>2</th>\n",
       "      <td>0.10</td>\n",
       "      <td>0.90</td>\n",
       "      <td>2973.71</td>\n",
       "      <td>253.0</td>\n",
       "      <td>2.0</td>\n",
       "      <td>3.0</td>\n",
       "    </tr>\n",
       "    <tr>\n",
       "      <th>3</th>\n",
       "      <td>0.15</td>\n",
       "      <td>0.85</td>\n",
       "      <td>2828.64</td>\n",
       "      <td>279.0</td>\n",
       "      <td>2.0</td>\n",
       "      <td>3.0</td>\n",
       "    </tr>\n",
       "    <tr>\n",
       "      <th>4</th>\n",
       "      <td>0.20</td>\n",
       "      <td>0.80</td>\n",
       "      <td>2828.68</td>\n",
       "      <td>279.0</td>\n",
       "      <td>2.0</td>\n",
       "      <td>3.0</td>\n",
       "    </tr>\n",
       "    <tr>\n",
       "      <th>5</th>\n",
       "      <td>0.25</td>\n",
       "      <td>0.75</td>\n",
       "      <td>2726.00</td>\n",
       "      <td>310.0</td>\n",
       "      <td>2.0</td>\n",
       "      <td>3.0</td>\n",
       "    </tr>\n",
       "    <tr>\n",
       "      <th>6</th>\n",
       "      <td>0.30</td>\n",
       "      <td>0.70</td>\n",
       "      <td>2726.00</td>\n",
       "      <td>310.0</td>\n",
       "      <td>2.0</td>\n",
       "      <td>3.0</td>\n",
       "    </tr>\n",
       "    <tr>\n",
       "      <th>7</th>\n",
       "      <td>0.35</td>\n",
       "      <td>0.65</td>\n",
       "      <td>2722.10</td>\n",
       "      <td>310.0</td>\n",
       "      <td>2.0</td>\n",
       "      <td>3.0</td>\n",
       "    </tr>\n",
       "    <tr>\n",
       "      <th>8</th>\n",
       "      <td>0.40</td>\n",
       "      <td>0.60</td>\n",
       "      <td>2720.24</td>\n",
       "      <td>304.0</td>\n",
       "      <td>2.0</td>\n",
       "      <td>3.0</td>\n",
       "    </tr>\n",
       "    <tr>\n",
       "      <th>9</th>\n",
       "      <td>0.45</td>\n",
       "      <td>0.55</td>\n",
       "      <td>2715.33</td>\n",
       "      <td>304.0</td>\n",
       "      <td>2.0</td>\n",
       "      <td>3.0</td>\n",
       "    </tr>\n",
       "    <tr>\n",
       "      <th>10</th>\n",
       "      <td>0.50</td>\n",
       "      <td>0.50</td>\n",
       "      <td>2715.38</td>\n",
       "      <td>304.0</td>\n",
       "      <td>2.0</td>\n",
       "      <td>3.0</td>\n",
       "    </tr>\n",
       "    <tr>\n",
       "      <th>11</th>\n",
       "      <td>0.55</td>\n",
       "      <td>0.45</td>\n",
       "      <td>2707.67</td>\n",
       "      <td>313.0</td>\n",
       "      <td>2.0</td>\n",
       "      <td>3.0</td>\n",
       "    </tr>\n",
       "    <tr>\n",
       "      <th>12</th>\n",
       "      <td>0.60</td>\n",
       "      <td>0.40</td>\n",
       "      <td>2707.67</td>\n",
       "      <td>313.0</td>\n",
       "      <td>2.0</td>\n",
       "      <td>3.0</td>\n",
       "    </tr>\n",
       "    <tr>\n",
       "      <th>13</th>\n",
       "      <td>0.65</td>\n",
       "      <td>0.35</td>\n",
       "      <td>2699.86</td>\n",
       "      <td>321.0</td>\n",
       "      <td>2.0</td>\n",
       "      <td>3.0</td>\n",
       "    </tr>\n",
       "    <tr>\n",
       "      <th>14</th>\n",
       "      <td>0.70</td>\n",
       "      <td>0.30</td>\n",
       "      <td>2695.14</td>\n",
       "      <td>326.0</td>\n",
       "      <td>2.0</td>\n",
       "      <td>3.0</td>\n",
       "    </tr>\n",
       "    <tr>\n",
       "      <th>15</th>\n",
       "      <td>0.75</td>\n",
       "      <td>0.25</td>\n",
       "      <td>2695.10</td>\n",
       "      <td>326.0</td>\n",
       "      <td>2.0</td>\n",
       "      <td>3.0</td>\n",
       "    </tr>\n",
       "    <tr>\n",
       "      <th>16</th>\n",
       "      <td>0.80</td>\n",
       "      <td>0.20</td>\n",
       "      <td>2672.43</td>\n",
       "      <td>407.0</td>\n",
       "      <td>2.0</td>\n",
       "      <td>3.0</td>\n",
       "    </tr>\n",
       "    <tr>\n",
       "      <th>17</th>\n",
       "      <td>0.85</td>\n",
       "      <td>0.15</td>\n",
       "      <td>2623.48</td>\n",
       "      <td>631.0</td>\n",
       "      <td>2.0</td>\n",
       "      <td>3.0</td>\n",
       "    </tr>\n",
       "    <tr>\n",
       "      <th>18</th>\n",
       "      <td>0.90</td>\n",
       "      <td>0.10</td>\n",
       "      <td>2569.24</td>\n",
       "      <td>1010.0</td>\n",
       "      <td>2.0</td>\n",
       "      <td>3.0</td>\n",
       "    </tr>\n",
       "    <tr>\n",
       "      <th>19</th>\n",
       "      <td>0.95</td>\n",
       "      <td>0.05</td>\n",
       "      <td>2553.67</td>\n",
       "      <td>1231.0</td>\n",
       "      <td>2.0</td>\n",
       "      <td>3.0</td>\n",
       "    </tr>\n",
       "    <tr>\n",
       "      <th>20</th>\n",
       "      <td>1.00</td>\n",
       "      <td>0.00</td>\n",
       "      <td>2546.14</td>\n",
       "      <td>5310.0</td>\n",
       "      <td>2.0</td>\n",
       "      <td>3.0</td>\n",
       "    </tr>\n",
       "  </tbody>\n",
       "</table>\n",
       "</div>"
      ],
      "text/plain": [
       "    f1 weight  f2 weight         f1      f2  Plants  DCs\n",
       "0        0.00       1.00  147556.95     0.0     2.0  3.0\n",
       "1        0.05       0.95    6155.17     0.0     2.0  3.0\n",
       "2        0.10       0.90    2973.71   253.0     2.0  3.0\n",
       "3        0.15       0.85    2828.64   279.0     2.0  3.0\n",
       "4        0.20       0.80    2828.68   279.0     2.0  3.0\n",
       "5        0.25       0.75    2726.00   310.0     2.0  3.0\n",
       "6        0.30       0.70    2726.00   310.0     2.0  3.0\n",
       "7        0.35       0.65    2722.10   310.0     2.0  3.0\n",
       "8        0.40       0.60    2720.24   304.0     2.0  3.0\n",
       "9        0.45       0.55    2715.33   304.0     2.0  3.0\n",
       "10       0.50       0.50    2715.38   304.0     2.0  3.0\n",
       "11       0.55       0.45    2707.67   313.0     2.0  3.0\n",
       "12       0.60       0.40    2707.67   313.0     2.0  3.0\n",
       "13       0.65       0.35    2699.86   321.0     2.0  3.0\n",
       "14       0.70       0.30    2695.14   326.0     2.0  3.0\n",
       "15       0.75       0.25    2695.10   326.0     2.0  3.0\n",
       "16       0.80       0.20    2672.43   407.0     2.0  3.0\n",
       "17       0.85       0.15    2623.48   631.0     2.0  3.0\n",
       "18       0.90       0.10    2569.24  1010.0     2.0  3.0\n",
       "19       0.95       0.05    2553.67  1231.0     2.0  3.0\n",
       "20       1.00       0.00    2546.14  5310.0     2.0  3.0"
      ]
     },
     "execution_count": 632,
     "metadata": {},
     "output_type": "execute_result"
    }
   ],
   "source": [
    "df_3 = pd.DataFrame((objective_vals), columns = [\"f1 weight\", \"f2 weight\", \"f1\", \"f2\", \"Plants\", \"DCs\"])\n",
    "df_3"
   ]
  },
  {
   "cell_type": "code",
   "execution_count": 636,
   "id": "strong-freedom",
   "metadata": {},
   "outputs": [],
   "source": [
    "f2_3 = list(df_3['f2'])\n",
    "f1_3 = list(df_3['f1'])"
   ]
  },
  {
   "cell_type": "code",
   "execution_count": 681,
   "id": "classical-transparency",
   "metadata": {},
   "outputs": [
    {
     "data": {
      "image/png": "[encoded data removed]",
      "text/plain": [
       "<Figure size 432x288 with 1 Axes>"
      ]
     },
     "metadata": {
      "needs_background": "light"
     },
     "output_type": "display_data"
    }
   ],
   "source": [
    "plt.scatter(f2_3[1:], f1_3[1:])\n",
    "plt.show()"
   ]
  },
  {
   "cell_type": "code",
   "execution_count": 638,
   "id": "amazing-encounter",
   "metadata": {},
   "outputs": [
    {
     "data": {
      "image/png": "[encoded data removed]",
      "text/plain": [
       "<Figure size 432x288 with 1 Axes>"
      ]
     },
     "metadata": {
      "needs_background": "light"
     },
     "output_type": "display_data"
    }
   ],
   "source": [
    "fig = plt.figure()\n",
    "ax1 = fig.add_subplot(111)\n",
    "\n",
    "ax1.scatter(f2_1[1:], f1_1[1:], s=10, c='b', marker=\"o\", label='p =0.2, gamma = 0.99')\n",
    "ax1.scatter(f2_2[1:], f1_2[1:], s=10, c='r', marker=\"o\", label='p = 0.2, gamma = 0.9')\n",
    "ax1.scatter(f2_3[1:], f1_3[1:], s=10, c='g', marker=\"o\", label='p = 0.2, gamma = 0.85')\n",
    "\n",
    "plt.legend(loc='upper right');\n",
    "plt.show()"
   ]
  },
  {
   "cell_type": "code",
   "execution_count": 150,
   "id": "indie-given",
   "metadata": {},
   "outputs": [
    {
     "data": {
      "text/plain": [
       "array([120.84886035,  59.74492599])"
      ]
     },
     "execution_count": 150,
     "metadata": {},
     "output_type": "execute_result"
    }
   ],
   "source": [
    "Yij.sum(axis=1)"
   ]
  },
  {
   "cell_type": "code",
   "execution_count": null,
   "id": "collect-token",
   "metadata": {},
   "outputs": [],
   "source": []
  },
  {
   "cell_type": "code",
   "execution_count": null,
   "id": "royal-chassis",
   "metadata": {},
   "outputs": [],
   "source": []
  }
 ],
 "metadata": {
  "kernelspec": {
   "display_name": "Python 3",
   "language": "python",
   "name": "python3"
  },
  "language_info": {
   "codemirror_mode": {
    "name": "ipython",
    "version": 3
   },
   "file_extension": ".py",
   "mimetype": "text/x-python",
   "name": "python",
   "nbconvert_exporter": "python",
   "pygments_lexer": "ipython3",
   "version": "3.7.3"
  }
 },
 "nbformat": 4,
 "nbformat_minor": 5
}
